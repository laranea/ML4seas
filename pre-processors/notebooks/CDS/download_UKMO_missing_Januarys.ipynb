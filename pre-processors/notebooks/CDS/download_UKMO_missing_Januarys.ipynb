{
 "cells": [
  {
   "cell_type": "code",
   "execution_count": 10,
   "metadata": {},
   "outputs": [],
   "source": [
    "import cdsapi\n",
    "\n",
    "c = cdsapi.Client()"
   ]
  },
  {
   "cell_type": "code",
   "execution_count": 11,
   "metadata": {},
   "outputs": [],
   "source": [
    "year = 1993"
   ]
  },
  {
   "cell_type": "code",
   "execution_count": 13,
   "metadata": {},
   "outputs": [],
   "source": [
    "# c.retrieve(\n",
    "#     'seasonal-monthly-single-levels',\n",
    "#     {\n",
    "#         'originating_centre': 'ukmo',\n",
    "#         'variable': 'total_precipitation',\n",
    "#         'product_type': 'monthly_mean',\n",
    "#         'year': str(year),\n",
    "#         'month': '01',\n",
    "#         'leadtime_month': [\n",
    "#             '2', '3', '4',\n",
    "#             '5', '6',\n",
    "#         ],\n",
    "#         'format': 'grib',\n",
    "#     },\n",
    "#     f'/home/nicolasf/research/Smart_Ideas/data/GCMs/GRIB/UKMO/PRECIP/UKMO_system_12_13_14_PRECIP_{year}_01.grib')"
   ]
  },
  {
   "cell_type": "code",
   "execution_count": 9,
   "metadata": {},
   "outputs": [
    {
     "name": "stderr",
     "output_type": "stream",
     "text": [
      "2019-12-20 11:22:33,562 INFO Sending request to https://cds.climate.copernicus.eu/api/v2/resources/seasonal-monthly-single-levels\n",
      "2019-12-20 11:22:34,741 INFO Request is queued\n",
      "2019-12-20 11:22:36,023 INFO Request is running\n",
      "2019-12-20 11:22:43,990 INFO Request is completed\n",
      "2019-12-20 11:22:43,992 INFO Downloading http://136.156.133.37/cache-compute-0011/cache/data7/adaptor.mars.external-1576794154.9574883-30440-3-4daa80c6-6b78-4ff4-a2d8-b8632c6de3be.grib to /home/nicolasf/research/Smart_Ideas/data/GCMs/GRIB/UKMO/T2M/UKMO_system_12_13_14_T2M_1996_01.grib (70.3M)\n",
      "2019-12-20 11:25:21,135 INFO Download rate 458K/s   \n",
      "2019-12-20 11:25:22,597 INFO Sending request to https://cds.climate.copernicus.eu/api/v2/resources/seasonal-monthly-single-levels\n",
      "2019-12-20 11:25:23,052 INFO Request is queued\n",
      "2019-12-20 11:25:24,331 INFO Request is running\n",
      "2019-12-20 11:25:28,644 INFO Request is completed\n",
      "2019-12-20 11:25:28,645 INFO Downloading http://136.156.133.36/cache-compute-0010/cache/data3/adaptor.mars.external-1576794323.0622761-19368-37-d9f50523-ba2a-4453-b9c1-c18a502ad180.grib to /home/nicolasf/research/Smart_Ideas/data/GCMs/GRIB/UKMO/T2M/UKMO_system_12_13_14_T2M_1997_01.grib (70.3M)\n",
      "2019-12-20 11:28:05,717 INFO Download rate 458.2K/s \n",
      "2019-12-20 11:28:06,881 INFO Sending request to https://cds.climate.copernicus.eu/api/v2/resources/seasonal-monthly-single-levels\n",
      "2019-12-20 11:28:07,192 INFO Request is queued\n",
      "2019-12-20 11:28:08,472 INFO Request is running\n",
      "2019-12-20 11:28:12,785 INFO Request is completed\n",
      "2019-12-20 11:28:12,786 INFO Downloading http://136.156.132.105/cache-compute-0000/cache/data5/adaptor.mars.external-1576794487.154771-10867-11-c124500d-9dfb-44a9-906c-d72749b11e9f.grib to /home/nicolasf/research/Smart_Ideas/data/GCMs/GRIB/UKMO/T2M/UKMO_system_12_13_14_T2M_1998_01.grib (70.3M)\n",
      "2019-12-20 11:30:49,935 INFO Download rate 458K/s   \n",
      "2019-12-20 11:30:51,082 INFO Sending request to https://cds.climate.copernicus.eu/api/v2/resources/seasonal-monthly-single-levels\n",
      "2019-12-20 11:30:51,427 INFO Request is queued\n",
      "2019-12-20 11:30:52,704 INFO Request is running\n",
      "2019-12-20 11:30:57,015 INFO Request is completed\n",
      "2019-12-20 11:30:57,017 INFO Downloading http://136.156.133.32/cache-compute-0009/cache/data1/adaptor.mars.external-1576794651.7939754-29354-30-92ca79eb-0614-48ef-9678-f7ef745ffba5.grib to /home/nicolasf/research/Smart_Ideas/data/GCMs/GRIB/UKMO/T2M/UKMO_system_12_13_14_T2M_1999_01.grib (70.3M)\n",
      "2019-12-20 11:33:34,018 INFO Download rate 458.4K/s \n",
      "2019-12-20 11:33:35,119 INFO Sending request to https://cds.climate.copernicus.eu/api/v2/resources/seasonal-monthly-single-levels\n",
      "2019-12-20 11:33:35,510 INFO Request is queued\n",
      "2019-12-20 11:33:44,753 INFO Request is running\n",
      "2019-12-20 11:33:50,096 INFO Request is completed\n",
      "2019-12-20 11:33:50,096 INFO Downloading http://136.156.133.41/cache-compute-0013/cache/data2/adaptor.mars.external-1576794822.7651012-15807-15-0aa30b17-4b61-4037-a959-487e0190a7b8.grib to /home/nicolasf/research/Smart_Ideas/data/GCMs/GRIB/UKMO/T2M/UKMO_system_12_13_14_T2M_2000_01.grib (70.3M)\n",
      "2019-12-20 11:36:27,375 INFO Download rate 457.6K/s \n",
      "2019-12-20 11:36:28,467 INFO Sending request to https://cds.climate.copernicus.eu/api/v2/resources/seasonal-monthly-single-levels\n",
      "2019-12-20 11:36:28,874 INFO Request is queued\n",
      "2019-12-20 11:36:30,159 INFO Request is running\n",
      "2019-12-20 11:36:34,470 INFO Request is completed\n",
      "2019-12-20 11:36:34,472 INFO Downloading http://136.156.133.36/cache-compute-0010/cache/data5/adaptor.mars.external-1576794988.8528478-7963-5-37f64dca-aaf0-4e40-a1d1-2096a906e56c.grib to /home/nicolasf/research/Smart_Ideas/data/GCMs/GRIB/UKMO/T2M/UKMO_system_12_13_14_T2M_2001_01.grib (70.3M)\n",
      "2019-12-20 11:39:12,017 INFO Download rate 456.9K/s \n",
      "2019-12-20 11:39:13,151 INFO Sending request to https://cds.climate.copernicus.eu/api/v2/resources/seasonal-monthly-single-levels\n",
      "2019-12-20 11:39:13,491 INFO Request is queued\n",
      "2019-12-20 11:39:14,769 INFO Request is running\n",
      "2019-12-20 11:39:19,071 INFO Request is completed\n",
      "2019-12-20 11:39:19,072 INFO Downloading http://136.156.132.201/cache-compute-0004/cache/data5/adaptor.mars.external-1576795153.6426823-2600-24-59db3b19-6122-4b35-8a36-61913975150e.grib to /home/nicolasf/research/Smart_Ideas/data/GCMs/GRIB/UKMO/T2M/UKMO_system_12_13_14_T2M_2002_01.grib (70.3M)\n",
      "2019-12-20 11:41:56,272 INFO Download rate 457.9K/s \n",
      "2019-12-20 11:41:57,698 INFO Sending request to https://cds.climate.copernicus.eu/api/v2/resources/seasonal-monthly-single-levels\n",
      "2019-12-20 11:41:58,102 INFO Request is queued\n",
      "2019-12-20 11:41:59,380 INFO Request is running\n",
      "2019-12-20 11:42:03,687 INFO Request is completed\n",
      "2019-12-20 11:42:03,689 INFO Downloading http://136.156.132.210/cache-compute-0005/cache/data1/adaptor.mars.external-1576795318.0943446-23410-18-526000b4-55d5-4cc8-be39-4100fa8309f1.grib to /home/nicolasf/research/Smart_Ideas/data/GCMs/GRIB/UKMO/T2M/UKMO_system_12_13_14_T2M_2003_01.grib (70.3M)\n",
      "2019-12-20 11:44:40,583 INFO Download rate 458.8K/s \n",
      "2019-12-20 11:44:42,288 INFO Sending request to https://cds.climate.copernicus.eu/api/v2/resources/seasonal-monthly-single-levels\n",
      "2019-12-20 11:44:42,915 INFO Request is queued\n",
      "2019-12-20 11:44:44,196 INFO Request is running\n",
      "2019-12-20 11:44:52,161 INFO Request is completed\n",
      "2019-12-20 11:44:52,163 INFO Downloading http://136.156.132.235/cache-compute-0006/cache/data8/adaptor.mars.external-1576795483.069646-26418-34-fe66cefb-a820-43ec-bc44-f6540bc613a2.grib to /home/nicolasf/research/Smart_Ideas/data/GCMs/GRIB/UKMO/T2M/UKMO_system_12_13_14_T2M_2004_01.grib (70.3M)\n",
      "2019-12-20 11:47:31,648 INFO Download rate 451.3K/s \n",
      "2019-12-20 11:47:32,915 INFO Sending request to https://cds.climate.copernicus.eu/api/v2/resources/seasonal-monthly-single-levels\n",
      "2019-12-20 11:47:33,264 INFO Request is queued\n",
      "2019-12-20 11:47:34,542 INFO Request is running\n",
      "2019-12-20 11:47:42,709 INFO Request is completed\n",
      "2019-12-20 11:47:42,711 INFO Downloading http://136.156.132.236/cache-compute-0007/cache/data4/adaptor.mars.external-1576795653.260174-28104-23-b0fb5d08-8ed1-477b-aeeb-8c237a89283e.grib to /home/nicolasf/research/Smart_Ideas/data/GCMs/GRIB/UKMO/T2M/UKMO_system_12_13_14_T2M_2005_01.grib (70.3M)\n",
      "2019-12-20 11:50:20,046 INFO Download rate 457.5K/s \n",
      "2019-12-20 11:50:21,167 INFO Sending request to https://cds.climate.copernicus.eu/api/v2/resources/seasonal-monthly-single-levels\n",
      "2019-12-20 11:50:21,621 INFO Request is queued\n",
      "2019-12-20 11:50:22,898 INFO Request is running\n",
      "2019-12-20 11:50:27,213 INFO Request is completed\n",
      "2019-12-20 11:50:27,215 INFO Downloading http://136.156.132.210/cache-compute-0005/cache/data9/adaptor.mars.external-1576795821.6481557-23410-33-e0b76de5-5f92-480d-be72-c655185c515d.grib to /home/nicolasf/research/Smart_Ideas/data/GCMs/GRIB/UKMO/T2M/UKMO_system_12_13_14_T2M_2006_01.grib (70.3M)\n",
      "2019-12-20 11:53:04,121 INFO Download rate 458.7K/s \n"
     ]
    }
   ],
   "source": [
    "for year in range(1996, 2006 + 1): \n",
    "\n",
    "    c.retrieve(\n",
    "        'seasonal-monthly-single-levels',\n",
    "        {\n",
    "            'originating_centre': 'ukmo',\n",
    "            'variable': '2m_temperature',\n",
    "            'product_type': 'monthly_mean',\n",
    "            'year': str(year),\n",
    "            'month': '01',\n",
    "            'leadtime_month': [\n",
    "                '2', '3', '4',\n",
    "                '5', '6',\n",
    "            ],\n",
    "            'format': 'grib',\n",
    "        },\n",
    "        f'/home/nicolasf/research/Smart_Ideas/data/GCMs/GRIB/UKMO/T2M/UKMO_system_12_13_14_T2M_{year}_01.grib')"
   ]
  },
  {
   "cell_type": "code",
   "execution_count": null,
   "metadata": {},
   "outputs": [],
   "source": []
  }
 ],
 "metadata": {
  "history": [
   {
    "cell": {
     "executionCount": 1,
     "executionEventId": "96e68749-b3da-47ce-984f-498ee0ea0ae3",
     "hasError": false,
     "id": "b7ae6ca8-db69-414f-b3a0-13d2020c9a8b",
     "outputs": [],
     "persistentId": "c48b8b7b-14aa-47c8-9813-39c8deae7643",
     "text": "import cdsapi"
    },
    "executionTime": "2019-12-13T02:42:33.099Z"
   },
   {
    "cell": {
     "executionCount": 2,
     "executionEventId": "c0fbb128-fe40-4611-8085-5d09aa05d29d",
     "hasError": false,
     "id": "c7f330a3-eb14-4971-9185-34df083443f7",
     "outputs": [],
     "persistentId": "55fdb241-92b2-4f58-8596-ce09708e2fd2",
     "text": "\nc = cdsapi.Client()"
    },
    "executionTime": "2019-12-13T02:42:39.007Z"
   },
   {
    "cell": {
     "executionCount": 3,
     "executionEventId": "1b410286-3026-4f40-9f6f-3d40e7d41abf",
     "hasError": false,
     "id": "ad8cb4aa-55a6-4586-9242-03115bf1a77b",
     "outputs": [
      {
       "name": "stderr",
       "output_type": "stream",
       "text": "2019-12-13 15:43:51,814 INFO Sending request to https://cds.climate.copernicus.eu/api/v2/resources/seasonal-monthly-single-levels\n2019-12-13 15:43:54,550 INFO Request is queued\n2019-12-13 15:43:57,930 INFO Request is running\n2019-12-13 15:44:17,999 INFO Request is completed\n2019-12-13 15:44:18,001 INFO Downloading http://136.156.132.153/cache-compute-0002/cache/data3/adaptor.mars.external-1576205036.7695878-10038-3-f78e6b02-c674-4bf5-b2b7-ba658334b5f0.grib to download.grib (95.9M)\n2019-12-13 15:45:50,384 INFO Download rate 1M/s     \n"
      },
      {
       "data": {
        "text/plain": "Result(content_length=100560000,content_type=application/x-grib,location=http://136.156.132.153/cache-compute-0002/cache/data3/adaptor.mars.external-1576205036.7695878-10038-3-f78e6b02-c674-4bf5-b2b7-ba658334b5f0.grib)"
       },
       "execution_count": 3,
       "metadata": {},
       "output_type": "execute_result"
      }
     ],
     "persistentId": "f3b95750-edff-4d5e-a33e-54961fb0ddb6",
     "text": "c.retrieve(\n    'seasonal-monthly-single-levels',\n    {\n        'originating_centre': 'ukmo',\n        'system': ['12','13','14'],\n        'variable': 'sea_surface_temperature',\n        'product_type': 'monthly_mean',\n        'year': '2017',\n        'month': ['01', '02', '03', '04','05','06', '07', '08', '09', '10', '11','12'],\n        'leadtime_month': [\n            '2', '3', '4',\n            '5', '6',\n        ],\n        'format': 'grib',\n    },\n    'download.grib')"
    },
    "executionTime": "2019-12-13T02:45:50.395Z"
   },
   {
    "cell": {
     "executionCount": 4,
     "executionEventId": "69ce6204-6963-4016-875d-38ff244f3b0e",
     "hasError": false,
     "id": "b7ae6ca8-db69-414f-b3a0-13d2020c9a8b",
     "outputs": [],
     "persistentId": "c48b8b7b-14aa-47c8-9813-39c8deae7643",
     "text": "import cdsapi"
    },
    "executionTime": "2019-12-13T02:46:30.404Z"
   },
   {
    "cell": {
     "executionCount": 5,
     "executionEventId": "5d07bfcd-b681-4e4e-94cc-135e1d5f95dd",
     "hasError": false,
     "id": "c7f330a3-eb14-4971-9185-34df083443f7",
     "outputs": [],
     "persistentId": "55fdb241-92b2-4f58-8596-ce09708e2fd2",
     "text": "c = cdsapi.Client()"
    },
    "executionTime": "2019-12-13T02:46:30.535Z"
   },
   {
    "cell": {
     "executionCount": 6,
     "executionEventId": "cc643879-6c54-4ac6-af29-1c3d55bd98ac",
     "hasError": false,
     "id": "ad8cb4aa-55a6-4586-9242-03115bf1a77b",
     "outputs": [
      {
       "name": "stderr",
       "output_type": "stream",
       "text": "2019-12-13 15:46:30,808 INFO Sending request to https://cds.climate.copernicus.eu/api/v2/resources/seasonal-monthly-single-levels\n2019-12-13 15:46:33,671 INFO Request is queued\n2019-12-13 15:46:37,052 INFO Request is running\n2019-12-13 15:49:29,385 INFO Request is completed\n2019-12-13 15:49:29,386 INFO Downloading http://136.156.133.46/cache-compute-0015/cache/data4/adaptor.mars.external-1576205195.4204-3080-23-8b50c781-6230-4f07-a7ef-cc4fd32aefa7.grib to download_UKMO_SST_2018.grib (299.2M)\n2019-12-13 15:53:13,819 INFO Download rate 1.3M/s    \n"
      },
      {
       "data": {
        "text/plain": "Result(content_length=313771200,content_type=application/x-grib,location=http://136.156.133.46/cache-compute-0015/cache/data4/adaptor.mars.external-1576205195.4204-3080-23-8b50c781-6230-4f07-a7ef-cc4fd32aefa7.grib)"
       },
       "execution_count": 6,
       "metadata": {},
       "output_type": "execute_result"
      }
     ],
     "persistentId": "f3b95750-edff-4d5e-a33e-54961fb0ddb6",
     "text": "c.retrieve(\n    'seasonal-monthly-single-levels',\n    {\n        'originating_centre': 'ukmo',\n        'system': ['12','13','14'],\n        'variable': 'sea_surface_temperature',\n        'product_type': 'monthly_mean',\n        'year': '2018',\n        'month': ['01', '02', '03', '04','05','06', '07', '08', '09', '10', '11','12'],\n        'leadtime_month': [\n            '2', '3', '4',\n            '5', '6',\n        ],\n        'format': 'grib',\n    },\n    'download_UKMO_SST_2018.grib')"
    },
    "executionTime": "2019-12-13T02:53:13.855Z"
   },
   {
    "cell": {
     "executionCount": 7,
     "executionEventId": "9b1f0aab-2d6e-4c56-b687-d03417e27ab5",
     "hasError": false,
     "id": "8ddec4e7-1c24-4948-b260-83236271672b",
     "outputs": [],
     "persistentId": "9b2f9111-4a0f-4ff8-9e36-dcbe699fb5c7",
     "text": "!mv download_UKMO_SST_2018.grib ../../../data/GCMs/GRIB/UKMO/SST/UKMO_system_12_13_14_SST_2018.grib"
    },
    "executionTime": "2019-12-13T02:55:31.981Z"
   }
  ],
  "kernelspec": {
   "display_name": "Python 3",
   "language": "python",
   "name": "python3"
  },
  "language_info": {
   "codemirror_mode": {
    "name": "ipython",
    "version": 3
   },
   "file_extension": ".py",
   "mimetype": "text/x-python",
   "name": "python",
   "nbconvert_exporter": "python",
   "pygments_lexer": "ipython3",
   "version": "3.7.5"
  },
  "uuid": "de0954d9-76ce-4ed7-9375-6a880126b612"
 },
 "nbformat": 4,
 "nbformat_minor": 4
}
