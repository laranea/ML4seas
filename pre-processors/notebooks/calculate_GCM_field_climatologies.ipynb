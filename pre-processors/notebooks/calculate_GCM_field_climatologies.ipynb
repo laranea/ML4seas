{
 "cells": [
  {
   "cell_type": "code",
   "execution_count": 120,
   "metadata": {},
   "outputs": [],
   "source": [
    "%matplotlib inline"
   ]
  },
  {
   "cell_type": "code",
   "execution_count": 156,
   "metadata": {},
   "outputs": [],
   "source": [
    "import xarray as xr\n",
    "\n",
    "# %%\n",
    "import pathlib\n",
    "import numpy as np\n",
    "import pandas as pd\n",
    "\n",
    "# %%\n",
    "import matplotlib.pyplot as plt\n",
    "\n",
    "# %%\n",
    "model = 'JMA'"
   ]
  },
  {
   "cell_type": "code",
   "execution_count": 157,
   "metadata": {},
   "outputs": [],
   "source": [
    "# %%\n",
    "HOME = pathlib.Path.home()"
   ]
  },
  {
   "cell_type": "code",
   "execution_count": 158,
   "metadata": {},
   "outputs": [],
   "source": [
    "var_name = 'SST'"
   ]
  },
  {
   "cell_type": "code",
   "execution_count": 159,
   "metadata": {},
   "outputs": [],
   "source": [
    "dpath = HOME / 'research' / 'Smart_Ideas' / 'data' / 'GCMs' / 'NC' / model / var_name\n",
    "\n",
    "# %%\n",
    "lfiles = list(dpath.glob(\"*_seasonal.nc\"))\n",
    "\n",
    "# %%\n",
    "lfiles.sort()"
   ]
  },
  {
   "cell_type": "code",
   "execution_count": 160,
   "metadata": {},
   "outputs": [
    {
     "data": {
      "text/plain": [
       "[PosixPath('/home/nicolasf/research/Smart_Ideas/data/GCMs/NC/JMA/SST/SST_hindcasts_1979_JMA_seasonal.nc'),\n",
       " PosixPath('/home/nicolasf/research/Smart_Ideas/data/GCMs/NC/JMA/SST/SST_hindcasts_1980_JMA_seasonal.nc'),\n",
       " PosixPath('/home/nicolasf/research/Smart_Ideas/data/GCMs/NC/JMA/SST/SST_hindcasts_1981_JMA_seasonal.nc'),\n",
       " PosixPath('/home/nicolasf/research/Smart_Ideas/data/GCMs/NC/JMA/SST/SST_hindcasts_1982_JMA_seasonal.nc'),\n",
       " PosixPath('/home/nicolasf/research/Smart_Ideas/data/GCMs/NC/JMA/SST/SST_hindcasts_1983_JMA_seasonal.nc'),\n",
       " PosixPath('/home/nicolasf/research/Smart_Ideas/data/GCMs/NC/JMA/SST/SST_hindcasts_1984_JMA_seasonal.nc'),\n",
       " PosixPath('/home/nicolasf/research/Smart_Ideas/data/GCMs/NC/JMA/SST/SST_hindcasts_1985_JMA_seasonal.nc'),\n",
       " PosixPath('/home/nicolasf/research/Smart_Ideas/data/GCMs/NC/JMA/SST/SST_hindcasts_1986_JMA_seasonal.nc'),\n",
       " PosixPath('/home/nicolasf/research/Smart_Ideas/data/GCMs/NC/JMA/SST/SST_hindcasts_1987_JMA_seasonal.nc'),\n",
       " PosixPath('/home/nicolasf/research/Smart_Ideas/data/GCMs/NC/JMA/SST/SST_hindcasts_1988_JMA_seasonal.nc'),\n",
       " PosixPath('/home/nicolasf/research/Smart_Ideas/data/GCMs/NC/JMA/SST/SST_hindcasts_1989_JMA_seasonal.nc'),\n",
       " PosixPath('/home/nicolasf/research/Smart_Ideas/data/GCMs/NC/JMA/SST/SST_hindcasts_1990_JMA_seasonal.nc'),\n",
       " PosixPath('/home/nicolasf/research/Smart_Ideas/data/GCMs/NC/JMA/SST/SST_hindcasts_1991_JMA_seasonal.nc'),\n",
       " PosixPath('/home/nicolasf/research/Smart_Ideas/data/GCMs/NC/JMA/SST/SST_hindcasts_1992_JMA_seasonal.nc'),\n",
       " PosixPath('/home/nicolasf/research/Smart_Ideas/data/GCMs/NC/JMA/SST/SST_hindcasts_1993_JMA_seasonal.nc'),\n",
       " PosixPath('/home/nicolasf/research/Smart_Ideas/data/GCMs/NC/JMA/SST/SST_hindcasts_1994_JMA_seasonal.nc'),\n",
       " PosixPath('/home/nicolasf/research/Smart_Ideas/data/GCMs/NC/JMA/SST/SST_hindcasts_1995_JMA_seasonal.nc'),\n",
       " PosixPath('/home/nicolasf/research/Smart_Ideas/data/GCMs/NC/JMA/SST/SST_hindcasts_1996_JMA_seasonal.nc'),\n",
       " PosixPath('/home/nicolasf/research/Smart_Ideas/data/GCMs/NC/JMA/SST/SST_hindcasts_1997_JMA_seasonal.nc'),\n",
       " PosixPath('/home/nicolasf/research/Smart_Ideas/data/GCMs/NC/JMA/SST/SST_hindcasts_1998_JMA_seasonal.nc'),\n",
       " PosixPath('/home/nicolasf/research/Smart_Ideas/data/GCMs/NC/JMA/SST/SST_hindcasts_1999_JMA_seasonal.nc'),\n",
       " PosixPath('/home/nicolasf/research/Smart_Ideas/data/GCMs/NC/JMA/SST/SST_hindcasts_2000_JMA_seasonal.nc'),\n",
       " PosixPath('/home/nicolasf/research/Smart_Ideas/data/GCMs/NC/JMA/SST/SST_hindcasts_2001_JMA_seasonal.nc'),\n",
       " PosixPath('/home/nicolasf/research/Smart_Ideas/data/GCMs/NC/JMA/SST/SST_hindcasts_2002_JMA_seasonal.nc'),\n",
       " PosixPath('/home/nicolasf/research/Smart_Ideas/data/GCMs/NC/JMA/SST/SST_hindcasts_2003_JMA_seasonal.nc'),\n",
       " PosixPath('/home/nicolasf/research/Smart_Ideas/data/GCMs/NC/JMA/SST/SST_hindcasts_2004_JMA_seasonal.nc'),\n",
       " PosixPath('/home/nicolasf/research/Smart_Ideas/data/GCMs/NC/JMA/SST/SST_hindcasts_2005_JMA_seasonal.nc'),\n",
       " PosixPath('/home/nicolasf/research/Smart_Ideas/data/GCMs/NC/JMA/SST/SST_hindcasts_2006_JMA_seasonal.nc'),\n",
       " PosixPath('/home/nicolasf/research/Smart_Ideas/data/GCMs/NC/JMA/SST/SST_hindcasts_2007_JMA_seasonal.nc'),\n",
       " PosixPath('/home/nicolasf/research/Smart_Ideas/data/GCMs/NC/JMA/SST/SST_hindcasts_2008_JMA_seasonal.nc'),\n",
       " PosixPath('/home/nicolasf/research/Smart_Ideas/data/GCMs/NC/JMA/SST/SST_hindcasts_2009_JMA_seasonal.nc'),\n",
       " PosixPath('/home/nicolasf/research/Smart_Ideas/data/GCMs/NC/JMA/SST/SST_hindcasts_2010_JMA_seasonal.nc'),\n",
       " PosixPath('/home/nicolasf/research/Smart_Ideas/data/GCMs/NC/JMA/SST/SST_hindcasts_2011_JMA_seasonal.nc'),\n",
       " PosixPath('/home/nicolasf/research/Smart_Ideas/data/GCMs/NC/JMA/SST/SST_hindcasts_2012_JMA_seasonal.nc'),\n",
       " PosixPath('/home/nicolasf/research/Smart_Ideas/data/GCMs/NC/JMA/SST/SST_hindcasts_2013_JMA_seasonal.nc'),\n",
       " PosixPath('/home/nicolasf/research/Smart_Ideas/data/GCMs/NC/JMA/SST/SST_hindcasts_2014_JMA_seasonal.nc')]"
      ]
     },
     "execution_count": 160,
     "metadata": {},
     "output_type": "execute_result"
    }
   ],
   "source": [
    "lfiles"
   ]
  },
  {
   "cell_type": "code",
   "execution_count": 161,
   "metadata": {},
   "outputs": [
    {
     "data": {
      "text/plain": [
       "2016"
      ]
     },
     "execution_count": 161,
     "metadata": {},
     "output_type": "execute_result"
    }
   ],
   "source": [
    "np.unique(dset.time.dt.year)[0]"
   ]
  },
  {
   "cell_type": "code",
   "execution_count": 162,
   "metadata": {},
   "outputs": [
    {
     "name": "stdout",
     "output_type": "stream",
     "text": [
      "year 1979: 12 months present\n",
      "year 1980: 12 months present\n",
      "year 1981: 12 months present\n",
      "year 1982: 12 months present\n",
      "year 1983: 12 months present\n",
      "year 1984: 12 months present\n",
      "year 1985: 12 months present\n",
      "year 1986: 12 months present\n",
      "year 1987: 12 months present\n",
      "year 1988: 12 months present\n",
      "year 1989: 12 months present\n",
      "year 1990: 12 months present\n",
      "year 1991: 12 months present\n",
      "year 1992: 12 months present\n",
      "year 1993: 12 months present\n",
      "year 1994: 12 months present\n",
      "year 1995: 12 months present\n",
      "year 1996: 12 months present\n",
      "year 1997: 12 months present\n",
      "year 1998: 12 months present\n",
      "year 1999: 12 months present\n",
      "year 2000: 12 months present\n",
      "year 2001: 12 months present\n",
      "year 2002: 12 months present\n",
      "year 2003: 12 months present\n",
      "year 2004: 12 months present\n",
      "year 2005: 12 months present\n",
      "year 2006: 12 months present\n",
      "year 2007: 12 months present\n",
      "year 2008: 12 months present\n",
      "year 2009: 12 months present\n",
      "year 2010: 12 months present\n",
      "year 2011: 12 months present\n",
      "year 2012: 12 months present\n",
      "year 2013: 12 months present\n",
      "year 2014: 12 months present\n"
     ]
    }
   ],
   "source": [
    "d = {}\n",
    "for f in lfiles: \n",
    "    dset = xr.open_dataset(f)\n",
    "    d[np.unique(dset.time.dt.year)[0]] = [len(dset.time.dt.month), dset.time.dt.month.data]\n",
    "    print(f\"year {np.unique(dset.time.dt.year)[0]}: {len(dset.time.dt.month)} months present\")\n",
    "    "
   ]
  },
  {
   "cell_type": "code",
   "execution_count": 118,
   "metadata": {},
   "outputs": [],
   "source": [
    "dset = xr.open_dataset(lfiles[1])"
   ]
  },
  {
   "cell_type": "code",
   "execution_count": 119,
   "metadata": {},
   "outputs": [
    {
     "data": {
      "text/plain": [
       "array([ 1,  2,  5,  6,  7,  8,  9, 10, 11, 12])"
      ]
     },
     "execution_count": 119,
     "metadata": {},
     "output_type": "execute_result"
    }
   ],
   "source": [
    "dset.time.dt.month.data"
   ]
  },
  {
   "cell_type": "code",
   "execution_count": null,
   "metadata": {},
   "outputs": [],
   "source": []
  },
  {
   "cell_type": "code",
   "execution_count": 88,
   "metadata": {},
   "outputs": [
    {
     "name": "stdout",
     "output_type": "stream",
     "text": [
      "opening the multiple files dataset for UKMO, SST\n"
     ]
    }
   ],
   "source": [
    "# %%\n",
    "print(f\"opening the multiple files dataset for {model}, {var_name}\")\n",
    "\n",
    "# %%\n",
    "dset = xr.open_mfdataset(lfiles, parallel=True, combine='nested', concat_dim='time')\n",
    "\n",
    "# %%\n",
    "dset_rechunk = dset.chunk({'time': -1, 'lat': 1, 'lon':4})"
   ]
  },
  {
   "cell_type": "code",
   "execution_count": 89,
   "metadata": {},
   "outputs": [
    {
     "data": {
      "text/plain": [
       "<xarray.Dataset>\n",
       "Dimensions:  (lat: 180, lon: 360, member: 28, step: 3, time: 233)\n",
       "Coordinates:\n",
       "    surface  int64 0\n",
       "  * member   (member) int64 0 1 2 3 4 5 6 7 8 9 ... 19 20 21 22 23 24 25 26 27\n",
       "  * step     (step) int64 3 4 5\n",
       "  * lat      (lat) float64 -89.5 -88.5 -87.5 -86.5 -85.5 ... 86.5 87.5 88.5 89.5\n",
       "  * lon      (lon) float64 0.5 1.5 2.5 3.5 4.5 ... 355.5 356.5 357.5 358.5 359.5\n",
       "  * time     (time) datetime64[ns] 1993-02-01 1993-05-01 ... 2016-12-01\n",
       "Data variables:\n",
       "    sst      (time, step, member, lat, lon) float32 dask.array<chunksize=(233, 3, 28, 1, 4), meta=np.ndarray>\n",
       "Attributes:\n",
       "    history:  Mon Nov 25 14:39:35 2019: ncrename -d longitude,lon -d latitude...\n",
       "    NCO:      netCDF Operators version 4.8.1 (Homepage = http://nco.sf.net, C..."
      ]
     },
     "execution_count": 89,
     "metadata": {},
     "output_type": "execute_result"
    }
   ],
   "source": [
    "dset_rechunk"
   ]
  },
  {
   "cell_type": "code",
   "execution_count": 37,
   "metadata": {},
   "outputs": [],
   "source": [
    "clim = dset_rechunk.groupby('time.month').mean('time')"
   ]
  },
  {
   "cell_type": "code",
   "execution_count": 38,
   "metadata": {},
   "outputs": [
    {
     "data": {
      "text/plain": [
       "<xarray.Dataset>\n",
       "Dimensions:  (lat: 180, lon: 360, member: 30, month: 12, step: 3)\n",
       "Coordinates:\n",
       "    surface  int64 0\n",
       "  * member   (member) int64 0 1 2 3 4 5 6 7 8 9 ... 21 22 23 24 25 26 27 28 29\n",
       "  * lon      (lon) float64 0.5 1.5 2.5 3.5 4.5 ... 355.5 356.5 357.5 358.5 359.5\n",
       "  * step     (step) int64 3 4 5\n",
       "  * lat      (lat) float64 -89.5 -88.5 -87.5 -86.5 -85.5 ... 86.5 87.5 88.5 89.5\n",
       "  * month    (month) int64 1 2 3 4 5 6 7 8 9 10 11 12\n",
       "Data variables:\n",
       "    sst      (month, step, member, lat, lon) float32 dask.array<chunksize=(1, 3, 30, 1, 4), meta=np.ndarray>"
      ]
     },
     "execution_count": 38,
     "metadata": {},
     "output_type": "execute_result"
    }
   ],
   "source": [
    "clim"
   ]
  },
  {
   "cell_type": "code",
   "execution_count": 39,
   "metadata": {},
   "outputs": [],
   "source": [
    "clim = clim.mean('member')"
   ]
  },
  {
   "cell_type": "code",
   "execution_count": 40,
   "metadata": {},
   "outputs": [
    {
     "name": "stdout",
     "output_type": "stream",
     "text": [
      "saving /home/nicolasf/research/Smart_Ideas/data/GCMs/NC/DWD/SST/CLIMATOLOGY/CLIMATOLOGY_DWD_SST_1993_2016.nc\n"
     ]
    }
   ],
   "source": [
    "opath = dpath / 'CLIMATOLOGY'\n",
    "\n",
    "# %%\n",
    "if not opath.exists():\n",
    "    opath.mkdir()\n",
    "\n",
    "#%%\n",
    "year_start = dset.time.to_index()[0].year\n",
    "year_end = dset.time.to_index()[-1].year\n",
    "\n",
    "#%%\n",
    "print(f\"saving {str(opath)}/CLIMATOLOGY_{model}_{var_name}_{year_start}_{year_end}.nc\")"
   ]
  },
  {
   "cell_type": "code",
   "execution_count": null,
   "metadata": {},
   "outputs": [],
   "source": [
    "clim.to_netcdf(opath / f\"CLIMATOLOGY_{model}_{var_name}_{year_start}_{year_end}.nc\")\n",
    "\n",
    "#%%\n",
    "print(\"\\ndone ...\")"
   ]
  },
  {
   "cell_type": "code",
   "execution_count": 41,
   "metadata": {},
   "outputs": [
    {
     "data": {
      "text/plain": [
       "<xarray.Dataset>\n",
       "Dimensions:  (lat: 180, lon: 360, month: 12, step: 3)\n",
       "Coordinates:\n",
       "    surface  int64 0\n",
       "  * lon      (lon) float64 0.5 1.5 2.5 3.5 4.5 ... 355.5 356.5 357.5 358.5 359.5\n",
       "  * step     (step) int64 3 4 5\n",
       "  * lat      (lat) float64 -89.5 -88.5 -87.5 -86.5 -85.5 ... 86.5 87.5 88.5 89.5\n",
       "  * month    (month) int64 1 2 3 4 5 6 7 8 9 10 11 12\n",
       "Data variables:\n",
       "    sst      (month, step, lat, lon) float32 dask.array<chunksize=(1, 3, 1, 4), meta=np.ndarray>"
      ]
     },
     "execution_count": 41,
     "metadata": {},
     "output_type": "execute_result"
    }
   ],
   "source": [
    "clim"
   ]
  },
  {
   "cell_type": "code",
   "execution_count": 42,
   "metadata": {},
   "outputs": [
    {
     "name": "stderr",
     "output_type": "stream",
     "text": [
      "/home/nicolasf/anaconda3/envs/pangeo/lib/python3.7/site-packages/dask/array/numpy_compat.py:40: RuntimeWarning: invalid value encountered in true_divide\n",
      "  x = np.divide(x1, x2, out)\n"
     ]
    },
    {
     "data": {
      "text/plain": [
       "<xarray.Dataset>\n",
       "Dimensions:  (lat: 180, lon: 360, month: 12, step: 3)\n",
       "Coordinates:\n",
       "    surface  int64 0\n",
       "  * lon      (lon) float64 0.5 1.5 2.5 3.5 4.5 ... 355.5 356.5 357.5 358.5 359.5\n",
       "  * step     (step) int64 3 4 5\n",
       "  * lat      (lat) float64 -89.5 -88.5 -87.5 -86.5 -85.5 ... 86.5 87.5 88.5 89.5\n",
       "  * month    (month) int64 1 2 3 4 5 6 7 8 9 10 11 12\n",
       "Data variables:\n",
       "    sst      (month, step, lat, lon) float32 nan nan nan ... 271.24954 271.24954"
      ]
     },
     "execution_count": 42,
     "metadata": {},
     "output_type": "execute_result"
    }
   ],
   "source": [
    "clim.load()"
   ]
  },
  {
   "cell_type": "code",
   "execution_count": 57,
   "metadata": {},
   "outputs": [],
   "source": [
    "clim.to_netcdf(opath / f\"CLIMATOLOGY_{model}_{var_name}_{year_start}_{year_end}.nc\", )"
   ]
  },
  {
   "cell_type": "code",
   "execution_count": 51,
   "metadata": {},
   "outputs": [
    {
     "data": {
      "text/plain": [
       "<xarray.DataArray 'month' (month: 12)>\n",
       "array([ 1,  2,  3,  4,  5,  6,  7,  8,  9, 10, 11, 12])\n",
       "Coordinates:\n",
       "    surface  int64 0\n",
       "  * month    (month) int64 1 2 3 4 5 6 7 8 9 10 11 12"
      ]
     },
     "execution_count": 51,
     "metadata": {},
     "output_type": "execute_result"
    }
   ],
   "source": [
    "clim.month"
   ]
  },
  {
   "cell_type": "code",
   "execution_count": 53,
   "metadata": {},
   "outputs": [],
   "source": [
    "clim['month'] = (('month'), list(range(1, 13)))"
   ]
  },
  {
   "cell_type": "code",
   "execution_count": 54,
   "metadata": {},
   "outputs": [
    {
     "data": {
      "text/plain": [
       "<xarray.Dataset>\n",
       "Dimensions:  (lat: 180, lon: 360, month: 12, step: 3)\n",
       "Coordinates:\n",
       "    surface  int64 0\n",
       "  * lon      (lon) float64 0.5 1.5 2.5 3.5 4.5 ... 355.5 356.5 357.5 358.5 359.5\n",
       "  * step     (step) int64 3 4 5\n",
       "  * lat      (lat) float64 -89.5 -88.5 -87.5 -86.5 -85.5 ... 86.5 87.5 88.5 89.5\n",
       "  * month    (month) int64 1 2 3 4 5 6 7 8 9 10 11 12\n",
       "Data variables:\n",
       "    sst      (month, step, lat, lon) float32 nan nan nan ... 271.24954 271.24954"
      ]
     },
     "execution_count": 54,
     "metadata": {},
     "output_type": "execute_result"
    }
   ],
   "source": [
    "clim"
   ]
  },
  {
   "cell_type": "code",
   "execution_count": 55,
   "metadata": {},
   "outputs": [
    {
     "data": {
      "text/plain": [
       "<xarray.DataArray 'month' (month: 12)>\n",
       "array([ 1,  2,  3,  4,  5,  6,  7,  8,  9, 10, 11, 12])\n",
       "Coordinates:\n",
       "    surface  int64 0\n",
       "  * month    (month) int64 1 2 3 4 5 6 7 8 9 10 11 12"
      ]
     },
     "execution_count": 55,
     "metadata": {},
     "output_type": "execute_result"
    }
   ],
   "source": [
    "clim.month"
   ]
  },
  {
   "cell_type": "code",
   "execution_count": 76,
   "metadata": {},
   "outputs": [],
   "source": [
    "var_name = 'Z850'"
   ]
  },
  {
   "cell_type": "code",
   "execution_count": 77,
   "metadata": {},
   "outputs": [
    {
     "data": {
      "text/plain": [
       "PosixPath('/home/nicolasf/research/Smart_Ideas/data/GCMs/NC/DWD/SST/CLIMATOLOGY')"
      ]
     },
     "execution_count": 77,
     "metadata": {},
     "output_type": "execute_result"
    }
   ],
   "source": [
    "opath"
   ]
  },
  {
   "cell_type": "code",
   "execution_count": 78,
   "metadata": {},
   "outputs": [],
   "source": [
    "opath = HOME / 'research' / 'Smart_Ideas' / 'data' / 'GCMs' / 'NC' / model / var_name / 'CLIMATOLOGY'"
   ]
  },
  {
   "cell_type": "code",
   "execution_count": 79,
   "metadata": {},
   "outputs": [],
   "source": [
    "dset = xr.open_dataset(opath / f\"CLIMATOLOGY_{model}_{var_name}_{year_start}_{year_end}.nc\")"
   ]
  },
  {
   "cell_type": "code",
   "execution_count": 80,
   "metadata": {},
   "outputs": [
    {
     "data": {
      "text/plain": [
       "<bound method Dataset.info of <xarray.Dataset>\n",
       "Dimensions:        (lat: 180, lon: 360, month: 12, step: 3)\n",
       "Coordinates:\n",
       "    isobaricInhPa  int64 ...\n",
       "  * lon            (lon) float64 0.5 1.5 2.5 3.5 4.5 ... 356.5 357.5 358.5 359.5\n",
       "  * step           (step) int64 3 4 5\n",
       "  * lat            (lat) float64 -89.5 -88.5 -87.5 -86.5 ... 86.5 87.5 88.5 89.5\n",
       "  * month          (month) int64 1 2 3 4 5 6 7 8 9 10 11 12\n",
       "Data variables:\n",
       "    z850           (month, step, lat, lon) float32 ...>"
      ]
     },
     "execution_count": 80,
     "metadata": {},
     "output_type": "execute_result"
    }
   ],
   "source": [
    "dset.info"
   ]
  },
  {
   "cell_type": "code",
   "execution_count": 82,
   "metadata": {},
   "outputs": [
    {
     "data": {
      "text/plain": [
       "<matplotlib.collections.QuadMesh at 0x7fe85e3af650>"
      ]
     },
     "execution_count": 82,
     "metadata": {},
     "output_type": "execute_result"
    },
    {
     "data": {
      "image/png": "[encoded data removed]",
      "text/plain": [
       "<Figure size 432x288 with 2 Axes>"
      ]
     },
     "metadata": {
      "needs_background": "light"
     },
     "output_type": "display_data"
    }
   ],
   "source": [
    "dset['z850'][0,0,:,:].plot()"
   ]
  },
  {
   "cell_type": "code",
   "execution_count": 163,
   "metadata": {},
   "outputs": [],
   "source": [
    "dset.close()"
   ]
  },
  {
   "cell_type": "code",
   "execution_count": null,
   "metadata": {},
   "outputs": [],
   "source": []
  }
 ],
 "metadata": {
  "history": [],
  "kernelspec": {
   "display_name": "Python 3",
   "language": "python",
   "name": "python3"
  },
  "language_info": {
   "codemirror_mode": {
    "name": "ipython",
    "version": 3
   },
   "file_extension": ".py",
   "mimetype": "text/x-python",
   "name": "python",
   "nbconvert_exporter": "python",
   "pygments_lexer": "ipython3",
   "version": "3.7.5"
  },
  "uuid": "6473f6fc-8be7-4877-88de-e44a2103a2d7"
 },
 "nbformat": 4,
 "nbformat_minor": 4
}
