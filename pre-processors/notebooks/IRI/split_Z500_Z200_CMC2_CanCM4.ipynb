{
 "cells": [
  {
   "cell_type": "code",
   "execution_count": 4,
   "metadata": {
    "execution_event_id": "02129570-9678-442c-90c3-c2afdb2a0c8e",
    "last_executed_text": "import pathlib",
    "persistent_id": "4f7c71bc-cf67-4efe-977f-4b0741c6652b"
   },
   "outputs": [],
   "source": [
    "import pathlib"
   ]
  },
  {
   "cell_type": "code",
   "execution_count": 5,
   "metadata": {
    "execution_event_id": "5fccc8bf-8402-4028-86f0-1999dd28b454",
    "last_executed_text": "HOME = pathlib.Path.home()",
    "persistent_id": "edd12bca-97d9-4561-978a-58c3446d45cd"
   },
   "outputs": [],
   "source": [
    "HOME = pathlib.Path.home()"
   ]
  },
  {
   "cell_type": "code",
   "execution_count": 6,
   "metadata": {
    "execution_event_id": "099eeccd-fe6b-441f-b2ea-6378ff6775ab",
    "last_executed_text": "HOME",
    "persistent_id": "dc905b6c-7181-4842-899b-d8581554d5a4"
   },
   "outputs": [
    {
     "data": {
      "text/plain": [
       "PosixPath('/home/nicolasf')"
      ]
     },
     "execution_count": 6,
     "metadata": {},
     "output_type": "execute_result"
    }
   ],
   "source": [
    "HOME"
   ]
  },
  {
   "cell_type": "code",
   "execution_count": 13,
   "metadata": {
    "execution_event_id": "bbb21c11-0bcf-4694-8820-0a6d7dcc2409",
    "last_executed_text": "GCM = 'CMC2-CanCM4'",
    "persistent_id": "ed089d92-6f18-4ebf-bf34-9b2399f4503e"
   },
   "outputs": [],
   "source": [
    "GCM = 'CMC2-CanCM4'"
   ]
  },
  {
   "cell_type": "code",
   "execution_count": 14,
   "metadata": {
    "execution_event_id": "276888f1-182e-449c-844b-b4dde91a2079",
    "last_executed_text": "dpath = HOME / 'drives' / 'auck_projects' / 'END19101' / 'Working' / 'data' / 'hindcasts' / 'IRI' / GCM  ",
    "persistent_id": "7b847123-6082-4958-8068-63f90a56e165"
   },
   "outputs": [],
   "source": [
    "dpath = HOME / 'drives' / 'auck_projects' / 'END19101' / 'Working' / 'data' / 'hindcasts' / 'IRI' / GCM  "
   ]
  },
  {
   "cell_type": "code",
   "execution_count": 15,
   "metadata": {
    "execution_event_id": "4a640731-b108-4f54-9c82-8afca059d797",
    "last_executed_text": "lfiles = list(dpath.glob(\"*HGT*.nc\"))",
    "persistent_id": "22c96fd4-6c75-43ae-9032-de7240d2f26f"
   },
   "outputs": [],
   "source": [
    "lfiles = list(dpath.glob(\"*HGT*.nc\"))"
   ]
  },
  {
   "cell_type": "code",
   "execution_count": 16,
   "metadata": {
    "execution_event_id": "2c4a5e47-65cb-49ed-9954-5d6890cd186f",
    "last_executed_text": "def get_int(x): \n    return int(x.name.split('_')[-2] + x.name.split('_')[-1].split('.')[0].zfill(2))",
    "persistent_id": "42b9c750-6527-47be-b5a8-9f94b1908892"
   },
   "outputs": [],
   "source": [
    "def get_int(x): \n",
    "    return int(x.name.split('_')[-2] + x.name.split('_')[-1].split('.')[0].zfill(2))"
   ]
  },
  {
   "cell_type": "code",
   "execution_count": 17,
   "metadata": {
    "execution_event_id": "456d5e19-e6ea-4618-a0ad-ed96b7867f66",
    "last_executed_text": "lfiles.sort(key=get_int)",
    "persistent_id": "099a4b53-2348-4abc-824c-85de765a4165"
   },
   "outputs": [],
   "source": [
    "lfiles.sort(key=get_int)"
   ]
  },
  {
   "cell_type": "code",
   "execution_count": 18,
   "metadata": {
    "execution_event_id": "4a8dfb12-e7d7-4701-8c05-8e58ad721f67",
    "last_executed_text": "lfiles",
    "persistent_id": "db3a712f-f364-4f44-a387-59a14ff4159b"
   },
   "outputs": [
    {
     "data": {
      "text/plain": [
       "[PosixPath('/home/nicolasf/drives/auck_projects/END19101/Working/data/hindcasts/IRI/CMC2-CanCM4/CMC2-CanCM4_hindcasts_HGT_1981_1.nc'),\n",
       " PosixPath('/home/nicolasf/drives/auck_projects/END19101/Working/data/hindcasts/IRI/CMC2-CanCM4/CMC2-CanCM4_hindcasts_HGT_1981_2.nc'),\n",
       " PosixPath('/home/nicolasf/drives/auck_projects/END19101/Working/data/hindcasts/IRI/CMC2-CanCM4/CMC2-CanCM4_hindcasts_HGT_1981_3.nc'),\n",
       " PosixPath('/home/nicolasf/drives/auck_projects/END19101/Working/data/hindcasts/IRI/CMC2-CanCM4/CMC2-CanCM4_hindcasts_HGT_1981_4.nc'),\n",
       " PosixPath('/home/nicolasf/drives/auck_projects/END19101/Working/data/hindcasts/IRI/CMC2-CanCM4/CMC2-CanCM4_hindcasts_HGT_1981_5.nc'),\n",
       " PosixPath('/home/nicolasf/drives/auck_projects/END19101/Working/data/hindcasts/IRI/CMC2-CanCM4/CMC2-CanCM4_hindcasts_HGT_1981_6.nc'),\n",
       " PosixPath('/home/nicolasf/drives/auck_projects/END19101/Working/data/hindcasts/IRI/CMC2-CanCM4/CMC2-CanCM4_hindcasts_HGT_1981_7.nc'),\n",
       " PosixPath('/home/nicolasf/drives/auck_projects/END19101/Working/data/hindcasts/IRI/CMC2-CanCM4/CMC2-CanCM4_hindcasts_HGT_1981_8.nc'),\n",
       " PosixPath('/home/nicolasf/drives/auck_projects/END19101/Working/data/hindcasts/IRI/CMC2-CanCM4/CMC2-CanCM4_hindcasts_HGT_1981_9.nc'),\n",
       " PosixPath('/home/nicolasf/drives/auck_projects/END19101/Working/data/hindcasts/IRI/CMC2-CanCM4/CMC2-CanCM4_hindcasts_HGT_1981_10.nc'),\n",
       " PosixPath('/home/nicolasf/drives/auck_projects/END19101/Working/data/hindcasts/IRI/CMC2-CanCM4/CMC2-CanCM4_hindcasts_HGT_1981_11.nc'),\n",
       " PosixPath('/home/nicolasf/drives/auck_projects/END19101/Working/data/hindcasts/IRI/CMC2-CanCM4/CMC2-CanCM4_hindcasts_HGT_1981_12.nc'),\n",
       " PosixPath('/home/nicolasf/drives/auck_projects/END19101/Working/data/hindcasts/IRI/CMC2-CanCM4/CMC2-CanCM4_hindcasts_HGT_1982_1.nc'),\n",
       " PosixPath('/home/nicolasf/drives/auck_projects/END19101/Working/data/hindcasts/IRI/CMC2-CanCM4/CMC2-CanCM4_hindcasts_HGT_1982_2.nc'),\n",
       " PosixPath('/home/nicolasf/drives/auck_projects/END19101/Working/data/hindcasts/IRI/CMC2-CanCM4/CMC2-CanCM4_hindcasts_HGT_1982_3.nc'),\n",
       " PosixPath('/home/nicolasf/drives/auck_projects/END19101/Working/data/hindcasts/IRI/CMC2-CanCM4/CMC2-CanCM4_hindcasts_HGT_1982_4.nc'),\n",
       " PosixPath('/home/nicolasf/drives/auck_projects/END19101/Working/data/hindcasts/IRI/CMC2-CanCM4/CMC2-CanCM4_hindcasts_HGT_1982_5.nc'),\n",
       " PosixPath('/home/nicolasf/drives/auck_projects/END19101/Working/data/hindcasts/IRI/CMC2-CanCM4/CMC2-CanCM4_hindcasts_HGT_1982_6.nc'),\n",
       " PosixPath('/home/nicolasf/drives/auck_projects/END19101/Working/data/hindcasts/IRI/CMC2-CanCM4/CMC2-CanCM4_hindcasts_HGT_1982_7.nc'),\n",
       " PosixPath('/home/nicolasf/drives/auck_projects/END19101/Working/data/hindcasts/IRI/CMC2-CanCM4/CMC2-CanCM4_hindcasts_HGT_1982_8.nc'),\n",
       " PosixPath('/home/nicolasf/drives/auck_projects/END19101/Working/data/hindcasts/IRI/CMC2-CanCM4/CMC2-CanCM4_hindcasts_HGT_1982_9.nc'),\n",
       " PosixPath('/home/nicolasf/drives/auck_projects/END19101/Working/data/hindcasts/IRI/CMC2-CanCM4/CMC2-CanCM4_hindcasts_HGT_1982_10.nc'),\n",
       " PosixPath('/home/nicolasf/drives/auck_projects/END19101/Working/data/hindcasts/IRI/CMC2-CanCM4/CMC2-CanCM4_hindcasts_HGT_1982_11.nc'),\n",
       " PosixPath('/home/nicolasf/drives/auck_projects/END19101/Working/data/hindcasts/IRI/CMC2-CanCM4/CMC2-CanCM4_hindcasts_HGT_1982_12.nc'),\n",
       " PosixPath('/home/nicolasf/drives/auck_projects/END19101/Working/data/hindcasts/IRI/CMC2-CanCM4/CMC2-CanCM4_hindcasts_HGT_1983_1.nc'),\n",
       " PosixPath('/home/nicolasf/drives/auck_projects/END19101/Working/data/hindcasts/IRI/CMC2-CanCM4/CMC2-CanCM4_hindcasts_HGT_1983_2.nc'),\n",
       " PosixPath('/home/nicolasf/drives/auck_projects/END19101/Working/data/hindcasts/IRI/CMC2-CanCM4/CMC2-CanCM4_hindcasts_HGT_1983_3.nc'),\n",
       " PosixPath('/home/nicolasf/drives/auck_projects/END19101/Working/data/hindcasts/IRI/CMC2-CanCM4/CMC2-CanCM4_hindcasts_HGT_1983_4.nc'),\n",
       " PosixPath('/home/nicolasf/drives/auck_projects/END19101/Working/data/hindcasts/IRI/CMC2-CanCM4/CMC2-CanCM4_hindcasts_HGT_1983_5.nc'),\n",
       " PosixPath('/home/nicolasf/drives/auck_projects/END19101/Working/data/hindcasts/IRI/CMC2-CanCM4/CMC2-CanCM4_hindcasts_HGT_1983_6.nc'),\n",
       " PosixPath('/home/nicolasf/drives/auck_projects/END19101/Working/data/hindcasts/IRI/CMC2-CanCM4/CMC2-CanCM4_hindcasts_HGT_1983_7.nc'),\n",
       " PosixPath('/home/nicolasf/drives/auck_projects/END19101/Working/data/hindcasts/IRI/CMC2-CanCM4/CMC2-CanCM4_hindcasts_HGT_1983_8.nc'),\n",
       " PosixPath('/home/nicolasf/drives/auck_projects/END19101/Working/data/hindcasts/IRI/CMC2-CanCM4/CMC2-CanCM4_hindcasts_HGT_1983_9.nc'),\n",
       " PosixPath('/home/nicolasf/drives/auck_projects/END19101/Working/data/hindcasts/IRI/CMC2-CanCM4/CMC2-CanCM4_hindcasts_HGT_1983_10.nc'),\n",
       " PosixPath('/home/nicolasf/drives/auck_projects/END19101/Working/data/hindcasts/IRI/CMC2-CanCM4/CMC2-CanCM4_hindcasts_HGT_1983_11.nc'),\n",
       " PosixPath('/home/nicolasf/drives/auck_projects/END19101/Working/data/hindcasts/IRI/CMC2-CanCM4/CMC2-CanCM4_hindcasts_HGT_1983_12.nc'),\n",
       " PosixPath('/home/nicolasf/drives/auck_projects/END19101/Working/data/hindcasts/IRI/CMC2-CanCM4/CMC2-CanCM4_hindcasts_HGT_1984_1.nc'),\n",
       " PosixPath('/home/nicolasf/drives/auck_projects/END19101/Working/data/hindcasts/IRI/CMC2-CanCM4/CMC2-CanCM4_hindcasts_HGT_1984_2.nc'),\n",
       " PosixPath('/home/nicolasf/drives/auck_projects/END19101/Working/data/hindcasts/IRI/CMC2-CanCM4/CMC2-CanCM4_hindcasts_HGT_1984_3.nc'),\n",
       " PosixPath('/home/nicolasf/drives/auck_projects/END19101/Working/data/hindcasts/IRI/CMC2-CanCM4/CMC2-CanCM4_hindcasts_HGT_1984_4.nc'),\n",
       " PosixPath('/home/nicolasf/drives/auck_projects/END19101/Working/data/hindcasts/IRI/CMC2-CanCM4/CMC2-CanCM4_hindcasts_HGT_1984_5.nc'),\n",
       " PosixPath('/home/nicolasf/drives/auck_projects/END19101/Working/data/hindcasts/IRI/CMC2-CanCM4/CMC2-CanCM4_hindcasts_HGT_1984_6.nc'),\n",
       " PosixPath('/home/nicolasf/drives/auck_projects/END19101/Working/data/hindcasts/IRI/CMC2-CanCM4/CMC2-CanCM4_hindcasts_HGT_1984_7.nc'),\n",
       " PosixPath('/home/nicolasf/drives/auck_projects/END19101/Working/data/hindcasts/IRI/CMC2-CanCM4/CMC2-CanCM4_hindcasts_HGT_1984_8.nc'),\n",
       " PosixPath('/home/nicolasf/drives/auck_projects/END19101/Working/data/hindcasts/IRI/CMC2-CanCM4/CMC2-CanCM4_hindcasts_HGT_1984_9.nc'),\n",
       " PosixPath('/home/nicolasf/drives/auck_projects/END19101/Working/data/hindcasts/IRI/CMC2-CanCM4/CMC2-CanCM4_hindcasts_HGT_1984_10.nc'),\n",
       " PosixPath('/home/nicolasf/drives/auck_projects/END19101/Working/data/hindcasts/IRI/CMC2-CanCM4/CMC2-CanCM4_hindcasts_HGT_1984_11.nc'),\n",
       " PosixPath('/home/nicolasf/drives/auck_projects/END19101/Working/data/hindcasts/IRI/CMC2-CanCM4/CMC2-CanCM4_hindcasts_HGT_1984_12.nc'),\n",
       " PosixPath('/home/nicolasf/drives/auck_projects/END19101/Working/data/hindcasts/IRI/CMC2-CanCM4/CMC2-CanCM4_hindcasts_HGT_1985_1.nc'),\n",
       " PosixPath('/home/nicolasf/drives/auck_projects/END19101/Working/data/hindcasts/IRI/CMC2-CanCM4/CMC2-CanCM4_hindcasts_HGT_1985_2.nc'),\n",
       " PosixPath('/home/nicolasf/drives/auck_projects/END19101/Working/data/hindcasts/IRI/CMC2-CanCM4/CMC2-CanCM4_hindcasts_HGT_1985_3.nc'),\n",
       " PosixPath('/home/nicolasf/drives/auck_projects/END19101/Working/data/hindcasts/IRI/CMC2-CanCM4/CMC2-CanCM4_hindcasts_HGT_1985_4.nc'),\n",
       " PosixPath('/home/nicolasf/drives/auck_projects/END19101/Working/data/hindcasts/IRI/CMC2-CanCM4/CMC2-CanCM4_hindcasts_HGT_1985_5.nc'),\n",
       " PosixPath('/home/nicolasf/drives/auck_projects/END19101/Working/data/hindcasts/IRI/CMC2-CanCM4/CMC2-CanCM4_hindcasts_HGT_1985_6.nc'),\n",
       " PosixPath('/home/nicolasf/drives/auck_projects/END19101/Working/data/hindcasts/IRI/CMC2-CanCM4/CMC2-CanCM4_hindcasts_HGT_1985_7.nc'),\n",
       " PosixPath('/home/nicolasf/drives/auck_projects/END19101/Working/data/hindcasts/IRI/CMC2-CanCM4/CMC2-CanCM4_hindcasts_HGT_1985_8.nc'),\n",
       " PosixPath('/home/nicolasf/drives/auck_projects/END19101/Working/data/hindcasts/IRI/CMC2-CanCM4/CMC2-CanCM4_hindcasts_HGT_1985_9.nc'),\n",
       " PosixPath('/home/nicolasf/drives/auck_projects/END19101/Working/data/hindcasts/IRI/CMC2-CanCM4/CMC2-CanCM4_hindcasts_HGT_1985_10.nc'),\n",
       " PosixPath('/home/nicolasf/drives/auck_projects/END19101/Working/data/hindcasts/IRI/CMC2-CanCM4/CMC2-CanCM4_hindcasts_HGT_1985_11.nc'),\n",
       " PosixPath('/home/nicolasf/drives/auck_projects/END19101/Working/data/hindcasts/IRI/CMC2-CanCM4/CMC2-CanCM4_hindcasts_HGT_1985_12.nc'),\n",
       " PosixPath('/home/nicolasf/drives/auck_projects/END19101/Working/data/hindcasts/IRI/CMC2-CanCM4/CMC2-CanCM4_hindcasts_HGT_1986_1.nc'),\n",
       " PosixPath('/home/nicolasf/drives/auck_projects/END19101/Working/data/hindcasts/IRI/CMC2-CanCM4/CMC2-CanCM4_hindcasts_HGT_1986_2.nc'),\n",
       " PosixPath('/home/nicolasf/drives/auck_projects/END19101/Working/data/hindcasts/IRI/CMC2-CanCM4/CMC2-CanCM4_hindcasts_HGT_1986_3.nc'),\n",
       " PosixPath('/home/nicolasf/drives/auck_projects/END19101/Working/data/hindcasts/IRI/CMC2-CanCM4/CMC2-CanCM4_hindcasts_HGT_1986_4.nc'),\n",
       " PosixPath('/home/nicolasf/drives/auck_projects/END19101/Working/data/hindcasts/IRI/CMC2-CanCM4/CMC2-CanCM4_hindcasts_HGT_1986_5.nc'),\n",
       " PosixPath('/home/nicolasf/drives/auck_projects/END19101/Working/data/hindcasts/IRI/CMC2-CanCM4/CMC2-CanCM4_hindcasts_HGT_1986_6.nc'),\n",
       " PosixPath('/home/nicolasf/drives/auck_projects/END19101/Working/data/hindcasts/IRI/CMC2-CanCM4/CMC2-CanCM4_hindcasts_HGT_1986_7.nc'),\n",
       " PosixPath('/home/nicolasf/drives/auck_projects/END19101/Working/data/hindcasts/IRI/CMC2-CanCM4/CMC2-CanCM4_hindcasts_HGT_1986_8.nc'),\n",
       " PosixPath('/home/nicolasf/drives/auck_projects/END19101/Working/data/hindcasts/IRI/CMC2-CanCM4/CMC2-CanCM4_hindcasts_HGT_1986_9.nc'),\n",
       " PosixPath('/home/nicolasf/drives/auck_projects/END19101/Working/data/hindcasts/IRI/CMC2-CanCM4/CMC2-CanCM4_hindcasts_HGT_1986_10.nc'),\n",
       " PosixPath('/home/nicolasf/drives/auck_projects/END19101/Working/data/hindcasts/IRI/CMC2-CanCM4/CMC2-CanCM4_hindcasts_HGT_1986_11.nc'),\n",
       " PosixPath('/home/nicolasf/drives/auck_projects/END19101/Working/data/hindcasts/IRI/CMC2-CanCM4/CMC2-CanCM4_hindcasts_HGT_1986_12.nc'),\n",
       " PosixPath('/home/nicolasf/drives/auck_projects/END19101/Working/data/hindcasts/IRI/CMC2-CanCM4/CMC2-CanCM4_hindcasts_HGT_1987_1.nc'),\n",
       " PosixPath('/home/nicolasf/drives/auck_projects/END19101/Working/data/hindcasts/IRI/CMC2-CanCM4/CMC2-CanCM4_hindcasts_HGT_1987_2.nc'),\n",
       " PosixPath('/home/nicolasf/drives/auck_projects/END19101/Working/data/hindcasts/IRI/CMC2-CanCM4/CMC2-CanCM4_hindcasts_HGT_1987_3.nc'),\n",
       " PosixPath('/home/nicolasf/drives/auck_projects/END19101/Working/data/hindcasts/IRI/CMC2-CanCM4/CMC2-CanCM4_hindcasts_HGT_1987_4.nc'),\n",
       " PosixPath('/home/nicolasf/drives/auck_projects/END19101/Working/data/hindcasts/IRI/CMC2-CanCM4/CMC2-CanCM4_hindcasts_HGT_1987_5.nc'),\n",
       " PosixPath('/home/nicolasf/drives/auck_projects/END19101/Working/data/hindcasts/IRI/CMC2-CanCM4/CMC2-CanCM4_hindcasts_HGT_1987_6.nc'),\n",
       " PosixPath('/home/nicolasf/drives/auck_projects/END19101/Working/data/hindcasts/IRI/CMC2-CanCM4/CMC2-CanCM4_hindcasts_HGT_1987_7.nc'),\n",
       " PosixPath('/home/nicolasf/drives/auck_projects/END19101/Working/data/hindcasts/IRI/CMC2-CanCM4/CMC2-CanCM4_hindcasts_HGT_1987_8.nc'),\n",
       " PosixPath('/home/nicolasf/drives/auck_projects/END19101/Working/data/hindcasts/IRI/CMC2-CanCM4/CMC2-CanCM4_hindcasts_HGT_1987_9.nc'),\n",
       " PosixPath('/home/nicolasf/drives/auck_projects/END19101/Working/data/hindcasts/IRI/CMC2-CanCM4/CMC2-CanCM4_hindcasts_HGT_1987_10.nc'),\n",
       " PosixPath('/home/nicolasf/drives/auck_projects/END19101/Working/data/hindcasts/IRI/CMC2-CanCM4/CMC2-CanCM4_hindcasts_HGT_1987_11.nc'),\n",
       " PosixPath('/home/nicolasf/drives/auck_projects/END19101/Working/data/hindcasts/IRI/CMC2-CanCM4/CMC2-CanCM4_hindcasts_HGT_1987_12.nc'),\n",
       " PosixPath('/home/nicolasf/drives/auck_projects/END19101/Working/data/hindcasts/IRI/CMC2-CanCM4/CMC2-CanCM4_hindcasts_HGT_1988_1.nc'),\n",
       " PosixPath('/home/nicolasf/drives/auck_projects/END19101/Working/data/hindcasts/IRI/CMC2-CanCM4/CMC2-CanCM4_hindcasts_HGT_1988_2.nc'),\n",
       " PosixPath('/home/nicolasf/drives/auck_projects/END19101/Working/data/hindcasts/IRI/CMC2-CanCM4/CMC2-CanCM4_hindcasts_HGT_1988_3.nc'),\n",
       " PosixPath('/home/nicolasf/drives/auck_projects/END19101/Working/data/hindcasts/IRI/CMC2-CanCM4/CMC2-CanCM4_hindcasts_HGT_1988_4.nc'),\n",
       " PosixPath('/home/nicolasf/drives/auck_projects/END19101/Working/data/hindcasts/IRI/CMC2-CanCM4/CMC2-CanCM4_hindcasts_HGT_1988_5.nc'),\n",
       " PosixPath('/home/nicolasf/drives/auck_projects/END19101/Working/data/hindcasts/IRI/CMC2-CanCM4/CMC2-CanCM4_hindcasts_HGT_1988_6.nc'),\n",
       " PosixPath('/home/nicolasf/drives/auck_projects/END19101/Working/data/hindcasts/IRI/CMC2-CanCM4/CMC2-CanCM4_hindcasts_HGT_1988_7.nc'),\n",
       " PosixPath('/home/nicolasf/drives/auck_projects/END19101/Working/data/hindcasts/IRI/CMC2-CanCM4/CMC2-CanCM4_hindcasts_HGT_1988_8.nc'),\n",
       " PosixPath('/home/nicolasf/drives/auck_projects/END19101/Working/data/hindcasts/IRI/CMC2-CanCM4/CMC2-CanCM4_hindcasts_HGT_1988_9.nc'),\n",
       " PosixPath('/home/nicolasf/drives/auck_projects/END19101/Working/data/hindcasts/IRI/CMC2-CanCM4/CMC2-CanCM4_hindcasts_HGT_1988_10.nc'),\n",
       " PosixPath('/home/nicolasf/drives/auck_projects/END19101/Working/data/hindcasts/IRI/CMC2-CanCM4/CMC2-CanCM4_hindcasts_HGT_1988_11.nc'),\n",
       " PosixPath('/home/nicolasf/drives/auck_projects/END19101/Working/data/hindcasts/IRI/CMC2-CanCM4/CMC2-CanCM4_hindcasts_HGT_1988_12.nc'),\n",
       " PosixPath('/home/nicolasf/drives/auck_projects/END19101/Working/data/hindcasts/IRI/CMC2-CanCM4/CMC2-CanCM4_hindcasts_HGT_1989_1.nc'),\n",
       " PosixPath('/home/nicolasf/drives/auck_projects/END19101/Working/data/hindcasts/IRI/CMC2-CanCM4/CMC2-CanCM4_hindcasts_HGT_1989_2.nc'),\n",
       " PosixPath('/home/nicolasf/drives/auck_projects/END19101/Working/data/hindcasts/IRI/CMC2-CanCM4/CMC2-CanCM4_hindcasts_HGT_1989_3.nc'),\n",
       " PosixPath('/home/nicolasf/drives/auck_projects/END19101/Working/data/hindcasts/IRI/CMC2-CanCM4/CMC2-CanCM4_hindcasts_HGT_1989_4.nc'),\n",
       " PosixPath('/home/nicolasf/drives/auck_projects/END19101/Working/data/hindcasts/IRI/CMC2-CanCM4/CMC2-CanCM4_hindcasts_HGT_1989_5.nc'),\n",
       " PosixPath('/home/nicolasf/drives/auck_projects/END19101/Working/data/hindcasts/IRI/CMC2-CanCM4/CMC2-CanCM4_hindcasts_HGT_1989_6.nc'),\n",
       " PosixPath('/home/nicolasf/drives/auck_projects/END19101/Working/data/hindcasts/IRI/CMC2-CanCM4/CMC2-CanCM4_hindcasts_HGT_1989_7.nc'),\n",
       " PosixPath('/home/nicolasf/drives/auck_projects/END19101/Working/data/hindcasts/IRI/CMC2-CanCM4/CMC2-CanCM4_hindcasts_HGT_1989_8.nc'),\n",
       " PosixPath('/home/nicolasf/drives/auck_projects/END19101/Working/data/hindcasts/IRI/CMC2-CanCM4/CMC2-CanCM4_hindcasts_HGT_1989_9.nc'),\n",
       " PosixPath('/home/nicolasf/drives/auck_projects/END19101/Working/data/hindcasts/IRI/CMC2-CanCM4/CMC2-CanCM4_hindcasts_HGT_1989_10.nc'),\n",
       " PosixPath('/home/nicolasf/drives/auck_projects/END19101/Working/data/hindcasts/IRI/CMC2-CanCM4/CMC2-CanCM4_hindcasts_HGT_1989_11.nc'),\n",
       " PosixPath('/home/nicolasf/drives/auck_projects/END19101/Working/data/hindcasts/IRI/CMC2-CanCM4/CMC2-CanCM4_hindcasts_HGT_1989_12.nc'),\n",
       " PosixPath('/home/nicolasf/drives/auck_projects/END19101/Working/data/hindcasts/IRI/CMC2-CanCM4/CMC2-CanCM4_hindcasts_HGT_1990_1.nc'),\n",
       " PosixPath('/home/nicolasf/drives/auck_projects/END19101/Working/data/hindcasts/IRI/CMC2-CanCM4/CMC2-CanCM4_hindcasts_HGT_1990_2.nc'),\n",
       " PosixPath('/home/nicolasf/drives/auck_projects/END19101/Working/data/hindcasts/IRI/CMC2-CanCM4/CMC2-CanCM4_hindcasts_HGT_1990_3.nc'),\n",
       " PosixPath('/home/nicolasf/drives/auck_projects/END19101/Working/data/hindcasts/IRI/CMC2-CanCM4/CMC2-CanCM4_hindcasts_HGT_1990_4.nc'),\n",
       " PosixPath('/home/nicolasf/drives/auck_projects/END19101/Working/data/hindcasts/IRI/CMC2-CanCM4/CMC2-CanCM4_hindcasts_HGT_1990_5.nc'),\n",
       " PosixPath('/home/nicolasf/drives/auck_projects/END19101/Working/data/hindcasts/IRI/CMC2-CanCM4/CMC2-CanCM4_hindcasts_HGT_1990_6.nc'),\n",
       " PosixPath('/home/nicolasf/drives/auck_projects/END19101/Working/data/hindcasts/IRI/CMC2-CanCM4/CMC2-CanCM4_hindcasts_HGT_1990_7.nc'),\n",
       " PosixPath('/home/nicolasf/drives/auck_projects/END19101/Working/data/hindcasts/IRI/CMC2-CanCM4/CMC2-CanCM4_hindcasts_HGT_1990_8.nc'),\n",
       " PosixPath('/home/nicolasf/drives/auck_projects/END19101/Working/data/hindcasts/IRI/CMC2-CanCM4/CMC2-CanCM4_hindcasts_HGT_1990_9.nc'),\n",
       " PosixPath('/home/nicolasf/drives/auck_projects/END19101/Working/data/hindcasts/IRI/CMC2-CanCM4/CMC2-CanCM4_hindcasts_HGT_1990_10.nc'),\n",
       " PosixPath('/home/nicolasf/drives/auck_projects/END19101/Working/data/hindcasts/IRI/CMC2-CanCM4/CMC2-CanCM4_hindcasts_HGT_1990_11.nc'),\n",
       " PosixPath('/home/nicolasf/drives/auck_projects/END19101/Working/data/hindcasts/IRI/CMC2-CanCM4/CMC2-CanCM4_hindcasts_HGT_1990_12.nc'),\n",
       " PosixPath('/home/nicolasf/drives/auck_projects/END19101/Working/data/hindcasts/IRI/CMC2-CanCM4/CMC2-CanCM4_hindcasts_HGT_1991_1.nc'),\n",
       " PosixPath('/home/nicolasf/drives/auck_projects/END19101/Working/data/hindcasts/IRI/CMC2-CanCM4/CMC2-CanCM4_hindcasts_HGT_1991_2.nc'),\n",
       " PosixPath('/home/nicolasf/drives/auck_projects/END19101/Working/data/hindcasts/IRI/CMC2-CanCM4/CMC2-CanCM4_hindcasts_HGT_1991_3.nc'),\n",
       " PosixPath('/home/nicolasf/drives/auck_projects/END19101/Working/data/hindcasts/IRI/CMC2-CanCM4/CMC2-CanCM4_hindcasts_HGT_1991_4.nc'),\n",
       " PosixPath('/home/nicolasf/drives/auck_projects/END19101/Working/data/hindcasts/IRI/CMC2-CanCM4/CMC2-CanCM4_hindcasts_HGT_1991_5.nc'),\n",
       " PosixPath('/home/nicolasf/drives/auck_projects/END19101/Working/data/hindcasts/IRI/CMC2-CanCM4/CMC2-CanCM4_hindcasts_HGT_1991_6.nc'),\n",
       " PosixPath('/home/nicolasf/drives/auck_projects/END19101/Working/data/hindcasts/IRI/CMC2-CanCM4/CMC2-CanCM4_hindcasts_HGT_1991_7.nc'),\n",
       " PosixPath('/home/nicolasf/drives/auck_projects/END19101/Working/data/hindcasts/IRI/CMC2-CanCM4/CMC2-CanCM4_hindcasts_HGT_1991_8.nc'),\n",
       " PosixPath('/home/nicolasf/drives/auck_projects/END19101/Working/data/hindcasts/IRI/CMC2-CanCM4/CMC2-CanCM4_hindcasts_HGT_1991_9.nc'),\n",
       " PosixPath('/home/nicolasf/drives/auck_projects/END19101/Working/data/hindcasts/IRI/CMC2-CanCM4/CMC2-CanCM4_hindcasts_HGT_1991_10.nc'),\n",
       " PosixPath('/home/nicolasf/drives/auck_projects/END19101/Working/data/hindcasts/IRI/CMC2-CanCM4/CMC2-CanCM4_hindcasts_HGT_1991_11.nc'),\n",
       " PosixPath('/home/nicolasf/drives/auck_projects/END19101/Working/data/hindcasts/IRI/CMC2-CanCM4/CMC2-CanCM4_hindcasts_HGT_1991_12.nc'),\n",
       " PosixPath('/home/nicolasf/drives/auck_projects/END19101/Working/data/hindcasts/IRI/CMC2-CanCM4/CMC2-CanCM4_hindcasts_HGT_1992_1.nc'),\n",
       " PosixPath('/home/nicolasf/drives/auck_projects/END19101/Working/data/hindcasts/IRI/CMC2-CanCM4/CMC2-CanCM4_hindcasts_HGT_1992_2.nc'),\n",
       " PosixPath('/home/nicolasf/drives/auck_projects/END19101/Working/data/hindcasts/IRI/CMC2-CanCM4/CMC2-CanCM4_hindcasts_HGT_1992_3.nc'),\n",
       " PosixPath('/home/nicolasf/drives/auck_projects/END19101/Working/data/hindcasts/IRI/CMC2-CanCM4/CMC2-CanCM4_hindcasts_HGT_1992_4.nc'),\n",
       " PosixPath('/home/nicolasf/drives/auck_projects/END19101/Working/data/hindcasts/IRI/CMC2-CanCM4/CMC2-CanCM4_hindcasts_HGT_1992_5.nc'),\n",
       " PosixPath('/home/nicolasf/drives/auck_projects/END19101/Working/data/hindcasts/IRI/CMC2-CanCM4/CMC2-CanCM4_hindcasts_HGT_1992_6.nc'),\n",
       " PosixPath('/home/nicolasf/drives/auck_projects/END19101/Working/data/hindcasts/IRI/CMC2-CanCM4/CMC2-CanCM4_hindcasts_HGT_1992_7.nc'),\n",
       " PosixPath('/home/nicolasf/drives/auck_projects/END19101/Working/data/hindcasts/IRI/CMC2-CanCM4/CMC2-CanCM4_hindcasts_HGT_1992_8.nc'),\n",
       " PosixPath('/home/nicolasf/drives/auck_projects/END19101/Working/data/hindcasts/IRI/CMC2-CanCM4/CMC2-CanCM4_hindcasts_HGT_1992_9.nc'),\n",
       " PosixPath('/home/nicolasf/drives/auck_projects/END19101/Working/data/hindcasts/IRI/CMC2-CanCM4/CMC2-CanCM4_hindcasts_HGT_1992_10.nc'),\n",
       " PosixPath('/home/nicolasf/drives/auck_projects/END19101/Working/data/hindcasts/IRI/CMC2-CanCM4/CMC2-CanCM4_hindcasts_HGT_1992_11.nc'),\n",
       " PosixPath('/home/nicolasf/drives/auck_projects/END19101/Working/data/hindcasts/IRI/CMC2-CanCM4/CMC2-CanCM4_hindcasts_HGT_1992_12.nc'),\n",
       " PosixPath('/home/nicolasf/drives/auck_projects/END19101/Working/data/hindcasts/IRI/CMC2-CanCM4/CMC2-CanCM4_hindcasts_HGT_1993_1.nc'),\n",
       " PosixPath('/home/nicolasf/drives/auck_projects/END19101/Working/data/hindcasts/IRI/CMC2-CanCM4/CMC2-CanCM4_hindcasts_HGT_1993_2.nc'),\n",
       " PosixPath('/home/nicolasf/drives/auck_projects/END19101/Working/data/hindcasts/IRI/CMC2-CanCM4/CMC2-CanCM4_hindcasts_HGT_1993_3.nc'),\n",
       " PosixPath('/home/nicolasf/drives/auck_projects/END19101/Working/data/hindcasts/IRI/CMC2-CanCM4/CMC2-CanCM4_hindcasts_HGT_1993_4.nc'),\n",
       " PosixPath('/home/nicolasf/drives/auck_projects/END19101/Working/data/hindcasts/IRI/CMC2-CanCM4/CMC2-CanCM4_hindcasts_HGT_1993_5.nc'),\n",
       " PosixPath('/home/nicolasf/drives/auck_projects/END19101/Working/data/hindcasts/IRI/CMC2-CanCM4/CMC2-CanCM4_hindcasts_HGT_1993_6.nc'),\n",
       " PosixPath('/home/nicolasf/drives/auck_projects/END19101/Working/data/hindcasts/IRI/CMC2-CanCM4/CMC2-CanCM4_hindcasts_HGT_1993_7.nc'),\n",
       " PosixPath('/home/nicolasf/drives/auck_projects/END19101/Working/data/hindcasts/IRI/CMC2-CanCM4/CMC2-CanCM4_hindcasts_HGT_1993_8.nc'),\n",
       " PosixPath('/home/nicolasf/drives/auck_projects/END19101/Working/data/hindcasts/IRI/CMC2-CanCM4/CMC2-CanCM4_hindcasts_HGT_1993_9.nc'),\n",
       " PosixPath('/home/nicolasf/drives/auck_projects/END19101/Working/data/hindcasts/IRI/CMC2-CanCM4/CMC2-CanCM4_hindcasts_HGT_1993_10.nc'),\n",
       " PosixPath('/home/nicolasf/drives/auck_projects/END19101/Working/data/hindcasts/IRI/CMC2-CanCM4/CMC2-CanCM4_hindcasts_HGT_1993_11.nc'),\n",
       " PosixPath('/home/nicolasf/drives/auck_projects/END19101/Working/data/hindcasts/IRI/CMC2-CanCM4/CMC2-CanCM4_hindcasts_HGT_1993_12.nc'),\n",
       " PosixPath('/home/nicolasf/drives/auck_projects/END19101/Working/data/hindcasts/IRI/CMC2-CanCM4/CMC2-CanCM4_hindcasts_HGT_1994_1.nc'),\n",
       " PosixPath('/home/nicolasf/drives/auck_projects/END19101/Working/data/hindcasts/IRI/CMC2-CanCM4/CMC2-CanCM4_hindcasts_HGT_1994_2.nc'),\n",
       " PosixPath('/home/nicolasf/drives/auck_projects/END19101/Working/data/hindcasts/IRI/CMC2-CanCM4/CMC2-CanCM4_hindcasts_HGT_1994_3.nc'),\n",
       " PosixPath('/home/nicolasf/drives/auck_projects/END19101/Working/data/hindcasts/IRI/CMC2-CanCM4/CMC2-CanCM4_hindcasts_HGT_1994_4.nc'),\n",
       " PosixPath('/home/nicolasf/drives/auck_projects/END19101/Working/data/hindcasts/IRI/CMC2-CanCM4/CMC2-CanCM4_hindcasts_HGT_1994_5.nc'),\n",
       " PosixPath('/home/nicolasf/drives/auck_projects/END19101/Working/data/hindcasts/IRI/CMC2-CanCM4/CMC2-CanCM4_hindcasts_HGT_1994_6.nc'),\n",
       " PosixPath('/home/nicolasf/drives/auck_projects/END19101/Working/data/hindcasts/IRI/CMC2-CanCM4/CMC2-CanCM4_hindcasts_HGT_1994_7.nc'),\n",
       " PosixPath('/home/nicolasf/drives/auck_projects/END19101/Working/data/hindcasts/IRI/CMC2-CanCM4/CMC2-CanCM4_hindcasts_HGT_1994_8.nc'),\n",
       " PosixPath('/home/nicolasf/drives/auck_projects/END19101/Working/data/hindcasts/IRI/CMC2-CanCM4/CMC2-CanCM4_hindcasts_HGT_1994_9.nc'),\n",
       " PosixPath('/home/nicolasf/drives/auck_projects/END19101/Working/data/hindcasts/IRI/CMC2-CanCM4/CMC2-CanCM4_hindcasts_HGT_1994_10.nc'),\n",
       " PosixPath('/home/nicolasf/drives/auck_projects/END19101/Working/data/hindcasts/IRI/CMC2-CanCM4/CMC2-CanCM4_hindcasts_HGT_1994_11.nc'),\n",
       " PosixPath('/home/nicolasf/drives/auck_projects/END19101/Working/data/hindcasts/IRI/CMC2-CanCM4/CMC2-CanCM4_hindcasts_HGT_1994_12.nc'),\n",
       " PosixPath('/home/nicolasf/drives/auck_projects/END19101/Working/data/hindcasts/IRI/CMC2-CanCM4/CMC2-CanCM4_hindcasts_HGT_1995_1.nc'),\n",
       " PosixPath('/home/nicolasf/drives/auck_projects/END19101/Working/data/hindcasts/IRI/CMC2-CanCM4/CMC2-CanCM4_hindcasts_HGT_1995_2.nc'),\n",
       " PosixPath('/home/nicolasf/drives/auck_projects/END19101/Working/data/hindcasts/IRI/CMC2-CanCM4/CMC2-CanCM4_hindcasts_HGT_1995_3.nc'),\n",
       " PosixPath('/home/nicolasf/drives/auck_projects/END19101/Working/data/hindcasts/IRI/CMC2-CanCM4/CMC2-CanCM4_hindcasts_HGT_1995_4.nc'),\n",
       " PosixPath('/home/nicolasf/drives/auck_projects/END19101/Working/data/hindcasts/IRI/CMC2-CanCM4/CMC2-CanCM4_hindcasts_HGT_1995_5.nc'),\n",
       " PosixPath('/home/nicolasf/drives/auck_projects/END19101/Working/data/hindcasts/IRI/CMC2-CanCM4/CMC2-CanCM4_hindcasts_HGT_1995_6.nc'),\n",
       " PosixPath('/home/nicolasf/drives/auck_projects/END19101/Working/data/hindcasts/IRI/CMC2-CanCM4/CMC2-CanCM4_hindcasts_HGT_1995_7.nc'),\n",
       " PosixPath('/home/nicolasf/drives/auck_projects/END19101/Working/data/hindcasts/IRI/CMC2-CanCM4/CMC2-CanCM4_hindcasts_HGT_1995_8.nc'),\n",
       " PosixPath('/home/nicolasf/drives/auck_projects/END19101/Working/data/hindcasts/IRI/CMC2-CanCM4/CMC2-CanCM4_hindcasts_HGT_1995_9.nc'),\n",
       " PosixPath('/home/nicolasf/drives/auck_projects/END19101/Working/data/hindcasts/IRI/CMC2-CanCM4/CMC2-CanCM4_hindcasts_HGT_1995_10.nc'),\n",
       " PosixPath('/home/nicolasf/drives/auck_projects/END19101/Working/data/hindcasts/IRI/CMC2-CanCM4/CMC2-CanCM4_hindcasts_HGT_1995_11.nc'),\n",
       " PosixPath('/home/nicolasf/drives/auck_projects/END19101/Working/data/hindcasts/IRI/CMC2-CanCM4/CMC2-CanCM4_hindcasts_HGT_1995_12.nc'),\n",
       " PosixPath('/home/nicolasf/drives/auck_projects/END19101/Working/data/hindcasts/IRI/CMC2-CanCM4/CMC2-CanCM4_hindcasts_HGT_1996_1.nc'),\n",
       " PosixPath('/home/nicolasf/drives/auck_projects/END19101/Working/data/hindcasts/IRI/CMC2-CanCM4/CMC2-CanCM4_hindcasts_HGT_1996_2.nc'),\n",
       " PosixPath('/home/nicolasf/drives/auck_projects/END19101/Working/data/hindcasts/IRI/CMC2-CanCM4/CMC2-CanCM4_hindcasts_HGT_1996_3.nc'),\n",
       " PosixPath('/home/nicolasf/drives/auck_projects/END19101/Working/data/hindcasts/IRI/CMC2-CanCM4/CMC2-CanCM4_hindcasts_HGT_1996_4.nc'),\n",
       " PosixPath('/home/nicolasf/drives/auck_projects/END19101/Working/data/hindcasts/IRI/CMC2-CanCM4/CMC2-CanCM4_hindcasts_HGT_1996_5.nc'),\n",
       " PosixPath('/home/nicolasf/drives/auck_projects/END19101/Working/data/hindcasts/IRI/CMC2-CanCM4/CMC2-CanCM4_hindcasts_HGT_1996_6.nc'),\n",
       " PosixPath('/home/nicolasf/drives/auck_projects/END19101/Working/data/hindcasts/IRI/CMC2-CanCM4/CMC2-CanCM4_hindcasts_HGT_1996_7.nc'),\n",
       " PosixPath('/home/nicolasf/drives/auck_projects/END19101/Working/data/hindcasts/IRI/CMC2-CanCM4/CMC2-CanCM4_hindcasts_HGT_1996_8.nc'),\n",
       " PosixPath('/home/nicolasf/drives/auck_projects/END19101/Working/data/hindcasts/IRI/CMC2-CanCM4/CMC2-CanCM4_hindcasts_HGT_1996_9.nc'),\n",
       " PosixPath('/home/nicolasf/drives/auck_projects/END19101/Working/data/hindcasts/IRI/CMC2-CanCM4/CMC2-CanCM4_hindcasts_HGT_1996_10.nc'),\n",
       " PosixPath('/home/nicolasf/drives/auck_projects/END19101/Working/data/hindcasts/IRI/CMC2-CanCM4/CMC2-CanCM4_hindcasts_HGT_1996_11.nc'),\n",
       " PosixPath('/home/nicolasf/drives/auck_projects/END19101/Working/data/hindcasts/IRI/CMC2-CanCM4/CMC2-CanCM4_hindcasts_HGT_1996_12.nc'),\n",
       " PosixPath('/home/nicolasf/drives/auck_projects/END19101/Working/data/hindcasts/IRI/CMC2-CanCM4/CMC2-CanCM4_hindcasts_HGT_1997_1.nc'),\n",
       " PosixPath('/home/nicolasf/drives/auck_projects/END19101/Working/data/hindcasts/IRI/CMC2-CanCM4/CMC2-CanCM4_hindcasts_HGT_1997_2.nc'),\n",
       " PosixPath('/home/nicolasf/drives/auck_projects/END19101/Working/data/hindcasts/IRI/CMC2-CanCM4/CMC2-CanCM4_hindcasts_HGT_1997_3.nc'),\n",
       " PosixPath('/home/nicolasf/drives/auck_projects/END19101/Working/data/hindcasts/IRI/CMC2-CanCM4/CMC2-CanCM4_hindcasts_HGT_1997_4.nc'),\n",
       " PosixPath('/home/nicolasf/drives/auck_projects/END19101/Working/data/hindcasts/IRI/CMC2-CanCM4/CMC2-CanCM4_hindcasts_HGT_1997_5.nc'),\n",
       " PosixPath('/home/nicolasf/drives/auck_projects/END19101/Working/data/hindcasts/IRI/CMC2-CanCM4/CMC2-CanCM4_hindcasts_HGT_1997_6.nc'),\n",
       " PosixPath('/home/nicolasf/drives/auck_projects/END19101/Working/data/hindcasts/IRI/CMC2-CanCM4/CMC2-CanCM4_hindcasts_HGT_1997_7.nc'),\n",
       " PosixPath('/home/nicolasf/drives/auck_projects/END19101/Working/data/hindcasts/IRI/CMC2-CanCM4/CMC2-CanCM4_hindcasts_HGT_1997_8.nc'),\n",
       " PosixPath('/home/nicolasf/drives/auck_projects/END19101/Working/data/hindcasts/IRI/CMC2-CanCM4/CMC2-CanCM4_hindcasts_HGT_1997_9.nc'),\n",
       " PosixPath('/home/nicolasf/drives/auck_projects/END19101/Working/data/hindcasts/IRI/CMC2-CanCM4/CMC2-CanCM4_hindcasts_HGT_1997_10.nc'),\n",
       " PosixPath('/home/nicolasf/drives/auck_projects/END19101/Working/data/hindcasts/IRI/CMC2-CanCM4/CMC2-CanCM4_hindcasts_HGT_1997_11.nc'),\n",
       " PosixPath('/home/nicolasf/drives/auck_projects/END19101/Working/data/hindcasts/IRI/CMC2-CanCM4/CMC2-CanCM4_hindcasts_HGT_1997_12.nc'),\n",
       " PosixPath('/home/nicolasf/drives/auck_projects/END19101/Working/data/hindcasts/IRI/CMC2-CanCM4/CMC2-CanCM4_hindcasts_HGT_1998_1.nc'),\n",
       " PosixPath('/home/nicolasf/drives/auck_projects/END19101/Working/data/hindcasts/IRI/CMC2-CanCM4/CMC2-CanCM4_hindcasts_HGT_1998_2.nc'),\n",
       " PosixPath('/home/nicolasf/drives/auck_projects/END19101/Working/data/hindcasts/IRI/CMC2-CanCM4/CMC2-CanCM4_hindcasts_HGT_1998_3.nc'),\n",
       " PosixPath('/home/nicolasf/drives/auck_projects/END19101/Working/data/hindcasts/IRI/CMC2-CanCM4/CMC2-CanCM4_hindcasts_HGT_1998_4.nc'),\n",
       " PosixPath('/home/nicolasf/drives/auck_projects/END19101/Working/data/hindcasts/IRI/CMC2-CanCM4/CMC2-CanCM4_hindcasts_HGT_1998_5.nc'),\n",
       " PosixPath('/home/nicolasf/drives/auck_projects/END19101/Working/data/hindcasts/IRI/CMC2-CanCM4/CMC2-CanCM4_hindcasts_HGT_1998_6.nc'),\n",
       " PosixPath('/home/nicolasf/drives/auck_projects/END19101/Working/data/hindcasts/IRI/CMC2-CanCM4/CMC2-CanCM4_hindcasts_HGT_1998_7.nc'),\n",
       " PosixPath('/home/nicolasf/drives/auck_projects/END19101/Working/data/hindcasts/IRI/CMC2-CanCM4/CMC2-CanCM4_hindcasts_HGT_1998_8.nc'),\n",
       " PosixPath('/home/nicolasf/drives/auck_projects/END19101/Working/data/hindcasts/IRI/CMC2-CanCM4/CMC2-CanCM4_hindcasts_HGT_1998_9.nc'),\n",
       " PosixPath('/home/nicolasf/drives/auck_projects/END19101/Working/data/hindcasts/IRI/CMC2-CanCM4/CMC2-CanCM4_hindcasts_HGT_1998_10.nc'),\n",
       " PosixPath('/home/nicolasf/drives/auck_projects/END19101/Working/data/hindcasts/IRI/CMC2-CanCM4/CMC2-CanCM4_hindcasts_HGT_1998_11.nc'),\n",
       " PosixPath('/home/nicolasf/drives/auck_projects/END19101/Working/data/hindcasts/IRI/CMC2-CanCM4/CMC2-CanCM4_hindcasts_HGT_1998_12.nc'),\n",
       " PosixPath('/home/nicolasf/drives/auck_projects/END19101/Working/data/hindcasts/IRI/CMC2-CanCM4/CMC2-CanCM4_hindcasts_HGT_1999_1.nc'),\n",
       " PosixPath('/home/nicolasf/drives/auck_projects/END19101/Working/data/hindcasts/IRI/CMC2-CanCM4/CMC2-CanCM4_hindcasts_HGT_1999_2.nc'),\n",
       " PosixPath('/home/nicolasf/drives/auck_projects/END19101/Working/data/hindcasts/IRI/CMC2-CanCM4/CMC2-CanCM4_hindcasts_HGT_1999_3.nc'),\n",
       " PosixPath('/home/nicolasf/drives/auck_projects/END19101/Working/data/hindcasts/IRI/CMC2-CanCM4/CMC2-CanCM4_hindcasts_HGT_1999_4.nc'),\n",
       " PosixPath('/home/nicolasf/drives/auck_projects/END19101/Working/data/hindcasts/IRI/CMC2-CanCM4/CMC2-CanCM4_hindcasts_HGT_1999_5.nc'),\n",
       " PosixPath('/home/nicolasf/drives/auck_projects/END19101/Working/data/hindcasts/IRI/CMC2-CanCM4/CMC2-CanCM4_hindcasts_HGT_1999_6.nc'),\n",
       " PosixPath('/home/nicolasf/drives/auck_projects/END19101/Working/data/hindcasts/IRI/CMC2-CanCM4/CMC2-CanCM4_hindcasts_HGT_1999_7.nc'),\n",
       " PosixPath('/home/nicolasf/drives/auck_projects/END19101/Working/data/hindcasts/IRI/CMC2-CanCM4/CMC2-CanCM4_hindcasts_HGT_1999_8.nc'),\n",
       " PosixPath('/home/nicolasf/drives/auck_projects/END19101/Working/data/hindcasts/IRI/CMC2-CanCM4/CMC2-CanCM4_hindcasts_HGT_1999_9.nc'),\n",
       " PosixPath('/home/nicolasf/drives/auck_projects/END19101/Working/data/hindcasts/IRI/CMC2-CanCM4/CMC2-CanCM4_hindcasts_HGT_1999_10.nc'),\n",
       " PosixPath('/home/nicolasf/drives/auck_projects/END19101/Working/data/hindcasts/IRI/CMC2-CanCM4/CMC2-CanCM4_hindcasts_HGT_1999_11.nc'),\n",
       " PosixPath('/home/nicolasf/drives/auck_projects/END19101/Working/data/hindcasts/IRI/CMC2-CanCM4/CMC2-CanCM4_hindcasts_HGT_1999_12.nc'),\n",
       " PosixPath('/home/nicolasf/drives/auck_projects/END19101/Working/data/hindcasts/IRI/CMC2-CanCM4/CMC2-CanCM4_hindcasts_HGT_2000_1.nc'),\n",
       " PosixPath('/home/nicolasf/drives/auck_projects/END19101/Working/data/hindcasts/IRI/CMC2-CanCM4/CMC2-CanCM4_hindcasts_HGT_2000_2.nc'),\n",
       " PosixPath('/home/nicolasf/drives/auck_projects/END19101/Working/data/hindcasts/IRI/CMC2-CanCM4/CMC2-CanCM4_hindcasts_HGT_2000_3.nc'),\n",
       " PosixPath('/home/nicolasf/drives/auck_projects/END19101/Working/data/hindcasts/IRI/CMC2-CanCM4/CMC2-CanCM4_hindcasts_HGT_2000_4.nc'),\n",
       " PosixPath('/home/nicolasf/drives/auck_projects/END19101/Working/data/hindcasts/IRI/CMC2-CanCM4/CMC2-CanCM4_hindcasts_HGT_2000_5.nc'),\n",
       " PosixPath('/home/nicolasf/drives/auck_projects/END19101/Working/data/hindcasts/IRI/CMC2-CanCM4/CMC2-CanCM4_hindcasts_HGT_2000_6.nc'),\n",
       " PosixPath('/home/nicolasf/drives/auck_projects/END19101/Working/data/hindcasts/IRI/CMC2-CanCM4/CMC2-CanCM4_hindcasts_HGT_2000_7.nc'),\n",
       " PosixPath('/home/nicolasf/drives/auck_projects/END19101/Working/data/hindcasts/IRI/CMC2-CanCM4/CMC2-CanCM4_hindcasts_HGT_2000_8.nc'),\n",
       " PosixPath('/home/nicolasf/drives/auck_projects/END19101/Working/data/hindcasts/IRI/CMC2-CanCM4/CMC2-CanCM4_hindcasts_HGT_2000_9.nc'),\n",
       " PosixPath('/home/nicolasf/drives/auck_projects/END19101/Working/data/hindcasts/IRI/CMC2-CanCM4/CMC2-CanCM4_hindcasts_HGT_2000_10.nc'),\n",
       " PosixPath('/home/nicolasf/drives/auck_projects/END19101/Working/data/hindcasts/IRI/CMC2-CanCM4/CMC2-CanCM4_hindcasts_HGT_2000_11.nc'),\n",
       " PosixPath('/home/nicolasf/drives/auck_projects/END19101/Working/data/hindcasts/IRI/CMC2-CanCM4/CMC2-CanCM4_hindcasts_HGT_2000_12.nc'),\n",
       " PosixPath('/home/nicolasf/drives/auck_projects/END19101/Working/data/hindcasts/IRI/CMC2-CanCM4/CMC2-CanCM4_hindcasts_HGT_2001_1.nc'),\n",
       " PosixPath('/home/nicolasf/drives/auck_projects/END19101/Working/data/hindcasts/IRI/CMC2-CanCM4/CMC2-CanCM4_hindcasts_HGT_2001_2.nc'),\n",
       " PosixPath('/home/nicolasf/drives/auck_projects/END19101/Working/data/hindcasts/IRI/CMC2-CanCM4/CMC2-CanCM4_hindcasts_HGT_2001_3.nc'),\n",
       " PosixPath('/home/nicolasf/drives/auck_projects/END19101/Working/data/hindcasts/IRI/CMC2-CanCM4/CMC2-CanCM4_hindcasts_HGT_2001_4.nc'),\n",
       " PosixPath('/home/nicolasf/drives/auck_projects/END19101/Working/data/hindcasts/IRI/CMC2-CanCM4/CMC2-CanCM4_hindcasts_HGT_2001_5.nc'),\n",
       " PosixPath('/home/nicolasf/drives/auck_projects/END19101/Working/data/hindcasts/IRI/CMC2-CanCM4/CMC2-CanCM4_hindcasts_HGT_2001_6.nc'),\n",
       " PosixPath('/home/nicolasf/drives/auck_projects/END19101/Working/data/hindcasts/IRI/CMC2-CanCM4/CMC2-CanCM4_hindcasts_HGT_2001_7.nc'),\n",
       " PosixPath('/home/nicolasf/drives/auck_projects/END19101/Working/data/hindcasts/IRI/CMC2-CanCM4/CMC2-CanCM4_hindcasts_HGT_2001_8.nc'),\n",
       " PosixPath('/home/nicolasf/drives/auck_projects/END19101/Working/data/hindcasts/IRI/CMC2-CanCM4/CMC2-CanCM4_hindcasts_HGT_2001_9.nc'),\n",
       " PosixPath('/home/nicolasf/drives/auck_projects/END19101/Working/data/hindcasts/IRI/CMC2-CanCM4/CMC2-CanCM4_hindcasts_HGT_2001_10.nc'),\n",
       " PosixPath('/home/nicolasf/drives/auck_projects/END19101/Working/data/hindcasts/IRI/CMC2-CanCM4/CMC2-CanCM4_hindcasts_HGT_2001_11.nc'),\n",
       " PosixPath('/home/nicolasf/drives/auck_projects/END19101/Working/data/hindcasts/IRI/CMC2-CanCM4/CMC2-CanCM4_hindcasts_HGT_2001_12.nc'),\n",
       " PosixPath('/home/nicolasf/drives/auck_projects/END19101/Working/data/hindcasts/IRI/CMC2-CanCM4/CMC2-CanCM4_hindcasts_HGT_2002_1.nc'),\n",
       " PosixPath('/home/nicolasf/drives/auck_projects/END19101/Working/data/hindcasts/IRI/CMC2-CanCM4/CMC2-CanCM4_hindcasts_HGT_2002_2.nc'),\n",
       " PosixPath('/home/nicolasf/drives/auck_projects/END19101/Working/data/hindcasts/IRI/CMC2-CanCM4/CMC2-CanCM4_hindcasts_HGT_2002_3.nc'),\n",
       " PosixPath('/home/nicolasf/drives/auck_projects/END19101/Working/data/hindcasts/IRI/CMC2-CanCM4/CMC2-CanCM4_hindcasts_HGT_2002_4.nc'),\n",
       " PosixPath('/home/nicolasf/drives/auck_projects/END19101/Working/data/hindcasts/IRI/CMC2-CanCM4/CMC2-CanCM4_hindcasts_HGT_2002_5.nc'),\n",
       " PosixPath('/home/nicolasf/drives/auck_projects/END19101/Working/data/hindcasts/IRI/CMC2-CanCM4/CMC2-CanCM4_hindcasts_HGT_2002_6.nc'),\n",
       " PosixPath('/home/nicolasf/drives/auck_projects/END19101/Working/data/hindcasts/IRI/CMC2-CanCM4/CMC2-CanCM4_hindcasts_HGT_2002_7.nc'),\n",
       " PosixPath('/home/nicolasf/drives/auck_projects/END19101/Working/data/hindcasts/IRI/CMC2-CanCM4/CMC2-CanCM4_hindcasts_HGT_2002_8.nc'),\n",
       " PosixPath('/home/nicolasf/drives/auck_projects/END19101/Working/data/hindcasts/IRI/CMC2-CanCM4/CMC2-CanCM4_hindcasts_HGT_2002_9.nc'),\n",
       " PosixPath('/home/nicolasf/drives/auck_projects/END19101/Working/data/hindcasts/IRI/CMC2-CanCM4/CMC2-CanCM4_hindcasts_HGT_2002_10.nc'),\n",
       " PosixPath('/home/nicolasf/drives/auck_projects/END19101/Working/data/hindcasts/IRI/CMC2-CanCM4/CMC2-CanCM4_hindcasts_HGT_2002_11.nc'),\n",
       " PosixPath('/home/nicolasf/drives/auck_projects/END19101/Working/data/hindcasts/IRI/CMC2-CanCM4/CMC2-CanCM4_hindcasts_HGT_2002_12.nc'),\n",
       " PosixPath('/home/nicolasf/drives/auck_projects/END19101/Working/data/hindcasts/IRI/CMC2-CanCM4/CMC2-CanCM4_hindcasts_HGT_2003_1.nc'),\n",
       " PosixPath('/home/nicolasf/drives/auck_projects/END19101/Working/data/hindcasts/IRI/CMC2-CanCM4/CMC2-CanCM4_hindcasts_HGT_2003_2.nc'),\n",
       " PosixPath('/home/nicolasf/drives/auck_projects/END19101/Working/data/hindcasts/IRI/CMC2-CanCM4/CMC2-CanCM4_hindcasts_HGT_2003_3.nc'),\n",
       " PosixPath('/home/nicolasf/drives/auck_projects/END19101/Working/data/hindcasts/IRI/CMC2-CanCM4/CMC2-CanCM4_hindcasts_HGT_2003_4.nc'),\n",
       " PosixPath('/home/nicolasf/drives/auck_projects/END19101/Working/data/hindcasts/IRI/CMC2-CanCM4/CMC2-CanCM4_hindcasts_HGT_2003_5.nc'),\n",
       " PosixPath('/home/nicolasf/drives/auck_projects/END19101/Working/data/hindcasts/IRI/CMC2-CanCM4/CMC2-CanCM4_hindcasts_HGT_2003_6.nc'),\n",
       " PosixPath('/home/nicolasf/drives/auck_projects/END19101/Working/data/hindcasts/IRI/CMC2-CanCM4/CMC2-CanCM4_hindcasts_HGT_2003_7.nc'),\n",
       " PosixPath('/home/nicolasf/drives/auck_projects/END19101/Working/data/hindcasts/IRI/CMC2-CanCM4/CMC2-CanCM4_hindcasts_HGT_2003_8.nc'),\n",
       " PosixPath('/home/nicolasf/drives/auck_projects/END19101/Working/data/hindcasts/IRI/CMC2-CanCM4/CMC2-CanCM4_hindcasts_HGT_2003_9.nc'),\n",
       " PosixPath('/home/nicolasf/drives/auck_projects/END19101/Working/data/hindcasts/IRI/CMC2-CanCM4/CMC2-CanCM4_hindcasts_HGT_2003_10.nc'),\n",
       " PosixPath('/home/nicolasf/drives/auck_projects/END19101/Working/data/hindcasts/IRI/CMC2-CanCM4/CMC2-CanCM4_hindcasts_HGT_2003_11.nc'),\n",
       " PosixPath('/home/nicolasf/drives/auck_projects/END19101/Working/data/hindcasts/IRI/CMC2-CanCM4/CMC2-CanCM4_hindcasts_HGT_2003_12.nc'),\n",
       " PosixPath('/home/nicolasf/drives/auck_projects/END19101/Working/data/hindcasts/IRI/CMC2-CanCM4/CMC2-CanCM4_hindcasts_HGT_2004_1.nc'),\n",
       " PosixPath('/home/nicolasf/drives/auck_projects/END19101/Working/data/hindcasts/IRI/CMC2-CanCM4/CMC2-CanCM4_hindcasts_HGT_2004_2.nc'),\n",
       " PosixPath('/home/nicolasf/drives/auck_projects/END19101/Working/data/hindcasts/IRI/CMC2-CanCM4/CMC2-CanCM4_hindcasts_HGT_2004_3.nc'),\n",
       " PosixPath('/home/nicolasf/drives/auck_projects/END19101/Working/data/hindcasts/IRI/CMC2-CanCM4/CMC2-CanCM4_hindcasts_HGT_2004_4.nc'),\n",
       " PosixPath('/home/nicolasf/drives/auck_projects/END19101/Working/data/hindcasts/IRI/CMC2-CanCM4/CMC2-CanCM4_hindcasts_HGT_2004_5.nc'),\n",
       " PosixPath('/home/nicolasf/drives/auck_projects/END19101/Working/data/hindcasts/IRI/CMC2-CanCM4/CMC2-CanCM4_hindcasts_HGT_2004_6.nc'),\n",
       " PosixPath('/home/nicolasf/drives/auck_projects/END19101/Working/data/hindcasts/IRI/CMC2-CanCM4/CMC2-CanCM4_hindcasts_HGT_2004_7.nc'),\n",
       " PosixPath('/home/nicolasf/drives/auck_projects/END19101/Working/data/hindcasts/IRI/CMC2-CanCM4/CMC2-CanCM4_hindcasts_HGT_2004_8.nc'),\n",
       " PosixPath('/home/nicolasf/drives/auck_projects/END19101/Working/data/hindcasts/IRI/CMC2-CanCM4/CMC2-CanCM4_hindcasts_HGT_2004_9.nc'),\n",
       " PosixPath('/home/nicolasf/drives/auck_projects/END19101/Working/data/hindcasts/IRI/CMC2-CanCM4/CMC2-CanCM4_hindcasts_HGT_2004_10.nc'),\n",
       " PosixPath('/home/nicolasf/drives/auck_projects/END19101/Working/data/hindcasts/IRI/CMC2-CanCM4/CMC2-CanCM4_hindcasts_HGT_2004_11.nc'),\n",
       " PosixPath('/home/nicolasf/drives/auck_projects/END19101/Working/data/hindcasts/IRI/CMC2-CanCM4/CMC2-CanCM4_hindcasts_HGT_2004_12.nc'),\n",
       " PosixPath('/home/nicolasf/drives/auck_projects/END19101/Working/data/hindcasts/IRI/CMC2-CanCM4/CMC2-CanCM4_hindcasts_HGT_2005_1.nc'),\n",
       " PosixPath('/home/nicolasf/drives/auck_projects/END19101/Working/data/hindcasts/IRI/CMC2-CanCM4/CMC2-CanCM4_hindcasts_HGT_2005_2.nc'),\n",
       " PosixPath('/home/nicolasf/drives/auck_projects/END19101/Working/data/hindcasts/IRI/CMC2-CanCM4/CMC2-CanCM4_hindcasts_HGT_2005_3.nc'),\n",
       " PosixPath('/home/nicolasf/drives/auck_projects/END19101/Working/data/hindcasts/IRI/CMC2-CanCM4/CMC2-CanCM4_hindcasts_HGT_2005_4.nc'),\n",
       " PosixPath('/home/nicolasf/drives/auck_projects/END19101/Working/data/hindcasts/IRI/CMC2-CanCM4/CMC2-CanCM4_hindcasts_HGT_2005_5.nc'),\n",
       " PosixPath('/home/nicolasf/drives/auck_projects/END19101/Working/data/hindcasts/IRI/CMC2-CanCM4/CMC2-CanCM4_hindcasts_HGT_2005_6.nc'),\n",
       " PosixPath('/home/nicolasf/drives/auck_projects/END19101/Working/data/hindcasts/IRI/CMC2-CanCM4/CMC2-CanCM4_hindcasts_HGT_2005_7.nc'),\n",
       " PosixPath('/home/nicolasf/drives/auck_projects/END19101/Working/data/hindcasts/IRI/CMC2-CanCM4/CMC2-CanCM4_hindcasts_HGT_2005_8.nc'),\n",
       " PosixPath('/home/nicolasf/drives/auck_projects/END19101/Working/data/hindcasts/IRI/CMC2-CanCM4/CMC2-CanCM4_hindcasts_HGT_2005_9.nc'),\n",
       " PosixPath('/home/nicolasf/drives/auck_projects/END19101/Working/data/hindcasts/IRI/CMC2-CanCM4/CMC2-CanCM4_hindcasts_HGT_2005_10.nc'),\n",
       " PosixPath('/home/nicolasf/drives/auck_projects/END19101/Working/data/hindcasts/IRI/CMC2-CanCM4/CMC2-CanCM4_hindcasts_HGT_2005_11.nc'),\n",
       " PosixPath('/home/nicolasf/drives/auck_projects/END19101/Working/data/hindcasts/IRI/CMC2-CanCM4/CMC2-CanCM4_hindcasts_HGT_2005_12.nc'),\n",
       " PosixPath('/home/nicolasf/drives/auck_projects/END19101/Working/data/hindcasts/IRI/CMC2-CanCM4/CMC2-CanCM4_hindcasts_HGT_2006_1.nc'),\n",
       " PosixPath('/home/nicolasf/drives/auck_projects/END19101/Working/data/hindcasts/IRI/CMC2-CanCM4/CMC2-CanCM4_hindcasts_HGT_2006_2.nc'),\n",
       " PosixPath('/home/nicolasf/drives/auck_projects/END19101/Working/data/hindcasts/IRI/CMC2-CanCM4/CMC2-CanCM4_hindcasts_HGT_2006_3.nc'),\n",
       " PosixPath('/home/nicolasf/drives/auck_projects/END19101/Working/data/hindcasts/IRI/CMC2-CanCM4/CMC2-CanCM4_hindcasts_HGT_2006_4.nc'),\n",
       " PosixPath('/home/nicolasf/drives/auck_projects/END19101/Working/data/hindcasts/IRI/CMC2-CanCM4/CMC2-CanCM4_hindcasts_HGT_2006_5.nc'),\n",
       " PosixPath('/home/nicolasf/drives/auck_projects/END19101/Working/data/hindcasts/IRI/CMC2-CanCM4/CMC2-CanCM4_hindcasts_HGT_2006_6.nc'),\n",
       " PosixPath('/home/nicolasf/drives/auck_projects/END19101/Working/data/hindcasts/IRI/CMC2-CanCM4/CMC2-CanCM4_hindcasts_HGT_2006_7.nc'),\n",
       " PosixPath('/home/nicolasf/drives/auck_projects/END19101/Working/data/hindcasts/IRI/CMC2-CanCM4/CMC2-CanCM4_hindcasts_HGT_2006_8.nc'),\n",
       " PosixPath('/home/nicolasf/drives/auck_projects/END19101/Working/data/hindcasts/IRI/CMC2-CanCM4/CMC2-CanCM4_hindcasts_HGT_2006_9.nc'),\n",
       " PosixPath('/home/nicolasf/drives/auck_projects/END19101/Working/data/hindcasts/IRI/CMC2-CanCM4/CMC2-CanCM4_hindcasts_HGT_2006_10.nc'),\n",
       " PosixPath('/home/nicolasf/drives/auck_projects/END19101/Working/data/hindcasts/IRI/CMC2-CanCM4/CMC2-CanCM4_hindcasts_HGT_2006_11.nc'),\n",
       " PosixPath('/home/nicolasf/drives/auck_projects/END19101/Working/data/hindcasts/IRI/CMC2-CanCM4/CMC2-CanCM4_hindcasts_HGT_2006_12.nc'),\n",
       " PosixPath('/home/nicolasf/drives/auck_projects/END19101/Working/data/hindcasts/IRI/CMC2-CanCM4/CMC2-CanCM4_hindcasts_HGT_2007_1.nc'),\n",
       " PosixPath('/home/nicolasf/drives/auck_projects/END19101/Working/data/hindcasts/IRI/CMC2-CanCM4/CMC2-CanCM4_hindcasts_HGT_2007_2.nc'),\n",
       " PosixPath('/home/nicolasf/drives/auck_projects/END19101/Working/data/hindcasts/IRI/CMC2-CanCM4/CMC2-CanCM4_hindcasts_HGT_2007_3.nc'),\n",
       " PosixPath('/home/nicolasf/drives/auck_projects/END19101/Working/data/hindcasts/IRI/CMC2-CanCM4/CMC2-CanCM4_hindcasts_HGT_2007_4.nc'),\n",
       " PosixPath('/home/nicolasf/drives/auck_projects/END19101/Working/data/hindcasts/IRI/CMC2-CanCM4/CMC2-CanCM4_hindcasts_HGT_2007_5.nc'),\n",
       " PosixPath('/home/nicolasf/drives/auck_projects/END19101/Working/data/hindcasts/IRI/CMC2-CanCM4/CMC2-CanCM4_hindcasts_HGT_2007_6.nc'),\n",
       " PosixPath('/home/nicolasf/drives/auck_projects/END19101/Working/data/hindcasts/IRI/CMC2-CanCM4/CMC2-CanCM4_hindcasts_HGT_2007_7.nc'),\n",
       " PosixPath('/home/nicolasf/drives/auck_projects/END19101/Working/data/hindcasts/IRI/CMC2-CanCM4/CMC2-CanCM4_hindcasts_HGT_2007_8.nc'),\n",
       " PosixPath('/home/nicolasf/drives/auck_projects/END19101/Working/data/hindcasts/IRI/CMC2-CanCM4/CMC2-CanCM4_hindcasts_HGT_2007_9.nc'),\n",
       " PosixPath('/home/nicolasf/drives/auck_projects/END19101/Working/data/hindcasts/IRI/CMC2-CanCM4/CMC2-CanCM4_hindcasts_HGT_2007_10.nc'),\n",
       " PosixPath('/home/nicolasf/drives/auck_projects/END19101/Working/data/hindcasts/IRI/CMC2-CanCM4/CMC2-CanCM4_hindcasts_HGT_2007_11.nc'),\n",
       " PosixPath('/home/nicolasf/drives/auck_projects/END19101/Working/data/hindcasts/IRI/CMC2-CanCM4/CMC2-CanCM4_hindcasts_HGT_2007_12.nc'),\n",
       " PosixPath('/home/nicolasf/drives/auck_projects/END19101/Working/data/hindcasts/IRI/CMC2-CanCM4/CMC2-CanCM4_hindcasts_HGT_2008_1.nc'),\n",
       " PosixPath('/home/nicolasf/drives/auck_projects/END19101/Working/data/hindcasts/IRI/CMC2-CanCM4/CMC2-CanCM4_hindcasts_HGT_2008_2.nc'),\n",
       " PosixPath('/home/nicolasf/drives/auck_projects/END19101/Working/data/hindcasts/IRI/CMC2-CanCM4/CMC2-CanCM4_hindcasts_HGT_2008_3.nc'),\n",
       " PosixPath('/home/nicolasf/drives/auck_projects/END19101/Working/data/hindcasts/IRI/CMC2-CanCM4/CMC2-CanCM4_hindcasts_HGT_2008_4.nc'),\n",
       " PosixPath('/home/nicolasf/drives/auck_projects/END19101/Working/data/hindcasts/IRI/CMC2-CanCM4/CMC2-CanCM4_hindcasts_HGT_2008_5.nc'),\n",
       " PosixPath('/home/nicolasf/drives/auck_projects/END19101/Working/data/hindcasts/IRI/CMC2-CanCM4/CMC2-CanCM4_hindcasts_HGT_2008_6.nc'),\n",
       " PosixPath('/home/nicolasf/drives/auck_projects/END19101/Working/data/hindcasts/IRI/CMC2-CanCM4/CMC2-CanCM4_hindcasts_HGT_2008_7.nc'),\n",
       " PosixPath('/home/nicolasf/drives/auck_projects/END19101/Working/data/hindcasts/IRI/CMC2-CanCM4/CMC2-CanCM4_hindcasts_HGT_2008_8.nc'),\n",
       " PosixPath('/home/nicolasf/drives/auck_projects/END19101/Working/data/hindcasts/IRI/CMC2-CanCM4/CMC2-CanCM4_hindcasts_HGT_2008_9.nc'),\n",
       " PosixPath('/home/nicolasf/drives/auck_projects/END19101/Working/data/hindcasts/IRI/CMC2-CanCM4/CMC2-CanCM4_hindcasts_HGT_2008_10.nc'),\n",
       " PosixPath('/home/nicolasf/drives/auck_projects/END19101/Working/data/hindcasts/IRI/CMC2-CanCM4/CMC2-CanCM4_hindcasts_HGT_2008_11.nc'),\n",
       " PosixPath('/home/nicolasf/drives/auck_projects/END19101/Working/data/hindcasts/IRI/CMC2-CanCM4/CMC2-CanCM4_hindcasts_HGT_2008_12.nc'),\n",
       " PosixPath('/home/nicolasf/drives/auck_projects/END19101/Working/data/hindcasts/IRI/CMC2-CanCM4/CMC2-CanCM4_hindcasts_HGT_2009_1.nc'),\n",
       " PosixPath('/home/nicolasf/drives/auck_projects/END19101/Working/data/hindcasts/IRI/CMC2-CanCM4/CMC2-CanCM4_hindcasts_HGT_2009_2.nc'),\n",
       " PosixPath('/home/nicolasf/drives/auck_projects/END19101/Working/data/hindcasts/IRI/CMC2-CanCM4/CMC2-CanCM4_hindcasts_HGT_2009_3.nc'),\n",
       " PosixPath('/home/nicolasf/drives/auck_projects/END19101/Working/data/hindcasts/IRI/CMC2-CanCM4/CMC2-CanCM4_hindcasts_HGT_2009_4.nc'),\n",
       " PosixPath('/home/nicolasf/drives/auck_projects/END19101/Working/data/hindcasts/IRI/CMC2-CanCM4/CMC2-CanCM4_hindcasts_HGT_2009_5.nc'),\n",
       " PosixPath('/home/nicolasf/drives/auck_projects/END19101/Working/data/hindcasts/IRI/CMC2-CanCM4/CMC2-CanCM4_hindcasts_HGT_2009_6.nc'),\n",
       " PosixPath('/home/nicolasf/drives/auck_projects/END19101/Working/data/hindcasts/IRI/CMC2-CanCM4/CMC2-CanCM4_hindcasts_HGT_2009_7.nc'),\n",
       " PosixPath('/home/nicolasf/drives/auck_projects/END19101/Working/data/hindcasts/IRI/CMC2-CanCM4/CMC2-CanCM4_hindcasts_HGT_2009_8.nc'),\n",
       " PosixPath('/home/nicolasf/drives/auck_projects/END19101/Working/data/hindcasts/IRI/CMC2-CanCM4/CMC2-CanCM4_hindcasts_HGT_2009_9.nc'),\n",
       " PosixPath('/home/nicolasf/drives/auck_projects/END19101/Working/data/hindcasts/IRI/CMC2-CanCM4/CMC2-CanCM4_hindcasts_HGT_2009_10.nc'),\n",
       " PosixPath('/home/nicolasf/drives/auck_projects/END19101/Working/data/hindcasts/IRI/CMC2-CanCM4/CMC2-CanCM4_hindcasts_HGT_2009_11.nc'),\n",
       " PosixPath('/home/nicolasf/drives/auck_projects/END19101/Working/data/hindcasts/IRI/CMC2-CanCM4/CMC2-CanCM4_hindcasts_HGT_2009_12.nc'),\n",
       " PosixPath('/home/nicolasf/drives/auck_projects/END19101/Working/data/hindcasts/IRI/CMC2-CanCM4/CMC2-CanCM4_hindcasts_HGT_2010_1.nc'),\n",
       " PosixPath('/home/nicolasf/drives/auck_projects/END19101/Working/data/hindcasts/IRI/CMC2-CanCM4/CMC2-CanCM4_hindcasts_HGT_2010_2.nc'),\n",
       " PosixPath('/home/nicolasf/drives/auck_projects/END19101/Working/data/hindcasts/IRI/CMC2-CanCM4/CMC2-CanCM4_hindcasts_HGT_2010_3.nc'),\n",
       " PosixPath('/home/nicolasf/drives/auck_projects/END19101/Working/data/hindcasts/IRI/CMC2-CanCM4/CMC2-CanCM4_hindcasts_HGT_2010_4.nc'),\n",
       " PosixPath('/home/nicolasf/drives/auck_projects/END19101/Working/data/hindcasts/IRI/CMC2-CanCM4/CMC2-CanCM4_hindcasts_HGT_2010_5.nc'),\n",
       " PosixPath('/home/nicolasf/drives/auck_projects/END19101/Working/data/hindcasts/IRI/CMC2-CanCM4/CMC2-CanCM4_hindcasts_HGT_2010_6.nc'),\n",
       " PosixPath('/home/nicolasf/drives/auck_projects/END19101/Working/data/hindcasts/IRI/CMC2-CanCM4/CMC2-CanCM4_hindcasts_HGT_2010_7.nc'),\n",
       " PosixPath('/home/nicolasf/drives/auck_projects/END19101/Working/data/hindcasts/IRI/CMC2-CanCM4/CMC2-CanCM4_hindcasts_HGT_2010_8.nc'),\n",
       " PosixPath('/home/nicolasf/drives/auck_projects/END19101/Working/data/hindcasts/IRI/CMC2-CanCM4/CMC2-CanCM4_hindcasts_HGT_2010_9.nc'),\n",
       " PosixPath('/home/nicolasf/drives/auck_projects/END19101/Working/data/hindcasts/IRI/CMC2-CanCM4/CMC2-CanCM4_hindcasts_HGT_2010_10.nc'),\n",
       " PosixPath('/home/nicolasf/drives/auck_projects/END19101/Working/data/hindcasts/IRI/CMC2-CanCM4/CMC2-CanCM4_hindcasts_HGT_2010_11.nc'),\n",
       " PosixPath('/home/nicolasf/drives/auck_projects/END19101/Working/data/hindcasts/IRI/CMC2-CanCM4/CMC2-CanCM4_hindcasts_HGT_2010_12.nc')]"
      ]
     },
     "execution_count": 18,
     "metadata": {},
     "output_type": "execute_result"
    }
   ],
   "source": [
    "lfiles"
   ]
  },
  {
   "cell_type": "code",
   "execution_count": 19,
   "metadata": {
    "execution_event_id": "36f810cc-2395-4b97-938b-d68c7836172e",
    "last_executed_text": "import xarray as xr",
    "persistent_id": "0379e4e3-d6cf-4f9a-b761-bfaea6ccf010"
   },
   "outputs": [],
   "source": [
    "import xarray as xr"
   ]
  },
  {
   "cell_type": "code",
   "execution_count": 20,
   "metadata": {
    "execution_event_id": "3acef050-71ce-41ed-a62b-3f2325941a42",
    "last_executed_text": "xr.__version__",
    "persistent_id": "110870bd-cce1-45a7-acaa-e2d768334ccb"
   },
   "outputs": [
    {
     "data": {
      "text/plain": [
       "'0.14.0'"
      ]
     },
     "execution_count": 20,
     "metadata": {},
     "output_type": "execute_result"
    }
   ],
   "source": [
    "xr.__version__"
   ]
  },
  {
   "cell_type": "code",
   "execution_count": 21,
   "metadata": {
    "execution_event_id": "93cbc254-f3cc-40a8-ab3c-2f8b2aee1ccb",
    "last_executed_text": "dset = xr.open_dataset(lfiles[0])",
    "persistent_id": "aaccdcda-13c1-42fc-9abf-9f3be0339853"
   },
   "outputs": [],
   "source": [
    "dset = xr.open_dataset(lfiles[0])"
   ]
  },
  {
   "cell_type": "code",
   "execution_count": 22,
   "metadata": {
    "execution_event_id": "848c5f19-9da1-4586-b632-9322199daf7b",
    "last_executed_text": "dset",
    "persistent_id": "fb8c4769-87c1-444f-b7ad-67f68360391c"
   },
   "outputs": [
    {
     "data": {
      "text/plain": [
       "<xarray.Dataset>\n",
       "Dimensions:         (lat: 181, leadtime: 12, lon: 360, member: 10, pressure_level: 2)\n",
       "Coordinates:\n",
       "  * leadtime        (leadtime) float32 0.5 1.5 2.5 3.5 4.5 ... 8.5 9.5 10.5 11.5\n",
       "  * lat             (lat) float32 -90.0 -89.0 -88.0 -87.0 ... 88.0 89.0 90.0\n",
       "  * pressure_level  (pressure_level) int32 500 200\n",
       "    time            datetime64[ns] ...\n",
       "  * lon             (lon) float32 0.0 1.0 2.0 3.0 ... 356.0 357.0 358.0 359.0\n",
       "  * member          (member) float32 1.0 2.0 3.0 4.0 5.0 6.0 7.0 8.0 9.0 10.0\n",
       "Data variables:\n",
       "    hgt             (member, leadtime, pressure_level, lat, lon) float32 ...\n",
       "Attributes:\n",
       "    Conventions:  IRIDL"
      ]
     },
     "execution_count": 22,
     "metadata": {},
     "output_type": "execute_result"
    }
   ],
   "source": [
    "dset"
   ]
  },
  {
   "cell_type": "code",
   "execution_count": 29,
   "metadata": {
    "execution_event_id": "efba2d27-f60c-4810-b4cf-9174310ae067",
    "last_executed_text": "for p in [500, 200]: \n    for fname in lfiles: \n        dset = xr.open_dataset(fname)\n        dset = dset.sel(pressure_level=p)\n        fname_out = fname.parent / f'Z{p}' / fname.name.replace('HGT',f'Z{p}')\n        dset.to_netcdf(fname_out)\n        dset.close()",
    "persistent_id": "2f70338a-755b-4f1c-8ef4-dfc7a11f168b"
   },
   "outputs": [],
   "source": [
    "for p in [500, 200]: \n",
    "    for fname in lfiles: \n",
    "        dset = xr.open_dataset(fname)\n",
    "        dset = dset.sel(pressure_level=p)\n",
    "        fname_out = fname.parent / f'Z{p}' / fname.name.replace('HGT',f'Z{p}')\n",
    "        dset.to_netcdf(fname_out)\n",
    "        dset.close()"
   ]
  }
 ],
 "metadata": {
  "history": [
   {
    "cell": {
     "executionCount": 1,
     "executionEventId": "c38ada5a-6390-479f-88af-7cee6a758a20",
     "hasError": false,
     "id": "1e9c9217-f602-4d9e-820a-23add38aa19f",
     "outputs": [],
     "persistentId": "4f7c71bc-cf67-4efe-977f-4b0741c6652b",
     "text": "import pathlib"
    },
    "executionTime": "2019-12-16T00:36:01.525Z"
   },
   {
    "cell": {
     "executionCount": 2,
     "executionEventId": "0530645a-74ac-4acc-a8c4-13d7f351309b",
     "hasError": false,
     "id": "4baad7a0-412b-481f-b54a-4ccf8d91e6de",
     "outputs": [],
     "persistentId": "edd12bca-97d9-4561-978a-58c3446d45cd",
     "text": "HOME = pathlib.Path.home()"
    },
    "executionTime": "2019-12-16T00:36:01.667Z"
   },
   {
    "cell": {
     "executionCount": 3,
     "executionEventId": "a1c2fc64-d3a1-4284-9167-80f6fd51e66f",
     "hasError": false,
     "id": "22d17ba4-c499-49b6-b266-c7a3bb7f37a1",
     "outputs": [
      {
       "data": {
        "text/plain": "PosixPath('/home/nicolasf')"
       },
       "execution_count": 3,
       "metadata": {},
       "output_type": "execute_result"
      }
     ],
     "persistentId": "dc905b6c-7181-4842-899b-d8581554d5a4",
     "text": "HOME"
    },
    "executionTime": "2019-12-16T00:36:02.064Z"
   },
   {
    "cell": {
     "executionCount": 4,
     "executionEventId": "02129570-9678-442c-90c3-c2afdb2a0c8e",
     "hasError": false,
     "id": "1e9c9217-f602-4d9e-820a-23add38aa19f",
     "outputs": [],
     "persistentId": "4f7c71bc-cf67-4efe-977f-4b0741c6652b",
     "text": "import pathlib"
    },
    "executionTime": "2019-12-16T00:37:12.045Z"
   },
   {
    "cell": {
     "executionCount": 5,
     "executionEventId": "5fccc8bf-8402-4028-86f0-1999dd28b454",
     "hasError": false,
     "id": "4baad7a0-412b-481f-b54a-4ccf8d91e6de",
     "outputs": [],
     "persistentId": "edd12bca-97d9-4561-978a-58c3446d45cd",
     "text": "HOME = pathlib.Path.home()"
    },
    "executionTime": "2019-12-16T00:37:12.181Z"
   },
   {
    "cell": {
     "executionCount": 6,
     "executionEventId": "099eeccd-fe6b-441f-b2ea-6378ff6775ab",
     "hasError": false,
     "id": "22d17ba4-c499-49b6-b266-c7a3bb7f37a1",
     "outputs": [
      {
       "data": {
        "text/plain": "PosixPath('/home/nicolasf')"
       },
       "execution_count": 6,
       "metadata": {},
       "output_type": "execute_result"
      }
     ],
     "persistentId": "dc905b6c-7181-4842-899b-d8581554d5a4",
     "text": "HOME"
    },
    "executionTime": "2019-12-16T00:37:12.351Z"
   },
   {
    "cell": {
     "executionCount": 7,
     "executionEventId": "beb63f38-2506-4403-a39f-51849c04b1ff",
     "hasError": false,
     "id": "59d6b140-216d-414b-bd4c-6389e602706d",
     "outputs": [],
     "persistentId": "ed089d92-6f18-4ebf-bf34-9b2399f4503e",
     "text": "GCM = 'NCAR_CESM1'"
    },
    "executionTime": "2019-12-16T00:37:12.520Z"
   },
   {
    "cell": {
     "executionCount": 8,
     "executionEventId": "69168a66-f356-406a-ae21-8c8725465eb7",
     "hasError": false,
     "id": "9128365a-83a0-44f8-856e-516af8958341",
     "outputs": [],
     "persistentId": "7b847123-6082-4958-8068-63f90a56e165",
     "text": "dpath = HOME / 'drives' / 'auck_projects' / 'END19101' / 'Working' / 'data' / 'hindcasts' / 'IRI' / GCM  "
    },
    "executionTime": "2019-12-16T00:37:18.305Z"
   },
   {
    "cell": {
     "executionCount": 9,
     "executionEventId": "8beb5062-4829-4e9b-afa9-a4fc5ca0d4e3",
     "hasError": false,
     "id": "b7167016-f50e-4c87-9aac-93b8232383d3",
     "outputs": [],
     "persistentId": "22c96fd4-6c75-43ae-9032-de7240d2f26f",
     "text": "lfiles = list(dpath.glob(\"*HGT*.nc\"))"
    },
    "executionTime": "2019-12-16T00:37:28.629Z"
   },
   {
    "cell": {
     "executionCount": 10,
     "executionEventId": "304cbfb2-c369-40b7-be9d-74ff508392c6",
     "hasError": false,
     "id": "2965064f-878c-4114-b718-f347a6bda6a4",
     "outputs": [],
     "persistentId": "42b9c750-6527-47be-b5a8-9f94b1908892",
     "text": "def get_int(x): \n    return int(x.name.split('_')[-2] + x.name.split('_')[-1].split('.')[0].zfill(2))"
    },
    "executionTime": "2019-12-16T00:37:29.968Z"
   },
   {
    "cell": {
     "executionCount": 11,
     "executionEventId": "1f7a552a-d929-4563-9dae-fb55049d5179",
     "hasError": false,
     "id": "0087f447-9b34-41b7-b868-6fe6524d521e",
     "outputs": [],
     "persistentId": "099a4b53-2348-4abc-824c-85de765a4165",
     "text": "lfiles.sort(key=get_int)"
    },
    "executionTime": "2019-12-16T00:37:30.310Z"
   },
   {
    "cell": {
     "executionCount": 12,
     "executionEventId": "fe7cce70-0a9a-4f92-adf2-346c33cdcb77",
     "hasError": false,
     "id": "95907969-e3e4-4ce4-9a6f-7d52f3da5ac2",
     "outputs": [
      {
       "data": {
        "text/plain": "[]"
       },
       "execution_count": 12,
       "metadata": {},
       "output_type": "execute_result"
      }
     ],
     "persistentId": "db3a712f-f364-4f44-a387-59a14ff4159b",
     "text": "lfiles"
    },
    "executionTime": "2019-12-16T00:37:30.697Z"
   },
   {
    "cell": {
     "executionCount": 13,
     "executionEventId": "bbb21c11-0bcf-4694-8820-0a6d7dcc2409",
     "hasError": false,
     "id": "59d6b140-216d-414b-bd4c-6389e602706d",
     "outputs": [],
     "persistentId": "ed089d92-6f18-4ebf-bf34-9b2399f4503e",
     "text": "GCM = 'CMC2-CanCM4'"
    },
    "executionTime": "2019-12-16T00:37:50.803Z"
   },
   {
    "cell": {
     "executionCount": 14,
     "executionEventId": "276888f1-182e-449c-844b-b4dde91a2079",
     "hasError": false,
     "id": "9128365a-83a0-44f8-856e-516af8958341",
     "outputs": [],
     "persistentId": "7b847123-6082-4958-8068-63f90a56e165",
     "text": "dpath = HOME / 'drives' / 'auck_projects' / 'END19101' / 'Working' / 'data' / 'hindcasts' / 'IRI' / GCM  "
    },
    "executionTime": "2019-12-16T00:37:51.057Z"
   },
   {
    "cell": {
     "executionCount": 15,
     "executionEventId": "4a640731-b108-4f54-9c82-8afca059d797",
     "hasError": false,
     "id": "b7167016-f50e-4c87-9aac-93b8232383d3",
     "outputs": [],
     "persistentId": "22c96fd4-6c75-43ae-9032-de7240d2f26f",
     "text": "lfiles = list(dpath.glob(\"*HGT*.nc\"))"
    },
    "executionTime": "2019-12-16T00:37:51.493Z"
   },
   {
    "cell": {
     "executionCount": 16,
     "executionEventId": "2c4a5e47-65cb-49ed-9954-5d6890cd186f",
     "hasError": false,
     "id": "2965064f-878c-4114-b718-f347a6bda6a4",
     "outputs": [],
     "persistentId": "42b9c750-6527-47be-b5a8-9f94b1908892",
     "text": "def get_int(x): \n    return int(x.name.split('_')[-2] + x.name.split('_')[-1].split('.')[0].zfill(2))"
    },
    "executionTime": "2019-12-16T00:37:51.579Z"
   },
   {
    "cell": {
     "executionCount": 17,
     "executionEventId": "456d5e19-e6ea-4618-a0ad-ed96b7867f66",
     "hasError": false,
     "id": "0087f447-9b34-41b7-b868-6fe6524d521e",
     "outputs": [],
     "persistentId": "099a4b53-2348-4abc-824c-85de765a4165",
     "text": "lfiles.sort(key=get_int)"
    },
    "executionTime": "2019-12-16T00:37:51.885Z"
   },
   {
    "cell": {
     "executionCount": 18,
     "executionEventId": "4a8dfb12-e7d7-4701-8c05-8e58ad721f67",
     "hasError": false,
     "id": "95907969-e3e4-4ce4-9a6f-7d52f3da5ac2",
     "outputs": [
      {
       "data": {
        "text/plain": "[PosixPath('/home/nicolasf/drives/auck_projects/END19101/Working/data/hindcasts/IRI/CMC2-CanCM4/CMC2-CanCM4_hindcasts_HGT_1981_1.nc'),\n PosixPath('/home/nicolasf/drives/auck_projects/END19101/Working/data/hindcasts/IRI/CMC2-CanCM4/CMC2-CanCM4_hindcasts_HGT_1981_2.nc'),\n PosixPath('/home/nicolasf/drives/auck_projects/END19101/Working/data/hindcasts/IRI/CMC2-CanCM4/CMC2-CanCM4_hindcasts_HGT_1981_3.nc'),\n PosixPath('/home/nicolasf/drives/auck_projects/END19101/Working/data/hindcasts/IRI/CMC2-CanCM4/CMC2-CanCM4_hindcasts_HGT_1981_4.nc'),\n PosixPath('/home/nicolasf/drives/auck_projects/END19101/Working/data/hindcasts/IRI/CMC2-CanCM4/CMC2-CanCM4_hindcasts_HGT_1981_5.nc'),\n PosixPath('/home/nicolasf/drives/auck_projects/END19101/Working/data/hindcasts/IRI/CMC2-CanCM4/CMC2-CanCM4_hindcasts_HGT_1981_6.nc'),\n PosixPath('/home/nicolasf/drives/auck_projects/END19101/Working/data/hindcasts/IRI/CMC2-CanCM4/CMC2-CanCM4_hindcasts_HGT_1981_7.nc'),\n PosixPath('/home/nicolasf/drives/auck_projects/END19101/Working/data/hindcasts/IRI/CMC2-CanCM4/CMC2-CanCM4_hindcasts_HGT_1981_8.nc'),\n PosixPath('/home/nicolasf/drives/auck_projects/END19101/Working/data/hindcasts/IRI/CMC2-CanCM4/CMC2-CanCM4_hindcasts_HGT_1981_9.nc'),\n PosixPath('/home/nicolasf/drives/auck_projects/END19101/Working/data/hindcasts/IRI/CMC2-CanCM4/CMC2-CanCM4_hindcasts_HGT_1981_10.nc'),\n PosixPath('/home/nicolasf/drives/auck_projects/END19101/Working/data/hindcasts/IRI/CMC2-CanCM4/CMC2-CanCM4_hindcasts_HGT_1981_11.nc'),\n PosixPath('/home/nicolasf/drives/auck_projects/END19101/Working/data/hindcasts/IRI/CMC2-CanCM4/CMC2-CanCM4_hindcasts_HGT_1981_12.nc'),\n PosixPath('/home/nicolasf/drives/auck_projects/END19101/Working/data/hindcasts/IRI/CMC2-CanCM4/CMC2-CanCM4_hindcasts_HGT_1982_1.nc'),\n PosixPath('/home/nicolasf/drives/auck_projects/END19101/Working/data/hindcasts/IRI/CMC2-CanCM4/CMC2-CanCM4_hindcasts_HGT_1982_2.nc'),\n PosixPath('/home/nicolasf/drives/auck_projects/END19101/Working/data/hindcasts/IRI/CMC2-CanCM4/CMC2-CanCM4_hindcasts_HGT_1982_3.nc'),\n PosixPath('/home/nicolasf/drives/auck_projects/END19101/Working/data/hindcasts/IRI/CMC2-CanCM4/CMC2-CanCM4_hindcasts_HGT_1982_4.nc'),\n PosixPath('/home/nicolasf/drives/auck_projects/END19101/Working/data/hindcasts/IRI/CMC2-CanCM4/CMC2-CanCM4_hindcasts_HGT_1982_5.nc'),\n PosixPath('/home/nicolasf/drives/auck_projects/END19101/Working/data/hindcasts/IRI/CMC2-CanCM4/CMC2-CanCM4_hindcasts_HGT_1982_6.nc'),\n PosixPath('/home/nicolasf/drives/auck_projects/END19101/Working/data/hindcasts/IRI/CMC2-CanCM4/CMC2-CanCM4_hindcasts_HGT_1982_7.nc'),\n PosixPath('/home/nicolasf/drives/auck_projects/END19101/Working/data/hindcasts/IRI/CMC2-CanCM4/CMC2-CanCM4_hindcasts_HGT_1982_8.nc'),\n PosixPath('/home/nicolasf/drives/auck_projects/END19101/Working/data/hindcasts/IRI/CMC2-CanCM4/CMC2-CanCM4_hindcasts_HGT_1982_9.nc'),\n PosixPath('/home/nicolasf/drives/auck_projects/END19101/Working/data/hindcasts/IRI/CMC2-CanCM4/CMC2-CanCM4_hindcasts_HGT_1982_10.nc'),\n PosixPath('/home/nicolasf/drives/auck_projects/END19101/Working/data/hindcasts/IRI/CMC2-CanCM4/CMC2-CanCM4_hindcasts_HGT_1982_11.nc'),\n PosixPath('/home/nicolasf/drives/auck_projects/END19101/Working/data/hindcasts/IRI/CMC2-CanCM4/CMC2-CanCM4_hindcasts_HGT_1982_12.nc'),\n PosixPath('/home/nicolasf/drives/auck_projects/END19101/Working/data/hindcasts/IRI/CMC2-CanCM4/CMC2-CanCM4_hindcasts_HGT_1983_1.nc'),\n PosixPath('/home/nicolasf/drives/auck_projects/END19101/Working/data/hindcasts/IRI/CMC2-CanCM4/CMC2-CanCM4_hindcasts_HGT_1983_2.nc'),\n PosixPath('/home/nicolasf/drives/auck_projects/END19101/Working/data/hindcasts/IRI/CMC2-CanCM4/CMC2-CanCM4_hindcasts_HGT_1983_3.nc'),\n PosixPath('/home/nicolasf/drives/auck_projects/END19101/Working/data/hindcasts/IRI/CMC2-CanCM4/CMC2-CanCM4_hindcasts_HGT_1983_4.nc'),\n PosixPath('/home/nicolasf/drives/auck_projects/END19101/Working/data/hindcasts/IRI/CMC2-CanCM4/CMC2-CanCM4_hindcasts_HGT_1983_5.nc'),\n PosixPath('/home/nicolasf/drives/auck_projects/END19101/Working/data/hindcasts/IRI/CMC2-CanCM4/CMC2-CanCM4_hindcasts_HGT_1983_6.nc'),\n PosixPath('/home/nicolasf/drives/auck_projects/END19101/Working/data/hindcasts/IRI/CMC2-CanCM4/CMC2-CanCM4_hindcasts_HGT_1983_7.nc'),\n PosixPath('/home/nicolasf/drives/auck_projects/END19101/Working/data/hindcasts/IRI/CMC2-CanCM4/CMC2-CanCM4_hindcasts_HGT_1983_8.nc'),\n PosixPath('/home/nicolasf/drives/auck_projects/END19101/Working/data/hindcasts/IRI/CMC2-CanCM4/CMC2-CanCM4_hindcasts_HGT_1983_9.nc'),\n PosixPath('/home/nicolasf/drives/auck_projects/END19101/Working/data/hindcasts/IRI/CMC2-CanCM4/CMC2-CanCM4_hindcasts_HGT_1983_10.nc'),\n PosixPath('/home/nicolasf/drives/auck_projects/END19101/Working/data/hindcasts/IRI/CMC2-CanCM4/CMC2-CanCM4_hindcasts_HGT_1983_11.nc'),\n PosixPath('/home/nicolasf/drives/auck_projects/END19101/Working/data/hindcasts/IRI/CMC2-CanCM4/CMC2-CanCM4_hindcasts_HGT_1983_12.nc'),\n PosixPath('/home/nicolasf/drives/auck_projects/END19101/Working/data/hindcasts/IRI/CMC2-CanCM4/CMC2-CanCM4_hindcasts_HGT_1984_1.nc'),\n PosixPath('/home/nicolasf/drives/auck_projects/END19101/Working/data/hindcasts/IRI/CMC2-CanCM4/CMC2-CanCM4_hindcasts_HGT_1984_2.nc'),\n PosixPath('/home/nicolasf/drives/auck_projects/END19101/Working/data/hindcasts/IRI/CMC2-CanCM4/CMC2-CanCM4_hindcasts_HGT_1984_3.nc'),\n PosixPath('/home/nicolasf/drives/auck_projects/END19101/Working/data/hindcasts/IRI/CMC2-CanCM4/CMC2-CanCM4_hindcasts_HGT_1984_4.nc'),\n PosixPath('/home/nicolasf/drives/auck_projects/END19101/Working/data/hindcasts/IRI/CMC2-CanCM4/CMC2-CanCM4_hindcasts_HGT_1984_5.nc'),\n PosixPath('/home/nicolasf/drives/auck_projects/END19101/Working/data/hindcasts/IRI/CMC2-CanCM4/CMC2-CanCM4_hindcasts_HGT_1984_6.nc'),\n PosixPath('/home/nicolasf/drives/auck_projects/END19101/Working/data/hindcasts/IRI/CMC2-CanCM4/CMC2-CanCM4_hindcasts_HGT_1984_7.nc'),\n PosixPath('/home/nicolasf/drives/auck_projects/END19101/Working/data/hindcasts/IRI/CMC2-CanCM4/CMC2-CanCM4_hindcasts_HGT_1984_8.nc'),\n PosixPath('/home/nicolasf/drives/auck_projects/END19101/Working/data/hindcasts/IRI/CMC2-CanCM4/CMC2-CanCM4_hindcasts_HGT_1984_9.nc'),\n PosixPath('/home/nicolasf/drives/auck_projects/END19101/Working/data/hindcasts/IRI/CMC2-CanCM4/CMC2-CanCM4_hindcasts_HGT_1984_10.nc'),\n PosixPath('/home/nicolasf/drives/auck_projects/END19101/Working/data/hindcasts/IRI/CMC2-CanCM4/CMC2-CanCM4_hindcasts_HGT_1984_11.nc'),\n PosixPath('/home/nicolasf/drives/auck_projects/END19101/Working/data/hindcasts/IRI/CMC2-CanCM4/CMC2-CanCM4_hindcasts_HGT_1984_12.nc'),\n PosixPath('/home/nicolasf/drives/auck_projects/END19101/Working/data/hindcasts/IRI/CMC2-CanCM4/CMC2-CanCM4_hindcasts_HGT_1985_1.nc'),\n PosixPath('/home/nicolasf/drives/auck_projects/END19101/Working/data/hindcasts/IRI/CMC2-CanCM4/CMC2-CanCM4_hindcasts_HGT_1985_2.nc'),\n PosixPath('/home/nicolasf/drives/auck_projects/END19101/Working/data/hindcasts/IRI/CMC2-CanCM4/CMC2-CanCM4_hindcasts_HGT_1985_3.nc'),\n PosixPath('/home/nicolasf/drives/auck_projects/END19101/Working/data/hindcasts/IRI/CMC2-CanCM4/CMC2-CanCM4_hindcasts_HGT_1985_4.nc'),\n PosixPath('/home/nicolasf/drives/auck_projects/END19101/Working/data/hindcasts/IRI/CMC2-CanCM4/CMC2-CanCM4_hindcasts_HGT_1985_5.nc'),\n PosixPath('/home/nicolasf/drives/auck_projects/END19101/Working/data/hindcasts/IRI/CMC2-CanCM4/CMC2-CanCM4_hindcasts_HGT_1985_6.nc'),\n PosixPath('/home/nicolasf/drives/auck_projects/END19101/Working/data/hindcasts/IRI/CMC2-CanCM4/CMC2-CanCM4_hindcasts_HGT_1985_7.nc'),\n PosixPath('/home/nicolasf/drives/auck_projects/END19101/Working/data/hindcasts/IRI/CMC2-CanCM4/CMC2-CanCM4_hindcasts_HGT_1985_8.nc'),\n PosixPath('/home/nicolasf/drives/auck_projects/END19101/Working/data/hindcasts/IRI/CMC2-CanCM4/CMC2-CanCM4_hindcasts_HGT_1985_9.nc'),\n PosixPath('/home/nicolasf/drives/auck_projects/END19101/Working/data/hindcasts/IRI/CMC2-CanCM4/CMC2-CanCM4_hindcasts_HGT_1985_10.nc'),\n PosixPath('/home/nicolasf/drives/auck_projects/END19101/Working/data/hindcasts/IRI/CMC2-CanCM4/CMC2-CanCM4_hindcasts_HGT_1985_11.nc'),\n PosixPath('/home/nicolasf/drives/auck_projects/END19101/Working/data/hindcasts/IRI/CMC2-CanCM4/CMC2-CanCM4_hindcasts_HGT_1985_12.nc'),\n PosixPath('/home/nicolasf/drives/auck_projects/END19101/Working/data/hindcasts/IRI/CMC2-CanCM4/CMC2-CanCM4_hindcasts_HGT_1986_1.nc'),\n PosixPath('/home/nicolasf/drives/auck_projects/END19101/Working/data/hindcasts/IRI/CMC2-CanCM4/CMC2-CanCM4_hindcasts_HGT_1986_2.nc'),\n PosixPath('/home/nicolasf/drives/auck_projects/END19101/Working/data/hindcasts/IRI/CMC2-CanCM4/CMC2-CanCM4_hindcasts_HGT_1986_3.nc'),\n PosixPath('/home/nicolasf/drives/auck_projects/END19101/Working/data/hindcasts/IRI/CMC2-CanCM4/CMC2-CanCM4_hindcasts_HGT_1986_4.nc'),\n PosixPath('/home/nicolasf/drives/auck_projects/END19101/Working/data/hindcasts/IRI/CMC2-CanCM4/CMC2-CanCM4_hindcasts_HGT_1986_5.nc'),\n PosixPath('/home/nicolasf/drives/auck_projects/END19101/Working/data/hindcasts/IRI/CMC2-CanCM4/CMC2-CanCM4_hindcasts_HGT_1986_6.nc'),\n PosixPath('/home/nicolasf/drives/auck_projects/END19101/Working/data/hindcasts/IRI/CMC2-CanCM4/CMC2-CanCM4_hindcasts_HGT_1986_7.nc'),\n PosixPath('/home/nicolasf/drives/auck_projects/END19101/Working/data/hindcasts/IRI/CMC2-CanCM4/CMC2-CanCM4_hindcasts_HGT_1986_8.nc'),\n PosixPath('/home/nicolasf/drives/auck_projects/END19101/Working/data/hindcasts/IRI/CMC2-CanCM4/CMC2-CanCM4_hindcasts_HGT_1986_9.nc'),\n PosixPath('/home/nicolasf/drives/auck_projects/END19101/Working/data/hindcasts/IRI/CMC2-CanCM4/CMC2-CanCM4_hindcasts_HGT_1986_10.nc'),\n PosixPath('/home/nicolasf/drives/auck_projects/END19101/Working/data/hindcasts/IRI/CMC2-CanCM4/CMC2-CanCM4_hindcasts_HGT_1986_11.nc'),\n PosixPath('/home/nicolasf/drives/auck_projects/END19101/Working/data/hindcasts/IRI/CMC2-CanCM4/CMC2-CanCM4_hindcasts_HGT_1986_12.nc'),\n PosixPath('/home/nicolasf/drives/auck_projects/END19101/Working/data/hindcasts/IRI/CMC2-CanCM4/CMC2-CanCM4_hindcasts_HGT_1987_1.nc'),\n PosixPath('/home/nicolasf/drives/auck_projects/END19101/Working/data/hindcasts/IRI/CMC2-CanCM4/CMC2-CanCM4_hindcasts_HGT_1987_2.nc'),\n PosixPath('/home/nicolasf/drives/auck_projects/END19101/Working/data/hindcasts/IRI/CMC2-CanCM4/CMC2-CanCM4_hindcasts_HGT_1987_3.nc'),\n PosixPath('/home/nicolasf/drives/auck_projects/END19101/Working/data/hindcasts/IRI/CMC2-CanCM4/CMC2-CanCM4_hindcasts_HGT_1987_4.nc'),\n PosixPath('/home/nicolasf/drives/auck_projects/END19101/Working/data/hindcasts/IRI/CMC2-CanCM4/CMC2-CanCM4_hindcasts_HGT_1987_5.nc'),\n PosixPath('/home/nicolasf/drives/auck_projects/END19101/Working/data/hindcasts/IRI/CMC2-CanCM4/CMC2-CanCM4_hindcasts_HGT_1987_6.nc'),\n PosixPath('/home/nicolasf/drives/auck_projects/END19101/Working/data/hindcasts/IRI/CMC2-CanCM4/CMC2-CanCM4_hindcasts_HGT_1987_7.nc'),\n PosixPath('/home/nicolasf/drives/auck_projects/END19101/Working/data/hindcasts/IRI/CMC2-CanCM4/CMC2-CanCM4_hindcasts_HGT_1987_8.nc'),\n PosixPath('/home/nicolasf/drives/auck_projects/END19101/Working/data/hindcasts/IRI/CMC2-CanCM4/CMC2-CanCM4_hindcasts_HGT_1987_9.nc'),\n PosixPath('/home/nicolasf/drives/auck_projects/END19101/Working/data/hindcasts/IRI/CMC2-CanCM4/CMC2-CanCM4_hindcasts_HGT_1987_10.nc'),\n PosixPath('/home/nicolasf/drives/auck_projects/END19101/Working/data/hindcasts/IRI/CMC2-CanCM4/CMC2-CanCM4_hindcasts_HGT_1987_11.nc'),\n PosixPath('/home/nicolasf/drives/auck_projects/END19101/Working/data/hindcasts/IRI/CMC2-CanCM4/CMC2-CanCM4_hindcasts_HGT_1987_12.nc'),\n PosixPath('/home/nicolasf/drives/auck_projects/END19101/Working/data/hindcasts/IRI/CMC2-CanCM4/CMC2-CanCM4_hindcasts_HGT_1988_1.nc'),\n PosixPath('/home/nicolasf/drives/auck_projects/END19101/Working/data/hindcasts/IRI/CMC2-CanCM4/CMC2-CanCM4_hindcasts_HGT_1988_2.nc'),\n PosixPath('/home/nicolasf/drives/auck_projects/END19101/Working/data/hindcasts/IRI/CMC2-CanCM4/CMC2-CanCM4_hindcasts_HGT_1988_3.nc'),\n PosixPath('/home/nicolasf/drives/auck_projects/END19101/Working/data/hindcasts/IRI/CMC2-CanCM4/CMC2-CanCM4_hindcasts_HGT_1988_4.nc'),\n PosixPath('/home/nicolasf/drives/auck_projects/END19101/Working/data/hindcasts/IRI/CMC2-CanCM4/CMC2-CanCM4_hindcasts_HGT_1988_5.nc'),\n PosixPath('/home/nicolasf/drives/auck_projects/END19101/Working/data/hindcasts/IRI/CMC2-CanCM4/CMC2-CanCM4_hindcasts_HGT_1988_6.nc'),\n PosixPath('/home/nicolasf/drives/auck_projects/END19101/Working/data/hindcasts/IRI/CMC2-CanCM4/CMC2-CanCM4_hindcasts_HGT_1988_7.nc'),\n PosixPath('/home/nicolasf/drives/auck_projects/END19101/Working/data/hindcasts/IRI/CMC2-CanCM4/CMC2-CanCM4_hindcasts_HGT_1988_8.nc'),\n PosixPath('/home/nicolasf/drives/auck_projects/END19101/Working/data/hindcasts/IRI/CMC2-CanCM4/CMC2-CanCM4_hindcasts_HGT_1988_9.nc'),\n PosixPath('/home/nicolasf/drives/auck_projects/END19101/Working/data/hindcasts/IRI/CMC2-CanCM4/CMC2-CanCM4_hindcasts_HGT_1988_10.nc'),\n PosixPath('/home/nicolasf/drives/auck_projects/END19101/Working/data/hindcasts/IRI/CMC2-CanCM4/CMC2-CanCM4_hindcasts_HGT_1988_11.nc'),\n PosixPath('/home/nicolasf/drives/auck_projects/END19101/Working/data/hindcasts/IRI/CMC2-CanCM4/CMC2-CanCM4_hindcasts_HGT_1988_12.nc'),\n PosixPath('/home/nicolasf/drives/auck_projects/END19101/Working/data/hindcasts/IRI/CMC2-CanCM4/CMC2-CanCM4_hindcasts_HGT_1989_1.nc'),\n PosixPath('/home/nicolasf/drives/auck_projects/END19101/Working/data/hindcasts/IRI/CMC2-CanCM4/CMC2-CanCM4_hindcasts_HGT_1989_2.nc'),\n PosixPath('/home/nicolasf/drives/auck_projects/END19101/Working/data/hindcasts/IRI/CMC2-CanCM4/CMC2-CanCM4_hindcasts_HGT_1989_3.nc'),\n PosixPath('/home/nicolasf/drives/auck_projects/END19101/Working/data/hindcasts/IRI/CMC2-CanCM4/CMC2-CanCM4_hindcasts_HGT_1989_4.nc'),\n PosixPath('/home/nicolasf/drives/auck_projects/END19101/Working/data/hindcasts/IRI/CMC2-CanCM4/CMC2-CanCM4_hindcasts_HGT_1989_5.nc'),\n PosixPath('/home/nicolasf/drives/auck_projects/END19101/Working/data/hindcasts/IRI/CMC2-CanCM4/CMC2-CanCM4_hindcasts_HGT_1989_6.nc'),\n PosixPath('/home/nicolasf/drives/auck_projects/END19101/Working/data/hindcasts/IRI/CMC2-CanCM4/CMC2-CanCM4_hindcasts_HGT_1989_7.nc'),\n PosixPath('/home/nicolasf/drives/auck_projects/END19101/Working/data/hindcasts/IRI/CMC2-CanCM4/CMC2-CanCM4_hindcasts_HGT_1989_8.nc'),\n PosixPath('/home/nicolasf/drives/auck_projects/END19101/Working/data/hindcasts/IRI/CMC2-CanCM4/CMC2-CanCM4_hindcasts_HGT_1989_9.nc'),\n PosixPath('/home/nicolasf/drives/auck_projects/END19101/Working/data/hindcasts/IRI/CMC2-CanCM4/CMC2-CanCM4_hindcasts_HGT_1989_10.nc'),\n PosixPath('/home/nicolasf/drives/auck_projects/END19101/Working/data/hindcasts/IRI/CMC2-CanCM4/CMC2-CanCM4_hindcasts_HGT_1989_11.nc'),\n PosixPath('/home/nicolasf/drives/auck_projects/END19101/Working/data/hindcasts/IRI/CMC2-CanCM4/CMC2-CanCM4_hindcasts_HGT_1989_12.nc'),\n PosixPath('/home/nicolasf/drives/auck_projects/END19101/Working/data/hindcasts/IRI/CMC2-CanCM4/CMC2-CanCM4_hindcasts_HGT_1990_1.nc'),\n PosixPath('/home/nicolasf/drives/auck_projects/END19101/Working/data/hindcasts/IRI/CMC2-CanCM4/CMC2-CanCM4_hindcasts_HGT_1990_2.nc'),\n PosixPath('/home/nicolasf/drives/auck_projects/END19101/Working/data/hindcasts/IRI/CMC2-CanCM4/CMC2-CanCM4_hindcasts_HGT_1990_3.nc'),\n PosixPath('/home/nicolasf/drives/auck_projects/END19101/Working/data/hindcasts/IRI/CMC2-CanCM4/CMC2-CanCM4_hindcasts_HGT_1990_4.nc'),\n PosixPath('/home/nicolasf/drives/auck_projects/END19101/Working/data/hindcasts/IRI/CMC2-CanCM4/CMC2-CanCM4_hindcasts_HGT_1990_5.nc'),\n PosixPath('/home/nicolasf/drives/auck_projects/END19101/Working/data/hindcasts/IRI/CMC2-CanCM4/CMC2-CanCM4_hindcasts_HGT_1990_6.nc'),\n PosixPath('/home/nicolasf/drives/auck_projects/END19101/Working/data/hindcasts/IRI/CMC2-CanCM4/CMC2-CanCM4_hindcasts_HGT_1990_7.nc'),\n PosixPath('/home/nicolasf/drives/auck_projects/END19101/Working/data/hindcasts/IRI/CMC2-CanCM4/CMC2-CanCM4_hindcasts_HGT_1990_8.nc'),\n PosixPath('/home/nicolasf/drives/auck_projects/END19101/Working/data/hindcasts/IRI/CMC2-CanCM4/CMC2-CanCM4_hindcasts_HGT_1990_9.nc'),\n PosixPath('/home/nicolasf/drives/auck_projects/END19101/Working/data/hindcasts/IRI/CMC2-CanCM4/CMC2-CanCM4_hindcasts_HGT_1990_10.nc'),\n PosixPath('/home/nicolasf/drives/auck_projects/END19101/Working/data/hindcasts/IRI/CMC2-CanCM4/CMC2-CanCM4_hindcasts_HGT_1990_11.nc'),\n PosixPath('/home/nicolasf/drives/auck_projects/END19101/Working/data/hindcasts/IRI/CMC2-CanCM4/CMC2-CanCM4_hindcasts_HGT_1990_12.nc'),\n PosixPath('/home/nicolasf/drives/auck_projects/END19101/Working/data/hindcasts/IRI/CMC2-CanCM4/CMC2-CanCM4_hindcasts_HGT_1991_1.nc'),\n PosixPath('/home/nicolasf/drives/auck_projects/END19101/Working/data/hindcasts/IRI/CMC2-CanCM4/CMC2-CanCM4_hindcasts_HGT_1991_2.nc'),\n PosixPath('/home/nicolasf/drives/auck_projects/END19101/Working/data/hindcasts/IRI/CMC2-CanCM4/CMC2-CanCM4_hindcasts_HGT_1991_3.nc'),\n PosixPath('/home/nicolasf/drives/auck_projects/END19101/Working/data/hindcasts/IRI/CMC2-CanCM4/CMC2-CanCM4_hindcasts_HGT_1991_4.nc'),\n PosixPath('/home/nicolasf/drives/auck_projects/END19101/Working/data/hindcasts/IRI/CMC2-CanCM4/CMC2-CanCM4_hindcasts_HGT_1991_5.nc'),\n PosixPath('/home/nicolasf/drives/auck_projects/END19101/Working/data/hindcasts/IRI/CMC2-CanCM4/CMC2-CanCM4_hindcasts_HGT_1991_6.nc'),\n PosixPath('/home/nicolasf/drives/auck_projects/END19101/Working/data/hindcasts/IRI/CMC2-CanCM4/CMC2-CanCM4_hindcasts_HGT_1991_7.nc'),\n PosixPath('/home/nicolasf/drives/auck_projects/END19101/Working/data/hindcasts/IRI/CMC2-CanCM4/CMC2-CanCM4_hindcasts_HGT_1991_8.nc'),\n PosixPath('/home/nicolasf/drives/auck_projects/END19101/Working/data/hindcasts/IRI/CMC2-CanCM4/CMC2-CanCM4_hindcasts_HGT_1991_9.nc'),\n PosixPath('/home/nicolasf/drives/auck_projects/END19101/Working/data/hindcasts/IRI/CMC2-CanCM4/CMC2-CanCM4_hindcasts_HGT_1991_10.nc'),\n PosixPath('/home/nicolasf/drives/auck_projects/END19101/Working/data/hindcasts/IRI/CMC2-CanCM4/CMC2-CanCM4_hindcasts_HGT_1991_11.nc'),\n PosixPath('/home/nicolasf/drives/auck_projects/END19101/Working/data/hindcasts/IRI/CMC2-CanCM4/CMC2-CanCM4_hindcasts_HGT_1991_12.nc'),\n PosixPath('/home/nicolasf/drives/auck_projects/END19101/Working/data/hindcasts/IRI/CMC2-CanCM4/CMC2-CanCM4_hindcasts_HGT_1992_1.nc'),\n PosixPath('/home/nicolasf/drives/auck_projects/END19101/Working/data/hindcasts/IRI/CMC2-CanCM4/CMC2-CanCM4_hindcasts_HGT_1992_2.nc'),\n PosixPath('/home/nicolasf/drives/auck_projects/END19101/Working/data/hindcasts/IRI/CMC2-CanCM4/CMC2-CanCM4_hindcasts_HGT_1992_3.nc'),\n PosixPath('/home/nicolasf/drives/auck_projects/END19101/Working/data/hindcasts/IRI/CMC2-CanCM4/CMC2-CanCM4_hindcasts_HGT_1992_4.nc'),\n PosixPath('/home/nicolasf/drives/auck_projects/END19101/Working/data/hindcasts/IRI/CMC2-CanCM4/CMC2-CanCM4_hindcasts_HGT_1992_5.nc'),\n PosixPath('/home/nicolasf/drives/auck_projects/END19101/Working/data/hindcasts/IRI/CMC2-CanCM4/CMC2-CanCM4_hindcasts_HGT_1992_6.nc'),\n PosixPath('/home/nicolasf/drives/auck_projects/END19101/Working/data/hindcasts/IRI/CMC2-CanCM4/CMC2-CanCM4_hindcasts_HGT_1992_7.nc'),\n PosixPath('/home/nicolasf/drives/auck_projects/END19101/Working/data/hindcasts/IRI/CMC2-CanCM4/CMC2-CanCM4_hindcasts_HGT_1992_8.nc'),\n PosixPath('/home/nicolasf/drives/auck_projects/END19101/Working/data/hindcasts/IRI/CMC2-CanCM4/CMC2-CanCM4_hindcasts_HGT_1992_9.nc'),\n PosixPath('/home/nicolasf/drives/auck_projects/END19101/Working/data/hindcasts/IRI/CMC2-CanCM4/CMC2-CanCM4_hindcasts_HGT_1992_10.nc'),\n PosixPath('/home/nicolasf/drives/auck_projects/END19101/Working/data/hindcasts/IRI/CMC2-CanCM4/CMC2-CanCM4_hindcasts_HGT_1992_11.nc'),\n PosixPath('/home/nicolasf/drives/auck_projects/END19101/Working/data/hindcasts/IRI/CMC2-CanCM4/CMC2-CanCM4_hindcasts_HGT_1992_12.nc'),\n PosixPath('/home/nicolasf/drives/auck_projects/END19101/Working/data/hindcasts/IRI/CMC2-CanCM4/CMC2-CanCM4_hindcasts_HGT_1993_1.nc'),\n PosixPath('/home/nicolasf/drives/auck_projects/END19101/Working/data/hindcasts/IRI/CMC2-CanCM4/CMC2-CanCM4_hindcasts_HGT_1993_2.nc'),\n PosixPath('/home/nicolasf/drives/auck_projects/END19101/Working/data/hindcasts/IRI/CMC2-CanCM4/CMC2-CanCM4_hindcasts_HGT_1993_3.nc'),\n PosixPath('/home/nicolasf/drives/auck_projects/END19101/Working/data/hindcasts/IRI/CMC2-CanCM4/CMC2-CanCM4_hindcasts_HGT_1993_4.nc'),\n PosixPath('/home/nicolasf/drives/auck_projects/END19101/Working/data/hindcasts/IRI/CMC2-CanCM4/CMC2-CanCM4_hindcasts_HGT_1993_5.nc'),\n PosixPath('/home/nicolasf/drives/auck_projects/END19101/Working/data/hindcasts/IRI/CMC2-CanCM4/CMC2-CanCM4_hindcasts_HGT_1993_6.nc'),\n PosixPath('/home/nicolasf/drives/auck_projects/END19101/Working/data/hindcasts/IRI/CMC2-CanCM4/CMC2-CanCM4_hindcasts_HGT_1993_7.nc'),\n PosixPath('/home/nicolasf/drives/auck_projects/END19101/Working/data/hindcasts/IRI/CMC2-CanCM4/CMC2-CanCM4_hindcasts_HGT_1993_8.nc'),\n PosixPath('/home/nicolasf/drives/auck_projects/END19101/Working/data/hindcasts/IRI/CMC2-CanCM4/CMC2-CanCM4_hindcasts_HGT_1993_9.nc'),\n PosixPath('/home/nicolasf/drives/auck_projects/END19101/Working/data/hindcasts/IRI/CMC2-CanCM4/CMC2-CanCM4_hindcasts_HGT_1993_10.nc'),\n PosixPath('/home/nicolasf/drives/auck_projects/END19101/Working/data/hindcasts/IRI/CMC2-CanCM4/CMC2-CanCM4_hindcasts_HGT_1993_11.nc'),\n PosixPath('/home/nicolasf/drives/auck_projects/END19101/Working/data/hindcasts/IRI/CMC2-CanCM4/CMC2-CanCM4_hindcasts_HGT_1993_12.nc'),\n PosixPath('/home/nicolasf/drives/auck_projects/END19101/Working/data/hindcasts/IRI/CMC2-CanCM4/CMC2-CanCM4_hindcasts_HGT_1994_1.nc'),\n PosixPath('/home/nicolasf/drives/auck_projects/END19101/Working/data/hindcasts/IRI/CMC2-CanCM4/CMC2-CanCM4_hindcasts_HGT_1994_2.nc'),\n PosixPath('/home/nicolasf/drives/auck_projects/END19101/Working/data/hindcasts/IRI/CMC2-CanCM4/CMC2-CanCM4_hindcasts_HGT_1994_3.nc'),\n PosixPath('/home/nicolasf/drives/auck_projects/END19101/Working/data/hindcasts/IRI/CMC2-CanCM4/CMC2-CanCM4_hindcasts_HGT_1994_4.nc'),\n PosixPath('/home/nicolasf/drives/auck_projects/END19101/Working/data/hindcasts/IRI/CMC2-CanCM4/CMC2-CanCM4_hindcasts_HGT_1994_5.nc'),\n PosixPath('/home/nicolasf/drives/auck_projects/END19101/Working/data/hindcasts/IRI/CMC2-CanCM4/CMC2-CanCM4_hindcasts_HGT_1994_6.nc'),\n PosixPath('/home/nicolasf/drives/auck_projects/END19101/Working/data/hindcasts/IRI/CMC2-CanCM4/CMC2-CanCM4_hindcasts_HGT_1994_7.nc'),\n PosixPath('/home/nicolasf/drives/auck_projects/END19101/Working/data/hindcasts/IRI/CMC2-CanCM4/CMC2-CanCM4_hindcasts_HGT_1994_8.nc'),\n PosixPath('/home/nicolasf/drives/auck_projects/END19101/Working/data/hindcasts/IRI/CMC2-CanCM4/CMC2-CanCM4_hindcasts_HGT_1994_9.nc'),\n PosixPath('/home/nicolasf/drives/auck_projects/END19101/Working/data/hindcasts/IRI/CMC2-CanCM4/CMC2-CanCM4_hindcasts_HGT_1994_10.nc'),\n PosixPath('/home/nicolasf/drives/auck_projects/END19101/Working/data/hindcasts/IRI/CMC2-CanCM4/CMC2-CanCM4_hindcasts_HGT_1994_11.nc'),\n PosixPath('/home/nicolasf/drives/auck_projects/END19101/Working/data/hindcasts/IRI/CMC2-CanCM4/CMC2-CanCM4_hindcasts_HGT_1994_12.nc'),\n PosixPath('/home/nicolasf/drives/auck_projects/END19101/Working/data/hindcasts/IRI/CMC2-CanCM4/CMC2-CanCM4_hindcasts_HGT_1995_1.nc'),\n PosixPath('/home/nicolasf/drives/auck_projects/END19101/Working/data/hindcasts/IRI/CMC2-CanCM4/CMC2-CanCM4_hindcasts_HGT_1995_2.nc'),\n PosixPath('/home/nicolasf/drives/auck_projects/END19101/Working/data/hindcasts/IRI/CMC2-CanCM4/CMC2-CanCM4_hindcasts_HGT_1995_3.nc'),\n PosixPath('/home/nicolasf/drives/auck_projects/END19101/Working/data/hindcasts/IRI/CMC2-CanCM4/CMC2-CanCM4_hindcasts_HGT_1995_4.nc'),\n PosixPath('/home/nicolasf/drives/auck_projects/END19101/Working/data/hindcasts/IRI/CMC2-CanCM4/CMC2-CanCM4_hindcasts_HGT_1995_5.nc'),\n PosixPath('/home/nicolasf/drives/auck_projects/END19101/Working/data/hindcasts/IRI/CMC2-CanCM4/CMC2-CanCM4_hindcasts_HGT_1995_6.nc'),\n PosixPath('/home/nicolasf/drives/auck_projects/END19101/Working/data/hindcasts/IRI/CMC2-CanCM4/CMC2-CanCM4_hindcasts_HGT_1995_7.nc'),\n PosixPath('/home/nicolasf/drives/auck_projects/END19101/Working/data/hindcasts/IRI/CMC2-CanCM4/CMC2-CanCM4_hindcasts_HGT_1995_8.nc'),\n PosixPath('/home/nicolasf/drives/auck_projects/END19101/Working/data/hindcasts/IRI/CMC2-CanCM4/CMC2-CanCM4_hindcasts_HGT_1995_9.nc'),\n PosixPath('/home/nicolasf/drives/auck_projects/END19101/Working/data/hindcasts/IRI/CMC2-CanCM4/CMC2-CanCM4_hindcasts_HGT_1995_10.nc'),\n PosixPath('/home/nicolasf/drives/auck_projects/END19101/Working/data/hindcasts/IRI/CMC2-CanCM4/CMC2-CanCM4_hindcasts_HGT_1995_11.nc'),\n PosixPath('/home/nicolasf/drives/auck_projects/END19101/Working/data/hindcasts/IRI/CMC2-CanCM4/CMC2-CanCM4_hindcasts_HGT_1995_12.nc'),\n PosixPath('/home/nicolasf/drives/auck_projects/END19101/Working/data/hindcasts/IRI/CMC2-CanCM4/CMC2-CanCM4_hindcasts_HGT_1996_1.nc'),\n PosixPath('/home/nicolasf/drives/auck_projects/END19101/Working/data/hindcasts/IRI/CMC2-CanCM4/CMC2-CanCM4_hindcasts_HGT_1996_2.nc'),\n PosixPath('/home/nicolasf/drives/auck_projects/END19101/Working/data/hindcasts/IRI/CMC2-CanCM4/CMC2-CanCM4_hindcasts_HGT_1996_3.nc'),\n PosixPath('/home/nicolasf/drives/auck_projects/END19101/Working/data/hindcasts/IRI/CMC2-CanCM4/CMC2-CanCM4_hindcasts_HGT_1996_4.nc'),\n PosixPath('/home/nicolasf/drives/auck_projects/END19101/Working/data/hindcasts/IRI/CMC2-CanCM4/CMC2-CanCM4_hindcasts_HGT_1996_5.nc'),\n PosixPath('/home/nicolasf/drives/auck_projects/END19101/Working/data/hindcasts/IRI/CMC2-CanCM4/CMC2-CanCM4_hindcasts_HGT_1996_6.nc'),\n PosixPath('/home/nicolasf/drives/auck_projects/END19101/Working/data/hindcasts/IRI/CMC2-CanCM4/CMC2-CanCM4_hindcasts_HGT_1996_7.nc'),\n PosixPath('/home/nicolasf/drives/auck_projects/END19101/Working/data/hindcasts/IRI/CMC2-CanCM4/CMC2-CanCM4_hindcasts_HGT_1996_8.nc'),\n PosixPath('/home/nicolasf/drives/auck_projects/END19101/Working/data/hindcasts/IRI/CMC2-CanCM4/CMC2-CanCM4_hindcasts_HGT_1996_9.nc'),\n PosixPath('/home/nicolasf/drives/auck_projects/END19101/Working/data/hindcasts/IRI/CMC2-CanCM4/CMC2-CanCM4_hindcasts_HGT_1996_10.nc'),\n PosixPath('/home/nicolasf/drives/auck_projects/END19101/Working/data/hindcasts/IRI/CMC2-CanCM4/CMC2-CanCM4_hindcasts_HGT_1996_11.nc'),\n PosixPath('/home/nicolasf/drives/auck_projects/END19101/Working/data/hindcasts/IRI/CMC2-CanCM4/CMC2-CanCM4_hindcasts_HGT_1996_12.nc'),\n PosixPath('/home/nicolasf/drives/auck_projects/END19101/Working/data/hindcasts/IRI/CMC2-CanCM4/CMC2-CanCM4_hindcasts_HGT_1997_1.nc'),\n PosixPath('/home/nicolasf/drives/auck_projects/END19101/Working/data/hindcasts/IRI/CMC2-CanCM4/CMC2-CanCM4_hindcasts_HGT_1997_2.nc'),\n PosixPath('/home/nicolasf/drives/auck_projects/END19101/Working/data/hindcasts/IRI/CMC2-CanCM4/CMC2-CanCM4_hindcasts_HGT_1997_3.nc'),\n PosixPath('/home/nicolasf/drives/auck_projects/END19101/Working/data/hindcasts/IRI/CMC2-CanCM4/CMC2-CanCM4_hindcasts_HGT_1997_4.nc'),\n PosixPath('/home/nicolasf/drives/auck_projects/END19101/Working/data/hindcasts/IRI/CMC2-CanCM4/CMC2-CanCM4_hindcasts_HGT_1997_5.nc'),\n PosixPath('/home/nicolasf/drives/auck_projects/END19101/Working/data/hindcasts/IRI/CMC2-CanCM4/CMC2-CanCM4_hindcasts_HGT_1997_6.nc'),\n PosixPath('/home/nicolasf/drives/auck_projects/END19101/Working/data/hindcasts/IRI/CMC2-CanCM4/CMC2-CanCM4_hindcasts_HGT_1997_7.nc'),\n PosixPath('/home/nicolasf/drives/auck_projects/END19101/Working/data/hindcasts/IRI/CMC2-CanCM4/CMC2-CanCM4_hindcasts_HGT_1997_8.nc'),\n PosixPath('/home/nicolasf/drives/auck_projects/END19101/Working/data/hindcasts/IRI/CMC2-CanCM4/CMC2-CanCM4_hindcasts_HGT_1997_9.nc'),\n PosixPath('/home/nicolasf/drives/auck_projects/END19101/Working/data/hindcasts/IRI/CMC2-CanCM4/CMC2-CanCM4_hindcasts_HGT_1997_10.nc'),\n PosixPath('/home/nicolasf/drives/auck_projects/END19101/Working/data/hindcasts/IRI/CMC2-CanCM4/CMC2-CanCM4_hindcasts_HGT_1997_11.nc'),\n PosixPath('/home/nicolasf/drives/auck_projects/END19101/Working/data/hindcasts/IRI/CMC2-CanCM4/CMC2-CanCM4_hindcasts_HGT_1997_12.nc'),\n PosixPath('/home/nicolasf/drives/auck_projects/END19101/Working/data/hindcasts/IRI/CMC2-CanCM4/CMC2-CanCM4_hindcasts_HGT_1998_1.nc'),\n PosixPath('/home/nicolasf/drives/auck_projects/END19101/Working/data/hindcasts/IRI/CMC2-CanCM4/CMC2-CanCM4_hindcasts_HGT_1998_2.nc'),\n PosixPath('/home/nicolasf/drives/auck_projects/END19101/Working/data/hindcasts/IRI/CMC2-CanCM4/CMC2-CanCM4_hindcasts_HGT_1998_3.nc'),\n PosixPath('/home/nicolasf/drives/auck_projects/END19101/Working/data/hindcasts/IRI/CMC2-CanCM4/CMC2-CanCM4_hindcasts_HGT_1998_4.nc'),\n PosixPath('/home/nicolasf/drives/auck_projects/END19101/Working/data/hindcasts/IRI/CMC2-CanCM4/CMC2-CanCM4_hindcasts_HGT_1998_5.nc'),\n PosixPath('/home/nicolasf/drives/auck_projects/END19101/Working/data/hindcasts/IRI/CMC2-CanCM4/CMC2-CanCM4_hindcasts_HGT_1998_6.nc'),\n PosixPath('/home/nicolasf/drives/auck_projects/END19101/Working/data/hindcasts/IRI/CMC2-CanCM4/CMC2-CanCM4_hindcasts_HGT_1998_7.nc'),\n PosixPath('/home/nicolasf/drives/auck_projects/END19101/Working/data/hindcasts/IRI/CMC2-CanCM4/CMC2-CanCM4_hindcasts_HGT_1998_8.nc'),\n PosixPath('/home/nicolasf/drives/auck_projects/END19101/Working/data/hindcasts/IRI/CMC2-CanCM4/CMC2-CanCM4_hindcasts_HGT_1998_9.nc'),\n PosixPath('/home/nicolasf/drives/auck_projects/END19101/Working/data/hindcasts/IRI/CMC2-CanCM4/CMC2-CanCM4_hindcasts_HGT_1998_10.nc'),\n PosixPath('/home/nicolasf/drives/auck_projects/END19101/Working/data/hindcasts/IRI/CMC2-CanCM4/CMC2-CanCM4_hindcasts_HGT_1998_11.nc'),\n PosixPath('/home/nicolasf/drives/auck_projects/END19101/Working/data/hindcasts/IRI/CMC2-CanCM4/CMC2-CanCM4_hindcasts_HGT_1998_12.nc'),\n PosixPath('/home/nicolasf/drives/auck_projects/END19101/Working/data/hindcasts/IRI/CMC2-CanCM4/CMC2-CanCM4_hindcasts_HGT_1999_1.nc'),\n PosixPath('/home/nicolasf/drives/auck_projects/END19101/Working/data/hindcasts/IRI/CMC2-CanCM4/CMC2-CanCM4_hindcasts_HGT_1999_2.nc'),\n PosixPath('/home/nicolasf/drives/auck_projects/END19101/Working/data/hindcasts/IRI/CMC2-CanCM4/CMC2-CanCM4_hindcasts_HGT_1999_3.nc'),\n PosixPath('/home/nicolasf/drives/auck_projects/END19101/Working/data/hindcasts/IRI/CMC2-CanCM4/CMC2-CanCM4_hindcasts_HGT_1999_4.nc'),\n PosixPath('/home/nicolasf/drives/auck_projects/END19101/Working/data/hindcasts/IRI/CMC2-CanCM4/CMC2-CanCM4_hindcasts_HGT_1999_5.nc'),\n PosixPath('/home/nicolasf/drives/auck_projects/END19101/Working/data/hindcasts/IRI/CMC2-CanCM4/CMC2-CanCM4_hindcasts_HGT_1999_6.nc'),\n PosixPath('/home/nicolasf/drives/auck_projects/END19101/Working/data/hindcasts/IRI/CMC2-CanCM4/CMC2-CanCM4_hindcasts_HGT_1999_7.nc'),\n PosixPath('/home/nicolasf/drives/auck_projects/END19101/Working/data/hindcasts/IRI/CMC2-CanCM4/CMC2-CanCM4_hindcasts_HGT_1999_8.nc'),\n PosixPath('/home/nicolasf/drives/auck_projects/END19101/Working/data/hindcasts/IRI/CMC2-CanCM4/CMC2-CanCM4_hindcasts_HGT_1999_9.nc'),\n PosixPath('/home/nicolasf/drives/auck_projects/END19101/Working/data/hindcasts/IRI/CMC2-CanCM4/CMC2-CanCM4_hindcasts_HGT_1999_10.nc'),\n PosixPath('/home/nicolasf/drives/auck_projects/END19101/Working/data/hindcasts/IRI/CMC2-CanCM4/CMC2-CanCM4_hindcasts_HGT_1999_11.nc'),\n PosixPath('/home/nicolasf/drives/auck_projects/END19101/Working/data/hindcasts/IRI/CMC2-CanCM4/CMC2-CanCM4_hindcasts_HGT_1999_12.nc'),\n PosixPath('/home/nicolasf/drives/auck_projects/END19101/Working/data/hindcasts/IRI/CMC2-CanCM4/CMC2-CanCM4_hindcasts_HGT_2000_1.nc'),\n PosixPath('/home/nicolasf/drives/auck_projects/END19101/Working/data/hindcasts/IRI/CMC2-CanCM4/CMC2-CanCM4_hindcasts_HGT_2000_2.nc'),\n PosixPath('/home/nicolasf/drives/auck_projects/END19101/Working/data/hindcasts/IRI/CMC2-CanCM4/CMC2-CanCM4_hindcasts_HGT_2000_3.nc'),\n PosixPath('/home/nicolasf/drives/auck_projects/END19101/Working/data/hindcasts/IRI/CMC2-CanCM4/CMC2-CanCM4_hindcasts_HGT_2000_4.nc'),\n PosixPath('/home/nicolasf/drives/auck_projects/END19101/Working/data/hindcasts/IRI/CMC2-CanCM4/CMC2-CanCM4_hindcasts_HGT_2000_5.nc'),\n PosixPath('/home/nicolasf/drives/auck_projects/END19101/Working/data/hindcasts/IRI/CMC2-CanCM4/CMC2-CanCM4_hindcasts_HGT_2000_6.nc'),\n PosixPath('/home/nicolasf/drives/auck_projects/END19101/Working/data/hindcasts/IRI/CMC2-CanCM4/CMC2-CanCM4_hindcasts_HGT_2000_7.nc'),\n PosixPath('/home/nicolasf/drives/auck_projects/END19101/Working/data/hindcasts/IRI/CMC2-CanCM4/CMC2-CanCM4_hindcasts_HGT_2000_8.nc'),\n PosixPath('/home/nicolasf/drives/auck_projects/END19101/Working/data/hindcasts/IRI/CMC2-CanCM4/CMC2-CanCM4_hindcasts_HGT_2000_9.nc'),\n PosixPath('/home/nicolasf/drives/auck_projects/END19101/Working/data/hindcasts/IRI/CMC2-CanCM4/CMC2-CanCM4_hindcasts_HGT_2000_10.nc'),\n PosixPath('/home/nicolasf/drives/auck_projects/END19101/Working/data/hindcasts/IRI/CMC2-CanCM4/CMC2-CanCM4_hindcasts_HGT_2000_11.nc'),\n PosixPath('/home/nicolasf/drives/auck_projects/END19101/Working/data/hindcasts/IRI/CMC2-CanCM4/CMC2-CanCM4_hindcasts_HGT_2000_12.nc'),\n PosixPath('/home/nicolasf/drives/auck_projects/END19101/Working/data/hindcasts/IRI/CMC2-CanCM4/CMC2-CanCM4_hindcasts_HGT_2001_1.nc'),\n PosixPath('/home/nicolasf/drives/auck_projects/END19101/Working/data/hindcasts/IRI/CMC2-CanCM4/CMC2-CanCM4_hindcasts_HGT_2001_2.nc'),\n PosixPath('/home/nicolasf/drives/auck_projects/END19101/Working/data/hindcasts/IRI/CMC2-CanCM4/CMC2-CanCM4_hindcasts_HGT_2001_3.nc'),\n PosixPath('/home/nicolasf/drives/auck_projects/END19101/Working/data/hindcasts/IRI/CMC2-CanCM4/CMC2-CanCM4_hindcasts_HGT_2001_4.nc'),\n PosixPath('/home/nicolasf/drives/auck_projects/END19101/Working/data/hindcasts/IRI/CMC2-CanCM4/CMC2-CanCM4_hindcasts_HGT_2001_5.nc'),\n PosixPath('/home/nicolasf/drives/auck_projects/END19101/Working/data/hindcasts/IRI/CMC2-CanCM4/CMC2-CanCM4_hindcasts_HGT_2001_6.nc'),\n PosixPath('/home/nicolasf/drives/auck_projects/END19101/Working/data/hindcasts/IRI/CMC2-CanCM4/CMC2-CanCM4_hindcasts_HGT_2001_7.nc'),\n PosixPath('/home/nicolasf/drives/auck_projects/END19101/Working/data/hindcasts/IRI/CMC2-CanCM4/CMC2-CanCM4_hindcasts_HGT_2001_8.nc'),\n PosixPath('/home/nicolasf/drives/auck_projects/END19101/Working/data/hindcasts/IRI/CMC2-CanCM4/CMC2-CanCM4_hindcasts_HGT_2001_9.nc'),\n PosixPath('/home/nicolasf/drives/auck_projects/END19101/Working/data/hindcasts/IRI/CMC2-CanCM4/CMC2-CanCM4_hindcasts_HGT_2001_10.nc'),\n PosixPath('/home/nicolasf/drives/auck_projects/END19101/Working/data/hindcasts/IRI/CMC2-CanCM4/CMC2-CanCM4_hindcasts_HGT_2001_11.nc'),\n PosixPath('/home/nicolasf/drives/auck_projects/END19101/Working/data/hindcasts/IRI/CMC2-CanCM4/CMC2-CanCM4_hindcasts_HGT_2001_12.nc'),\n PosixPath('/home/nicolasf/drives/auck_projects/END19101/Working/data/hindcasts/IRI/CMC2-CanCM4/CMC2-CanCM4_hindcasts_HGT_2002_1.nc'),\n PosixPath('/home/nicolasf/drives/auck_projects/END19101/Working/data/hindcasts/IRI/CMC2-CanCM4/CMC2-CanCM4_hindcasts_HGT_2002_2.nc'),\n PosixPath('/home/nicolasf/drives/auck_projects/END19101/Working/data/hindcasts/IRI/CMC2-CanCM4/CMC2-CanCM4_hindcasts_HGT_2002_3.nc'),\n PosixPath('/home/nicolasf/drives/auck_projects/END19101/Working/data/hindcasts/IRI/CMC2-CanCM4/CMC2-CanCM4_hindcasts_HGT_2002_4.nc'),\n PosixPath('/home/nicolasf/drives/auck_projects/END19101/Working/data/hindcasts/IRI/CMC2-CanCM4/CMC2-CanCM4_hindcasts_HGT_2002_5.nc'),\n PosixPath('/home/nicolasf/drives/auck_projects/END19101/Working/data/hindcasts/IRI/CMC2-CanCM4/CMC2-CanCM4_hindcasts_HGT_2002_6.nc'),\n PosixPath('/home/nicolasf/drives/auck_projects/END19101/Working/data/hindcasts/IRI/CMC2-CanCM4/CMC2-CanCM4_hindcasts_HGT_2002_7.nc'),\n PosixPath('/home/nicolasf/drives/auck_projects/END19101/Working/data/hindcasts/IRI/CMC2-CanCM4/CMC2-CanCM4_hindcasts_HGT_2002_8.nc'),\n PosixPath('/home/nicolasf/drives/auck_projects/END19101/Working/data/hindcasts/IRI/CMC2-CanCM4/CMC2-CanCM4_hindcasts_HGT_2002_9.nc'),\n PosixPath('/home/nicolasf/drives/auck_projects/END19101/Working/data/hindcasts/IRI/CMC2-CanCM4/CMC2-CanCM4_hindcasts_HGT_2002_10.nc'),\n PosixPath('/home/nicolasf/drives/auck_projects/END19101/Working/data/hindcasts/IRI/CMC2-CanCM4/CMC2-CanCM4_hindcasts_HGT_2002_11.nc'),\n PosixPath('/home/nicolasf/drives/auck_projects/END19101/Working/data/hindcasts/IRI/CMC2-CanCM4/CMC2-CanCM4_hindcasts_HGT_2002_12.nc'),\n PosixPath('/home/nicolasf/drives/auck_projects/END19101/Working/data/hindcasts/IRI/CMC2-CanCM4/CMC2-CanCM4_hindcasts_HGT_2003_1.nc'),\n PosixPath('/home/nicolasf/drives/auck_projects/END19101/Working/data/hindcasts/IRI/CMC2-CanCM4/CMC2-CanCM4_hindcasts_HGT_2003_2.nc'),\n PosixPath('/home/nicolasf/drives/auck_projects/END19101/Working/data/hindcasts/IRI/CMC2-CanCM4/CMC2-CanCM4_hindcasts_HGT_2003_3.nc'),\n PosixPath('/home/nicolasf/drives/auck_projects/END19101/Working/data/hindcasts/IRI/CMC2-CanCM4/CMC2-CanCM4_hindcasts_HGT_2003_4.nc'),\n PosixPath('/home/nicolasf/drives/auck_projects/END19101/Working/data/hindcasts/IRI/CMC2-CanCM4/CMC2-CanCM4_hindcasts_HGT_2003_5.nc'),\n PosixPath('/home/nicolasf/drives/auck_projects/END19101/Working/data/hindcasts/IRI/CMC2-CanCM4/CMC2-CanCM4_hindcasts_HGT_2003_6.nc'),\n PosixPath('/home/nicolasf/drives/auck_projects/END19101/Working/data/hindcasts/IRI/CMC2-CanCM4/CMC2-CanCM4_hindcasts_HGT_2003_7.nc'),\n PosixPath('/home/nicolasf/drives/auck_projects/END19101/Working/data/hindcasts/IRI/CMC2-CanCM4/CMC2-CanCM4_hindcasts_HGT_2003_8.nc'),\n PosixPath('/home/nicolasf/drives/auck_projects/END19101/Working/data/hindcasts/IRI/CMC2-CanCM4/CMC2-CanCM4_hindcasts_HGT_2003_9.nc'),\n PosixPath('/home/nicolasf/drives/auck_projects/END19101/Working/data/hindcasts/IRI/CMC2-CanCM4/CMC2-CanCM4_hindcasts_HGT_2003_10.nc'),\n PosixPath('/home/nicolasf/drives/auck_projects/END19101/Working/data/hindcasts/IRI/CMC2-CanCM4/CMC2-CanCM4_hindcasts_HGT_2003_11.nc'),\n PosixPath('/home/nicolasf/drives/auck_projects/END19101/Working/data/hindcasts/IRI/CMC2-CanCM4/CMC2-CanCM4_hindcasts_HGT_2003_12.nc'),\n PosixPath('/home/nicolasf/drives/auck_projects/END19101/Working/data/hindcasts/IRI/CMC2-CanCM4/CMC2-CanCM4_hindcasts_HGT_2004_1.nc'),\n PosixPath('/home/nicolasf/drives/auck_projects/END19101/Working/data/hindcasts/IRI/CMC2-CanCM4/CMC2-CanCM4_hindcasts_HGT_2004_2.nc'),\n PosixPath('/home/nicolasf/drives/auck_projects/END19101/Working/data/hindcasts/IRI/CMC2-CanCM4/CMC2-CanCM4_hindcasts_HGT_2004_3.nc'),\n PosixPath('/home/nicolasf/drives/auck_projects/END19101/Working/data/hindcasts/IRI/CMC2-CanCM4/CMC2-CanCM4_hindcasts_HGT_2004_4.nc'),\n PosixPath('/home/nicolasf/drives/auck_projects/END19101/Working/data/hindcasts/IRI/CMC2-CanCM4/CMC2-CanCM4_hindcasts_HGT_2004_5.nc'),\n PosixPath('/home/nicolasf/drives/auck_projects/END19101/Working/data/hindcasts/IRI/CMC2-CanCM4/CMC2-CanCM4_hindcasts_HGT_2004_6.nc'),\n PosixPath('/home/nicolasf/drives/auck_projects/END19101/Working/data/hindcasts/IRI/CMC2-CanCM4/CMC2-CanCM4_hindcasts_HGT_2004_7.nc'),\n PosixPath('/home/nicolasf/drives/auck_projects/END19101/Working/data/hindcasts/IRI/CMC2-CanCM4/CMC2-CanCM4_hindcasts_HGT_2004_8.nc'),\n PosixPath('/home/nicolasf/drives/auck_projects/END19101/Working/data/hindcasts/IRI/CMC2-CanCM4/CMC2-CanCM4_hindcasts_HGT_2004_9.nc'),\n PosixPath('/home/nicolasf/drives/auck_projects/END19101/Working/data/hindcasts/IRI/CMC2-CanCM4/CMC2-CanCM4_hindcasts_HGT_2004_10.nc'),\n PosixPath('/home/nicolasf/drives/auck_projects/END19101/Working/data/hindcasts/IRI/CMC2-CanCM4/CMC2-CanCM4_hindcasts_HGT_2004_11.nc'),\n PosixPath('/home/nicolasf/drives/auck_projects/END19101/Working/data/hindcasts/IRI/CMC2-CanCM4/CMC2-CanCM4_hindcasts_HGT_2004_12.nc'),\n PosixPath('/home/nicolasf/drives/auck_projects/END19101/Working/data/hindcasts/IRI/CMC2-CanCM4/CMC2-CanCM4_hindcasts_HGT_2005_1.nc'),\n PosixPath('/home/nicolasf/drives/auck_projects/END19101/Working/data/hindcasts/IRI/CMC2-CanCM4/CMC2-CanCM4_hindcasts_HGT_2005_2.nc'),\n PosixPath('/home/nicolasf/drives/auck_projects/END19101/Working/data/hindcasts/IRI/CMC2-CanCM4/CMC2-CanCM4_hindcasts_HGT_2005_3.nc'),\n PosixPath('/home/nicolasf/drives/auck_projects/END19101/Working/data/hindcasts/IRI/CMC2-CanCM4/CMC2-CanCM4_hindcasts_HGT_2005_4.nc'),\n PosixPath('/home/nicolasf/drives/auck_projects/END19101/Working/data/hindcasts/IRI/CMC2-CanCM4/CMC2-CanCM4_hindcasts_HGT_2005_5.nc'),\n PosixPath('/home/nicolasf/drives/auck_projects/END19101/Working/data/hindcasts/IRI/CMC2-CanCM4/CMC2-CanCM4_hindcasts_HGT_2005_6.nc'),\n PosixPath('/home/nicolasf/drives/auck_projects/END19101/Working/data/hindcasts/IRI/CMC2-CanCM4/CMC2-CanCM4_hindcasts_HGT_2005_7.nc'),\n PosixPath('/home/nicolasf/drives/auck_projects/END19101/Working/data/hindcasts/IRI/CMC2-CanCM4/CMC2-CanCM4_hindcasts_HGT_2005_8.nc'),\n PosixPath('/home/nicolasf/drives/auck_projects/END19101/Working/data/hindcasts/IRI/CMC2-CanCM4/CMC2-CanCM4_hindcasts_HGT_2005_9.nc'),\n PosixPath('/home/nicolasf/drives/auck_projects/END19101/Working/data/hindcasts/IRI/CMC2-CanCM4/CMC2-CanCM4_hindcasts_HGT_2005_10.nc'),\n PosixPath('/home/nicolasf/drives/auck_projects/END19101/Working/data/hindcasts/IRI/CMC2-CanCM4/CMC2-CanCM4_hindcasts_HGT_2005_11.nc'),\n PosixPath('/home/nicolasf/drives/auck_projects/END19101/Working/data/hindcasts/IRI/CMC2-CanCM4/CMC2-CanCM4_hindcasts_HGT_2005_12.nc'),\n PosixPath('/home/nicolasf/drives/auck_projects/END19101/Working/data/hindcasts/IRI/CMC2-CanCM4/CMC2-CanCM4_hindcasts_HGT_2006_1.nc'),\n PosixPath('/home/nicolasf/drives/auck_projects/END19101/Working/data/hindcasts/IRI/CMC2-CanCM4/CMC2-CanCM4_hindcasts_HGT_2006_2.nc'),\n PosixPath('/home/nicolasf/drives/auck_projects/END19101/Working/data/hindcasts/IRI/CMC2-CanCM4/CMC2-CanCM4_hindcasts_HGT_2006_3.nc'),\n PosixPath('/home/nicolasf/drives/auck_projects/END19101/Working/data/hindcasts/IRI/CMC2-CanCM4/CMC2-CanCM4_hindcasts_HGT_2006_4.nc'),\n PosixPath('/home/nicolasf/drives/auck_projects/END19101/Working/data/hindcasts/IRI/CMC2-CanCM4/CMC2-CanCM4_hindcasts_HGT_2006_5.nc'),\n PosixPath('/home/nicolasf/drives/auck_projects/END19101/Working/data/hindcasts/IRI/CMC2-CanCM4/CMC2-CanCM4_hindcasts_HGT_2006_6.nc'),\n PosixPath('/home/nicolasf/drives/auck_projects/END19101/Working/data/hindcasts/IRI/CMC2-CanCM4/CMC2-CanCM4_hindcasts_HGT_2006_7.nc'),\n PosixPath('/home/nicolasf/drives/auck_projects/END19101/Working/data/hindcasts/IRI/CMC2-CanCM4/CMC2-CanCM4_hindcasts_HGT_2006_8.nc'),\n PosixPath('/home/nicolasf/drives/auck_projects/END19101/Working/data/hindcasts/IRI/CMC2-CanCM4/CMC2-CanCM4_hindcasts_HGT_2006_9.nc'),\n PosixPath('/home/nicolasf/drives/auck_projects/END19101/Working/data/hindcasts/IRI/CMC2-CanCM4/CMC2-CanCM4_hindcasts_HGT_2006_10.nc'),\n PosixPath('/home/nicolasf/drives/auck_projects/END19101/Working/data/hindcasts/IRI/CMC2-CanCM4/CMC2-CanCM4_hindcasts_HGT_2006_11.nc'),\n PosixPath('/home/nicolasf/drives/auck_projects/END19101/Working/data/hindcasts/IRI/CMC2-CanCM4/CMC2-CanCM4_hindcasts_HGT_2006_12.nc'),\n PosixPath('/home/nicolasf/drives/auck_projects/END19101/Working/data/hindcasts/IRI/CMC2-CanCM4/CMC2-CanCM4_hindcasts_HGT_2007_1.nc'),\n PosixPath('/home/nicolasf/drives/auck_projects/END19101/Working/data/hindcasts/IRI/CMC2-CanCM4/CMC2-CanCM4_hindcasts_HGT_2007_2.nc'),\n PosixPath('/home/nicolasf/drives/auck_projects/END19101/Working/data/hindcasts/IRI/CMC2-CanCM4/CMC2-CanCM4_hindcasts_HGT_2007_3.nc'),\n PosixPath('/home/nicolasf/drives/auck_projects/END19101/Working/data/hindcasts/IRI/CMC2-CanCM4/CMC2-CanCM4_hindcasts_HGT_2007_4.nc'),\n PosixPath('/home/nicolasf/drives/auck_projects/END19101/Working/data/hindcasts/IRI/CMC2-CanCM4/CMC2-CanCM4_hindcasts_HGT_2007_5.nc'),\n PosixPath('/home/nicolasf/drives/auck_projects/END19101/Working/data/hindcasts/IRI/CMC2-CanCM4/CMC2-CanCM4_hindcasts_HGT_2007_6.nc'),\n PosixPath('/home/nicolasf/drives/auck_projects/END19101/Working/data/hindcasts/IRI/CMC2-CanCM4/CMC2-CanCM4_hindcasts_HGT_2007_7.nc'),\n PosixPath('/home/nicolasf/drives/auck_projects/END19101/Working/data/hindcasts/IRI/CMC2-CanCM4/CMC2-CanCM4_hindcasts_HGT_2007_8.nc'),\n PosixPath('/home/nicolasf/drives/auck_projects/END19101/Working/data/hindcasts/IRI/CMC2-CanCM4/CMC2-CanCM4_hindcasts_HGT_2007_9.nc'),\n PosixPath('/home/nicolasf/drives/auck_projects/END19101/Working/data/hindcasts/IRI/CMC2-CanCM4/CMC2-CanCM4_hindcasts_HGT_2007_10.nc'),\n PosixPath('/home/nicolasf/drives/auck_projects/END19101/Working/data/hindcasts/IRI/CMC2-CanCM4/CMC2-CanCM4_hindcasts_HGT_2007_11.nc'),\n PosixPath('/home/nicolasf/drives/auck_projects/END19101/Working/data/hindcasts/IRI/CMC2-CanCM4/CMC2-CanCM4_hindcasts_HGT_2007_12.nc'),\n PosixPath('/home/nicolasf/drives/auck_projects/END19101/Working/data/hindcasts/IRI/CMC2-CanCM4/CMC2-CanCM4_hindcasts_HGT_2008_1.nc'),\n PosixPath('/home/nicolasf/drives/auck_projects/END19101/Working/data/hindcasts/IRI/CMC2-CanCM4/CMC2-CanCM4_hindcasts_HGT_2008_2.nc'),\n PosixPath('/home/nicolasf/drives/auck_projects/END19101/Working/data/hindcasts/IRI/CMC2-CanCM4/CMC2-CanCM4_hindcasts_HGT_2008_3.nc'),\n PosixPath('/home/nicolasf/drives/auck_projects/END19101/Working/data/hindcasts/IRI/CMC2-CanCM4/CMC2-CanCM4_hindcasts_HGT_2008_4.nc'),\n PosixPath('/home/nicolasf/drives/auck_projects/END19101/Working/data/hindcasts/IRI/CMC2-CanCM4/CMC2-CanCM4_hindcasts_HGT_2008_5.nc'),\n PosixPath('/home/nicolasf/drives/auck_projects/END19101/Working/data/hindcasts/IRI/CMC2-CanCM4/CMC2-CanCM4_hindcasts_HGT_2008_6.nc'),\n PosixPath('/home/nicolasf/drives/auck_projects/END19101/Working/data/hindcasts/IRI/CMC2-CanCM4/CMC2-CanCM4_hindcasts_HGT_2008_7.nc'),\n PosixPath('/home/nicolasf/drives/auck_projects/END19101/Working/data/hindcasts/IRI/CMC2-CanCM4/CMC2-CanCM4_hindcasts_HGT_2008_8.nc'),\n PosixPath('/home/nicolasf/drives/auck_projects/END19101/Working/data/hindcasts/IRI/CMC2-CanCM4/CMC2-CanCM4_hindcasts_HGT_2008_9.nc'),\n PosixPath('/home/nicolasf/drives/auck_projects/END19101/Working/data/hindcasts/IRI/CMC2-CanCM4/CMC2-CanCM4_hindcasts_HGT_2008_10.nc'),\n PosixPath('/home/nicolasf/drives/auck_projects/END19101/Working/data/hindcasts/IRI/CMC2-CanCM4/CMC2-CanCM4_hindcasts_HGT_2008_11.nc'),\n PosixPath('/home/nicolasf/drives/auck_projects/END19101/Working/data/hindcasts/IRI/CMC2-CanCM4/CMC2-CanCM4_hindcasts_HGT_2008_12.nc'),\n PosixPath('/home/nicolasf/drives/auck_projects/END19101/Working/data/hindcasts/IRI/CMC2-CanCM4/CMC2-CanCM4_hindcasts_HGT_2009_1.nc'),\n PosixPath('/home/nicolasf/drives/auck_projects/END19101/Working/data/hindcasts/IRI/CMC2-CanCM4/CMC2-CanCM4_hindcasts_HGT_2009_2.nc'),\n PosixPath('/home/nicolasf/drives/auck_projects/END19101/Working/data/hindcasts/IRI/CMC2-CanCM4/CMC2-CanCM4_hindcasts_HGT_2009_3.nc'),\n PosixPath('/home/nicolasf/drives/auck_projects/END19101/Working/data/hindcasts/IRI/CMC2-CanCM4/CMC2-CanCM4_hindcasts_HGT_2009_4.nc'),\n PosixPath('/home/nicolasf/drives/auck_projects/END19101/Working/data/hindcasts/IRI/CMC2-CanCM4/CMC2-CanCM4_hindcasts_HGT_2009_5.nc'),\n PosixPath('/home/nicolasf/drives/auck_projects/END19101/Working/data/hindcasts/IRI/CMC2-CanCM4/CMC2-CanCM4_hindcasts_HGT_2009_6.nc'),\n PosixPath('/home/nicolasf/drives/auck_projects/END19101/Working/data/hindcasts/IRI/CMC2-CanCM4/CMC2-CanCM4_hindcasts_HGT_2009_7.nc'),\n PosixPath('/home/nicolasf/drives/auck_projects/END19101/Working/data/hindcasts/IRI/CMC2-CanCM4/CMC2-CanCM4_hindcasts_HGT_2009_8.nc'),\n PosixPath('/home/nicolasf/drives/auck_projects/END19101/Working/data/hindcasts/IRI/CMC2-CanCM4/CMC2-CanCM4_hindcasts_HGT_2009_9.nc'),\n PosixPath('/home/nicolasf/drives/auck_projects/END19101/Working/data/hindcasts/IRI/CMC2-CanCM4/CMC2-CanCM4_hindcasts_HGT_2009_10.nc'),\n PosixPath('/home/nicolasf/drives/auck_projects/END19101/Working/data/hindcasts/IRI/CMC2-CanCM4/CMC2-CanCM4_hindcasts_HGT_2009_11.nc'),\n PosixPath('/home/nicolasf/drives/auck_projects/END19101/Working/data/hindcasts/IRI/CMC2-CanCM4/CMC2-CanCM4_hindcasts_HGT_2009_12.nc'),\n PosixPath('/home/nicolasf/drives/auck_projects/END19101/Working/data/hindcasts/IRI/CMC2-CanCM4/CMC2-CanCM4_hindcasts_HGT_2010_1.nc'),\n PosixPath('/home/nicolasf/drives/auck_projects/END19101/Working/data/hindcasts/IRI/CMC2-CanCM4/CMC2-CanCM4_hindcasts_HGT_2010_2.nc'),\n PosixPath('/home/nicolasf/drives/auck_projects/END19101/Working/data/hindcasts/IRI/CMC2-CanCM4/CMC2-CanCM4_hindcasts_HGT_2010_3.nc'),\n PosixPath('/home/nicolasf/drives/auck_projects/END19101/Working/data/hindcasts/IRI/CMC2-CanCM4/CMC2-CanCM4_hindcasts_HGT_2010_4.nc'),\n PosixPath('/home/nicolasf/drives/auck_projects/END19101/Working/data/hindcasts/IRI/CMC2-CanCM4/CMC2-CanCM4_hindcasts_HGT_2010_5.nc'),\n PosixPath('/home/nicolasf/drives/auck_projects/END19101/Working/data/hindcasts/IRI/CMC2-CanCM4/CMC2-CanCM4_hindcasts_HGT_2010_6.nc'),\n PosixPath('/home/nicolasf/drives/auck_projects/END19101/Working/data/hindcasts/IRI/CMC2-CanCM4/CMC2-CanCM4_hindcasts_HGT_2010_7.nc'),\n PosixPath('/home/nicolasf/drives/auck_projects/END19101/Working/data/hindcasts/IRI/CMC2-CanCM4/CMC2-CanCM4_hindcasts_HGT_2010_8.nc'),\n PosixPath('/home/nicolasf/drives/auck_projects/END19101/Working/data/hindcasts/IRI/CMC2-CanCM4/CMC2-CanCM4_hindcasts_HGT_2010_9.nc'),\n PosixPath('/home/nicolasf/drives/auck_projects/END19101/Working/data/hindcasts/IRI/CMC2-CanCM4/CMC2-CanCM4_hindcasts_HGT_2010_10.nc'),\n PosixPath('/home/nicolasf/drives/auck_projects/END19101/Working/data/hindcasts/IRI/CMC2-CanCM4/CMC2-CanCM4_hindcasts_HGT_2010_11.nc'),\n PosixPath('/home/nicolasf/drives/auck_projects/END19101/Working/data/hindcasts/IRI/CMC2-CanCM4/CMC2-CanCM4_hindcasts_HGT_2010_12.nc')]"
       },
       "execution_count": 18,
       "metadata": {},
       "output_type": "execute_result"
      }
     ],
     "persistentId": "db3a712f-f364-4f44-a387-59a14ff4159b",
     "text": "lfiles"
    },
    "executionTime": "2019-12-16T00:37:52.168Z"
   },
   {
    "cell": {
     "executionCount": 19,
     "executionEventId": "36f810cc-2395-4b97-938b-d68c7836172e",
     "hasError": false,
     "id": "3960b0f4-5ad5-4efd-ba67-ba2b9ac179e1",
     "outputs": [],
     "persistentId": "0379e4e3-d6cf-4f9a-b761-bfaea6ccf010",
     "text": "import xarray as xr"
    },
    "executionTime": "2019-12-16T00:38:13.245Z"
   },
   {
    "cell": {
     "executionCount": 20,
     "executionEventId": "3acef050-71ce-41ed-a62b-3f2325941a42",
     "hasError": false,
     "id": "953b603d-0116-481e-91c7-65dd13284206",
     "outputs": [
      {
       "data": {
        "text/plain": "'0.14.0'"
       },
       "execution_count": 20,
       "metadata": {},
       "output_type": "execute_result"
      }
     ],
     "persistentId": "110870bd-cce1-45a7-acaa-e2d768334ccb",
     "text": "xr.__version__"
    },
    "executionTime": "2019-12-16T00:38:16.212Z"
   },
   {
    "cell": {
     "executionCount": 21,
     "executionEventId": "93cbc254-f3cc-40a8-ab3c-2f8b2aee1ccb",
     "hasError": false,
     "id": "7f08c90c-cc49-4d16-a424-fbc48e37e1a6",
     "outputs": [],
     "persistentId": "aaccdcda-13c1-42fc-9abf-9f3be0339853",
     "text": "dset = xr.open_dataset(lfiles[0])"
    },
    "executionTime": "2019-12-16T00:38:23.171Z"
   },
   {
    "cell": {
     "executionCount": 22,
     "executionEventId": "848c5f19-9da1-4586-b632-9322199daf7b",
     "hasError": false,
     "id": "f48764e1-fce1-4cd7-a2dd-ee7ffe90b8fc",
     "outputs": [
      {
       "data": {
        "text/plain": "<xarray.Dataset>\nDimensions:         (lat: 181, leadtime: 12, lon: 360, member: 10, pressure_level: 2)\nCoordinates:\n  * leadtime        (leadtime) float32 0.5 1.5 2.5 3.5 4.5 ... 8.5 9.5 10.5 11.5\n  * lat             (lat) float32 -90.0 -89.0 -88.0 -87.0 ... 88.0 89.0 90.0\n  * pressure_level  (pressure_level) int32 500 200\n    time            datetime64[ns] ...\n  * lon             (lon) float32 0.0 1.0 2.0 3.0 ... 356.0 357.0 358.0 359.0\n  * member          (member) float32 1.0 2.0 3.0 4.0 5.0 6.0 7.0 8.0 9.0 10.0\nData variables:\n    hgt             (member, leadtime, pressure_level, lat, lon) float32 ...\nAttributes:\n    Conventions:  IRIDL"
       },
       "execution_count": 22,
       "metadata": {},
       "output_type": "execute_result"
      }
     ],
     "persistentId": "fb8c4769-87c1-444f-b7ad-67f68360391c",
     "text": "dset"
    },
    "executionTime": "2019-12-16T00:38:26.230Z"
   },
   {
    "cell": {
     "executionCount": 23,
     "executionEventId": "c5a43ab6-7c83-43c5-a1ef-e782b8a21837",
     "hasError": false,
     "id": "0a0f7e2f-5edc-409f-9be2-dd43e8f354ec",
     "outputs": [
      {
       "data": {
        "text/plain": "<xarray.Dataset>\nDimensions:         (lat: 181, leadtime: 12, lon: 360, member: 10)\nCoordinates:\n  * leadtime        (leadtime) float32 0.5 1.5 2.5 3.5 4.5 ... 8.5 9.5 10.5 11.5\n  * lat             (lat) float32 -90.0 -89.0 -88.0 -87.0 ... 88.0 89.0 90.0\n    pressure_level  int32 500\n    time            datetime64[ns] ...\n  * lon             (lon) float32 0.0 1.0 2.0 3.0 ... 356.0 357.0 358.0 359.0\n  * member          (member) float32 1.0 2.0 3.0 4.0 5.0 6.0 7.0 8.0 9.0 10.0\nData variables:\n    hgt             (member, leadtime, lat, lon) float32 ...\nAttributes:\n    Conventions:  IRIDL"
       },
       "execution_count": 23,
       "metadata": {},
       "output_type": "execute_result"
      }
     ],
     "persistentId": "4bd25e91-fee2-4968-9458-d8a140c65028",
     "text": "dset.sel(pressure_level=500)"
    },
    "executionTime": "2019-12-16T00:38:43.906Z"
   },
   {
    "cell": {
     "executionCount": 24,
     "executionEventId": "406bedfa-371b-4afb-8c25-2b58bb49f9b2",
     "hasError": false,
     "id": "90d0c6c1-b4bc-4863-a5f6-49cfe1b7f909",
     "outputs": [
      {
       "data": {
        "text/plain": "PosixPath('/home/nicolasf/drives/auck_projects/END19101/Working/data/hindcasts/IRI/CMC2-CanCM4/CMC2-CanCM4_hindcasts_HGT_1981_1.nc')"
       },
       "execution_count": 24,
       "metadata": {},
       "output_type": "execute_result"
      }
     ],
     "persistentId": "e62d860c-5f30-4a8a-9916-21185fa9e4fb",
     "text": "lfiles[0]"
    },
    "executionTime": "2019-12-16T00:39:20.113Z"
   },
   {
    "cell": {
     "executionCount": 25,
     "executionEventId": "5ccb7623-6626-42a7-bd60-44668f936b8b",
     "hasError": false,
     "id": "90d0c6c1-b4bc-4863-a5f6-49cfe1b7f909",
     "outputs": [
      {
       "data": {
        "text/plain": "PosixPath('/home/nicolasf/drives/auck_projects/END19101/Working/data/hindcasts/IRI/CMC2-CanCM4')"
       },
       "execution_count": 25,
       "metadata": {},
       "output_type": "execute_result"
      }
     ],
     "persistentId": "e62d860c-5f30-4a8a-9916-21185fa9e4fb",
     "text": "lfiles[0].parent"
    },
    "executionTime": "2019-12-16T00:39:24.262Z"
   },
   {
    "cell": {
     "executionCount": 26,
     "executionEventId": "42040ba4-5397-4a49-b025-9b98e9f30aac",
     "hasError": false,
     "id": "90d0c6c1-b4bc-4863-a5f6-49cfe1b7f909",
     "outputs": [
      {
       "data": {
        "text/plain": "PosixPath('/home/nicolasf/drives/auck_projects/END19101/Working/data/hindcasts/IRI/CMC2-CanCM4/Z500')"
       },
       "execution_count": 26,
       "metadata": {},
       "output_type": "execute_result"
      }
     ],
     "persistentId": "e62d860c-5f30-4a8a-9916-21185fa9e4fb",
     "text": "lfiles[0].parent / 'Z500'"
    },
    "executionTime": "2019-12-16T00:39:27.587Z"
   },
   {
    "cell": {
     "executionCount": 27,
     "executionEventId": "ccedf75e-35e0-4f64-8df2-8609a56de8f3",
     "hasError": false,
     "id": "0be5e45f-fc03-4bf2-8241-5e4726158fe3",
     "outputs": [
      {
       "data": {
        "text/plain": "'CMC2-CanCM4_hindcasts_HGT_1981_1.nc'"
       },
       "execution_count": 27,
       "metadata": {},
       "output_type": "execute_result"
      }
     ],
     "persistentId": "7fca715c-69c7-4094-942e-fb34c1e08356",
     "text": "lfiles[0].name"
    },
    "executionTime": "2019-12-16T00:39:45.184Z"
   },
   {
    "cell": {
     "executionCount": 28,
     "executionEventId": "d457d91c-0e3a-4028-97bd-7dc3b413564c",
     "hasError": false,
     "id": "0be5e45f-fc03-4bf2-8241-5e4726158fe3",
     "outputs": [
      {
       "data": {
        "text/plain": "'CMC2-CanCM4_hindcasts_Z500_1981_1.nc'"
       },
       "execution_count": 28,
       "metadata": {},
       "output_type": "execute_result"
      }
     ],
     "persistentId": "7fca715c-69c7-4094-942e-fb34c1e08356",
     "text": "lfiles[0].name.replace('HGT','Z500')"
    },
    "executionTime": "2019-12-16T00:39:53.407Z"
   },
   {
    "cell": {
     "executionCount": 29,
     "executionEventId": "efba2d27-f60c-4810-b4cf-9174310ae067",
     "hasError": false,
     "id": "b7355871-c80b-4c1a-b620-6274686265a9",
     "outputs": [],
     "persistentId": "2f70338a-755b-4f1c-8ef4-dfc7a11f168b",
     "text": "for p in [500, 200]: \n    for fname in lfiles: \n        dset = xr.open_dataset(fname)\n        dset = dset.sel(pressure_level=p)\n        fname_out = fname.parent / f'Z{p}' / fname.name.replace('HGT',f'Z{p}')\n        dset.to_netcdf(fname_out)\n        dset.close()"
    },
    "executionTime": "2019-12-16T02:35:18.513Z"
   }
  ],
  "kernelspec": {
   "display_name": "Python 3",
   "language": "python",
   "name": "python3"
  },
  "language_info": {
   "codemirror_mode": {
    "name": "ipython",
    "version": 3
   },
   "file_extension": ".py",
   "mimetype": "text/x-python",
   "name": "python",
   "nbconvert_exporter": "python",
   "pygments_lexer": "ipython3",
   "version": "3.7.5"
  },
  "uuid": "a09c5029-30d7-4964-975f-0c397823ed93"
 },
 "nbformat": 4,
 "nbformat_minor": 4
}
