{
 "cells": [
  {
   "cell_type": "markdown",
   "metadata": {},
   "source": [
    "### pre-process the JMA hindcasts, step 2, adopt the same file structure and convention as the CDS"
   ]
  },
  {
   "cell_type": "code",
   "execution_count": 1,
   "metadata": {},
   "outputs": [],
   "source": [
    "%matplotlib inline\n",
    "import matplotlib.pyplot as plt"
   ]
  },
  {
   "cell_type": "code",
   "execution_count": 2,
   "metadata": {},
   "outputs": [],
   "source": [
    "from datetime import datetime, timedelta"
   ]
  },
  {
   "cell_type": "code",
   "execution_count": 3,
   "metadata": {},
   "outputs": [],
   "source": [
    "import pygrib\n",
    "import numpy as np\n",
    "import pandas as pd"
   ]
  },
  {
   "cell_type": "code",
   "execution_count": 4,
   "metadata": {},
   "outputs": [
    {
     "name": "stdout",
     "output_type": "stream",
     "text": [
      "0.14.0\n"
     ]
    }
   ],
   "source": [
    "import xarray as xr; print(xr.__version__)"
   ]
  },
  {
   "cell_type": "code",
   "execution_count": 5,
   "metadata": {},
   "outputs": [],
   "source": [
    "import dask"
   ]
  },
  {
   "cell_type": "code",
   "execution_count": 6,
   "metadata": {},
   "outputs": [],
   "source": [
    "import os"
   ]
  },
  {
   "cell_type": "code",
   "execution_count": 7,
   "metadata": {},
   "outputs": [],
   "source": [
    "import pathlib"
   ]
  },
  {
   "cell_type": "code",
   "execution_count": 8,
   "metadata": {},
   "outputs": [],
   "source": [
    "from datetime import datetime, timedelta\n",
    "from dateutil.relativedelta import relativedelta"
   ]
  },
  {
   "cell_type": "code",
   "execution_count": 9,
   "metadata": {},
   "outputs": [],
   "source": [
    "var = 'PRECIP'"
   ]
  },
  {
   "cell_type": "code",
   "execution_count": 10,
   "metadata": {},
   "outputs": [],
   "source": [
    "model = 'JMA'"
   ]
  },
  {
   "cell_type": "code",
   "execution_count": 11,
   "metadata": {},
   "outputs": [],
   "source": [
    "dpath = pathlib.Path(f'/home/nicolasf/drives/auck_projects/END19101/Working/data/hindcasts/{model}/{var}/')"
   ]
  },
  {
   "cell_type": "code",
   "execution_count": 12,
   "metadata": {},
   "outputs": [],
   "source": [
    "lfiles = list(dpath.glob(\"*.nc\"))"
   ]
  },
  {
   "cell_type": "code",
   "execution_count": 13,
   "metadata": {},
   "outputs": [
    {
     "data": {
      "text/plain": [
       "864"
      ]
     },
     "execution_count": 13,
     "metadata": {},
     "output_type": "execute_result"
    }
   ],
   "source": [
    "len(lfiles)"
   ]
  },
  {
   "cell_type": "code",
   "execution_count": 14,
   "metadata": {},
   "outputs": [],
   "source": [
    "lfiles.sort()"
   ]
  },
  {
   "cell_type": "code",
   "execution_count": 15,
   "metadata": {},
   "outputs": [
    {
     "name": "stdout",
     "output_type": "stream",
     "text": [
      "/home/nicolasf/drives/auck_projects/END19101/Working/data/hindcasts/JMA/PRECIP/surf_Prr_mon.19790116.nc\n"
     ]
    }
   ],
   "source": [
    "print(lfiles[0])"
   ]
  },
  {
   "cell_type": "code",
   "execution_count": 16,
   "metadata": {},
   "outputs": [
    {
     "name": "stdout",
     "output_type": "stream",
     "text": [
      "/home/nicolasf/drives/auck_projects/END19101/Working/data/hindcasts/JMA/PRECIP/surf_Prr_mon.20141227.nc\n"
     ]
    }
   ],
   "source": [
    "print(lfiles[-1])"
   ]
  },
  {
   "cell_type": "markdown",
   "metadata": {},
   "source": [
    "### read with mfdataset (needs dask installed )"
   ]
  },
  {
   "cell_type": "code",
   "execution_count": 17,
   "metadata": {},
   "outputs": [],
   "source": [
    "dset = xr.open_mfdataset(lfiles, combine='by_coords')"
   ]
  },
  {
   "cell_type": "code",
   "execution_count": 18,
   "metadata": {},
   "outputs": [
    {
     "data": {
      "text/plain": [
       "<xarray.Dataset>\n",
       "Dimensions:    (latitude: 73, longitude: 144, number: 5, step: 7, time: 864)\n",
       "Coordinates:\n",
       "  * number     (number) int64 0 1 2 3 4\n",
       "  * latitude   (latitude) float64 90.0 87.5 85.0 82.5 ... -85.0 -87.5 -90.0\n",
       "  * step       (step) int64 1 2 3 4 5 6 7\n",
       "  * longitude  (longitude) float64 0.0 2.5 5.0 7.5 ... 350.0 352.5 355.0 357.5\n",
       "  * time       (time) datetime64[ns] 1979-01-16 1979-01-31 ... 2014-12-27\n",
       "Data variables:\n",
       "    precip     (time, step, number, latitude, longitude) float64 dask.array<chunksize=(1, 7, 5, 73, 144), meta=np.ndarray>"
      ]
     },
     "execution_count": 18,
     "metadata": {},
     "output_type": "execute_result"
    }
   ],
   "source": [
    "dset"
   ]
  },
  {
   "cell_type": "code",
   "execution_count": 19,
   "metadata": {},
   "outputs": [],
   "source": [
    "dset = dset.rename({'number':'member'})"
   ]
  },
  {
   "cell_type": "code",
   "execution_count": 20,
   "metadata": {},
   "outputs": [
    {
     "data": {
      "text/plain": [
       "<xarray.Dataset>\n",
       "Dimensions:    (latitude: 73, longitude: 144, member: 5, step: 7, time: 864)\n",
       "Coordinates:\n",
       "  * member     (member) int64 0 1 2 3 4\n",
       "  * latitude   (latitude) float64 90.0 87.5 85.0 82.5 ... -85.0 -87.5 -90.0\n",
       "  * step       (step) int64 1 2 3 4 5 6 7\n",
       "  * longitude  (longitude) float64 0.0 2.5 5.0 7.5 ... 350.0 352.5 355.0 357.5\n",
       "  * time       (time) datetime64[ns] 1979-01-16 1979-01-31 ... 2014-12-27\n",
       "Data variables:\n",
       "    precip     (time, step, member, latitude, longitude) float64 dask.array<chunksize=(1, 7, 5, 73, 144), meta=np.ndarray>"
      ]
     },
     "execution_count": 20,
     "metadata": {},
     "output_type": "execute_result"
    }
   ],
   "source": [
    "dset"
   ]
  },
  {
   "cell_type": "code",
   "execution_count": 21,
   "metadata": {},
   "outputs": [],
   "source": [
    "index = dset.time.to_series()"
   ]
  },
  {
   "cell_type": "code",
   "execution_count": 22,
   "metadata": {},
   "outputs": [],
   "source": [
    "index = index[(index.index.day >= 10) & (index.index.day <= 16)]"
   ]
  },
  {
   "cell_type": "code",
   "execution_count": 23,
   "metadata": {},
   "outputs": [],
   "source": [
    "dset = dset.sel(time=index.index)"
   ]
  },
  {
   "cell_type": "code",
   "execution_count": 24,
   "metadata": {},
   "outputs": [
    {
     "data": {
      "text/plain": [
       "1.271536808"
      ]
     },
     "execution_count": 24,
     "metadata": {},
     "output_type": "execute_result"
    }
   ],
   "source": [
    "dset.nbytes / 1e9"
   ]
  },
  {
   "cell_type": "markdown",
   "metadata": {},
   "source": [
    "### normalise so that the initialisation date is the first of each month, we will keep the original 'real' initialisation dates in a separate variable "
   ]
  },
  {
   "cell_type": "code",
   "execution_count": 25,
   "metadata": {},
   "outputs": [],
   "source": [
    "init_dates = dset.time"
   ]
  },
  {
   "cell_type": "code",
   "execution_count": 26,
   "metadata": {},
   "outputs": [],
   "source": [
    "init_dates = init_dates.to_index()"
   ]
  },
  {
   "cell_type": "code",
   "execution_count": 27,
   "metadata": {},
   "outputs": [],
   "source": [
    "init_dates_fl = [datetime(x.year, x.month, 1) for x in init_dates]"
   ]
  },
  {
   "cell_type": "code",
   "execution_count": 28,
   "metadata": {},
   "outputs": [],
   "source": [
    "dset['time'] = (('time'), init_dates_fl)"
   ]
  },
  {
   "cell_type": "code",
   "execution_count": 29,
   "metadata": {},
   "outputs": [],
   "source": [
    "dset['init_dates_JMA'] = (('time'), init_dates)"
   ]
  },
  {
   "cell_type": "markdown",
   "metadata": {},
   "source": [
    "### calculates the rolling averages over the `step` dimension "
   ]
  },
  {
   "cell_type": "code",
   "execution_count": 30,
   "metadata": {},
   "outputs": [
    {
     "data": {
      "text/plain": [
       "<xarray.Dataset>\n",
       "Dimensions:         (latitude: 73, longitude: 144, member: 5, step: 7, time: 432)\n",
       "Coordinates:\n",
       "  * member          (member) int64 0 1 2 3 4\n",
       "  * latitude        (latitude) float64 90.0 87.5 85.0 82.5 ... -85.0 -87.5 -90.0\n",
       "  * step            (step) int64 1 2 3 4 5 6 7\n",
       "  * longitude       (longitude) float64 0.0 2.5 5.0 7.5 ... 352.5 355.0 357.5\n",
       "  * time            (time) datetime64[ns] 1979-01-01 1979-02-01 ... 2014-12-01\n",
       "Data variables:\n",
       "    precip          (time, step, member, latitude, longitude) float64 dask.array<chunksize=(1, 7, 5, 73, 144), meta=np.ndarray>\n",
       "    init_dates_JMA  (time) datetime64[ns] 1979-01-16 1979-02-10 ... 2014-12-12"
      ]
     },
     "execution_count": 30,
     "metadata": {},
     "output_type": "execute_result"
    }
   ],
   "source": [
    "dset"
   ]
  },
  {
   "cell_type": "code",
   "execution_count": 31,
   "metadata": {},
   "outputs": [],
   "source": [
    "dset_rm = dset.rolling({'step':3}, min_periods=3).mean()"
   ]
  },
  {
   "cell_type": "code",
   "execution_count": 32,
   "metadata": {},
   "outputs": [
    {
     "data": {
      "text/plain": [
       "<xarray.Dataset>\n",
       "Dimensions:         (latitude: 73, longitude: 144, member: 5, step: 7, time: 432)\n",
       "Coordinates:\n",
       "  * member          (member) int64 0 1 2 3 4\n",
       "  * latitude        (latitude) float64 90.0 87.5 85.0 82.5 ... -85.0 -87.5 -90.0\n",
       "  * step            (step) int64 1 2 3 4 5 6 7\n",
       "  * longitude       (longitude) float64 0.0 2.5 5.0 7.5 ... 352.5 355.0 357.5\n",
       "  * time            (time) datetime64[ns] 1979-01-01 1979-02-01 ... 2014-12-01\n",
       "Data variables:\n",
       "    precip          (time, step, member, latitude, longitude) float64 dask.array<chunksize=(1, 1, 5, 73, 144), meta=np.ndarray>\n",
       "    init_dates_JMA  (time) datetime64[ns] 1979-01-16 1979-02-10 ... 2014-12-12"
      ]
     },
     "execution_count": 32,
     "metadata": {},
     "output_type": "execute_result"
    }
   ],
   "source": [
    "dset_rm"
   ]
  },
  {
   "cell_type": "markdown",
   "metadata": {},
   "source": [
    "### selects from step (leadtime) 3 onwards "
   ]
  },
  {
   "cell_type": "code",
   "execution_count": 33,
   "metadata": {},
   "outputs": [],
   "source": [
    "dset_rm = dset_rm.sel(step=slice(3,None))"
   ]
  },
  {
   "cell_type": "code",
   "execution_count": 34,
   "metadata": {},
   "outputs": [
    {
     "data": {
      "text/plain": [
       "<xarray.Dataset>\n",
       "Dimensions:         (latitude: 73, longitude: 144, member: 5, step: 5, time: 432)\n",
       "Coordinates:\n",
       "  * member          (member) int64 0 1 2 3 4\n",
       "  * latitude        (latitude) float64 90.0 87.5 85.0 82.5 ... -85.0 -87.5 -90.0\n",
       "  * step            (step) int64 3 4 5 6 7\n",
       "  * longitude       (longitude) float64 0.0 2.5 5.0 7.5 ... 352.5 355.0 357.5\n",
       "  * time            (time) datetime64[ns] 1979-01-01 1979-02-01 ... 2014-12-01\n",
       "Data variables:\n",
       "    precip          (time, step, member, latitude, longitude) float64 dask.array<chunksize=(1, 5, 5, 73, 144), meta=np.ndarray>\n",
       "    init_dates_JMA  (time) datetime64[ns] 1979-01-16 1979-02-10 ... 2014-12-12"
      ]
     },
     "execution_count": 34,
     "metadata": {},
     "output_type": "execute_result"
    }
   ],
   "source": [
    "dset_rm"
   ]
  },
  {
   "cell_type": "markdown",
   "metadata": {},
   "source": [
    "### creates a variable `forecast_valid_time` which varies along the dimension time and step and contains the forecast validity dates "
   ]
  },
  {
   "cell_type": "code",
   "execution_count": 35,
   "metadata": {},
   "outputs": [],
   "source": [
    "lt_arr = []\n",
    "for t in dset_rm.time.data: \n",
    "    lt = np.array([pd.to_datetime(t) + relativedelta(months=3), \\\n",
    "                   pd.to_datetime(t) + relativedelta(months=4), \\\n",
    "                   pd.to_datetime(t) + relativedelta(months=5), \n",
    "                  pd.to_datetime(t) + relativedelta(months=6), \n",
    "                  pd.to_datetime(t) + relativedelta(months=7)])\n",
    "    lt_arr.append(lt)\n",
    "lt_arr = np.array(lt_arr)\n",
    "dset_rm['forecast_valid_time'] = (('time','step'), lt_arr)"
   ]
  },
  {
   "cell_type": "code",
   "execution_count": 36,
   "metadata": {},
   "outputs": [
    {
     "data": {
      "text/plain": [
       "<xarray.Dataset>\n",
       "Dimensions:              (latitude: 73, longitude: 144, member: 5, step: 5, time: 432)\n",
       "Coordinates:\n",
       "  * member               (member) int64 0 1 2 3 4\n",
       "  * latitude             (latitude) float64 90.0 87.5 85.0 ... -85.0 -87.5 -90.0\n",
       "  * step                 (step) int64 3 4 5 6 7\n",
       "  * longitude            (longitude) float64 0.0 2.5 5.0 ... 352.5 355.0 357.5\n",
       "  * time                 (time) datetime64[ns] 1979-01-01 ... 2014-12-01\n",
       "Data variables:\n",
       "    precip               (time, step, member, latitude, longitude) float64 dask.array<chunksize=(1, 5, 5, 73, 144), meta=np.ndarray>\n",
       "    init_dates_JMA       (time) datetime64[ns] 1979-01-16 ... 2014-12-12\n",
       "    forecast_valid_time  (time, step) datetime64[ns] 1979-04-01 ... 2015-07-01"
      ]
     },
     "execution_count": 36,
     "metadata": {},
     "output_type": "execute_result"
    }
   ],
   "source": [
    "dset_rm"
   ]
  },
  {
   "cell_type": "markdown",
   "metadata": {},
   "source": [
    "### rename GH to Z for compat "
   ]
  },
  {
   "cell_type": "code",
   "execution_count": 37,
   "metadata": {},
   "outputs": [],
   "source": [
    "if var == 'gh': \n",
    "    dset_rm = dset_rm.rename_vars({'gh':'z'})\n",
    "    \n",
    "if var == 'T2M': \n",
    "    dset_rm = dset_rm.rename_vars({'2t':'t2m'})"
   ]
  },
  {
   "cell_type": "code",
   "execution_count": 38,
   "metadata": {},
   "outputs": [
    {
     "data": {
      "text/plain": [
       "<xarray.Dataset>\n",
       "Dimensions:              (latitude: 73, longitude: 144, member: 5, step: 5, time: 432)\n",
       "Coordinates:\n",
       "  * member               (member) int64 0 1 2 3 4\n",
       "  * latitude             (latitude) float64 90.0 87.5 85.0 ... -85.0 -87.5 -90.0\n",
       "  * step                 (step) int64 3 4 5 6 7\n",
       "  * longitude            (longitude) float64 0.0 2.5 5.0 ... 352.5 355.0 357.5\n",
       "  * time                 (time) datetime64[ns] 1979-01-01 ... 2014-12-01\n",
       "Data variables:\n",
       "    precip               (time, step, member, latitude, longitude) float64 dask.array<chunksize=(1, 5, 5, 73, 144), meta=np.ndarray>\n",
       "    init_dates_JMA       (time) datetime64[ns] 1979-01-16 ... 2014-12-12\n",
       "    forecast_valid_time  (time, step) datetime64[ns] 1979-04-01 ... 2015-07-01"
      ]
     },
     "execution_count": 38,
     "metadata": {},
     "output_type": "execute_result"
    }
   ],
   "source": [
    "dset_rm"
   ]
  },
  {
   "cell_type": "markdown",
   "metadata": {},
   "source": [
    "### longitude goes from 0 to 360 already, so no need to change "
   ]
  },
  {
   "cell_type": "code",
   "execution_count": 39,
   "metadata": {},
   "outputs": [
    {
     "data": {
      "text/plain": [
       "<xarray.DataArray 'longitude' (longitude: 144)>\n",
       "array([  0. ,   2.5,   5. ,   7.5,  10. ,  12.5,  15. ,  17.5,  20. ,  22.5,\n",
       "        25. ,  27.5,  30. ,  32.5,  35. ,  37.5,  40. ,  42.5,  45. ,  47.5,\n",
       "        50. ,  52.5,  55. ,  57.5,  60. ,  62.5,  65. ,  67.5,  70. ,  72.5,\n",
       "        75. ,  77.5,  80. ,  82.5,  85. ,  87.5,  90. ,  92.5,  95. ,  97.5,\n",
       "       100. , 102.5, 105. , 107.5, 110. , 112.5, 115. , 117.5, 120. , 122.5,\n",
       "       125. , 127.5, 130. , 132.5, 135. , 137.5, 140. , 142.5, 145. , 147.5,\n",
       "       150. , 152.5, 155. , 157.5, 160. , 162.5, 165. , 167.5, 170. , 172.5,\n",
       "       175. , 177.5, 180. , 182.5, 185. , 187.5, 190. , 192.5, 195. , 197.5,\n",
       "       200. , 202.5, 205. , 207.5, 210. , 212.5, 215. , 217.5, 220. , 222.5,\n",
       "       225. , 227.5, 230. , 232.5, 235. , 237.5, 240. , 242.5, 245. , 247.5,\n",
       "       250. , 252.5, 255. , 257.5, 260. , 262.5, 265. , 267.5, 270. , 272.5,\n",
       "       275. , 277.5, 280. , 282.5, 285. , 287.5, 290. , 292.5, 295. , 297.5,\n",
       "       300. , 302.5, 305. , 307.5, 310. , 312.5, 315. , 317.5, 320. , 322.5,\n",
       "       325. , 327.5, 330. , 332.5, 335. , 337.5, 340. , 342.5, 345. , 347.5,\n",
       "       350. , 352.5, 355. , 357.5])\n",
       "Coordinates:\n",
       "  * longitude  (longitude) float64 0.0 2.5 5.0 7.5 ... 350.0 352.5 355.0 357.5"
      ]
     },
     "execution_count": 39,
     "metadata": {},
     "output_type": "execute_result"
    }
   ],
   "source": [
    "dset_rm.longitude"
   ]
  },
  {
   "cell_type": "markdown",
   "metadata": {},
   "source": [
    "### pattern of filenames taken from the ECMWF hindcasts "
   ]
  },
  {
   "cell_type": "markdown",
   "metadata": {},
   "source": [
    "filename is VAR_hindcasts_{yearstart}_{yearend}_{model}_seasonal.nc"
   ]
  },
  {
   "cell_type": "code",
   "execution_count": 40,
   "metadata": {},
   "outputs": [
    {
     "data": {
      "text/plain": [
       "'PRECIP'"
      ]
     },
     "execution_count": 40,
     "metadata": {},
     "output_type": "execute_result"
    }
   ],
   "source": [
    "var.upper()"
   ]
  },
  {
   "cell_type": "code",
   "execution_count": 41,
   "metadata": {},
   "outputs": [],
   "source": [
    "yearstart = pd.to_datetime(dset_rm.time[0].data).year "
   ]
  },
  {
   "cell_type": "code",
   "execution_count": 42,
   "metadata": {},
   "outputs": [],
   "source": [
    "yearend = pd.to_datetime(dset_rm.time[-1].data).year "
   ]
  },
  {
   "cell_type": "code",
   "execution_count": 43,
   "metadata": {},
   "outputs": [
    {
     "data": {
      "text/plain": [
       "1979"
      ]
     },
     "execution_count": 43,
     "metadata": {},
     "output_type": "execute_result"
    }
   ],
   "source": [
    "yearstart"
   ]
  },
  {
   "cell_type": "code",
   "execution_count": 44,
   "metadata": {},
   "outputs": [
    {
     "data": {
      "text/plain": [
       "2014"
      ]
     },
     "execution_count": 44,
     "metadata": {},
     "output_type": "execute_result"
    }
   ],
   "source": [
    "yearend"
   ]
  },
  {
   "cell_type": "code",
   "execution_count": 45,
   "metadata": {},
   "outputs": [],
   "source": [
    "filename_out = f\"{var.upper()}_hindcasts_{yearstart}_{yearend}_{model}_seasonal.nc\""
   ]
  },
  {
   "cell_type": "code",
   "execution_count": 46,
   "metadata": {},
   "outputs": [
    {
     "data": {
      "text/plain": [
       "'PRECIP_hindcasts_1979_2014_JMA_seasonal.nc'"
      ]
     },
     "execution_count": 46,
     "metadata": {},
     "output_type": "execute_result"
    }
   ],
   "source": [
    "filename_out"
   ]
  },
  {
   "cell_type": "markdown",
   "metadata": {},
   "source": [
    "### saves to disk "
   ]
  },
  {
   "cell_type": "code",
   "execution_count": 47,
   "metadata": {},
   "outputs": [],
   "source": [
    "dset_rm.to_netcdf(dpath / filename_out)"
   ]
  },
  {
   "cell_type": "markdown",
   "metadata": {},
   "source": [
    "### now calculates the anomalies with respect to the 1981 - 2010 period "
   ]
  },
  {
   "cell_type": "code",
   "execution_count": 48,
   "metadata": {},
   "outputs": [],
   "source": [
    "def demean(x): \n",
    "    return x - x.sel(time=slice('1981','2010')).mean('time')"
   ]
  },
  {
   "cell_type": "code",
   "execution_count": 49,
   "metadata": {},
   "outputs": [],
   "source": [
    "anoms_rm = dset_rm.groupby('time.month').apply(demean)"
   ]
  },
  {
   "cell_type": "code",
   "execution_count": 50,
   "metadata": {},
   "outputs": [],
   "source": [
    "anoms_rm['forecast_valid_time'] = (('time','step'), dset_rm.forecast_valid_time)"
   ]
  },
  {
   "cell_type": "code",
   "execution_count": 51,
   "metadata": {},
   "outputs": [
    {
     "data": {
      "text/plain": [
       "<xarray.Dataset>\n",
       "Dimensions:              (latitude: 73, longitude: 144, member: 5, step: 5, time: 432)\n",
       "Coordinates:\n",
       "  * member               (member) int64 0 1 2 3 4\n",
       "  * latitude             (latitude) float64 90.0 87.5 85.0 ... -85.0 -87.5 -90.0\n",
       "  * step                 (step) int64 3 4 5 6 7\n",
       "  * longitude            (longitude) float64 0.0 2.5 5.0 ... 352.5 355.0 357.5\n",
       "  * time                 (time) datetime64[ns] 1979-01-01 ... 2014-12-01\n",
       "Data variables:\n",
       "    precip               (time, step, member, latitude, longitude) float64 dask.array<chunksize=(1, 5, 5, 73, 144), meta=np.ndarray>\n",
       "    month                (time) int64 1 2 3 4 5 6 7 8 9 ... 4 5 6 7 8 9 10 11 12\n",
       "    forecast_valid_time  (time, step) datetime64[ns] 1979-04-01 ... 2015-07-01"
      ]
     },
     "execution_count": 51,
     "metadata": {},
     "output_type": "execute_result"
    }
   ],
   "source": [
    "anoms_rm"
   ]
  },
  {
   "cell_type": "code",
   "execution_count": 52,
   "metadata": {},
   "outputs": [],
   "source": [
    "filename_out = f\"{var.upper()}_hindcasts_{yearstart}_{yearend}_{model}_seasonal_anomalies.nc\""
   ]
  },
  {
   "cell_type": "code",
   "execution_count": 53,
   "metadata": {},
   "outputs": [
    {
     "data": {
      "text/plain": [
       "'PRECIP_hindcasts_1979_2014_JMA_seasonal_anomalies.nc'"
      ]
     },
     "execution_count": 53,
     "metadata": {},
     "output_type": "execute_result"
    }
   ],
   "source": [
    "filename_out"
   ]
  },
  {
   "cell_type": "code",
   "execution_count": 54,
   "metadata": {},
   "outputs": [],
   "source": [
    "anoms_rm.to_netcdf(dpath / filename_out)"
   ]
  },
  {
   "cell_type": "code",
   "execution_count": 57,
   "metadata": {},
   "outputs": [
    {
     "data": {
      "text/plain": [
       "<xarray.Dataset>\n",
       "Dimensions:              (latitude: 73, longitude: 144, member: 5, step: 5, time: 432)\n",
       "Coordinates:\n",
       "  * member               (member) int64 0 1 2 3 4\n",
       "  * latitude             (latitude) float64 90.0 87.5 85.0 ... -85.0 -87.5 -90.0\n",
       "  * step                 (step) int64 3 4 5 6 7\n",
       "  * longitude            (longitude) float64 0.0 2.5 5.0 ... 352.5 355.0 357.5\n",
       "  * time                 (time) datetime64[ns] 1979-01-01 ... 2014-12-01\n",
       "Data variables:\n",
       "    precip               (time, step, member, latitude, longitude) float64 dask.array<chunksize=(1, 5, 5, 73, 144), meta=np.ndarray>\n",
       "    month                (time) int64 1 2 3 4 5 6 7 8 9 ... 4 5 6 7 8 9 10 11 12\n",
       "    forecast_valid_time  (time, step) datetime64[ns] 1979-04-01 ... 2015-07-01"
      ]
     },
     "execution_count": 57,
     "metadata": {},
     "output_type": "execute_result"
    }
   ],
   "source": [
    "anoms_rm"
   ]
  },
  {
   "cell_type": "code",
   "execution_count": 59,
   "metadata": {},
   "outputs": [
    {
     "data": {
      "text/plain": [
       "<matplotlib.collections.QuadMesh at 0x7f1963f1afd0>"
      ]
     },
     "execution_count": 59,
     "metadata": {},
     "output_type": "execute_result"
    },
    {
     "data": {
      "image/png": "[encoded data removed]",
      "text/plain": [
       "<Figure size 432x288 with 2 Axes>"
      ]
     },
     "metadata": {
      "needs_background": "light"
     },
     "output_type": "display_data"
    }
   ],
   "source": [
    "anoms_rm.sel(time='1997-12-01').sel(step=3).mean('member')['precip'].plot()"
   ]
  }
 ],
 "metadata": {
  "history": [],
  "kernelspec": {
   "display_name": "Python 3",
   "language": "python",
   "name": "python3"
  },
  "language_info": {
   "codemirror_mode": {
    "name": "ipython",
    "version": 3
   },
   "file_extension": ".py",
   "mimetype": "text/x-python",
   "name": "python",
   "nbconvert_exporter": "python",
   "pygments_lexer": "ipython3",
   "version": "3.7.5"
  },
  "toc": {
   "colors": {
    "hover_highlight": "#DAA520",
    "running_highlight": "#FF0000",
    "selected_highlight": "#FFD700"
   },
   "moveMenuLeft": true,
   "nav_menu": {
    "height": "98px",
    "width": "252px"
   },
   "navigate_menu": true,
   "number_sections": true,
   "sideBar": true,
   "threshold": 4,
   "toc_cell": false,
   "toc_section_display": "block",
   "toc_window_display": false,
   "widenNotebook": false
  },
  "uuid": "376e9604-a2e7-4691-a0b4-8022767d9390"
 },
 "nbformat": 4,
 "nbformat_minor": 4
}
