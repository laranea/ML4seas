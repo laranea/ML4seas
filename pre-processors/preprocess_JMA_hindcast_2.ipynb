{
 "cells": [
  {
   "cell_type": "markdown",
   "metadata": {},
   "source": [
    "### pre-process the JMA hindcasts, step 2, adopt the same file structure and convention as the CDS"
   ]
  },
  {
   "cell_type": "code",
   "execution_count": 21,
   "metadata": {},
   "outputs": [],
   "source": [
    "%matplotlib inline\n",
    "import matplotlib.pyplot as plt"
   ]
  },
  {
   "cell_type": "code",
   "execution_count": 22,
   "metadata": {},
   "outputs": [],
   "source": [
    "from datetime import datetime, timedelta"
   ]
  },
  {
   "cell_type": "code",
   "execution_count": 23,
   "metadata": {},
   "outputs": [],
   "source": [
    "import pygrib\n",
    "import numpy as np\n",
    "import pandas as pd"
   ]
  },
  {
   "cell_type": "code",
   "execution_count": 24,
   "metadata": {},
   "outputs": [
    {
     "name": "stdout",
     "output_type": "stream",
     "text": [
      "0.14.0\n"
     ]
    }
   ],
   "source": [
    "import xarray as xr; print(xr.__version__)"
   ]
  },
  {
   "cell_type": "code",
   "execution_count": 25,
   "metadata": {},
   "outputs": [],
   "source": [
    "import dask"
   ]
  },
  {
   "cell_type": "code",
   "execution_count": 26,
   "metadata": {},
   "outputs": [],
   "source": [
    "import os"
   ]
  },
  {
   "cell_type": "code",
   "execution_count": 27,
   "metadata": {},
   "outputs": [],
   "source": [
    "import pathlib"
   ]
  },
  {
   "cell_type": "code",
   "execution_count": 107,
   "metadata": {},
   "outputs": [],
   "source": [
    "from datetime import datetime, timedelta\n",
    "from dateutil.relativedelta import relativedelta"
   ]
  },
  {
   "cell_type": "code",
   "execution_count": 108,
   "metadata": {},
   "outputs": [],
   "source": [
    "dpath = pathlib.Path('/home/nicolasf/drives/auck_projects/END19101/Working/data/hindcasts/JMA/z850/')"
   ]
  },
  {
   "cell_type": "code",
   "execution_count": 109,
   "metadata": {},
   "outputs": [],
   "source": [
    "lfiles = list(dpath.glob(\"*.nc\"))"
   ]
  },
  {
   "cell_type": "code",
   "execution_count": 110,
   "metadata": {},
   "outputs": [
    {
     "data": {
      "text/plain": [
       "864"
      ]
     },
     "execution_count": 110,
     "metadata": {},
     "output_type": "execute_result"
    }
   ],
   "source": [
    "len(lfiles)"
   ]
  },
  {
   "cell_type": "code",
   "execution_count": 111,
   "metadata": {},
   "outputs": [],
   "source": [
    "lfiles.sort()"
   ]
  },
  {
   "cell_type": "code",
   "execution_count": 112,
   "metadata": {},
   "outputs": [],
   "source": [
    "dset = xr.open_mfdataset(lfiles, combine='by_coords')"
   ]
  },
  {
   "cell_type": "code",
   "execution_count": 113,
   "metadata": {},
   "outputs": [
    {
     "data": {
      "text/plain": [
       "<xarray.Dataset>\n",
       "Dimensions:    (latitude: 73, longitude: 144, number: 5, step: 7, time: 864)\n",
       "Coordinates:\n",
       "  * step       (step) int64 1 2 3 4 5 6 7\n",
       "  * latitude   (latitude) float64 90.0 87.5 85.0 82.5 ... -85.0 -87.5 -90.0\n",
       "  * number     (number) int64 0 1 2 3 4\n",
       "  * longitude  (longitude) float64 0.0 2.5 5.0 7.5 ... 350.0 352.5 355.0 357.5\n",
       "  * time       (time) datetime64[ns] 1979-01-16 1979-01-31 ... 2014-12-27\n",
       "Data variables:\n",
       "    gh         (time, step, number, latitude, longitude) float64 dask.array<chunksize=(1, 7, 5, 73, 144), meta=np.ndarray>"
      ]
     },
     "execution_count": 113,
     "metadata": {},
     "output_type": "execute_result"
    }
   ],
   "source": [
    "dset"
   ]
  },
  {
   "cell_type": "code",
   "execution_count": 114,
   "metadata": {},
   "outputs": [],
   "source": [
    "index = dset.time.to_series()"
   ]
  },
  {
   "cell_type": "code",
   "execution_count": 115,
   "metadata": {},
   "outputs": [],
   "source": [
    "index = index[(index.index.day >= 10) & (index.index.day <= 16)]"
   ]
  },
  {
   "cell_type": "code",
   "execution_count": 116,
   "metadata": {},
   "outputs": [],
   "source": [
    "dset = dset.sel(time=index.index)"
   ]
  },
  {
   "cell_type": "code",
   "execution_count": 94,
   "metadata": {},
   "outputs": [
    {
     "data": {
      "text/plain": [
       "1.271536808"
      ]
     },
     "execution_count": 94,
     "metadata": {},
     "output_type": "execute_result"
    }
   ],
   "source": [
    "dset.nbytes / 1e9"
   ]
  },
  {
   "cell_type": "code",
   "execution_count": 117,
   "metadata": {},
   "outputs": [
    {
     "data": {
      "text/plain": [
       "<xarray.Dataset>\n",
       "Dimensions:    (latitude: 73, longitude: 144, number: 5, step: 7, time: 432)\n",
       "Coordinates:\n",
       "  * step       (step) int64 1 2 3 4 5 6 7\n",
       "  * latitude   (latitude) float64 90.0 87.5 85.0 82.5 ... -85.0 -87.5 -90.0\n",
       "  * number     (number) int64 0 1 2 3 4\n",
       "  * longitude  (longitude) float64 0.0 2.5 5.0 7.5 ... 350.0 352.5 355.0 357.5\n",
       "  * time       (time) datetime64[ns] 1979-01-16 1979-02-10 ... 2014-12-12\n",
       "Data variables:\n",
       "    gh         (time, step, number, latitude, longitude) float64 dask.array<chunksize=(1, 7, 5, 73, 144), meta=np.ndarray>"
      ]
     },
     "execution_count": 117,
     "metadata": {},
     "output_type": "execute_result"
    }
   ],
   "source": [
    "dset"
   ]
  },
  {
   "cell_type": "markdown",
   "metadata": {},
   "source": [
    "### normalise so that the initialisation date is the first of each month, we will keep the original 'real' initialisation dates in a separate variable "
   ]
  },
  {
   "cell_type": "code",
   "execution_count": 118,
   "metadata": {},
   "outputs": [],
   "source": [
    "init_dates = dset.time"
   ]
  },
  {
   "cell_type": "code",
   "execution_count": 119,
   "metadata": {},
   "outputs": [],
   "source": [
    "init_dates = init_dates.to_index()"
   ]
  },
  {
   "cell_type": "code",
   "execution_count": 120,
   "metadata": {},
   "outputs": [],
   "source": [
    "init_dates_fl = [datetime(x.year, x.month, 1) for x in init_dates]"
   ]
  },
  {
   "cell_type": "code",
   "execution_count": 122,
   "metadata": {},
   "outputs": [],
   "source": [
    "dset['time'] = (('time'), init_dates_fl)"
   ]
  },
  {
   "cell_type": "markdown",
   "metadata": {},
   "source": [
    "### calculates the rolling averages over the `step` dimension "
   ]
  },
  {
   "cell_type": "code",
   "execution_count": 124,
   "metadata": {},
   "outputs": [],
   "source": [
    "dset_rm = dset.rolling({'step':3}, min_periods=3).mean()"
   ]
  },
  {
   "cell_type": "code",
   "execution_count": 125,
   "metadata": {},
   "outputs": [
    {
     "data": {
      "text/plain": [
       "<xarray.Dataset>\n",
       "Dimensions:    (latitude: 73, longitude: 144, number: 5, step: 7, time: 432)\n",
       "Coordinates:\n",
       "  * step       (step) int64 1 2 3 4 5 6 7\n",
       "  * latitude   (latitude) float64 90.0 87.5 85.0 82.5 ... -85.0 -87.5 -90.0\n",
       "  * number     (number) int64 0 1 2 3 4\n",
       "  * longitude  (longitude) float64 0.0 2.5 5.0 7.5 ... 350.0 352.5 355.0 357.5\n",
       "  * time       (time) datetime64[ns] 1979-01-01 1979-02-01 ... 2014-12-01\n",
       "Data variables:\n",
       "    gh         (time, step, number, latitude, longitude) float64 dask.array<chunksize=(1, 1, 5, 73, 144), meta=np.ndarray>"
      ]
     },
     "execution_count": 125,
     "metadata": {},
     "output_type": "execute_result"
    }
   ],
   "source": [
    "dset_rm"
   ]
  },
  {
   "cell_type": "code",
   "execution_count": 128,
   "metadata": {},
   "outputs": [],
   "source": [
    "dset_rm = dset_rm.sel(step=slice(3,None))"
   ]
  },
  {
   "cell_type": "code",
   "execution_count": 129,
   "metadata": {},
   "outputs": [
    {
     "data": {
      "text/plain": [
       "<xarray.Dataset>\n",
       "Dimensions:    (latitude: 73, longitude: 144, number: 5, step: 5, time: 432)\n",
       "Coordinates:\n",
       "  * step       (step) int64 3 4 5 6 7\n",
       "  * latitude   (latitude) float64 90.0 87.5 85.0 82.5 ... -85.0 -87.5 -90.0\n",
       "  * number     (number) int64 0 1 2 3 4\n",
       "  * longitude  (longitude) float64 0.0 2.5 5.0 7.5 ... 350.0 352.5 355.0 357.5\n",
       "  * time       (time) datetime64[ns] 1979-01-01 1979-02-01 ... 2014-12-01\n",
       "Data variables:\n",
       "    gh         (time, step, number, latitude, longitude) float64 dask.array<chunksize=(1, 5, 5, 73, 144), meta=np.ndarray>"
      ]
     },
     "execution_count": 129,
     "metadata": {},
     "output_type": "execute_result"
    }
   ],
   "source": [
    "dset_rm"
   ]
  },
  {
   "cell_type": "markdown",
   "metadata": {},
   "source": [
    "### creates a variable `forecast_valid_time` which varies along the dimension time and step and contains the forecast validity dates "
   ]
  },
  {
   "cell_type": "code",
   "execution_count": 130,
   "metadata": {},
   "outputs": [],
   "source": [
    "lt_arr = []\n",
    "for t in dset_rm.time.data: \n",
    "    lt = np.array([pd.to_datetime(t) + relativedelta(months=3), \\\n",
    "                   pd.to_datetime(t) + relativedelta(months=4), \\\n",
    "                   pd.to_datetime(t) + relativedelta(months=5), \n",
    "                  pd.to_datetime(t) + relativedelta(months=6), \n",
    "                  pd.to_datetime(t) + relativedelta(months=7)])\n",
    "    lt_arr.append(lt)\n",
    "lt_arr = np.array(lt_arr)\n",
    "dset_rm['forecast_valid_time'] = (('time','step'), lt_arr)"
   ]
  },
  {
   "cell_type": "code",
   "execution_count": 131,
   "metadata": {},
   "outputs": [
    {
     "data": {
      "text/plain": [
       "<xarray.Dataset>\n",
       "Dimensions:              (latitude: 73, longitude: 144, number: 5, step: 5, time: 432)\n",
       "Coordinates:\n",
       "  * step                 (step) int64 3 4 5 6 7\n",
       "  * latitude             (latitude) float64 90.0 87.5 85.0 ... -85.0 -87.5 -90.0\n",
       "  * number               (number) int64 0 1 2 3 4\n",
       "  * longitude            (longitude) float64 0.0 2.5 5.0 ... 352.5 355.0 357.5\n",
       "  * time                 (time) datetime64[ns] 1979-01-01 ... 2014-12-01\n",
       "Data variables:\n",
       "    gh                   (time, step, number, latitude, longitude) float64 dask.array<chunksize=(1, 5, 5, 73, 144), meta=np.ndarray>\n",
       "    forecast_valid_time  (time, step) datetime64[ns] 1979-04-01 ... 2015-07-01"
      ]
     },
     "execution_count": 131,
     "metadata": {},
     "output_type": "execute_result"
    }
   ],
   "source": [
    "dset_rm"
   ]
  }
 ],
 "metadata": {
  "kernelspec": {
   "display_name": "Python 3",
   "language": "python",
   "name": "python3"
  },
  "language_info": {
   "codemirror_mode": {
    "name": "ipython",
    "version": 3
   },
   "file_extension": ".py",
   "mimetype": "text/x-python",
   "name": "python",
   "nbconvert_exporter": "python",
   "pygments_lexer": "ipython3",
   "version": "3.7.5"
  },
  "toc": {
   "colors": {
    "hover_highlight": "#DAA520",
    "running_highlight": "#FF0000",
    "selected_highlight": "#FFD700"
   },
   "moveMenuLeft": true,
   "nav_menu": {
    "height": "98px",
    "width": "252px"
   },
   "navigate_menu": true,
   "number_sections": true,
   "sideBar": true,
   "threshold": 4,
   "toc_cell": false,
   "toc_section_display": "block",
   "toc_window_display": false,
   "widenNotebook": false
  }
 },
 "nbformat": 4,
 "nbformat_minor": 4
}
