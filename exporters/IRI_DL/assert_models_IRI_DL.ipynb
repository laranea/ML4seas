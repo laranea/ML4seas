{
 "cells": [
  {
   "cell_type": "markdown",
   "metadata": {},
   "source": [
    "## notebook to check what NMME GCMs have what hindcasts and forecasts on the IRI-DL "
   ]
  },
  {
   "cell_type": "markdown",
   "metadata": {
    "persistent_id": "57302e8a-6c55-4339-a8aa-651070821e89"
   },
   "source": [
    "base_url = 'http://iridl.ldeo.columbia.edu/SOURCES/.Models/.NMME/'"
   ]
  },
  {
   "cell_type": "code",
   "execution_count": 309,
   "metadata": {
    "execution_event_id": "b30299f4-e516-4549-94ca-1c3715374ed7",
    "last_executed_text": "%matplotlib inline\nfrom matplotlib import pyplot as plt",
    "persistent_id": "6b13cda8-a205-418d-8422-2be2c978a5bc"
   },
   "outputs": [],
   "source": [
    "%matplotlib inline\n",
    "from matplotlib import pyplot as plt"
   ]
  },
  {
   "cell_type": "code",
   "execution_count": 310,
   "metadata": {
    "execution_event_id": "e9cb8a5a-8cac-4645-86fb-67464953bce5",
    "last_executed_text": "import os \nimport sys \nimport pathlib",
    "persistent_id": "2b804bee-29e0-43c4-82e0-cd7cfff0a7f8"
   },
   "outputs": [],
   "source": [
    "import os \n",
    "import sys \n",
    "import pathlib"
   ]
  },
  {
   "cell_type": "code",
   "execution_count": 311,
   "metadata": {
    "execution_event_id": "c77f0e72-89ef-406f-9754-07e16cf723e7",
    "last_executed_text": "from datetime import datetime, timedelta\nimport calendar\nfrom dateutil import relativedelta",
    "persistent_id": "b1fcc1c6-275f-4735-a21f-8d904e4e90f8"
   },
   "outputs": [],
   "source": [
    "from datetime import datetime, timedelta\n",
    "import calendar\n",
    "from dateutil import relativedelta"
   ]
  },
  {
   "cell_type": "code",
   "execution_count": 312,
   "metadata": {
    "execution_event_id": "40355297-0ce8-417d-8c00-858e674ef050",
    "last_executed_text": "import numpy as np \nimport pandas as pd \nimport xarray as xr",
    "persistent_id": "8ed1015d-ec18-4776-9f17-c1a7379449af"
   },
   "outputs": [],
   "source": [
    "import numpy as np \n",
    "import pandas as pd \n",
    "import xarray as xr"
   ]
  },
  {
   "cell_type": "code",
   "execution_count": 313,
   "metadata": {
    "execution_event_id": "c3438a7a-4208-4151-927a-52825ab2f26f",
    "last_executed_text": "CWD = pathlib.Path.cwd()",
    "persistent_id": "40159685-2082-4ab2-98f4-2a18922169f8"
   },
   "outputs": [],
   "source": [
    "CWD = pathlib.Path.cwd()"
   ]
  },
  {
   "cell_type": "code",
   "execution_count": 314,
   "metadata": {
    "execution_event_id": "2626fa08-aa4d-4540-9e35-29d0000e1ed9",
    "last_executed_text": "HOME = pathlib.Path.home()",
    "persistent_id": "89236a8a-41c1-413e-99d9-bca2d6e7d1c7"
   },
   "outputs": [],
   "source": [
    "HOME = pathlib.Path.home()"
   ]
  },
  {
   "cell_type": "code",
   "execution_count": 315,
   "metadata": {
    "execution_event_id": "3d5c69c3-4a64-41ec-b68b-f04c6ad885dd",
    "last_executed_text": "opath = HOME / 'drives' / 'auck_projects' / 'END19101' / 'Working' / 'data' / 'hindcasts' / 'IRI' / 'CFSv2'",
    "persistent_id": "35ad2369-c83b-417e-996e-62c48076c6a6"
   },
   "outputs": [],
   "source": [
    "opath = HOME / 'drives' / 'auck_projects' / 'END19101' / 'Working' / 'data' / 'hindcasts' / 'IRI' / 'CFSv2'"
   ]
  },
  {
   "cell_type": "code",
   "execution_count": 316,
   "metadata": {
    "execution_event_id": "2fbd3a64-478c-4ff5-907c-8f9d0a486b95",
    "last_executed_text": "# GCM = 'CanCM4i'\n# GCM = 'CMC2-CanCM4'\n# GCM = 'CMC1-CanCM3'\n# GCM = 'GEM-NEMO'\n# GCM = 'NASA-GEOSS2S'\n# GCM = 'NCAR-CESM1'\nGCM = 'NCEP-CFSv2'",
    "persistent_id": "c94adf01-9f08-414a-a6cf-2f95e1d87e4d"
   },
   "outputs": [],
   "source": [
    "# GCM = 'CanCM4i'\n",
    "# GCM = 'CMC2-CanCM4'\n",
    "# GCM = 'CMC1-CanCM3'\n",
    "# GCM = 'GEM-NEMO'\n",
    "# GCM = 'NASA-GEOSS2S'\n",
    "# GCM = 'NCAR-CESM1'\n",
    "GCM = 'NCEP-CFSv2'"
   ]
  },
  {
   "cell_type": "code",
   "execution_count": 318,
   "metadata": {
    "execution_event_id": "181e3da5-573a-4130-87a0-d126f225f095",
    "last_executed_text": "data_stream = 'HINDCAST'\n# data_stream = 'FORECAST'",
    "persistent_id": "ecfcb229-2f64-42e3-a9f2-51c274168a86"
   },
   "outputs": [],
   "source": [
    "data_stream = 'HINDCAST'\n",
    "# data_stream = 'FORECAST'"
   ]
  },
  {
   "cell_type": "code",
   "execution_count": 319,
   "metadata": {
    "execution_event_id": "362b37ea-cc38-4c4a-a829-4f023fecb672",
    "last_executed_text": "# var = 'Z500'\nvar = 'T2M'",
    "persistent_id": "62fbf95f-77b7-452b-b19e-29f91808f6a4"
   },
   "outputs": [],
   "source": [
    "# var = 'Z500'\n",
    "var = 'T2M'"
   ]
  },
  {
   "cell_type": "code",
   "execution_count": 320,
   "metadata": {
    "execution_event_id": "35340bd4-af92-42c9-b4da-edeb2c7af529",
    "last_executed_text": "if var == 'Z500': \n#     url = f'http://iridl.ldeo.columbia.edu/SOURCES/.Models/.NMME/.{GCM}/.{data_stream}/.MONTHLY/.hgt/dods'\n    url = f'http://iridl.ldeo.columbia.edu/SOURCES/.Models/.NMME/.{GCM}/.{data_stream}/.MONTHLY/.h500/dods'\nelif var == 'T2M': \n    url = f'http://iridl.ldeo.columbia.edu/SOURCES/.Models/.NMME/.{GCM}/.{data_stream}/.MONTHLY/.tref/dods'",
    "persistent_id": "2cb31216-ce80-407b-bf9b-cde343bbda9b"
   },
   "outputs": [],
   "source": [
    "if var == 'Z500': \n",
    "#     url = f'http://iridl.ldeo.columbia.edu/SOURCES/.Models/.NMME/.{GCM}/.{data_stream}/.MONTHLY/.hgt/dods'\n",
    "    url = f'http://iridl.ldeo.columbia.edu/SOURCES/.Models/.NMME/.{GCM}/.{data_stream}/.MONTHLY/.h500/dods'\n",
    "elif var == 'T2M': \n",
    "    url = f'http://iridl.ldeo.columbia.edu/SOURCES/.Models/.NMME/.{GCM}/.{data_stream}/.MONTHLY/.tref/dods'"
   ]
  },
  {
   "cell_type": "markdown",
   "metadata": {
    "persistent_id": "34410b7e-2afb-475d-a37f-887e00dcbab1"
   },
   "source": [
    "### for CFSv2, need to select `.EARLY_MONTH_SAMPLES` as well in the URl "
   ]
  },
  {
   "cell_type": "code",
   "execution_count": null,
   "metadata": {
    "persistent_id": "c657279a-fcfb-41c6-98ad-80bc38df8b1a"
   },
   "outputs": [],
   "source": []
  },
  {
   "cell_type": "code",
   "execution_count": 321,
   "metadata": {
    "execution_event_id": "48b3093b-0533-4048-b640-bb0ed38df92b",
    "last_executed_text": "if GCM == 'NCEP-CFSv2': \n\n    if data_stream == 'HINDCASTS': \n        url = f'http://iridl.ldeo.columbia.edu/SOURCES/.Models/.NMME/.{GCM}/.{data_stream}/.PENTAD_SAMPLES/.MONTHLY/.tref/dods'\n    elif data_stream == 'FORECASTS': \n        url = f'http://iridl.ldeo.columbia.edu/SOURCES/.Models/.NMME/.{GCM}/.{data_stream}/.PENTAD_SAMPLES/.MONTHLY/.tref/dods'",
    "persistent_id": "53c4c288-0489-4a26-9611-11844480c8ea"
   },
   "outputs": [],
   "source": [
    "if GCM == 'NCEP-CFSv2': \n",
    "\n",
    "    if data_stream == 'HINDCASTS': \n",
    "        url = f'http://iridl.ldeo.columbia.edu/SOURCES/.Models/.NMME/.{GCM}/.{data_stream}/.PENTAD_SAMPLES/.MONTHLY/.tref/dods'\n",
    "    elif data_stream == 'FORECASTS': \n",
    "        url = f'http://iridl.ldeo.columbia.edu/SOURCES/.Models/.NMME/.{GCM}/.{data_stream}/.PENTAD_SAMPLES/.MONTHLY/.tref/dods'"
   ]
  },
  {
   "cell_type": "code",
   "execution_count": 322,
   "metadata": {
    "execution_event_id": "b3a71314-7df7-4930-a2ca-9e6b15056ff1",
    "last_executed_text": "print(url)",
    "persistent_id": "20b89f2c-35e8-4cad-9fc0-670e30585e3d"
   },
   "outputs": [
    {
     "name": "stdout",
     "output_type": "stream",
     "text": [
      "http://iridl.ldeo.columbia.edu/SOURCES/.Models/.NMME/.NCEP-CFSv2/.HINDCAST/.MONTHLY/.tref/dods\n"
     ]
    }
   ],
   "source": [
    "print(url)"
   ]
  },
  {
   "cell_type": "code",
   "execution_count": 323,
   "metadata": {
    "execution_event_id": "d2370a80-aa2d-458a-a7db-9d4be1fcd5f6",
    "last_executed_text": "dset = xr.open_dataset(url, decode_times=False)",
    "persistent_id": "71de8e43-efd7-497c-a8ee-4b804a77415d"
   },
   "outputs": [],
   "source": [
    "dset = xr.open_dataset(url, decode_times=False)"
   ]
  },
  {
   "cell_type": "code",
   "execution_count": 324,
   "metadata": {
    "execution_event_id": "9144dd6e-0b24-4378-9d1d-b1e0271f27d6",
    "last_executed_text": "dict_coords = {}\ndict_coords['L'] = 'step'\ndict_coords['M'] = 'member'\ndict_coords['S'] = 'time'\ndict_coords['X'] = 'lon'\ndict_coords['Y'] = 'lat'",
    "persistent_id": "50cddde5-d8d1-43fd-a1e0-044309dc3d30"
   },
   "outputs": [],
   "source": [
    "dict_coords = {}\n",
    "dict_coords['L'] = 'step'\n",
    "dict_coords['M'] = 'member'\n",
    "dict_coords['S'] = 'time'\n",
    "dict_coords['X'] = 'lon'\n",
    "dict_coords['Y'] = 'lat'"
   ]
  },
  {
   "cell_type": "code",
   "execution_count": 325,
   "metadata": {
    "execution_event_id": "6d12751a-f938-4702-a906-f68af53dbcf4",
    "last_executed_text": "dset = dset.rename(dict_coords)",
    "persistent_id": "0314a5d4-348d-4320-aa6c-9dfea5306282"
   },
   "outputs": [],
   "source": [
    "dset = dset.rename(dict_coords)"
   ]
  },
  {
   "cell_type": "code",
   "execution_count": 326,
   "metadata": {
    "execution_event_id": "8300534e-2b47-4f97-ba2a-9a3772933be5",
    "last_executed_text": "dset",
    "persistent_id": "a915c0d0-a652-4a12-a9e0-29f4a52e5011"
   },
   "outputs": [
    {
     "data": {
      "text/plain": [
       "<xarray.Dataset>\n",
       "Dimensions:  (lat: 181, lon: 360, member: 24, step: 10, time: 348)\n",
       "Coordinates:\n",
       "  * lon      (lon) float32 0.0 1.0 2.0 3.0 4.0 ... 355.0 356.0 357.0 358.0 359.0\n",
       "  * step     (step) float32 0.5 1.5 2.5 3.5 4.5 5.5 6.5 7.5 8.5 9.5\n",
       "  * member   (member) float32 1.0 2.0 3.0 4.0 5.0 ... 20.0 21.0 22.0 23.0 24.0\n",
       "  * time     (time) float32 264.0 265.0 266.0 267.0 ... 608.0 609.0 610.0 611.0\n",
       "  * lat      (lat) float32 -90.0 -89.0 -88.0 -87.0 -86.0 ... 87.0 88.0 89.0 90.0\n",
       "Data variables:\n",
       "    tref     (time, step, member, lat, lon) float32 ...\n",
       "Attributes:\n",
       "    Conventions:  IRIDL"
      ]
     },
     "execution_count": 326,
     "metadata": {},
     "output_type": "execute_result"
    }
   ],
   "source": [
    "dset"
   ]
  },
  {
   "cell_type": "code",
   "execution_count": 327,
   "metadata": {
    "execution_event_id": "dbefc837-ad42-4af8-a92a-3f6be9d6dcef",
    "last_executed_text": "dset.time",
    "persistent_id": "42bcb3b1-a805-4726-bd06-bf4b2174d1fb"
   },
   "outputs": [
    {
     "data": {
      "text/plain": [
       "<xarray.DataArray 'time' (time: 348)>\n",
       "array([264., 265., 266., ..., 609., 610., 611.], dtype=float32)\n",
       "Coordinates:\n",
       "  * time     (time) float32 264.0 265.0 266.0 267.0 ... 608.0 609.0 610.0 611.0\n",
       "Attributes:\n",
       "    standard_name:  forecast_reference_time\n",
       "    long_name:      Forecast Start Time\n",
       "    pointwidth:     0\n",
       "    calendar:       360\n",
       "    gridtype:       0\n",
       "    units:          months since 1960-01-01"
      ]
     },
     "execution_count": 327,
     "metadata": {},
     "output_type": "execute_result"
    }
   ],
   "source": [
    "dset.time"
   ]
  },
  {
   "cell_type": "markdown",
   "metadata": {},
   "source": [
    "### build  the dates "
   ]
  },
  {
   "cell_type": "code",
   "execution_count": 328,
   "metadata": {
    "execution_event_id": "4961a5fb-14bb-4d86-bedd-3294ce005ff5",
    "last_executed_text": "origin = datetime(1960,1,1)",
    "persistent_id": "21731d7d-5992-4351-8704-dc105edeb73b"
   },
   "outputs": [],
   "source": [
    "origin = datetime(1960,1,1)"
   ]
  },
  {
   "cell_type": "code",
   "execution_count": 329,
   "metadata": {
    "execution_event_id": "879c67f8-9c25-4247-8b8e-386685f8b911",
    "last_executed_text": "dates = [origin + relativedelta.relativedelta(months=x) for x in dset.time]",
    "persistent_id": "dad41940-570b-4474-83f2-6d25dd8f85ab"
   },
   "outputs": [],
   "source": [
    "dates = [origin + relativedelta.relativedelta(months=x) for x in dset.time]"
   ]
  },
  {
   "cell_type": "code",
   "execution_count": 330,
   "metadata": {
    "execution_event_id": "ce62d722-b943-47ff-9f2c-2e408c5b9243",
    "last_executed_text": "dset['time'] = (('time'), dates)",
    "persistent_id": "3bbe3b71-40e2-4fcd-b0b1-4fa1bf9c29a0"
   },
   "outputs": [],
   "source": [
    "dset['time'] = (('time'), dates)"
   ]
  },
  {
   "cell_type": "code",
   "execution_count": 331,
   "metadata": {
    "execution_event_id": "10889dea-2d27-4ed1-92df-0012791081fd",
    "last_executed_text": "dset.time[0]",
    "persistent_id": "469bf983-ea9e-42b9-83b9-4b2b22f9dd0c"
   },
   "outputs": [
    {
     "data": {
      "text/plain": [
       "<xarray.DataArray 'time' ()>\n",
       "array('1982-01-01T00:00:00.000000000', dtype='datetime64[ns]')\n",
       "Coordinates:\n",
       "    time     datetime64[ns] 1982-01-01"
      ]
     },
     "execution_count": 331,
     "metadata": {},
     "output_type": "execute_result"
    }
   ],
   "source": [
    "dset.time[0]"
   ]
  },
  {
   "cell_type": "code",
   "execution_count": 332,
   "metadata": {
    "execution_event_id": "cfbdf089-a077-45f3-bf8b-13e894543b3c",
    "last_executed_text": "dset.time[-1]",
    "persistent_id": "b8c1f1f8-ae69-4286-b913-d2942148cbd0"
   },
   "outputs": [
    {
     "data": {
      "text/plain": [
       "<xarray.DataArray 'time' ()>\n",
       "array('2010-12-01T00:00:00.000000000', dtype='datetime64[ns]')\n",
       "Coordinates:\n",
       "    time     datetime64[ns] 2010-12-01"
      ]
     },
     "execution_count": 332,
     "metadata": {},
     "output_type": "execute_result"
    }
   ],
   "source": [
    "dset.time[-1]"
   ]
  },
  {
   "cell_type": "code",
   "execution_count": null,
   "metadata": {
    "persistent_id": "daf6218b-9f69-4337-8772-620823c6e441"
   },
   "outputs": [],
   "source": [
    "dset = dset.sel(time=slice('1998-10-01',None))"
   ]
  },
  {
   "cell_type": "code",
   "execution_count": null,
   "metadata": {
    "persistent_id": "8aefedfd-327a-4bf9-b1e3-8cbf09ada4bf"
   },
   "outputs": [],
   "source": [
    "for date in dset.time: \n",
    "    sub = dset.sel(time=date)\n",
    "    date = pd.to_datetime(date.data)\n",
    "    print(\"saving {} for {:%Y-%m}\".format(var, date))\n",
    "    sub.to_netcdf(opath / 'CFSv2_hindcasts_{}_{}_{}.nc'.format(var, date.year, date.month))\n",
    "    sub.close() "
   ]
  },
  {
   "cell_type": "markdown",
   "metadata": {},
   "source": [
    "### alternative using NCKS "
   ]
  },
  {
   "cell_type": "markdown",
   "metadata": {},
   "source": [
    "```\n",
    "ncks -d S,264.,264. http://iridl.ldeo.columbia.edu/SOURCES/.Models/.NMME/.NCEP-CFSv2/.HINDCAST/.MONTHLY/.prec/dods ess.nc\n",
    "```"
   ]
  }
 ],
 "metadata": {
  "history": [
   {
    "cell": {
     "executionCount": 1,
     "executionEventId": "fbf8ed53-6e9c-4f03-beb9-ec4ea7316f83",
     "hasError": false,
     "id": "fcd2878f-bc58-4efb-8bfb-c19e12cc6872",
     "outputs": [],
     "persistentId": "6b13cda8-a205-418d-8422-2be2c978a5bc",
     "text": "%matplotlib inline\nfrom matplotlib import pyplot as plt"
    },
    "executionTime": "2019-12-08T21:11:25.356Z"
   },
   {
    "cell": {
     "executionCount": 2,
     "executionEventId": "9a79260e-9a2e-4e63-9351-38af74155eb0",
     "hasError": false,
     "id": "df7d41a1-77fe-4f5e-bd43-9eed367014e6",
     "outputs": [],
     "persistentId": "2b804bee-29e0-43c4-82e0-cd7cfff0a7f8",
     "text": "import os \nimport sys \nimport pathlib"
    },
    "executionTime": "2019-12-08T21:11:26.959Z"
   },
   {
    "cell": {
     "executionCount": 3,
     "executionEventId": "69a19def-015d-411e-821a-3b2b0d904206",
     "hasError": false,
     "id": "7c21e398-3b0f-4632-be0c-145bb2e74682",
     "outputs": [],
     "persistentId": "b1fcc1c6-275f-4735-a21f-8d904e4e90f8",
     "text": "from datetime import datetime, timedelta\nimport calendar\nfrom dateutil import relativedelta"
    },
    "executionTime": "2019-12-08T21:11:27.092Z"
   },
   {
    "cell": {
     "executionCount": 4,
     "executionEventId": "1afdffc0-5344-43cf-b398-efedef5f420b",
     "hasError": false,
     "id": "a9e47f53-1572-4cae-a249-6589a7488a08",
     "outputs": [],
     "persistentId": "8ed1015d-ec18-4776-9f17-c1a7379449af",
     "text": "import numpy as np \nimport pandas as pd \nimport xarray as xr"
    },
    "executionTime": "2019-12-08T21:11:27.756Z"
   },
   {
    "cell": {
     "executionCount": 5,
     "executionEventId": "6929550f-4105-46ea-af19-e0d205f03a89",
     "hasError": false,
     "id": "fcd2878f-bc58-4efb-8bfb-c19e12cc6872",
     "outputs": [],
     "persistentId": "6b13cda8-a205-418d-8422-2be2c978a5bc",
     "text": "%matplotlib inline\nfrom matplotlib import pyplot as plt"
    },
    "executionTime": "2019-12-08T21:11:56.587Z"
   },
   {
    "cell": {
     "executionCount": 6,
     "executionEventId": "87468a35-0883-4757-a02b-a675918528c9",
     "hasError": false,
     "id": "df7d41a1-77fe-4f5e-bd43-9eed367014e6",
     "outputs": [],
     "persistentId": "2b804bee-29e0-43c4-82e0-cd7cfff0a7f8",
     "text": "import os \nimport sys \nimport pathlib"
    },
    "executionTime": "2019-12-08T21:11:56.712Z"
   },
   {
    "cell": {
     "executionCount": 7,
     "executionEventId": "326d0474-963b-4e7b-bbf5-001bd30457bb",
     "hasError": false,
     "id": "7c21e398-3b0f-4632-be0c-145bb2e74682",
     "outputs": [],
     "persistentId": "b1fcc1c6-275f-4735-a21f-8d904e4e90f8",
     "text": "from datetime import datetime, timedelta\nimport calendar\nfrom dateutil import relativedelta"
    },
    "executionTime": "2019-12-08T21:11:56.869Z"
   },
   {
    "cell": {
     "executionCount": 8,
     "executionEventId": "c28c4b50-0002-4cc9-ae43-b46cd125d586",
     "hasError": false,
     "id": "a9e47f53-1572-4cae-a249-6589a7488a08",
     "outputs": [],
     "persistentId": "8ed1015d-ec18-4776-9f17-c1a7379449af",
     "text": "import numpy as np \nimport pandas as pd \nimport xarray as xr"
    },
    "executionTime": "2019-12-08T21:11:57.024Z"
   },
   {
    "cell": {
     "executionCount": 9,
     "executionEventId": "8b95e2fc-9ed2-41ff-a119-93ad817349bf",
     "hasError": false,
     "id": "ac78b6db-688b-4654-8e7a-f443b5524c9f",
     "outputs": [],
     "persistentId": "40159685-2082-4ab2-98f4-2a18922169f8",
     "text": "CWD = pathlib.Path.cwd()"
    },
    "executionTime": "2019-12-08T21:11:57.184Z"
   },
   {
    "cell": {
     "executionCount": 10,
     "executionEventId": "7d0bdb96-149c-400a-936e-640f96d98f37",
     "hasError": false,
     "id": "fcea0eae-d5eb-461a-831e-c8040016e96a",
     "outputs": [],
     "persistentId": "89236a8a-41c1-413e-99d9-bca2d6e7d1c7",
     "text": "HOME = pathlib.Path.home()"
    },
    "executionTime": "2019-12-08T21:11:57.352Z"
   },
   {
    "cell": {
     "executionCount": 11,
     "executionEventId": "87028c4a-b8a2-432c-977f-ae3a0cc5fc37",
     "hasError": false,
     "id": "641d3c65-9b6d-439d-a774-5a3cae790c96",
     "outputs": [],
     "persistentId": "35ad2369-c83b-417e-996e-62c48076c6a6",
     "text": "opath = HOME / 'drives' / 'auck_projects' / 'END19101' / 'Working' / 'data' / 'hindcasts' / 'IRI' / 'CFSv2'"
    },
    "executionTime": "2019-12-08T21:11:57.513Z"
   },
   {
    "cell": {
     "executionCount": 12,
     "executionEventId": "7c44da45-1888-46c6-b811-1f1b9c8cc879",
     "hasError": false,
     "id": "b4a7f8fd-661e-400d-a580-f9e41c117f8f",
     "outputs": [],
     "persistentId": "62fbf95f-77b7-452b-b19e-29f91808f6a4",
     "text": "var = 'Z500'"
    },
    "executionTime": "2019-12-08T21:11:57.706Z"
   },
   {
    "cell": {
     "executionCount": 13,
     "executionEventId": "6d48430a-ca96-4491-8279-83bbac6a1b76",
     "hasError": false,
     "id": "a1efbdff-30dc-4325-a900-108c81318bf3",
     "outputs": [],
     "persistentId": "2cb31216-ce80-407b-bf9b-cde343bbda9b",
     "text": "if var == 'Z500': \n    url = 'http://iridl.ldeo.columbia.edu/SOURCES/.Models/.NMME/.CanSIPSv2/.FORECAST/.MONTHLY/.hgt/dods'"
    },
    "executionTime": "2019-12-08T21:11:57.879Z"
   },
   {
    "cell": {
     "executionCount": 14,
     "executionEventId": "0b230806-db86-46ac-9dd1-b516fa4f57e3",
     "hasError": false,
     "id": "c2921971-a198-408b-9bcf-771f06ee32ac",
     "outputs": [
      {
       "name": "stdout",
       "output_type": "stream",
       "text": "http://iridl.ldeo.columbia.edu/SOURCES/.Models/.NMME/.CanSIPSv2/.FORECAST/.MONTHLY/.hgt/dods\n"
      }
     ],
     "persistentId": "20b89f2c-35e8-4cad-9fc0-670e30585e3d",
     "text": "print(url)"
    },
    "executionTime": "2019-12-08T21:11:58.104Z"
   },
   {
    "cell": {
     "executionCount": 15,
     "executionEventId": "3261c3a9-3cbd-4c85-ac4a-900294c68dd6",
     "hasError": false,
     "id": "fd586813-128e-402a-a110-3eec4ac5ca6b",
     "outputs": [],
     "persistentId": "71de8e43-efd7-497c-a8ee-4b804a77415d",
     "text": "dset = xr.open_dataset(url, decode_times=False)"
    },
    "executionTime": "2019-12-08T21:12:04.502Z"
   },
   {
    "cell": {
     "executionCount": 16,
     "executionEventId": "1f54e3f0-f7f7-460b-898e-d056bfda9199",
     "hasError": false,
     "id": "876624a4-2496-4758-9d25-506b16e18aec",
     "outputs": [
      {
       "data": {
        "text/plain": "<xarray.DataArray 'S' (S: 5)>\narray([715., 716., 717., 718., 719.], dtype=float32)\nCoordinates:\n  * S        (S) float32 715.0 716.0 717.0 718.0 719.0\nAttributes:\n    expires:        1577862000\n    standard_name:  forecast_reference_time\n    long_name:      Forecast Start Time\n    pointwidth:     0\n    calendar:       360\n    defaultvalue:   719.0\n    gridtype:       0\n    units:          months since 1960-01-01"
       },
       "execution_count": 16,
       "metadata": {},
       "output_type": "execute_result"
      }
     ],
     "persistentId": "b7c04b47-0c1e-4eec-a648-9c8ce9fcac96",
     "text": "dset['S']"
    },
    "executionTime": "2019-12-08T21:12:12.030Z"
   },
   {
    "cell": {
     "executionCount": 17,
     "executionEventId": "dba01289-397c-41e0-a47a-975807da36a1",
     "hasError": false,
     "id": "00d9b65d-07e7-4ef2-ae01-1a31a51c87e2",
     "outputs": [],
     "persistentId": "50cddde5-d8d1-43fd-a1e0-044309dc3d30",
     "text": "dict_coords = {}\ndict_coords['L'] = 'leadtime'\ndict_coords['M'] = 'member'\ndict_coords['S'] = 'time'\ndict_coords['X'] = 'lon'\ndict_coords['Y'] = 'lat'"
    },
    "executionTime": "2019-12-08T21:12:16.530Z"
   },
   {
    "cell": {
     "executionCount": 18,
     "executionEventId": "9e339e9b-b7c1-47e8-a6a3-25211f2b5b02",
     "hasError": false,
     "id": "f49c26f7-b975-4585-a475-73b71a1c1f33",
     "outputs": [],
     "persistentId": "0314a5d4-348d-4320-aa6c-9dfea5306282",
     "text": "dset = dset.rename(dict_coords)"
    },
    "executionTime": "2019-12-08T21:12:17.567Z"
   },
   {
    "cell": {
     "executionCount": 19,
     "executionEventId": "f68ef8aa-9d43-49e4-8865-8beeeb5296a8",
     "hasError": false,
     "id": "4ddaaf9d-2b33-49c7-8128-306c85bde904",
     "outputs": [
      {
       "data": {
        "text/plain": "<xarray.DataArray 'time' (time: 5)>\narray([715., 716., 717., 718., 719.], dtype=float32)\nCoordinates:\n  * time     (time) float32 715.0 716.0 717.0 718.0 719.0\nAttributes:\n    expires:        1577862000\n    standard_name:  forecast_reference_time\n    long_name:      Forecast Start Time\n    pointwidth:     0\n    calendar:       360\n    defaultvalue:   719.0\n    gridtype:       0\n    units:          months since 1960-01-01"
       },
       "execution_count": 19,
       "metadata": {},
       "output_type": "execute_result"
      }
     ],
     "persistentId": "42bcb3b1-a805-4726-bd06-bf4b2174d1fb",
     "text": "dset.time"
    },
    "executionTime": "2019-12-08T21:12:18.303Z"
   },
   {
    "cell": {
     "executionCount": 20,
     "executionEventId": "15775bba-906a-40a7-992a-be7dfba2c28c",
     "hasError": false,
     "id": "c89151e9-7ef0-42b6-b5ca-9f8e46ce844d",
     "outputs": [],
     "persistentId": "21731d7d-5992-4351-8704-dc105edeb73b",
     "text": "origin = datetime(1960,1,1)"
    },
    "executionTime": "2019-12-08T21:12:23.241Z"
   },
   {
    "cell": {
     "executionCount": 21,
     "executionEventId": "e455cfdb-28b7-4350-b460-99af8c9ace77",
     "hasError": false,
     "id": "830a0ae4-8b17-4239-afc7-1ea6a20c03de",
     "outputs": [],
     "persistentId": "dad41940-570b-4474-83f2-6d25dd8f85ab",
     "text": "dates = [origin + relativedelta.relativedelta(months=x) for x in dset.time]"
    },
    "executionTime": "2019-12-08T21:12:23.366Z"
   },
   {
    "cell": {
     "executionCount": 22,
     "executionEventId": "a6977f0d-6c58-4be5-b876-e2921442b2f8",
     "hasError": false,
     "id": "8ed0279c-289d-48cf-abd6-2919695f63b6",
     "outputs": [],
     "persistentId": "3bbe3b71-40e2-4fcd-b0b1-4fa1bf9c29a0",
     "text": "dset['time'] = (('time'), dates)"
    },
    "executionTime": "2019-12-08T21:12:24.007Z"
   },
   {
    "cell": {
     "executionCount": 23,
     "executionEventId": "37a9e490-6978-4af9-ba8a-4ea1a9e13175",
     "hasError": false,
     "id": "7cf39346-9486-44e0-99d8-7d336fe30003",
     "outputs": [
      {
       "data": {
        "text/plain": "<xarray.Dataset>\nDimensions:   (P2: 2, lat: 181, leadtime: 12, lon: 360, member: 20, time: 5)\nCoordinates:\n  * time      (time) datetime64[ns] 2019-08-01 2019-09-01 ... 2019-12-01\n  * lon       (lon) float32 0.0 1.0 2.0 3.0 4.0 ... 356.0 357.0 358.0 359.0\n  * leadtime  (leadtime) float32 0.5 1.5 2.5 3.5 4.5 ... 7.5 8.5 9.5 10.5 11.5\n  * lat       (lat) float32 -90.0 -89.0 -88.0 -87.0 ... 87.0 88.0 89.0 90.0\n  * P2        (P2) int32 500 200\n  * member    (member) float32 1.0 2.0 3.0 4.0 5.0 ... 16.0 17.0 18.0 19.0 20.0\nData variables:\n    hgt       (time, P2, member, leadtime, lat, lon) float32 ...\nAttributes:\n    Conventions:  IRIDL"
       },
       "execution_count": 23,
       "metadata": {},
       "output_type": "execute_result"
      }
     ],
     "persistentId": "b8c1f1f8-ae69-4286-b913-d2942148cbd0",
     "text": "dset"
    },
    "executionTime": "2019-12-08T21:12:26.398Z"
   },
   {
    "cell": {
     "executionCount": 24,
     "executionEventId": "63f12a12-0eda-49e0-8738-2448222cfc03",
     "hasError": false,
     "id": "7cf39346-9486-44e0-99d8-7d336fe30003",
     "outputs": [
      {
       "data": {
        "text/plain": "<xarray.DataArray 'time' ()>\narray('2019-12-01T00:00:00.000000000', dtype='datetime64[ns]')\nCoordinates:\n    time     datetime64[ns] 2019-12-01"
       },
       "execution_count": 24,
       "metadata": {},
       "output_type": "execute_result"
      }
     ],
     "persistentId": "b8c1f1f8-ae69-4286-b913-d2942148cbd0",
     "text": "dset.time[-1]"
    },
    "executionTime": "2019-12-08T21:12:31.910Z"
   },
   {
    "cell": {
     "executionCount": 25,
     "executionEventId": "5a82c1a0-0f43-4d9a-a3c6-b1f54f0a4e31",
     "hasError": false,
     "id": "fcd2878f-bc58-4efb-8bfb-c19e12cc6872",
     "outputs": [],
     "persistentId": "6b13cda8-a205-418d-8422-2be2c978a5bc",
     "text": "%matplotlib inline\nfrom matplotlib import pyplot as plt"
    },
    "executionTime": "2019-12-08T21:13:21.440Z"
   },
   {
    "cell": {
     "executionCount": 26,
     "executionEventId": "96e428c5-a6f9-4f82-84d4-badb7ec94750",
     "hasError": false,
     "id": "df7d41a1-77fe-4f5e-bd43-9eed367014e6",
     "outputs": [],
     "persistentId": "2b804bee-29e0-43c4-82e0-cd7cfff0a7f8",
     "text": "import os \nimport sys \nimport pathlib"
    },
    "executionTime": "2019-12-08T21:13:21.566Z"
   },
   {
    "cell": {
     "executionCount": 27,
     "executionEventId": "848ff6d8-3441-41fd-9abb-bc7d019b2a6f",
     "hasError": false,
     "id": "7c21e398-3b0f-4632-be0c-145bb2e74682",
     "outputs": [],
     "persistentId": "b1fcc1c6-275f-4735-a21f-8d904e4e90f8",
     "text": "from datetime import datetime, timedelta\nimport calendar\nfrom dateutil import relativedelta"
    },
    "executionTime": "2019-12-08T21:13:21.730Z"
   },
   {
    "cell": {
     "executionCount": 28,
     "executionEventId": "9549dcd7-e2fc-48df-90c1-d2d12766766a",
     "hasError": false,
     "id": "a9e47f53-1572-4cae-a249-6589a7488a08",
     "outputs": [],
     "persistentId": "8ed1015d-ec18-4776-9f17-c1a7379449af",
     "text": "import numpy as np \nimport pandas as pd \nimport xarray as xr"
    },
    "executionTime": "2019-12-08T21:13:21.897Z"
   },
   {
    "cell": {
     "executionCount": 29,
     "executionEventId": "2395687a-ac15-4962-b4f6-40072f390a15",
     "hasError": false,
     "id": "ac78b6db-688b-4654-8e7a-f443b5524c9f",
     "outputs": [],
     "persistentId": "40159685-2082-4ab2-98f4-2a18922169f8",
     "text": "CWD = pathlib.Path.cwd()"
    },
    "executionTime": "2019-12-08T21:13:22.064Z"
   },
   {
    "cell": {
     "executionCount": 30,
     "executionEventId": "02fe0358-8410-4776-9c06-70c7200be9c2",
     "hasError": false,
     "id": "fcea0eae-d5eb-461a-831e-c8040016e96a",
     "outputs": [],
     "persistentId": "89236a8a-41c1-413e-99d9-bca2d6e7d1c7",
     "text": "HOME = pathlib.Path.home()"
    },
    "executionTime": "2019-12-08T21:13:22.226Z"
   },
   {
    "cell": {
     "executionCount": 31,
     "executionEventId": "c093aa4c-bb34-461d-bfab-5c19ed347cf8",
     "hasError": false,
     "id": "641d3c65-9b6d-439d-a774-5a3cae790c96",
     "outputs": [],
     "persistentId": "35ad2369-c83b-417e-996e-62c48076c6a6",
     "text": "opath = HOME / 'drives' / 'auck_projects' / 'END19101' / 'Working' / 'data' / 'hindcasts' / 'IRI' / 'CFSv2'"
    },
    "executionTime": "2019-12-08T21:13:22.393Z"
   },
   {
    "cell": {
     "executionCount": 32,
     "executionEventId": "63532a0c-2048-4016-8f26-b47630ee70fa",
     "hasError": false,
     "id": "b4a7f8fd-661e-400d-a580-f9e41c117f8f",
     "outputs": [],
     "persistentId": "62fbf95f-77b7-452b-b19e-29f91808f6a4",
     "text": "var = 'Z500'"
    },
    "executionTime": "2019-12-08T21:13:22.725Z"
   },
   {
    "cell": {
     "executionCount": 33,
     "executionEventId": "86d23726-718d-43cc-b040-1cedf98f7c03",
     "hasError": false,
     "id": "a1efbdff-30dc-4325-a900-108c81318bf3",
     "outputs": [],
     "persistentId": "2cb31216-ce80-407b-bf9b-cde343bbda9b",
     "text": "if var == 'Z500': \n#     url = 'http://iridl.ldeo.columbia.edu/SOURCES/.Models/.NMME/.CanSIPSv2/.FORECAST/.MONTHLY/.hgt/dods'\n    urp = 'http://iridl.ldeo.columbia.edu/SOURCES/.Models/.NMME/.CanSIPSv2/.HINDCAST/.MONTHLY/.hgt/dods'"
    },
    "executionTime": "2019-12-08T21:13:22.940Z"
   },
   {
    "cell": {
     "executionCount": 34,
     "executionEventId": "a4f92d05-8ff5-4003-bbe3-ba75c7bc3c8d",
     "hasError": false,
     "id": "c2921971-a198-408b-9bcf-771f06ee32ac",
     "outputs": [
      {
       "name": "stdout",
       "output_type": "stream",
       "text": "http://iridl.ldeo.columbia.edu/SOURCES/.Models/.NMME/.CanSIPSv2/.FORECAST/.MONTHLY/.hgt/dods\n"
      }
     ],
     "persistentId": "20b89f2c-35e8-4cad-9fc0-670e30585e3d",
     "text": "print(url)"
    },
    "executionTime": "2019-12-08T21:13:23.316Z"
   },
   {
    "cell": {
     "executionCount": 35,
     "executionEventId": "05b4ac3d-511d-4540-aacd-82fb88e3b19e",
     "hasError": false,
     "id": "fd586813-128e-402a-a110-3eec4ac5ca6b",
     "outputs": [],
     "persistentId": "71de8e43-efd7-497c-a8ee-4b804a77415d",
     "text": "dset = xr.open_dataset(url, decode_times=False)"
    },
    "executionTime": "2019-12-08T21:13:23.881Z"
   },
   {
    "cell": {
     "executionCount": 36,
     "executionEventId": "2bc62f4c-0160-4ae8-8770-1251610c2823",
     "hasError": false,
     "id": "00d9b65d-07e7-4ef2-ae01-1a31a51c87e2",
     "outputs": [],
     "persistentId": "50cddde5-d8d1-43fd-a1e0-044309dc3d30",
     "text": "dict_coords = {}\ndict_coords['L'] = 'leadtime'\ndict_coords['M'] = 'member'\ndict_coords['S'] = 'time'\ndict_coords['X'] = 'lon'\ndict_coords['Y'] = 'lat'"
    },
    "executionTime": "2019-12-08T21:13:24.460Z"
   },
   {
    "cell": {
     "executionCount": 37,
     "executionEventId": "1d288e8f-2a31-4d5e-9777-0c17d6ac8b37",
     "hasError": false,
     "id": "f49c26f7-b975-4585-a475-73b71a1c1f33",
     "outputs": [],
     "persistentId": "0314a5d4-348d-4320-aa6c-9dfea5306282",
     "text": "dset = dset.rename(dict_coords)"
    },
    "executionTime": "2019-12-08T21:13:24.903Z"
   },
   {
    "cell": {
     "executionCount": 38,
     "executionEventId": "fb270a4b-f9e6-4831-a52a-bb22997451fe",
     "hasError": false,
     "id": "4ddaaf9d-2b33-49c7-8128-306c85bde904",
     "outputs": [
      {
       "data": {
        "text/plain": "<xarray.DataArray 'time' (time: 5)>\narray([715., 716., 717., 718., 719.], dtype=float32)\nCoordinates:\n  * time     (time) float32 715.0 716.0 717.0 718.0 719.0\nAttributes:\n    expires:        1577862000\n    standard_name:  forecast_reference_time\n    long_name:      Forecast Start Time\n    pointwidth:     0\n    calendar:       360\n    defaultvalue:   719.0\n    gridtype:       0\n    units:          months since 1960-01-01"
       },
       "execution_count": 38,
       "metadata": {},
       "output_type": "execute_result"
      }
     ],
     "persistentId": "42bcb3b1-a805-4726-bd06-bf4b2174d1fb",
     "text": "dset.time"
    },
    "executionTime": "2019-12-08T21:13:25.374Z"
   },
   {
    "cell": {
     "executionCount": 39,
     "executionEventId": "69d441ec-52e8-4251-95f3-644d275662bf",
     "hasError": false,
     "id": "c89151e9-7ef0-42b6-b5ca-9f8e46ce844d",
     "outputs": [],
     "persistentId": "21731d7d-5992-4351-8704-dc105edeb73b",
     "text": "origin = datetime(1960,1,1)"
    },
    "executionTime": "2019-12-08T21:13:27.808Z"
   },
   {
    "cell": {
     "executionCount": 40,
     "executionEventId": "d2686ffa-77de-4826-8855-3caa5294769d",
     "hasError": false,
     "id": "830a0ae4-8b17-4239-afc7-1ea6a20c03de",
     "outputs": [],
     "persistentId": "dad41940-570b-4474-83f2-6d25dd8f85ab",
     "text": "dates = [origin + relativedelta.relativedelta(months=x) for x in dset.time]"
    },
    "executionTime": "2019-12-08T21:13:28.160Z"
   },
   {
    "cell": {
     "executionCount": 41,
     "executionEventId": "43e5a37e-7305-4e72-b9a7-ebdc2e4984e9",
     "hasError": false,
     "id": "8ed0279c-289d-48cf-abd6-2919695f63b6",
     "outputs": [],
     "persistentId": "3bbe3b71-40e2-4fcd-b0b1-4fa1bf9c29a0",
     "text": "dset['time'] = (('time'), dates)"
    },
    "executionTime": "2019-12-08T21:13:28.552Z"
   },
   {
    "cell": {
     "executionCount": 42,
     "executionEventId": "fe348bf5-285a-4644-a7e4-eeb6fca31ed3",
     "hasError": false,
     "id": "7cf39346-9486-44e0-99d8-7d336fe30003",
     "outputs": [
      {
       "data": {
        "text/plain": "<xarray.DataArray 'time' ()>\narray('2019-12-01T00:00:00.000000000', dtype='datetime64[ns]')\nCoordinates:\n    time     datetime64[ns] 2019-12-01"
       },
       "execution_count": 42,
       "metadata": {},
       "output_type": "execute_result"
      }
     ],
     "persistentId": "b8c1f1f8-ae69-4286-b913-d2942148cbd0",
     "text": "dset.time[-1]"
    },
    "executionTime": "2019-12-08T21:13:29.442Z"
   },
   {
    "cell": {
     "executionCount": 1,
     "executionEventId": "a338607f-89dd-4a3d-ba44-3b1a88ad7c1a",
     "hasError": false,
     "id": "fcd2878f-bc58-4efb-8bfb-c19e12cc6872",
     "outputs": [],
     "persistentId": "6b13cda8-a205-418d-8422-2be2c978a5bc",
     "text": "%matplotlib inline\nfrom matplotlib import pyplot as plt"
    },
    "executionTime": "2019-12-08T21:16:07.992Z"
   },
   {
    "cell": {
     "executionCount": 2,
     "executionEventId": "de056667-16a3-4e32-9333-9c369ca578f4",
     "hasError": false,
     "id": "df7d41a1-77fe-4f5e-bd43-9eed367014e6",
     "outputs": [],
     "persistentId": "2b804bee-29e0-43c4-82e0-cd7cfff0a7f8",
     "text": "import os \nimport sys \nimport pathlib"
    },
    "executionTime": "2019-12-08T21:16:08.000Z"
   },
   {
    "cell": {
     "executionCount": 3,
     "executionEventId": "985c17e7-d706-42f1-ba38-5557a6d9230a",
     "hasError": false,
     "id": "7c21e398-3b0f-4632-be0c-145bb2e74682",
     "outputs": [],
     "persistentId": "b1fcc1c6-275f-4735-a21f-8d904e4e90f8",
     "text": "from datetime import datetime, timedelta\nimport calendar\nfrom dateutil import relativedelta"
    },
    "executionTime": "2019-12-08T21:16:08.109Z"
   },
   {
    "cell": {
     "executionCount": 4,
     "executionEventId": "a1b096af-769c-43aa-8345-1dfe836504ca",
     "hasError": false,
     "id": "a9e47f53-1572-4cae-a249-6589a7488a08",
     "outputs": [],
     "persistentId": "8ed1015d-ec18-4776-9f17-c1a7379449af",
     "text": "import numpy as np \nimport pandas as pd \nimport xarray as xr"
    },
    "executionTime": "2019-12-08T21:16:09.084Z"
   },
   {
    "cell": {
     "executionCount": 5,
     "executionEventId": "14513264-117e-458a-b3d0-be6324d16034",
     "hasError": false,
     "id": "ac78b6db-688b-4654-8e7a-f443b5524c9f",
     "outputs": [],
     "persistentId": "40159685-2082-4ab2-98f4-2a18922169f8",
     "text": "CWD = pathlib.Path.cwd()"
    },
    "executionTime": "2019-12-08T21:16:09.099Z"
   },
   {
    "cell": {
     "executionCount": 6,
     "executionEventId": "9a63c677-7109-4d0f-9afa-b14e10f158fe",
     "hasError": false,
     "id": "fcea0eae-d5eb-461a-831e-c8040016e96a",
     "outputs": [],
     "persistentId": "89236a8a-41c1-413e-99d9-bca2d6e7d1c7",
     "text": "HOME = pathlib.Path.home()"
    },
    "executionTime": "2019-12-08T21:16:09.103Z"
   },
   {
    "cell": {
     "executionCount": 7,
     "executionEventId": "e00c94cc-3366-4dcf-877d-bab3481b81ed",
     "hasError": false,
     "id": "641d3c65-9b6d-439d-a774-5a3cae790c96",
     "outputs": [],
     "persistentId": "35ad2369-c83b-417e-996e-62c48076c6a6",
     "text": "opath = HOME / 'drives' / 'auck_projects' / 'END19101' / 'Working' / 'data' / 'hindcasts' / 'IRI' / 'CFSv2'"
    },
    "executionTime": "2019-12-08T21:16:09.481Z"
   },
   {
    "cell": {
     "executionCount": 8,
     "executionEventId": "9a268874-2c7e-4109-a568-92713b966466",
     "hasError": false,
     "id": "b4a7f8fd-661e-400d-a580-f9e41c117f8f",
     "outputs": [],
     "persistentId": "62fbf95f-77b7-452b-b19e-29f91808f6a4",
     "text": "var = 'Z500'"
    },
    "executionTime": "2019-12-08T21:16:09.645Z"
   },
   {
    "cell": {
     "executionCount": 9,
     "executionEventId": "cec68482-a6f4-422b-a3b5-21865334e6b3",
     "hasError": false,
     "id": "a1efbdff-30dc-4325-a900-108c81318bf3",
     "outputs": [],
     "persistentId": "2cb31216-ce80-407b-bf9b-cde343bbda9b",
     "text": "if var == 'Z500': \n#     url = 'http://iridl.ldeo.columbia.edu/SOURCES/.Models/.NMME/.CanSIPSv2/.FORECAST/.MONTHLY/.hgt/dods'\n    urp = 'http://iridl.ldeo.columbia.edu/SOURCES/.Models/.NMME/.CanSIPSv2/.HINDCAST/.MONTHLY/.hgt/dods'"
    },
    "executionTime": "2019-12-08T21:16:10.121Z"
   },
   {
    "cell": {
     "executionCount": 10,
     "executionEventId": "1fdeec32-22e4-445e-984a-c6f282efc3a2",
     "hasError": true,
     "id": "c2921971-a198-408b-9bcf-771f06ee32ac",
     "outputs": [
      {
       "ename": "NameError",
       "evalue": "name 'url' is not defined",
       "output_type": "error",
       "traceback": [
        "\u001b[0;31m---------------------------------------------------------------------------\u001b[0m",
        "\u001b[0;31mNameError\u001b[0m                                 Traceback (most recent call last)",
        "\u001b[0;32m<ipython-input-10-bbeb96f0486d>\u001b[0m in \u001b[0;36m<module>\u001b[0;34m\u001b[0m\n\u001b[0;32m----> 1\u001b[0;31m \u001b[0mprint\u001b[0m\u001b[0;34m(\u001b[0m\u001b[0murl\u001b[0m\u001b[0;34m)\u001b[0m\u001b[0;34m\u001b[0m\u001b[0;34m\u001b[0m\u001b[0m\n\u001b[0m",
        "\u001b[0;31mNameError\u001b[0m: name 'url' is not defined"
       ]
      }
     ],
     "persistentId": "20b89f2c-35e8-4cad-9fc0-670e30585e3d",
     "text": "print(url)"
    },
    "executionTime": "2019-12-08T21:16:12.606Z"
   },
   {
    "cell": {
     "executionCount": 11,
     "executionEventId": "1ac3e5b4-354d-43d8-b2e7-6c5938890460",
     "hasError": false,
     "id": "a1efbdff-30dc-4325-a900-108c81318bf3",
     "outputs": [],
     "persistentId": "2cb31216-ce80-407b-bf9b-cde343bbda9b",
     "text": "if var == 'Z500': \n#     url = 'http://iridl.ldeo.columbia.edu/SOURCES/.Models/.NMME/.CanSIPSv2/.FORECAST/.MONTHLY/.hgt/dods'\n    url = 'http://iridl.ldeo.columbia.edu/SOURCES/.Models/.NMME/.CanSIPSv2/.HINDCAST/.MONTHLY/.hgt/dods'"
    },
    "executionTime": "2019-12-08T21:16:16.520Z"
   },
   {
    "cell": {
     "executionCount": 12,
     "executionEventId": "f209dbec-5ac3-437e-a974-c8fd06be8939",
     "hasError": false,
     "id": "c2921971-a198-408b-9bcf-771f06ee32ac",
     "outputs": [
      {
       "name": "stdout",
       "output_type": "stream",
       "text": "http://iridl.ldeo.columbia.edu/SOURCES/.Models/.NMME/.CanSIPSv2/.HINDCAST/.MONTHLY/.hgt/dods\n"
      }
     ],
     "persistentId": "20b89f2c-35e8-4cad-9fc0-670e30585e3d",
     "text": "print(url)"
    },
    "executionTime": "2019-12-08T21:16:16.665Z"
   },
   {
    "cell": {
     "executionCount": 13,
     "executionEventId": "567669a5-a41a-4851-92cb-b81e1a169f7a",
     "hasError": false,
     "id": "fd586813-128e-402a-a110-3eec4ac5ca6b",
     "outputs": [],
     "persistentId": "71de8e43-efd7-497c-a8ee-4b804a77415d",
     "text": "dset = xr.open_dataset(url, decode_times=False)"
    },
    "executionTime": "2019-12-08T21:16:19.329Z"
   },
   {
    "cell": {
     "executionCount": 14,
     "executionEventId": "09076533-9f1c-470d-9d8e-a2ecf4c33161",
     "hasError": false,
     "id": "00d9b65d-07e7-4ef2-ae01-1a31a51c87e2",
     "outputs": [],
     "persistentId": "50cddde5-d8d1-43fd-a1e0-044309dc3d30",
     "text": "dict_coords = {}\ndict_coords['L'] = 'leadtime'\ndict_coords['M'] = 'member'\ndict_coords['S'] = 'time'\ndict_coords['X'] = 'lon'\ndict_coords['Y'] = 'lat'"
    },
    "executionTime": "2019-12-08T21:16:19.354Z"
   },
   {
    "cell": {
     "executionCount": 15,
     "executionEventId": "52b458b7-8671-4698-b581-514302223a73",
     "hasError": false,
     "id": "f49c26f7-b975-4585-a475-73b71a1c1f33",
     "outputs": [],
     "persistentId": "0314a5d4-348d-4320-aa6c-9dfea5306282",
     "text": "dset = dset.rename(dict_coords)"
    },
    "executionTime": "2019-12-08T21:16:19.383Z"
   },
   {
    "cell": {
     "executionCount": 16,
     "executionEventId": "d267ed96-8e7b-4cb5-b459-301f185d8370",
     "hasError": false,
     "id": "4ddaaf9d-2b33-49c7-8128-306c85bde904",
     "outputs": [
      {
       "data": {
        "text/plain": "<xarray.DataArray 'time' (time: 456)>\narray([252., 253., 254., ..., 705., 706., 707.], dtype=float32)\nCoordinates:\n  * time     (time) float32 252.0 253.0 254.0 255.0 ... 704.0 705.0 706.0 707.0\nAttributes:\n    standard_name:  forecast_reference_time\n    long_name:      Forecast Start Time\n    pointwidth:     0\n    calendar:       360\n    gridtype:       0\n    units:          months since 1960-01-01"
       },
       "execution_count": 16,
       "metadata": {},
       "output_type": "execute_result"
      }
     ],
     "persistentId": "42bcb3b1-a805-4726-bd06-bf4b2174d1fb",
     "text": "dset.time"
    },
    "executionTime": "2019-12-08T21:16:19.392Z"
   },
   {
    "cell": {
     "executionCount": 17,
     "executionEventId": "882083e6-3c7a-4b69-9733-32b83357d525",
     "hasError": false,
     "id": "c89151e9-7ef0-42b6-b5ca-9f8e46ce844d",
     "outputs": [],
     "persistentId": "21731d7d-5992-4351-8704-dc105edeb73b",
     "text": "origin = datetime(1960,1,1)"
    },
    "executionTime": "2019-12-08T21:16:19.408Z"
   },
   {
    "cell": {
     "executionCount": 18,
     "executionEventId": "4c8f8d08-be88-414c-84d4-908d1097f39a",
     "hasError": false,
     "id": "830a0ae4-8b17-4239-afc7-1ea6a20c03de",
     "outputs": [],
     "persistentId": "dad41940-570b-4474-83f2-6d25dd8f85ab",
     "text": "dates = [origin + relativedelta.relativedelta(months=x) for x in dset.time]"
    },
    "executionTime": "2019-12-08T21:16:19.513Z"
   },
   {
    "cell": {
     "executionCount": 19,
     "executionEventId": "312828b4-76ea-4da3-9c43-fab9538a6986",
     "hasError": false,
     "id": "8ed0279c-289d-48cf-abd6-2919695f63b6",
     "outputs": [],
     "persistentId": "3bbe3b71-40e2-4fcd-b0b1-4fa1bf9c29a0",
     "text": "dset['time'] = (('time'), dates)"
    },
    "executionTime": "2019-12-08T21:16:19.559Z"
   },
   {
    "cell": {
     "executionCount": 20,
     "executionEventId": "5fa1abd0-7018-4f5f-ba88-0c66fb0f7bbc",
     "hasError": false,
     "id": "7cf39346-9486-44e0-99d8-7d336fe30003",
     "outputs": [
      {
       "data": {
        "text/plain": "<xarray.DataArray 'time' ()>\narray('2018-12-01T00:00:00.000000000', dtype='datetime64[ns]')\nCoordinates:\n    time     datetime64[ns] 2018-12-01"
       },
       "execution_count": 20,
       "metadata": {},
       "output_type": "execute_result"
      }
     ],
     "persistentId": "b8c1f1f8-ae69-4286-b913-d2942148cbd0",
     "text": "dset.time[-1]"
    },
    "executionTime": "2019-12-08T21:16:21.359Z"
   },
   {
    "cell": {
     "executionCount": 21,
     "executionEventId": "9c8e3e6f-be79-4a7a-b718-1bddd09eac94",
     "hasError": false,
     "id": "7cf39346-9486-44e0-99d8-7d336fe30003",
     "outputs": [
      {
       "data": {
        "text/plain": "<xarray.DataArray 'time' ()>\narray('1981-01-01T00:00:00.000000000', dtype='datetime64[ns]')\nCoordinates:\n    time     datetime64[ns] 1981-01-01"
       },
       "execution_count": 21,
       "metadata": {},
       "output_type": "execute_result"
      }
     ],
     "persistentId": "b8c1f1f8-ae69-4286-b913-d2942148cbd0",
     "text": "dset.time[0]"
    },
    "executionTime": "2019-12-08T21:16:39.904Z"
   },
   {
    "cell": {
     "executionCount": 22,
     "executionEventId": "140609a0-dc32-4501-87b8-80d54ef7b29e",
     "hasError": false,
     "id": "7cf39346-9486-44e0-99d8-7d336fe30003",
     "outputs": [
      {
       "data": {
        "text/plain": "<xarray.DataArray 'time' ()>\narray('1981-02-01T00:00:00.000000000', dtype='datetime64[ns]')\nCoordinates:\n    time     datetime64[ns] 1981-02-01"
       },
       "execution_count": 22,
       "metadata": {},
       "output_type": "execute_result"
      }
     ],
     "persistentId": "b8c1f1f8-ae69-4286-b913-d2942148cbd0",
     "text": "dset.time[1]"
    },
    "executionTime": "2019-12-08T21:16:52.902Z"
   },
   {
    "cell": {
     "executionCount": 23,
     "executionEventId": "75e727fa-22c7-4885-8acb-49aad82eaa87",
     "hasError": false,
     "id": "7cf39346-9486-44e0-99d8-7d336fe30003",
     "outputs": [
      {
       "data": {
        "text/plain": "<xarray.DataArray 'time' ()>\narray('2018-12-01T00:00:00.000000000', dtype='datetime64[ns]')\nCoordinates:\n    time     datetime64[ns] 2018-12-01"
       },
       "execution_count": 23,
       "metadata": {},
       "output_type": "execute_result"
      }
     ],
     "persistentId": "b8c1f1f8-ae69-4286-b913-d2942148cbd0",
     "text": "dset.time[-1]"
    },
    "executionTime": "2019-12-08T21:16:55.826Z"
   },
   {
    "cell": {
     "executionCount": 24,
     "executionEventId": "89f1710d-fa5a-48a7-ac6a-5738a9c4142e",
     "hasError": false,
     "id": "fcd2878f-bc58-4efb-8bfb-c19e12cc6872",
     "outputs": [],
     "persistentId": "6b13cda8-a205-418d-8422-2be2c978a5bc",
     "text": "%matplotlib inline\nfrom matplotlib import pyplot as plt"
    },
    "executionTime": "2019-12-08T21:17:33.053Z"
   },
   {
    "cell": {
     "executionCount": 25,
     "executionEventId": "e31bbacb-6bcc-4eca-a988-9614ca014b7c",
     "hasError": false,
     "id": "df7d41a1-77fe-4f5e-bd43-9eed367014e6",
     "outputs": [],
     "persistentId": "2b804bee-29e0-43c4-82e0-cd7cfff0a7f8",
     "text": "import os \nimport sys \nimport pathlib"
    },
    "executionTime": "2019-12-08T21:17:33.188Z"
   },
   {
    "cell": {
     "executionCount": 26,
     "executionEventId": "8f655c4c-a6d8-4d01-a5ca-e1919b5ed379",
     "hasError": false,
     "id": "7c21e398-3b0f-4632-be0c-145bb2e74682",
     "outputs": [],
     "persistentId": "b1fcc1c6-275f-4735-a21f-8d904e4e90f8",
     "text": "from datetime import datetime, timedelta\nimport calendar\nfrom dateutil import relativedelta"
    },
    "executionTime": "2019-12-08T21:17:33.349Z"
   },
   {
    "cell": {
     "executionCount": 27,
     "executionEventId": "2d1eccec-2684-4576-b2e8-a1f8d9842d15",
     "hasError": false,
     "id": "a9e47f53-1572-4cae-a249-6589a7488a08",
     "outputs": [],
     "persistentId": "8ed1015d-ec18-4776-9f17-c1a7379449af",
     "text": "import numpy as np \nimport pandas as pd \nimport xarray as xr"
    },
    "executionTime": "2019-12-08T21:17:33.528Z"
   },
   {
    "cell": {
     "executionCount": 28,
     "executionEventId": "6bc2b1a5-ab44-440a-9980-e54ff67b3936",
     "hasError": false,
     "id": "ac78b6db-688b-4654-8e7a-f443b5524c9f",
     "outputs": [],
     "persistentId": "40159685-2082-4ab2-98f4-2a18922169f8",
     "text": "CWD = pathlib.Path.cwd()"
    },
    "executionTime": "2019-12-08T21:17:33.692Z"
   },
   {
    "cell": {
     "executionCount": 29,
     "executionEventId": "c595c8c2-ee6d-4b0c-851b-208f6d35fe8b",
     "hasError": false,
     "id": "fcea0eae-d5eb-461a-831e-c8040016e96a",
     "outputs": [],
     "persistentId": "89236a8a-41c1-413e-99d9-bca2d6e7d1c7",
     "text": "HOME = pathlib.Path.home()"
    },
    "executionTime": "2019-12-08T21:17:33.885Z"
   },
   {
    "cell": {
     "executionCount": 30,
     "executionEventId": "6e7963af-0c73-4eee-83a2-82168a899ca5",
     "hasError": false,
     "id": "641d3c65-9b6d-439d-a774-5a3cae790c96",
     "outputs": [],
     "persistentId": "35ad2369-c83b-417e-996e-62c48076c6a6",
     "text": "opath = HOME / 'drives' / 'auck_projects' / 'END19101' / 'Working' / 'data' / 'hindcasts' / 'IRI' / 'CFSv2'"
    },
    "executionTime": "2019-12-08T21:17:34.060Z"
   },
   {
    "cell": {
     "executionCount": 31,
     "executionEventId": "5d68a105-f169-4c7e-8273-e4d15187f1bc",
     "hasError": false,
     "id": "b4a7f8fd-661e-400d-a580-f9e41c117f8f",
     "outputs": [],
     "persistentId": "62fbf95f-77b7-452b-b19e-29f91808f6a4",
     "text": "var = 'Z500'"
    },
    "executionTime": "2019-12-08T21:17:34.204Z"
   },
   {
    "cell": {
     "executionCount": 32,
     "executionEventId": "f234bd7b-bc14-4366-b3b5-0fcf04947fc6",
     "hasError": false,
     "id": "a1efbdff-30dc-4325-a900-108c81318bf3",
     "outputs": [],
     "persistentId": "2cb31216-ce80-407b-bf9b-cde343bbda9b",
     "text": "if var == 'Z500': \n    url = 'http://iridl.ldeo.columbia.edu/SOURCES/.Models/.NMME/.CanSIPSv2/.FORECAST/.MONTHLY/.hgt/dods'\n#     url = 'http://iridl.ldeo.columbia.edu/SOURCES/.Models/.NMME/.CanSIPSv2/.HINDCAST/.MONTHLY/.hgt/dods'"
    },
    "executionTime": "2019-12-08T21:17:34.370Z"
   },
   {
    "cell": {
     "executionCount": 33,
     "executionEventId": "f672bdae-0da7-4ff8-a7b1-52770cef4af2",
     "hasError": false,
     "id": "c2921971-a198-408b-9bcf-771f06ee32ac",
     "outputs": [
      {
       "name": "stdout",
       "output_type": "stream",
       "text": "http://iridl.ldeo.columbia.edu/SOURCES/.Models/.NMME/.CanSIPSv2/.FORECAST/.MONTHLY/.hgt/dods\n"
      }
     ],
     "persistentId": "20b89f2c-35e8-4cad-9fc0-670e30585e3d",
     "text": "print(url)"
    },
    "executionTime": "2019-12-08T21:17:34.562Z"
   },
   {
    "cell": {
     "executionCount": 34,
     "executionEventId": "f4588cd1-3de6-41c0-b286-0704b070d872",
     "hasError": false,
     "id": "fd586813-128e-402a-a110-3eec4ac5ca6b",
     "outputs": [],
     "persistentId": "71de8e43-efd7-497c-a8ee-4b804a77415d",
     "text": "dset = xr.open_dataset(url, decode_times=False)"
    },
    "executionTime": "2019-12-08T21:17:35.822Z"
   },
   {
    "cell": {
     "executionCount": 35,
     "executionEventId": "ede3ccec-6a17-4dd6-a1dc-8b975c823641",
     "hasError": false,
     "id": "00d9b65d-07e7-4ef2-ae01-1a31a51c87e2",
     "outputs": [],
     "persistentId": "50cddde5-d8d1-43fd-a1e0-044309dc3d30",
     "text": "dict_coords = {}\ndict_coords['L'] = 'leadtime'\ndict_coords['M'] = 'member'\ndict_coords['S'] = 'time'\ndict_coords['X'] = 'lon'\ndict_coords['Y'] = 'lat'"
    },
    "executionTime": "2019-12-08T21:17:35.839Z"
   },
   {
    "cell": {
     "executionCount": 36,
     "executionEventId": "984be5f1-80b8-4643-9592-d1e8e25cb5ea",
     "hasError": false,
     "id": "f49c26f7-b975-4585-a475-73b71a1c1f33",
     "outputs": [],
     "persistentId": "0314a5d4-348d-4320-aa6c-9dfea5306282",
     "text": "dset = dset.rename(dict_coords)"
    },
    "executionTime": "2019-12-08T21:17:35.955Z"
   },
   {
    "cell": {
     "executionCount": 37,
     "executionEventId": "0d57826c-181b-42f3-89b5-e1255359d705",
     "hasError": false,
     "id": "4ddaaf9d-2b33-49c7-8128-306c85bde904",
     "outputs": [
      {
       "data": {
        "text/plain": "<xarray.DataArray 'time' (time: 5)>\narray([715., 716., 717., 718., 719.], dtype=float32)\nCoordinates:\n  * time     (time) float32 715.0 716.0 717.0 718.0 719.0\nAttributes:\n    expires:        1577862000\n    standard_name:  forecast_reference_time\n    long_name:      Forecast Start Time\n    pointwidth:     0\n    calendar:       360\n    defaultvalue:   719.0\n    gridtype:       0\n    units:          months since 1960-01-01"
       },
       "execution_count": 37,
       "metadata": {},
       "output_type": "execute_result"
      }
     ],
     "persistentId": "42bcb3b1-a805-4726-bd06-bf4b2174d1fb",
     "text": "dset.time"
    },
    "executionTime": "2019-12-08T21:17:37.171Z"
   },
   {
    "cell": {
     "executionCount": 38,
     "executionEventId": "705bc701-36db-4ee0-99da-2e86d4b8f6cd",
     "hasError": false,
     "id": "c89151e9-7ef0-42b6-b5ca-9f8e46ce844d",
     "outputs": [],
     "persistentId": "21731d7d-5992-4351-8704-dc105edeb73b",
     "text": "origin = datetime(1960,1,1)"
    },
    "executionTime": "2019-12-08T21:17:39.344Z"
   },
   {
    "cell": {
     "executionCount": 39,
     "executionEventId": "3e7c0f6e-d94a-41f1-8816-a54e23a98fc2",
     "hasError": false,
     "id": "830a0ae4-8b17-4239-afc7-1ea6a20c03de",
     "outputs": [],
     "persistentId": "dad41940-570b-4474-83f2-6d25dd8f85ab",
     "text": "dates = [origin + relativedelta.relativedelta(months=x) for x in dset.time]"
    },
    "executionTime": "2019-12-08T21:17:39.735Z"
   },
   {
    "cell": {
     "executionCount": 40,
     "executionEventId": "e863d3ca-496c-4f08-b843-e689648043a8",
     "hasError": false,
     "id": "8ed0279c-289d-48cf-abd6-2919695f63b6",
     "outputs": [],
     "persistentId": "3bbe3b71-40e2-4fcd-b0b1-4fa1bf9c29a0",
     "text": "dset['time'] = (('time'), dates)"
    },
    "executionTime": "2019-12-08T21:17:40.406Z"
   },
   {
    "cell": {
     "executionCount": 41,
     "executionEventId": "9fb93abc-2a42-4dcb-88aa-8feec2a8d554",
     "hasError": false,
     "id": "7cf39346-9486-44e0-99d8-7d336fe30003",
     "outputs": [
      {
       "data": {
        "text/plain": "<xarray.DataArray 'time' ()>\narray('2019-12-01T00:00:00.000000000', dtype='datetime64[ns]')\nCoordinates:\n    time     datetime64[ns] 2019-12-01"
       },
       "execution_count": 41,
       "metadata": {},
       "output_type": "execute_result"
      }
     ],
     "persistentId": "b8c1f1f8-ae69-4286-b913-d2942148cbd0",
     "text": "dset.time[-1]"
    },
    "executionTime": "2019-12-08T21:17:41.121Z"
   },
   {
    "cell": {
     "executionCount": 42,
     "executionEventId": "17002090-c172-4a8c-8d9b-a3c0fdf17bf5",
     "hasError": false,
     "id": "2d816726-e23e-43df-ae7a-62930bb16d75",
     "outputs": [
      {
       "data": {
        "text/plain": "<xarray.DataArray 'time' ()>\narray('2019-08-01T00:00:00.000000000', dtype='datetime64[ns]')\nCoordinates:\n    time     datetime64[ns] 2019-08-01"
       },
       "execution_count": 42,
       "metadata": {},
       "output_type": "execute_result"
      }
     ],
     "persistentId": "469bf983-ea9e-42b9-83b9-4b2b22f9dd0c",
     "text": "dset.time[0]"
    },
    "executionTime": "2019-12-08T21:17:47.905Z"
   },
   {
    "cell": {
     "executionCount": 43,
     "executionEventId": "fb266880-cb9e-40fb-a52c-f04952aca94b",
     "hasError": false,
     "id": "fcd2878f-bc58-4efb-8bfb-c19e12cc6872",
     "outputs": [],
     "persistentId": "6b13cda8-a205-418d-8422-2be2c978a5bc",
     "text": "%matplotlib inline\nfrom matplotlib import pyplot as plt"
    },
    "executionTime": "2019-12-08T21:22:21.680Z"
   },
   {
    "cell": {
     "executionCount": 44,
     "executionEventId": "0f7edd99-3186-42fa-958b-edbcdb85d5c5",
     "hasError": false,
     "id": "df7d41a1-77fe-4f5e-bd43-9eed367014e6",
     "outputs": [],
     "persistentId": "2b804bee-29e0-43c4-82e0-cd7cfff0a7f8",
     "text": "import os \nimport sys \nimport pathlib"
    },
    "executionTime": "2019-12-08T21:22:21.807Z"
   },
   {
    "cell": {
     "executionCount": 45,
     "executionEventId": "3df003e4-21e7-4296-9b83-603ea9287536",
     "hasError": false,
     "id": "7c21e398-3b0f-4632-be0c-145bb2e74682",
     "outputs": [],
     "persistentId": "b1fcc1c6-275f-4735-a21f-8d904e4e90f8",
     "text": "from datetime import datetime, timedelta\nimport calendar\nfrom dateutil import relativedelta"
    },
    "executionTime": "2019-12-08T21:22:22.189Z"
   },
   {
    "cell": {
     "executionCount": 46,
     "executionEventId": "f6572806-7b20-4130-a449-0ffcd6b1ec1f",
     "hasError": false,
     "id": "a9e47f53-1572-4cae-a249-6589a7488a08",
     "outputs": [],
     "persistentId": "8ed1015d-ec18-4776-9f17-c1a7379449af",
     "text": "import numpy as np \nimport pandas as pd \nimport xarray as xr"
    },
    "executionTime": "2019-12-08T21:22:22.344Z"
   },
   {
    "cell": {
     "executionCount": 47,
     "executionEventId": "1d9ff397-fec0-4e50-b20c-f8a7d20b1bad",
     "hasError": false,
     "id": "ac78b6db-688b-4654-8e7a-f443b5524c9f",
     "outputs": [],
     "persistentId": "40159685-2082-4ab2-98f4-2a18922169f8",
     "text": "CWD = pathlib.Path.cwd()"
    },
    "executionTime": "2019-12-08T21:22:23.037Z"
   },
   {
    "cell": {
     "executionCount": 48,
     "executionEventId": "d2b12dca-0660-4182-a999-952876466565",
     "hasError": false,
     "id": "fcea0eae-d5eb-461a-831e-c8040016e96a",
     "outputs": [],
     "persistentId": "89236a8a-41c1-413e-99d9-bca2d6e7d1c7",
     "text": "HOME = pathlib.Path.home()"
    },
    "executionTime": "2019-12-08T21:22:23.214Z"
   },
   {
    "cell": {
     "executionCount": 49,
     "executionEventId": "47605e86-f237-427b-9aea-af1e53e12e03",
     "hasError": false,
     "id": "641d3c65-9b6d-439d-a774-5a3cae790c96",
     "outputs": [],
     "persistentId": "35ad2369-c83b-417e-996e-62c48076c6a6",
     "text": "opath = HOME / 'drives' / 'auck_projects' / 'END19101' / 'Working' / 'data' / 'hindcasts' / 'IRI' / 'CFSv2'"
    },
    "executionTime": "2019-12-08T21:22:23.918Z"
   },
   {
    "cell": {
     "executionCount": 50,
     "executionEventId": "28f917f8-c345-4c86-94ee-a5f54a7bf8ee",
     "hasError": false,
     "id": "b4a7f8fd-661e-400d-a580-f9e41c117f8f",
     "outputs": [],
     "persistentId": "62fbf95f-77b7-452b-b19e-29f91808f6a4",
     "text": "var = 'Z500'"
    },
    "executionTime": "2019-12-08T21:22:24.408Z"
   },
   {
    "cell": {
     "executionCount": 51,
     "executionEventId": "dc87da09-feb7-4ac1-bef4-ae7e3ca2f101",
     "hasError": false,
     "id": "fe541e42-279e-4df0-871e-9c49be9b89b6",
     "outputs": [],
     "persistentId": "ecfcb229-2f64-42e3-a9f2-51c274168a86",
     "text": "data_stream = 'HINDCAST'\n# data_stream = 'FORECAST'"
    },
    "executionTime": "2019-12-08T21:24:30.604Z"
   },
   {
    "cell": {
     "executionCount": 52,
     "executionEventId": "5d641b64-e29e-4f5c-90ec-3c0fc65f0dab",
     "hasError": true,
     "id": "a1efbdff-30dc-4325-a900-108c81318bf3",
     "outputs": [
      {
       "ename": "NameError",
       "evalue": "name 'GCM' is not defined",
       "output_type": "error",
       "traceback": [
        "\u001b[0;31m---------------------------------------------------------------------------\u001b[0m",
        "\u001b[0;31mNameError\u001b[0m                                 Traceback (most recent call last)",
        "\u001b[0;32m<ipython-input-52-d2a132f61198>\u001b[0m in \u001b[0;36m<module>\u001b[0;34m\u001b[0m\n\u001b[1;32m      1\u001b[0m \u001b[0;32mif\u001b[0m \u001b[0mvar\u001b[0m \u001b[0;34m==\u001b[0m \u001b[0;34m'Z500'\u001b[0m\u001b[0;34m:\u001b[0m\u001b[0;34m\u001b[0m\u001b[0;34m\u001b[0m\u001b[0m\n\u001b[0;32m----> 2\u001b[0;31m     \u001b[0murl\u001b[0m \u001b[0;34m=\u001b[0m \u001b[0;34mf'http://iridl.ldeo.columbia.edu/SOURCES/.Models/.NMME/.{GCM}/.{data_stream}/.MONTHLY/.hgt/dods'\u001b[0m\u001b[0;34m\u001b[0m\u001b[0;34m\u001b[0m\u001b[0m\n\u001b[0m",
        "\u001b[0;31mNameError\u001b[0m: name 'GCM' is not defined"
       ]
      }
     ],
     "persistentId": "2cb31216-ce80-407b-bf9b-cde343bbda9b",
     "text": "if var == 'Z500': \n    url = f'http://iridl.ldeo.columbia.edu/SOURCES/.Models/.NMME/.{GCM}/.{data_stream}/.MONTHLY/.hgt/dods'"
    },
    "executionTime": "2019-12-08T21:25:09.763Z"
   },
   {
    "cell": {
     "executionCount": 53,
     "executionEventId": "c4384d68-21fa-4342-930f-aad4c50528d0",
     "hasError": false,
     "id": "fcd2878f-bc58-4efb-8bfb-c19e12cc6872",
     "outputs": [],
     "persistentId": "6b13cda8-a205-418d-8422-2be2c978a5bc",
     "text": "%matplotlib inline\nfrom matplotlib import pyplot as plt"
    },
    "executionTime": "2019-12-08T21:25:14.408Z"
   },
   {
    "cell": {
     "executionCount": 54,
     "executionEventId": "26077d64-7c99-4c61-be5b-7716f99c4e51",
     "hasError": false,
     "id": "df7d41a1-77fe-4f5e-bd43-9eed367014e6",
     "outputs": [],
     "persistentId": "2b804bee-29e0-43c4-82e0-cd7cfff0a7f8",
     "text": "import os \nimport sys \nimport pathlib"
    },
    "executionTime": "2019-12-08T21:25:14.569Z"
   },
   {
    "cell": {
     "executionCount": 55,
     "executionEventId": "17923c07-0eaf-441c-aab3-6e7f502bc243",
     "hasError": false,
     "id": "7c21e398-3b0f-4632-be0c-145bb2e74682",
     "outputs": [],
     "persistentId": "b1fcc1c6-275f-4735-a21f-8d904e4e90f8",
     "text": "from datetime import datetime, timedelta\nimport calendar\nfrom dateutil import relativedelta"
    },
    "executionTime": "2019-12-08T21:25:14.724Z"
   },
   {
    "cell": {
     "executionCount": 56,
     "executionEventId": "77420b60-cb95-4378-8c94-df8677654524",
     "hasError": false,
     "id": "a9e47f53-1572-4cae-a249-6589a7488a08",
     "outputs": [],
     "persistentId": "8ed1015d-ec18-4776-9f17-c1a7379449af",
     "text": "import numpy as np \nimport pandas as pd \nimport xarray as xr"
    },
    "executionTime": "2019-12-08T21:25:14.884Z"
   },
   {
    "cell": {
     "executionCount": 57,
     "executionEventId": "4d612171-3b49-434f-b81e-78bccf217493",
     "hasError": false,
     "id": "ac78b6db-688b-4654-8e7a-f443b5524c9f",
     "outputs": [],
     "persistentId": "40159685-2082-4ab2-98f4-2a18922169f8",
     "text": "CWD = pathlib.Path.cwd()"
    },
    "executionTime": "2019-12-08T21:25:15.086Z"
   },
   {
    "cell": {
     "executionCount": 58,
     "executionEventId": "c7bde20d-6959-4a2e-a193-54c6bb189c0e",
     "hasError": false,
     "id": "fcea0eae-d5eb-461a-831e-c8040016e96a",
     "outputs": [],
     "persistentId": "89236a8a-41c1-413e-99d9-bca2d6e7d1c7",
     "text": "HOME = pathlib.Path.home()"
    },
    "executionTime": "2019-12-08T21:25:15.237Z"
   },
   {
    "cell": {
     "executionCount": 59,
     "executionEventId": "fb6e627d-3cad-445d-94b7-58d1571de3f1",
     "hasError": false,
     "id": "641d3c65-9b6d-439d-a774-5a3cae790c96",
     "outputs": [],
     "persistentId": "35ad2369-c83b-417e-996e-62c48076c6a6",
     "text": "opath = HOME / 'drives' / 'auck_projects' / 'END19101' / 'Working' / 'data' / 'hindcasts' / 'IRI' / 'CFSv2'"
    },
    "executionTime": "2019-12-08T21:25:15.389Z"
   },
   {
    "cell": {
     "executionCount": 60,
     "executionEventId": "f76c5051-b4f8-43aa-a250-8f410b3fdc9e",
     "hasError": false,
     "id": "4b031f0d-f28b-43e1-b61d-e1748ed9337d",
     "outputs": [],
     "persistentId": "c94adf01-9f08-414a-a6cf-2f95e1d87e4d",
     "text": "GCM = 'CanCM4i'"
    },
    "executionTime": "2019-12-08T21:25:15.530Z"
   },
   {
    "cell": {
     "executionCount": 61,
     "executionEventId": "ea48d611-f7c2-4ca2-88a3-a63f2d4cd177",
     "hasError": false,
     "id": "fe541e42-279e-4df0-871e-9c49be9b89b6",
     "outputs": [],
     "persistentId": "ecfcb229-2f64-42e3-a9f2-51c274168a86",
     "text": "data_stream = 'HINDCAST'\n# data_stream = 'FORECAST'"
    },
    "executionTime": "2019-12-08T21:25:15.880Z"
   },
   {
    "cell": {
     "executionCount": 62,
     "executionEventId": "17a74d6b-4b92-4e40-ad99-0af2129859c4",
     "hasError": false,
     "id": "b4a7f8fd-661e-400d-a580-f9e41c117f8f",
     "outputs": [],
     "persistentId": "62fbf95f-77b7-452b-b19e-29f91808f6a4",
     "text": "var = 'Z500'"
    },
    "executionTime": "2019-12-08T21:25:16.348Z"
   },
   {
    "cell": {
     "executionCount": 63,
     "executionEventId": "25b4cb9e-dd6b-42af-8ab0-0f34752439b3",
     "hasError": false,
     "id": "a1efbdff-30dc-4325-a900-108c81318bf3",
     "outputs": [],
     "persistentId": "2cb31216-ce80-407b-bf9b-cde343bbda9b",
     "text": "if var == 'Z500': \n    url = f'http://iridl.ldeo.columbia.edu/SOURCES/.Models/.NMME/.{GCM}/.{data_stream}/.MONTHLY/.hgt/dods'"
    },
    "executionTime": "2019-12-08T21:25:16.787Z"
   },
   {
    "cell": {
     "executionCount": 64,
     "executionEventId": "0cd08bf8-c735-4f6f-aa3e-f2b9888ea1e2",
     "hasError": false,
     "id": "c2921971-a198-408b-9bcf-771f06ee32ac",
     "outputs": [
      {
       "name": "stdout",
       "output_type": "stream",
       "text": "http://iridl.ldeo.columbia.edu/SOURCES/.Models/.NMME/.CanCM4i/.HINDCAST/.MONTHLY/.hgt/dods\n"
      }
     ],
     "persistentId": "20b89f2c-35e8-4cad-9fc0-670e30585e3d",
     "text": "print(url)"
    },
    "executionTime": "2019-12-08T21:25:19.461Z"
   },
   {
    "cell": {
     "executionCount": 65,
     "executionEventId": "5d861657-0806-497f-a236-4fbd27e3f4ee",
     "hasError": false,
     "id": "fd586813-128e-402a-a110-3eec4ac5ca6b",
     "outputs": [],
     "persistentId": "71de8e43-efd7-497c-a8ee-4b804a77415d",
     "text": "dset = xr.open_dataset(url, decode_times=False)"
    },
    "executionTime": "2019-12-08T21:25:23.667Z"
   },
   {
    "cell": {
     "executionCount": 66,
     "executionEventId": "05fd77ba-99fd-4492-8bf7-a32d8c022e4f",
     "hasError": false,
     "id": "00d9b65d-07e7-4ef2-ae01-1a31a51c87e2",
     "outputs": [],
     "persistentId": "50cddde5-d8d1-43fd-a1e0-044309dc3d30",
     "text": "dict_coords = {}\ndict_coords['L'] = 'leadtime'\ndict_coords['M'] = 'member'\ndict_coords['S'] = 'time'\ndict_coords['X'] = 'lon'\ndict_coords['Y'] = 'lat'"
    },
    "executionTime": "2019-12-08T21:25:25.547Z"
   },
   {
    "cell": {
     "executionCount": 67,
     "executionEventId": "e34e0db1-39e0-4d61-b210-66c23adbd27a",
     "hasError": false,
     "id": "00d9b65d-07e7-4ef2-ae01-1a31a51c87e2",
     "outputs": [],
     "persistentId": "50cddde5-d8d1-43fd-a1e0-044309dc3d30",
     "text": "dict_coords = {}\ndict_coords['L'] = 'step'\ndict_coords['M'] = 'member'\ndict_coords['S'] = 'time'\ndict_coords['X'] = 'lon'\ndict_coords['Y'] = 'lat'"
    },
    "executionTime": "2019-12-08T21:25:32.072Z"
   },
   {
    "cell": {
     "executionCount": 68,
     "executionEventId": "17f3892e-f95a-45f0-a951-71e62659414e",
     "hasError": false,
     "id": "f49c26f7-b975-4585-a475-73b71a1c1f33",
     "outputs": [],
     "persistentId": "0314a5d4-348d-4320-aa6c-9dfea5306282",
     "text": "dset = dset.rename(dict_coords)"
    },
    "executionTime": "2019-12-08T21:25:33.228Z"
   },
   {
    "cell": {
     "executionCount": 69,
     "executionEventId": "f4b7f287-ac85-4ad0-92f9-4aa43993b300",
     "hasError": false,
     "id": "4ddaaf9d-2b33-49c7-8128-306c85bde904",
     "outputs": [
      {
       "data": {
        "text/plain": "<xarray.DataArray 'time' (time: 456)>\narray([252., 253., 254., ..., 705., 706., 707.], dtype=float32)\nCoordinates:\n  * time     (time) float32 252.0 253.0 254.0 255.0 ... 704.0 705.0 706.0 707.0\nAttributes:\n    standard_name:  forecast_reference_time\n    long_name:      Forecast Start Time\n    pointwidth:     0\n    calendar:       360\n    gridtype:       0\n    units:          months since 1960-01-01"
       },
       "execution_count": 69,
       "metadata": {},
       "output_type": "execute_result"
      }
     ],
     "persistentId": "42bcb3b1-a805-4726-bd06-bf4b2174d1fb",
     "text": "dset.time"
    },
    "executionTime": "2019-12-08T21:25:34.709Z"
   },
   {
    "cell": {
     "executionCount": 70,
     "executionEventId": "5f9a1fcb-a020-4845-b28c-cebdcb5e3185",
     "hasError": false,
     "id": "c89151e9-7ef0-42b6-b5ca-9f8e46ce844d",
     "outputs": [],
     "persistentId": "21731d7d-5992-4351-8704-dc105edeb73b",
     "text": "origin = datetime(1960,1,1)"
    },
    "executionTime": "2019-12-08T21:25:35.288Z"
   },
   {
    "cell": {
     "executionCount": 71,
     "executionEventId": "7526b289-3c9c-4d91-8cef-b6c84d579091",
     "hasError": false,
     "id": "830a0ae4-8b17-4239-afc7-1ea6a20c03de",
     "outputs": [],
     "persistentId": "dad41940-570b-4474-83f2-6d25dd8f85ab",
     "text": "dates = [origin + relativedelta.relativedelta(months=x) for x in dset.time]"
    },
    "executionTime": "2019-12-08T21:25:35.912Z"
   },
   {
    "cell": {
     "executionCount": 72,
     "executionEventId": "3b93847e-60f0-46b0-85cd-fdc151d8908c",
     "hasError": false,
     "id": "8ed0279c-289d-48cf-abd6-2919695f63b6",
     "outputs": [],
     "persistentId": "3bbe3b71-40e2-4fcd-b0b1-4fa1bf9c29a0",
     "text": "dset['time'] = (('time'), dates)"
    },
    "executionTime": "2019-12-08T21:25:35.981Z"
   },
   {
    "cell": {
     "executionCount": 73,
     "executionEventId": "dee291af-a110-4d76-bf1a-7735cc6f6d64",
     "hasError": false,
     "id": "2d816726-e23e-43df-ae7a-62930bb16d75",
     "outputs": [
      {
       "data": {
        "text/plain": "<xarray.DataArray 'time' ()>\narray('1981-01-01T00:00:00.000000000', dtype='datetime64[ns]')\nCoordinates:\n    time     datetime64[ns] 1981-01-01"
       },
       "execution_count": 73,
       "metadata": {},
       "output_type": "execute_result"
      }
     ],
     "persistentId": "469bf983-ea9e-42b9-83b9-4b2b22f9dd0c",
     "text": "dset.time[0]"
    },
    "executionTime": "2019-12-08T21:25:36.110Z"
   },
   {
    "cell": {
     "executionCount": 74,
     "executionEventId": "00420f53-0caf-41b8-80b9-88b0a1c8eded",
     "hasError": false,
     "id": "7cf39346-9486-44e0-99d8-7d336fe30003",
     "outputs": [
      {
       "data": {
        "text/plain": "<xarray.DataArray 'time' ()>\narray('2018-12-01T00:00:00.000000000', dtype='datetime64[ns]')\nCoordinates:\n    time     datetime64[ns] 2018-12-01"
       },
       "execution_count": 74,
       "metadata": {},
       "output_type": "execute_result"
      }
     ],
     "persistentId": "b8c1f1f8-ae69-4286-b913-d2942148cbd0",
     "text": "dset.time[-1]"
    },
    "executionTime": "2019-12-08T21:25:37.883Z"
   },
   {
    "cell": {
     "executionCount": 75,
     "executionEventId": "987d0881-705e-4c59-802b-7bacf4083ae0",
     "hasError": false,
     "id": "fcd2878f-bc58-4efb-8bfb-c19e12cc6872",
     "outputs": [],
     "persistentId": "6b13cda8-a205-418d-8422-2be2c978a5bc",
     "text": "%matplotlib inline\nfrom matplotlib import pyplot as plt"
    },
    "executionTime": "2019-12-08T21:26:12.634Z"
   },
   {
    "cell": {
     "executionCount": 76,
     "executionEventId": "37da0c41-6346-438e-a91d-915a44b45993",
     "hasError": false,
     "id": "df7d41a1-77fe-4f5e-bd43-9eed367014e6",
     "outputs": [],
     "persistentId": "2b804bee-29e0-43c4-82e0-cd7cfff0a7f8",
     "text": "import os \nimport sys \nimport pathlib"
    },
    "executionTime": "2019-12-08T21:26:12.775Z"
   },
   {
    "cell": {
     "executionCount": 77,
     "executionEventId": "7b281b65-3c8a-4aae-8cae-c087483c92b0",
     "hasError": false,
     "id": "7c21e398-3b0f-4632-be0c-145bb2e74682",
     "outputs": [],
     "persistentId": "b1fcc1c6-275f-4735-a21f-8d904e4e90f8",
     "text": "from datetime import datetime, timedelta\nimport calendar\nfrom dateutil import relativedelta"
    },
    "executionTime": "2019-12-08T21:26:12.950Z"
   },
   {
    "cell": {
     "executionCount": 78,
     "executionEventId": "0b78e5ef-905d-45f2-bcb8-aa0a7d051107",
     "hasError": false,
     "id": "a9e47f53-1572-4cae-a249-6589a7488a08",
     "outputs": [],
     "persistentId": "8ed1015d-ec18-4776-9f17-c1a7379449af",
     "text": "import numpy as np \nimport pandas as pd \nimport xarray as xr"
    },
    "executionTime": "2019-12-08T21:26:13.105Z"
   },
   {
    "cell": {
     "executionCount": 79,
     "executionEventId": "28be69de-c27c-4be6-a9a0-00e1ddacbe0e",
     "hasError": false,
     "id": "ac78b6db-688b-4654-8e7a-f443b5524c9f",
     "outputs": [],
     "persistentId": "40159685-2082-4ab2-98f4-2a18922169f8",
     "text": "CWD = pathlib.Path.cwd()"
    },
    "executionTime": "2019-12-08T21:26:13.290Z"
   },
   {
    "cell": {
     "executionCount": 80,
     "executionEventId": "b21bda9c-28c9-427f-bb2f-8ccae1c31f83",
     "hasError": false,
     "id": "fcea0eae-d5eb-461a-831e-c8040016e96a",
     "outputs": [],
     "persistentId": "89236a8a-41c1-413e-99d9-bca2d6e7d1c7",
     "text": "HOME = pathlib.Path.home()"
    },
    "executionTime": "2019-12-08T21:26:13.492Z"
   },
   {
    "cell": {
     "executionCount": 81,
     "executionEventId": "af550aef-954b-42d5-b29b-028971c8dd99",
     "hasError": false,
     "id": "641d3c65-9b6d-439d-a774-5a3cae790c96",
     "outputs": [],
     "persistentId": "35ad2369-c83b-417e-996e-62c48076c6a6",
     "text": "opath = HOME / 'drives' / 'auck_projects' / 'END19101' / 'Working' / 'data' / 'hindcasts' / 'IRI' / 'CFSv2'"
    },
    "executionTime": "2019-12-08T21:26:13.668Z"
   },
   {
    "cell": {
     "executionCount": 82,
     "executionEventId": "ee21e09f-4454-43c1-a75b-1995851067c9",
     "hasError": false,
     "id": "4b031f0d-f28b-43e1-b61d-e1748ed9337d",
     "outputs": [],
     "persistentId": "c94adf01-9f08-414a-a6cf-2f95e1d87e4d",
     "text": "GCM = 'CanCM4i'"
    },
    "executionTime": "2019-12-08T21:26:13.844Z"
   },
   {
    "cell": {
     "executionCount": 83,
     "executionEventId": "0ce3182b-5081-40e7-a244-20163c734914",
     "hasError": false,
     "id": "fe541e42-279e-4df0-871e-9c49be9b89b6",
     "outputs": [],
     "persistentId": "ecfcb229-2f64-42e3-a9f2-51c274168a86",
     "text": "# data_stream = 'HINDCAST'\ndata_stream = 'FORECAST'"
    },
    "executionTime": "2019-12-08T21:26:14.003Z"
   },
   {
    "cell": {
     "executionCount": 84,
     "executionEventId": "53911f5e-f4b2-44a6-8ffb-07c965fa7118",
     "hasError": false,
     "id": "b4a7f8fd-661e-400d-a580-f9e41c117f8f",
     "outputs": [],
     "persistentId": "62fbf95f-77b7-452b-b19e-29f91808f6a4",
     "text": "var = 'Z500'"
    },
    "executionTime": "2019-12-08T21:26:14.185Z"
   },
   {
    "cell": {
     "executionCount": 85,
     "executionEventId": "a5371b69-7596-4a2a-9313-cdcb9e302c53",
     "hasError": false,
     "id": "a1efbdff-30dc-4325-a900-108c81318bf3",
     "outputs": [],
     "persistentId": "2cb31216-ce80-407b-bf9b-cde343bbda9b",
     "text": "if var == 'Z500': \n    url = f'http://iridl.ldeo.columbia.edu/SOURCES/.Models/.NMME/.{GCM}/.{data_stream}/.MONTHLY/.hgt/dods'"
    },
    "executionTime": "2019-12-08T21:26:14.392Z"
   },
   {
    "cell": {
     "executionCount": 86,
     "executionEventId": "8af512d1-fe29-4db6-b813-3e234859f0b7",
     "hasError": false,
     "id": "c2921971-a198-408b-9bcf-771f06ee32ac",
     "outputs": [
      {
       "name": "stdout",
       "output_type": "stream",
       "text": "http://iridl.ldeo.columbia.edu/SOURCES/.Models/.NMME/.CanCM4i/.FORECAST/.MONTHLY/.hgt/dods\n"
      }
     ],
     "persistentId": "20b89f2c-35e8-4cad-9fc0-670e30585e3d",
     "text": "print(url)"
    },
    "executionTime": "2019-12-08T21:26:15.340Z"
   },
   {
    "cell": {
     "executionCount": 87,
     "executionEventId": "f534fab7-8047-4c96-bd47-e64e35852801",
     "hasError": false,
     "id": "fd586813-128e-402a-a110-3eec4ac5ca6b",
     "outputs": [],
     "persistentId": "71de8e43-efd7-497c-a8ee-4b804a77415d",
     "text": "dset = xr.open_dataset(url, decode_times=False)"
    },
    "executionTime": "2019-12-08T21:26:17.673Z"
   },
   {
    "cell": {
     "executionCount": 88,
     "executionEventId": "c88870e8-2d50-49ea-9fd4-274694493267",
     "hasError": false,
     "id": "00d9b65d-07e7-4ef2-ae01-1a31a51c87e2",
     "outputs": [],
     "persistentId": "50cddde5-d8d1-43fd-a1e0-044309dc3d30",
     "text": "dict_coords = {}\ndict_coords['L'] = 'step'\ndict_coords['M'] = 'member'\ndict_coords['S'] = 'time'\ndict_coords['X'] = 'lon'\ndict_coords['Y'] = 'lat'"
    },
    "executionTime": "2019-12-08T21:26:17.710Z"
   },
   {
    "cell": {
     "executionCount": 89,
     "executionEventId": "882151e8-c65a-4f51-a3be-1869961cb42f",
     "hasError": false,
     "id": "f49c26f7-b975-4585-a475-73b71a1c1f33",
     "outputs": [],
     "persistentId": "0314a5d4-348d-4320-aa6c-9dfea5306282",
     "text": "dset = dset.rename(dict_coords)"
    },
    "executionTime": "2019-12-08T21:26:18.226Z"
   },
   {
    "cell": {
     "executionCount": 90,
     "executionEventId": "321eaddf-451a-4b8b-813d-153a661136e9",
     "hasError": false,
     "id": "4ddaaf9d-2b33-49c7-8128-306c85bde904",
     "outputs": [
      {
       "data": {
        "text/plain": "<xarray.DataArray 'time' (time: 5)>\narray([715., 716., 717., 718., 719.], dtype=float32)\nCoordinates:\n  * time     (time) float32 715.0 716.0 717.0 718.0 719.0\nAttributes:\n    expires:        1577862000\n    standard_name:  forecast_reference_time\n    long_name:      Forecast Start Time\n    pointwidth:     0\n    calendar:       360\n    defaultvalue:   719.0\n    gridtype:       0\n    units:          months since 1960-01-01"
       },
       "execution_count": 90,
       "metadata": {},
       "output_type": "execute_result"
      }
     ],
     "persistentId": "42bcb3b1-a805-4726-bd06-bf4b2174d1fb",
     "text": "dset.time"
    },
    "executionTime": "2019-12-08T21:26:18.533Z"
   },
   {
    "cell": {
     "executionCount": 91,
     "executionEventId": "ca2313b5-c148-4b6f-b424-75958db11366",
     "hasError": false,
     "id": "c89151e9-7ef0-42b6-b5ca-9f8e46ce844d",
     "outputs": [],
     "persistentId": "21731d7d-5992-4351-8704-dc105edeb73b",
     "text": "origin = datetime(1960,1,1)"
    },
    "executionTime": "2019-12-08T21:26:19.703Z"
   },
   {
    "cell": {
     "executionCount": 92,
     "executionEventId": "6c5d46b1-6e6d-4e1e-8acb-19a29ae050e5",
     "hasError": false,
     "id": "830a0ae4-8b17-4239-afc7-1ea6a20c03de",
     "outputs": [],
     "persistentId": "dad41940-570b-4474-83f2-6d25dd8f85ab",
     "text": "dates = [origin + relativedelta.relativedelta(months=x) for x in dset.time]"
    },
    "executionTime": "2019-12-08T21:26:20.124Z"
   },
   {
    "cell": {
     "executionCount": 93,
     "executionEventId": "fc4972a7-998a-4064-8a67-3776f7f67d89",
     "hasError": false,
     "id": "8ed0279c-289d-48cf-abd6-2919695f63b6",
     "outputs": [],
     "persistentId": "3bbe3b71-40e2-4fcd-b0b1-4fa1bf9c29a0",
     "text": "dset['time'] = (('time'), dates)"
    },
    "executionTime": "2019-12-08T21:26:20.564Z"
   },
   {
    "cell": {
     "executionCount": 94,
     "executionEventId": "9425c62a-89a8-4f6a-89cd-60a4a1fbfb3a",
     "hasError": false,
     "id": "2d816726-e23e-43df-ae7a-62930bb16d75",
     "outputs": [
      {
       "data": {
        "text/plain": "<xarray.DataArray 'time' ()>\narray('2019-08-01T00:00:00.000000000', dtype='datetime64[ns]')\nCoordinates:\n    time     datetime64[ns] 2019-08-01"
       },
       "execution_count": 94,
       "metadata": {},
       "output_type": "execute_result"
      }
     ],
     "persistentId": "469bf983-ea9e-42b9-83b9-4b2b22f9dd0c",
     "text": "dset.time[0]"
    },
    "executionTime": "2019-12-08T21:26:21.520Z"
   },
   {
    "cell": {
     "executionCount": 95,
     "executionEventId": "a638c622-787c-4661-b2e4-1bd6fb561353",
     "hasError": false,
     "id": "7cf39346-9486-44e0-99d8-7d336fe30003",
     "outputs": [
      {
       "data": {
        "text/plain": "<xarray.DataArray 'time' ()>\narray('2019-12-01T00:00:00.000000000', dtype='datetime64[ns]')\nCoordinates:\n    time     datetime64[ns] 2019-12-01"
       },
       "execution_count": 95,
       "metadata": {},
       "output_type": "execute_result"
      }
     ],
     "persistentId": "b8c1f1f8-ae69-4286-b913-d2942148cbd0",
     "text": "dset.time[-1]"
    },
    "executionTime": "2019-12-08T21:26:22.003Z"
   },
   {
    "cell": {
     "executionCount": 96,
     "executionEventId": "0f0115d6-229c-4537-be43-92e2fd77b16a",
     "hasError": false,
     "id": "fcd2878f-bc58-4efb-8bfb-c19e12cc6872",
     "outputs": [],
     "persistentId": "6b13cda8-a205-418d-8422-2be2c978a5bc",
     "text": "%matplotlib inline\nfrom matplotlib import pyplot as plt"
    },
    "executionTime": "2019-12-08T21:32:33.500Z"
   },
   {
    "cell": {
     "executionCount": 97,
     "executionEventId": "488eaa10-c636-4542-8a07-6149167065d3",
     "hasError": false,
     "id": "df7d41a1-77fe-4f5e-bd43-9eed367014e6",
     "outputs": [],
     "persistentId": "2b804bee-29e0-43c4-82e0-cd7cfff0a7f8",
     "text": "import os \nimport sys \nimport pathlib"
    },
    "executionTime": "2019-12-08T21:32:33.624Z"
   },
   {
    "cell": {
     "executionCount": 98,
     "executionEventId": "f34fa504-6fca-493f-a565-59a3f26571e5",
     "hasError": false,
     "id": "7c21e398-3b0f-4632-be0c-145bb2e74682",
     "outputs": [],
     "persistentId": "b1fcc1c6-275f-4735-a21f-8d904e4e90f8",
     "text": "from datetime import datetime, timedelta\nimport calendar\nfrom dateutil import relativedelta"
    },
    "executionTime": "2019-12-08T21:32:33.796Z"
   },
   {
    "cell": {
     "executionCount": 99,
     "executionEventId": "f609e382-aca5-4a30-b8b6-40b33999ca1d",
     "hasError": false,
     "id": "a9e47f53-1572-4cae-a249-6589a7488a08",
     "outputs": [],
     "persistentId": "8ed1015d-ec18-4776-9f17-c1a7379449af",
     "text": "import numpy as np \nimport pandas as pd \nimport xarray as xr"
    },
    "executionTime": "2019-12-08T21:32:33.968Z"
   },
   {
    "cell": {
     "executionCount": 100,
     "executionEventId": "16d26788-b45c-4b48-8aa5-97d1d17710d9",
     "hasError": false,
     "id": "ac78b6db-688b-4654-8e7a-f443b5524c9f",
     "outputs": [],
     "persistentId": "40159685-2082-4ab2-98f4-2a18922169f8",
     "text": "CWD = pathlib.Path.cwd()"
    },
    "executionTime": "2019-12-08T21:32:34.159Z"
   },
   {
    "cell": {
     "executionCount": 101,
     "executionEventId": "957d5955-d587-467d-8303-03892ad4b2b9",
     "hasError": false,
     "id": "fcea0eae-d5eb-461a-831e-c8040016e96a",
     "outputs": [],
     "persistentId": "89236a8a-41c1-413e-99d9-bca2d6e7d1c7",
     "text": "HOME = pathlib.Path.home()"
    },
    "executionTime": "2019-12-08T21:32:34.320Z"
   },
   {
    "cell": {
     "executionCount": 102,
     "executionEventId": "c654b7a4-6b7c-4451-b609-46f16f9bc820",
     "hasError": false,
     "id": "641d3c65-9b6d-439d-a774-5a3cae790c96",
     "outputs": [],
     "persistentId": "35ad2369-c83b-417e-996e-62c48076c6a6",
     "text": "opath = HOME / 'drives' / 'auck_projects' / 'END19101' / 'Working' / 'data' / 'hindcasts' / 'IRI' / 'CFSv2'"
    },
    "executionTime": "2019-12-08T21:32:34.482Z"
   },
   {
    "cell": {
     "executionCount": 103,
     "executionEventId": "296d8257-1cf4-4306-8a40-a25f2ad72441",
     "hasError": false,
     "id": "4b031f0d-f28b-43e1-b61d-e1748ed9337d",
     "outputs": [],
     "persistentId": "c94adf01-9f08-414a-a6cf-2f95e1d87e4d",
     "text": "# GCM = 'CanCM4i'\nGCM = 'CMC2-CanCM4'"
    },
    "executionTime": "2019-12-08T21:32:34.650Z"
   },
   {
    "cell": {
     "executionCount": 104,
     "executionEventId": "e525c4ed-d238-4a61-9a16-67e09835f225",
     "hasError": false,
     "id": "fe541e42-279e-4df0-871e-9c49be9b89b6",
     "outputs": [],
     "persistentId": "ecfcb229-2f64-42e3-a9f2-51c274168a86",
     "text": "data_stream = 'HINDCAST'\n# data_stream = 'FORECAST'"
    },
    "executionTime": "2019-12-08T21:32:34.845Z"
   },
   {
    "cell": {
     "executionCount": 105,
     "executionEventId": "aeeed64c-51cc-4861-8b8f-8fe0e9ed8342",
     "hasError": false,
     "id": "b4a7f8fd-661e-400d-a580-f9e41c117f8f",
     "outputs": [],
     "persistentId": "62fbf95f-77b7-452b-b19e-29f91808f6a4",
     "text": "var = 'Z500'"
    },
    "executionTime": "2019-12-08T21:32:35.426Z"
   },
   {
    "cell": {
     "executionCount": 106,
     "executionEventId": "1c87834a-8870-48de-aab9-51081163d6c5",
     "hasError": false,
     "id": "a1efbdff-30dc-4325-a900-108c81318bf3",
     "outputs": [],
     "persistentId": "2cb31216-ce80-407b-bf9b-cde343bbda9b",
     "text": "if var == 'Z500': \n    url = f'http://iridl.ldeo.columbia.edu/SOURCES/.Models/.NMME/.{GCM}/.{data_stream}/.MONTHLY/.hgt/dods'"
    },
    "executionTime": "2019-12-08T21:32:36.100Z"
   },
   {
    "cell": {
     "executionCount": 107,
     "executionEventId": "31a96922-286b-4fd6-8d4a-0cc40b80563c",
     "hasError": false,
     "id": "c2921971-a198-408b-9bcf-771f06ee32ac",
     "outputs": [
      {
       "name": "stdout",
       "output_type": "stream",
       "text": "http://iridl.ldeo.columbia.edu/SOURCES/.Models/.NMME/.CMC2-CanCM4/.HINDCAST/.MONTHLY/.hgt/dods\n"
      }
     ],
     "persistentId": "20b89f2c-35e8-4cad-9fc0-670e30585e3d",
     "text": "print(url)"
    },
    "executionTime": "2019-12-08T21:32:36.250Z"
   },
   {
    "cell": {
     "executionCount": 108,
     "executionEventId": "348d1469-8ebf-4389-8274-c0ff218aeabd",
     "hasError": false,
     "id": "fd586813-128e-402a-a110-3eec4ac5ca6b",
     "outputs": [],
     "persistentId": "71de8e43-efd7-497c-a8ee-4b804a77415d",
     "text": "dset = xr.open_dataset(url, decode_times=False)"
    },
    "executionTime": "2019-12-08T21:32:38.427Z"
   },
   {
    "cell": {
     "executionCount": 109,
     "executionEventId": "959fca17-29f1-431c-a85d-661800355911",
     "hasError": false,
     "id": "00d9b65d-07e7-4ef2-ae01-1a31a51c87e2",
     "outputs": [],
     "persistentId": "50cddde5-d8d1-43fd-a1e0-044309dc3d30",
     "text": "dict_coords = {}\ndict_coords['L'] = 'step'\ndict_coords['M'] = 'member'\ndict_coords['S'] = 'time'\ndict_coords['X'] = 'lon'\ndict_coords['Y'] = 'lat'"
    },
    "executionTime": "2019-12-08T21:32:38.464Z"
   },
   {
    "cell": {
     "executionCount": 110,
     "executionEventId": "76b331d2-8fdd-41dd-969b-76335504804f",
     "hasError": false,
     "id": "f49c26f7-b975-4585-a475-73b71a1c1f33",
     "outputs": [],
     "persistentId": "0314a5d4-348d-4320-aa6c-9dfea5306282",
     "text": "dset = dset.rename(dict_coords)"
    },
    "executionTime": "2019-12-08T21:32:38.486Z"
   },
   {
    "cell": {
     "executionCount": 111,
     "executionEventId": "68bc0d52-8c4e-4b05-a329-9e9876ecb856",
     "hasError": false,
     "id": "4ddaaf9d-2b33-49c7-8128-306c85bde904",
     "outputs": [
      {
       "data": {
        "text/plain": "<xarray.DataArray 'time' (time: 360)>\narray([252., 253., 254., ..., 609., 610., 611.], dtype=float32)\nCoordinates:\n  * time     (time) float32 252.0 253.0 254.0 255.0 ... 608.0 609.0 610.0 611.0\nAttributes:\n    standard_name:  forecast_reference_time\n    long_name:      Forecast Start Time\n    pointwidth:     0\n    calendar:       360\n    gridtype:       0\n    units:          months since 1960-01-01"
       },
       "execution_count": 111,
       "metadata": {},
       "output_type": "execute_result"
      }
     ],
     "persistentId": "42bcb3b1-a805-4726-bd06-bf4b2174d1fb",
     "text": "dset.time"
    },
    "executionTime": "2019-12-08T21:32:38.493Z"
   },
   {
    "cell": {
     "executionCount": 112,
     "executionEventId": "cf8598b0-185b-4e1c-9259-a669c131e8d7",
     "hasError": false,
     "id": "c89151e9-7ef0-42b6-b5ca-9f8e46ce844d",
     "outputs": [],
     "persistentId": "21731d7d-5992-4351-8704-dc105edeb73b",
     "text": "origin = datetime(1960,1,1)"
    },
    "executionTime": "2019-12-08T21:32:38.523Z"
   },
   {
    "cell": {
     "executionCount": 113,
     "executionEventId": "c89c164b-2050-4f06-990d-51da9fb6c2f7",
     "hasError": false,
     "id": "830a0ae4-8b17-4239-afc7-1ea6a20c03de",
     "outputs": [],
     "persistentId": "dad41940-570b-4474-83f2-6d25dd8f85ab",
     "text": "dates = [origin + relativedelta.relativedelta(months=x) for x in dset.time]"
    },
    "executionTime": "2019-12-08T21:32:38.616Z"
   },
   {
    "cell": {
     "executionCount": 114,
     "executionEventId": "42cc9c1f-ffb4-4c74-90fc-471354d664a5",
     "hasError": false,
     "id": "8ed0279c-289d-48cf-abd6-2919695f63b6",
     "outputs": [],
     "persistentId": "3bbe3b71-40e2-4fcd-b0b1-4fa1bf9c29a0",
     "text": "dset['time'] = (('time'), dates)"
    },
    "executionTime": "2019-12-08T21:32:39.683Z"
   },
   {
    "cell": {
     "executionCount": 115,
     "executionEventId": "3d977d9a-8146-4abc-9d94-cf519906ab74",
     "hasError": false,
     "id": "2d816726-e23e-43df-ae7a-62930bb16d75",
     "outputs": [
      {
       "data": {
        "text/plain": "<xarray.DataArray 'time' ()>\narray('1981-01-01T00:00:00.000000000', dtype='datetime64[ns]')\nCoordinates:\n    time     datetime64[ns] 1981-01-01"
       },
       "execution_count": 115,
       "metadata": {},
       "output_type": "execute_result"
      }
     ],
     "persistentId": "469bf983-ea9e-42b9-83b9-4b2b22f9dd0c",
     "text": "dset.time[0]"
    },
    "executionTime": "2019-12-08T21:32:41.157Z"
   },
   {
    "cell": {
     "executionCount": 116,
     "executionEventId": "a5e8acaf-6386-4121-93a1-cffce3f86dfd",
     "hasError": false,
     "id": "7cf39346-9486-44e0-99d8-7d336fe30003",
     "outputs": [
      {
       "data": {
        "text/plain": "<xarray.DataArray 'time' ()>\narray('2010-12-01T00:00:00.000000000', dtype='datetime64[ns]')\nCoordinates:\n    time     datetime64[ns] 2010-12-01"
       },
       "execution_count": 116,
       "metadata": {},
       "output_type": "execute_result"
      }
     ],
     "persistentId": "b8c1f1f8-ae69-4286-b913-d2942148cbd0",
     "text": "dset.time[-1]"
    },
    "executionTime": "2019-12-08T21:32:42.194Z"
   },
   {
    "cell": {
     "executionCount": 117,
     "executionEventId": "d4f80e89-f57d-41e8-be34-435cbeb7da03",
     "hasError": false,
     "id": "fcd2878f-bc58-4efb-8bfb-c19e12cc6872",
     "outputs": [],
     "persistentId": "6b13cda8-a205-418d-8422-2be2c978a5bc",
     "text": "%matplotlib inline\nfrom matplotlib import pyplot as plt"
    },
    "executionTime": "2019-12-08T21:33:47.501Z"
   },
   {
    "cell": {
     "executionCount": 118,
     "executionEventId": "44e9504f-f8c0-474c-8de2-0bc792b4789e",
     "hasError": false,
     "id": "df7d41a1-77fe-4f5e-bd43-9eed367014e6",
     "outputs": [],
     "persistentId": "2b804bee-29e0-43c4-82e0-cd7cfff0a7f8",
     "text": "import os \nimport sys \nimport pathlib"
    },
    "executionTime": "2019-12-08T21:33:47.653Z"
   },
   {
    "cell": {
     "executionCount": 119,
     "executionEventId": "4e261f02-0d6d-47af-ad72-2afc29b3998e",
     "hasError": false,
     "id": "7c21e398-3b0f-4632-be0c-145bb2e74682",
     "outputs": [],
     "persistentId": "b1fcc1c6-275f-4735-a21f-8d904e4e90f8",
     "text": "from datetime import datetime, timedelta\nimport calendar\nfrom dateutil import relativedelta"
    },
    "executionTime": "2019-12-08T21:33:47.834Z"
   },
   {
    "cell": {
     "executionCount": 120,
     "executionEventId": "f5976004-ce8c-432e-ae7d-7031f28d44cf",
     "hasError": false,
     "id": "a9e47f53-1572-4cae-a249-6589a7488a08",
     "outputs": [],
     "persistentId": "8ed1015d-ec18-4776-9f17-c1a7379449af",
     "text": "import numpy as np \nimport pandas as pd \nimport xarray as xr"
    },
    "executionTime": "2019-12-08T21:33:48.029Z"
   },
   {
    "cell": {
     "executionCount": 121,
     "executionEventId": "a23e2183-de2b-4e8e-9718-16abc9436c9e",
     "hasError": false,
     "id": "ac78b6db-688b-4654-8e7a-f443b5524c9f",
     "outputs": [],
     "persistentId": "40159685-2082-4ab2-98f4-2a18922169f8",
     "text": "CWD = pathlib.Path.cwd()"
    },
    "executionTime": "2019-12-08T21:33:48.214Z"
   },
   {
    "cell": {
     "executionCount": 122,
     "executionEventId": "c266f0bf-5d14-47dc-b0bb-413923baa8a2",
     "hasError": false,
     "id": "fcea0eae-d5eb-461a-831e-c8040016e96a",
     "outputs": [],
     "persistentId": "89236a8a-41c1-413e-99d9-bca2d6e7d1c7",
     "text": "HOME = pathlib.Path.home()"
    },
    "executionTime": "2019-12-08T21:33:48.412Z"
   },
   {
    "cell": {
     "executionCount": 123,
     "executionEventId": "3a7edb91-9a61-416f-8971-eac3d1f3c609",
     "hasError": false,
     "id": "641d3c65-9b6d-439d-a774-5a3cae790c96",
     "outputs": [],
     "persistentId": "35ad2369-c83b-417e-996e-62c48076c6a6",
     "text": "opath = HOME / 'drives' / 'auck_projects' / 'END19101' / 'Working' / 'data' / 'hindcasts' / 'IRI' / 'CFSv2'"
    },
    "executionTime": "2019-12-08T21:33:48.576Z"
   },
   {
    "cell": {
     "executionCount": 124,
     "executionEventId": "9f32481f-fdb8-45fc-a4d3-287631c544ee",
     "hasError": false,
     "id": "4b031f0d-f28b-43e1-b61d-e1748ed9337d",
     "outputs": [],
     "persistentId": "c94adf01-9f08-414a-a6cf-2f95e1d87e4d",
     "text": "# GCM = 'CanCM4i'\nGCM = 'CMC2-CanCM4'"
    },
    "executionTime": "2019-12-08T21:33:48.782Z"
   },
   {
    "cell": {
     "executionCount": 125,
     "executionEventId": "95dd882a-0da7-44a3-a975-7ec43e63e94c",
     "hasError": false,
     "id": "fe541e42-279e-4df0-871e-9c49be9b89b6",
     "outputs": [],
     "persistentId": "ecfcb229-2f64-42e3-a9f2-51c274168a86",
     "text": "# data_stream = 'HINDCAST'\ndata_stream = 'FORECAST'"
    },
    "executionTime": "2019-12-08T21:33:48.958Z"
   },
   {
    "cell": {
     "executionCount": 126,
     "executionEventId": "998eaf63-e1a2-4160-bb7a-223266ce8e39",
     "hasError": false,
     "id": "b4a7f8fd-661e-400d-a580-f9e41c117f8f",
     "outputs": [],
     "persistentId": "62fbf95f-77b7-452b-b19e-29f91808f6a4",
     "text": "var = 'Z500'"
    },
    "executionTime": "2019-12-08T21:33:49.072Z"
   },
   {
    "cell": {
     "executionCount": 127,
     "executionEventId": "6355aa58-4e41-41a6-8ca4-8edb7472512c",
     "hasError": false,
     "id": "a1efbdff-30dc-4325-a900-108c81318bf3",
     "outputs": [],
     "persistentId": "2cb31216-ce80-407b-bf9b-cde343bbda9b",
     "text": "if var == 'Z500': \n    url = f'http://iridl.ldeo.columbia.edu/SOURCES/.Models/.NMME/.{GCM}/.{data_stream}/.MONTHLY/.hgt/dods'"
    },
    "executionTime": "2019-12-08T21:33:49.255Z"
   },
   {
    "cell": {
     "executionCount": 128,
     "executionEventId": "b208fc13-33dd-4bde-81d7-b17588582631",
     "hasError": false,
     "id": "c2921971-a198-408b-9bcf-771f06ee32ac",
     "outputs": [
      {
       "name": "stdout",
       "output_type": "stream",
       "text": "http://iridl.ldeo.columbia.edu/SOURCES/.Models/.NMME/.CMC2-CanCM4/.FORECAST/.MONTHLY/.hgt/dods\n"
      }
     ],
     "persistentId": "20b89f2c-35e8-4cad-9fc0-670e30585e3d",
     "text": "print(url)"
    },
    "executionTime": "2019-12-08T21:33:49.470Z"
   },
   {
    "cell": {
     "executionCount": 129,
     "executionEventId": "26ae743a-c953-4415-8556-2f0b4c14b3be",
     "hasError": false,
     "id": "fd586813-128e-402a-a110-3eec4ac5ca6b",
     "outputs": [],
     "persistentId": "71de8e43-efd7-497c-a8ee-4b804a77415d",
     "text": "dset = xr.open_dataset(url, decode_times=False)"
    },
    "executionTime": "2019-12-08T21:33:51.884Z"
   },
   {
    "cell": {
     "executionCount": 130,
     "executionEventId": "54cdf9fe-df71-4ad9-82d0-9959c50671c3",
     "hasError": false,
     "id": "00d9b65d-07e7-4ef2-ae01-1a31a51c87e2",
     "outputs": [],
     "persistentId": "50cddde5-d8d1-43fd-a1e0-044309dc3d30",
     "text": "dict_coords = {}\ndict_coords['L'] = 'step'\ndict_coords['M'] = 'member'\ndict_coords['S'] = 'time'\ndict_coords['X'] = 'lon'\ndict_coords['Y'] = 'lat'"
    },
    "executionTime": "2019-12-08T21:33:51.917Z"
   },
   {
    "cell": {
     "executionCount": 131,
     "executionEventId": "34a77eb2-c4a9-4e6f-841c-ffca059dffeb",
     "hasError": false,
     "id": "f49c26f7-b975-4585-a475-73b71a1c1f33",
     "outputs": [],
     "persistentId": "0314a5d4-348d-4320-aa6c-9dfea5306282",
     "text": "dset = dset.rename(dict_coords)"
    },
    "executionTime": "2019-12-08T21:33:51.939Z"
   },
   {
    "cell": {
     "executionCount": 132,
     "executionEventId": "c8d8587a-c3bd-468a-baec-314472d1291a",
     "hasError": false,
     "id": "4ddaaf9d-2b33-49c7-8128-306c85bde904",
     "outputs": [
      {
       "data": {
        "text/plain": "<xarray.DataArray 'time' (time: 78)>\narray([637., 638., 639., 640., 641., 642., 643., 644., 645., 646., 647., 648.,\n       649., 650., 651., 652., 653., 654., 655., 656., 657., 658., 659., 660.,\n       661., 662., 663., 664., 665., 666., 667., 668., 669., 670., 671., 672.,\n       673., 674., 675., 676., 677., 678., 679., 680., 681., 682., 683., 684.,\n       685., 686., 687., 688., 689., 690., 691., 692., 693., 694., 695., 696.,\n       697., 698., 699., 700., 701., 702., 703., 704., 705., 706., 707., 708.,\n       709., 710., 711., 712., 713., 714.], dtype=float32)\nCoordinates:\n  * time     (time) float32 637.0 638.0 639.0 640.0 ... 711.0 712.0 713.0 714.0\nAttributes:\n    defaultvalue:  714.0\n    pointwidth:    0\n    calendar:      360\n    gridtype:      0\n    units:         months since 1960-01-01"
       },
       "execution_count": 132,
       "metadata": {},
       "output_type": "execute_result"
      }
     ],
     "persistentId": "42bcb3b1-a805-4726-bd06-bf4b2174d1fb",
     "text": "dset.time"
    },
    "executionTime": "2019-12-08T21:33:52.387Z"
   },
   {
    "cell": {
     "executionCount": 133,
     "executionEventId": "ddfa41ee-6c5d-4439-aa03-797616594fc7",
     "hasError": false,
     "id": "c89151e9-7ef0-42b6-b5ca-9f8e46ce844d",
     "outputs": [],
     "persistentId": "21731d7d-5992-4351-8704-dc105edeb73b",
     "text": "origin = datetime(1960,1,1)"
    },
    "executionTime": "2019-12-08T21:33:53.982Z"
   },
   {
    "cell": {
     "executionCount": 134,
     "executionEventId": "0a5a43d4-94aa-49db-8d2e-0ce264f8fac2",
     "hasError": false,
     "id": "830a0ae4-8b17-4239-afc7-1ea6a20c03de",
     "outputs": [],
     "persistentId": "dad41940-570b-4474-83f2-6d25dd8f85ab",
     "text": "dates = [origin + relativedelta.relativedelta(months=x) for x in dset.time]"
    },
    "executionTime": "2019-12-08T21:33:54.235Z"
   },
   {
    "cell": {
     "executionCount": 135,
     "executionEventId": "13753afc-c8c1-4c9b-850b-15be5a84a2ba",
     "hasError": false,
     "id": "8ed0279c-289d-48cf-abd6-2919695f63b6",
     "outputs": [],
     "persistentId": "3bbe3b71-40e2-4fcd-b0b1-4fa1bf9c29a0",
     "text": "dset['time'] = (('time'), dates)"
    },
    "executionTime": "2019-12-08T21:33:54.501Z"
   },
   {
    "cell": {
     "executionCount": 136,
     "executionEventId": "6e077c2d-bf12-42da-9b64-e797eb2faecc",
     "hasError": false,
     "id": "2d816726-e23e-43df-ae7a-62930bb16d75",
     "outputs": [
      {
       "data": {
        "text/plain": "<xarray.DataArray 'time' ()>\narray('2013-02-01T00:00:00.000000000', dtype='datetime64[ns]')\nCoordinates:\n    time     datetime64[ns] 2013-02-01"
       },
       "execution_count": 136,
       "metadata": {},
       "output_type": "execute_result"
      }
     ],
     "persistentId": "469bf983-ea9e-42b9-83b9-4b2b22f9dd0c",
     "text": "dset.time[0]"
    },
    "executionTime": "2019-12-08T21:33:55.604Z"
   },
   {
    "cell": {
     "executionCount": 137,
     "executionEventId": "8ef6e900-43a8-49b7-a01c-7a40cbfbee2b",
     "hasError": false,
     "id": "7cf39346-9486-44e0-99d8-7d336fe30003",
     "outputs": [
      {
       "data": {
        "text/plain": "<xarray.DataArray 'time' ()>\narray('2019-07-01T00:00:00.000000000', dtype='datetime64[ns]')\nCoordinates:\n    time     datetime64[ns] 2019-07-01"
       },
       "execution_count": 137,
       "metadata": {},
       "output_type": "execute_result"
      }
     ],
     "persistentId": "b8c1f1f8-ae69-4286-b913-d2942148cbd0",
     "text": "dset.time[-1]"
    },
    "executionTime": "2019-12-08T21:34:30.181Z"
   },
   {
    "cell": {
     "executionCount": 138,
     "executionEventId": "ccb77ef3-d422-4fa2-bf76-5a4333d7750d",
     "hasError": false,
     "id": "4b031f0d-f28b-43e1-b61d-e1748ed9337d",
     "outputs": [],
     "persistentId": "c94adf01-9f08-414a-a6cf-2f95e1d87e4d",
     "text": "# GCM = 'CanCM4i'\n# GCM = 'CMC2-CanCM4'\nGCM = 'CMC2-CanCM3'"
    },
    "executionTime": "2019-12-08T21:35:29.321Z"
   },
   {
    "cell": {
     "executionCount": 139,
     "executionEventId": "ba63a14b-43d2-4753-b35b-732ad479af68",
     "hasError": false,
     "id": "fe541e42-279e-4df0-871e-9c49be9b89b6",
     "outputs": [],
     "persistentId": "ecfcb229-2f64-42e3-a9f2-51c274168a86",
     "text": "# data_stream = 'HINDCAST'\ndata_stream = 'FORECAST'"
    },
    "executionTime": "2019-12-08T21:35:29.925Z"
   },
   {
    "cell": {
     "executionCount": 140,
     "executionEventId": "bc355d7e-ee8c-4562-9cb2-78cea0c1cd3e",
     "hasError": false,
     "id": "b4a7f8fd-661e-400d-a580-f9e41c117f8f",
     "outputs": [],
     "persistentId": "62fbf95f-77b7-452b-b19e-29f91808f6a4",
     "text": "var = 'Z500'"
    },
    "executionTime": "2019-12-08T21:35:31.440Z"
   },
   {
    "cell": {
     "executionCount": 141,
     "executionEventId": "3562f4fe-99f9-46a7-a1b3-d27bf1f19113",
     "hasError": false,
     "id": "a1efbdff-30dc-4325-a900-108c81318bf3",
     "outputs": [],
     "persistentId": "2cb31216-ce80-407b-bf9b-cde343bbda9b",
     "text": "if var == 'Z500': \n    url = f'http://iridl.ldeo.columbia.edu/SOURCES/.Models/.NMME/.{GCM}/.{data_stream}/.MONTHLY/.hgt/dods'"
    },
    "executionTime": "2019-12-08T21:35:31.956Z"
   },
   {
    "cell": {
     "executionCount": 142,
     "executionEventId": "e95b6875-72ae-448f-bcad-1ac76c47820d",
     "hasError": false,
     "id": "c2921971-a198-408b-9bcf-771f06ee32ac",
     "outputs": [
      {
       "name": "stdout",
       "output_type": "stream",
       "text": "http://iridl.ldeo.columbia.edu/SOURCES/.Models/.NMME/.CMC2-CanCM3/.FORECAST/.MONTHLY/.hgt/dods\n"
      }
     ],
     "persistentId": "20b89f2c-35e8-4cad-9fc0-670e30585e3d",
     "text": "print(url)"
    },
    "executionTime": "2019-12-08T21:35:32.123Z"
   },
   {
    "cell": {
     "executionCount": 143,
     "executionEventId": "23a4e314-bc10-49de-976d-7116b46f3b08",
     "hasError": true,
     "id": "fd586813-128e-402a-a110-3eec4ac5ca6b",
     "outputs": [
      {
       "ename": "OSError",
       "evalue": "[Errno -90] NetCDF: file not found: b'http://iridl.ldeo.columbia.edu/SOURCES/.Models/.NMME/.CMC2-CanCM3/.FORECAST/.MONTHLY/.hgt/dods'",
       "output_type": "error",
       "traceback": [
        "\u001b[0;31m---------------------------------------------------------------------------\u001b[0m",
        "\u001b[0;31mKeyError\u001b[0m                                  Traceback (most recent call last)",
        "\u001b[0;32m~/anaconda3/envs/pangeo/lib/python3.7/site-packages/xarray/backends/file_manager.py\u001b[0m in \u001b[0;36m_acquire_with_cache_info\u001b[0;34m(self, needs_lock)\u001b[0m\n\u001b[1;32m    197\u001b[0m             \u001b[0;32mtry\u001b[0m\u001b[0;34m:\u001b[0m\u001b[0;34m\u001b[0m\u001b[0;34m\u001b[0m\u001b[0m\n\u001b[0;32m--> 198\u001b[0;31m                 \u001b[0mfile\u001b[0m \u001b[0;34m=\u001b[0m \u001b[0mself\u001b[0m\u001b[0;34m.\u001b[0m\u001b[0m_cache\u001b[0m\u001b[0;34m[\u001b[0m\u001b[0mself\u001b[0m\u001b[0;34m.\u001b[0m\u001b[0m_key\u001b[0m\u001b[0;34m]\u001b[0m\u001b[0;34m\u001b[0m\u001b[0;34m\u001b[0m\u001b[0m\n\u001b[0m\u001b[1;32m    199\u001b[0m             \u001b[0;32mexcept\u001b[0m \u001b[0mKeyError\u001b[0m\u001b[0;34m:\u001b[0m\u001b[0;34m\u001b[0m\u001b[0;34m\u001b[0m\u001b[0m\n",
        "\u001b[0;32m~/anaconda3/envs/pangeo/lib/python3.7/site-packages/xarray/backends/lru_cache.py\u001b[0m in \u001b[0;36m__getitem__\u001b[0;34m(self, key)\u001b[0m\n\u001b[1;32m     52\u001b[0m         \u001b[0;32mwith\u001b[0m \u001b[0mself\u001b[0m\u001b[0;34m.\u001b[0m\u001b[0m_lock\u001b[0m\u001b[0;34m:\u001b[0m\u001b[0;34m\u001b[0m\u001b[0;34m\u001b[0m\u001b[0m\n\u001b[0;32m---> 53\u001b[0;31m             \u001b[0mvalue\u001b[0m \u001b[0;34m=\u001b[0m \u001b[0mself\u001b[0m\u001b[0;34m.\u001b[0m\u001b[0m_cache\u001b[0m\u001b[0;34m[\u001b[0m\u001b[0mkey\u001b[0m\u001b[0;34m]\u001b[0m\u001b[0;34m\u001b[0m\u001b[0;34m\u001b[0m\u001b[0m\n\u001b[0m\u001b[1;32m     54\u001b[0m             \u001b[0mself\u001b[0m\u001b[0;34m.\u001b[0m\u001b[0m_cache\u001b[0m\u001b[0;34m.\u001b[0m\u001b[0mmove_to_end\u001b[0m\u001b[0;34m(\u001b[0m\u001b[0mkey\u001b[0m\u001b[0;34m)\u001b[0m\u001b[0;34m\u001b[0m\u001b[0;34m\u001b[0m\u001b[0m\n",
        "\u001b[0;31mKeyError\u001b[0m: [<class 'netCDF4._netCDF4.Dataset'>, ('http://iridl.ldeo.columbia.edu/SOURCES/.Models/.NMME/.CMC2-CanCM3/.FORECAST/.MONTHLY/.hgt/dods',), 'r', (('clobber', True), ('diskless', False), ('format', 'NETCDF4'), ('persist', False))]",
        "\nDuring handling of the above exception, another exception occurred:\n",
        "\u001b[0;31mOSError\u001b[0m                                   Traceback (most recent call last)",
        "\u001b[0;32m<ipython-input-143-288dc1187949>\u001b[0m in \u001b[0;36m<module>\u001b[0;34m\u001b[0m\n\u001b[0;32m----> 1\u001b[0;31m \u001b[0mdset\u001b[0m \u001b[0;34m=\u001b[0m \u001b[0mxr\u001b[0m\u001b[0;34m.\u001b[0m\u001b[0mopen_dataset\u001b[0m\u001b[0;34m(\u001b[0m\u001b[0murl\u001b[0m\u001b[0;34m,\u001b[0m \u001b[0mdecode_times\u001b[0m\u001b[0;34m=\u001b[0m\u001b[0;32mFalse\u001b[0m\u001b[0;34m)\u001b[0m\u001b[0;34m\u001b[0m\u001b[0;34m\u001b[0m\u001b[0m\n\u001b[0m",
        "\u001b[0;32m~/anaconda3/envs/pangeo/lib/python3.7/site-packages/xarray/backends/api.py\u001b[0m in \u001b[0;36mopen_dataset\u001b[0;34m(filename_or_obj, group, decode_cf, mask_and_scale, decode_times, autoclose, concat_characters, decode_coords, engine, chunks, lock, cache, drop_variables, backend_kwargs, use_cftime)\u001b[0m\n\u001b[1;32m    497\u001b[0m         \u001b[0;32mif\u001b[0m \u001b[0mengine\u001b[0m \u001b[0;34m==\u001b[0m \u001b[0;34m\"netcdf4\"\u001b[0m\u001b[0;34m:\u001b[0m\u001b[0;34m\u001b[0m\u001b[0;34m\u001b[0m\u001b[0m\n\u001b[1;32m    498\u001b[0m             store = backends.NetCDF4DataStore.open(\n\u001b[0;32m--> 499\u001b[0;31m                 \u001b[0mfilename_or_obj\u001b[0m\u001b[0;34m,\u001b[0m \u001b[0mgroup\u001b[0m\u001b[0;34m=\u001b[0m\u001b[0mgroup\u001b[0m\u001b[0;34m,\u001b[0m \u001b[0mlock\u001b[0m\u001b[0;34m=\u001b[0m\u001b[0mlock\u001b[0m\u001b[0;34m,\u001b[0m \u001b[0;34m**\u001b[0m\u001b[0mbackend_kwargs\u001b[0m\u001b[0;34m\u001b[0m\u001b[0;34m\u001b[0m\u001b[0m\n\u001b[0m\u001b[1;32m    500\u001b[0m             )\n\u001b[1;32m    501\u001b[0m         \u001b[0;32melif\u001b[0m \u001b[0mengine\u001b[0m \u001b[0;34m==\u001b[0m \u001b[0;34m\"scipy\"\u001b[0m\u001b[0;34m:\u001b[0m\u001b[0;34m\u001b[0m\u001b[0;34m\u001b[0m\u001b[0m\n",
        "\u001b[0;32m~/anaconda3/envs/pangeo/lib/python3.7/site-packages/xarray/backends/netCDF4_.py\u001b[0m in \u001b[0;36mopen\u001b[0;34m(cls, filename, mode, format, group, clobber, diskless, persist, lock, lock_maker, autoclose)\u001b[0m\n\u001b[1;32m    355\u001b[0m             \u001b[0mnetCDF4\u001b[0m\u001b[0;34m.\u001b[0m\u001b[0mDataset\u001b[0m\u001b[0;34m,\u001b[0m \u001b[0mfilename\u001b[0m\u001b[0;34m,\u001b[0m \u001b[0mmode\u001b[0m\u001b[0;34m=\u001b[0m\u001b[0mmode\u001b[0m\u001b[0;34m,\u001b[0m \u001b[0mkwargs\u001b[0m\u001b[0;34m=\u001b[0m\u001b[0mkwargs\u001b[0m\u001b[0;34m\u001b[0m\u001b[0;34m\u001b[0m\u001b[0m\n\u001b[1;32m    356\u001b[0m         )\n\u001b[0;32m--> 357\u001b[0;31m         \u001b[0;32mreturn\u001b[0m \u001b[0mcls\u001b[0m\u001b[0;34m(\u001b[0m\u001b[0mmanager\u001b[0m\u001b[0;34m,\u001b[0m \u001b[0mgroup\u001b[0m\u001b[0;34m=\u001b[0m\u001b[0mgroup\u001b[0m\u001b[0;34m,\u001b[0m \u001b[0mmode\u001b[0m\u001b[0;34m=\u001b[0m\u001b[0mmode\u001b[0m\u001b[0;34m,\u001b[0m \u001b[0mlock\u001b[0m\u001b[0;34m=\u001b[0m\u001b[0mlock\u001b[0m\u001b[0;34m,\u001b[0m \u001b[0mautoclose\u001b[0m\u001b[0;34m=\u001b[0m\u001b[0mautoclose\u001b[0m\u001b[0;34m)\u001b[0m\u001b[0;34m\u001b[0m\u001b[0;34m\u001b[0m\u001b[0m\n\u001b[0m\u001b[1;32m    358\u001b[0m \u001b[0;34m\u001b[0m\u001b[0m\n\u001b[1;32m    359\u001b[0m     \u001b[0;32mdef\u001b[0m \u001b[0m_acquire\u001b[0m\u001b[0;34m(\u001b[0m\u001b[0mself\u001b[0m\u001b[0;34m,\u001b[0m \u001b[0mneeds_lock\u001b[0m\u001b[0;34m=\u001b[0m\u001b[0;32mTrue\u001b[0m\u001b[0;34m)\u001b[0m\u001b[0;34m:\u001b[0m\u001b[0;34m\u001b[0m\u001b[0;34m\u001b[0m\u001b[0m\n",
        "\u001b[0;32m~/anaconda3/envs/pangeo/lib/python3.7/site-packages/xarray/backends/netCDF4_.py\u001b[0m in \u001b[0;36m__init__\u001b[0;34m(self, manager, group, mode, lock, autoclose)\u001b[0m\n\u001b[1;32m    311\u001b[0m         \u001b[0mself\u001b[0m\u001b[0;34m.\u001b[0m\u001b[0m_group\u001b[0m \u001b[0;34m=\u001b[0m \u001b[0mgroup\u001b[0m\u001b[0;34m\u001b[0m\u001b[0;34m\u001b[0m\u001b[0m\n\u001b[1;32m    312\u001b[0m         \u001b[0mself\u001b[0m\u001b[0;34m.\u001b[0m\u001b[0m_mode\u001b[0m \u001b[0;34m=\u001b[0m \u001b[0mmode\u001b[0m\u001b[0;34m\u001b[0m\u001b[0;34m\u001b[0m\u001b[0m\n\u001b[0;32m--> 313\u001b[0;31m         \u001b[0mself\u001b[0m\u001b[0;34m.\u001b[0m\u001b[0mformat\u001b[0m \u001b[0;34m=\u001b[0m \u001b[0mself\u001b[0m\u001b[0;34m.\u001b[0m\u001b[0mds\u001b[0m\u001b[0;34m.\u001b[0m\u001b[0mdata_model\u001b[0m\u001b[0;34m\u001b[0m\u001b[0;34m\u001b[0m\u001b[0m\n\u001b[0m\u001b[1;32m    314\u001b[0m         \u001b[0mself\u001b[0m\u001b[0;34m.\u001b[0m\u001b[0m_filename\u001b[0m \u001b[0;34m=\u001b[0m \u001b[0mself\u001b[0m\u001b[0;34m.\u001b[0m\u001b[0mds\u001b[0m\u001b[0;34m.\u001b[0m\u001b[0mfilepath\u001b[0m\u001b[0;34m(\u001b[0m\u001b[0;34m)\u001b[0m\u001b[0;34m\u001b[0m\u001b[0;34m\u001b[0m\u001b[0m\n\u001b[1;32m    315\u001b[0m         \u001b[0mself\u001b[0m\u001b[0;34m.\u001b[0m\u001b[0mis_remote\u001b[0m \u001b[0;34m=\u001b[0m \u001b[0mis_remote_uri\u001b[0m\u001b[0;34m(\u001b[0m\u001b[0mself\u001b[0m\u001b[0;34m.\u001b[0m\u001b[0m_filename\u001b[0m\u001b[0;34m)\u001b[0m\u001b[0;34m\u001b[0m\u001b[0;34m\u001b[0m\u001b[0m\n",
        "\u001b[0;32m~/anaconda3/envs/pangeo/lib/python3.7/site-packages/xarray/backends/netCDF4_.py\u001b[0m in \u001b[0;36mds\u001b[0;34m(self)\u001b[0m\n\u001b[1;32m    364\u001b[0m     \u001b[0;34m@\u001b[0m\u001b[0mproperty\u001b[0m\u001b[0;34m\u001b[0m\u001b[0;34m\u001b[0m\u001b[0m\n\u001b[1;32m    365\u001b[0m     \u001b[0;32mdef\u001b[0m \u001b[0mds\u001b[0m\u001b[0;34m(\u001b[0m\u001b[0mself\u001b[0m\u001b[0;34m)\u001b[0m\u001b[0;34m:\u001b[0m\u001b[0;34m\u001b[0m\u001b[0;34m\u001b[0m\u001b[0m\n\u001b[0;32m--> 366\u001b[0;31m         \u001b[0;32mreturn\u001b[0m \u001b[0mself\u001b[0m\u001b[0;34m.\u001b[0m\u001b[0m_acquire\u001b[0m\u001b[0;34m(\u001b[0m\u001b[0;34m)\u001b[0m\u001b[0;34m\u001b[0m\u001b[0;34m\u001b[0m\u001b[0m\n\u001b[0m\u001b[1;32m    367\u001b[0m \u001b[0;34m\u001b[0m\u001b[0m\n\u001b[1;32m    368\u001b[0m     \u001b[0;32mdef\u001b[0m \u001b[0mopen_store_variable\u001b[0m\u001b[0;34m(\u001b[0m\u001b[0mself\u001b[0m\u001b[0;34m,\u001b[0m \u001b[0mname\u001b[0m\u001b[0;34m,\u001b[0m \u001b[0mvar\u001b[0m\u001b[0;34m)\u001b[0m\u001b[0;34m:\u001b[0m\u001b[0;34m\u001b[0m\u001b[0;34m\u001b[0m\u001b[0m\n",
        "\u001b[0;32m~/anaconda3/envs/pangeo/lib/python3.7/site-packages/xarray/backends/netCDF4_.py\u001b[0m in \u001b[0;36m_acquire\u001b[0;34m(self, needs_lock)\u001b[0m\n\u001b[1;32m    358\u001b[0m \u001b[0;34m\u001b[0m\u001b[0m\n\u001b[1;32m    359\u001b[0m     \u001b[0;32mdef\u001b[0m \u001b[0m_acquire\u001b[0m\u001b[0;34m(\u001b[0m\u001b[0mself\u001b[0m\u001b[0;34m,\u001b[0m \u001b[0mneeds_lock\u001b[0m\u001b[0;34m=\u001b[0m\u001b[0;32mTrue\u001b[0m\u001b[0;34m)\u001b[0m\u001b[0;34m:\u001b[0m\u001b[0;34m\u001b[0m\u001b[0;34m\u001b[0m\u001b[0m\n\u001b[0;32m--> 360\u001b[0;31m         \u001b[0;32mwith\u001b[0m \u001b[0mself\u001b[0m\u001b[0;34m.\u001b[0m\u001b[0m_manager\u001b[0m\u001b[0;34m.\u001b[0m\u001b[0macquire_context\u001b[0m\u001b[0;34m(\u001b[0m\u001b[0mneeds_lock\u001b[0m\u001b[0;34m)\u001b[0m \u001b[0;32mas\u001b[0m \u001b[0mroot\u001b[0m\u001b[0;34m:\u001b[0m\u001b[0;34m\u001b[0m\u001b[0;34m\u001b[0m\u001b[0m\n\u001b[0m\u001b[1;32m    361\u001b[0m             \u001b[0mds\u001b[0m \u001b[0;34m=\u001b[0m \u001b[0m_nc4_require_group\u001b[0m\u001b[0;34m(\u001b[0m\u001b[0mroot\u001b[0m\u001b[0;34m,\u001b[0m \u001b[0mself\u001b[0m\u001b[0;34m.\u001b[0m\u001b[0m_group\u001b[0m\u001b[0;34m,\u001b[0m \u001b[0mself\u001b[0m\u001b[0;34m.\u001b[0m\u001b[0m_mode\u001b[0m\u001b[0;34m)\u001b[0m\u001b[0;34m\u001b[0m\u001b[0;34m\u001b[0m\u001b[0m\n\u001b[1;32m    362\u001b[0m         \u001b[0;32mreturn\u001b[0m \u001b[0mds\u001b[0m\u001b[0;34m\u001b[0m\u001b[0;34m\u001b[0m\u001b[0m\n",
        "\u001b[0;32m~/anaconda3/envs/pangeo/lib/python3.7/contextlib.py\u001b[0m in \u001b[0;36m__enter__\u001b[0;34m(self)\u001b[0m\n\u001b[1;32m    110\u001b[0m         \u001b[0;32mdel\u001b[0m \u001b[0mself\u001b[0m\u001b[0;34m.\u001b[0m\u001b[0margs\u001b[0m\u001b[0;34m,\u001b[0m \u001b[0mself\u001b[0m\u001b[0;34m.\u001b[0m\u001b[0mkwds\u001b[0m\u001b[0;34m,\u001b[0m \u001b[0mself\u001b[0m\u001b[0;34m.\u001b[0m\u001b[0mfunc\u001b[0m\u001b[0;34m\u001b[0m\u001b[0;34m\u001b[0m\u001b[0m\n\u001b[1;32m    111\u001b[0m         \u001b[0;32mtry\u001b[0m\u001b[0;34m:\u001b[0m\u001b[0;34m\u001b[0m\u001b[0;34m\u001b[0m\u001b[0m\n\u001b[0;32m--> 112\u001b[0;31m             \u001b[0;32mreturn\u001b[0m \u001b[0mnext\u001b[0m\u001b[0;34m(\u001b[0m\u001b[0mself\u001b[0m\u001b[0;34m.\u001b[0m\u001b[0mgen\u001b[0m\u001b[0;34m)\u001b[0m\u001b[0;34m\u001b[0m\u001b[0;34m\u001b[0m\u001b[0m\n\u001b[0m\u001b[1;32m    113\u001b[0m         \u001b[0;32mexcept\u001b[0m \u001b[0mStopIteration\u001b[0m\u001b[0;34m:\u001b[0m\u001b[0;34m\u001b[0m\u001b[0;34m\u001b[0m\u001b[0m\n\u001b[1;32m    114\u001b[0m             \u001b[0;32mraise\u001b[0m \u001b[0mRuntimeError\u001b[0m\u001b[0;34m(\u001b[0m\u001b[0;34m\"generator didn't yield\"\u001b[0m\u001b[0;34m)\u001b[0m \u001b[0;32mfrom\u001b[0m \u001b[0;32mNone\u001b[0m\u001b[0;34m\u001b[0m\u001b[0;34m\u001b[0m\u001b[0m\n",
        "\u001b[0;32m~/anaconda3/envs/pangeo/lib/python3.7/site-packages/xarray/backends/file_manager.py\u001b[0m in \u001b[0;36macquire_context\u001b[0;34m(self, needs_lock)\u001b[0m\n\u001b[1;32m    184\u001b[0m     \u001b[0;32mdef\u001b[0m \u001b[0macquire_context\u001b[0m\u001b[0;34m(\u001b[0m\u001b[0mself\u001b[0m\u001b[0;34m,\u001b[0m \u001b[0mneeds_lock\u001b[0m\u001b[0;34m=\u001b[0m\u001b[0;32mTrue\u001b[0m\u001b[0;34m)\u001b[0m\u001b[0;34m:\u001b[0m\u001b[0;34m\u001b[0m\u001b[0;34m\u001b[0m\u001b[0m\n\u001b[1;32m    185\u001b[0m         \u001b[0;34m\"\"\"Context manager for acquiring a file.\"\"\"\u001b[0m\u001b[0;34m\u001b[0m\u001b[0;34m\u001b[0m\u001b[0m\n\u001b[0;32m--> 186\u001b[0;31m         \u001b[0mfile\u001b[0m\u001b[0;34m,\u001b[0m \u001b[0mcached\u001b[0m \u001b[0;34m=\u001b[0m \u001b[0mself\u001b[0m\u001b[0;34m.\u001b[0m\u001b[0m_acquire_with_cache_info\u001b[0m\u001b[0;34m(\u001b[0m\u001b[0mneeds_lock\u001b[0m\u001b[0;34m)\u001b[0m\u001b[0;34m\u001b[0m\u001b[0;34m\u001b[0m\u001b[0m\n\u001b[0m\u001b[1;32m    187\u001b[0m         \u001b[0;32mtry\u001b[0m\u001b[0;34m:\u001b[0m\u001b[0;34m\u001b[0m\u001b[0;34m\u001b[0m\u001b[0m\n\u001b[1;32m    188\u001b[0m             \u001b[0;32myield\u001b[0m \u001b[0mfile\u001b[0m\u001b[0;34m\u001b[0m\u001b[0;34m\u001b[0m\u001b[0m\n",
        "\u001b[0;32m~/anaconda3/envs/pangeo/lib/python3.7/site-packages/xarray/backends/file_manager.py\u001b[0m in \u001b[0;36m_acquire_with_cache_info\u001b[0;34m(self, needs_lock)\u001b[0m\n\u001b[1;32m    202\u001b[0m                     \u001b[0mkwargs\u001b[0m \u001b[0;34m=\u001b[0m \u001b[0mkwargs\u001b[0m\u001b[0;34m.\u001b[0m\u001b[0mcopy\u001b[0m\u001b[0;34m(\u001b[0m\u001b[0;34m)\u001b[0m\u001b[0;34m\u001b[0m\u001b[0;34m\u001b[0m\u001b[0m\n\u001b[1;32m    203\u001b[0m                     \u001b[0mkwargs\u001b[0m\u001b[0;34m[\u001b[0m\u001b[0;34m\"mode\"\u001b[0m\u001b[0;34m]\u001b[0m \u001b[0;34m=\u001b[0m \u001b[0mself\u001b[0m\u001b[0;34m.\u001b[0m\u001b[0m_mode\u001b[0m\u001b[0;34m\u001b[0m\u001b[0;34m\u001b[0m\u001b[0m\n\u001b[0;32m--> 204\u001b[0;31m                 \u001b[0mfile\u001b[0m \u001b[0;34m=\u001b[0m \u001b[0mself\u001b[0m\u001b[0;34m.\u001b[0m\u001b[0m_opener\u001b[0m\u001b[0;34m(\u001b[0m\u001b[0;34m*\u001b[0m\u001b[0mself\u001b[0m\u001b[0;34m.\u001b[0m\u001b[0m_args\u001b[0m\u001b[0;34m,\u001b[0m \u001b[0;34m**\u001b[0m\u001b[0mkwargs\u001b[0m\u001b[0;34m)\u001b[0m\u001b[0;34m\u001b[0m\u001b[0;34m\u001b[0m\u001b[0m\n\u001b[0m\u001b[1;32m    205\u001b[0m                 \u001b[0;32mif\u001b[0m \u001b[0mself\u001b[0m\u001b[0;34m.\u001b[0m\u001b[0m_mode\u001b[0m \u001b[0;34m==\u001b[0m \u001b[0;34m\"w\"\u001b[0m\u001b[0;34m:\u001b[0m\u001b[0;34m\u001b[0m\u001b[0;34m\u001b[0m\u001b[0m\n\u001b[1;32m    206\u001b[0m                     \u001b[0;31m# ensure file doesn't get overriden when opened again\u001b[0m\u001b[0;34m\u001b[0m\u001b[0;34m\u001b[0m\u001b[0;34m\u001b[0m\u001b[0m\n",
        "\u001b[0;32mnetCDF4/_netCDF4.pyx\u001b[0m in \u001b[0;36mnetCDF4._netCDF4.Dataset.__init__\u001b[0;34m()\u001b[0m\n",
        "\u001b[0;32mnetCDF4/_netCDF4.pyx\u001b[0m in \u001b[0;36mnetCDF4._netCDF4._ensure_nc_success\u001b[0;34m()\u001b[0m\n",
        "\u001b[0;31mOSError\u001b[0m: [Errno -90] NetCDF: file not found: b'http://iridl.ldeo.columbia.edu/SOURCES/.Models/.NMME/.CMC2-CanCM3/.FORECAST/.MONTHLY/.hgt/dods'"
       ]
      }
     ],
     "persistentId": "71de8e43-efd7-497c-a8ee-4b804a77415d",
     "text": "dset = xr.open_dataset(url, decode_times=False)"
    },
    "executionTime": "2019-12-08T21:35:33.124Z"
   },
   {
    "cell": {
     "executionCount": 144,
     "executionEventId": "498c9796-ad19-4b0d-a904-b0b5a56a37f1",
     "hasError": false,
     "id": "4b031f0d-f28b-43e1-b61d-e1748ed9337d",
     "outputs": [],
     "persistentId": "c94adf01-9f08-414a-a6cf-2f95e1d87e4d",
     "text": "# GCM = 'CanCM4i'\n# GCM = 'CMC2-CanCM4'\nGCM = 'CMC1-CanCM3'"
    },
    "executionTime": "2019-12-08T21:36:11.109Z"
   },
   {
    "cell": {
     "executionCount": 145,
     "executionEventId": "6367cd97-77ed-4e44-8ef2-8cbfa68e5db1",
     "hasError": false,
     "id": "fe541e42-279e-4df0-871e-9c49be9b89b6",
     "outputs": [],
     "persistentId": "ecfcb229-2f64-42e3-a9f2-51c274168a86",
     "text": "# data_stream = 'HINDCAST'\ndata_stream = 'FORECAST'"
    },
    "executionTime": "2019-12-08T21:36:11.209Z"
   },
   {
    "cell": {
     "executionCount": 146,
     "executionEventId": "2ffcd592-36e4-48d7-96bd-4449d4f24744",
     "hasError": false,
     "id": "b4a7f8fd-661e-400d-a580-f9e41c117f8f",
     "outputs": [],
     "persistentId": "62fbf95f-77b7-452b-b19e-29f91808f6a4",
     "text": "var = 'Z500'"
    },
    "executionTime": "2019-12-08T21:36:11.369Z"
   },
   {
    "cell": {
     "executionCount": 147,
     "executionEventId": "e21529e7-b5c1-4560-9eed-38b4c30d7f19",
     "hasError": false,
     "id": "a1efbdff-30dc-4325-a900-108c81318bf3",
     "outputs": [],
     "persistentId": "2cb31216-ce80-407b-bf9b-cde343bbda9b",
     "text": "if var == 'Z500': \n    url = f'http://iridl.ldeo.columbia.edu/SOURCES/.Models/.NMME/.{GCM}/.{data_stream}/.MONTHLY/.hgt/dods'"
    },
    "executionTime": "2019-12-08T21:36:11.524Z"
   },
   {
    "cell": {
     "executionCount": 148,
     "executionEventId": "cbc9326a-c73c-428b-ae0b-a287af219392",
     "hasError": false,
     "id": "c2921971-a198-408b-9bcf-771f06ee32ac",
     "outputs": [
      {
       "name": "stdout",
       "output_type": "stream",
       "text": "http://iridl.ldeo.columbia.edu/SOURCES/.Models/.NMME/.CMC1-CanCM3/.FORECAST/.MONTHLY/.hgt/dods\n"
      }
     ],
     "persistentId": "20b89f2c-35e8-4cad-9fc0-670e30585e3d",
     "text": "print(url)"
    },
    "executionTime": "2019-12-08T21:36:11.674Z"
   },
   {
    "cell": {
     "executionCount": 149,
     "executionEventId": "49b6e331-036f-47a3-96a7-b6551bf0c335",
     "hasError": false,
     "id": "fd586813-128e-402a-a110-3eec4ac5ca6b",
     "outputs": [],
     "persistentId": "71de8e43-efd7-497c-a8ee-4b804a77415d",
     "text": "dset = xr.open_dataset(url, decode_times=False)"
    },
    "executionTime": "2019-12-08T21:36:14.077Z"
   },
   {
    "cell": {
     "executionCount": 150,
     "executionEventId": "10a80da8-75ca-4115-837e-b0672840c4c3",
     "hasError": false,
     "id": "00d9b65d-07e7-4ef2-ae01-1a31a51c87e2",
     "outputs": [],
     "persistentId": "50cddde5-d8d1-43fd-a1e0-044309dc3d30",
     "text": "dict_coords = {}\ndict_coords['L'] = 'step'\ndict_coords['M'] = 'member'\ndict_coords['S'] = 'time'\ndict_coords['X'] = 'lon'\ndict_coords['Y'] = 'lat'"
    },
    "executionTime": "2019-12-08T21:36:14.133Z"
   },
   {
    "cell": {
     "executionCount": 151,
     "executionEventId": "c9532907-1b85-4479-b701-6a9739c4925b",
     "hasError": false,
     "id": "f49c26f7-b975-4585-a475-73b71a1c1f33",
     "outputs": [],
     "persistentId": "0314a5d4-348d-4320-aa6c-9dfea5306282",
     "text": "dset = dset.rename(dict_coords)"
    },
    "executionTime": "2019-12-08T21:36:14.147Z"
   },
   {
    "cell": {
     "executionCount": 152,
     "executionEventId": "5dcf3494-cd72-4f98-92f9-f5bdda4f2181",
     "hasError": false,
     "id": "4ddaaf9d-2b33-49c7-8128-306c85bde904",
     "outputs": [
      {
       "data": {
        "text/plain": "<xarray.DataArray 'time' (time: 78)>\narray([637., 638., 639., 640., 641., 642., 643., 644., 645., 646., 647., 648.,\n       649., 650., 651., 652., 653., 654., 655., 656., 657., 658., 659., 660.,\n       661., 662., 663., 664., 665., 666., 667., 668., 669., 670., 671., 672.,\n       673., 674., 675., 676., 677., 678., 679., 680., 681., 682., 683., 684.,\n       685., 686., 687., 688., 689., 690., 691., 692., 693., 694., 695., 696.,\n       697., 698., 699., 700., 701., 702., 703., 704., 705., 706., 707., 708.,\n       709., 710., 711., 712., 713., 714.], dtype=float32)\nCoordinates:\n  * time     (time) float32 637.0 638.0 639.0 640.0 ... 711.0 712.0 713.0 714.0\nAttributes:\n    defaultvalue:  714.0\n    pointwidth:    0\n    calendar:      360\n    gridtype:      0\n    units:         months since 1960-01-01"
       },
       "execution_count": 152,
       "metadata": {},
       "output_type": "execute_result"
      }
     ],
     "persistentId": "42bcb3b1-a805-4726-bd06-bf4b2174d1fb",
     "text": "dset.time"
    },
    "executionTime": "2019-12-08T21:36:14.154Z"
   },
   {
    "cell": {
     "executionCount": 153,
     "executionEventId": "6d9911fb-3530-444a-9f4e-314d791e21d3",
     "hasError": false,
     "id": "c89151e9-7ef0-42b6-b5ca-9f8e46ce844d",
     "outputs": [],
     "persistentId": "21731d7d-5992-4351-8704-dc105edeb73b",
     "text": "origin = datetime(1960,1,1)"
    },
    "executionTime": "2019-12-08T21:36:14.185Z"
   },
   {
    "cell": {
     "executionCount": 154,
     "executionEventId": "7b152f9b-f790-455e-a02b-2aa06670667b",
     "hasError": false,
     "id": "830a0ae4-8b17-4239-afc7-1ea6a20c03de",
     "outputs": [],
     "persistentId": "dad41940-570b-4474-83f2-6d25dd8f85ab",
     "text": "dates = [origin + relativedelta.relativedelta(months=x) for x in dset.time]"
    },
    "executionTime": "2019-12-08T21:36:14.205Z"
   },
   {
    "cell": {
     "executionCount": 155,
     "executionEventId": "94d14064-4ea7-43e4-801e-c4ef01cc3e1e",
     "hasError": false,
     "id": "8ed0279c-289d-48cf-abd6-2919695f63b6",
     "outputs": [],
     "persistentId": "3bbe3b71-40e2-4fcd-b0b1-4fa1bf9c29a0",
     "text": "dset['time'] = (('time'), dates)"
    },
    "executionTime": "2019-12-08T21:36:14.701Z"
   },
   {
    "cell": {
     "executionCount": 156,
     "executionEventId": "598f44a1-f033-4db4-aae7-0f11dd83af4c",
     "hasError": false,
     "id": "2d816726-e23e-43df-ae7a-62930bb16d75",
     "outputs": [
      {
       "data": {
        "text/plain": "<xarray.DataArray 'time' ()>\narray('2013-02-01T00:00:00.000000000', dtype='datetime64[ns]')\nCoordinates:\n    time     datetime64[ns] 2013-02-01"
       },
       "execution_count": 156,
       "metadata": {},
       "output_type": "execute_result"
      }
     ],
     "persistentId": "469bf983-ea9e-42b9-83b9-4b2b22f9dd0c",
     "text": "dset.time[0]"
    },
    "executionTime": "2019-12-08T21:36:14.880Z"
   },
   {
    "cell": {
     "executionCount": 157,
     "executionEventId": "befbee99-c6b8-4a6c-8438-4d50c8955f1f",
     "hasError": false,
     "id": "7cf39346-9486-44e0-99d8-7d336fe30003",
     "outputs": [
      {
       "data": {
        "text/plain": "<xarray.DataArray 'time' ()>\narray('2019-07-01T00:00:00.000000000', dtype='datetime64[ns]')\nCoordinates:\n    time     datetime64[ns] 2019-07-01"
       },
       "execution_count": 157,
       "metadata": {},
       "output_type": "execute_result"
      }
     ],
     "persistentId": "b8c1f1f8-ae69-4286-b913-d2942148cbd0",
     "text": "dset.time[-1]"
    },
    "executionTime": "2019-12-08T21:36:15.624Z"
   },
   {
    "cell": {
     "executionCount": 158,
     "executionEventId": "f260873f-3c9f-4dd9-845a-5ffbcd151dfd",
     "hasError": false,
     "id": "4b031f0d-f28b-43e1-b61d-e1748ed9337d",
     "outputs": [],
     "persistentId": "c94adf01-9f08-414a-a6cf-2f95e1d87e4d",
     "text": "# GCM = 'CanCM4i'\n# GCM = 'CMC2-CanCM4'\n# GCM = 'CMC1-CanCM3'\nGCM = 'GEM-NEMO'"
    },
    "executionTime": "2019-12-08T21:37:28.585Z"
   },
   {
    "cell": {
     "executionCount": 159,
     "executionEventId": "ea8fc77b-3646-4438-b73e-9824da177227",
     "hasError": false,
     "id": "fe541e42-279e-4df0-871e-9c49be9b89b6",
     "outputs": [],
     "persistentId": "ecfcb229-2f64-42e3-a9f2-51c274168a86",
     "text": "# data_stream = 'HINDCAST'\ndata_stream = 'FORECAST'"
    },
    "executionTime": "2019-12-08T21:37:28.722Z"
   },
   {
    "cell": {
     "executionCount": 160,
     "executionEventId": "2d0ad31d-9ea2-4e17-bb63-eda8631344f8",
     "hasError": false,
     "id": "b4a7f8fd-661e-400d-a580-f9e41c117f8f",
     "outputs": [],
     "persistentId": "62fbf95f-77b7-452b-b19e-29f91808f6a4",
     "text": "var = 'Z500'"
    },
    "executionTime": "2019-12-08T21:37:30.667Z"
   },
   {
    "cell": {
     "executionCount": 161,
     "executionEventId": "ba543cd5-d554-498e-80b4-b6b97672457c",
     "hasError": false,
     "id": "a1efbdff-30dc-4325-a900-108c81318bf3",
     "outputs": [],
     "persistentId": "2cb31216-ce80-407b-bf9b-cde343bbda9b",
     "text": "if var == 'Z500': \n    url = f'http://iridl.ldeo.columbia.edu/SOURCES/.Models/.NMME/.{GCM}/.{data_stream}/.MONTHLY/.hgt/dods'"
    },
    "executionTime": "2019-12-08T21:37:31.476Z"
   },
   {
    "cell": {
     "executionCount": 162,
     "executionEventId": "f9dd6bd5-fb2c-4e5b-95ac-4054a760863e",
     "hasError": false,
     "id": "c2921971-a198-408b-9bcf-771f06ee32ac",
     "outputs": [
      {
       "name": "stdout",
       "output_type": "stream",
       "text": "http://iridl.ldeo.columbia.edu/SOURCES/.Models/.NMME/.GEM-NEMO/.FORECAST/.MONTHLY/.hgt/dods\n"
      }
     ],
     "persistentId": "20b89f2c-35e8-4cad-9fc0-670e30585e3d",
     "text": "print(url)"
    },
    "executionTime": "2019-12-08T21:37:31.832Z"
   },
   {
    "cell": {
     "executionCount": 163,
     "executionEventId": "a224c33a-59b2-42af-90cf-0a49c38db500",
     "hasError": false,
     "id": "fd586813-128e-402a-a110-3eec4ac5ca6b",
     "outputs": [],
     "persistentId": "71de8e43-efd7-497c-a8ee-4b804a77415d",
     "text": "dset = xr.open_dataset(url, decode_times=False)"
    },
    "executionTime": "2019-12-08T21:37:34.386Z"
   },
   {
    "cell": {
     "executionCount": 164,
     "executionEventId": "6ce360a6-f9d1-4af8-8f8b-c5db00044079",
     "hasError": false,
     "id": "00d9b65d-07e7-4ef2-ae01-1a31a51c87e2",
     "outputs": [],
     "persistentId": "50cddde5-d8d1-43fd-a1e0-044309dc3d30",
     "text": "dict_coords = {}\ndict_coords['L'] = 'step'\ndict_coords['M'] = 'member'\ndict_coords['S'] = 'time'\ndict_coords['X'] = 'lon'\ndict_coords['Y'] = 'lat'"
    },
    "executionTime": "2019-12-08T21:37:35.250Z"
   },
   {
    "cell": {
     "executionCount": 165,
     "executionEventId": "629bd19d-b280-4679-8101-83379be8a7cc",
     "hasError": false,
     "id": "f49c26f7-b975-4585-a475-73b71a1c1f33",
     "outputs": [],
     "persistentId": "0314a5d4-348d-4320-aa6c-9dfea5306282",
     "text": "dset = dset.rename(dict_coords)"
    },
    "executionTime": "2019-12-08T21:37:35.685Z"
   },
   {
    "cell": {
     "executionCount": 166,
     "executionEventId": "042a1d36-c1c3-439f-b34d-3edd5094e16f",
     "hasError": false,
     "id": "4ddaaf9d-2b33-49c7-8128-306c85bde904",
     "outputs": [
      {
       "data": {
        "text/plain": "<xarray.DataArray 'time' (time: 5)>\narray([715., 716., 717., 718., 719.], dtype=float32)\nCoordinates:\n  * time     (time) float32 715.0 716.0 717.0 718.0 719.0\nAttributes:\n    expires:        1577862000\n    standard_name:  forecast_reference_time\n    long_name:      Forecast Start Time\n    pointwidth:     0\n    calendar:       360\n    defaultvalue:   719.0\n    gridtype:       0\n    units:          months since 1960-01-01"
       },
       "execution_count": 166,
       "metadata": {},
       "output_type": "execute_result"
      }
     ],
     "persistentId": "42bcb3b1-a805-4726-bd06-bf4b2174d1fb",
     "text": "dset.time"
    },
    "executionTime": "2019-12-08T21:37:35.856Z"
   },
   {
    "cell": {
     "executionCount": 167,
     "executionEventId": "39963eec-46dc-451e-9f53-1f49aba8a023",
     "hasError": false,
     "id": "c89151e9-7ef0-42b6-b5ca-9f8e46ce844d",
     "outputs": [],
     "persistentId": "21731d7d-5992-4351-8704-dc105edeb73b",
     "text": "origin = datetime(1960,1,1)"
    },
    "executionTime": "2019-12-08T21:37:36.820Z"
   },
   {
    "cell": {
     "executionCount": 168,
     "executionEventId": "41d41548-50ab-4675-bb17-3c95ba290bcb",
     "hasError": false,
     "id": "830a0ae4-8b17-4239-afc7-1ea6a20c03de",
     "outputs": [],
     "persistentId": "dad41940-570b-4474-83f2-6d25dd8f85ab",
     "text": "dates = [origin + relativedelta.relativedelta(months=x) for x in dset.time]"
    },
    "executionTime": "2019-12-08T21:37:37.061Z"
   },
   {
    "cell": {
     "executionCount": 169,
     "executionEventId": "0956e77d-85bf-439a-88ce-99d1093765e5",
     "hasError": false,
     "id": "8ed0279c-289d-48cf-abd6-2919695f63b6",
     "outputs": [],
     "persistentId": "3bbe3b71-40e2-4fcd-b0b1-4fa1bf9c29a0",
     "text": "dset['time'] = (('time'), dates)"
    },
    "executionTime": "2019-12-08T21:37:37.576Z"
   },
   {
    "cell": {
     "executionCount": 170,
     "executionEventId": "5e4c53dc-45c0-4f64-ba02-a63567be794e",
     "hasError": false,
     "id": "2d816726-e23e-43df-ae7a-62930bb16d75",
     "outputs": [
      {
       "data": {
        "text/plain": "<xarray.DataArray 'time' ()>\narray('2019-08-01T00:00:00.000000000', dtype='datetime64[ns]')\nCoordinates:\n    time     datetime64[ns] 2019-08-01"
       },
       "execution_count": 170,
       "metadata": {},
       "output_type": "execute_result"
      }
     ],
     "persistentId": "469bf983-ea9e-42b9-83b9-4b2b22f9dd0c",
     "text": "dset.time[0]"
    },
    "executionTime": "2019-12-08T21:37:38.356Z"
   },
   {
    "cell": {
     "executionCount": 171,
     "executionEventId": "9f142615-3251-45fb-8093-7b96a8cf9011",
     "hasError": false,
     "id": "7cf39346-9486-44e0-99d8-7d336fe30003",
     "outputs": [
      {
       "data": {
        "text/plain": "<xarray.DataArray 'time' ()>\narray('2019-12-01T00:00:00.000000000', dtype='datetime64[ns]')\nCoordinates:\n    time     datetime64[ns] 2019-12-01"
       },
       "execution_count": 171,
       "metadata": {},
       "output_type": "execute_result"
      }
     ],
     "persistentId": "b8c1f1f8-ae69-4286-b913-d2942148cbd0",
     "text": "dset.time[-1]"
    },
    "executionTime": "2019-12-08T21:37:40.152Z"
   },
   {
    "cell": {
     "executionCount": 172,
     "executionEventId": "86384143-ff79-467f-b0a5-d052a6f8c69a",
     "hasError": false,
     "id": "4b031f0d-f28b-43e1-b61d-e1748ed9337d",
     "outputs": [],
     "persistentId": "c94adf01-9f08-414a-a6cf-2f95e1d87e4d",
     "text": "# GCM = 'CanCM4i'\n# GCM = 'CMC2-CanCM4'\n# GCM = 'CMC1-CanCM3'\nGCM = 'GEM-NEMO'"
    },
    "executionTime": "2019-12-08T21:38:36.573Z"
   },
   {
    "cell": {
     "executionCount": 173,
     "executionEventId": "1d1151c0-bac3-4a97-9ee2-a4c61e755649",
     "hasError": false,
     "id": "fe541e42-279e-4df0-871e-9c49be9b89b6",
     "outputs": [],
     "persistentId": "ecfcb229-2f64-42e3-a9f2-51c274168a86",
     "text": "data_stream = 'HINDCAST'\n# data_stream = 'FORECAST'"
    },
    "executionTime": "2019-12-08T21:38:36.716Z"
   },
   {
    "cell": {
     "executionCount": 174,
     "executionEventId": "23532db8-3edf-4368-b176-35dadbaffb68",
     "hasError": false,
     "id": "b4a7f8fd-661e-400d-a580-f9e41c117f8f",
     "outputs": [],
     "persistentId": "62fbf95f-77b7-452b-b19e-29f91808f6a4",
     "text": "var = 'Z500'"
    },
    "executionTime": "2019-12-08T21:38:37.000Z"
   },
   {
    "cell": {
     "executionCount": 175,
     "executionEventId": "6371b501-18c7-4067-b67b-9582db6d082d",
     "hasError": false,
     "id": "a1efbdff-30dc-4325-a900-108c81318bf3",
     "outputs": [],
     "persistentId": "2cb31216-ce80-407b-bf9b-cde343bbda9b",
     "text": "if var == 'Z500': \n    url = f'http://iridl.ldeo.columbia.edu/SOURCES/.Models/.NMME/.{GCM}/.{data_stream}/.MONTHLY/.hgt/dods'"
    },
    "executionTime": "2019-12-08T21:38:37.491Z"
   },
   {
    "cell": {
     "executionCount": 176,
     "executionEventId": "b224c07e-f797-4d3c-b10b-f3d73293b4ae",
     "hasError": false,
     "id": "c2921971-a198-408b-9bcf-771f06ee32ac",
     "outputs": [
      {
       "name": "stdout",
       "output_type": "stream",
       "text": "http://iridl.ldeo.columbia.edu/SOURCES/.Models/.NMME/.GEM-NEMO/.HINDCAST/.MONTHLY/.hgt/dods\n"
      }
     ],
     "persistentId": "20b89f2c-35e8-4cad-9fc0-670e30585e3d",
     "text": "print(url)"
    },
    "executionTime": "2019-12-08T21:38:37.720Z"
   },
   {
    "cell": {
     "executionCount": 177,
     "executionEventId": "8bc947ed-f09a-4dbb-a0f3-ee0df8536cba",
     "hasError": false,
     "id": "fd586813-128e-402a-a110-3eec4ac5ca6b",
     "outputs": [],
     "persistentId": "71de8e43-efd7-497c-a8ee-4b804a77415d",
     "text": "dset = xr.open_dataset(url, decode_times=False)"
    },
    "executionTime": "2019-12-08T21:38:39.807Z"
   },
   {
    "cell": {
     "executionCount": 178,
     "executionEventId": "7f447849-899b-4bb7-b6c1-e98f509f39d7",
     "hasError": false,
     "id": "00d9b65d-07e7-4ef2-ae01-1a31a51c87e2",
     "outputs": [],
     "persistentId": "50cddde5-d8d1-43fd-a1e0-044309dc3d30",
     "text": "dict_coords = {}\ndict_coords['L'] = 'step'\ndict_coords['M'] = 'member'\ndict_coords['S'] = 'time'\ndict_coords['X'] = 'lon'\ndict_coords['Y'] = 'lat'"
    },
    "executionTime": "2019-12-08T21:38:39.820Z"
   },
   {
    "cell": {
     "executionCount": 179,
     "executionEventId": "4f9f9097-4bf6-4722-9b15-985231ff638b",
     "hasError": false,
     "id": "f49c26f7-b975-4585-a475-73b71a1c1f33",
     "outputs": [],
     "persistentId": "0314a5d4-348d-4320-aa6c-9dfea5306282",
     "text": "dset = dset.rename(dict_coords)"
    },
    "executionTime": "2019-12-08T21:38:39.834Z"
   },
   {
    "cell": {
     "executionCount": 180,
     "executionEventId": "2ab8e142-94f2-4c2b-9f18-11489566e75f",
     "hasError": false,
     "id": "4ddaaf9d-2b33-49c7-8128-306c85bde904",
     "outputs": [
      {
       "data": {
        "text/plain": "<xarray.DataArray 'time' (time: 456)>\narray([252., 253., 254., ..., 705., 706., 707.], dtype=float32)\nCoordinates:\n  * time     (time) float32 252.0 253.0 254.0 255.0 ... 704.0 705.0 706.0 707.0\nAttributes:\n    standard_name:  forecast_reference_time\n    long_name:      Forecast Start Time\n    pointwidth:     0\n    calendar:       360\n    gridtype:       0\n    units:          months since 1960-01-01"
       },
       "execution_count": 180,
       "metadata": {},
       "output_type": "execute_result"
      }
     ],
     "persistentId": "42bcb3b1-a805-4726-bd06-bf4b2174d1fb",
     "text": "dset.time"
    },
    "executionTime": "2019-12-08T21:38:39.971Z"
   },
   {
    "cell": {
     "executionCount": 181,
     "executionEventId": "08b0bd4c-c1ba-4ef0-a211-5b5c74c2ac8a",
     "hasError": false,
     "id": "c89151e9-7ef0-42b6-b5ca-9f8e46ce844d",
     "outputs": [],
     "persistentId": "21731d7d-5992-4351-8704-dc105edeb73b",
     "text": "origin = datetime(1960,1,1)"
    },
    "executionTime": "2019-12-08T21:38:40.922Z"
   },
   {
    "cell": {
     "executionCount": 182,
     "executionEventId": "c006d971-e67c-40ab-9370-0e8e1f048537",
     "hasError": false,
     "id": "830a0ae4-8b17-4239-afc7-1ea6a20c03de",
     "outputs": [],
     "persistentId": "dad41940-570b-4474-83f2-6d25dd8f85ab",
     "text": "dates = [origin + relativedelta.relativedelta(months=x) for x in dset.time]"
    },
    "executionTime": "2019-12-08T21:38:41.496Z"
   },
   {
    "cell": {
     "executionCount": 183,
     "executionEventId": "9f1c30b9-86dd-4360-bcda-bcc3ba994d5d",
     "hasError": false,
     "id": "8ed0279c-289d-48cf-abd6-2919695f63b6",
     "outputs": [],
     "persistentId": "3bbe3b71-40e2-4fcd-b0b1-4fa1bf9c29a0",
     "text": "dset['time'] = (('time'), dates)"
    },
    "executionTime": "2019-12-08T21:38:41.966Z"
   },
   {
    "cell": {
     "executionCount": 184,
     "executionEventId": "edc55daa-425b-418d-b8cd-8c1a1bfd7e0f",
     "hasError": false,
     "id": "2d816726-e23e-43df-ae7a-62930bb16d75",
     "outputs": [
      {
       "data": {
        "text/plain": "<xarray.DataArray 'time' ()>\narray('1981-01-01T00:00:00.000000000', dtype='datetime64[ns]')\nCoordinates:\n    time     datetime64[ns] 1981-01-01"
       },
       "execution_count": 184,
       "metadata": {},
       "output_type": "execute_result"
      }
     ],
     "persistentId": "469bf983-ea9e-42b9-83b9-4b2b22f9dd0c",
     "text": "dset.time[0]"
    },
    "executionTime": "2019-12-08T21:38:42.556Z"
   },
   {
    "cell": {
     "executionCount": 185,
     "executionEventId": "d9dfc002-8d2e-4ebd-be53-28fec35c8929",
     "hasError": false,
     "id": "7cf39346-9486-44e0-99d8-7d336fe30003",
     "outputs": [
      {
       "data": {
        "text/plain": "<xarray.DataArray 'time' ()>\narray('2018-12-01T00:00:00.000000000', dtype='datetime64[ns]')\nCoordinates:\n    time     datetime64[ns] 2018-12-01"
       },
       "execution_count": 185,
       "metadata": {},
       "output_type": "execute_result"
      }
     ],
     "persistentId": "b8c1f1f8-ae69-4286-b913-d2942148cbd0",
     "text": "dset.time[-1]"
    },
    "executionTime": "2019-12-08T21:38:43.390Z"
   },
   {
    "cell": {
     "executionCount": 186,
     "executionEventId": "9bf119a2-98ed-442d-ab43-a1253c1d1697",
     "hasError": false,
     "id": "2b13881d-e6d9-4df8-b508-122e88cc09c4",
     "outputs": [
      {
       "data": {
        "text/plain": "<xarray.Dataset>\nDimensions:  (P2: 2, lat: 181, lon: 360, member: 10, step: 12, time: 456)\nCoordinates:\n  * time     (time) datetime64[ns] 1981-01-01 1981-02-01 ... 2018-12-01\n  * lon      (lon) float32 0.0 1.0 2.0 3.0 4.0 ... 355.0 356.0 357.0 358.0 359.0\n  * step     (step) float32 0.5 1.5 2.5 3.5 4.5 5.5 6.5 7.5 8.5 9.5 10.5 11.5\n  * lat      (lat) float32 -90.0 -89.0 -88.0 -87.0 -86.0 ... 87.0 88.0 89.0 90.0\n  * P2       (P2) int32 500 200\n  * member   (member) float32 1.0 2.0 3.0 4.0 5.0 6.0 7.0 8.0 9.0 10.0\nData variables:\n    hgt      (time, P2, member, step, lat, lon) float32 ...\nAttributes:\n    Conventions:  IRIDL"
       },
       "execution_count": 186,
       "metadata": {},
       "output_type": "execute_result"
      }
     ],
     "persistentId": "a915c0d0-a652-4a12-a9e0-29f4a52e5011",
     "text": "dset"
    },
    "executionTime": "2019-12-08T21:38:55.141Z"
   },
   {
    "cell": {
     "executionCount": 187,
     "executionEventId": "4f290242-c51f-4d5a-90a9-4f8d6acf62d0",
     "hasError": false,
     "id": "fcd2878f-bc58-4efb-8bfb-c19e12cc6872",
     "outputs": [],
     "persistentId": "6b13cda8-a205-418d-8422-2be2c978a5bc",
     "text": "%matplotlib inline\nfrom matplotlib import pyplot as plt"
    },
    "executionTime": "2019-12-08T21:39:58.424Z"
   },
   {
    "cell": {
     "executionCount": 188,
     "executionEventId": "f96e5599-951a-431b-a913-dfc58c486aa8",
     "hasError": false,
     "id": "df7d41a1-77fe-4f5e-bd43-9eed367014e6",
     "outputs": [],
     "persistentId": "2b804bee-29e0-43c4-82e0-cd7cfff0a7f8",
     "text": "import os \nimport sys \nimport pathlib"
    },
    "executionTime": "2019-12-08T21:39:58.549Z"
   },
   {
    "cell": {
     "executionCount": 189,
     "executionEventId": "4331c600-ab29-4941-a909-80304ad417c2",
     "hasError": false,
     "id": "7c21e398-3b0f-4632-be0c-145bb2e74682",
     "outputs": [],
     "persistentId": "b1fcc1c6-275f-4735-a21f-8d904e4e90f8",
     "text": "from datetime import datetime, timedelta\nimport calendar\nfrom dateutil import relativedelta"
    },
    "executionTime": "2019-12-08T21:39:58.685Z"
   },
   {
    "cell": {
     "executionCount": 190,
     "executionEventId": "5fd37e38-296d-4316-842c-3ede41d90deb",
     "hasError": false,
     "id": "a9e47f53-1572-4cae-a249-6589a7488a08",
     "outputs": [],
     "persistentId": "8ed1015d-ec18-4776-9f17-c1a7379449af",
     "text": "import numpy as np \nimport pandas as pd \nimport xarray as xr"
    },
    "executionTime": "2019-12-08T21:39:58.756Z"
   },
   {
    "cell": {
     "executionCount": 191,
     "executionEventId": "bc1571da-8226-423c-a294-c6bb8577e4fc",
     "hasError": false,
     "id": "ac78b6db-688b-4654-8e7a-f443b5524c9f",
     "outputs": [],
     "persistentId": "40159685-2082-4ab2-98f4-2a18922169f8",
     "text": "CWD = pathlib.Path.cwd()"
    },
    "executionTime": "2019-12-08T21:39:58.913Z"
   },
   {
    "cell": {
     "executionCount": 192,
     "executionEventId": "a824e65b-0e23-4030-96ec-56170a82ec80",
     "hasError": false,
     "id": "fcea0eae-d5eb-461a-831e-c8040016e96a",
     "outputs": [],
     "persistentId": "89236a8a-41c1-413e-99d9-bca2d6e7d1c7",
     "text": "HOME = pathlib.Path.home()"
    },
    "executionTime": "2019-12-08T21:39:59.005Z"
   },
   {
    "cell": {
     "executionCount": 193,
     "executionEventId": "4936486e-8990-4b99-84ab-c30c343adedf",
     "hasError": false,
     "id": "641d3c65-9b6d-439d-a774-5a3cae790c96",
     "outputs": [],
     "persistentId": "35ad2369-c83b-417e-996e-62c48076c6a6",
     "text": "opath = HOME / 'drives' / 'auck_projects' / 'END19101' / 'Working' / 'data' / 'hindcasts' / 'IRI' / 'CFSv2'"
    },
    "executionTime": "2019-12-08T21:39:59.085Z"
   },
   {
    "cell": {
     "executionCount": 194,
     "executionEventId": "41a71ed2-c53b-47fc-b9ff-b79f3b4594e1",
     "hasError": false,
     "id": "4b031f0d-f28b-43e1-b61d-e1748ed9337d",
     "outputs": [],
     "persistentId": "c94adf01-9f08-414a-a6cf-2f95e1d87e4d",
     "text": "# GCM = 'CanCM4i'\n# GCM = 'CMC2-CanCM4'\n# GCM = 'CMC1-CanCM3'\nGCM = 'GEM-NEMO'"
    },
    "executionTime": "2019-12-08T21:39:59.174Z"
   },
   {
    "cell": {
     "executionCount": 195,
     "executionEventId": "2abd447e-f44b-4f8d-b424-e86ade86e6eb",
     "hasError": false,
     "id": "fe541e42-279e-4df0-871e-9c49be9b89b6",
     "outputs": [],
     "persistentId": "ecfcb229-2f64-42e3-a9f2-51c274168a86",
     "text": "# data_stream = 'HINDCAST'\ndata_stream = 'FORECAST'"
    },
    "executionTime": "2019-12-08T21:39:59.389Z"
   },
   {
    "cell": {
     "executionCount": 196,
     "executionEventId": "18a5ed98-cb30-43ef-8ccf-15e572da5283",
     "hasError": false,
     "id": "b4a7f8fd-661e-400d-a580-f9e41c117f8f",
     "outputs": [],
     "persistentId": "62fbf95f-77b7-452b-b19e-29f91808f6a4",
     "text": "var = 'Z500'"
    },
    "executionTime": "2019-12-08T21:39:59.604Z"
   },
   {
    "cell": {
     "executionCount": 197,
     "executionEventId": "8e724f2b-72eb-4a1c-a33e-0e3390589832",
     "hasError": false,
     "id": "a1efbdff-30dc-4325-a900-108c81318bf3",
     "outputs": [],
     "persistentId": "2cb31216-ce80-407b-bf9b-cde343bbda9b",
     "text": "if var == 'Z500': \n    url = f'http://iridl.ldeo.columbia.edu/SOURCES/.Models/.NMME/.{GCM}/.{data_stream}/.MONTHLY/.hgt/dods'"
    },
    "executionTime": "2019-12-08T21:39:59.745Z"
   },
   {
    "cell": {
     "executionCount": 198,
     "executionEventId": "e020fffb-4e80-46b8-94a9-0b4fde3d5703",
     "hasError": false,
     "id": "c2921971-a198-408b-9bcf-771f06ee32ac",
     "outputs": [
      {
       "name": "stdout",
       "output_type": "stream",
       "text": "http://iridl.ldeo.columbia.edu/SOURCES/.Models/.NMME/.GEM-NEMO/.FORECAST/.MONTHLY/.hgt/dods\n"
      }
     ],
     "persistentId": "20b89f2c-35e8-4cad-9fc0-670e30585e3d",
     "text": "print(url)"
    },
    "executionTime": "2019-12-08T21:39:59.830Z"
   },
   {
    "cell": {
     "executionCount": 199,
     "executionEventId": "2ee305c6-41e9-4b3e-9103-f6584f8afa96",
     "hasError": false,
     "id": "fd586813-128e-402a-a110-3eec4ac5ca6b",
     "outputs": [],
     "persistentId": "71de8e43-efd7-497c-a8ee-4b804a77415d",
     "text": "dset = xr.open_dataset(url, decode_times=False)"
    },
    "executionTime": "2019-12-08T21:40:01.294Z"
   },
   {
    "cell": {
     "executionCount": 200,
     "executionEventId": "061436a9-1c3c-4073-919f-e30cfd76ba21",
     "hasError": false,
     "id": "00d9b65d-07e7-4ef2-ae01-1a31a51c87e2",
     "outputs": [],
     "persistentId": "50cddde5-d8d1-43fd-a1e0-044309dc3d30",
     "text": "dict_coords = {}\ndict_coords['L'] = 'step'\ndict_coords['M'] = 'member'\ndict_coords['S'] = 'time'\ndict_coords['X'] = 'lon'\ndict_coords['Y'] = 'lat'"
    },
    "executionTime": "2019-12-08T21:40:01.300Z"
   },
   {
    "cell": {
     "executionCount": 201,
     "executionEventId": "eb933346-706c-474d-975c-997146aaed16",
     "hasError": false,
     "id": "f49c26f7-b975-4585-a475-73b71a1c1f33",
     "outputs": [],
     "persistentId": "0314a5d4-348d-4320-aa6c-9dfea5306282",
     "text": "dset = dset.rename(dict_coords)"
    },
    "executionTime": "2019-12-08T21:40:02.868Z"
   },
   {
    "cell": {
     "executionCount": 202,
     "executionEventId": "84a1c5c7-9a08-45e3-bed9-cf274577f38c",
     "hasError": false,
     "id": "2b13881d-e6d9-4df8-b508-122e88cc09c4",
     "outputs": [
      {
       "data": {
        "text/plain": "<xarray.Dataset>\nDimensions:  (P2: 2, lat: 181, lon: 360, member: 10, step: 12, time: 5)\nCoordinates:\n  * time     (time) float32 715.0 716.0 717.0 718.0 719.0\n  * lon      (lon) float32 0.0 1.0 2.0 3.0 4.0 ... 355.0 356.0 357.0 358.0 359.0\n  * step     (step) float32 0.5 1.5 2.5 3.5 4.5 5.5 6.5 7.5 8.5 9.5 10.5 11.5\n  * lat      (lat) float32 -90.0 -89.0 -88.0 -87.0 -86.0 ... 87.0 88.0 89.0 90.0\n  * P2       (P2) int32 500 200\n  * member   (member) float32 1.0 2.0 3.0 4.0 5.0 6.0 7.0 8.0 9.0 10.0\nData variables:\n    hgt      (time, P2, member, step, lat, lon) float32 ...\nAttributes:\n    Conventions:  IRIDL"
       },
       "execution_count": 202,
       "metadata": {},
       "output_type": "execute_result"
      }
     ],
     "persistentId": "a915c0d0-a652-4a12-a9e0-29f4a52e5011",
     "text": "dset"
    },
    "executionTime": "2019-12-08T21:40:03.355Z"
   },
   {
    "cell": {
     "executionCount": 203,
     "executionEventId": "194c242f-34d4-4770-9db7-a5d87b9b4a89",
     "hasError": false,
     "id": "4ddaaf9d-2b33-49c7-8128-306c85bde904",
     "outputs": [
      {
       "data": {
        "text/plain": "<xarray.DataArray 'time' (time: 5)>\narray([715., 716., 717., 718., 719.], dtype=float32)\nCoordinates:\n  * time     (time) float32 715.0 716.0 717.0 718.0 719.0\nAttributes:\n    expires:        1577862000\n    standard_name:  forecast_reference_time\n    long_name:      Forecast Start Time\n    pointwidth:     0\n    calendar:       360\n    defaultvalue:   719.0\n    gridtype:       0\n    units:          months since 1960-01-01"
       },
       "execution_count": 203,
       "metadata": {},
       "output_type": "execute_result"
      }
     ],
     "persistentId": "42bcb3b1-a805-4726-bd06-bf4b2174d1fb",
     "text": "dset.time"
    },
    "executionTime": "2019-12-08T21:40:03.910Z"
   },
   {
    "cell": {
     "executionCount": 204,
     "executionEventId": "7d3b429e-38cc-4290-8ab3-ac23957e535e",
     "hasError": false,
     "id": "c89151e9-7ef0-42b6-b5ca-9f8e46ce844d",
     "outputs": [],
     "persistentId": "21731d7d-5992-4351-8704-dc105edeb73b",
     "text": "origin = datetime(1960,1,1)"
    },
    "executionTime": "2019-12-08T21:40:05.225Z"
   },
   {
    "cell": {
     "executionCount": 205,
     "executionEventId": "4ba9a447-fc32-4548-b94c-1b7e78f66d0c",
     "hasError": false,
     "id": "830a0ae4-8b17-4239-afc7-1ea6a20c03de",
     "outputs": [],
     "persistentId": "dad41940-570b-4474-83f2-6d25dd8f85ab",
     "text": "dates = [origin + relativedelta.relativedelta(months=x) for x in dset.time]"
    },
    "executionTime": "2019-12-08T21:40:05.601Z"
   },
   {
    "cell": {
     "executionCount": 206,
     "executionEventId": "6b608272-f6a8-4c44-a792-2074443aee34",
     "hasError": false,
     "id": "8ed0279c-289d-48cf-abd6-2919695f63b6",
     "outputs": [],
     "persistentId": "3bbe3b71-40e2-4fcd-b0b1-4fa1bf9c29a0",
     "text": "dset['time'] = (('time'), dates)"
    },
    "executionTime": "2019-12-08T21:40:06.294Z"
   },
   {
    "cell": {
     "executionCount": 207,
     "executionEventId": "cfe14147-a340-40b6-a7d1-5b78664cc74e",
     "hasError": false,
     "id": "2d816726-e23e-43df-ae7a-62930bb16d75",
     "outputs": [
      {
       "data": {
        "text/plain": "<xarray.DataArray 'time' ()>\narray('2019-08-01T00:00:00.000000000', dtype='datetime64[ns]')\nCoordinates:\n    time     datetime64[ns] 2019-08-01"
       },
       "execution_count": 207,
       "metadata": {},
       "output_type": "execute_result"
      }
     ],
     "persistentId": "469bf983-ea9e-42b9-83b9-4b2b22f9dd0c",
     "text": "dset.time[0]"
    },
    "executionTime": "2019-12-08T21:40:07.159Z"
   },
   {
    "cell": {
     "executionCount": 208,
     "executionEventId": "db350a89-8f25-4f65-9afe-48e6bfd82d6c",
     "hasError": false,
     "id": "7cf39346-9486-44e0-99d8-7d336fe30003",
     "outputs": [
      {
       "data": {
        "text/plain": "<xarray.DataArray 'time' ()>\narray('2019-12-01T00:00:00.000000000', dtype='datetime64[ns]')\nCoordinates:\n    time     datetime64[ns] 2019-12-01"
       },
       "execution_count": 208,
       "metadata": {},
       "output_type": "execute_result"
      }
     ],
     "persistentId": "b8c1f1f8-ae69-4286-b913-d2942148cbd0",
     "text": "dset.time[-1]"
    },
    "executionTime": "2019-12-08T21:40:07.790Z"
   },
   {
    "cell": {
     "executionCount": 209,
     "executionEventId": "b6e161d8-fdb1-4ef1-a204-82e4496f3840",
     "hasError": false,
     "id": "4b031f0d-f28b-43e1-b61d-e1748ed9337d",
     "outputs": [],
     "persistentId": "c94adf01-9f08-414a-a6cf-2f95e1d87e4d",
     "text": "# GCM = 'CanCM4i'\n# GCM = 'CMC2-CanCM4'\n# GCM = 'CMC1-CanCM3'\n# GCM = 'GEM-NEMO'\nGCM = 'NASA-GEOSS2S'"
    },
    "executionTime": "2019-12-08T21:42:59.341Z"
   },
   {
    "cell": {
     "executionCount": 210,
     "executionEventId": "5801c1ee-bac1-4a10-80d3-ea12e2edb52d",
     "hasError": false,
     "id": "fe541e42-279e-4df0-871e-9c49be9b89b6",
     "outputs": [],
     "persistentId": "ecfcb229-2f64-42e3-a9f2-51c274168a86",
     "text": "# data_stream = 'HINDCAST'\ndata_stream = 'FORECAST'"
    },
    "executionTime": "2019-12-08T21:42:59.515Z"
   },
   {
    "cell": {
     "executionCount": 211,
     "executionEventId": "faba93fe-fe1e-4b5b-ab62-573ab777e2c9",
     "hasError": false,
     "id": "b4a7f8fd-661e-400d-a580-f9e41c117f8f",
     "outputs": [],
     "persistentId": "62fbf95f-77b7-452b-b19e-29f91808f6a4",
     "text": "var = 'Z500'"
    },
    "executionTime": "2019-12-08T21:42:59.735Z"
   },
   {
    "cell": {
     "executionCount": 212,
     "executionEventId": "a4dedf54-546a-452e-87fd-b59caace59ec",
     "hasError": false,
     "id": "fe541e42-279e-4df0-871e-9c49be9b89b6",
     "outputs": [],
     "persistentId": "ecfcb229-2f64-42e3-a9f2-51c274168a86",
     "text": "data_stream = 'HINDCAST'\n# data_stream = 'FORECAST'"
    },
    "executionTime": "2019-12-08T21:43:03.016Z"
   },
   {
    "cell": {
     "executionCount": 213,
     "executionEventId": "0a216591-60d0-459c-804e-41e9bf9a9dba",
     "hasError": false,
     "id": "b4a7f8fd-661e-400d-a580-f9e41c117f8f",
     "outputs": [],
     "persistentId": "62fbf95f-77b7-452b-b19e-29f91808f6a4",
     "text": "var = 'Z500'"
    },
    "executionTime": "2019-12-08T21:43:03.183Z"
   },
   {
    "cell": {
     "executionCount": 214,
     "executionEventId": "7dd29ecb-cf48-428e-bb4f-916c965a32a7",
     "hasError": false,
     "id": "a1efbdff-30dc-4325-a900-108c81318bf3",
     "outputs": [],
     "persistentId": "2cb31216-ce80-407b-bf9b-cde343bbda9b",
     "text": "if var == 'Z500': \n    url = f'http://iridl.ldeo.columbia.edu/SOURCES/.Models/.NMME/.{GCM}/.{data_stream}/.MONTHLY/.hgt/dods'"
    },
    "executionTime": "2019-12-08T21:43:03.489Z"
   },
   {
    "cell": {
     "executionCount": 215,
     "executionEventId": "26dd8042-85d0-40cb-9b1f-43210a36997e",
     "hasError": false,
     "id": "c2921971-a198-408b-9bcf-771f06ee32ac",
     "outputs": [
      {
       "name": "stdout",
       "output_type": "stream",
       "text": "http://iridl.ldeo.columbia.edu/SOURCES/.Models/.NMME/.NASA-GEOSS2S/.HINDCAST/.MONTHLY/.hgt/dods\n"
      }
     ],
     "persistentId": "20b89f2c-35e8-4cad-9fc0-670e30585e3d",
     "text": "print(url)"
    },
    "executionTime": "2019-12-08T21:43:03.939Z"
   },
   {
    "cell": {
     "executionCount": 216,
     "executionEventId": "fc14d67f-4c7d-44d3-86a9-ca82b69ffcb9",
     "hasError": true,
     "id": "fd586813-128e-402a-a110-3eec4ac5ca6b",
     "outputs": [
      {
       "ename": "OSError",
       "evalue": "[Errno -90] NetCDF: file not found: b'http://iridl.ldeo.columbia.edu/SOURCES/.Models/.NMME/.NASA-GEOSS2S/.HINDCAST/.MONTHLY/.hgt/dods'",
       "output_type": "error",
       "traceback": [
        "\u001b[0;31m---------------------------------------------------------------------------\u001b[0m",
        "\u001b[0;31mKeyError\u001b[0m                                  Traceback (most recent call last)",
        "\u001b[0;32m~/anaconda3/envs/pangeo/lib/python3.7/site-packages/xarray/backends/file_manager.py\u001b[0m in \u001b[0;36m_acquire_with_cache_info\u001b[0;34m(self, needs_lock)\u001b[0m\n\u001b[1;32m    197\u001b[0m             \u001b[0;32mtry\u001b[0m\u001b[0;34m:\u001b[0m\u001b[0;34m\u001b[0m\u001b[0;34m\u001b[0m\u001b[0m\n\u001b[0;32m--> 198\u001b[0;31m                 \u001b[0mfile\u001b[0m \u001b[0;34m=\u001b[0m \u001b[0mself\u001b[0m\u001b[0;34m.\u001b[0m\u001b[0m_cache\u001b[0m\u001b[0;34m[\u001b[0m\u001b[0mself\u001b[0m\u001b[0;34m.\u001b[0m\u001b[0m_key\u001b[0m\u001b[0;34m]\u001b[0m\u001b[0;34m\u001b[0m\u001b[0;34m\u001b[0m\u001b[0m\n\u001b[0m\u001b[1;32m    199\u001b[0m             \u001b[0;32mexcept\u001b[0m \u001b[0mKeyError\u001b[0m\u001b[0;34m:\u001b[0m\u001b[0;34m\u001b[0m\u001b[0;34m\u001b[0m\u001b[0m\n",
        "\u001b[0;32m~/anaconda3/envs/pangeo/lib/python3.7/site-packages/xarray/backends/lru_cache.py\u001b[0m in \u001b[0;36m__getitem__\u001b[0;34m(self, key)\u001b[0m\n\u001b[1;32m     52\u001b[0m         \u001b[0;32mwith\u001b[0m \u001b[0mself\u001b[0m\u001b[0;34m.\u001b[0m\u001b[0m_lock\u001b[0m\u001b[0;34m:\u001b[0m\u001b[0;34m\u001b[0m\u001b[0;34m\u001b[0m\u001b[0m\n\u001b[0;32m---> 53\u001b[0;31m             \u001b[0mvalue\u001b[0m \u001b[0;34m=\u001b[0m \u001b[0mself\u001b[0m\u001b[0;34m.\u001b[0m\u001b[0m_cache\u001b[0m\u001b[0;34m[\u001b[0m\u001b[0mkey\u001b[0m\u001b[0;34m]\u001b[0m\u001b[0;34m\u001b[0m\u001b[0;34m\u001b[0m\u001b[0m\n\u001b[0m\u001b[1;32m     54\u001b[0m             \u001b[0mself\u001b[0m\u001b[0;34m.\u001b[0m\u001b[0m_cache\u001b[0m\u001b[0;34m.\u001b[0m\u001b[0mmove_to_end\u001b[0m\u001b[0;34m(\u001b[0m\u001b[0mkey\u001b[0m\u001b[0;34m)\u001b[0m\u001b[0;34m\u001b[0m\u001b[0;34m\u001b[0m\u001b[0m\n",
        "\u001b[0;31mKeyError\u001b[0m: [<class 'netCDF4._netCDF4.Dataset'>, ('http://iridl.ldeo.columbia.edu/SOURCES/.Models/.NMME/.NASA-GEOSS2S/.HINDCAST/.MONTHLY/.hgt/dods',), 'r', (('clobber', True), ('diskless', False), ('format', 'NETCDF4'), ('persist', False))]",
        "\nDuring handling of the above exception, another exception occurred:\n",
        "\u001b[0;31mOSError\u001b[0m                                   Traceback (most recent call last)",
        "\u001b[0;32m<ipython-input-216-288dc1187949>\u001b[0m in \u001b[0;36m<module>\u001b[0;34m\u001b[0m\n\u001b[0;32m----> 1\u001b[0;31m \u001b[0mdset\u001b[0m \u001b[0;34m=\u001b[0m \u001b[0mxr\u001b[0m\u001b[0;34m.\u001b[0m\u001b[0mopen_dataset\u001b[0m\u001b[0;34m(\u001b[0m\u001b[0murl\u001b[0m\u001b[0;34m,\u001b[0m \u001b[0mdecode_times\u001b[0m\u001b[0;34m=\u001b[0m\u001b[0;32mFalse\u001b[0m\u001b[0;34m)\u001b[0m\u001b[0;34m\u001b[0m\u001b[0;34m\u001b[0m\u001b[0m\n\u001b[0m",
        "\u001b[0;32m~/anaconda3/envs/pangeo/lib/python3.7/site-packages/xarray/backends/api.py\u001b[0m in \u001b[0;36mopen_dataset\u001b[0;34m(filename_or_obj, group, decode_cf, mask_and_scale, decode_times, autoclose, concat_characters, decode_coords, engine, chunks, lock, cache, drop_variables, backend_kwargs, use_cftime)\u001b[0m\n\u001b[1;32m    497\u001b[0m         \u001b[0;32mif\u001b[0m \u001b[0mengine\u001b[0m \u001b[0;34m==\u001b[0m \u001b[0;34m\"netcdf4\"\u001b[0m\u001b[0;34m:\u001b[0m\u001b[0;34m\u001b[0m\u001b[0;34m\u001b[0m\u001b[0m\n\u001b[1;32m    498\u001b[0m             store = backends.NetCDF4DataStore.open(\n\u001b[0;32m--> 499\u001b[0;31m                 \u001b[0mfilename_or_obj\u001b[0m\u001b[0;34m,\u001b[0m \u001b[0mgroup\u001b[0m\u001b[0;34m=\u001b[0m\u001b[0mgroup\u001b[0m\u001b[0;34m,\u001b[0m \u001b[0mlock\u001b[0m\u001b[0;34m=\u001b[0m\u001b[0mlock\u001b[0m\u001b[0;34m,\u001b[0m \u001b[0;34m**\u001b[0m\u001b[0mbackend_kwargs\u001b[0m\u001b[0;34m\u001b[0m\u001b[0;34m\u001b[0m\u001b[0m\n\u001b[0m\u001b[1;32m    500\u001b[0m             )\n\u001b[1;32m    501\u001b[0m         \u001b[0;32melif\u001b[0m \u001b[0mengine\u001b[0m \u001b[0;34m==\u001b[0m \u001b[0;34m\"scipy\"\u001b[0m\u001b[0;34m:\u001b[0m\u001b[0;34m\u001b[0m\u001b[0;34m\u001b[0m\u001b[0m\n",
        "\u001b[0;32m~/anaconda3/envs/pangeo/lib/python3.7/site-packages/xarray/backends/netCDF4_.py\u001b[0m in \u001b[0;36mopen\u001b[0;34m(cls, filename, mode, format, group, clobber, diskless, persist, lock, lock_maker, autoclose)\u001b[0m\n\u001b[1;32m    355\u001b[0m             \u001b[0mnetCDF4\u001b[0m\u001b[0;34m.\u001b[0m\u001b[0mDataset\u001b[0m\u001b[0;34m,\u001b[0m \u001b[0mfilename\u001b[0m\u001b[0;34m,\u001b[0m \u001b[0mmode\u001b[0m\u001b[0;34m=\u001b[0m\u001b[0mmode\u001b[0m\u001b[0;34m,\u001b[0m \u001b[0mkwargs\u001b[0m\u001b[0;34m=\u001b[0m\u001b[0mkwargs\u001b[0m\u001b[0;34m\u001b[0m\u001b[0;34m\u001b[0m\u001b[0m\n\u001b[1;32m    356\u001b[0m         )\n\u001b[0;32m--> 357\u001b[0;31m         \u001b[0;32mreturn\u001b[0m \u001b[0mcls\u001b[0m\u001b[0;34m(\u001b[0m\u001b[0mmanager\u001b[0m\u001b[0;34m,\u001b[0m \u001b[0mgroup\u001b[0m\u001b[0;34m=\u001b[0m\u001b[0mgroup\u001b[0m\u001b[0;34m,\u001b[0m \u001b[0mmode\u001b[0m\u001b[0;34m=\u001b[0m\u001b[0mmode\u001b[0m\u001b[0;34m,\u001b[0m \u001b[0mlock\u001b[0m\u001b[0;34m=\u001b[0m\u001b[0mlock\u001b[0m\u001b[0;34m,\u001b[0m \u001b[0mautoclose\u001b[0m\u001b[0;34m=\u001b[0m\u001b[0mautoclose\u001b[0m\u001b[0;34m)\u001b[0m\u001b[0;34m\u001b[0m\u001b[0;34m\u001b[0m\u001b[0m\n\u001b[0m\u001b[1;32m    358\u001b[0m \u001b[0;34m\u001b[0m\u001b[0m\n\u001b[1;32m    359\u001b[0m     \u001b[0;32mdef\u001b[0m \u001b[0m_acquire\u001b[0m\u001b[0;34m(\u001b[0m\u001b[0mself\u001b[0m\u001b[0;34m,\u001b[0m \u001b[0mneeds_lock\u001b[0m\u001b[0;34m=\u001b[0m\u001b[0;32mTrue\u001b[0m\u001b[0;34m)\u001b[0m\u001b[0;34m:\u001b[0m\u001b[0;34m\u001b[0m\u001b[0;34m\u001b[0m\u001b[0m\n",
        "\u001b[0;32m~/anaconda3/envs/pangeo/lib/python3.7/site-packages/xarray/backends/netCDF4_.py\u001b[0m in \u001b[0;36m__init__\u001b[0;34m(self, manager, group, mode, lock, autoclose)\u001b[0m\n\u001b[1;32m    311\u001b[0m         \u001b[0mself\u001b[0m\u001b[0;34m.\u001b[0m\u001b[0m_group\u001b[0m \u001b[0;34m=\u001b[0m \u001b[0mgroup\u001b[0m\u001b[0;34m\u001b[0m\u001b[0;34m\u001b[0m\u001b[0m\n\u001b[1;32m    312\u001b[0m         \u001b[0mself\u001b[0m\u001b[0;34m.\u001b[0m\u001b[0m_mode\u001b[0m \u001b[0;34m=\u001b[0m \u001b[0mmode\u001b[0m\u001b[0;34m\u001b[0m\u001b[0;34m\u001b[0m\u001b[0m\n\u001b[0;32m--> 313\u001b[0;31m         \u001b[0mself\u001b[0m\u001b[0;34m.\u001b[0m\u001b[0mformat\u001b[0m \u001b[0;34m=\u001b[0m \u001b[0mself\u001b[0m\u001b[0;34m.\u001b[0m\u001b[0mds\u001b[0m\u001b[0;34m.\u001b[0m\u001b[0mdata_model\u001b[0m\u001b[0;34m\u001b[0m\u001b[0;34m\u001b[0m\u001b[0m\n\u001b[0m\u001b[1;32m    314\u001b[0m         \u001b[0mself\u001b[0m\u001b[0;34m.\u001b[0m\u001b[0m_filename\u001b[0m \u001b[0;34m=\u001b[0m \u001b[0mself\u001b[0m\u001b[0;34m.\u001b[0m\u001b[0mds\u001b[0m\u001b[0;34m.\u001b[0m\u001b[0mfilepath\u001b[0m\u001b[0;34m(\u001b[0m\u001b[0;34m)\u001b[0m\u001b[0;34m\u001b[0m\u001b[0;34m\u001b[0m\u001b[0m\n\u001b[1;32m    315\u001b[0m         \u001b[0mself\u001b[0m\u001b[0;34m.\u001b[0m\u001b[0mis_remote\u001b[0m \u001b[0;34m=\u001b[0m \u001b[0mis_remote_uri\u001b[0m\u001b[0;34m(\u001b[0m\u001b[0mself\u001b[0m\u001b[0;34m.\u001b[0m\u001b[0m_filename\u001b[0m\u001b[0;34m)\u001b[0m\u001b[0;34m\u001b[0m\u001b[0;34m\u001b[0m\u001b[0m\n",
        "\u001b[0;32m~/anaconda3/envs/pangeo/lib/python3.7/site-packages/xarray/backends/netCDF4_.py\u001b[0m in \u001b[0;36mds\u001b[0;34m(self)\u001b[0m\n\u001b[1;32m    364\u001b[0m     \u001b[0;34m@\u001b[0m\u001b[0mproperty\u001b[0m\u001b[0;34m\u001b[0m\u001b[0;34m\u001b[0m\u001b[0m\n\u001b[1;32m    365\u001b[0m     \u001b[0;32mdef\u001b[0m \u001b[0mds\u001b[0m\u001b[0;34m(\u001b[0m\u001b[0mself\u001b[0m\u001b[0;34m)\u001b[0m\u001b[0;34m:\u001b[0m\u001b[0;34m\u001b[0m\u001b[0;34m\u001b[0m\u001b[0m\n\u001b[0;32m--> 366\u001b[0;31m         \u001b[0;32mreturn\u001b[0m \u001b[0mself\u001b[0m\u001b[0;34m.\u001b[0m\u001b[0m_acquire\u001b[0m\u001b[0;34m(\u001b[0m\u001b[0;34m)\u001b[0m\u001b[0;34m\u001b[0m\u001b[0;34m\u001b[0m\u001b[0m\n\u001b[0m\u001b[1;32m    367\u001b[0m \u001b[0;34m\u001b[0m\u001b[0m\n\u001b[1;32m    368\u001b[0m     \u001b[0;32mdef\u001b[0m \u001b[0mopen_store_variable\u001b[0m\u001b[0;34m(\u001b[0m\u001b[0mself\u001b[0m\u001b[0;34m,\u001b[0m \u001b[0mname\u001b[0m\u001b[0;34m,\u001b[0m \u001b[0mvar\u001b[0m\u001b[0;34m)\u001b[0m\u001b[0;34m:\u001b[0m\u001b[0;34m\u001b[0m\u001b[0;34m\u001b[0m\u001b[0m\n",
        "\u001b[0;32m~/anaconda3/envs/pangeo/lib/python3.7/site-packages/xarray/backends/netCDF4_.py\u001b[0m in \u001b[0;36m_acquire\u001b[0;34m(self, needs_lock)\u001b[0m\n\u001b[1;32m    358\u001b[0m \u001b[0;34m\u001b[0m\u001b[0m\n\u001b[1;32m    359\u001b[0m     \u001b[0;32mdef\u001b[0m \u001b[0m_acquire\u001b[0m\u001b[0;34m(\u001b[0m\u001b[0mself\u001b[0m\u001b[0;34m,\u001b[0m \u001b[0mneeds_lock\u001b[0m\u001b[0;34m=\u001b[0m\u001b[0;32mTrue\u001b[0m\u001b[0;34m)\u001b[0m\u001b[0;34m:\u001b[0m\u001b[0;34m\u001b[0m\u001b[0;34m\u001b[0m\u001b[0m\n\u001b[0;32m--> 360\u001b[0;31m         \u001b[0;32mwith\u001b[0m \u001b[0mself\u001b[0m\u001b[0;34m.\u001b[0m\u001b[0m_manager\u001b[0m\u001b[0;34m.\u001b[0m\u001b[0macquire_context\u001b[0m\u001b[0;34m(\u001b[0m\u001b[0mneeds_lock\u001b[0m\u001b[0;34m)\u001b[0m \u001b[0;32mas\u001b[0m \u001b[0mroot\u001b[0m\u001b[0;34m:\u001b[0m\u001b[0;34m\u001b[0m\u001b[0;34m\u001b[0m\u001b[0m\n\u001b[0m\u001b[1;32m    361\u001b[0m             \u001b[0mds\u001b[0m \u001b[0;34m=\u001b[0m \u001b[0m_nc4_require_group\u001b[0m\u001b[0;34m(\u001b[0m\u001b[0mroot\u001b[0m\u001b[0;34m,\u001b[0m \u001b[0mself\u001b[0m\u001b[0;34m.\u001b[0m\u001b[0m_group\u001b[0m\u001b[0;34m,\u001b[0m \u001b[0mself\u001b[0m\u001b[0;34m.\u001b[0m\u001b[0m_mode\u001b[0m\u001b[0;34m)\u001b[0m\u001b[0;34m\u001b[0m\u001b[0;34m\u001b[0m\u001b[0m\n\u001b[1;32m    362\u001b[0m         \u001b[0;32mreturn\u001b[0m \u001b[0mds\u001b[0m\u001b[0;34m\u001b[0m\u001b[0;34m\u001b[0m\u001b[0m\n",
        "\u001b[0;32m~/anaconda3/envs/pangeo/lib/python3.7/contextlib.py\u001b[0m in \u001b[0;36m__enter__\u001b[0;34m(self)\u001b[0m\n\u001b[1;32m    110\u001b[0m         \u001b[0;32mdel\u001b[0m \u001b[0mself\u001b[0m\u001b[0;34m.\u001b[0m\u001b[0margs\u001b[0m\u001b[0;34m,\u001b[0m \u001b[0mself\u001b[0m\u001b[0;34m.\u001b[0m\u001b[0mkwds\u001b[0m\u001b[0;34m,\u001b[0m \u001b[0mself\u001b[0m\u001b[0;34m.\u001b[0m\u001b[0mfunc\u001b[0m\u001b[0;34m\u001b[0m\u001b[0;34m\u001b[0m\u001b[0m\n\u001b[1;32m    111\u001b[0m         \u001b[0;32mtry\u001b[0m\u001b[0;34m:\u001b[0m\u001b[0;34m\u001b[0m\u001b[0;34m\u001b[0m\u001b[0m\n\u001b[0;32m--> 112\u001b[0;31m             \u001b[0;32mreturn\u001b[0m \u001b[0mnext\u001b[0m\u001b[0;34m(\u001b[0m\u001b[0mself\u001b[0m\u001b[0;34m.\u001b[0m\u001b[0mgen\u001b[0m\u001b[0;34m)\u001b[0m\u001b[0;34m\u001b[0m\u001b[0;34m\u001b[0m\u001b[0m\n\u001b[0m\u001b[1;32m    113\u001b[0m         \u001b[0;32mexcept\u001b[0m \u001b[0mStopIteration\u001b[0m\u001b[0;34m:\u001b[0m\u001b[0;34m\u001b[0m\u001b[0;34m\u001b[0m\u001b[0m\n\u001b[1;32m    114\u001b[0m             \u001b[0;32mraise\u001b[0m \u001b[0mRuntimeError\u001b[0m\u001b[0;34m(\u001b[0m\u001b[0;34m\"generator didn't yield\"\u001b[0m\u001b[0;34m)\u001b[0m \u001b[0;32mfrom\u001b[0m \u001b[0;32mNone\u001b[0m\u001b[0;34m\u001b[0m\u001b[0;34m\u001b[0m\u001b[0m\n",
        "\u001b[0;32m~/anaconda3/envs/pangeo/lib/python3.7/site-packages/xarray/backends/file_manager.py\u001b[0m in \u001b[0;36macquire_context\u001b[0;34m(self, needs_lock)\u001b[0m\n\u001b[1;32m    184\u001b[0m     \u001b[0;32mdef\u001b[0m \u001b[0macquire_context\u001b[0m\u001b[0;34m(\u001b[0m\u001b[0mself\u001b[0m\u001b[0;34m,\u001b[0m \u001b[0mneeds_lock\u001b[0m\u001b[0;34m=\u001b[0m\u001b[0;32mTrue\u001b[0m\u001b[0;34m)\u001b[0m\u001b[0;34m:\u001b[0m\u001b[0;34m\u001b[0m\u001b[0;34m\u001b[0m\u001b[0m\n\u001b[1;32m    185\u001b[0m         \u001b[0;34m\"\"\"Context manager for acquiring a file.\"\"\"\u001b[0m\u001b[0;34m\u001b[0m\u001b[0;34m\u001b[0m\u001b[0m\n\u001b[0;32m--> 186\u001b[0;31m         \u001b[0mfile\u001b[0m\u001b[0;34m,\u001b[0m \u001b[0mcached\u001b[0m \u001b[0;34m=\u001b[0m \u001b[0mself\u001b[0m\u001b[0;34m.\u001b[0m\u001b[0m_acquire_with_cache_info\u001b[0m\u001b[0;34m(\u001b[0m\u001b[0mneeds_lock\u001b[0m\u001b[0;34m)\u001b[0m\u001b[0;34m\u001b[0m\u001b[0;34m\u001b[0m\u001b[0m\n\u001b[0m\u001b[1;32m    187\u001b[0m         \u001b[0;32mtry\u001b[0m\u001b[0;34m:\u001b[0m\u001b[0;34m\u001b[0m\u001b[0;34m\u001b[0m\u001b[0m\n\u001b[1;32m    188\u001b[0m             \u001b[0;32myield\u001b[0m \u001b[0mfile\u001b[0m\u001b[0;34m\u001b[0m\u001b[0;34m\u001b[0m\u001b[0m\n",
        "\u001b[0;32m~/anaconda3/envs/pangeo/lib/python3.7/site-packages/xarray/backends/file_manager.py\u001b[0m in \u001b[0;36m_acquire_with_cache_info\u001b[0;34m(self, needs_lock)\u001b[0m\n\u001b[1;32m    202\u001b[0m                     \u001b[0mkwargs\u001b[0m \u001b[0;34m=\u001b[0m \u001b[0mkwargs\u001b[0m\u001b[0;34m.\u001b[0m\u001b[0mcopy\u001b[0m\u001b[0;34m(\u001b[0m\u001b[0;34m)\u001b[0m\u001b[0;34m\u001b[0m\u001b[0;34m\u001b[0m\u001b[0m\n\u001b[1;32m    203\u001b[0m                     \u001b[0mkwargs\u001b[0m\u001b[0;34m[\u001b[0m\u001b[0;34m\"mode\"\u001b[0m\u001b[0;34m]\u001b[0m \u001b[0;34m=\u001b[0m \u001b[0mself\u001b[0m\u001b[0;34m.\u001b[0m\u001b[0m_mode\u001b[0m\u001b[0;34m\u001b[0m\u001b[0;34m\u001b[0m\u001b[0m\n\u001b[0;32m--> 204\u001b[0;31m                 \u001b[0mfile\u001b[0m \u001b[0;34m=\u001b[0m \u001b[0mself\u001b[0m\u001b[0;34m.\u001b[0m\u001b[0m_opener\u001b[0m\u001b[0;34m(\u001b[0m\u001b[0;34m*\u001b[0m\u001b[0mself\u001b[0m\u001b[0;34m.\u001b[0m\u001b[0m_args\u001b[0m\u001b[0;34m,\u001b[0m \u001b[0;34m**\u001b[0m\u001b[0mkwargs\u001b[0m\u001b[0;34m)\u001b[0m\u001b[0;34m\u001b[0m\u001b[0;34m\u001b[0m\u001b[0m\n\u001b[0m\u001b[1;32m    205\u001b[0m                 \u001b[0;32mif\u001b[0m \u001b[0mself\u001b[0m\u001b[0;34m.\u001b[0m\u001b[0m_mode\u001b[0m \u001b[0;34m==\u001b[0m \u001b[0;34m\"w\"\u001b[0m\u001b[0;34m:\u001b[0m\u001b[0;34m\u001b[0m\u001b[0;34m\u001b[0m\u001b[0m\n\u001b[1;32m    206\u001b[0m                     \u001b[0;31m# ensure file doesn't get overriden when opened again\u001b[0m\u001b[0;34m\u001b[0m\u001b[0;34m\u001b[0m\u001b[0;34m\u001b[0m\u001b[0m\n",
        "\u001b[0;32mnetCDF4/_netCDF4.pyx\u001b[0m in \u001b[0;36mnetCDF4._netCDF4.Dataset.__init__\u001b[0;34m()\u001b[0m\n",
        "\u001b[0;32mnetCDF4/_netCDF4.pyx\u001b[0m in \u001b[0;36mnetCDF4._netCDF4._ensure_nc_success\u001b[0;34m()\u001b[0m\n",
        "\u001b[0;31mOSError\u001b[0m: [Errno -90] NetCDF: file not found: b'http://iridl.ldeo.columbia.edu/SOURCES/.Models/.NMME/.NASA-GEOSS2S/.HINDCAST/.MONTHLY/.hgt/dods'"
       ]
      }
     ],
     "persistentId": "71de8e43-efd7-497c-a8ee-4b804a77415d",
     "text": "dset = xr.open_dataset(url, decode_times=False)"
    },
    "executionTime": "2019-12-08T21:43:07.810Z"
   },
   {
    "cell": {
     "executionCount": 217,
     "executionEventId": "7affa0e0-c066-4d9b-b51c-312251580994",
     "hasError": false,
     "id": "a1efbdff-30dc-4325-a900-108c81318bf3",
     "outputs": [],
     "persistentId": "2cb31216-ce80-407b-bf9b-cde343bbda9b",
     "text": "if var == 'Z500': \n#     url = f'http://iridl.ldeo.columbia.edu/SOURCES/.Models/.NMME/.{GCM}/.{data_stream}/.MONTHLY/.hgt/dods'\n    url = f'http://iridl.ldeo.columbia.edu/SOURCES/.Models/.NMME/.{GCM}/.{data_stream}/.MONTHLY/.h500/dods'"
    },
    "executionTime": "2019-12-08T21:44:59.676Z"
   },
   {
    "cell": {
     "executionCount": 218,
     "executionEventId": "0c1cd4e1-5c50-4c6b-a4cc-84dabe6e70d8",
     "hasError": false,
     "id": "c2921971-a198-408b-9bcf-771f06ee32ac",
     "outputs": [
      {
       "name": "stdout",
       "output_type": "stream",
       "text": "http://iridl.ldeo.columbia.edu/SOURCES/.Models/.NMME/.NASA-GEOSS2S/.HINDCAST/.MONTHLY/.h500/dods\n"
      }
     ],
     "persistentId": "20b89f2c-35e8-4cad-9fc0-670e30585e3d",
     "text": "print(url)"
    },
    "executionTime": "2019-12-08T21:45:00.108Z"
   },
   {
    "cell": {
     "executionCount": 219,
     "executionEventId": "615aefbd-816d-4827-9933-2cca2e926011",
     "hasError": false,
     "id": "fd586813-128e-402a-a110-3eec4ac5ca6b",
     "outputs": [],
     "persistentId": "71de8e43-efd7-497c-a8ee-4b804a77415d",
     "text": "dset = xr.open_dataset(url, decode_times=False)"
    },
    "executionTime": "2019-12-08T21:45:02.275Z"
   },
   {
    "cell": {
     "executionCount": 220,
     "executionEventId": "79831be1-4567-4b52-b2c4-da44f666bcad",
     "hasError": false,
     "id": "00d9b65d-07e7-4ef2-ae01-1a31a51c87e2",
     "outputs": [],
     "persistentId": "50cddde5-d8d1-43fd-a1e0-044309dc3d30",
     "text": "dict_coords = {}\ndict_coords['L'] = 'step'\ndict_coords['M'] = 'member'\ndict_coords['S'] = 'time'\ndict_coords['X'] = 'lon'\ndict_coords['Y'] = 'lat'"
    },
    "executionTime": "2019-12-08T21:45:03.216Z"
   },
   {
    "cell": {
     "executionCount": 221,
     "executionEventId": "7a4f2a1d-3b4c-420c-b1c3-4cf026655f88",
     "hasError": false,
     "id": "f49c26f7-b975-4585-a475-73b71a1c1f33",
     "outputs": [],
     "persistentId": "0314a5d4-348d-4320-aa6c-9dfea5306282",
     "text": "dset = dset.rename(dict_coords)"
    },
    "executionTime": "2019-12-08T21:45:03.639Z"
   },
   {
    "cell": {
     "executionCount": 222,
     "executionEventId": "609cdb22-e89d-4a2d-b39b-0b1a5d9ff6c6",
     "hasError": false,
     "id": "2b13881d-e6d9-4df8-b508-122e88cc09c4",
     "outputs": [
      {
       "data": {
        "text/plain": "<xarray.Dataset>\nDimensions:  (lat: 181, lon: 360, member: 4, step: 9, time: 432)\nCoordinates:\n  * lon      (lon) float32 0.0 1.0 2.0 3.0 4.0 ... 355.0 356.0 357.0 358.0 359.0\n  * step     (step) float32 0.5 1.5 2.5 3.5 4.5 5.5 6.5 7.5 8.5\n  * lat      (lat) float32 -90.0 -89.0 -88.0 -87.0 -86.0 ... 87.0 88.0 89.0 90.0\n  * time     (time) float32 253.0 254.0 255.0 256.0 ... 681.0 682.0 683.0 684.0\n  * member   (member) float32 1.0 2.0 3.0 4.0\nData variables:\n    h500     (time, step, member, lat, lon) float64 ...\nAttributes:\n    Conventions:  IRIDL"
       },
       "execution_count": 222,
       "metadata": {},
       "output_type": "execute_result"
      }
     ],
     "persistentId": "a915c0d0-a652-4a12-a9e0-29f4a52e5011",
     "text": "dset"
    },
    "executionTime": "2019-12-08T21:45:04.223Z"
   },
   {
    "cell": {
     "executionCount": 223,
     "executionEventId": "267cccfc-8ad9-443e-a34c-fc5ac2766848",
     "hasError": false,
     "id": "4ddaaf9d-2b33-49c7-8128-306c85bde904",
     "outputs": [
      {
       "data": {
        "text/plain": "<xarray.DataArray 'time' (time: 432)>\narray([253., 254., 255., ..., 682., 683., 684.], dtype=float32)\nCoordinates:\n  * time     (time) float32 253.0 254.0 255.0 256.0 ... 681.0 682.0 683.0 684.0\nAttributes:\n    standard_name:  forecast_reference_time\n    pointwidth:     0\n    calendar:       360\n    long_name:      Forecast Start Time\n    gridtype:       0\n    units:          months since 1960-01-01"
       },
       "execution_count": 223,
       "metadata": {},
       "output_type": "execute_result"
      }
     ],
     "persistentId": "42bcb3b1-a805-4726-bd06-bf4b2174d1fb",
     "text": "dset.time"
    },
    "executionTime": "2019-12-08T21:45:04.416Z"
   },
   {
    "cell": {
     "executionCount": 224,
     "executionEventId": "2503bc22-e67a-4e7b-b524-dc859b068fe4",
     "hasError": false,
     "id": "c89151e9-7ef0-42b6-b5ca-9f8e46ce844d",
     "outputs": [],
     "persistentId": "21731d7d-5992-4351-8704-dc105edeb73b",
     "text": "origin = datetime(1960,1,1)"
    },
    "executionTime": "2019-12-08T21:45:05.164Z"
   },
   {
    "cell": {
     "executionCount": 225,
     "executionEventId": "8fe4503c-4e2d-4d83-bc48-3f9fb03d5cf4",
     "hasError": false,
     "id": "830a0ae4-8b17-4239-afc7-1ea6a20c03de",
     "outputs": [],
     "persistentId": "dad41940-570b-4474-83f2-6d25dd8f85ab",
     "text": "dates = [origin + relativedelta.relativedelta(months=x) for x in dset.time]"
    },
    "executionTime": "2019-12-08T21:45:05.780Z"
   },
   {
    "cell": {
     "executionCount": 226,
     "executionEventId": "bd49fa8c-6b86-4dee-8df1-3fc60b67614b",
     "hasError": false,
     "id": "8ed0279c-289d-48cf-abd6-2919695f63b6",
     "outputs": [],
     "persistentId": "3bbe3b71-40e2-4fcd-b0b1-4fa1bf9c29a0",
     "text": "dset['time'] = (('time'), dates)"
    },
    "executionTime": "2019-12-08T21:45:06.071Z"
   },
   {
    "cell": {
     "executionCount": 227,
     "executionEventId": "7f536051-a3a8-4768-bcd6-07bef110f75b",
     "hasError": false,
     "id": "2d816726-e23e-43df-ae7a-62930bb16d75",
     "outputs": [
      {
       "data": {
        "text/plain": "<xarray.DataArray 'time' ()>\narray('1981-02-01T00:00:00.000000000', dtype='datetime64[ns]')\nCoordinates:\n    time     datetime64[ns] 1981-02-01"
       },
       "execution_count": 227,
       "metadata": {},
       "output_type": "execute_result"
      }
     ],
     "persistentId": "469bf983-ea9e-42b9-83b9-4b2b22f9dd0c",
     "text": "dset.time[0]"
    },
    "executionTime": "2019-12-08T21:45:07.075Z"
   },
   {
    "cell": {
     "executionCount": 228,
     "executionEventId": "62b2933d-7953-45eb-91ce-d80023c88804",
     "hasError": false,
     "id": "7cf39346-9486-44e0-99d8-7d336fe30003",
     "outputs": [
      {
       "data": {
        "text/plain": "<xarray.DataArray 'time' ()>\narray('2017-01-01T00:00:00.000000000', dtype='datetime64[ns]')\nCoordinates:\n    time     datetime64[ns] 2017-01-01"
       },
       "execution_count": 228,
       "metadata": {},
       "output_type": "execute_result"
      }
     ],
     "persistentId": "b8c1f1f8-ae69-4286-b913-d2942148cbd0",
     "text": "dset.time[-1]"
    },
    "executionTime": "2019-12-08T21:45:18.154Z"
   },
   {
    "cell": {
     "executionCount": 229,
     "executionEventId": "a6aed4a4-5b86-4b7e-a2a4-d1fdd921b439",
     "hasError": false,
     "id": "4b031f0d-f28b-43e1-b61d-e1748ed9337d",
     "outputs": [],
     "persistentId": "c94adf01-9f08-414a-a6cf-2f95e1d87e4d",
     "text": "# GCM = 'CanCM4i'\n# GCM = 'CMC2-CanCM4'\n# GCM = 'CMC1-CanCM3'\n# GCM = 'GEM-NEMO'\nGCM = 'NASA-GEOSS2S'"
    },
    "executionTime": "2019-12-08T21:45:32.049Z"
   },
   {
    "cell": {
     "executionCount": 230,
     "executionEventId": "e0c0d88c-1065-4f5d-9ff3-88901b27d1ff",
     "hasError": false,
     "id": "fe541e42-279e-4df0-871e-9c49be9b89b6",
     "outputs": [],
     "persistentId": "ecfcb229-2f64-42e3-a9f2-51c274168a86",
     "text": "# data_stream = 'HINDCAST'\ndata_stream = 'FORECAST'"
    },
    "executionTime": "2019-12-08T21:45:32.179Z"
   },
   {
    "cell": {
     "executionCount": 231,
     "executionEventId": "acc35b45-4e97-44d8-892a-1901d1d026df",
     "hasError": false,
     "id": "b4a7f8fd-661e-400d-a580-f9e41c117f8f",
     "outputs": [],
     "persistentId": "62fbf95f-77b7-452b-b19e-29f91808f6a4",
     "text": "var = 'Z500'"
    },
    "executionTime": "2019-12-08T21:45:32.363Z"
   },
   {
    "cell": {
     "executionCount": 232,
     "executionEventId": "8b2e58b4-dc6a-4721-b42f-aedaef47aea2",
     "hasError": false,
     "id": "a1efbdff-30dc-4325-a900-108c81318bf3",
     "outputs": [],
     "persistentId": "2cb31216-ce80-407b-bf9b-cde343bbda9b",
     "text": "if var == 'Z500': \n#     url = f'http://iridl.ldeo.columbia.edu/SOURCES/.Models/.NMME/.{GCM}/.{data_stream}/.MONTHLY/.hgt/dods'\n    url = f'http://iridl.ldeo.columbia.edu/SOURCES/.Models/.NMME/.{GCM}/.{data_stream}/.MONTHLY/.h500/dods'"
    },
    "executionTime": "2019-12-08T21:45:32.552Z"
   },
   {
    "cell": {
     "executionCount": 233,
     "executionEventId": "16290a06-c1e0-492b-834f-31544e08a171",
     "hasError": false,
     "id": "c2921971-a198-408b-9bcf-771f06ee32ac",
     "outputs": [
      {
       "name": "stdout",
       "output_type": "stream",
       "text": "http://iridl.ldeo.columbia.edu/SOURCES/.Models/.NMME/.NASA-GEOSS2S/.FORECAST/.MONTHLY/.h500/dods\n"
      }
     ],
     "persistentId": "20b89f2c-35e8-4cad-9fc0-670e30585e3d",
     "text": "print(url)"
    },
    "executionTime": "2019-12-08T21:45:32.741Z"
   },
   {
    "cell": {
     "executionCount": 234,
     "executionEventId": "274555f9-3c9e-4d2e-8cea-66b721198ec8",
     "hasError": false,
     "id": "fd586813-128e-402a-a110-3eec4ac5ca6b",
     "outputs": [],
     "persistentId": "71de8e43-efd7-497c-a8ee-4b804a77415d",
     "text": "dset = xr.open_dataset(url, decode_times=False)"
    },
    "executionTime": "2019-12-08T21:45:34.973Z"
   },
   {
    "cell": {
     "executionCount": 235,
     "executionEventId": "234e6d97-cdda-41ee-8983-1091ef93c0e4",
     "hasError": false,
     "id": "00d9b65d-07e7-4ef2-ae01-1a31a51c87e2",
     "outputs": [],
     "persistentId": "50cddde5-d8d1-43fd-a1e0-044309dc3d30",
     "text": "dict_coords = {}\ndict_coords['L'] = 'step'\ndict_coords['M'] = 'member'\ndict_coords['S'] = 'time'\ndict_coords['X'] = 'lon'\ndict_coords['Y'] = 'lat'"
    },
    "executionTime": "2019-12-08T21:45:35.023Z"
   },
   {
    "cell": {
     "executionCount": 236,
     "executionEventId": "aa91e689-fcfa-452d-9625-0796b4872703",
     "hasError": false,
     "id": "f49c26f7-b975-4585-a475-73b71a1c1f33",
     "outputs": [],
     "persistentId": "0314a5d4-348d-4320-aa6c-9dfea5306282",
     "text": "dset = dset.rename(dict_coords)"
    },
    "executionTime": "2019-12-08T21:45:35.039Z"
   },
   {
    "cell": {
     "executionCount": 237,
     "executionEventId": "479f29f0-681f-4985-ad40-de3ea0ee347f",
     "hasError": false,
     "id": "2b13881d-e6d9-4df8-b508-122e88cc09c4",
     "outputs": [
      {
       "data": {
        "text/plain": "<xarray.Dataset>\nDimensions:  (lat: 181, lon: 360, member: 10, step: 9, time: 26)\nCoordinates:\n  * lon      (lon) float32 0.0 1.0 2.0 3.0 4.0 ... 355.0 356.0 357.0 358.0 359.0\n  * step     (step) float32 0.5 1.5 2.5 3.5 4.5 5.5 6.5 7.5 8.5\n  * lat      (lat) float32 -90.0 -89.0 -88.0 -87.0 -86.0 ... 87.0 88.0 89.0 90.0\n  * time     (time) float32 694.0 695.0 696.0 697.0 ... 716.0 717.0 718.0 719.0\n  * member   (member) float32 1.0 2.0 3.0 4.0 5.0 6.0 7.0 8.0 9.0 10.0\nData variables:\n    h500     (time, step, member, lat, lon) float64 ...\nAttributes:\n    Conventions:  IRIDL"
       },
       "execution_count": 237,
       "metadata": {},
       "output_type": "execute_result"
      }
     ],
     "persistentId": "a915c0d0-a652-4a12-a9e0-29f4a52e5011",
     "text": "dset"
    },
    "executionTime": "2019-12-08T21:45:35.070Z"
   },
   {
    "cell": {
     "executionCount": 238,
     "executionEventId": "a1aaa045-f1c8-4000-8844-524a9e31d1a6",
     "hasError": false,
     "id": "4ddaaf9d-2b33-49c7-8128-306c85bde904",
     "outputs": [
      {
       "data": {
        "text/plain": "<xarray.DataArray 'time' (time: 26)>\narray([694., 695., 696., 697., 698., 699., 700., 701., 702., 703., 704., 705.,\n       706., 707., 708., 709., 710., 711., 712., 713., 714., 715., 716., 717.,\n       718., 719.], dtype=float32)\nCoordinates:\n  * time     (time) float32 694.0 695.0 696.0 697.0 ... 716.0 717.0 718.0 719.0\nAttributes:\n    standard_name:  forecast_reference_time\n    pointwidth:     0\n    calendar:       360\n    long_name:      Forecast Start Time\n    gridtype:       0\n    units:          months since 1960-01-01"
       },
       "execution_count": 238,
       "metadata": {},
       "output_type": "execute_result"
      }
     ],
     "persistentId": "42bcb3b1-a805-4726-bd06-bf4b2174d1fb",
     "text": "dset.time"
    },
    "executionTime": "2019-12-08T21:45:35.076Z"
   },
   {
    "cell": {
     "executionCount": 239,
     "executionEventId": "ddd4d8ac-0898-467e-9566-d7c56dd2889e",
     "hasError": false,
     "id": "c89151e9-7ef0-42b6-b5ca-9f8e46ce844d",
     "outputs": [],
     "persistentId": "21731d7d-5992-4351-8704-dc105edeb73b",
     "text": "origin = datetime(1960,1,1)"
    },
    "executionTime": "2019-12-08T21:45:35.086Z"
   },
   {
    "cell": {
     "executionCount": 240,
     "executionEventId": "031d3483-a8d4-4198-8291-8c09fe34a66e",
     "hasError": false,
     "id": "830a0ae4-8b17-4239-afc7-1ea6a20c03de",
     "outputs": [],
     "persistentId": "dad41940-570b-4474-83f2-6d25dd8f85ab",
     "text": "dates = [origin + relativedelta.relativedelta(months=x) for x in dset.time]"
    },
    "executionTime": "2019-12-08T21:45:35.093Z"
   },
   {
    "cell": {
     "executionCount": 241,
     "executionEventId": "39ad03e0-4fcf-43d3-97a4-ec7db6593b0d",
     "hasError": false,
     "id": "8ed0279c-289d-48cf-abd6-2919695f63b6",
     "outputs": [],
     "persistentId": "3bbe3b71-40e2-4fcd-b0b1-4fa1bf9c29a0",
     "text": "dset['time'] = (('time'), dates)"
    },
    "executionTime": "2019-12-08T21:45:35.581Z"
   },
   {
    "cell": {
     "executionCount": 242,
     "executionEventId": "80809bcd-cce8-45af-a7cb-0021a509dc34",
     "hasError": false,
     "id": "2d816726-e23e-43df-ae7a-62930bb16d75",
     "outputs": [
      {
       "data": {
        "text/plain": "<xarray.DataArray 'time' ()>\narray('2017-11-01T00:00:00.000000000', dtype='datetime64[ns]')\nCoordinates:\n    time     datetime64[ns] 2017-11-01"
       },
       "execution_count": 242,
       "metadata": {},
       "output_type": "execute_result"
      }
     ],
     "persistentId": "469bf983-ea9e-42b9-83b9-4b2b22f9dd0c",
     "text": "dset.time[0]"
    },
    "executionTime": "2019-12-08T21:45:36.404Z"
   },
   {
    "cell": {
     "executionCount": 243,
     "executionEventId": "53a4d159-8011-426a-9c8f-048b54200f5b",
     "hasError": false,
     "id": "7cf39346-9486-44e0-99d8-7d336fe30003",
     "outputs": [
      {
       "data": {
        "text/plain": "<xarray.DataArray 'time' ()>\narray('2019-12-01T00:00:00.000000000', dtype='datetime64[ns]')\nCoordinates:\n    time     datetime64[ns] 2019-12-01"
       },
       "execution_count": 243,
       "metadata": {},
       "output_type": "execute_result"
      }
     ],
     "persistentId": "b8c1f1f8-ae69-4286-b913-d2942148cbd0",
     "text": "dset.time[-1]"
    },
    "executionTime": "2019-12-08T21:45:37.754Z"
   },
   {
    "cell": {
     "executionCount": 244,
     "executionEventId": "aa290b32-d370-46cb-bf21-f038674c74b3",
     "hasError": false,
     "id": "fcd2878f-bc58-4efb-8bfb-c19e12cc6872",
     "outputs": [],
     "persistentId": "6b13cda8-a205-418d-8422-2be2c978a5bc",
     "text": "%matplotlib inline\nfrom matplotlib import pyplot as plt"
    },
    "executionTime": "2019-12-08T22:15:42.326Z"
   },
   {
    "cell": {
     "executionCount": 245,
     "executionEventId": "7724aa5e-4ded-427e-9391-c5e9b8d1c1ab",
     "hasError": false,
     "id": "df7d41a1-77fe-4f5e-bd43-9eed367014e6",
     "outputs": [],
     "persistentId": "2b804bee-29e0-43c4-82e0-cd7cfff0a7f8",
     "text": "import os \nimport sys \nimport pathlib"
    },
    "executionTime": "2019-12-08T22:15:42.409Z"
   },
   {
    "cell": {
     "executionCount": 246,
     "executionEventId": "f04283b8-e0aa-4887-af09-6eaa8355f965",
     "hasError": false,
     "id": "7c21e398-3b0f-4632-be0c-145bb2e74682",
     "outputs": [],
     "persistentId": "b1fcc1c6-275f-4735-a21f-8d904e4e90f8",
     "text": "from datetime import datetime, timedelta\nimport calendar\nfrom dateutil import relativedelta"
    },
    "executionTime": "2019-12-08T22:15:42.624Z"
   },
   {
    "cell": {
     "executionCount": 247,
     "executionEventId": "a9ff1979-557b-48e1-a092-d31c89b18a6a",
     "hasError": false,
     "id": "a9e47f53-1572-4cae-a249-6589a7488a08",
     "outputs": [],
     "persistentId": "8ed1015d-ec18-4776-9f17-c1a7379449af",
     "text": "import numpy as np \nimport pandas as pd \nimport xarray as xr"
    },
    "executionTime": "2019-12-08T22:15:42.789Z"
   },
   {
    "cell": {
     "executionCount": 248,
     "executionEventId": "ddcade03-2ae3-4bb5-a2c1-53dd1647b211",
     "hasError": false,
     "id": "ac78b6db-688b-4654-8e7a-f443b5524c9f",
     "outputs": [],
     "persistentId": "40159685-2082-4ab2-98f4-2a18922169f8",
     "text": "CWD = pathlib.Path.cwd()"
    },
    "executionTime": "2019-12-08T22:15:42.976Z"
   },
   {
    "cell": {
     "executionCount": 249,
     "executionEventId": "459d291b-637e-479d-96f1-ce118af84fb2",
     "hasError": false,
     "id": "fcea0eae-d5eb-461a-831e-c8040016e96a",
     "outputs": [],
     "persistentId": "89236a8a-41c1-413e-99d9-bca2d6e7d1c7",
     "text": "HOME = pathlib.Path.home()"
    },
    "executionTime": "2019-12-08T22:15:43.141Z"
   },
   {
    "cell": {
     "executionCount": 250,
     "executionEventId": "c4b893ee-7946-414c-bf87-32d7f7b06d90",
     "hasError": false,
     "id": "641d3c65-9b6d-439d-a774-5a3cae790c96",
     "outputs": [],
     "persistentId": "35ad2369-c83b-417e-996e-62c48076c6a6",
     "text": "opath = HOME / 'drives' / 'auck_projects' / 'END19101' / 'Working' / 'data' / 'hindcasts' / 'IRI' / 'CFSv2'"
    },
    "executionTime": "2019-12-08T22:15:43.310Z"
   },
   {
    "cell": {
     "executionCount": 251,
     "executionEventId": "770de8d0-f14a-43b6-962b-d49d9af3fea5",
     "hasError": false,
     "id": "4b031f0d-f28b-43e1-b61d-e1748ed9337d",
     "outputs": [],
     "persistentId": "c94adf01-9f08-414a-a6cf-2f95e1d87e4d",
     "text": "# GCM = 'CanCM4i'\n# GCM = 'CMC2-CanCM4'\n# GCM = 'CMC1-CanCM3'\n# GCM = 'GEM-NEMO'\n# GCM = 'NASA-GEOSS2S'\nGCM = 'NCAR-CESM1'"
    },
    "executionTime": "2019-12-08T22:15:44.001Z"
   },
   {
    "cell": {
     "executionCount": 252,
     "executionEventId": "e9edde71-b3fb-4010-b49f-14c3f226ef14",
     "hasError": false,
     "id": "fe541e42-279e-4df0-871e-9c49be9b89b6",
     "outputs": [],
     "persistentId": "ecfcb229-2f64-42e3-a9f2-51c274168a86",
     "text": "# data_stream = 'HINDCAST'\ndata_stream = 'FORECAST'"
    },
    "executionTime": "2019-12-08T22:15:44.352Z"
   },
   {
    "cell": {
     "executionCount": 253,
     "executionEventId": "3ab46b24-0892-45ac-8d27-91bd9ffc4858",
     "hasError": false,
     "id": "b4a7f8fd-661e-400d-a580-f9e41c117f8f",
     "outputs": [],
     "persistentId": "62fbf95f-77b7-452b-b19e-29f91808f6a4",
     "text": "var = 'Z500'\nvar = 'T2M'\n"
    },
    "executionTime": "2019-12-08T22:15:44.692Z"
   },
   {
    "cell": {
     "executionCount": 254,
     "executionEventId": "e1b8204c-9f67-4c9b-af8d-089ad9ebfe8c",
     "hasError": false,
     "id": "a1efbdff-30dc-4325-a900-108c81318bf3",
     "outputs": [],
     "persistentId": "2cb31216-ce80-407b-bf9b-cde343bbda9b",
     "text": "if var == 'Z500': \n#     url = f'http://iridl.ldeo.columbia.edu/SOURCES/.Models/.NMME/.{GCM}/.{data_stream}/.MONTHLY/.hgt/dods'\n    url = f'http://iridl.ldeo.columbia.edu/SOURCES/.Models/.NMME/.{GCM}/.{data_stream}/.MONTHLY/.h500/dods'\nelif var == 'T2M': \n    url = f'http://iridl.ldeo.columbia.edu/SOURCES/.Models/.NMME/.{GCM}/.{data_stream}/.MONTHLY/.tref/dods'"
    },
    "executionTime": "2019-12-08T22:15:47.725Z"
   },
   {
    "cell": {
     "executionCount": 255,
     "executionEventId": "2d96bf47-bf1c-4fed-b500-de52fdfbbda5",
     "hasError": false,
     "id": "c2921971-a198-408b-9bcf-771f06ee32ac",
     "outputs": [
      {
       "name": "stdout",
       "output_type": "stream",
       "text": "http://iridl.ldeo.columbia.edu/SOURCES/.Models/.NMME/.NCAR-CESM1/.FORECAST/.MONTHLY/.tref/dods\n"
      }
     ],
     "persistentId": "20b89f2c-35e8-4cad-9fc0-670e30585e3d",
     "text": "print(url)"
    },
    "executionTime": "2019-12-08T22:15:49.277Z"
   },
   {
    "cell": {
     "executionCount": 256,
     "executionEventId": "77819f0d-98b8-4cf2-9eeb-799d25210f88",
     "hasError": false,
     "id": "fd586813-128e-402a-a110-3eec4ac5ca6b",
     "outputs": [],
     "persistentId": "71de8e43-efd7-497c-a8ee-4b804a77415d",
     "text": "dset = xr.open_dataset(url, decode_times=False)"
    },
    "executionTime": "2019-12-08T22:16:02.320Z"
   },
   {
    "cell": {
     "executionCount": 257,
     "executionEventId": "a506e8a2-020f-4099-bc35-0f8d269ea1b2",
     "hasError": false,
     "id": "fe541e42-279e-4df0-871e-9c49be9b89b6",
     "outputs": [],
     "persistentId": "ecfcb229-2f64-42e3-a9f2-51c274168a86",
     "text": "# data_stream = 'HINDCAST'\ndata_stream = 'FORECAST'"
    },
    "executionTime": "2019-12-08T22:16:07.062Z"
   },
   {
    "cell": {
     "executionCount": 258,
     "executionEventId": "cb714a78-2374-44c0-a0d8-48cf0c036601",
     "hasError": false,
     "id": "b4a7f8fd-661e-400d-a580-f9e41c117f8f",
     "outputs": [],
     "persistentId": "62fbf95f-77b7-452b-b19e-29f91808f6a4",
     "text": "var = 'Z500'\nvar = 'T2M'\n"
    },
    "executionTime": "2019-12-08T22:16:07.514Z"
   },
   {
    "cell": {
     "executionCount": 259,
     "executionEventId": "e8c5dcea-5316-441a-b032-240fc0cb0b11",
     "hasError": false,
     "id": "b4a7f8fd-661e-400d-a580-f9e41c117f8f",
     "outputs": [],
     "persistentId": "62fbf95f-77b7-452b-b19e-29f91808f6a4",
     "text": "# var = 'Z500'\nvar = 'T2M'\n"
    },
    "executionTime": "2019-12-08T22:16:12.670Z"
   },
   {
    "cell": {
     "executionCount": 260,
     "executionEventId": "779a0f1a-b370-455a-bee3-013d4a8a2078",
     "hasError": false,
     "id": "a1efbdff-30dc-4325-a900-108c81318bf3",
     "outputs": [],
     "persistentId": "2cb31216-ce80-407b-bf9b-cde343bbda9b",
     "text": "if var == 'Z500': \n#     url = f'http://iridl.ldeo.columbia.edu/SOURCES/.Models/.NMME/.{GCM}/.{data_stream}/.MONTHLY/.hgt/dods'\n    url = f'http://iridl.ldeo.columbia.edu/SOURCES/.Models/.NMME/.{GCM}/.{data_stream}/.MONTHLY/.h500/dods'\nelif var == 'T2M': \n    url = f'http://iridl.ldeo.columbia.edu/SOURCES/.Models/.NMME/.{GCM}/.{data_stream}/.MONTHLY/.tref/dods'"
    },
    "executionTime": "2019-12-08T22:16:12.858Z"
   },
   {
    "cell": {
     "executionCount": 261,
     "executionEventId": "517d27e7-48af-4a45-97e7-f37c4a771ffb",
     "hasError": false,
     "id": "c2921971-a198-408b-9bcf-771f06ee32ac",
     "outputs": [
      {
       "name": "stdout",
       "output_type": "stream",
       "text": "http://iridl.ldeo.columbia.edu/SOURCES/.Models/.NMME/.NCAR-CESM1/.FORECAST/.MONTHLY/.tref/dods\n"
      }
     ],
     "persistentId": "20b89f2c-35e8-4cad-9fc0-670e30585e3d",
     "text": "print(url)"
    },
    "executionTime": "2019-12-08T22:16:13.051Z"
   },
   {
    "cell": {
     "executionCount": 262,
     "executionEventId": "837f62bc-8b92-4e3c-a5cc-3251c25001cf",
     "hasError": false,
     "id": "fd586813-128e-402a-a110-3eec4ac5ca6b",
     "outputs": [],
     "persistentId": "71de8e43-efd7-497c-a8ee-4b804a77415d",
     "text": "dset = xr.open_dataset(url, decode_times=False)"
    },
    "executionTime": "2019-12-08T22:16:13.224Z"
   },
   {
    "cell": {
     "executionCount": 263,
     "executionEventId": "e3e4706a-5937-4309-a7c8-e04fc9710b0e",
     "hasError": false,
     "id": "00d9b65d-07e7-4ef2-ae01-1a31a51c87e2",
     "outputs": [],
     "persistentId": "50cddde5-d8d1-43fd-a1e0-044309dc3d30",
     "text": "dict_coords = {}\ndict_coords['L'] = 'step'\ndict_coords['M'] = 'member'\ndict_coords['S'] = 'time'\ndict_coords['X'] = 'lon'\ndict_coords['Y'] = 'lat'"
    },
    "executionTime": "2019-12-08T22:16:13.420Z"
   },
   {
    "cell": {
     "executionCount": 264,
     "executionEventId": "7d6f8e82-47da-40ce-bf98-973938743793",
     "hasError": false,
     "id": "f49c26f7-b975-4585-a475-73b71a1c1f33",
     "outputs": [],
     "persistentId": "0314a5d4-348d-4320-aa6c-9dfea5306282",
     "text": "dset = dset.rename(dict_coords)"
    },
    "executionTime": "2019-12-08T22:16:13.704Z"
   },
   {
    "cell": {
     "executionCount": 265,
     "executionEventId": "33fdd5d3-cb3d-4ee3-b043-72ba6d061a5a",
     "hasError": false,
     "id": "2b13881d-e6d9-4df8-b508-122e88cc09c4",
     "outputs": [
      {
       "data": {
        "text/plain": "<xarray.Dataset>\nDimensions:  (lat: 181, lon: 360, member: 10, step: 12, time: 10)\nCoordinates:\n  * time     (time) float32 678.0 679.0 680.0 681.0 ... 684.0 685.0 686.0 687.0\n  * lon      (lon) float32 0.0 1.0 2.0 3.0 4.0 ... 355.0 356.0 357.0 358.0 359.0\n  * step     (step) float32 0.5 1.5 2.5 3.5 4.5 5.5 6.5 7.5 8.5 9.5 10.5 11.5\n  * lat      (lat) float32 -90.0 -89.0 -88.0 -87.0 -86.0 ... 87.0 88.0 89.0 90.0\n  * member   (member) float32 1.0 2.0 3.0 4.0 5.0 6.0 7.0 8.0 9.0 10.0\nData variables:\n    tref     (time, step, member, lat, lon) float32 ...\nAttributes:\n    Conventions:  IRIDL"
       },
       "execution_count": 265,
       "metadata": {},
       "output_type": "execute_result"
      }
     ],
     "persistentId": "a915c0d0-a652-4a12-a9e0-29f4a52e5011",
     "text": "dset"
    },
    "executionTime": "2019-12-08T22:16:14.104Z"
   },
   {
    "cell": {
     "executionCount": 266,
     "executionEventId": "cf263484-984c-472a-9bc8-706113bb8a04",
     "hasError": false,
     "id": "4ddaaf9d-2b33-49c7-8128-306c85bde904",
     "outputs": [
      {
       "data": {
        "text/plain": "<xarray.DataArray 'time' (time: 10)>\narray([678., 679., 680., 681., 682., 683., 684., 685., 686., 687.],\n      dtype=float32)\nCoordinates:\n  * time     (time) float32 678.0 679.0 680.0 681.0 ... 684.0 685.0 686.0 687.0\nAttributes:\n    standard_name:  forecast_reference_time\n    long_name:      Forecast Start Time\n    pointwidth:     0\n    calendar:       360\n    defaultvalue:   687.0\n    expires:        1493599320\n    gridtype:       0\n    units:          months since 1960-01-01"
       },
       "execution_count": 266,
       "metadata": {},
       "output_type": "execute_result"
      }
     ],
     "persistentId": "42bcb3b1-a805-4726-bd06-bf4b2174d1fb",
     "text": "dset.time"
    },
    "executionTime": "2019-12-08T22:16:14.303Z"
   },
   {
    "cell": {
     "executionCount": 267,
     "executionEventId": "5dea9d6c-37eb-4c0c-a704-29332e94f72e",
     "hasError": false,
     "id": "c89151e9-7ef0-42b6-b5ca-9f8e46ce844d",
     "outputs": [],
     "persistentId": "21731d7d-5992-4351-8704-dc105edeb73b",
     "text": "origin = datetime(1960,1,1)"
    },
    "executionTime": "2019-12-08T22:16:15.110Z"
   },
   {
    "cell": {
     "executionCount": 268,
     "executionEventId": "0f9313ef-60f6-47a8-8b06-b85ee15df35e",
     "hasError": false,
     "id": "830a0ae4-8b17-4239-afc7-1ea6a20c03de",
     "outputs": [],
     "persistentId": "dad41940-570b-4474-83f2-6d25dd8f85ab",
     "text": "dates = [origin + relativedelta.relativedelta(months=x) for x in dset.time]"
    },
    "executionTime": "2019-12-08T22:16:15.458Z"
   },
   {
    "cell": {
     "executionCount": 269,
     "executionEventId": "ecdf8b50-40b8-46ec-a7f8-00d4c1c2f12d",
     "hasError": false,
     "id": "8ed0279c-289d-48cf-abd6-2919695f63b6",
     "outputs": [],
     "persistentId": "3bbe3b71-40e2-4fcd-b0b1-4fa1bf9c29a0",
     "text": "dset['time'] = (('time'), dates)"
    },
    "executionTime": "2019-12-08T22:16:15.641Z"
   },
   {
    "cell": {
     "executionCount": 270,
     "executionEventId": "273cb7d6-123a-48d8-add2-2e87e0f4eae0",
     "hasError": false,
     "id": "2d816726-e23e-43df-ae7a-62930bb16d75",
     "outputs": [
      {
       "data": {
        "text/plain": "<xarray.DataArray 'time' ()>\narray('2016-07-01T00:00:00.000000000', dtype='datetime64[ns]')\nCoordinates:\n    time     datetime64[ns] 2016-07-01"
       },
       "execution_count": 270,
       "metadata": {},
       "output_type": "execute_result"
      }
     ],
     "persistentId": "469bf983-ea9e-42b9-83b9-4b2b22f9dd0c",
     "text": "dset.time[0]"
    },
    "executionTime": "2019-12-08T22:16:15.832Z"
   },
   {
    "cell": {
     "executionCount": 271,
     "executionEventId": "ff5b7413-90dc-46f3-a74b-f3d3279c73ea",
     "hasError": false,
     "id": "7cf39346-9486-44e0-99d8-7d336fe30003",
     "outputs": [
      {
       "data": {
        "text/plain": "<xarray.DataArray 'time' ()>\narray('2017-04-01T00:00:00.000000000', dtype='datetime64[ns]')\nCoordinates:\n    time     datetime64[ns] 2017-04-01"
       },
       "execution_count": 271,
       "metadata": {},
       "output_type": "execute_result"
      }
     ],
     "persistentId": "b8c1f1f8-ae69-4286-b913-d2942148cbd0",
     "text": "dset.time[-1]"
    },
    "executionTime": "2019-12-08T22:16:17.337Z"
   },
   {
    "cell": {
     "executionCount": 272,
     "executionEventId": "a92768e9-dc3d-49d5-bc1e-9fa71cb9ef35",
     "hasError": false,
     "id": "fcd2878f-bc58-4efb-8bfb-c19e12cc6872",
     "outputs": [],
     "persistentId": "6b13cda8-a205-418d-8422-2be2c978a5bc",
     "text": "%matplotlib inline\nfrom matplotlib import pyplot as plt"
    },
    "executionTime": "2019-12-08T22:18:58.072Z"
   },
   {
    "cell": {
     "executionCount": 273,
     "executionEventId": "f6e9bea5-e286-4bc9-a8d6-ddd5bca58e89",
     "hasError": false,
     "id": "df7d41a1-77fe-4f5e-bd43-9eed367014e6",
     "outputs": [],
     "persistentId": "2b804bee-29e0-43c4-82e0-cd7cfff0a7f8",
     "text": "import os \nimport sys \nimport pathlib"
    },
    "executionTime": "2019-12-08T22:18:58.199Z"
   },
   {
    "cell": {
     "executionCount": 274,
     "executionEventId": "9f0d3f7c-3bee-497c-a80d-f81f2aaafda9",
     "hasError": false,
     "id": "7c21e398-3b0f-4632-be0c-145bb2e74682",
     "outputs": [],
     "persistentId": "b1fcc1c6-275f-4735-a21f-8d904e4e90f8",
     "text": "from datetime import datetime, timedelta\nimport calendar\nfrom dateutil import relativedelta"
    },
    "executionTime": "2019-12-08T22:18:58.337Z"
   },
   {
    "cell": {
     "executionCount": 275,
     "executionEventId": "5a5f46cc-3577-4dc4-b5b6-5ccd4cb71963",
     "hasError": false,
     "id": "a9e47f53-1572-4cae-a249-6589a7488a08",
     "outputs": [],
     "persistentId": "8ed1015d-ec18-4776-9f17-c1a7379449af",
     "text": "import numpy as np \nimport pandas as pd \nimport xarray as xr"
    },
    "executionTime": "2019-12-08T22:18:58.521Z"
   },
   {
    "cell": {
     "executionCount": 276,
     "executionEventId": "dd712d0d-3e5c-48ba-9a6d-d24469d02f00",
     "hasError": false,
     "id": "ac78b6db-688b-4654-8e7a-f443b5524c9f",
     "outputs": [],
     "persistentId": "40159685-2082-4ab2-98f4-2a18922169f8",
     "text": "CWD = pathlib.Path.cwd()"
    },
    "executionTime": "2019-12-08T22:18:58.700Z"
   },
   {
    "cell": {
     "executionCount": 277,
     "executionEventId": "84ae2972-b8bb-459e-921b-b7a90681c9b8",
     "hasError": false,
     "id": "fcea0eae-d5eb-461a-831e-c8040016e96a",
     "outputs": [],
     "persistentId": "89236a8a-41c1-413e-99d9-bca2d6e7d1c7",
     "text": "HOME = pathlib.Path.home()"
    },
    "executionTime": "2019-12-08T22:18:58.868Z"
   },
   {
    "cell": {
     "executionCount": 278,
     "executionEventId": "0a05ba4b-2689-4a01-ba75-99f8ab159356",
     "hasError": false,
     "id": "641d3c65-9b6d-439d-a774-5a3cae790c96",
     "outputs": [],
     "persistentId": "35ad2369-c83b-417e-996e-62c48076c6a6",
     "text": "opath = HOME / 'drives' / 'auck_projects' / 'END19101' / 'Working' / 'data' / 'hindcasts' / 'IRI' / 'CFSv2'"
    },
    "executionTime": "2019-12-08T22:18:59.005Z"
   },
   {
    "cell": {
     "executionCount": 279,
     "executionEventId": "fd519a92-f559-4278-a95b-53a7bf143918",
     "hasError": false,
     "id": "4b031f0d-f28b-43e1-b61d-e1748ed9337d",
     "outputs": [],
     "persistentId": "c94adf01-9f08-414a-a6cf-2f95e1d87e4d",
     "text": "# GCM = 'CanCM4i'\n# GCM = 'CMC2-CanCM4'\n# GCM = 'CMC1-CanCM3'\n# GCM = 'GEM-NEMO'\n# GCM = 'NASA-GEOSS2S'\n# GCM = 'NCAR-CESM1'\nGCM = 'NCEP-CFSv2'"
    },
    "executionTime": "2019-12-08T22:18:59.183Z"
   },
   {
    "cell": {
     "executionCount": 280,
     "executionEventId": "adb60478-b678-4c27-9a92-f3ea09e189eb",
     "hasError": false,
     "id": "fe541e42-279e-4df0-871e-9c49be9b89b6",
     "outputs": [],
     "persistentId": "ecfcb229-2f64-42e3-a9f2-51c274168a86",
     "text": "# data_stream = 'HINDCAST'\ndata_stream = 'FORECAST'"
    },
    "executionTime": "2019-12-08T22:19:00.491Z"
   },
   {
    "cell": {
     "executionCount": 281,
     "executionEventId": "5e5d0b60-76f4-4f5a-99d0-1a0158fb6866",
     "hasError": false,
     "id": "b4a7f8fd-661e-400d-a580-f9e41c117f8f",
     "outputs": [],
     "persistentId": "62fbf95f-77b7-452b-b19e-29f91808f6a4",
     "text": "# var = 'Z500'\nvar = 'T2M'\n"
    },
    "executionTime": "2019-12-08T22:19:01.110Z"
   },
   {
    "cell": {
     "executionCount": 282,
     "executionEventId": "95439f41-2dc3-43cc-b71e-f8c4fcce0c73",
     "hasError": false,
     "id": "a1efbdff-30dc-4325-a900-108c81318bf3",
     "outputs": [],
     "persistentId": "2cb31216-ce80-407b-bf9b-cde343bbda9b",
     "text": "if var == 'Z500': \n#     url = f'http://iridl.ldeo.columbia.edu/SOURCES/.Models/.NMME/.{GCM}/.{data_stream}/.MONTHLY/.hgt/dods'\n    url = f'http://iridl.ldeo.columbia.edu/SOURCES/.Models/.NMME/.{GCM}/.{data_stream}/.MONTHLY/.h500/dods'\nelif var == 'T2M': \n    url = f'http://iridl.ldeo.columbia.edu/SOURCES/.Models/.NMME/.{GCM}/.{data_stream}/.MONTHLY/.tref/dods'"
    },
    "executionTime": "2019-12-08T22:19:02.051Z"
   },
   {
    "cell": {
     "executionCount": 283,
     "executionEventId": "90beb284-3485-4cbd-9d23-df2db0dfc141",
     "hasError": false,
     "id": "c2921971-a198-408b-9bcf-771f06ee32ac",
     "outputs": [
      {
       "name": "stdout",
       "output_type": "stream",
       "text": "http://iridl.ldeo.columbia.edu/SOURCES/.Models/.NMME/.NCEP-CFSv2/.FORECAST/.MONTHLY/.tref/dods\n"
      }
     ],
     "persistentId": "20b89f2c-35e8-4cad-9fc0-670e30585e3d",
     "text": "print(url)"
    },
    "executionTime": "2019-12-08T22:19:03.642Z"
   },
   {
    "cell": {
     "executionCount": 284,
     "executionEventId": "19fb577d-20df-4c56-a497-9e30522d660f",
     "hasError": true,
     "id": "fd586813-128e-402a-a110-3eec4ac5ca6b",
     "outputs": [
      {
       "ename": "OSError",
       "evalue": "[Errno -90] NetCDF: file not found: b'http://iridl.ldeo.columbia.edu/SOURCES/.Models/.NMME/.NCEP-CFSv2/.FORECAST/.MONTHLY/.tref/dods'",
       "output_type": "error",
       "traceback": [
        "\u001b[0;31m---------------------------------------------------------------------------\u001b[0m",
        "\u001b[0;31mKeyError\u001b[0m                                  Traceback (most recent call last)",
        "\u001b[0;32m~/anaconda3/envs/pangeo/lib/python3.7/site-packages/xarray/backends/file_manager.py\u001b[0m in \u001b[0;36m_acquire_with_cache_info\u001b[0;34m(self, needs_lock)\u001b[0m\n\u001b[1;32m    197\u001b[0m             \u001b[0;32mtry\u001b[0m\u001b[0;34m:\u001b[0m\u001b[0;34m\u001b[0m\u001b[0;34m\u001b[0m\u001b[0m\n\u001b[0;32m--> 198\u001b[0;31m                 \u001b[0mfile\u001b[0m \u001b[0;34m=\u001b[0m \u001b[0mself\u001b[0m\u001b[0;34m.\u001b[0m\u001b[0m_cache\u001b[0m\u001b[0;34m[\u001b[0m\u001b[0mself\u001b[0m\u001b[0;34m.\u001b[0m\u001b[0m_key\u001b[0m\u001b[0;34m]\u001b[0m\u001b[0;34m\u001b[0m\u001b[0;34m\u001b[0m\u001b[0m\n\u001b[0m\u001b[1;32m    199\u001b[0m             \u001b[0;32mexcept\u001b[0m \u001b[0mKeyError\u001b[0m\u001b[0;34m:\u001b[0m\u001b[0;34m\u001b[0m\u001b[0;34m\u001b[0m\u001b[0m\n",
        "\u001b[0;32m~/anaconda3/envs/pangeo/lib/python3.7/site-packages/xarray/backends/lru_cache.py\u001b[0m in \u001b[0;36m__getitem__\u001b[0;34m(self, key)\u001b[0m\n\u001b[1;32m     52\u001b[0m         \u001b[0;32mwith\u001b[0m \u001b[0mself\u001b[0m\u001b[0;34m.\u001b[0m\u001b[0m_lock\u001b[0m\u001b[0;34m:\u001b[0m\u001b[0;34m\u001b[0m\u001b[0;34m\u001b[0m\u001b[0m\n\u001b[0;32m---> 53\u001b[0;31m             \u001b[0mvalue\u001b[0m \u001b[0;34m=\u001b[0m \u001b[0mself\u001b[0m\u001b[0;34m.\u001b[0m\u001b[0m_cache\u001b[0m\u001b[0;34m[\u001b[0m\u001b[0mkey\u001b[0m\u001b[0;34m]\u001b[0m\u001b[0;34m\u001b[0m\u001b[0;34m\u001b[0m\u001b[0m\n\u001b[0m\u001b[1;32m     54\u001b[0m             \u001b[0mself\u001b[0m\u001b[0;34m.\u001b[0m\u001b[0m_cache\u001b[0m\u001b[0;34m.\u001b[0m\u001b[0mmove_to_end\u001b[0m\u001b[0;34m(\u001b[0m\u001b[0mkey\u001b[0m\u001b[0;34m)\u001b[0m\u001b[0;34m\u001b[0m\u001b[0;34m\u001b[0m\u001b[0m\n",
        "\u001b[0;31mKeyError\u001b[0m: [<class 'netCDF4._netCDF4.Dataset'>, ('http://iridl.ldeo.columbia.edu/SOURCES/.Models/.NMME/.NCEP-CFSv2/.FORECAST/.MONTHLY/.tref/dods',), 'r', (('clobber', True), ('diskless', False), ('format', 'NETCDF4'), ('persist', False))]",
        "\nDuring handling of the above exception, another exception occurred:\n",
        "\u001b[0;31mOSError\u001b[0m                                   Traceback (most recent call last)",
        "\u001b[0;32m<ipython-input-284-288dc1187949>\u001b[0m in \u001b[0;36m<module>\u001b[0;34m\u001b[0m\n\u001b[0;32m----> 1\u001b[0;31m \u001b[0mdset\u001b[0m \u001b[0;34m=\u001b[0m \u001b[0mxr\u001b[0m\u001b[0;34m.\u001b[0m\u001b[0mopen_dataset\u001b[0m\u001b[0;34m(\u001b[0m\u001b[0murl\u001b[0m\u001b[0;34m,\u001b[0m \u001b[0mdecode_times\u001b[0m\u001b[0;34m=\u001b[0m\u001b[0;32mFalse\u001b[0m\u001b[0;34m)\u001b[0m\u001b[0;34m\u001b[0m\u001b[0;34m\u001b[0m\u001b[0m\n\u001b[0m",
        "\u001b[0;32m~/anaconda3/envs/pangeo/lib/python3.7/site-packages/xarray/backends/api.py\u001b[0m in \u001b[0;36mopen_dataset\u001b[0;34m(filename_or_obj, group, decode_cf, mask_and_scale, decode_times, autoclose, concat_characters, decode_coords, engine, chunks, lock, cache, drop_variables, backend_kwargs, use_cftime)\u001b[0m\n\u001b[1;32m    497\u001b[0m         \u001b[0;32mif\u001b[0m \u001b[0mengine\u001b[0m \u001b[0;34m==\u001b[0m \u001b[0;34m\"netcdf4\"\u001b[0m\u001b[0;34m:\u001b[0m\u001b[0;34m\u001b[0m\u001b[0;34m\u001b[0m\u001b[0m\n\u001b[1;32m    498\u001b[0m             store = backends.NetCDF4DataStore.open(\n\u001b[0;32m--> 499\u001b[0;31m                 \u001b[0mfilename_or_obj\u001b[0m\u001b[0;34m,\u001b[0m \u001b[0mgroup\u001b[0m\u001b[0;34m=\u001b[0m\u001b[0mgroup\u001b[0m\u001b[0;34m,\u001b[0m \u001b[0mlock\u001b[0m\u001b[0;34m=\u001b[0m\u001b[0mlock\u001b[0m\u001b[0;34m,\u001b[0m \u001b[0;34m**\u001b[0m\u001b[0mbackend_kwargs\u001b[0m\u001b[0;34m\u001b[0m\u001b[0;34m\u001b[0m\u001b[0m\n\u001b[0m\u001b[1;32m    500\u001b[0m             )\n\u001b[1;32m    501\u001b[0m         \u001b[0;32melif\u001b[0m \u001b[0mengine\u001b[0m \u001b[0;34m==\u001b[0m \u001b[0;34m\"scipy\"\u001b[0m\u001b[0;34m:\u001b[0m\u001b[0;34m\u001b[0m\u001b[0;34m\u001b[0m\u001b[0m\n",
        "\u001b[0;32m~/anaconda3/envs/pangeo/lib/python3.7/site-packages/xarray/backends/netCDF4_.py\u001b[0m in \u001b[0;36mopen\u001b[0;34m(cls, filename, mode, format, group, clobber, diskless, persist, lock, lock_maker, autoclose)\u001b[0m\n\u001b[1;32m    355\u001b[0m             \u001b[0mnetCDF4\u001b[0m\u001b[0;34m.\u001b[0m\u001b[0mDataset\u001b[0m\u001b[0;34m,\u001b[0m \u001b[0mfilename\u001b[0m\u001b[0;34m,\u001b[0m \u001b[0mmode\u001b[0m\u001b[0;34m=\u001b[0m\u001b[0mmode\u001b[0m\u001b[0;34m,\u001b[0m \u001b[0mkwargs\u001b[0m\u001b[0;34m=\u001b[0m\u001b[0mkwargs\u001b[0m\u001b[0;34m\u001b[0m\u001b[0;34m\u001b[0m\u001b[0m\n\u001b[1;32m    356\u001b[0m         )\n\u001b[0;32m--> 357\u001b[0;31m         \u001b[0;32mreturn\u001b[0m \u001b[0mcls\u001b[0m\u001b[0;34m(\u001b[0m\u001b[0mmanager\u001b[0m\u001b[0;34m,\u001b[0m \u001b[0mgroup\u001b[0m\u001b[0;34m=\u001b[0m\u001b[0mgroup\u001b[0m\u001b[0;34m,\u001b[0m \u001b[0mmode\u001b[0m\u001b[0;34m=\u001b[0m\u001b[0mmode\u001b[0m\u001b[0;34m,\u001b[0m \u001b[0mlock\u001b[0m\u001b[0;34m=\u001b[0m\u001b[0mlock\u001b[0m\u001b[0;34m,\u001b[0m \u001b[0mautoclose\u001b[0m\u001b[0;34m=\u001b[0m\u001b[0mautoclose\u001b[0m\u001b[0;34m)\u001b[0m\u001b[0;34m\u001b[0m\u001b[0;34m\u001b[0m\u001b[0m\n\u001b[0m\u001b[1;32m    358\u001b[0m \u001b[0;34m\u001b[0m\u001b[0m\n\u001b[1;32m    359\u001b[0m     \u001b[0;32mdef\u001b[0m \u001b[0m_acquire\u001b[0m\u001b[0;34m(\u001b[0m\u001b[0mself\u001b[0m\u001b[0;34m,\u001b[0m \u001b[0mneeds_lock\u001b[0m\u001b[0;34m=\u001b[0m\u001b[0;32mTrue\u001b[0m\u001b[0;34m)\u001b[0m\u001b[0;34m:\u001b[0m\u001b[0;34m\u001b[0m\u001b[0;34m\u001b[0m\u001b[0m\n",
        "\u001b[0;32m~/anaconda3/envs/pangeo/lib/python3.7/site-packages/xarray/backends/netCDF4_.py\u001b[0m in \u001b[0;36m__init__\u001b[0;34m(self, manager, group, mode, lock, autoclose)\u001b[0m\n\u001b[1;32m    311\u001b[0m         \u001b[0mself\u001b[0m\u001b[0;34m.\u001b[0m\u001b[0m_group\u001b[0m \u001b[0;34m=\u001b[0m \u001b[0mgroup\u001b[0m\u001b[0;34m\u001b[0m\u001b[0;34m\u001b[0m\u001b[0m\n\u001b[1;32m    312\u001b[0m         \u001b[0mself\u001b[0m\u001b[0;34m.\u001b[0m\u001b[0m_mode\u001b[0m \u001b[0;34m=\u001b[0m \u001b[0mmode\u001b[0m\u001b[0;34m\u001b[0m\u001b[0;34m\u001b[0m\u001b[0m\n\u001b[0;32m--> 313\u001b[0;31m         \u001b[0mself\u001b[0m\u001b[0;34m.\u001b[0m\u001b[0mformat\u001b[0m \u001b[0;34m=\u001b[0m \u001b[0mself\u001b[0m\u001b[0;34m.\u001b[0m\u001b[0mds\u001b[0m\u001b[0;34m.\u001b[0m\u001b[0mdata_model\u001b[0m\u001b[0;34m\u001b[0m\u001b[0;34m\u001b[0m\u001b[0m\n\u001b[0m\u001b[1;32m    314\u001b[0m         \u001b[0mself\u001b[0m\u001b[0;34m.\u001b[0m\u001b[0m_filename\u001b[0m \u001b[0;34m=\u001b[0m \u001b[0mself\u001b[0m\u001b[0;34m.\u001b[0m\u001b[0mds\u001b[0m\u001b[0;34m.\u001b[0m\u001b[0mfilepath\u001b[0m\u001b[0;34m(\u001b[0m\u001b[0;34m)\u001b[0m\u001b[0;34m\u001b[0m\u001b[0;34m\u001b[0m\u001b[0m\n\u001b[1;32m    315\u001b[0m         \u001b[0mself\u001b[0m\u001b[0;34m.\u001b[0m\u001b[0mis_remote\u001b[0m \u001b[0;34m=\u001b[0m \u001b[0mis_remote_uri\u001b[0m\u001b[0;34m(\u001b[0m\u001b[0mself\u001b[0m\u001b[0;34m.\u001b[0m\u001b[0m_filename\u001b[0m\u001b[0;34m)\u001b[0m\u001b[0;34m\u001b[0m\u001b[0;34m\u001b[0m\u001b[0m\n",
        "\u001b[0;32m~/anaconda3/envs/pangeo/lib/python3.7/site-packages/xarray/backends/netCDF4_.py\u001b[0m in \u001b[0;36mds\u001b[0;34m(self)\u001b[0m\n\u001b[1;32m    364\u001b[0m     \u001b[0;34m@\u001b[0m\u001b[0mproperty\u001b[0m\u001b[0;34m\u001b[0m\u001b[0;34m\u001b[0m\u001b[0m\n\u001b[1;32m    365\u001b[0m     \u001b[0;32mdef\u001b[0m \u001b[0mds\u001b[0m\u001b[0;34m(\u001b[0m\u001b[0mself\u001b[0m\u001b[0;34m)\u001b[0m\u001b[0;34m:\u001b[0m\u001b[0;34m\u001b[0m\u001b[0;34m\u001b[0m\u001b[0m\n\u001b[0;32m--> 366\u001b[0;31m         \u001b[0;32mreturn\u001b[0m \u001b[0mself\u001b[0m\u001b[0;34m.\u001b[0m\u001b[0m_acquire\u001b[0m\u001b[0;34m(\u001b[0m\u001b[0;34m)\u001b[0m\u001b[0;34m\u001b[0m\u001b[0;34m\u001b[0m\u001b[0m\n\u001b[0m\u001b[1;32m    367\u001b[0m \u001b[0;34m\u001b[0m\u001b[0m\n\u001b[1;32m    368\u001b[0m     \u001b[0;32mdef\u001b[0m \u001b[0mopen_store_variable\u001b[0m\u001b[0;34m(\u001b[0m\u001b[0mself\u001b[0m\u001b[0;34m,\u001b[0m \u001b[0mname\u001b[0m\u001b[0;34m,\u001b[0m \u001b[0mvar\u001b[0m\u001b[0;34m)\u001b[0m\u001b[0;34m:\u001b[0m\u001b[0;34m\u001b[0m\u001b[0;34m\u001b[0m\u001b[0m\n",
        "\u001b[0;32m~/anaconda3/envs/pangeo/lib/python3.7/site-packages/xarray/backends/netCDF4_.py\u001b[0m in \u001b[0;36m_acquire\u001b[0;34m(self, needs_lock)\u001b[0m\n\u001b[1;32m    358\u001b[0m \u001b[0;34m\u001b[0m\u001b[0m\n\u001b[1;32m    359\u001b[0m     \u001b[0;32mdef\u001b[0m \u001b[0m_acquire\u001b[0m\u001b[0;34m(\u001b[0m\u001b[0mself\u001b[0m\u001b[0;34m,\u001b[0m \u001b[0mneeds_lock\u001b[0m\u001b[0;34m=\u001b[0m\u001b[0;32mTrue\u001b[0m\u001b[0;34m)\u001b[0m\u001b[0;34m:\u001b[0m\u001b[0;34m\u001b[0m\u001b[0;34m\u001b[0m\u001b[0m\n\u001b[0;32m--> 360\u001b[0;31m         \u001b[0;32mwith\u001b[0m \u001b[0mself\u001b[0m\u001b[0;34m.\u001b[0m\u001b[0m_manager\u001b[0m\u001b[0;34m.\u001b[0m\u001b[0macquire_context\u001b[0m\u001b[0;34m(\u001b[0m\u001b[0mneeds_lock\u001b[0m\u001b[0;34m)\u001b[0m \u001b[0;32mas\u001b[0m \u001b[0mroot\u001b[0m\u001b[0;34m:\u001b[0m\u001b[0;34m\u001b[0m\u001b[0;34m\u001b[0m\u001b[0m\n\u001b[0m\u001b[1;32m    361\u001b[0m             \u001b[0mds\u001b[0m \u001b[0;34m=\u001b[0m \u001b[0m_nc4_require_group\u001b[0m\u001b[0;34m(\u001b[0m\u001b[0mroot\u001b[0m\u001b[0;34m,\u001b[0m \u001b[0mself\u001b[0m\u001b[0;34m.\u001b[0m\u001b[0m_group\u001b[0m\u001b[0;34m,\u001b[0m \u001b[0mself\u001b[0m\u001b[0;34m.\u001b[0m\u001b[0m_mode\u001b[0m\u001b[0;34m)\u001b[0m\u001b[0;34m\u001b[0m\u001b[0;34m\u001b[0m\u001b[0m\n\u001b[1;32m    362\u001b[0m         \u001b[0;32mreturn\u001b[0m \u001b[0mds\u001b[0m\u001b[0;34m\u001b[0m\u001b[0;34m\u001b[0m\u001b[0m\n",
        "\u001b[0;32m~/anaconda3/envs/pangeo/lib/python3.7/contextlib.py\u001b[0m in \u001b[0;36m__enter__\u001b[0;34m(self)\u001b[0m\n\u001b[1;32m    110\u001b[0m         \u001b[0;32mdel\u001b[0m \u001b[0mself\u001b[0m\u001b[0;34m.\u001b[0m\u001b[0margs\u001b[0m\u001b[0;34m,\u001b[0m \u001b[0mself\u001b[0m\u001b[0;34m.\u001b[0m\u001b[0mkwds\u001b[0m\u001b[0;34m,\u001b[0m \u001b[0mself\u001b[0m\u001b[0;34m.\u001b[0m\u001b[0mfunc\u001b[0m\u001b[0;34m\u001b[0m\u001b[0;34m\u001b[0m\u001b[0m\n\u001b[1;32m    111\u001b[0m         \u001b[0;32mtry\u001b[0m\u001b[0;34m:\u001b[0m\u001b[0;34m\u001b[0m\u001b[0;34m\u001b[0m\u001b[0m\n\u001b[0;32m--> 112\u001b[0;31m             \u001b[0;32mreturn\u001b[0m \u001b[0mnext\u001b[0m\u001b[0;34m(\u001b[0m\u001b[0mself\u001b[0m\u001b[0;34m.\u001b[0m\u001b[0mgen\u001b[0m\u001b[0;34m)\u001b[0m\u001b[0;34m\u001b[0m\u001b[0;34m\u001b[0m\u001b[0m\n\u001b[0m\u001b[1;32m    113\u001b[0m         \u001b[0;32mexcept\u001b[0m \u001b[0mStopIteration\u001b[0m\u001b[0;34m:\u001b[0m\u001b[0;34m\u001b[0m\u001b[0;34m\u001b[0m\u001b[0m\n\u001b[1;32m    114\u001b[0m             \u001b[0;32mraise\u001b[0m \u001b[0mRuntimeError\u001b[0m\u001b[0;34m(\u001b[0m\u001b[0;34m\"generator didn't yield\"\u001b[0m\u001b[0;34m)\u001b[0m \u001b[0;32mfrom\u001b[0m \u001b[0;32mNone\u001b[0m\u001b[0;34m\u001b[0m\u001b[0;34m\u001b[0m\u001b[0m\n",
        "\u001b[0;32m~/anaconda3/envs/pangeo/lib/python3.7/site-packages/xarray/backends/file_manager.py\u001b[0m in \u001b[0;36macquire_context\u001b[0;34m(self, needs_lock)\u001b[0m\n\u001b[1;32m    184\u001b[0m     \u001b[0;32mdef\u001b[0m \u001b[0macquire_context\u001b[0m\u001b[0;34m(\u001b[0m\u001b[0mself\u001b[0m\u001b[0;34m,\u001b[0m \u001b[0mneeds_lock\u001b[0m\u001b[0;34m=\u001b[0m\u001b[0;32mTrue\u001b[0m\u001b[0;34m)\u001b[0m\u001b[0;34m:\u001b[0m\u001b[0;34m\u001b[0m\u001b[0;34m\u001b[0m\u001b[0m\n\u001b[1;32m    185\u001b[0m         \u001b[0;34m\"\"\"Context manager for acquiring a file.\"\"\"\u001b[0m\u001b[0;34m\u001b[0m\u001b[0;34m\u001b[0m\u001b[0m\n\u001b[0;32m--> 186\u001b[0;31m         \u001b[0mfile\u001b[0m\u001b[0;34m,\u001b[0m \u001b[0mcached\u001b[0m \u001b[0;34m=\u001b[0m \u001b[0mself\u001b[0m\u001b[0;34m.\u001b[0m\u001b[0m_acquire_with_cache_info\u001b[0m\u001b[0;34m(\u001b[0m\u001b[0mneeds_lock\u001b[0m\u001b[0;34m)\u001b[0m\u001b[0;34m\u001b[0m\u001b[0;34m\u001b[0m\u001b[0m\n\u001b[0m\u001b[1;32m    187\u001b[0m         \u001b[0;32mtry\u001b[0m\u001b[0;34m:\u001b[0m\u001b[0;34m\u001b[0m\u001b[0;34m\u001b[0m\u001b[0m\n\u001b[1;32m    188\u001b[0m             \u001b[0;32myield\u001b[0m \u001b[0mfile\u001b[0m\u001b[0;34m\u001b[0m\u001b[0;34m\u001b[0m\u001b[0m\n",
        "\u001b[0;32m~/anaconda3/envs/pangeo/lib/python3.7/site-packages/xarray/backends/file_manager.py\u001b[0m in \u001b[0;36m_acquire_with_cache_info\u001b[0;34m(self, needs_lock)\u001b[0m\n\u001b[1;32m    202\u001b[0m                     \u001b[0mkwargs\u001b[0m \u001b[0;34m=\u001b[0m \u001b[0mkwargs\u001b[0m\u001b[0;34m.\u001b[0m\u001b[0mcopy\u001b[0m\u001b[0;34m(\u001b[0m\u001b[0;34m)\u001b[0m\u001b[0;34m\u001b[0m\u001b[0;34m\u001b[0m\u001b[0m\n\u001b[1;32m    203\u001b[0m                     \u001b[0mkwargs\u001b[0m\u001b[0;34m[\u001b[0m\u001b[0;34m\"mode\"\u001b[0m\u001b[0;34m]\u001b[0m \u001b[0;34m=\u001b[0m \u001b[0mself\u001b[0m\u001b[0;34m.\u001b[0m\u001b[0m_mode\u001b[0m\u001b[0;34m\u001b[0m\u001b[0;34m\u001b[0m\u001b[0m\n\u001b[0;32m--> 204\u001b[0;31m                 \u001b[0mfile\u001b[0m \u001b[0;34m=\u001b[0m \u001b[0mself\u001b[0m\u001b[0;34m.\u001b[0m\u001b[0m_opener\u001b[0m\u001b[0;34m(\u001b[0m\u001b[0;34m*\u001b[0m\u001b[0mself\u001b[0m\u001b[0;34m.\u001b[0m\u001b[0m_args\u001b[0m\u001b[0;34m,\u001b[0m \u001b[0;34m**\u001b[0m\u001b[0mkwargs\u001b[0m\u001b[0;34m)\u001b[0m\u001b[0;34m\u001b[0m\u001b[0;34m\u001b[0m\u001b[0m\n\u001b[0m\u001b[1;32m    205\u001b[0m                 \u001b[0;32mif\u001b[0m \u001b[0mself\u001b[0m\u001b[0;34m.\u001b[0m\u001b[0m_mode\u001b[0m \u001b[0;34m==\u001b[0m \u001b[0;34m\"w\"\u001b[0m\u001b[0;34m:\u001b[0m\u001b[0;34m\u001b[0m\u001b[0;34m\u001b[0m\u001b[0m\n\u001b[1;32m    206\u001b[0m                     \u001b[0;31m# ensure file doesn't get overriden when opened again\u001b[0m\u001b[0;34m\u001b[0m\u001b[0;34m\u001b[0m\u001b[0;34m\u001b[0m\u001b[0m\n",
        "\u001b[0;32mnetCDF4/_netCDF4.pyx\u001b[0m in \u001b[0;36mnetCDF4._netCDF4.Dataset.__init__\u001b[0;34m()\u001b[0m\n",
        "\u001b[0;32mnetCDF4/_netCDF4.pyx\u001b[0m in \u001b[0;36mnetCDF4._netCDF4._ensure_nc_success\u001b[0;34m()\u001b[0m\n",
        "\u001b[0;31mOSError\u001b[0m: [Errno -90] NetCDF: file not found: b'http://iridl.ldeo.columbia.edu/SOURCES/.Models/.NMME/.NCEP-CFSv2/.FORECAST/.MONTHLY/.tref/dods'"
       ]
      }
     ],
     "persistentId": "71de8e43-efd7-497c-a8ee-4b804a77415d",
     "text": "dset = xr.open_dataset(url, decode_times=False)"
    },
    "executionTime": "2019-12-08T22:19:05.625Z"
   },
   {
    "cell": {
     "executionCount": 285,
     "executionEventId": "c446b9b6-4206-43dd-a86b-412ed10f72bb",
     "hasError": false,
     "id": "40ee180c-6d77-4f34-9780-54c8ad5ae74c",
     "outputs": [],
     "persistentId": "53c4c288-0489-4a26-9611-11844480c8ea",
     "text": "url = f'http://iridl.ldeo.columbia.edu/SOURCES/.Models/.NMME/.{GCM}/.{data_stream}/.EARLY_MONTH_SAMPLES/.MONTHLY/.tref/dods'"
    },
    "executionTime": "2019-12-08T22:20:40.577Z"
   },
   {
    "cell": {
     "executionCount": 286,
     "executionEventId": "b26f321f-be0c-4efa-9ebe-c6fd866a7ffe",
     "hasError": false,
     "id": "c2921971-a198-408b-9bcf-771f06ee32ac",
     "outputs": [
      {
       "name": "stdout",
       "output_type": "stream",
       "text": "http://iridl.ldeo.columbia.edu/SOURCES/.Models/.NMME/.NCEP-CFSv2/.FORECAST/.EARLY_MONTH_SAMPLES/.MONTHLY/.tref/dods\n"
      }
     ],
     "persistentId": "20b89f2c-35e8-4cad-9fc0-670e30585e3d",
     "text": "print(url)"
    },
    "executionTime": "2019-12-08T22:20:40.740Z"
   },
   {
    "cell": {
     "executionCount": 287,
     "executionEventId": "84d08138-6e1a-4128-95d2-0a4085b1c9d0",
     "hasError": false,
     "id": "fd586813-128e-402a-a110-3eec4ac5ca6b",
     "outputs": [],
     "persistentId": "71de8e43-efd7-497c-a8ee-4b804a77415d",
     "text": "dset = xr.open_dataset(url, decode_times=False)"
    },
    "executionTime": "2019-12-08T22:20:45.358Z"
   },
   {
    "cell": {
     "executionCount": 288,
     "executionEventId": "6a879d1d-1e24-4d49-acae-cfe653d6ac5f",
     "hasError": false,
     "id": "00d9b65d-07e7-4ef2-ae01-1a31a51c87e2",
     "outputs": [],
     "persistentId": "50cddde5-d8d1-43fd-a1e0-044309dc3d30",
     "text": "dict_coords = {}\ndict_coords['L'] = 'step'\ndict_coords['M'] = 'member'\ndict_coords['S'] = 'time'\ndict_coords['X'] = 'lon'\ndict_coords['Y'] = 'lat'"
    },
    "executionTime": "2019-12-08T22:20:46.507Z"
   },
   {
    "cell": {
     "executionCount": 289,
     "executionEventId": "518e6c9c-a115-4588-a2a3-c327fd63e561",
     "hasError": false,
     "id": "f49c26f7-b975-4585-a475-73b71a1c1f33",
     "outputs": [],
     "persistentId": "0314a5d4-348d-4320-aa6c-9dfea5306282",
     "text": "dset = dset.rename(dict_coords)"
    },
    "executionTime": "2019-12-08T22:20:46.867Z"
   },
   {
    "cell": {
     "executionCount": 290,
     "executionEventId": "38cf4dfc-9927-4c1d-8f7e-0ff1145df75d",
     "hasError": false,
     "id": "2b13881d-e6d9-4df8-b508-122e88cc09c4",
     "outputs": [
      {
       "data": {
        "text/plain": "<xarray.Dataset>\nDimensions:  (lat: 181, lon: 360, member: 32, step: 10, time: 106)\nCoordinates:\n  * step     (step) float32 0.5 1.5 2.5 3.5 4.5 5.5 6.5 7.5 8.5 9.5\n  * lat      (lat) float32 -90.0 -89.0 -88.0 -87.0 -86.0 ... 87.0 88.0 89.0 90.0\n  * time     (time) float32 614.0 615.0 616.0 617.0 ... 716.0 717.0 718.0 719.0\n  * member   (member) float32 1.0 2.0 3.0 4.0 5.0 ... 28.0 29.0 30.0 31.0 32.0\n  * lon      (lon) float32 0.0 1.0 2.0 3.0 4.0 ... 355.0 356.0 357.0 358.0 359.0\nData variables:\n    tref     (time, step, member, lat, lon) float32 ...\nAttributes:\n    Conventions:  IRIDL"
       },
       "execution_count": 290,
       "metadata": {},
       "output_type": "execute_result"
      }
     ],
     "persistentId": "a915c0d0-a652-4a12-a9e0-29f4a52e5011",
     "text": "dset"
    },
    "executionTime": "2019-12-08T22:20:47.226Z"
   },
   {
    "cell": {
     "executionCount": 291,
     "executionEventId": "f2b947fb-d3c8-4744-addb-f5ee1cb973b5",
     "hasError": false,
     "id": "4ddaaf9d-2b33-49c7-8128-306c85bde904",
     "outputs": [
      {
       "data": {
        "text/plain": "<xarray.DataArray 'time' (time: 106)>\narray([614., 615., 616., 617., 618., 619., 620., 621., 622., 623., 624., 625.,\n       626., 627., 628., 629., 630., 631., 632., 633., 634., 635., 636., 637.,\n       638., 639., 640., 641., 642., 643., 644., 645., 646., 647., 648., 649.,\n       650., 651., 652., 653., 654., 655., 656., 657., 658., 659., 660., 661.,\n       662., 663., 664., 665., 666., 667., 668., 669., 670., 671., 672., 673.,\n       674., 675., 676., 677., 678., 679., 680., 681., 682., 683., 684., 685.,\n       686., 687., 688., 689., 690., 691., 692., 693., 694., 695., 696., 697.,\n       698., 699., 700., 701., 702., 703., 704., 705., 706., 707., 708., 709.,\n       710., 711., 712., 713., 714., 715., 716., 717., 718., 719.],\n      dtype=float32)\nCoordinates:\n  * time     (time) float32 614.0 615.0 616.0 617.0 ... 716.0 717.0 718.0 719.0\nAttributes:\n    standard_name:  forecast_reference_time\n    pointwidth:     0\n    calendar:       360\n    gridtype:       0\n    units:          months since 1960-01-01"
       },
       "execution_count": 291,
       "metadata": {},
       "output_type": "execute_result"
      }
     ],
     "persistentId": "42bcb3b1-a805-4726-bd06-bf4b2174d1fb",
     "text": "dset.time"
    },
    "executionTime": "2019-12-08T22:20:47.417Z"
   },
   {
    "cell": {
     "executionCount": 292,
     "executionEventId": "a486cce7-6bac-417c-8d04-109c8d68ce90",
     "hasError": false,
     "id": "c89151e9-7ef0-42b6-b5ca-9f8e46ce844d",
     "outputs": [],
     "persistentId": "21731d7d-5992-4351-8704-dc105edeb73b",
     "text": "origin = datetime(1960,1,1)"
    },
    "executionTime": "2019-12-08T22:20:48.377Z"
   },
   {
    "cell": {
     "executionCount": 293,
     "executionEventId": "a33a05dd-f480-4b50-a52e-1332412bba66",
     "hasError": false,
     "id": "830a0ae4-8b17-4239-afc7-1ea6a20c03de",
     "outputs": [],
     "persistentId": "dad41940-570b-4474-83f2-6d25dd8f85ab",
     "text": "dates = [origin + relativedelta.relativedelta(months=x) for x in dset.time]"
    },
    "executionTime": "2019-12-08T22:20:48.619Z"
   },
   {
    "cell": {
     "executionCount": 294,
     "executionEventId": "bfec7e06-54cc-4f00-b27a-afda9e3f32c9",
     "hasError": false,
     "id": "8ed0279c-289d-48cf-abd6-2919695f63b6",
     "outputs": [],
     "persistentId": "3bbe3b71-40e2-4fcd-b0b1-4fa1bf9c29a0",
     "text": "dset['time'] = (('time'), dates)"
    },
    "executionTime": "2019-12-08T22:20:48.825Z"
   },
   {
    "cell": {
     "executionCount": 295,
     "executionEventId": "28116e16-1d2c-4da6-a371-6fffdffefc9c",
     "hasError": false,
     "id": "2d816726-e23e-43df-ae7a-62930bb16d75",
     "outputs": [
      {
       "data": {
        "text/plain": "<xarray.DataArray 'time' ()>\narray('2011-03-01T00:00:00.000000000', dtype='datetime64[ns]')\nCoordinates:\n    time     datetime64[ns] 2011-03-01"
       },
       "execution_count": 295,
       "metadata": {},
       "output_type": "execute_result"
      }
     ],
     "persistentId": "469bf983-ea9e-42b9-83b9-4b2b22f9dd0c",
     "text": "dset.time[0]"
    },
    "executionTime": "2019-12-08T22:20:50.004Z"
   },
   {
    "cell": {
     "executionCount": 296,
     "executionEventId": "102fe3d0-e5a7-4602-a5b8-9916aad7f0f8",
     "hasError": false,
     "id": "7cf39346-9486-44e0-99d8-7d336fe30003",
     "outputs": [
      {
       "data": {
        "text/plain": "<xarray.DataArray 'time' ()>\narray('2019-12-01T00:00:00.000000000', dtype='datetime64[ns]')\nCoordinates:\n    time     datetime64[ns] 2019-12-01"
       },
       "execution_count": 296,
       "metadata": {},
       "output_type": "execute_result"
      }
     ],
     "persistentId": "b8c1f1f8-ae69-4286-b913-d2942148cbd0",
     "text": "dset.time[-1]"
    },
    "executionTime": "2019-12-08T22:20:51.435Z"
   },
   {
    "cell": {
     "executionCount": 297,
     "executionEventId": "5fb443c0-a5a1-4373-ae57-ec72304bb92f",
     "hasError": false,
     "id": "40ee180c-6d77-4f34-9780-54c8ad5ae74c",
     "outputs": [],
     "persistentId": "53c4c288-0489-4a26-9611-11844480c8ea",
     "text": "if GCM == 'NCEP-CFSv2': \n\n    if data_stream == 'HINDCASTS': \n        url = f'http://iridl.ldeo.columbia.edu/SOURCES/.Models/.NMME/.{GCM}/.{data_stream}/.PENTAD_SAMPLES/.MONTHLY/.tref/dods'\n    elif data_stream == 'FORECASTS': \n        url = f'http://iridl.ldeo.columbia.edu/SOURCES/.Models/.NMME/.{GCM}/.{data_stream}/.PENTAD_SAMPLES/.MONTHLY/.tref/dods'"
    },
    "executionTime": "2019-12-08T22:35:57.537Z"
   },
   {
    "cell": {
     "executionCount": 298,
     "executionEventId": "9bb15df3-099f-4701-b12a-bd14cd1f93a0",
     "hasError": false,
     "id": "c2921971-a198-408b-9bcf-771f06ee32ac",
     "outputs": [
      {
       "name": "stdout",
       "output_type": "stream",
       "text": "http://iridl.ldeo.columbia.edu/SOURCES/.Models/.NMME/.NCEP-CFSv2/.FORECAST/.EARLY_MONTH_SAMPLES/.MONTHLY/.tref/dods\n"
      }
     ],
     "persistentId": "20b89f2c-35e8-4cad-9fc0-670e30585e3d",
     "text": "print(url)"
    },
    "executionTime": "2019-12-08T22:35:58.431Z"
   },
   {
    "cell": {
     "executionCount": 299,
     "executionEventId": "6d0d3064-5b2e-4b5e-99ae-957c3772ce0d",
     "hasError": false,
     "id": "fd586813-128e-402a-a110-3eec4ac5ca6b",
     "outputs": [],
     "persistentId": "71de8e43-efd7-497c-a8ee-4b804a77415d",
     "text": "dset = xr.open_dataset(url, decode_times=False)"
    },
    "executionTime": "2019-12-08T22:35:59.190Z"
   },
   {
    "cell": {
     "executionCount": 300,
     "executionEventId": "169339ee-4e24-4089-8281-594fb90afdc1",
     "hasError": false,
     "id": "00d9b65d-07e7-4ef2-ae01-1a31a51c87e2",
     "outputs": [],
     "persistentId": "50cddde5-d8d1-43fd-a1e0-044309dc3d30",
     "text": "dict_coords = {}\ndict_coords['L'] = 'step'\ndict_coords['M'] = 'member'\ndict_coords['S'] = 'time'\ndict_coords['X'] = 'lon'\ndict_coords['Y'] = 'lat'"
    },
    "executionTime": "2019-12-08T22:36:00.781Z"
   },
   {
    "cell": {
     "executionCount": 301,
     "executionEventId": "9fd31740-70cc-4bae-8590-52045379c98a",
     "hasError": false,
     "id": "f49c26f7-b975-4585-a475-73b71a1c1f33",
     "outputs": [],
     "persistentId": "0314a5d4-348d-4320-aa6c-9dfea5306282",
     "text": "dset = dset.rename(dict_coords)"
    },
    "executionTime": "2019-12-08T22:36:00.956Z"
   },
   {
    "cell": {
     "executionCount": 302,
     "executionEventId": "99cc7726-7874-4ad6-96af-245284407504",
     "hasError": false,
     "id": "2b13881d-e6d9-4df8-b508-122e88cc09c4",
     "outputs": [
      {
       "data": {
        "text/plain": "<xarray.Dataset>\nDimensions:  (lat: 181, lon: 360, member: 32, step: 10, time: 106)\nCoordinates:\n  * step     (step) float32 0.5 1.5 2.5 3.5 4.5 5.5 6.5 7.5 8.5 9.5\n  * lat      (lat) float32 -90.0 -89.0 -88.0 -87.0 -86.0 ... 87.0 88.0 89.0 90.0\n  * time     (time) float32 614.0 615.0 616.0 617.0 ... 716.0 717.0 718.0 719.0\n  * member   (member) float32 1.0 2.0 3.0 4.0 5.0 ... 28.0 29.0 30.0 31.0 32.0\n  * lon      (lon) float32 0.0 1.0 2.0 3.0 4.0 ... 355.0 356.0 357.0 358.0 359.0\nData variables:\n    tref     (time, step, member, lat, lon) float32 ...\nAttributes:\n    Conventions:  IRIDL"
       },
       "execution_count": 302,
       "metadata": {},
       "output_type": "execute_result"
      }
     ],
     "persistentId": "a915c0d0-a652-4a12-a9e0-29f4a52e5011",
     "text": "dset"
    },
    "executionTime": "2019-12-08T22:36:01.118Z"
   },
   {
    "cell": {
     "executionCount": 303,
     "executionEventId": "d09aba19-0eec-4f35-96dc-361ffc8ce2d5",
     "hasError": false,
     "id": "4ddaaf9d-2b33-49c7-8128-306c85bde904",
     "outputs": [
      {
       "data": {
        "text/plain": "<xarray.DataArray 'time' (time: 106)>\narray([614., 615., 616., 617., 618., 619., 620., 621., 622., 623., 624., 625.,\n       626., 627., 628., 629., 630., 631., 632., 633., 634., 635., 636., 637.,\n       638., 639., 640., 641., 642., 643., 644., 645., 646., 647., 648., 649.,\n       650., 651., 652., 653., 654., 655., 656., 657., 658., 659., 660., 661.,\n       662., 663., 664., 665., 666., 667., 668., 669., 670., 671., 672., 673.,\n       674., 675., 676., 677., 678., 679., 680., 681., 682., 683., 684., 685.,\n       686., 687., 688., 689., 690., 691., 692., 693., 694., 695., 696., 697.,\n       698., 699., 700., 701., 702., 703., 704., 705., 706., 707., 708., 709.,\n       710., 711., 712., 713., 714., 715., 716., 717., 718., 719.],\n      dtype=float32)\nCoordinates:\n  * time     (time) float32 614.0 615.0 616.0 617.0 ... 716.0 717.0 718.0 719.0\nAttributes:\n    standard_name:  forecast_reference_time\n    pointwidth:     0\n    calendar:       360\n    gridtype:       0\n    units:          months since 1960-01-01"
       },
       "execution_count": 303,
       "metadata": {},
       "output_type": "execute_result"
      }
     ],
     "persistentId": "42bcb3b1-a805-4726-bd06-bf4b2174d1fb",
     "text": "dset.time"
    },
    "executionTime": "2019-12-08T22:36:01.297Z"
   },
   {
    "cell": {
     "executionCount": 304,
     "executionEventId": "8c2d5663-4062-4a89-9885-5f193404a4f3",
     "hasError": false,
     "id": "c89151e9-7ef0-42b6-b5ca-9f8e46ce844d",
     "outputs": [],
     "persistentId": "21731d7d-5992-4351-8704-dc105edeb73b",
     "text": "origin = datetime(1960,1,1)"
    },
    "executionTime": "2019-12-08T22:36:02.518Z"
   },
   {
    "cell": {
     "executionCount": 305,
     "executionEventId": "6739cd8c-e770-4a7e-b53d-5e4de2646af9",
     "hasError": false,
     "id": "830a0ae4-8b17-4239-afc7-1ea6a20c03de",
     "outputs": [],
     "persistentId": "dad41940-570b-4474-83f2-6d25dd8f85ab",
     "text": "dates = [origin + relativedelta.relativedelta(months=x) for x in dset.time]"
    },
    "executionTime": "2019-12-08T22:36:02.723Z"
   },
   {
    "cell": {
     "executionCount": 306,
     "executionEventId": "4924e2ea-6143-4f92-ad6b-6cc85d1e8757",
     "hasError": false,
     "id": "8ed0279c-289d-48cf-abd6-2919695f63b6",
     "outputs": [],
     "persistentId": "3bbe3b71-40e2-4fcd-b0b1-4fa1bf9c29a0",
     "text": "dset['time'] = (('time'), dates)"
    },
    "executionTime": "2019-12-08T22:36:02.877Z"
   },
   {
    "cell": {
     "executionCount": 307,
     "executionEventId": "82e37dd3-af1d-4cb7-b060-eb761096add7",
     "hasError": false,
     "id": "2d816726-e23e-43df-ae7a-62930bb16d75",
     "outputs": [
      {
       "data": {
        "text/plain": "<xarray.DataArray 'time' ()>\narray('2011-03-01T00:00:00.000000000', dtype='datetime64[ns]')\nCoordinates:\n    time     datetime64[ns] 2011-03-01"
       },
       "execution_count": 307,
       "metadata": {},
       "output_type": "execute_result"
      }
     ],
     "persistentId": "469bf983-ea9e-42b9-83b9-4b2b22f9dd0c",
     "text": "dset.time[0]"
    },
    "executionTime": "2019-12-08T22:36:03.382Z"
   },
   {
    "cell": {
     "executionCount": 308,
     "executionEventId": "b5640bf7-78bd-4365-9d3a-1174332a63ef",
     "hasError": false,
     "id": "7cf39346-9486-44e0-99d8-7d336fe30003",
     "outputs": [
      {
       "data": {
        "text/plain": "<xarray.DataArray 'time' ()>\narray('2019-12-01T00:00:00.000000000', dtype='datetime64[ns]')\nCoordinates:\n    time     datetime64[ns] 2019-12-01"
       },
       "execution_count": 308,
       "metadata": {},
       "output_type": "execute_result"
      }
     ],
     "persistentId": "b8c1f1f8-ae69-4286-b913-d2942148cbd0",
     "text": "dset.time[-1]"
    },
    "executionTime": "2019-12-08T22:36:03.913Z"
   },
   {
    "cell": {
     "executionCount": 309,
     "executionEventId": "b30299f4-e516-4549-94ca-1c3715374ed7",
     "hasError": false,
     "id": "fcd2878f-bc58-4efb-8bfb-c19e12cc6872",
     "outputs": [],
     "persistentId": "6b13cda8-a205-418d-8422-2be2c978a5bc",
     "text": "%matplotlib inline\nfrom matplotlib import pyplot as plt"
    },
    "executionTime": "2019-12-08T22:36:08.861Z"
   },
   {
    "cell": {
     "executionCount": 310,
     "executionEventId": "e9cb8a5a-8cac-4645-86fb-67464953bce5",
     "hasError": false,
     "id": "df7d41a1-77fe-4f5e-bd43-9eed367014e6",
     "outputs": [],
     "persistentId": "2b804bee-29e0-43c4-82e0-cd7cfff0a7f8",
     "text": "import os \nimport sys \nimport pathlib"
    },
    "executionTime": "2019-12-08T22:36:08.997Z"
   },
   {
    "cell": {
     "executionCount": 311,
     "executionEventId": "c77f0e72-89ef-406f-9754-07e16cf723e7",
     "hasError": false,
     "id": "7c21e398-3b0f-4632-be0c-145bb2e74682",
     "outputs": [],
     "persistentId": "b1fcc1c6-275f-4735-a21f-8d904e4e90f8",
     "text": "from datetime import datetime, timedelta\nimport calendar\nfrom dateutil import relativedelta"
    },
    "executionTime": "2019-12-08T22:36:09.160Z"
   },
   {
    "cell": {
     "executionCount": 312,
     "executionEventId": "40355297-0ce8-417d-8c00-858e674ef050",
     "hasError": false,
     "id": "a9e47f53-1572-4cae-a249-6589a7488a08",
     "outputs": [],
     "persistentId": "8ed1015d-ec18-4776-9f17-c1a7379449af",
     "text": "import numpy as np \nimport pandas as pd \nimport xarray as xr"
    },
    "executionTime": "2019-12-08T22:36:09.311Z"
   },
   {
    "cell": {
     "executionCount": 313,
     "executionEventId": "c3438a7a-4208-4151-927a-52825ab2f26f",
     "hasError": false,
     "id": "ac78b6db-688b-4654-8e7a-f443b5524c9f",
     "outputs": [],
     "persistentId": "40159685-2082-4ab2-98f4-2a18922169f8",
     "text": "CWD = pathlib.Path.cwd()"
    },
    "executionTime": "2019-12-08T22:36:09.493Z"
   },
   {
    "cell": {
     "executionCount": 314,
     "executionEventId": "2626fa08-aa4d-4540-9e35-29d0000e1ed9",
     "hasError": false,
     "id": "fcea0eae-d5eb-461a-831e-c8040016e96a",
     "outputs": [],
     "persistentId": "89236a8a-41c1-413e-99d9-bca2d6e7d1c7",
     "text": "HOME = pathlib.Path.home()"
    },
    "executionTime": "2019-12-08T22:36:09.646Z"
   },
   {
    "cell": {
     "executionCount": 315,
     "executionEventId": "3d5c69c3-4a64-41ec-b68b-f04c6ad885dd",
     "hasError": false,
     "id": "641d3c65-9b6d-439d-a774-5a3cae790c96",
     "outputs": [],
     "persistentId": "35ad2369-c83b-417e-996e-62c48076c6a6",
     "text": "opath = HOME / 'drives' / 'auck_projects' / 'END19101' / 'Working' / 'data' / 'hindcasts' / 'IRI' / 'CFSv2'"
    },
    "executionTime": "2019-12-08T22:36:09.844Z"
   },
   {
    "cell": {
     "executionCount": 316,
     "executionEventId": "2fbd3a64-478c-4ff5-907c-8f9d0a486b95",
     "hasError": false,
     "id": "4b031f0d-f28b-43e1-b61d-e1748ed9337d",
     "outputs": [],
     "persistentId": "c94adf01-9f08-414a-a6cf-2f95e1d87e4d",
     "text": "# GCM = 'CanCM4i'\n# GCM = 'CMC2-CanCM4'\n# GCM = 'CMC1-CanCM3'\n# GCM = 'GEM-NEMO'\n# GCM = 'NASA-GEOSS2S'\n# GCM = 'NCAR-CESM1'\nGCM = 'NCEP-CFSv2'"
    },
    "executionTime": "2019-12-08T22:36:09.999Z"
   },
   {
    "cell": {
     "executionCount": 317,
     "executionEventId": "d92d167b-218f-48e1-a874-c3303613a907",
     "hasError": false,
     "id": "fe541e42-279e-4df0-871e-9c49be9b89b6",
     "outputs": [],
     "persistentId": "ecfcb229-2f64-42e3-a9f2-51c274168a86",
     "text": "# data_stream = 'HINDCAST'\ndata_stream = 'FORECAST'"
    },
    "executionTime": "2019-12-08T22:36:10.201Z"
   },
   {
    "cell": {
     "executionCount": 318,
     "executionEventId": "181e3da5-573a-4130-87a0-d126f225f095",
     "hasError": false,
     "id": "fe541e42-279e-4df0-871e-9c49be9b89b6",
     "outputs": [],
     "persistentId": "ecfcb229-2f64-42e3-a9f2-51c274168a86",
     "text": "data_stream = 'HINDCAST'\n# data_stream = 'FORECAST'"
    },
    "executionTime": "2019-12-08T22:36:13.936Z"
   },
   {
    "cell": {
     "executionCount": 319,
     "executionEventId": "362b37ea-cc38-4c4a-a829-4f023fecb672",
     "hasError": false,
     "id": "b4a7f8fd-661e-400d-a580-f9e41c117f8f",
     "outputs": [],
     "persistentId": "62fbf95f-77b7-452b-b19e-29f91808f6a4",
     "text": "# var = 'Z500'\nvar = 'T2M'"
    },
    "executionTime": "2019-12-08T22:36:14.368Z"
   },
   {
    "cell": {
     "executionCount": 320,
     "executionEventId": "35340bd4-af92-42c9-b4da-edeb2c7af529",
     "hasError": false,
     "id": "a1efbdff-30dc-4325-a900-108c81318bf3",
     "outputs": [],
     "persistentId": "2cb31216-ce80-407b-bf9b-cde343bbda9b",
     "text": "if var == 'Z500': \n#     url = f'http://iridl.ldeo.columbia.edu/SOURCES/.Models/.NMME/.{GCM}/.{data_stream}/.MONTHLY/.hgt/dods'\n    url = f'http://iridl.ldeo.columbia.edu/SOURCES/.Models/.NMME/.{GCM}/.{data_stream}/.MONTHLY/.h500/dods'\nelif var == 'T2M': \n    url = f'http://iridl.ldeo.columbia.edu/SOURCES/.Models/.NMME/.{GCM}/.{data_stream}/.MONTHLY/.tref/dods'"
    },
    "executionTime": "2019-12-08T22:36:14.731Z"
   },
   {
    "cell": {
     "executionCount": 321,
     "executionEventId": "48b3093b-0533-4048-b640-bb0ed38df92b",
     "hasError": false,
     "id": "40ee180c-6d77-4f34-9780-54c8ad5ae74c",
     "outputs": [],
     "persistentId": "53c4c288-0489-4a26-9611-11844480c8ea",
     "text": "if GCM == 'NCEP-CFSv2': \n\n    if data_stream == 'HINDCASTS': \n        url = f'http://iridl.ldeo.columbia.edu/SOURCES/.Models/.NMME/.{GCM}/.{data_stream}/.PENTAD_SAMPLES/.MONTHLY/.tref/dods'\n    elif data_stream == 'FORECASTS': \n        url = f'http://iridl.ldeo.columbia.edu/SOURCES/.Models/.NMME/.{GCM}/.{data_stream}/.PENTAD_SAMPLES/.MONTHLY/.tref/dods'"
    },
    "executionTime": "2019-12-08T22:36:15.315Z"
   },
   {
    "cell": {
     "executionCount": 322,
     "executionEventId": "b3a71314-7df7-4930-a2ca-9e6b15056ff1",
     "hasError": false,
     "id": "c2921971-a198-408b-9bcf-771f06ee32ac",
     "outputs": [
      {
       "name": "stdout",
       "output_type": "stream",
       "text": "http://iridl.ldeo.columbia.edu/SOURCES/.Models/.NMME/.NCEP-CFSv2/.HINDCAST/.MONTHLY/.tref/dods\n"
      }
     ],
     "persistentId": "20b89f2c-35e8-4cad-9fc0-670e30585e3d",
     "text": "print(url)"
    },
    "executionTime": "2019-12-08T22:36:15.884Z"
   },
   {
    "cell": {
     "executionCount": 323,
     "executionEventId": "d2370a80-aa2d-458a-a7db-9d4be1fcd5f6",
     "hasError": false,
     "id": "fd586813-128e-402a-a110-3eec4ac5ca6b",
     "outputs": [],
     "persistentId": "71de8e43-efd7-497c-a8ee-4b804a77415d",
     "text": "dset = xr.open_dataset(url, decode_times=False)"
    },
    "executionTime": "2019-12-08T22:36:18.458Z"
   },
   {
    "cell": {
     "executionCount": 324,
     "executionEventId": "9144dd6e-0b24-4378-9d1d-b1e0271f27d6",
     "hasError": false,
     "id": "00d9b65d-07e7-4ef2-ae01-1a31a51c87e2",
     "outputs": [],
     "persistentId": "50cddde5-d8d1-43fd-a1e0-044309dc3d30",
     "text": "dict_coords = {}\ndict_coords['L'] = 'step'\ndict_coords['M'] = 'member'\ndict_coords['S'] = 'time'\ndict_coords['X'] = 'lon'\ndict_coords['Y'] = 'lat'"
    },
    "executionTime": "2019-12-08T22:36:18.487Z"
   },
   {
    "cell": {
     "executionCount": 325,
     "executionEventId": "6d12751a-f938-4702-a906-f68af53dbcf4",
     "hasError": false,
     "id": "f49c26f7-b975-4585-a475-73b71a1c1f33",
     "outputs": [],
     "persistentId": "0314a5d4-348d-4320-aa6c-9dfea5306282",
     "text": "dset = dset.rename(dict_coords)"
    },
    "executionTime": "2019-12-08T22:36:18.506Z"
   },
   {
    "cell": {
     "executionCount": 326,
     "executionEventId": "8300534e-2b47-4f97-ba2a-9a3772933be5",
     "hasError": false,
     "id": "2b13881d-e6d9-4df8-b508-122e88cc09c4",
     "outputs": [
      {
       "data": {
        "text/plain": "<xarray.Dataset>\nDimensions:  (lat: 181, lon: 360, member: 24, step: 10, time: 348)\nCoordinates:\n  * lon      (lon) float32 0.0 1.0 2.0 3.0 4.0 ... 355.0 356.0 357.0 358.0 359.0\n  * step     (step) float32 0.5 1.5 2.5 3.5 4.5 5.5 6.5 7.5 8.5 9.5\n  * member   (member) float32 1.0 2.0 3.0 4.0 5.0 ... 20.0 21.0 22.0 23.0 24.0\n  * time     (time) float32 264.0 265.0 266.0 267.0 ... 608.0 609.0 610.0 611.0\n  * lat      (lat) float32 -90.0 -89.0 -88.0 -87.0 -86.0 ... 87.0 88.0 89.0 90.0\nData variables:\n    tref     (time, step, member, lat, lon) float32 ...\nAttributes:\n    Conventions:  IRIDL"
       },
       "execution_count": 326,
       "metadata": {},
       "output_type": "execute_result"
      }
     ],
     "persistentId": "a915c0d0-a652-4a12-a9e0-29f4a52e5011",
     "text": "dset"
    },
    "executionTime": "2019-12-08T22:36:19.221Z"
   },
   {
    "cell": {
     "executionCount": 327,
     "executionEventId": "dbefc837-ad42-4af8-a92a-3f6be9d6dcef",
     "hasError": false,
     "id": "4ddaaf9d-2b33-49c7-8128-306c85bde904",
     "outputs": [
      {
       "data": {
        "text/plain": "<xarray.DataArray 'time' (time: 348)>\narray([264., 265., 266., ..., 609., 610., 611.], dtype=float32)\nCoordinates:\n  * time     (time) float32 264.0 265.0 266.0 267.0 ... 608.0 609.0 610.0 611.0\nAttributes:\n    standard_name:  forecast_reference_time\n    long_name:      Forecast Start Time\n    pointwidth:     0\n    calendar:       360\n    gridtype:       0\n    units:          months since 1960-01-01"
       },
       "execution_count": 327,
       "metadata": {},
       "output_type": "execute_result"
      }
     ],
     "persistentId": "42bcb3b1-a805-4726-bd06-bf4b2174d1fb",
     "text": "dset.time"
    },
    "executionTime": "2019-12-08T22:36:19.775Z"
   },
   {
    "cell": {
     "executionCount": 328,
     "executionEventId": "4961a5fb-14bb-4d86-bedd-3294ce005ff5",
     "hasError": false,
     "id": "c89151e9-7ef0-42b6-b5ca-9f8e46ce844d",
     "outputs": [],
     "persistentId": "21731d7d-5992-4351-8704-dc105edeb73b",
     "text": "origin = datetime(1960,1,1)"
    },
    "executionTime": "2019-12-08T22:36:21.109Z"
   },
   {
    "cell": {
     "executionCount": 329,
     "executionEventId": "879c67f8-9c25-4247-8b8e-386685f8b911",
     "hasError": false,
     "id": "830a0ae4-8b17-4239-afc7-1ea6a20c03de",
     "outputs": [],
     "persistentId": "dad41940-570b-4474-83f2-6d25dd8f85ab",
     "text": "dates = [origin + relativedelta.relativedelta(months=x) for x in dset.time]"
    },
    "executionTime": "2019-12-08T22:36:21.577Z"
   },
   {
    "cell": {
     "executionCount": 330,
     "executionEventId": "ce62d722-b943-47ff-9f2c-2e408c5b9243",
     "hasError": false,
     "id": "8ed0279c-289d-48cf-abd6-2919695f63b6",
     "outputs": [],
     "persistentId": "3bbe3b71-40e2-4fcd-b0b1-4fa1bf9c29a0",
     "text": "dset['time'] = (('time'), dates)"
    },
    "executionTime": "2019-12-08T22:36:22.363Z"
   },
   {
    "cell": {
     "executionCount": 331,
     "executionEventId": "10889dea-2d27-4ed1-92df-0012791081fd",
     "hasError": false,
     "id": "2d816726-e23e-43df-ae7a-62930bb16d75",
     "outputs": [
      {
       "data": {
        "text/plain": "<xarray.DataArray 'time' ()>\narray('1982-01-01T00:00:00.000000000', dtype='datetime64[ns]')\nCoordinates:\n    time     datetime64[ns] 1982-01-01"
       },
       "execution_count": 331,
       "metadata": {},
       "output_type": "execute_result"
      }
     ],
     "persistentId": "469bf983-ea9e-42b9-83b9-4b2b22f9dd0c",
     "text": "dset.time[0]"
    },
    "executionTime": "2019-12-08T22:36:22.729Z"
   },
   {
    "cell": {
     "executionCount": 332,
     "executionEventId": "cfbdf089-a077-45f3-bf8b-13e894543b3c",
     "hasError": false,
     "id": "7cf39346-9486-44e0-99d8-7d336fe30003",
     "outputs": [
      {
       "data": {
        "text/plain": "<xarray.DataArray 'time' ()>\narray('2010-12-01T00:00:00.000000000', dtype='datetime64[ns]')\nCoordinates:\n    time     datetime64[ns] 2010-12-01"
       },
       "execution_count": 332,
       "metadata": {},
       "output_type": "execute_result"
      }
     ],
     "persistentId": "b8c1f1f8-ae69-4286-b913-d2942148cbd0",
     "text": "dset.time[-1]"
    },
    "executionTime": "2019-12-08T22:36:40.681Z"
   }
  ],
  "kernelspec": {
   "display_name": "Python 3",
   "language": "python",
   "name": "python3"
  },
  "language_info": {
   "codemirror_mode": {
    "name": "ipython",
    "version": 3
   },
   "file_extension": ".py",
   "mimetype": "text/x-python",
   "name": "python",
   "nbconvert_exporter": "python",
   "pygments_lexer": "ipython3",
   "version": "3.7.5"
  },
  "uuid": "b360f6ac-bd1f-4237-9064-8312f0606d73"
 },
 "nbformat": 4,
 "nbformat_minor": 4
}
