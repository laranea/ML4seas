{
 "cells": [
  {
   "cell_type": "markdown",
   "metadata": {},
   "source": [
    "### download the CanSIPSv2 hindcast dataset from the IRI "
   ]
  },
  {
   "cell_type": "code",
   "execution_count": 1,
   "metadata": {
    "execution_event_id": "e70499da-6d2c-45d8-b973-53513578113c",
    "last_executed_text": "%matplotlib inline\nfrom matplotlib import pyplot as plt",
    "persistent_id": "fd29e246-14ef-41bb-b3d1-21c385096522"
   },
   "outputs": [],
   "source": [
    "%matplotlib inline\n",
    "from matplotlib import pyplot as plt"
   ]
  },
  {
   "cell_type": "code",
   "execution_count": 2,
   "metadata": {
    "execution_event_id": "3194af38-bb38-43de-95f4-55226343fc45",
    "last_executed_text": "import os \nimport sys \nimport pathlib",
    "persistent_id": "b548e22d-87af-4ea0-89f0-03d24013b895"
   },
   "outputs": [],
   "source": [
    "import os \n",
    "import sys \n",
    "import pathlib"
   ]
  },
  {
   "cell_type": "code",
   "execution_count": 3,
   "metadata": {
    "execution_event_id": "e76a59ab-8756-44ce-982b-ba9ee0d8d49b",
    "last_executed_text": "from datetime import datetime, timedelta\nimport calendar\nfrom dateutil import relativedelta",
    "persistent_id": "21fa21be-dc9a-42a6-afc9-60a911d8394d"
   },
   "outputs": [],
   "source": [
    "from datetime import datetime, timedelta\n",
    "import calendar\n",
    "from dateutil import relativedelta"
   ]
  },
  {
   "cell_type": "code",
   "execution_count": 4,
   "metadata": {
    "execution_event_id": "f8b5d984-ebe0-44dc-ad2a-32f2cb536495",
    "last_executed_text": "import numpy as np \nimport pandas as pd \nimport xarray as xr",
    "persistent_id": "b77a4f79-bc6f-472a-9f47-349c86fc0da8"
   },
   "outputs": [],
   "source": [
    "import numpy as np \n",
    "import pandas as pd \n",
    "import xarray as xr"
   ]
  },
  {
   "cell_type": "code",
   "execution_count": 5,
   "metadata": {
    "execution_event_id": "382432b0-6066-4edc-bb45-1a2fbc548d9b",
    "last_executed_text": "CWD = pathlib.Path.cwd()",
    "persistent_id": "aa44e8fa-1969-4cc9-81ff-c16e51f00daa"
   },
   "outputs": [],
   "source": [
    "CWD = pathlib.Path.cwd()"
   ]
  },
  {
   "cell_type": "code",
   "execution_count": 6,
   "metadata": {
    "execution_event_id": "6e15fa6d-bd9b-43f2-b1d9-a790d03ae68d",
    "last_executed_text": "HOME = pathlib.Path.home()",
    "persistent_id": "f25bf7af-ae58-4cb1-8181-cfabedb0b5d7"
   },
   "outputs": [],
   "source": [
    "HOME = pathlib.Path.home()"
   ]
  },
  {
   "cell_type": "code",
   "execution_count": 7,
   "metadata": {
    "execution_event_id": "da5c7bb9-d378-4bed-b8d5-4d4c8eb43788",
    "last_executed_text": "GCM = 'CanSIPSv2'",
    "persistent_id": "2556bfc4-3042-4823-95cc-1ec2416d7ec2"
   },
   "outputs": [],
   "source": [
    "GCM = 'CanSIPSv2'"
   ]
  },
  {
   "cell_type": "code",
   "execution_count": 8,
   "metadata": {
    "execution_event_id": "0f805aa4-d08b-410c-bf65-646eb6aa75e0",
    "last_executed_text": "data_stream = 'HINDCAST'",
    "persistent_id": "48a44f83-0ee0-4474-90be-7af6584ac99a"
   },
   "outputs": [],
   "source": [
    "data_stream = 'HINDCAST'"
   ]
  },
  {
   "cell_type": "code",
   "execution_count": 9,
   "metadata": {
    "execution_event_id": "4d6a91ab-fcd8-4a38-adbf-7d761e0bba4e",
    "last_executed_text": "dict_variables = {}\ndict_variables['PRECIP'] = 'prec'\ndict_variables['T2M'] = 'tref'\ndict_variables['SST'] = 'sst'\ndict_variables['Z500'] = 'hgt'",
    "persistent_id": "0ab39c8a-be7b-4f56-b6c3-aa7ae0acd5d1"
   },
   "outputs": [],
   "source": [
    "dict_variables = {}\n",
    "dict_variables['PRECIP'] = 'prec'\n",
    "dict_variables['T2M'] = 'tref'\n",
    "dict_variables['SST'] = 'sst'\n",
    "dict_variables['Z500'] = 'z500'\n",
    "dict_variables['Z200'] = 'z200'"
   ]
  },
  {
   "cell_type": "code",
   "execution_count": 10,
   "metadata": {
    "execution_event_id": "90bebf80-4ceb-476a-8e07-6096f59ef359",
    "last_executed_text": "dict_coords = {}\ndict_coords['L'] = 'step'\ndict_coords['M'] = 'member'\ndict_coords['S'] = 'time'\ndict_coords['X'] = 'lon'\ndict_coords['Y'] = 'lat'",
    "persistent_id": "cc3b6012-d731-4822-b979-55e59e7ce7e0"
   },
   "outputs": [],
   "source": [
    "dict_coords = {}\n",
    "dict_coords['L'] = 'step'\n",
    "dict_coords['M'] = 'member'\n",
    "dict_coords['S'] = 'time'\n",
    "dict_coords['X'] = 'lon'\n",
    "dict_coords['Y'] = 'lat'"
   ]
  },
  {
   "cell_type": "code",
   "execution_count": null,
   "metadata": {
    "execution_event_id": "f0ddfa92-379e-40d1-9dbc-d9eaa8ed43e8",
    "last_executed_text": "for variable in ['T2M']: \n#     for variable in ['PRECIP','T2M', 'SST', 'Z500']: \n    \n    opath = HOME / 'drives' / 'auck_projects' / 'END19101' / 'Working' / 'data' / 'hindcasts' / 'IRI' / GCM.replace('-','_') / variable\n    \n    if not opath.exists():\n        opath.mkdir(parents=True)\n    \n    url = f'http://iridl.ldeo.columbia.edu/SOURCES/.Models/.NMME/.{GCM}/.{data_stream}/.MONTHLY/.{dict_variables[variable]}/dods'\n    \n    dset = xr.open_dataset(url, decode_times=False)\n    \n    if variable == 'Z500': \n        dset = dset.sel(P2=500).drop('P2')\n    \n    dset = dset.rename(dict_coords)\n    dset = dset.rename({dict_variables[variable]:variable.lower()})\n    \n    origin = datetime(1960,1,1)\n    dates = [origin + relativedelta.relativedelta(months=x) for x in dset.time]\n    dset['time'] = (('time'), dates)\n    \n    # here select the time period \n    dset = dset.sel(time=slice('1998-09-01', None))\n    \n    for date in dset.time: \n        sub = dset.sel(time=date)\n        date = pd.to_datetime(date.data)\n        print(\"saving {} for {:%Y-%m}\".format(variable, date))\n        sub.to_netcdf(opath / f'{GCM}_hindcasts_{variable}_{date.year}_{date.month}.nc')\n        sub.close()\n        \n    dset.close() \n    ",
    "persistent_id": "e859feff-158e-4ded-ada5-2ebf1a7cc89f"
   },
   "outputs": [
    {
     "name": "stdout",
     "output_type": "stream",
     "text": [
      "saving SST for 1983-04\n",
      "saving SST for 1983-05\n",
      "saving SST for 1983-06\n",
      "saving SST for 1983-07\n",
      "saving SST for 1983-08\n",
      "saving SST for 1983-09\n",
      "saving SST for 1983-10\n",
      "saving SST for 1983-11\n",
      "saving SST for 1983-12\n",
      "saving SST for 1984-01\n",
      "saving SST for 1984-02\n",
      "saving SST for 1984-03\n",
      "saving SST for 1984-04\n",
      "saving SST for 1984-05\n",
      "saving SST for 1984-06\n",
      "saving SST for 1984-07\n",
      "saving SST for 1984-08\n",
      "saving SST for 1984-09\n",
      "saving SST for 1984-10\n",
      "saving SST for 1984-11\n",
      "saving SST for 1984-12\n",
      "saving SST for 1985-01\n",
      "saving SST for 1985-02\n",
      "saving SST for 1985-03\n",
      "saving SST for 1985-04\n",
      "saving SST for 1985-05\n",
      "saving SST for 1985-06\n",
      "saving SST for 1985-07\n",
      "saving SST for 1985-08\n",
      "saving SST for 1985-09\n",
      "saving SST for 1985-10\n",
      "saving SST for 1985-11\n",
      "saving SST for 1985-12\n",
      "saving SST for 1986-01\n",
      "saving SST for 1986-02\n",
      "saving SST for 1986-03\n",
      "saving SST for 1986-04\n",
      "saving SST for 1986-05\n",
      "saving SST for 1986-06\n",
      "saving SST for 1986-07\n",
      "saving SST for 1986-08\n",
      "saving SST for 1986-09\n",
      "saving SST for 1986-10\n",
      "saving SST for 1986-11\n",
      "saving SST for 1986-12\n",
      "saving SST for 1987-01\n",
      "saving SST for 1987-02\n",
      "saving SST for 1987-03\n",
      "saving SST for 1987-04\n",
      "saving SST for 1987-05\n",
      "saving SST for 1987-06\n",
      "saving SST for 1987-07\n",
      "saving SST for 1987-08\n",
      "saving SST for 1987-09\n",
      "saving SST for 1987-10\n",
      "saving SST for 1987-11\n",
      "saving SST for 1987-12\n",
      "saving SST for 1988-01\n",
      "saving SST for 1988-02\n",
      "saving SST for 1988-03\n",
      "saving SST for 1988-04\n",
      "saving SST for 1988-05\n",
      "saving SST for 1988-06\n",
      "saving SST for 1988-07\n",
      "saving SST for 1988-08\n",
      "saving SST for 1988-09\n",
      "saving SST for 1988-10\n",
      "saving SST for 1988-11\n",
      "saving SST for 1988-12\n",
      "saving SST for 1989-01\n",
      "saving SST for 1989-02\n",
      "saving SST for 1989-03\n",
      "saving SST for 1989-04\n",
      "saving SST for 1989-05\n",
      "saving SST for 1989-06\n",
      "saving SST for 1989-07\n",
      "saving SST for 1989-08\n",
      "saving SST for 1989-09\n",
      "saving SST for 1989-10\n",
      "saving SST for 1989-11\n",
      "saving SST for 1989-12\n",
      "saving SST for 1990-01\n",
      "saving SST for 1990-02\n",
      "saving SST for 1990-03\n",
      "saving SST for 1990-04\n",
      "saving SST for 1990-05\n",
      "saving SST for 1990-06\n",
      "saving SST for 1990-07\n",
      "saving SST for 1990-08\n",
      "saving SST for 1990-09\n",
      "saving SST for 1990-10\n",
      "saving SST for 1990-11\n",
      "saving SST for 1990-12\n",
      "saving SST for 1991-01\n",
      "saving SST for 1991-02\n",
      "saving SST for 1991-03\n",
      "saving SST for 1991-04\n",
      "saving SST for 1991-05\n",
      "saving SST for 1991-06\n",
      "saving SST for 1991-07\n",
      "saving SST for 1991-08\n",
      "saving SST for 1991-09\n",
      "saving SST for 1991-10\n",
      "saving SST for 1991-11\n",
      "saving SST for 1991-12\n",
      "saving SST for 1992-01\n",
      "saving SST for 1992-02\n",
      "saving SST for 1992-03\n",
      "saving SST for 1992-04\n",
      "saving SST for 1992-05\n",
      "saving SST for 1992-06\n",
      "saving SST for 1992-07\n",
      "saving SST for 1992-08\n",
      "saving SST for 1992-09\n",
      "saving SST for 1992-10\n",
      "saving SST for 1992-11\n",
      "saving SST for 1992-12\n",
      "saving SST for 1993-01\n",
      "saving SST for 1993-02\n"
     ]
    }
   ],
   "source": [
    "for variable in ['SST']: \n",
    "#     for variable in ['PRECIP','T2M', 'SST', 'Z500']: \n",
    "    \n",
    "    opath = HOME / 'drives' / 'auck_projects' / 'END19101' / 'Working' / 'data' / 'hindcasts' / 'IRI' / GCM.replace('-','_') / variable\n",
    "    \n",
    "    if not opath.exists():\n",
    "        opath.mkdir(parents=True)\n",
    "    \n",
    "    url = f'http://iridl.ldeo.columbia.edu/SOURCES/.Models/.NMME/.{GCM}/.{data_stream}/.MONTHLY/.{dict_variables[variable]}/dods'\n",
    "    \n",
    "    dset = xr.open_dataset(url, decode_times=False)\n",
    "    \n",
    "    if variable == 'Z500': \n",
    "        dset = dset.sel(P2=500).drop('P2')\n",
    "    \n",
    "    dset = dset.rename(dict_coords)\n",
    "    dset = dset.rename({dict_variables[variable]:variable.lower()})\n",
    "    \n",
    "    origin = datetime(1960,1,1)\n",
    "    dates = [origin + relativedelta.relativedelta(months=x) for x in dset.time]\n",
    "    dset['time'] = (('time'), dates)\n",
    "    \n",
    "    # here select the time period \n",
    "    dset = dset.sel(time=slice('1983-04-01', None))\n",
    "    \n",
    "    for date in dset.time: \n",
    "        sub = dset.sel(time=date)\n",
    "        date = pd.to_datetime(date.data)\n",
    "        print(\"saving {} for {:%Y-%m}\".format(variable, date))\n",
    "        sub.to_netcdf(opath / f'{GCM}_hindcasts_{variable}_{date.year}_{date.month}.nc')\n",
    "        sub.close()\n",
    "        \n",
    "    dset.close() \n",
    "    "
   ]
  },
  {
   "cell_type": "markdown",
   "metadata": {},
   "source": [
    "### alternative using NCKS "
   ]
  },
  {
   "cell_type": "markdown",
   "metadata": {},
   "source": [
    "```\n",
    "ncks -d S,264.,264. http://iridl.ldeo.columbia.edu/SOURCES/.Models/.NMME/.NCEP-CFSv2/.HINDCAST/.MONTHLY/.prec/dods ess.nc\n",
    "```"
   ]
  }
 ],
 "metadata": {
  "history": [
   {
    "cell": {
     "executionCount": 1,
     "executionEventId": "a9e161e8-1e84-400f-bbbb-e8e79e4ba945",
     "hasError": false,
     "id": "7eaf07b2-18d6-4f0a-8930-b573d5bd1fcc",
     "outputs": [],
     "persistentId": "0ab39c8a-be7b-4f56-b6c3-aa7ae0acd5d1",
     "text": "dict_variables = {}\ndict_variables['PRECIP'] = 'prec'\ndict_variables['T2M'] = 'tref'\ndict_variables['SST'] = 'sst'\n"
    },
    "executionTime": "2019-12-08T23:56:51.089Z"
   },
   {
    "cell": {
     "executionCount": 2,
     "executionEventId": "f282494c-6209-4436-ab0d-04a6ea10a2a2",
     "hasError": false,
     "id": "1654bb8f-54a7-47d5-8d11-974df671cb14",
     "outputs": [],
     "persistentId": "fd29e246-14ef-41bb-b3d1-21c385096522",
     "text": "%matplotlib inline\nfrom matplotlib import pyplot as plt"
    },
    "executionTime": "2019-12-08T23:57:58.177Z"
   },
   {
    "cell": {
     "executionCount": 3,
     "executionEventId": "52fed748-a144-425e-b93a-bd0a7d4a6e0d",
     "hasError": false,
     "id": "98d427fe-98b5-4177-aa5f-8d719769ca1e",
     "outputs": [],
     "persistentId": "b548e22d-87af-4ea0-89f0-03d24013b895",
     "text": "import os \nimport sys \nimport pathlib"
    },
    "executionTime": "2019-12-08T23:57:58.182Z"
   },
   {
    "cell": {
     "executionCount": 4,
     "executionEventId": "31e6870d-95f8-43bb-9687-29b88728d8a0",
     "hasError": false,
     "id": "a15a15c7-f635-4a13-8f3c-ec85c768fb7b",
     "outputs": [],
     "persistentId": "21fa21be-dc9a-42a6-afc9-60a911d8394d",
     "text": "from datetime import datetime, timedelta\nimport calendar\nfrom dateutil import relativedelta"
    },
    "executionTime": "2019-12-08T23:57:58.290Z"
   },
   {
    "cell": {
     "executionCount": 5,
     "executionEventId": "7bcdf8a5-7c4d-42f0-a319-d389070b5083",
     "hasError": false,
     "id": "6be31241-e0f0-4721-b5dd-b05dc5bb70ee",
     "outputs": [],
     "persistentId": "b77a4f79-bc6f-472a-9f47-349c86fc0da8",
     "text": "import numpy as np \nimport pandas as pd \nimport xarray as xr"
    },
    "executionTime": "2019-12-08T23:57:58.804Z"
   },
   {
    "cell": {
     "executionCount": 6,
     "executionEventId": "740e13ce-ed4a-4635-96f6-7f6b5eabdbc7",
     "hasError": false,
     "id": "0e0a8ecb-8a7a-41cc-8333-0d792b1f0da5",
     "outputs": [],
     "persistentId": "aa44e8fa-1969-4cc9-81ff-c16e51f00daa",
     "text": "CWD = pathlib.Path.cwd()"
    },
    "executionTime": "2019-12-08T23:57:58.810Z"
   },
   {
    "cell": {
     "executionCount": 7,
     "executionEventId": "631df827-a751-43e5-9232-8aade55a183d",
     "hasError": false,
     "id": "24b26bec-9dde-487b-8faa-3c4b2e391864",
     "outputs": [],
     "persistentId": "f25bf7af-ae58-4cb1-8181-cfabedb0b5d7",
     "text": "HOME = pathlib.Path.home()"
    },
    "executionTime": "2019-12-08T23:57:58.824Z"
   },
   {
    "cell": {
     "executionCount": 8,
     "executionEventId": "c7d1c5ba-6635-4be6-8687-a6630c96c992",
     "hasError": false,
     "id": "28815cc6-8d66-4e4e-bea7-53ed87e27bb6",
     "outputs": [],
     "persistentId": "f0bd3260-36c0-4dcc-b726-bcba33de2ea5",
     "text": "opath = HOME / 'drives' / 'auck_projects' / 'END19101' / 'Working' / 'data' / 'hindcasts' / 'IRI' / 'CFSv2'"
    },
    "executionTime": "2019-12-08T23:57:58.846Z"
   },
   {
    "cell": {
     "executionCount": 9,
     "executionEventId": "b580ecd5-eba7-4742-8ba7-96cc84eea058",
     "hasError": false,
     "id": "6bf4f087-b757-4ce0-a3d2-039fc3ad8930",
     "outputs": [],
     "persistentId": "2556bfc4-3042-4823-95cc-1ec2416d7ec2",
     "text": "GCM = 'NCEP-CFSv2'"
    },
    "executionTime": "2019-12-08T23:57:58.890Z"
   },
   {
    "cell": {
     "executionCount": 10,
     "executionEventId": "d3b507d7-456d-4402-956e-c0cdfa1e9fcf",
     "hasError": false,
     "id": "9254cbec-e045-4067-8833-d010c1b66bcb",
     "outputs": [],
     "persistentId": "48a44f83-0ee0-4474-90be-7af6584ac99a",
     "text": "data_stream = 'HINDCAST'"
    },
    "executionTime": "2019-12-08T23:57:59.316Z"
   },
   {
    "cell": {
     "executionCount": 11,
     "executionEventId": "80a480bf-4939-452b-8791-9abbad9ff2d7",
     "hasError": false,
     "id": "7eaf07b2-18d6-4f0a-8930-b573d5bd1fcc",
     "outputs": [],
     "persistentId": "0ab39c8a-be7b-4f56-b6c3-aa7ae0acd5d1",
     "text": "dict_variables = {}\ndict_variables['PRECIP'] = 'prec'\ndict_variables['T2M'] = 'tref'\ndict_variables['SST'] = 'sst'"
    },
    "executionTime": "2019-12-08T23:57:59.662Z"
   },
   {
    "cell": {
     "executionCount": 12,
     "executionEventId": "3fbe10cc-1f53-4bbd-9987-75512672e0b0",
     "hasError": false,
     "id": "ae287747-50c4-4efb-932b-6f4603ef2dec",
     "outputs": [],
     "persistentId": "8fbd2c63-0e61-43a8-8db5-673f86a79900",
     "text": "var = 'PRECIP'"
    },
    "executionTime": "2019-12-08T23:58:00.272Z"
   },
   {
    "cell": {
     "executionCount": 13,
     "executionEventId": "f02340a2-4a70-445b-b923-aefaf7f4bd6b",
     "hasError": false,
     "id": "e1f08571-77be-4d5b-aed6-03f3dacb77df",
     "outputs": [],
     "persistentId": "9a580435-128d-48c8-bfbc-52f2b6c01e2a",
     "text": "url = f'http://iridl.ldeo.columbia.edu/SOURCES/.Models/.NMME/.{GCM}/.{data_stream}/.PENTAD_SAMPLES/.MONTHLY/.{dict_variables[var]}/dods'"
    },
    "executionTime": "2019-12-08T23:58:01.389Z"
   },
   {
    "cell": {
     "executionCount": 14,
     "executionEventId": "41992746-0ff2-41c5-8ab8-4b1a83abf0ee",
     "hasError": false,
     "id": "210ac9ee-98e1-425c-b739-506c6b682818",
     "outputs": [
      {
       "name": "stdout",
       "output_type": "stream",
       "text": "http://iridl.ldeo.columbia.edu/SOURCES/.Models/.NMME/.NCEP-CFSv2/.HINDCAST/.PENTAD_SAMPLES/.MONTHLY/.prec/dods\n"
      }
     ],
     "persistentId": "d13bb3fd-3c01-4232-88f5-7bb901aa6ffb",
     "text": "print(url)"
    },
    "executionTime": "2019-12-08T23:58:06.493Z"
   },
   {
    "cell": {
     "executionCount": 15,
     "executionEventId": "cfa03e22-5065-41f7-bb37-b807927c384f",
     "hasError": false,
     "id": "9f91946c-6064-4420-b5c5-50d34a6addce",
     "outputs": [],
     "persistentId": "37f58074-abca-4f3a-8f2d-f386574e9c50",
     "text": "dset = xr.open_dataset(url, decode_times=False)"
    },
    "executionTime": "2019-12-08T23:58:13.414Z"
   },
   {
    "cell": {
     "executionCount": 16,
     "executionEventId": "8cbcc8f9-63e0-4350-8629-82a0e2d4c4c1",
     "hasError": false,
     "id": "f2480df8-751a-4341-8b5b-f536f751f5de",
     "outputs": [],
     "persistentId": "87e9219e-a5bd-439f-bc92-669c6353b74d",
     "text": "dict_coords = {}\ndict_coords['L'] = 'step'\ndict_coords['M'] = 'member'\ndict_coords['S'] = 'time'\ndict_coords['X'] = 'lon'\ndict_coords['Y'] = 'lat'"
    },
    "executionTime": "2019-12-08T23:59:08.805Z"
   },
   {
    "cell": {
     "executionCount": 17,
     "executionEventId": "522114ff-0f8a-4a69-8809-ca8cde657feb",
     "hasError": false,
     "id": "9c07f9f3-0542-4f16-a0a9-1515fac874b1",
     "outputs": [],
     "persistentId": "d198fdc8-c8d2-4fc9-ba88-3a309ccc7c4c",
     "text": "dset = dset.rename(dict_coords)"
    },
    "executionTime": "2019-12-08T23:59:09.188Z"
   },
   {
    "cell": {
     "executionCount": 18,
     "executionEventId": "459d07b5-c6f1-4d59-acd8-de615b908992",
     "hasError": false,
     "id": "e75b8c60-a5fc-4596-87db-50da7167d08d",
     "outputs": [
      {
       "data": {
        "text/plain": "<xarray.DataArray 'time' (time: 351)>\narray([264., 265., 266., ..., 612., 613., 614.], dtype=float32)\nCoordinates:\n  * time     (time) float32 264.0 265.0 266.0 267.0 ... 611.0 612.0 613.0 614.0\nAttributes:\n    standard_name:  forecast_reference_time\n    pointwidth:     0\n    calendar:       360\n    gridtype:       0\n    units:          months since 1960-01-01"
       },
       "execution_count": 18,
       "metadata": {},
       "output_type": "execute_result"
      }
     ],
     "persistentId": "a1823775-c96d-4597-956f-ec3e1f74bb27",
     "text": "dset.time"
    },
    "executionTime": "2019-12-08T23:59:09.454Z"
   },
   {
    "cell": {
     "executionCount": 19,
     "executionEventId": "85ccee7e-6649-428c-b88e-7cf88136fc3e",
     "hasError": false,
     "id": "b39b75ee-892c-454d-9e25-7f8eadcbd86d",
     "outputs": [],
     "persistentId": "633f736a-903a-46a2-a21c-86ca3996a1db",
     "text": "origin = datetime(1960,1,1)"
    },
    "executionTime": "2019-12-08T23:59:12.711Z"
   },
   {
    "cell": {
     "executionCount": 20,
     "executionEventId": "e3c61913-224e-4ce4-9d4b-ae607d2ff46e",
     "hasError": false,
     "id": "9ff10b44-5971-4281-859c-897c22ee6e0e",
     "outputs": [],
     "persistentId": "63e0ff91-433e-428b-a5b0-45b5203aec2a",
     "text": "dates = [origin + relativedelta.relativedelta(months=x) for x in dset.time]"
    },
    "executionTime": "2019-12-08T23:59:13.021Z"
   },
   {
    "cell": {
     "executionCount": 21,
     "executionEventId": "75610824-e569-4ba3-977b-41dd62ed3629",
     "hasError": false,
     "id": "1872584a-9c66-4c75-a9f6-e4ffc99070c3",
     "outputs": [],
     "persistentId": "cbed224a-7550-4691-b491-a05b6b9b9d45",
     "text": "dset['time'] = (('time'), dates)"
    },
    "executionTime": "2019-12-08T23:59:13.179Z"
   },
   {
    "cell": {
     "executionCount": 22,
     "executionEventId": "9f3ae033-76e7-46b8-b8bf-d8c2e66d12c8",
     "hasError": false,
     "id": "ad87fc5b-da1b-43fe-8e1f-5050ff9651e3",
     "outputs": [
      {
       "data": {
        "text/plain": "<xarray.Dataset>\nDimensions:  (lat: 181, lon: 360, member: 28, step: 10, time: 351)\nCoordinates:\n  * step     (step) float32 0.5 1.5 2.5 3.5 4.5 5.5 6.5 7.5 8.5 9.5\n  * lat      (lat) float32 -90.0 -89.0 -88.0 -87.0 -86.0 ... 87.0 88.0 89.0 90.0\n  * time     (time) datetime64[ns] 1982-01-01 1982-02-01 ... 2011-03-01\n  * member   (member) float32 1.0 2.0 3.0 4.0 5.0 ... 24.0 25.0 26.0 27.0 28.0\n  * lon      (lon) float32 0.0 1.0 2.0 3.0 4.0 ... 355.0 356.0 357.0 358.0 359.0\nData variables:\n    prec     (time, step, member, lat, lon) float32 ...\nAttributes:\n    Conventions:  IRIDL"
       },
       "execution_count": 22,
       "metadata": {},
       "output_type": "execute_result"
      }
     ],
     "persistentId": "7b1d224f-5ef7-4216-a20c-b2be23aec2d6",
     "text": "dset"
    },
    "executionTime": "2019-12-08T23:59:13.454Z"
   },
   {
    "cell": {
     "executionCount": 23,
     "executionEventId": "f198a54a-066e-4c82-a475-40f9894ed4f0",
     "hasError": false,
     "id": "d8ee9aec-743f-43cc-ac69-8e0579518f2a",
     "outputs": [],
     "persistentId": "48b71752-eb79-49b9-ad84-f2c324b94e1e",
     "text": "dset = dset.sel(time=slice('1998-10-01',None))"
    },
    "executionTime": "2019-12-08T23:59:13.796Z"
   },
   {
    "cell": {
     "executionCount": 24,
     "executionEventId": "5c98f79e-177e-4bd0-a6b2-6e3a196bbb96",
     "hasError": false,
     "id": "1654bb8f-54a7-47d5-8d11-974df671cb14",
     "outputs": [],
     "persistentId": "fd29e246-14ef-41bb-b3d1-21c385096522",
     "text": "%matplotlib inline\nfrom matplotlib import pyplot as plt"
    },
    "executionTime": "2019-12-08T23:59:26.733Z"
   },
   {
    "cell": {
     "executionCount": 25,
     "executionEventId": "41a6cc98-2567-4e8a-b426-174cd2de652e",
     "hasError": false,
     "id": "98d427fe-98b5-4177-aa5f-8d719769ca1e",
     "outputs": [],
     "persistentId": "b548e22d-87af-4ea0-89f0-03d24013b895",
     "text": "import os \nimport sys \nimport pathlib"
    },
    "executionTime": "2019-12-08T23:59:26.857Z"
   },
   {
    "cell": {
     "executionCount": 26,
     "executionEventId": "e0994e7c-f146-417a-97e9-d18337ca1c36",
     "hasError": false,
     "id": "a15a15c7-f635-4a13-8f3c-ec85c768fb7b",
     "outputs": [],
     "persistentId": "21fa21be-dc9a-42a6-afc9-60a911d8394d",
     "text": "from datetime import datetime, timedelta\nimport calendar\nfrom dateutil import relativedelta"
    },
    "executionTime": "2019-12-08T23:59:27.038Z"
   },
   {
    "cell": {
     "executionCount": 27,
     "executionEventId": "2311e272-29c0-46b3-a2de-961fccec7290",
     "hasError": false,
     "id": "6be31241-e0f0-4721-b5dd-b05dc5bb70ee",
     "outputs": [],
     "persistentId": "b77a4f79-bc6f-472a-9f47-349c86fc0da8",
     "text": "import numpy as np \nimport pandas as pd \nimport xarray as xr"
    },
    "executionTime": "2019-12-08T23:59:27.216Z"
   },
   {
    "cell": {
     "executionCount": 28,
     "executionEventId": "11243f19-09c0-4e6f-aace-2b28b5493220",
     "hasError": false,
     "id": "0e0a8ecb-8a7a-41cc-8333-0d792b1f0da5",
     "outputs": [],
     "persistentId": "aa44e8fa-1969-4cc9-81ff-c16e51f00daa",
     "text": "CWD = pathlib.Path.cwd()"
    },
    "executionTime": "2019-12-08T23:59:27.388Z"
   },
   {
    "cell": {
     "executionCount": 29,
     "executionEventId": "cb99dd28-70cc-4e1b-a8ac-e543faf6e182",
     "hasError": false,
     "id": "24b26bec-9dde-487b-8faa-3c4b2e391864",
     "outputs": [],
     "persistentId": "f25bf7af-ae58-4cb1-8181-cfabedb0b5d7",
     "text": "HOME = pathlib.Path.home()"
    },
    "executionTime": "2019-12-08T23:59:27.529Z"
   },
   {
    "cell": {
     "executionCount": 30,
     "executionEventId": "cf2e78dd-739c-4b3a-8310-62432b5337fc",
     "hasError": false,
     "id": "28815cc6-8d66-4e4e-bea7-53ed87e27bb6",
     "outputs": [],
     "persistentId": "f0bd3260-36c0-4dcc-b726-bcba33de2ea5",
     "text": "opath = HOME / 'drives' / 'auck_projects' / 'END19101' / 'Working' / 'data' / 'hindcasts' / 'IRI' / 'CFSv2'"
    },
    "executionTime": "2019-12-08T23:59:27.716Z"
   },
   {
    "cell": {
     "executionCount": 31,
     "executionEventId": "71ad44f0-a81c-4086-af00-f6ec3d6f12a2",
     "hasError": false,
     "id": "6bf4f087-b757-4ce0-a3d2-039fc3ad8930",
     "outputs": [],
     "persistentId": "2556bfc4-3042-4823-95cc-1ec2416d7ec2",
     "text": "GCM = 'NCEP-CFSv2'"
    },
    "executionTime": "2019-12-08T23:59:27.808Z"
   },
   {
    "cell": {
     "executionCount": 32,
     "executionEventId": "e836d0cc-b042-4d50-b9ac-60754ee1da93",
     "hasError": false,
     "id": "9254cbec-e045-4067-8833-d010c1b66bcb",
     "outputs": [],
     "persistentId": "48a44f83-0ee0-4474-90be-7af6584ac99a",
     "text": "data_stream = 'HINDCAST'"
    },
    "executionTime": "2019-12-08T23:59:27.908Z"
   },
   {
    "cell": {
     "executionCount": 33,
     "executionEventId": "1226f15d-e589-476a-9123-eeb61ade933b",
     "hasError": false,
     "id": "7eaf07b2-18d6-4f0a-8930-b573d5bd1fcc",
     "outputs": [],
     "persistentId": "0ab39c8a-be7b-4f56-b6c3-aa7ae0acd5d1",
     "text": "dict_variables = {}\ndict_variables['PRECIP'] = 'prec'\ndict_variables['T2M'] = 'tref'\ndict_variables['SST'] = 'sst'"
    },
    "executionTime": "2019-12-08T23:59:28.001Z"
   },
   {
    "cell": {
     "executionCount": 34,
     "executionEventId": "613066ca-813a-4695-9eb7-19b4ad9f1562",
     "hasError": false,
     "id": "ae287747-50c4-4efb-932b-6f4603ef2dec",
     "outputs": [],
     "persistentId": "8fbd2c63-0e61-43a8-8db5-673f86a79900",
     "text": "var = 'PRECIP'"
    },
    "executionTime": "2019-12-08T23:59:28.123Z"
   },
   {
    "cell": {
     "executionCount": 35,
     "executionEventId": "b5407dc7-ff2b-4aa1-98a7-b7771e6151d9",
     "hasError": false,
     "id": "e1f08571-77be-4d5b-aed6-03f3dacb77df",
     "outputs": [],
     "persistentId": "9a580435-128d-48c8-bfbc-52f2b6c01e2a",
     "text": "url = f'http://iridl.ldeo.columbia.edu/SOURCES/.Models/.NMME/.{GCM}/.{data_stream}/.PENTAD_SAMPLES/.MONTHLY/.{dict_variables[var]}/dods'"
    },
    "executionTime": "2019-12-08T23:59:28.309Z"
   },
   {
    "cell": {
     "executionCount": 36,
     "executionEventId": "1a00a788-1069-4b30-8f91-9960b9491635",
     "hasError": false,
     "id": "210ac9ee-98e1-425c-b739-506c6b682818",
     "outputs": [
      {
       "name": "stdout",
       "output_type": "stream",
       "text": "http://iridl.ldeo.columbia.edu/SOURCES/.Models/.NMME/.NCEP-CFSv2/.HINDCAST/.PENTAD_SAMPLES/.MONTHLY/.prec/dods\n"
      }
     ],
     "persistentId": "d13bb3fd-3c01-4232-88f5-7bb901aa6ffb",
     "text": "print(url)"
    },
    "executionTime": "2019-12-08T23:59:28.745Z"
   },
   {
    "cell": {
     "executionCount": 37,
     "executionEventId": "7aec6ed7-0cc7-40be-b1af-3ceb66b1282c",
     "hasError": false,
     "id": "9f91946c-6064-4420-b5c5-50d34a6addce",
     "outputs": [],
     "persistentId": "37f58074-abca-4f3a-8f2d-f386574e9c50",
     "text": "dset = xr.open_dataset(url, decode_times=False)"
    },
    "executionTime": "2019-12-08T23:59:29.154Z"
   },
   {
    "cell": {
     "executionCount": 38,
     "executionEventId": "635f69b9-6e6f-4e8c-abf3-3bba4d354ad3",
     "hasError": false,
     "id": "f2480df8-751a-4341-8b5b-f536f751f5de",
     "outputs": [],
     "persistentId": "87e9219e-a5bd-439f-bc92-669c6353b74d",
     "text": "dict_coords = {}\ndict_coords['L'] = 'step'\ndict_coords['M'] = 'member'\ndict_coords['S'] = 'time'\ndict_coords['X'] = 'lon'\ndict_coords['Y'] = 'lat'"
    },
    "executionTime": "2019-12-08T23:59:29.645Z"
   },
   {
    "cell": {
     "executionCount": 39,
     "executionEventId": "a12a9b3f-1584-4769-bfab-efb2d07fb619",
     "hasError": false,
     "id": "9c07f9f3-0542-4f16-a0a9-1515fac874b1",
     "outputs": [],
     "persistentId": "d198fdc8-c8d2-4fc9-ba88-3a309ccc7c4c",
     "text": "dset = dset.rename(dict_coords)"
    },
    "executionTime": "2019-12-08T23:59:30.078Z"
   },
   {
    "cell": {
     "executionCount": 40,
     "executionEventId": "ddb5a021-2e7e-4a5e-8ca4-89b593648a90",
     "hasError": false,
     "id": "e75b8c60-a5fc-4596-87db-50da7167d08d",
     "outputs": [
      {
       "data": {
        "text/plain": "<xarray.DataArray 'time' (time: 351)>\narray([264., 265., 266., ..., 612., 613., 614.], dtype=float32)\nCoordinates:\n  * time     (time) float32 264.0 265.0 266.0 267.0 ... 611.0 612.0 613.0 614.0\nAttributes:\n    standard_name:  forecast_reference_time\n    pointwidth:     0\n    calendar:       360\n    gridtype:       0\n    units:          months since 1960-01-01"
       },
       "execution_count": 40,
       "metadata": {},
       "output_type": "execute_result"
      }
     ],
     "persistentId": "a1823775-c96d-4597-956f-ec3e1f74bb27",
     "text": "dset.time"
    },
    "executionTime": "2019-12-08T23:59:30.988Z"
   },
   {
    "cell": {
     "executionCount": 41,
     "executionEventId": "a809ebce-6d88-41a3-b546-5068991fe097",
     "hasError": false,
     "id": "b39b75ee-892c-454d-9e25-7f8eadcbd86d",
     "outputs": [],
     "persistentId": "633f736a-903a-46a2-a21c-86ca3996a1db",
     "text": "origin = datetime(1960,1,1)"
    },
    "executionTime": "2019-12-08T23:59:32.311Z"
   },
   {
    "cell": {
     "executionCount": 42,
     "executionEventId": "3633ef4b-fc5b-4027-b2e3-a6eb619bb014",
     "hasError": false,
     "id": "9ff10b44-5971-4281-859c-897c22ee6e0e",
     "outputs": [],
     "persistentId": "63e0ff91-433e-428b-a5b0-45b5203aec2a",
     "text": "dates = [origin + relativedelta.relativedelta(months=x) for x in dset.time]"
    },
    "executionTime": "2019-12-08T23:59:33.177Z"
   },
   {
    "cell": {
     "executionCount": 43,
     "executionEventId": "681a15bc-bad4-4230-9083-8789da3984da",
     "hasError": false,
     "id": "1872584a-9c66-4c75-a9f6-e4ffc99070c3",
     "outputs": [],
     "persistentId": "cbed224a-7550-4691-b491-a05b6b9b9d45",
     "text": "dset['time'] = (('time'), dates)"
    },
    "executionTime": "2019-12-08T23:59:33.604Z"
   },
   {
    "cell": {
     "executionCount": 44,
     "executionEventId": "af5a2184-609b-4dd5-9336-d92b9a655a3e",
     "hasError": false,
     "id": "ad87fc5b-da1b-43fe-8e1f-5050ff9651e3",
     "outputs": [
      {
       "data": {
        "text/plain": "<xarray.Dataset>\nDimensions:  (lat: 181, lon: 360, member: 28, step: 10, time: 351)\nCoordinates:\n  * step     (step) float32 0.5 1.5 2.5 3.5 4.5 5.5 6.5 7.5 8.5 9.5\n  * lat      (lat) float32 -90.0 -89.0 -88.0 -87.0 -86.0 ... 87.0 88.0 89.0 90.0\n  * time     (time) datetime64[ns] 1982-01-01 1982-02-01 ... 2011-03-01\n  * member   (member) float32 1.0 2.0 3.0 4.0 5.0 ... 24.0 25.0 26.0 27.0 28.0\n  * lon      (lon) float32 0.0 1.0 2.0 3.0 4.0 ... 355.0 356.0 357.0 358.0 359.0\nData variables:\n    prec     (time, step, member, lat, lon) float32 ...\nAttributes:\n    Conventions:  IRIDL"
       },
       "execution_count": 44,
       "metadata": {},
       "output_type": "execute_result"
      }
     ],
     "persistentId": "7b1d224f-5ef7-4216-a20c-b2be23aec2d6",
     "text": "dset"
    },
    "executionTime": "2019-12-08T23:59:34.301Z"
   },
   {
    "cell": {
     "executionCount": 45,
     "executionEventId": "a9eca56a-7b75-4862-be67-c6075a3324fe",
     "hasError": false,
     "id": "aefb2c72-5e92-41b3-a6ab-3d7e39a00c7a",
     "outputs": [
      {
       "data": {
        "text/plain": "<xarray.Dataset>\nDimensions:  (lat: 181, lon: 360, member: 28, step: 10, time: 351)\nCoordinates:\n  * step     (step) float32 0.5 1.5 2.5 3.5 4.5 5.5 6.5 7.5 8.5 9.5\n  * lat      (lat) float32 -90.0 -89.0 -88.0 -87.0 -86.0 ... 87.0 88.0 89.0 90.0\n  * time     (time) datetime64[ns] 1982-01-01 1982-02-01 ... 2011-03-01\n  * member   (member) float32 1.0 2.0 3.0 4.0 5.0 ... 24.0 25.0 26.0 27.0 28.0\n  * lon      (lon) float32 0.0 1.0 2.0 3.0 4.0 ... 355.0 356.0 357.0 358.0 359.0\nData variables:\n    prec     (time, step, member, lat, lon) float32 ...\nAttributes:\n    Conventions:  IRIDL"
       },
       "execution_count": 45,
       "metadata": {},
       "output_type": "execute_result"
      }
     ],
     "persistentId": "c4b6d140-e9df-4a95-8edf-6836d254bdd6",
     "text": "dset "
    },
    "executionTime": "2019-12-08T23:59:39.218Z"
   },
   {
    "cell": {
     "executionCount": 46,
     "executionEventId": "1628ce43-2dd8-4c1c-ab2a-57b7225d8167",
     "hasError": true,
     "id": "aefb2c72-5e92-41b3-a6ab-3d7e39a00c7a",
     "outputs": [
      {
       "ename": "KeyError",
       "evalue": "'1981'",
       "output_type": "error",
       "traceback": [
        "\u001b[0;31m---------------------------------------------------------------------------\u001b[0m",
        "\u001b[0;31mTypeError\u001b[0m                                 Traceback (most recent call last)",
        "\u001b[0;32mpandas/_libs/index.pyx\u001b[0m in \u001b[0;36mpandas._libs.index.DatetimeEngine.get_loc\u001b[0;34m()\u001b[0m\n",
        "\u001b[0;32mpandas/_libs/hashtable_class_helper.pxi\u001b[0m in \u001b[0;36mpandas._libs.hashtable.Int64HashTable.get_item\u001b[0;34m()\u001b[0m\n",
        "\u001b[0;31mTypeError\u001b[0m: an integer is required",
        "\nDuring handling of the above exception, another exception occurred:\n",
        "\u001b[0;31mKeyError\u001b[0m                                  Traceback (most recent call last)",
        "\u001b[0;32m~/anaconda3/envs/pangeo/lib/python3.7/site-packages/pandas/core/indexes/base.py\u001b[0m in \u001b[0;36mget_loc\u001b[0;34m(self, key, method, tolerance)\u001b[0m\n\u001b[1;32m   2896\u001b[0m             \u001b[0;32mtry\u001b[0m\u001b[0;34m:\u001b[0m\u001b[0;34m\u001b[0m\u001b[0;34m\u001b[0m\u001b[0m\n\u001b[0;32m-> 2897\u001b[0;31m                 \u001b[0;32mreturn\u001b[0m \u001b[0mself\u001b[0m\u001b[0;34m.\u001b[0m\u001b[0m_engine\u001b[0m\u001b[0;34m.\u001b[0m\u001b[0mget_loc\u001b[0m\u001b[0;34m(\u001b[0m\u001b[0mkey\u001b[0m\u001b[0;34m)\u001b[0m\u001b[0;34m\u001b[0m\u001b[0;34m\u001b[0m\u001b[0m\n\u001b[0m\u001b[1;32m   2898\u001b[0m             \u001b[0;32mexcept\u001b[0m \u001b[0mKeyError\u001b[0m\u001b[0;34m:\u001b[0m\u001b[0;34m\u001b[0m\u001b[0;34m\u001b[0m\u001b[0m\n",
        "\u001b[0;32mpandas/_libs/index.pyx\u001b[0m in \u001b[0;36mpandas._libs.index.DatetimeEngine.get_loc\u001b[0;34m()\u001b[0m\n",
        "\u001b[0;32mpandas/_libs/index.pyx\u001b[0m in \u001b[0;36mpandas._libs.index.DatetimeEngine.get_loc\u001b[0;34m()\u001b[0m\n",
        "\u001b[0;32mpandas/_libs/index.pyx\u001b[0m in \u001b[0;36mpandas._libs.index.DatetimeEngine._date_check_type\u001b[0;34m()\u001b[0m\n",
        "\u001b[0;31mKeyError\u001b[0m: '1981'",
        "\nDuring handling of the above exception, another exception occurred:\n",
        "\u001b[0;31mTypeError\u001b[0m                                 Traceback (most recent call last)",
        "\u001b[0;32mpandas/_libs/index.pyx\u001b[0m in \u001b[0;36mpandas._libs.index.DatetimeEngine.get_loc\u001b[0;34m()\u001b[0m\n",
        "\u001b[0;32mpandas/_libs/hashtable_class_helper.pxi\u001b[0m in \u001b[0;36mpandas._libs.hashtable.Int64HashTable.get_item\u001b[0;34m()\u001b[0m\n",
        "\u001b[0;31mTypeError\u001b[0m: an integer is required",
        "\nDuring handling of the above exception, another exception occurred:\n",
        "\u001b[0;31mKeyError\u001b[0m                                  Traceback (most recent call last)",
        "\u001b[0;32m~/anaconda3/envs/pangeo/lib/python3.7/site-packages/pandas/core/indexes/datetimes.py\u001b[0m in \u001b[0;36mget_loc\u001b[0;34m(self, key, method, tolerance)\u001b[0m\n\u001b[1;32m   1056\u001b[0m         \u001b[0;32mtry\u001b[0m\u001b[0;34m:\u001b[0m\u001b[0;34m\u001b[0m\u001b[0;34m\u001b[0m\u001b[0m\n\u001b[0;32m-> 1057\u001b[0;31m             \u001b[0;32mreturn\u001b[0m \u001b[0mIndex\u001b[0m\u001b[0;34m.\u001b[0m\u001b[0mget_loc\u001b[0m\u001b[0;34m(\u001b[0m\u001b[0mself\u001b[0m\u001b[0;34m,\u001b[0m \u001b[0mkey\u001b[0m\u001b[0;34m,\u001b[0m \u001b[0mmethod\u001b[0m\u001b[0;34m,\u001b[0m \u001b[0mtolerance\u001b[0m\u001b[0;34m)\u001b[0m\u001b[0;34m\u001b[0m\u001b[0;34m\u001b[0m\u001b[0m\n\u001b[0m\u001b[1;32m   1058\u001b[0m         \u001b[0;32mexcept\u001b[0m \u001b[0;34m(\u001b[0m\u001b[0mKeyError\u001b[0m\u001b[0;34m,\u001b[0m \u001b[0mValueError\u001b[0m\u001b[0;34m,\u001b[0m \u001b[0mTypeError\u001b[0m\u001b[0;34m)\u001b[0m\u001b[0;34m:\u001b[0m\u001b[0;34m\u001b[0m\u001b[0;34m\u001b[0m\u001b[0m\n",
        "\u001b[0;32m~/anaconda3/envs/pangeo/lib/python3.7/site-packages/pandas/core/indexes/base.py\u001b[0m in \u001b[0;36mget_loc\u001b[0;34m(self, key, method, tolerance)\u001b[0m\n\u001b[1;32m   2898\u001b[0m             \u001b[0;32mexcept\u001b[0m \u001b[0mKeyError\u001b[0m\u001b[0;34m:\u001b[0m\u001b[0;34m\u001b[0m\u001b[0;34m\u001b[0m\u001b[0m\n\u001b[0;32m-> 2899\u001b[0;31m                 \u001b[0;32mreturn\u001b[0m \u001b[0mself\u001b[0m\u001b[0;34m.\u001b[0m\u001b[0m_engine\u001b[0m\u001b[0;34m.\u001b[0m\u001b[0mget_loc\u001b[0m\u001b[0;34m(\u001b[0m\u001b[0mself\u001b[0m\u001b[0;34m.\u001b[0m\u001b[0m_maybe_cast_indexer\u001b[0m\u001b[0;34m(\u001b[0m\u001b[0mkey\u001b[0m\u001b[0;34m)\u001b[0m\u001b[0;34m)\u001b[0m\u001b[0;34m\u001b[0m\u001b[0;34m\u001b[0m\u001b[0m\n\u001b[0m\u001b[1;32m   2900\u001b[0m         \u001b[0mindexer\u001b[0m \u001b[0;34m=\u001b[0m \u001b[0mself\u001b[0m\u001b[0;34m.\u001b[0m\u001b[0mget_indexer\u001b[0m\u001b[0;34m(\u001b[0m\u001b[0;34m[\u001b[0m\u001b[0mkey\u001b[0m\u001b[0;34m]\u001b[0m\u001b[0;34m,\u001b[0m \u001b[0mmethod\u001b[0m\u001b[0;34m=\u001b[0m\u001b[0mmethod\u001b[0m\u001b[0;34m,\u001b[0m \u001b[0mtolerance\u001b[0m\u001b[0;34m=\u001b[0m\u001b[0mtolerance\u001b[0m\u001b[0;34m)\u001b[0m\u001b[0;34m\u001b[0m\u001b[0;34m\u001b[0m\u001b[0m\n",
        "\u001b[0;32mpandas/_libs/index.pyx\u001b[0m in \u001b[0;36mpandas._libs.index.DatetimeEngine.get_loc\u001b[0;34m()\u001b[0m\n",
        "\u001b[0;32mpandas/_libs/index.pyx\u001b[0m in \u001b[0;36mpandas._libs.index.DatetimeEngine.get_loc\u001b[0;34m()\u001b[0m\n",
        "\u001b[0;32mpandas/_libs/index.pyx\u001b[0m in \u001b[0;36mpandas._libs.index.DatetimeEngine._date_check_type\u001b[0;34m()\u001b[0m\n",
        "\u001b[0;31mKeyError\u001b[0m: '1981'",
        "\nDuring handling of the above exception, another exception occurred:\n",
        "\u001b[0;31mKeyError\u001b[0m                                  Traceback (most recent call last)",
        "\u001b[0;32mpandas/_libs/index.pyx\u001b[0m in \u001b[0;36mpandas._libs.index.DatetimeEngine.get_loc\u001b[0;34m()\u001b[0m\n",
        "\u001b[0;32mpandas/_libs/hashtable_class_helper.pxi\u001b[0m in \u001b[0;36mpandas._libs.hashtable.Int64HashTable.get_item\u001b[0;34m()\u001b[0m\n",
        "\u001b[0;32mpandas/_libs/hashtable_class_helper.pxi\u001b[0m in \u001b[0;36mpandas._libs.hashtable.Int64HashTable.get_item\u001b[0;34m()\u001b[0m\n",
        "\u001b[0;31mKeyError\u001b[0m: 347155200000000000",
        "\nDuring handling of the above exception, another exception occurred:\n",
        "\u001b[0;31mKeyError\u001b[0m                                  Traceback (most recent call last)",
        "\u001b[0;32m~/anaconda3/envs/pangeo/lib/python3.7/site-packages/pandas/core/indexes/base.py\u001b[0m in \u001b[0;36mget_loc\u001b[0;34m(self, key, method, tolerance)\u001b[0m\n\u001b[1;32m   2896\u001b[0m             \u001b[0;32mtry\u001b[0m\u001b[0;34m:\u001b[0m\u001b[0;34m\u001b[0m\u001b[0;34m\u001b[0m\u001b[0m\n\u001b[0;32m-> 2897\u001b[0;31m                 \u001b[0;32mreturn\u001b[0m \u001b[0mself\u001b[0m\u001b[0;34m.\u001b[0m\u001b[0m_engine\u001b[0m\u001b[0;34m.\u001b[0m\u001b[0mget_loc\u001b[0m\u001b[0;34m(\u001b[0m\u001b[0mkey\u001b[0m\u001b[0;34m)\u001b[0m\u001b[0;34m\u001b[0m\u001b[0;34m\u001b[0m\u001b[0m\n\u001b[0m\u001b[1;32m   2898\u001b[0m             \u001b[0;32mexcept\u001b[0m \u001b[0mKeyError\u001b[0m\u001b[0;34m:\u001b[0m\u001b[0;34m\u001b[0m\u001b[0;34m\u001b[0m\u001b[0m\n",
        "\u001b[0;32mpandas/_libs/index.pyx\u001b[0m in \u001b[0;36mpandas._libs.index.DatetimeEngine.get_loc\u001b[0;34m()\u001b[0m\n",
        "\u001b[0;32mpandas/_libs/index.pyx\u001b[0m in \u001b[0;36mpandas._libs.index.DatetimeEngine.get_loc\u001b[0;34m()\u001b[0m\n",
        "\u001b[0;31mKeyError\u001b[0m: Timestamp('1981-01-01 00:00:00')",
        "\nDuring handling of the above exception, another exception occurred:\n",
        "\u001b[0;31mKeyError\u001b[0m                                  Traceback (most recent call last)",
        "\u001b[0;32mpandas/_libs/index.pyx\u001b[0m in \u001b[0;36mpandas._libs.index.DatetimeEngine.get_loc\u001b[0;34m()\u001b[0m\n",
        "\u001b[0;32mpandas/_libs/hashtable_class_helper.pxi\u001b[0m in \u001b[0;36mpandas._libs.hashtable.Int64HashTable.get_item\u001b[0;34m()\u001b[0m\n",
        "\u001b[0;32mpandas/_libs/hashtable_class_helper.pxi\u001b[0m in \u001b[0;36mpandas._libs.hashtable.Int64HashTable.get_item\u001b[0;34m()\u001b[0m\n",
        "\u001b[0;31mKeyError\u001b[0m: 347155200000000000",
        "\nDuring handling of the above exception, another exception occurred:\n",
        "\u001b[0;31mKeyError\u001b[0m                                  Traceback (most recent call last)",
        "\u001b[0;32m~/anaconda3/envs/pangeo/lib/python3.7/site-packages/pandas/core/indexes/datetimes.py\u001b[0m in \u001b[0;36mget_loc\u001b[0;34m(self, key, method, tolerance)\u001b[0m\n\u001b[1;32m   1069\u001b[0m                     \u001b[0mstamp\u001b[0m \u001b[0;34m=\u001b[0m \u001b[0mstamp\u001b[0m\u001b[0;34m.\u001b[0m\u001b[0mtz_localize\u001b[0m\u001b[0;34m(\u001b[0m\u001b[0mself\u001b[0m\u001b[0;34m.\u001b[0m\u001b[0mtz\u001b[0m\u001b[0;34m)\u001b[0m\u001b[0;34m\u001b[0m\u001b[0;34m\u001b[0m\u001b[0m\n\u001b[0;32m-> 1070\u001b[0;31m                 \u001b[0;32mreturn\u001b[0m \u001b[0mIndex\u001b[0m\u001b[0;34m.\u001b[0m\u001b[0mget_loc\u001b[0m\u001b[0;34m(\u001b[0m\u001b[0mself\u001b[0m\u001b[0;34m,\u001b[0m \u001b[0mstamp\u001b[0m\u001b[0;34m,\u001b[0m \u001b[0mmethod\u001b[0m\u001b[0;34m,\u001b[0m \u001b[0mtolerance\u001b[0m\u001b[0;34m)\u001b[0m\u001b[0;34m\u001b[0m\u001b[0;34m\u001b[0m\u001b[0m\n\u001b[0m\u001b[1;32m   1071\u001b[0m             \u001b[0;32mexcept\u001b[0m \u001b[0mKeyError\u001b[0m\u001b[0;34m:\u001b[0m\u001b[0;34m\u001b[0m\u001b[0;34m\u001b[0m\u001b[0m\n",
        "\u001b[0;32m~/anaconda3/envs/pangeo/lib/python3.7/site-packages/pandas/core/indexes/base.py\u001b[0m in \u001b[0;36mget_loc\u001b[0;34m(self, key, method, tolerance)\u001b[0m\n\u001b[1;32m   2898\u001b[0m             \u001b[0;32mexcept\u001b[0m \u001b[0mKeyError\u001b[0m\u001b[0;34m:\u001b[0m\u001b[0;34m\u001b[0m\u001b[0;34m\u001b[0m\u001b[0m\n\u001b[0;32m-> 2899\u001b[0;31m                 \u001b[0;32mreturn\u001b[0m \u001b[0mself\u001b[0m\u001b[0;34m.\u001b[0m\u001b[0m_engine\u001b[0m\u001b[0;34m.\u001b[0m\u001b[0mget_loc\u001b[0m\u001b[0;34m(\u001b[0m\u001b[0mself\u001b[0m\u001b[0;34m.\u001b[0m\u001b[0m_maybe_cast_indexer\u001b[0m\u001b[0;34m(\u001b[0m\u001b[0mkey\u001b[0m\u001b[0;34m)\u001b[0m\u001b[0;34m)\u001b[0m\u001b[0;34m\u001b[0m\u001b[0;34m\u001b[0m\u001b[0m\n\u001b[0m\u001b[1;32m   2900\u001b[0m         \u001b[0mindexer\u001b[0m \u001b[0;34m=\u001b[0m \u001b[0mself\u001b[0m\u001b[0;34m.\u001b[0m\u001b[0mget_indexer\u001b[0m\u001b[0;34m(\u001b[0m\u001b[0;34m[\u001b[0m\u001b[0mkey\u001b[0m\u001b[0;34m]\u001b[0m\u001b[0;34m,\u001b[0m \u001b[0mmethod\u001b[0m\u001b[0;34m=\u001b[0m\u001b[0mmethod\u001b[0m\u001b[0;34m,\u001b[0m \u001b[0mtolerance\u001b[0m\u001b[0;34m=\u001b[0m\u001b[0mtolerance\u001b[0m\u001b[0;34m)\u001b[0m\u001b[0;34m\u001b[0m\u001b[0;34m\u001b[0m\u001b[0m\n",
        "\u001b[0;32mpandas/_libs/index.pyx\u001b[0m in \u001b[0;36mpandas._libs.index.DatetimeEngine.get_loc\u001b[0;34m()\u001b[0m\n",
        "\u001b[0;32mpandas/_libs/index.pyx\u001b[0m in \u001b[0;36mpandas._libs.index.DatetimeEngine.get_loc\u001b[0;34m()\u001b[0m\n",
        "\u001b[0;31mKeyError\u001b[0m: Timestamp('1981-01-01 00:00:00')",
        "\nDuring handling of the above exception, another exception occurred:\n",
        "\u001b[0;31mKeyError\u001b[0m                                  Traceback (most recent call last)",
        "\u001b[0;32m<ipython-input-46-7aad914b442e>\u001b[0m in \u001b[0;36m<module>\u001b[0;34m\u001b[0m\n\u001b[0;32m----> 1\u001b[0;31m \u001b[0mdset\u001b[0m\u001b[0;34m.\u001b[0m\u001b[0msel\u001b[0m\u001b[0;34m(\u001b[0m\u001b[0mtime\u001b[0m\u001b[0;34m=\u001b[0m\u001b[0;34m'1981'\u001b[0m\u001b[0;34m)\u001b[0m\u001b[0;34m\u001b[0m\u001b[0;34m\u001b[0m\u001b[0m\n\u001b[0m",
        "\u001b[0;32m~/anaconda3/envs/pangeo/lib/python3.7/site-packages/xarray/core/dataset.py\u001b[0m in \u001b[0;36msel\u001b[0;34m(self, indexers, method, tolerance, drop, **indexers_kwargs)\u001b[0m\n\u001b[1;32m   1998\u001b[0m         \u001b[0mindexers\u001b[0m \u001b[0;34m=\u001b[0m \u001b[0meither_dict_or_kwargs\u001b[0m\u001b[0;34m(\u001b[0m\u001b[0mindexers\u001b[0m\u001b[0;34m,\u001b[0m \u001b[0mindexers_kwargs\u001b[0m\u001b[0;34m,\u001b[0m \u001b[0;34m\"sel\"\u001b[0m\u001b[0;34m)\u001b[0m\u001b[0;34m\u001b[0m\u001b[0;34m\u001b[0m\u001b[0m\n\u001b[1;32m   1999\u001b[0m         pos_indexers, new_indexes = remap_label_indexers(\n\u001b[0;32m-> 2000\u001b[0;31m             \u001b[0mself\u001b[0m\u001b[0;34m,\u001b[0m \u001b[0mindexers\u001b[0m\u001b[0;34m=\u001b[0m\u001b[0mindexers\u001b[0m\u001b[0;34m,\u001b[0m \u001b[0mmethod\u001b[0m\u001b[0;34m=\u001b[0m\u001b[0mmethod\u001b[0m\u001b[0;34m,\u001b[0m \u001b[0mtolerance\u001b[0m\u001b[0;34m=\u001b[0m\u001b[0mtolerance\u001b[0m\u001b[0;34m\u001b[0m\u001b[0;34m\u001b[0m\u001b[0m\n\u001b[0m\u001b[1;32m   2001\u001b[0m         )\n\u001b[1;32m   2002\u001b[0m         \u001b[0mresult\u001b[0m \u001b[0;34m=\u001b[0m \u001b[0mself\u001b[0m\u001b[0;34m.\u001b[0m\u001b[0misel\u001b[0m\u001b[0;34m(\u001b[0m\u001b[0mindexers\u001b[0m\u001b[0;34m=\u001b[0m\u001b[0mpos_indexers\u001b[0m\u001b[0;34m,\u001b[0m \u001b[0mdrop\u001b[0m\u001b[0;34m=\u001b[0m\u001b[0mdrop\u001b[0m\u001b[0;34m)\u001b[0m\u001b[0;34m\u001b[0m\u001b[0;34m\u001b[0m\u001b[0m\n",
        "\u001b[0;32m~/anaconda3/envs/pangeo/lib/python3.7/site-packages/xarray/core/coordinates.py\u001b[0m in \u001b[0;36mremap_label_indexers\u001b[0;34m(obj, indexers, method, tolerance, **indexers_kwargs)\u001b[0m\n\u001b[1;32m    390\u001b[0m \u001b[0;34m\u001b[0m\u001b[0m\n\u001b[1;32m    391\u001b[0m     pos_indexers, new_indexes = indexing.remap_label_indexers(\n\u001b[0;32m--> 392\u001b[0;31m         \u001b[0mobj\u001b[0m\u001b[0;34m,\u001b[0m \u001b[0mv_indexers\u001b[0m\u001b[0;34m,\u001b[0m \u001b[0mmethod\u001b[0m\u001b[0;34m=\u001b[0m\u001b[0mmethod\u001b[0m\u001b[0;34m,\u001b[0m \u001b[0mtolerance\u001b[0m\u001b[0;34m=\u001b[0m\u001b[0mtolerance\u001b[0m\u001b[0;34m\u001b[0m\u001b[0;34m\u001b[0m\u001b[0m\n\u001b[0m\u001b[1;32m    393\u001b[0m     )\n\u001b[1;32m    394\u001b[0m     \u001b[0;31m# attach indexer's coordinate to pos_indexers\u001b[0m\u001b[0;34m\u001b[0m\u001b[0;34m\u001b[0m\u001b[0;34m\u001b[0m\u001b[0m\n",
        "\u001b[0;32m~/anaconda3/envs/pangeo/lib/python3.7/site-packages/xarray/core/indexing.py\u001b[0m in \u001b[0;36mremap_label_indexers\u001b[0;34m(data_obj, indexers, method, tolerance)\u001b[0m\n\u001b[1;32m    259\u001b[0m             \u001b[0mcoords_dtype\u001b[0m \u001b[0;34m=\u001b[0m \u001b[0mdata_obj\u001b[0m\u001b[0;34m.\u001b[0m\u001b[0mcoords\u001b[0m\u001b[0;34m[\u001b[0m\u001b[0mdim\u001b[0m\u001b[0;34m]\u001b[0m\u001b[0;34m.\u001b[0m\u001b[0mdtype\u001b[0m\u001b[0;34m\u001b[0m\u001b[0;34m\u001b[0m\u001b[0m\n\u001b[1;32m    260\u001b[0m             \u001b[0mlabel\u001b[0m \u001b[0;34m=\u001b[0m \u001b[0mmaybe_cast_to_coords_dtype\u001b[0m\u001b[0;34m(\u001b[0m\u001b[0mlabel\u001b[0m\u001b[0;34m,\u001b[0m \u001b[0mcoords_dtype\u001b[0m\u001b[0;34m)\u001b[0m\u001b[0;34m\u001b[0m\u001b[0;34m\u001b[0m\u001b[0m\n\u001b[0;32m--> 261\u001b[0;31m             \u001b[0midxr\u001b[0m\u001b[0;34m,\u001b[0m \u001b[0mnew_idx\u001b[0m \u001b[0;34m=\u001b[0m \u001b[0mconvert_label_indexer\u001b[0m\u001b[0;34m(\u001b[0m\u001b[0mindex\u001b[0m\u001b[0;34m,\u001b[0m \u001b[0mlabel\u001b[0m\u001b[0;34m,\u001b[0m \u001b[0mdim\u001b[0m\u001b[0;34m,\u001b[0m \u001b[0mmethod\u001b[0m\u001b[0;34m,\u001b[0m \u001b[0mtolerance\u001b[0m\u001b[0;34m)\u001b[0m\u001b[0;34m\u001b[0m\u001b[0;34m\u001b[0m\u001b[0m\n\u001b[0m\u001b[1;32m    262\u001b[0m             \u001b[0mpos_indexers\u001b[0m\u001b[0;34m[\u001b[0m\u001b[0mdim\u001b[0m\u001b[0;34m]\u001b[0m \u001b[0;34m=\u001b[0m \u001b[0midxr\u001b[0m\u001b[0;34m\u001b[0m\u001b[0;34m\u001b[0m\u001b[0m\n\u001b[1;32m    263\u001b[0m             \u001b[0;32mif\u001b[0m \u001b[0mnew_idx\u001b[0m \u001b[0;32mis\u001b[0m \u001b[0;32mnot\u001b[0m \u001b[0;32mNone\u001b[0m\u001b[0;34m:\u001b[0m\u001b[0;34m\u001b[0m\u001b[0;34m\u001b[0m\u001b[0m\n",
        "\u001b[0;32m~/anaconda3/envs/pangeo/lib/python3.7/site-packages/xarray/core/indexing.py\u001b[0m in \u001b[0;36mconvert_label_indexer\u001b[0;34m(index, label, index_name, method, tolerance)\u001b[0m\n\u001b[1;32m    179\u001b[0m             \u001b[0;32melse\u001b[0m\u001b[0;34m:\u001b[0m\u001b[0;34m\u001b[0m\u001b[0;34m\u001b[0m\u001b[0m\n\u001b[1;32m    180\u001b[0m                 indexer = index.get_loc(\n\u001b[0;32m--> 181\u001b[0;31m                     \u001b[0mlabel\u001b[0m\u001b[0;34m.\u001b[0m\u001b[0mitem\u001b[0m\u001b[0;34m(\u001b[0m\u001b[0;34m)\u001b[0m\u001b[0;34m,\u001b[0m \u001b[0mmethod\u001b[0m\u001b[0;34m=\u001b[0m\u001b[0mmethod\u001b[0m\u001b[0;34m,\u001b[0m \u001b[0mtolerance\u001b[0m\u001b[0;34m=\u001b[0m\u001b[0mtolerance\u001b[0m\u001b[0;34m\u001b[0m\u001b[0;34m\u001b[0m\u001b[0m\n\u001b[0m\u001b[1;32m    182\u001b[0m                 )\n\u001b[1;32m    183\u001b[0m         \u001b[0;32melif\u001b[0m \u001b[0mlabel\u001b[0m\u001b[0;34m.\u001b[0m\u001b[0mdtype\u001b[0m\u001b[0;34m.\u001b[0m\u001b[0mkind\u001b[0m \u001b[0;34m==\u001b[0m \u001b[0;34m\"b\"\u001b[0m\u001b[0;34m:\u001b[0m\u001b[0;34m\u001b[0m\u001b[0;34m\u001b[0m\u001b[0m\n",
        "\u001b[0;32m~/anaconda3/envs/pangeo/lib/python3.7/site-packages/pandas/core/indexes/datetimes.py\u001b[0m in \u001b[0;36mget_loc\u001b[0;34m(self, key, method, tolerance)\u001b[0m\n\u001b[1;32m   1070\u001b[0m                 \u001b[0;32mreturn\u001b[0m \u001b[0mIndex\u001b[0m\u001b[0;34m.\u001b[0m\u001b[0mget_loc\u001b[0m\u001b[0;34m(\u001b[0m\u001b[0mself\u001b[0m\u001b[0;34m,\u001b[0m \u001b[0mstamp\u001b[0m\u001b[0;34m,\u001b[0m \u001b[0mmethod\u001b[0m\u001b[0;34m,\u001b[0m \u001b[0mtolerance\u001b[0m\u001b[0;34m)\u001b[0m\u001b[0;34m\u001b[0m\u001b[0;34m\u001b[0m\u001b[0m\n\u001b[1;32m   1071\u001b[0m             \u001b[0;32mexcept\u001b[0m \u001b[0mKeyError\u001b[0m\u001b[0;34m:\u001b[0m\u001b[0;34m\u001b[0m\u001b[0;34m\u001b[0m\u001b[0m\n\u001b[0;32m-> 1072\u001b[0;31m                 \u001b[0;32mraise\u001b[0m \u001b[0mKeyError\u001b[0m\u001b[0;34m(\u001b[0m\u001b[0mkey\u001b[0m\u001b[0;34m)\u001b[0m\u001b[0;34m\u001b[0m\u001b[0;34m\u001b[0m\u001b[0m\n\u001b[0m\u001b[1;32m   1073\u001b[0m             \u001b[0;32mexcept\u001b[0m \u001b[0mValueError\u001b[0m \u001b[0;32mas\u001b[0m \u001b[0me\u001b[0m\u001b[0;34m:\u001b[0m\u001b[0;34m\u001b[0m\u001b[0;34m\u001b[0m\u001b[0m\n\u001b[1;32m   1074\u001b[0m                 \u001b[0;31m# list-like tolerance size must match target index size\u001b[0m\u001b[0;34m\u001b[0m\u001b[0;34m\u001b[0m\u001b[0;34m\u001b[0m\u001b[0m\n",
        "\u001b[0;31mKeyError\u001b[0m: '1981'"
       ]
      }
     ],
     "persistentId": "c4b6d140-e9df-4a95-8edf-6836d254bdd6",
     "text": "dset.sel(time='1981')"
    },
    "executionTime": "2019-12-08T23:59:54.490Z"
   },
   {
    "cell": {
     "executionCount": 47,
     "executionEventId": "d3896d48-cf38-4e15-bf0a-48969e351166",
     "hasError": false,
     "id": "aefb2c72-5e92-41b3-a6ab-3d7e39a00c7a",
     "outputs": [
      {
       "data": {
        "text/plain": "<xarray.Dataset>\nDimensions:  (lat: 181, lon: 360, member: 28, step: 10, time: 12)\nCoordinates:\n  * step     (step) float32 0.5 1.5 2.5 3.5 4.5 5.5 6.5 7.5 8.5 9.5\n  * lat      (lat) float32 -90.0 -89.0 -88.0 -87.0 -86.0 ... 87.0 88.0 89.0 90.0\n  * time     (time) datetime64[ns] 1982-01-01 1982-02-01 ... 1982-12-01\n  * member   (member) float32 1.0 2.0 3.0 4.0 5.0 ... 24.0 25.0 26.0 27.0 28.0\n  * lon      (lon) float32 0.0 1.0 2.0 3.0 4.0 ... 355.0 356.0 357.0 358.0 359.0\nData variables:\n    prec     (time, step, member, lat, lon) float32 ...\nAttributes:\n    Conventions:  IRIDL"
       },
       "execution_count": 47,
       "metadata": {},
       "output_type": "execute_result"
      }
     ],
     "persistentId": "c4b6d140-e9df-4a95-8edf-6836d254bdd6",
     "text": "dset.sel(time='1982')"
    },
    "executionTime": "2019-12-09T00:00:08.848Z"
   },
   {
    "cell": {
     "executionCount": 48,
     "executionEventId": "3df9a8e3-d289-4637-be28-51463e393e98",
     "hasError": true,
     "id": "e0173935-470e-4fc1-aae8-6dcea59e0377",
     "outputs": [
      {
       "ename": "RuntimeError",
       "evalue": "NetCDF: Access failure",
       "output_type": "error",
       "traceback": [
        "\u001b[0;31m---------------------------------------------------------------------------\u001b[0m",
        "\u001b[0;31mRuntimeError\u001b[0m                              Traceback (most recent call last)",
        "\u001b[0;32m<ipython-input-48-cf921dc74c87>\u001b[0m in \u001b[0;36m<module>\u001b[0;34m\u001b[0m\n\u001b[0;32m----> 1\u001b[0;31m \u001b[0mdset\u001b[0m\u001b[0;34m.\u001b[0m\u001b[0mload\u001b[0m\u001b[0;34m(\u001b[0m\u001b[0;34m)\u001b[0m\u001b[0;34m\u001b[0m\u001b[0;34m\u001b[0m\u001b[0m\n\u001b[0m",
        "\u001b[0;32m~/anaconda3/envs/pangeo/lib/python3.7/site-packages/xarray/core/dataset.py\u001b[0m in \u001b[0;36mload\u001b[0;34m(self, **kwargs)\u001b[0m\n\u001b[1;32m    645\u001b[0m         \u001b[0;32mfor\u001b[0m \u001b[0mk\u001b[0m\u001b[0;34m,\u001b[0m \u001b[0mv\u001b[0m \u001b[0;32min\u001b[0m \u001b[0mself\u001b[0m\u001b[0;34m.\u001b[0m\u001b[0mvariables\u001b[0m\u001b[0;34m.\u001b[0m\u001b[0mitems\u001b[0m\u001b[0;34m(\u001b[0m\u001b[0;34m)\u001b[0m\u001b[0;34m:\u001b[0m\u001b[0;34m\u001b[0m\u001b[0;34m\u001b[0m\u001b[0m\n\u001b[1;32m    646\u001b[0m             \u001b[0;32mif\u001b[0m \u001b[0mk\u001b[0m \u001b[0;32mnot\u001b[0m \u001b[0;32min\u001b[0m \u001b[0mlazy_data\u001b[0m\u001b[0;34m:\u001b[0m\u001b[0;34m\u001b[0m\u001b[0;34m\u001b[0m\u001b[0m\n\u001b[0;32m--> 647\u001b[0;31m                 \u001b[0mv\u001b[0m\u001b[0;34m.\u001b[0m\u001b[0mload\u001b[0m\u001b[0;34m(\u001b[0m\u001b[0;34m)\u001b[0m\u001b[0;34m\u001b[0m\u001b[0;34m\u001b[0m\u001b[0m\n\u001b[0m\u001b[1;32m    648\u001b[0m \u001b[0;34m\u001b[0m\u001b[0m\n\u001b[1;32m    649\u001b[0m         \u001b[0;32mreturn\u001b[0m \u001b[0mself\u001b[0m\u001b[0;34m\u001b[0m\u001b[0;34m\u001b[0m\u001b[0m\n",
        "\u001b[0;32m~/anaconda3/envs/pangeo/lib/python3.7/site-packages/xarray/core/variable.py\u001b[0m in \u001b[0;36mload\u001b[0;34m(self, **kwargs)\u001b[0m\n\u001b[1;32m    366\u001b[0m             \u001b[0mself\u001b[0m\u001b[0;34m.\u001b[0m\u001b[0m_data\u001b[0m \u001b[0;34m=\u001b[0m \u001b[0mas_compatible_data\u001b[0m\u001b[0;34m(\u001b[0m\u001b[0mself\u001b[0m\u001b[0;34m.\u001b[0m\u001b[0m_data\u001b[0m\u001b[0;34m.\u001b[0m\u001b[0mcompute\u001b[0m\u001b[0;34m(\u001b[0m\u001b[0;34m**\u001b[0m\u001b[0mkwargs\u001b[0m\u001b[0;34m)\u001b[0m\u001b[0;34m)\u001b[0m\u001b[0;34m\u001b[0m\u001b[0;34m\u001b[0m\u001b[0m\n\u001b[1;32m    367\u001b[0m         \u001b[0;32melif\u001b[0m \u001b[0;32mnot\u001b[0m \u001b[0mhasattr\u001b[0m\u001b[0;34m(\u001b[0m\u001b[0mself\u001b[0m\u001b[0;34m.\u001b[0m\u001b[0m_data\u001b[0m\u001b[0;34m,\u001b[0m \u001b[0;34m\"__array_function__\"\u001b[0m\u001b[0;34m)\u001b[0m\u001b[0;34m:\u001b[0m\u001b[0;34m\u001b[0m\u001b[0;34m\u001b[0m\u001b[0m\n\u001b[0;32m--> 368\u001b[0;31m             \u001b[0mself\u001b[0m\u001b[0;34m.\u001b[0m\u001b[0m_data\u001b[0m \u001b[0;34m=\u001b[0m \u001b[0mnp\u001b[0m\u001b[0;34m.\u001b[0m\u001b[0masarray\u001b[0m\u001b[0;34m(\u001b[0m\u001b[0mself\u001b[0m\u001b[0;34m.\u001b[0m\u001b[0m_data\u001b[0m\u001b[0;34m)\u001b[0m\u001b[0;34m\u001b[0m\u001b[0;34m\u001b[0m\u001b[0m\n\u001b[0m\u001b[1;32m    369\u001b[0m         \u001b[0;32mreturn\u001b[0m \u001b[0mself\u001b[0m\u001b[0;34m\u001b[0m\u001b[0;34m\u001b[0m\u001b[0m\n\u001b[1;32m    370\u001b[0m \u001b[0;34m\u001b[0m\u001b[0m\n",
        "\u001b[0;32m~/anaconda3/envs/pangeo/lib/python3.7/site-packages/numpy/core/_asarray.py\u001b[0m in \u001b[0;36masarray\u001b[0;34m(a, dtype, order)\u001b[0m\n\u001b[1;32m     83\u001b[0m \u001b[0;34m\u001b[0m\u001b[0m\n\u001b[1;32m     84\u001b[0m     \"\"\"\n\u001b[0;32m---> 85\u001b[0;31m     \u001b[0;32mreturn\u001b[0m \u001b[0marray\u001b[0m\u001b[0;34m(\u001b[0m\u001b[0ma\u001b[0m\u001b[0;34m,\u001b[0m \u001b[0mdtype\u001b[0m\u001b[0;34m,\u001b[0m \u001b[0mcopy\u001b[0m\u001b[0;34m=\u001b[0m\u001b[0;32mFalse\u001b[0m\u001b[0;34m,\u001b[0m \u001b[0morder\u001b[0m\u001b[0;34m=\u001b[0m\u001b[0morder\u001b[0m\u001b[0;34m)\u001b[0m\u001b[0;34m\u001b[0m\u001b[0;34m\u001b[0m\u001b[0m\n\u001b[0m\u001b[1;32m     86\u001b[0m \u001b[0;34m\u001b[0m\u001b[0m\n\u001b[1;32m     87\u001b[0m \u001b[0;34m\u001b[0m\u001b[0m\n",
        "\u001b[0;32m~/anaconda3/envs/pangeo/lib/python3.7/site-packages/xarray/core/indexing.py\u001b[0m in \u001b[0;36m__array__\u001b[0;34m(self, dtype)\u001b[0m\n\u001b[1;32m    674\u001b[0m \u001b[0;34m\u001b[0m\u001b[0m\n\u001b[1;32m    675\u001b[0m     \u001b[0;32mdef\u001b[0m \u001b[0m__array__\u001b[0m\u001b[0;34m(\u001b[0m\u001b[0mself\u001b[0m\u001b[0;34m,\u001b[0m \u001b[0mdtype\u001b[0m\u001b[0;34m=\u001b[0m\u001b[0;32mNone\u001b[0m\u001b[0;34m)\u001b[0m\u001b[0;34m:\u001b[0m\u001b[0;34m\u001b[0m\u001b[0;34m\u001b[0m\u001b[0m\n\u001b[0;32m--> 676\u001b[0;31m         \u001b[0mself\u001b[0m\u001b[0;34m.\u001b[0m\u001b[0m_ensure_cached\u001b[0m\u001b[0;34m(\u001b[0m\u001b[0;34m)\u001b[0m\u001b[0;34m\u001b[0m\u001b[0;34m\u001b[0m\u001b[0m\n\u001b[0m\u001b[1;32m    677\u001b[0m         \u001b[0;32mreturn\u001b[0m \u001b[0mnp\u001b[0m\u001b[0;34m.\u001b[0m\u001b[0masarray\u001b[0m\u001b[0;34m(\u001b[0m\u001b[0mself\u001b[0m\u001b[0;34m.\u001b[0m\u001b[0marray\u001b[0m\u001b[0;34m,\u001b[0m \u001b[0mdtype\u001b[0m\u001b[0;34m=\u001b[0m\u001b[0mdtype\u001b[0m\u001b[0;34m)\u001b[0m\u001b[0;34m\u001b[0m\u001b[0;34m\u001b[0m\u001b[0m\n\u001b[1;32m    678\u001b[0m \u001b[0;34m\u001b[0m\u001b[0m\n",
        "\u001b[0;32m~/anaconda3/envs/pangeo/lib/python3.7/site-packages/xarray/core/indexing.py\u001b[0m in \u001b[0;36m_ensure_cached\u001b[0;34m(self)\u001b[0m\n\u001b[1;32m    671\u001b[0m     \u001b[0;32mdef\u001b[0m \u001b[0m_ensure_cached\u001b[0m\u001b[0;34m(\u001b[0m\u001b[0mself\u001b[0m\u001b[0;34m)\u001b[0m\u001b[0;34m:\u001b[0m\u001b[0;34m\u001b[0m\u001b[0;34m\u001b[0m\u001b[0m\n\u001b[1;32m    672\u001b[0m         \u001b[0;32mif\u001b[0m \u001b[0;32mnot\u001b[0m \u001b[0misinstance\u001b[0m\u001b[0;34m(\u001b[0m\u001b[0mself\u001b[0m\u001b[0;34m.\u001b[0m\u001b[0marray\u001b[0m\u001b[0;34m,\u001b[0m \u001b[0mNumpyIndexingAdapter\u001b[0m\u001b[0;34m)\u001b[0m\u001b[0;34m:\u001b[0m\u001b[0;34m\u001b[0m\u001b[0;34m\u001b[0m\u001b[0m\n\u001b[0;32m--> 673\u001b[0;31m             \u001b[0mself\u001b[0m\u001b[0;34m.\u001b[0m\u001b[0marray\u001b[0m \u001b[0;34m=\u001b[0m \u001b[0mNumpyIndexingAdapter\u001b[0m\u001b[0;34m(\u001b[0m\u001b[0mnp\u001b[0m\u001b[0;34m.\u001b[0m\u001b[0masarray\u001b[0m\u001b[0;34m(\u001b[0m\u001b[0mself\u001b[0m\u001b[0;34m.\u001b[0m\u001b[0marray\u001b[0m\u001b[0;34m)\u001b[0m\u001b[0;34m)\u001b[0m\u001b[0;34m\u001b[0m\u001b[0;34m\u001b[0m\u001b[0m\n\u001b[0m\u001b[1;32m    674\u001b[0m \u001b[0;34m\u001b[0m\u001b[0m\n\u001b[1;32m    675\u001b[0m     \u001b[0;32mdef\u001b[0m \u001b[0m__array__\u001b[0m\u001b[0;34m(\u001b[0m\u001b[0mself\u001b[0m\u001b[0;34m,\u001b[0m \u001b[0mdtype\u001b[0m\u001b[0;34m=\u001b[0m\u001b[0;32mNone\u001b[0m\u001b[0;34m)\u001b[0m\u001b[0;34m:\u001b[0m\u001b[0;34m\u001b[0m\u001b[0;34m\u001b[0m\u001b[0m\n",
        "\u001b[0;32m~/anaconda3/envs/pangeo/lib/python3.7/site-packages/numpy/core/_asarray.py\u001b[0m in \u001b[0;36masarray\u001b[0;34m(a, dtype, order)\u001b[0m\n\u001b[1;32m     83\u001b[0m \u001b[0;34m\u001b[0m\u001b[0m\n\u001b[1;32m     84\u001b[0m     \"\"\"\n\u001b[0;32m---> 85\u001b[0;31m     \u001b[0;32mreturn\u001b[0m \u001b[0marray\u001b[0m\u001b[0;34m(\u001b[0m\u001b[0ma\u001b[0m\u001b[0;34m,\u001b[0m \u001b[0mdtype\u001b[0m\u001b[0;34m,\u001b[0m \u001b[0mcopy\u001b[0m\u001b[0;34m=\u001b[0m\u001b[0;32mFalse\u001b[0m\u001b[0;34m,\u001b[0m \u001b[0morder\u001b[0m\u001b[0;34m=\u001b[0m\u001b[0morder\u001b[0m\u001b[0;34m)\u001b[0m\u001b[0;34m\u001b[0m\u001b[0;34m\u001b[0m\u001b[0m\n\u001b[0m\u001b[1;32m     86\u001b[0m \u001b[0;34m\u001b[0m\u001b[0m\n\u001b[1;32m     87\u001b[0m \u001b[0;34m\u001b[0m\u001b[0m\n",
        "\u001b[0;32m~/anaconda3/envs/pangeo/lib/python3.7/site-packages/xarray/core/indexing.py\u001b[0m in \u001b[0;36m__array__\u001b[0;34m(self, dtype)\u001b[0m\n\u001b[1;32m    650\u001b[0m \u001b[0;34m\u001b[0m\u001b[0m\n\u001b[1;32m    651\u001b[0m     \u001b[0;32mdef\u001b[0m \u001b[0m__array__\u001b[0m\u001b[0;34m(\u001b[0m\u001b[0mself\u001b[0m\u001b[0;34m,\u001b[0m \u001b[0mdtype\u001b[0m\u001b[0;34m=\u001b[0m\u001b[0;32mNone\u001b[0m\u001b[0;34m)\u001b[0m\u001b[0;34m:\u001b[0m\u001b[0;34m\u001b[0m\u001b[0;34m\u001b[0m\u001b[0m\n\u001b[0;32m--> 652\u001b[0;31m         \u001b[0;32mreturn\u001b[0m \u001b[0mnp\u001b[0m\u001b[0;34m.\u001b[0m\u001b[0masarray\u001b[0m\u001b[0;34m(\u001b[0m\u001b[0mself\u001b[0m\u001b[0;34m.\u001b[0m\u001b[0marray\u001b[0m\u001b[0;34m,\u001b[0m \u001b[0mdtype\u001b[0m\u001b[0;34m=\u001b[0m\u001b[0mdtype\u001b[0m\u001b[0;34m)\u001b[0m\u001b[0;34m\u001b[0m\u001b[0;34m\u001b[0m\u001b[0m\n\u001b[0m\u001b[1;32m    653\u001b[0m \u001b[0;34m\u001b[0m\u001b[0m\n\u001b[1;32m    654\u001b[0m     \u001b[0;32mdef\u001b[0m \u001b[0m__getitem__\u001b[0m\u001b[0;34m(\u001b[0m\u001b[0mself\u001b[0m\u001b[0;34m,\u001b[0m \u001b[0mkey\u001b[0m\u001b[0;34m)\u001b[0m\u001b[0;34m:\u001b[0m\u001b[0;34m\u001b[0m\u001b[0;34m\u001b[0m\u001b[0m\n",
        "\u001b[0;32m~/anaconda3/envs/pangeo/lib/python3.7/site-packages/numpy/core/_asarray.py\u001b[0m in \u001b[0;36masarray\u001b[0;34m(a, dtype, order)\u001b[0m\n\u001b[1;32m     83\u001b[0m \u001b[0;34m\u001b[0m\u001b[0m\n\u001b[1;32m     84\u001b[0m     \"\"\"\n\u001b[0;32m---> 85\u001b[0;31m     \u001b[0;32mreturn\u001b[0m \u001b[0marray\u001b[0m\u001b[0;34m(\u001b[0m\u001b[0ma\u001b[0m\u001b[0;34m,\u001b[0m \u001b[0mdtype\u001b[0m\u001b[0;34m,\u001b[0m \u001b[0mcopy\u001b[0m\u001b[0;34m=\u001b[0m\u001b[0;32mFalse\u001b[0m\u001b[0;34m,\u001b[0m \u001b[0morder\u001b[0m\u001b[0;34m=\u001b[0m\u001b[0morder\u001b[0m\u001b[0;34m)\u001b[0m\u001b[0;34m\u001b[0m\u001b[0;34m\u001b[0m\u001b[0m\n\u001b[0m\u001b[1;32m     86\u001b[0m \u001b[0;34m\u001b[0m\u001b[0m\n\u001b[1;32m     87\u001b[0m \u001b[0;34m\u001b[0m\u001b[0m\n",
        "\u001b[0;32m~/anaconda3/envs/pangeo/lib/python3.7/site-packages/xarray/core/indexing.py\u001b[0m in \u001b[0;36m__array__\u001b[0;34m(self, dtype)\u001b[0m\n\u001b[1;32m    554\u001b[0m     \u001b[0;32mdef\u001b[0m \u001b[0m__array__\u001b[0m\u001b[0;34m(\u001b[0m\u001b[0mself\u001b[0m\u001b[0;34m,\u001b[0m \u001b[0mdtype\u001b[0m\u001b[0;34m=\u001b[0m\u001b[0;32mNone\u001b[0m\u001b[0;34m)\u001b[0m\u001b[0;34m:\u001b[0m\u001b[0;34m\u001b[0m\u001b[0;34m\u001b[0m\u001b[0m\n\u001b[1;32m    555\u001b[0m         \u001b[0marray\u001b[0m \u001b[0;34m=\u001b[0m \u001b[0mas_indexable\u001b[0m\u001b[0;34m(\u001b[0m\u001b[0mself\u001b[0m\u001b[0;34m.\u001b[0m\u001b[0marray\u001b[0m\u001b[0;34m)\u001b[0m\u001b[0;34m\u001b[0m\u001b[0;34m\u001b[0m\u001b[0m\n\u001b[0;32m--> 556\u001b[0;31m         \u001b[0;32mreturn\u001b[0m \u001b[0mnp\u001b[0m\u001b[0;34m.\u001b[0m\u001b[0masarray\u001b[0m\u001b[0;34m(\u001b[0m\u001b[0marray\u001b[0m\u001b[0;34m[\u001b[0m\u001b[0mself\u001b[0m\u001b[0;34m.\u001b[0m\u001b[0mkey\u001b[0m\u001b[0;34m]\u001b[0m\u001b[0;34m,\u001b[0m \u001b[0mdtype\u001b[0m\u001b[0;34m=\u001b[0m\u001b[0;32mNone\u001b[0m\u001b[0;34m)\u001b[0m\u001b[0;34m\u001b[0m\u001b[0;34m\u001b[0m\u001b[0m\n\u001b[0m\u001b[1;32m    557\u001b[0m \u001b[0;34m\u001b[0m\u001b[0m\n\u001b[1;32m    558\u001b[0m     \u001b[0;32mdef\u001b[0m \u001b[0mtranspose\u001b[0m\u001b[0;34m(\u001b[0m\u001b[0mself\u001b[0m\u001b[0;34m,\u001b[0m \u001b[0morder\u001b[0m\u001b[0;34m)\u001b[0m\u001b[0;34m:\u001b[0m\u001b[0;34m\u001b[0m\u001b[0;34m\u001b[0m\u001b[0m\n",
        "\u001b[0;32m~/anaconda3/envs/pangeo/lib/python3.7/site-packages/xarray/backends/netCDF4_.py\u001b[0m in \u001b[0;36m__getitem__\u001b[0;34m(self, key)\u001b[0m\n\u001b[1;32m     70\u001b[0m     \u001b[0;32mdef\u001b[0m \u001b[0m__getitem__\u001b[0m\u001b[0;34m(\u001b[0m\u001b[0mself\u001b[0m\u001b[0;34m,\u001b[0m \u001b[0mkey\u001b[0m\u001b[0;34m)\u001b[0m\u001b[0;34m:\u001b[0m\u001b[0;34m\u001b[0m\u001b[0;34m\u001b[0m\u001b[0m\n\u001b[1;32m     71\u001b[0m         return indexing.explicit_indexing_adapter(\n\u001b[0;32m---> 72\u001b[0;31m             \u001b[0mkey\u001b[0m\u001b[0;34m,\u001b[0m \u001b[0mself\u001b[0m\u001b[0;34m.\u001b[0m\u001b[0mshape\u001b[0m\u001b[0;34m,\u001b[0m \u001b[0mindexing\u001b[0m\u001b[0;34m.\u001b[0m\u001b[0mIndexingSupport\u001b[0m\u001b[0;34m.\u001b[0m\u001b[0mOUTER\u001b[0m\u001b[0;34m,\u001b[0m \u001b[0mself\u001b[0m\u001b[0;34m.\u001b[0m\u001b[0m_getitem\u001b[0m\u001b[0;34m\u001b[0m\u001b[0;34m\u001b[0m\u001b[0m\n\u001b[0m\u001b[1;32m     73\u001b[0m         )\n\u001b[1;32m     74\u001b[0m \u001b[0;34m\u001b[0m\u001b[0m\n",
        "\u001b[0;32m~/anaconda3/envs/pangeo/lib/python3.7/site-packages/xarray/core/indexing.py\u001b[0m in \u001b[0;36mexplicit_indexing_adapter\u001b[0;34m(key, shape, indexing_support, raw_indexing_method)\u001b[0m\n\u001b[1;32m    834\u001b[0m     \"\"\"\n\u001b[1;32m    835\u001b[0m     \u001b[0mraw_key\u001b[0m\u001b[0;34m,\u001b[0m \u001b[0mnumpy_indices\u001b[0m \u001b[0;34m=\u001b[0m \u001b[0mdecompose_indexer\u001b[0m\u001b[0;34m(\u001b[0m\u001b[0mkey\u001b[0m\u001b[0;34m,\u001b[0m \u001b[0mshape\u001b[0m\u001b[0;34m,\u001b[0m \u001b[0mindexing_support\u001b[0m\u001b[0;34m)\u001b[0m\u001b[0;34m\u001b[0m\u001b[0;34m\u001b[0m\u001b[0m\n\u001b[0;32m--> 836\u001b[0;31m     \u001b[0mresult\u001b[0m \u001b[0;34m=\u001b[0m \u001b[0mraw_indexing_method\u001b[0m\u001b[0;34m(\u001b[0m\u001b[0mraw_key\u001b[0m\u001b[0;34m.\u001b[0m\u001b[0mtuple\u001b[0m\u001b[0;34m)\u001b[0m\u001b[0;34m\u001b[0m\u001b[0;34m\u001b[0m\u001b[0m\n\u001b[0m\u001b[1;32m    837\u001b[0m     \u001b[0;32mif\u001b[0m \u001b[0mnumpy_indices\u001b[0m\u001b[0;34m.\u001b[0m\u001b[0mtuple\u001b[0m\u001b[0;34m:\u001b[0m\u001b[0;34m\u001b[0m\u001b[0;34m\u001b[0m\u001b[0m\n\u001b[1;32m    838\u001b[0m         \u001b[0;31m# index the loaded np.ndarray\u001b[0m\u001b[0;34m\u001b[0m\u001b[0;34m\u001b[0m\u001b[0;34m\u001b[0m\u001b[0m\n",
        "\u001b[0;32m~/anaconda3/envs/pangeo/lib/python3.7/site-packages/xarray/backends/netCDF4_.py\u001b[0m in \u001b[0;36m_getitem\u001b[0;34m(self, key)\u001b[0m\n\u001b[1;32m     82\u001b[0m             \u001b[0;32mwith\u001b[0m \u001b[0mself\u001b[0m\u001b[0;34m.\u001b[0m\u001b[0mdatastore\u001b[0m\u001b[0;34m.\u001b[0m\u001b[0mlock\u001b[0m\u001b[0;34m:\u001b[0m\u001b[0;34m\u001b[0m\u001b[0;34m\u001b[0m\u001b[0m\n\u001b[1;32m     83\u001b[0m                 \u001b[0moriginal_array\u001b[0m \u001b[0;34m=\u001b[0m \u001b[0mself\u001b[0m\u001b[0;34m.\u001b[0m\u001b[0mget_array\u001b[0m\u001b[0;34m(\u001b[0m\u001b[0mneeds_lock\u001b[0m\u001b[0;34m=\u001b[0m\u001b[0;32mFalse\u001b[0m\u001b[0;34m)\u001b[0m\u001b[0;34m\u001b[0m\u001b[0;34m\u001b[0m\u001b[0m\n\u001b[0;32m---> 84\u001b[0;31m                 \u001b[0marray\u001b[0m \u001b[0;34m=\u001b[0m \u001b[0mgetitem\u001b[0m\u001b[0;34m(\u001b[0m\u001b[0moriginal_array\u001b[0m\u001b[0;34m,\u001b[0m \u001b[0mkey\u001b[0m\u001b[0;34m)\u001b[0m\u001b[0;34m\u001b[0m\u001b[0;34m\u001b[0m\u001b[0m\n\u001b[0m\u001b[1;32m     85\u001b[0m         \u001b[0;32mexcept\u001b[0m \u001b[0mIndexError\u001b[0m\u001b[0;34m:\u001b[0m\u001b[0;34m\u001b[0m\u001b[0;34m\u001b[0m\u001b[0m\n\u001b[1;32m     86\u001b[0m             \u001b[0;31m# Catch IndexError in netCDF4 and return a more informative\u001b[0m\u001b[0;34m\u001b[0m\u001b[0;34m\u001b[0m\u001b[0;34m\u001b[0m\u001b[0m\n",
        "\u001b[0;32m~/anaconda3/envs/pangeo/lib/python3.7/site-packages/xarray/backends/common.py\u001b[0m in \u001b[0;36mrobust_getitem\u001b[0;34m(array, key, catch, max_retries, initial_delay)\u001b[0m\n\u001b[1;32m     52\u001b[0m     \u001b[0;32mfor\u001b[0m \u001b[0mn\u001b[0m \u001b[0;32min\u001b[0m \u001b[0mrange\u001b[0m\u001b[0;34m(\u001b[0m\u001b[0mmax_retries\u001b[0m \u001b[0;34m+\u001b[0m \u001b[0;36m1\u001b[0m\u001b[0;34m)\u001b[0m\u001b[0;34m:\u001b[0m\u001b[0;34m\u001b[0m\u001b[0;34m\u001b[0m\u001b[0m\n\u001b[1;32m     53\u001b[0m         \u001b[0;32mtry\u001b[0m\u001b[0;34m:\u001b[0m\u001b[0;34m\u001b[0m\u001b[0;34m\u001b[0m\u001b[0m\n\u001b[0;32m---> 54\u001b[0;31m             \u001b[0;32mreturn\u001b[0m \u001b[0marray\u001b[0m\u001b[0;34m[\u001b[0m\u001b[0mkey\u001b[0m\u001b[0;34m]\u001b[0m\u001b[0;34m\u001b[0m\u001b[0;34m\u001b[0m\u001b[0m\n\u001b[0m\u001b[1;32m     55\u001b[0m         \u001b[0;32mexcept\u001b[0m \u001b[0mcatch\u001b[0m\u001b[0;34m:\u001b[0m\u001b[0;34m\u001b[0m\u001b[0;34m\u001b[0m\u001b[0m\n\u001b[1;32m     56\u001b[0m             \u001b[0;32mif\u001b[0m \u001b[0mn\u001b[0m \u001b[0;34m==\u001b[0m \u001b[0mmax_retries\u001b[0m\u001b[0;34m:\u001b[0m\u001b[0;34m\u001b[0m\u001b[0;34m\u001b[0m\u001b[0m\n",
        "\u001b[0;32mnetCDF4/_netCDF4.pyx\u001b[0m in \u001b[0;36mnetCDF4._netCDF4.Variable.__getitem__\u001b[0;34m()\u001b[0m\n",
        "\u001b[0;32mnetCDF4/_netCDF4.pyx\u001b[0m in \u001b[0;36mnetCDF4._netCDF4.Variable._get\u001b[0;34m()\u001b[0m\n",
        "\u001b[0;32mnetCDF4/_netCDF4.pyx\u001b[0m in \u001b[0;36mnetCDF4._netCDF4._ensure_nc_success\u001b[0;34m()\u001b[0m\n",
        "\u001b[0;31mRuntimeError\u001b[0m: NetCDF: Access failure"
       ]
      }
     ],
     "persistentId": "9a95968b-4a46-4e9f-b7a4-307f400d5a4e",
     "text": "dset.load()"
    },
    "executionTime": "2019-12-09T00:01:18.145Z"
   },
   {
    "cell": {
     "executionCount": 49,
     "executionEventId": "458925e3-e45d-4251-bdd8-2cd90e627cdd",
     "hasError": false,
     "id": "e0173935-470e-4fc1-aae8-6dcea59e0377",
     "outputs": [
      {
       "data": {
        "text/plain": "<xarray.Dataset>\nDimensions:  (lat: 181, lon: 360, member: 28, step: 10, time: 351)\nCoordinates:\n  * step     (step) float32 0.5 1.5 2.5 3.5 4.5 5.5 6.5 7.5 8.5 9.5\n  * lat      (lat) float32 -90.0 -89.0 -88.0 -87.0 -86.0 ... 87.0 88.0 89.0 90.0\n  * time     (time) datetime64[ns] 1982-01-01 1982-02-01 ... 2011-03-01\n  * member   (member) float32 1.0 2.0 3.0 4.0 5.0 ... 24.0 25.0 26.0 27.0 28.0\n  * lon      (lon) float32 0.0 1.0 2.0 3.0 4.0 ... 355.0 356.0 357.0 358.0 359.0\nData variables:\n    prec     (time, step, member, lat, lon) float32 ...\nAttributes:\n    Conventions:  IRIDL"
       },
       "execution_count": 49,
       "metadata": {},
       "output_type": "execute_result"
      }
     ],
     "persistentId": "9a95968b-4a46-4e9f-b7a4-307f400d5a4e",
     "text": "dset"
    },
    "executionTime": "2019-12-09T00:03:07.917Z"
   },
   {
    "cell": {
     "executionCount": 50,
     "executionEventId": "b9d64f6f-657f-4aea-844d-8ca37eb855d9",
     "hasError": false,
     "id": "1654bb8f-54a7-47d5-8d11-974df671cb14",
     "outputs": [],
     "persistentId": "fd29e246-14ef-41bb-b3d1-21c385096522",
     "text": "%matplotlib inline\nfrom matplotlib import pyplot as plt"
    },
    "executionTime": "2019-12-09T00:05:18.272Z"
   },
   {
    "cell": {
     "executionCount": 51,
     "executionEventId": "8b831efd-5f90-4e7e-82ce-f31b170048e6",
     "hasError": false,
     "id": "98d427fe-98b5-4177-aa5f-8d719769ca1e",
     "outputs": [],
     "persistentId": "b548e22d-87af-4ea0-89f0-03d24013b895",
     "text": "import os \nimport sys \nimport pathlib"
    },
    "executionTime": "2019-12-09T00:05:18.405Z"
   },
   {
    "cell": {
     "executionCount": 52,
     "executionEventId": "05070f0e-b52c-4709-aeac-34bb2e4136af",
     "hasError": false,
     "id": "a15a15c7-f635-4a13-8f3c-ec85c768fb7b",
     "outputs": [],
     "persistentId": "21fa21be-dc9a-42a6-afc9-60a911d8394d",
     "text": "from datetime import datetime, timedelta\nimport calendar\nfrom dateutil import relativedelta"
    },
    "executionTime": "2019-12-09T00:05:18.540Z"
   },
   {
    "cell": {
     "executionCount": 53,
     "executionEventId": "c452c230-8702-4b02-9543-1499dba26f1a",
     "hasError": false,
     "id": "6be31241-e0f0-4721-b5dd-b05dc5bb70ee",
     "outputs": [],
     "persistentId": "b77a4f79-bc6f-472a-9f47-349c86fc0da8",
     "text": "import numpy as np \nimport pandas as pd \nimport xarray as xr"
    },
    "executionTime": "2019-12-09T00:05:18.637Z"
   },
   {
    "cell": {
     "executionCount": 54,
     "executionEventId": "5ab2500c-ae73-4689-8168-5c0c62d0df67",
     "hasError": false,
     "id": "0e0a8ecb-8a7a-41cc-8333-0d792b1f0da5",
     "outputs": [],
     "persistentId": "aa44e8fa-1969-4cc9-81ff-c16e51f00daa",
     "text": "CWD = pathlib.Path.cwd()"
    },
    "executionTime": "2019-12-09T00:05:18.753Z"
   },
   {
    "cell": {
     "executionCount": 55,
     "executionEventId": "7c5c1a77-9f61-4363-b23f-b86fefd84a83",
     "hasError": false,
     "id": "24b26bec-9dde-487b-8faa-3c4b2e391864",
     "outputs": [],
     "persistentId": "f25bf7af-ae58-4cb1-8181-cfabedb0b5d7",
     "text": "HOME = pathlib.Path.home()"
    },
    "executionTime": "2019-12-09T00:05:18.825Z"
   },
   {
    "cell": {
     "executionCount": 56,
     "executionEventId": "95166aea-90d5-4802-9bba-72b0b3f43618",
     "hasError": false,
     "id": "28815cc6-8d66-4e4e-bea7-53ed87e27bb6",
     "outputs": [],
     "persistentId": "f0bd3260-36c0-4dcc-b726-bcba33de2ea5",
     "text": "opath = HOME / 'drives' / 'auck_projects' / 'END19101' / 'Working' / 'data' / 'hindcasts' / 'IRI' / 'CFSv2'"
    },
    "executionTime": "2019-12-09T00:05:18.907Z"
   },
   {
    "cell": {
     "executionCount": 57,
     "executionEventId": "32485edf-3011-4d5e-9974-cb715d905a52",
     "hasError": false,
     "id": "6bf4f087-b757-4ce0-a3d2-039fc3ad8930",
     "outputs": [],
     "persistentId": "2556bfc4-3042-4823-95cc-1ec2416d7ec2",
     "text": "GCM = 'NCEP-CFSv2'"
    },
    "executionTime": "2019-12-09T00:05:19.156Z"
   },
   {
    "cell": {
     "executionCount": 58,
     "executionEventId": "9ff0f7f3-6fde-473a-a20c-475b7028a5e2",
     "hasError": false,
     "id": "9254cbec-e045-4067-8833-d010c1b66bcb",
     "outputs": [],
     "persistentId": "48a44f83-0ee0-4474-90be-7af6584ac99a",
     "text": "data_stream = 'HINDCAST'"
    },
    "executionTime": "2019-12-09T00:05:19.363Z"
   },
   {
    "cell": {
     "executionCount": 59,
     "executionEventId": "788d1cb1-0a8d-4b11-8a55-190f74c60c6c",
     "hasError": false,
     "id": "7eaf07b2-18d6-4f0a-8930-b573d5bd1fcc",
     "outputs": [],
     "persistentId": "0ab39c8a-be7b-4f56-b6c3-aa7ae0acd5d1",
     "text": "dict_variables = {}\ndict_variables['PRECIP'] = 'prec'\ndict_variables['T2M'] = 'tref'\ndict_variables['SST'] = 'sst'"
    },
    "executionTime": "2019-12-09T00:05:19.589Z"
   },
   {
    "cell": {
     "executionCount": 60,
     "executionEventId": "fb2aa13d-2c72-4a9c-b199-83d3783f8684",
     "hasError": false,
     "id": "ae287747-50c4-4efb-932b-6f4603ef2dec",
     "outputs": [],
     "persistentId": "8fbd2c63-0e61-43a8-8db5-673f86a79900",
     "text": "variable = 'PRECIP'"
    },
    "executionTime": "2019-12-09T00:05:19.788Z"
   },
   {
    "cell": {
     "executionCount": 61,
     "executionEventId": "733623e6-543b-4e70-8418-50ba321225ac",
     "hasError": false,
     "id": "e1f08571-77be-4d5b-aed6-03f3dacb77df",
     "outputs": [],
     "persistentId": "9a580435-128d-48c8-bfbc-52f2b6c01e2a",
     "text": "url = f'http://iridl.ldeo.columbia.edu/SOURCES/.Models/.NMME/.{GCM}/.{data_stream}/.PENTAD_SAMPLES/.MONTHLY/.{dict_variables[variable]}/dods'"
    },
    "executionTime": "2019-12-09T00:05:20.335Z"
   },
   {
    "cell": {
     "executionCount": 62,
     "executionEventId": "ac677840-698e-405f-b828-36f58d6dc6bd",
     "hasError": false,
     "id": "210ac9ee-98e1-425c-b739-506c6b682818",
     "outputs": [
      {
       "name": "stdout",
       "output_type": "stream",
       "text": "http://iridl.ldeo.columbia.edu/SOURCES/.Models/.NMME/.NCEP-CFSv2/.HINDCAST/.PENTAD_SAMPLES/.MONTHLY/.prec/dods\n"
      }
     ],
     "persistentId": "d13bb3fd-3c01-4232-88f5-7bb901aa6ffb",
     "text": "print(url)"
    },
    "executionTime": "2019-12-09T00:05:20.891Z"
   },
   {
    "cell": {
     "executionCount": 63,
     "executionEventId": "06479579-7081-4e7a-9b1f-25ba8baec66c",
     "hasError": false,
     "id": "9f91946c-6064-4420-b5c5-50d34a6addce",
     "outputs": [],
     "persistentId": "37f58074-abca-4f3a-8f2d-f386574e9c50",
     "text": "dset = xr.open_dataset(url, decode_times=False)"
    },
    "executionTime": "2019-12-09T00:05:21.271Z"
   },
   {
    "cell": {
     "executionCount": 64,
     "executionEventId": "11bb690d-c803-4cae-97a3-9c590b98f218",
     "hasError": false,
     "id": "f2480df8-751a-4341-8b5b-f536f751f5de",
     "outputs": [],
     "persistentId": "87e9219e-a5bd-439f-bc92-669c6353b74d",
     "text": "dict_coords = {}\ndict_coords['L'] = 'step'\ndict_coords['M'] = 'member'\ndict_coords['S'] = 'time'\ndict_coords['X'] = 'lon'\ndict_coords['Y'] = 'lat'"
    },
    "executionTime": "2019-12-09T00:05:21.754Z"
   },
   {
    "cell": {
     "executionCount": 65,
     "executionEventId": "cd834292-7300-4d5b-99be-5c180e2cc543",
     "hasError": false,
     "id": "9c07f9f3-0542-4f16-a0a9-1515fac874b1",
     "outputs": [],
     "persistentId": "d198fdc8-c8d2-4fc9-ba88-3a309ccc7c4c",
     "text": "dset = dset.rename(dict_coords)"
    },
    "executionTime": "2019-12-09T00:05:22.374Z"
   },
   {
    "cell": {
     "executionCount": 66,
     "executionEventId": "17b2e198-23df-47e2-8fbb-57cb13954006",
     "hasError": false,
     "id": "3d5ae3c2-6410-4b16-826a-336089aec250",
     "outputs": [],
     "persistentId": "2785dac3-861c-42ce-a4ab-c3861ea23f4b",
     "text": "dset = dset.rename({dict_variables[variable]:variable})"
    },
    "executionTime": "2019-12-09T00:05:38.504Z"
   },
   {
    "cell": {
     "executionCount": 67,
     "executionEventId": "e23e7117-8490-49ba-9156-cb105ae6a1a1",
     "hasError": false,
     "id": "e75b8c60-a5fc-4596-87db-50da7167d08d",
     "outputs": [
      {
       "data": {
        "text/plain": "<xarray.Dataset>\nDimensions:  (lat: 181, lon: 360, member: 28, step: 10, time: 351)\nCoordinates:\n  * step     (step) float32 0.5 1.5 2.5 3.5 4.5 5.5 6.5 7.5 8.5 9.5\n  * lat      (lat) float32 -90.0 -89.0 -88.0 -87.0 -86.0 ... 87.0 88.0 89.0 90.0\n  * time     (time) float32 264.0 265.0 266.0 267.0 ... 611.0 612.0 613.0 614.0\n  * member   (member) float32 1.0 2.0 3.0 4.0 5.0 ... 24.0 25.0 26.0 27.0 28.0\n  * lon      (lon) float32 0.0 1.0 2.0 3.0 4.0 ... 355.0 356.0 357.0 358.0 359.0\nData variables:\n    PRECIP   (time, step, member, lat, lon) float32 ...\nAttributes:\n    Conventions:  IRIDL"
       },
       "execution_count": 67,
       "metadata": {},
       "output_type": "execute_result"
      }
     ],
     "persistentId": "a1823775-c96d-4597-956f-ec3e1f74bb27",
     "text": "dset"
    },
    "executionTime": "2019-12-09T00:05:42.339Z"
   },
   {
    "cell": {
     "executionCount": 68,
     "executionEventId": "4a853602-ea8c-44ea-be49-be21c5c9c5cd",
     "hasError": false,
     "id": "b39b75ee-892c-454d-9e25-7f8eadcbd86d",
     "outputs": [],
     "persistentId": "633f736a-903a-46a2-a21c-86ca3996a1db",
     "text": "origin = datetime(1960,1,1)"
    },
    "executionTime": "2019-12-09T00:05:57.610Z"
   },
   {
    "cell": {
     "executionCount": 69,
     "executionEventId": "069ec28f-1a43-4830-a727-5941f270d855",
     "hasError": false,
     "id": "9ff10b44-5971-4281-859c-897c22ee6e0e",
     "outputs": [],
     "persistentId": "63e0ff91-433e-428b-a5b0-45b5203aec2a",
     "text": "dates = [origin + relativedelta.relativedelta(months=x) for x in dset.time]"
    },
    "executionTime": "2019-12-09T00:05:58.094Z"
   },
   {
    "cell": {
     "executionCount": 70,
     "executionEventId": "72456e19-13b5-4b2c-8b46-74740bcd1ba3",
     "hasError": false,
     "id": "1872584a-9c66-4c75-a9f6-e4ffc99070c3",
     "outputs": [],
     "persistentId": "cbed224a-7550-4691-b491-a05b6b9b9d45",
     "text": "dset['time'] = (('time'), dates)"
    },
    "executionTime": "2019-12-09T00:05:58.617Z"
   },
   {
    "cell": {
     "executionCount": 71,
     "executionEventId": "5543248d-aedf-455a-84f9-2afaeb93ef66",
     "hasError": false,
     "id": "ad87fc5b-da1b-43fe-8e1f-5050ff9651e3",
     "outputs": [
      {
       "data": {
        "text/plain": "<xarray.Dataset>\nDimensions:  (lat: 181, lon: 360, member: 28, step: 10, time: 351)\nCoordinates:\n  * step     (step) float32 0.5 1.5 2.5 3.5 4.5 5.5 6.5 7.5 8.5 9.5\n  * lat      (lat) float32 -90.0 -89.0 -88.0 -87.0 -86.0 ... 87.0 88.0 89.0 90.0\n  * time     (time) datetime64[ns] 1982-01-01 1982-02-01 ... 2011-03-01\n  * member   (member) float32 1.0 2.0 3.0 4.0 5.0 ... 24.0 25.0 26.0 27.0 28.0\n  * lon      (lon) float32 0.0 1.0 2.0 3.0 4.0 ... 355.0 356.0 357.0 358.0 359.0\nData variables:\n    PRECIP   (time, step, member, lat, lon) float32 ...\nAttributes:\n    Conventions:  IRIDL"
       },
       "execution_count": 71,
       "metadata": {},
       "output_type": "execute_result"
      }
     ],
     "persistentId": "7b1d224f-5ef7-4216-a20c-b2be23aec2d6",
     "text": "dset"
    },
    "executionTime": "2019-12-09T00:05:58.931Z"
   },
   {
    "cell": {
     "executionCount": 72,
     "executionEventId": "145e03d3-7097-40bd-adb7-f1f319e56ecb",
     "hasError": true,
     "id": "2306e9a4-d2cc-45d6-add1-4a1210bb9ef0",
     "outputs": [
      {
       "ename": "SyntaxError",
       "evalue": "invalid syntax (<ipython-input-72-7fdc84617090>, line 6)",
       "output_type": "error",
       "traceback": [
        "\u001b[0;36m  File \u001b[0;32m\"<ipython-input-72-7fdc84617090>\"\u001b[0;36m, line \u001b[0;32m6\u001b[0m\n\u001b[0;31m    sub.close()\u001b[0m\n\u001b[0m      ^\u001b[0m\n\u001b[0;31mSyntaxError\u001b[0m\u001b[0;31m:\u001b[0m invalid syntax\n"
       ]
      }
     ],
     "persistentId": "95a20e48-8044-4c90-a961-010e76244c5e",
     "text": "for date in dset.time: \n    sub = dset.sel(time=date)\n    date = pd.to_datetime(date.data)\n    print(\"saving {} for {:%Y-%m}\".format(var, date))\n    sub.to_netcdf(opath / f'CFSv2_hindcasts_{var}_{date.year}_{date.month}.nc'\n    sub.close() "
    },
    "executionTime": "2019-12-09T00:06:19.581Z"
   },
   {
    "cell": {
     "executionCount": 1,
     "executionEventId": "8c3af546-bc03-4874-bbcd-851d127bd5aa",
     "hasError": false,
     "id": "1654bb8f-54a7-47d5-8d11-974df671cb14",
     "outputs": [],
     "persistentId": "fd29e246-14ef-41bb-b3d1-21c385096522",
     "text": "%matplotlib inline\nfrom matplotlib import pyplot as plt"
    },
    "executionTime": "2019-12-09T00:07:39.966Z"
   },
   {
    "cell": {
     "executionCount": 2,
     "executionEventId": "96a89c8f-35fe-4fde-8a71-a02995045d28",
     "hasError": false,
     "id": "98d427fe-98b5-4177-aa5f-8d719769ca1e",
     "outputs": [],
     "persistentId": "b548e22d-87af-4ea0-89f0-03d24013b895",
     "text": "import os \nimport sys \nimport pathlib"
    },
    "executionTime": "2019-12-09T00:07:39.977Z"
   },
   {
    "cell": {
     "executionCount": 3,
     "executionEventId": "eebd8280-ef99-4588-8d1a-c41f2ffe15ed",
     "hasError": false,
     "id": "a15a15c7-f635-4a13-8f3c-ec85c768fb7b",
     "outputs": [],
     "persistentId": "21fa21be-dc9a-42a6-afc9-60a911d8394d",
     "text": "from datetime import datetime, timedelta\nimport calendar\nfrom dateutil import relativedelta"
    },
    "executionTime": "2019-12-09T00:07:40.062Z"
   },
   {
    "cell": {
     "executionCount": 4,
     "executionEventId": "b7fc2f7e-fa0b-4efd-ac1e-fa1dde43a3ae",
     "hasError": false,
     "id": "6be31241-e0f0-4721-b5dd-b05dc5bb70ee",
     "outputs": [],
     "persistentId": "b77a4f79-bc6f-472a-9f47-349c86fc0da8",
     "text": "import numpy as np \nimport pandas as pd \nimport xarray as xr"
    },
    "executionTime": "2019-12-09T00:07:40.564Z"
   },
   {
    "cell": {
     "executionCount": 5,
     "executionEventId": "ff3f0cad-3c85-4b91-8b73-dc0d93eb2da6",
     "hasError": false,
     "id": "0e0a8ecb-8a7a-41cc-8333-0d792b1f0da5",
     "outputs": [],
     "persistentId": "aa44e8fa-1969-4cc9-81ff-c16e51f00daa",
     "text": "CWD = pathlib.Path.cwd()"
    },
    "executionTime": "2019-12-09T00:07:40.567Z"
   },
   {
    "cell": {
     "executionCount": 6,
     "executionEventId": "36a5fd54-331b-4f49-8bb7-1b553b08bad5",
     "hasError": false,
     "id": "24b26bec-9dde-487b-8faa-3c4b2e391864",
     "outputs": [],
     "persistentId": "f25bf7af-ae58-4cb1-8181-cfabedb0b5d7",
     "text": "HOME = pathlib.Path.home()"
    },
    "executionTime": "2019-12-09T00:07:40.577Z"
   },
   {
    "cell": {
     "executionCount": 7,
     "executionEventId": "f05c4f63-df0a-4fad-8566-2d2d8b4399fd",
     "hasError": false,
     "id": "6bf4f087-b757-4ce0-a3d2-039fc3ad8930",
     "outputs": [],
     "persistentId": "2556bfc4-3042-4823-95cc-1ec2416d7ec2",
     "text": "GCM = 'NCEP-CFSv2'"
    },
    "executionTime": "2019-12-09T00:07:41.806Z"
   },
   {
    "cell": {
     "executionCount": 8,
     "executionEventId": "085ccdb2-c3a5-48d5-a76b-2a0f5a6b5c94",
     "hasError": false,
     "id": "9254cbec-e045-4067-8833-d010c1b66bcb",
     "outputs": [],
     "persistentId": "48a44f83-0ee0-4474-90be-7af6584ac99a",
     "text": "data_stream = 'HINDCAST'"
    },
    "executionTime": "2019-12-09T00:07:42.360Z"
   },
   {
    "cell": {
     "executionCount": 9,
     "executionEventId": "669d8ac6-a802-45fa-9503-3aed2b3af28c",
     "hasError": false,
     "id": "7eaf07b2-18d6-4f0a-8930-b573d5bd1fcc",
     "outputs": [],
     "persistentId": "0ab39c8a-be7b-4f56-b6c3-aa7ae0acd5d1",
     "text": "dict_variables = {}\ndict_variables['PRECIP'] = 'prec'\ndict_variables['T2M'] = 'tref'\ndict_variables['SST'] = 'sst'"
    },
    "executionTime": "2019-12-09T00:07:42.713Z"
   },
   {
    "cell": {
     "executionCount": 10,
     "executionEventId": "252df1f5-4b4c-43ad-ac2b-e02f5b9146da",
     "hasError": false,
     "id": "ae287747-50c4-4efb-932b-6f4603ef2dec",
     "outputs": [],
     "persistentId": "8fbd2c63-0e61-43a8-8db5-673f86a79900",
     "text": "variable = 'PRECIP'"
    },
    "executionTime": "2019-12-09T00:07:43.226Z"
   },
   {
    "cell": {
     "executionCount": 11,
     "executionEventId": "53805755-65ec-4537-870b-2a880fa17232",
     "hasError": false,
     "id": "04c7bbda-4ce6-4b53-9b94-ebb761ca683f",
     "outputs": [],
     "persistentId": "db0dc66c-cdc9-4748-a0d3-931d277f44f1",
     "text": "opath = HOME / 'drives' / 'auck_projects' / 'END19101' / 'Working' / 'data' / 'hindcasts' / 'IRI' / 'CFSv2' / variable"
    },
    "executionTime": "2019-12-09T00:07:43.817Z"
   },
   {
    "cell": {
     "executionCount": 12,
     "executionEventId": "8819f76b-6eb9-4bb0-85b0-73adb67bbb1e",
     "hasError": false,
     "id": "04c7bbda-4ce6-4b53-9b94-ebb761ca683f",
     "outputs": [],
     "persistentId": "db0dc66c-cdc9-4748-a0d3-931d277f44f1",
     "text": "opath = HOME / 'drives' / 'auck_projects' / 'END19101' / 'Working' / 'data' / 'hindcasts' / 'IRI' / 'CFSv2' / variable"
    },
    "executionTime": "2019-12-09T00:15:59.815Z"
   },
   {
    "cell": {
     "executionCount": 13,
     "executionEventId": "0a5a44c8-e699-438d-9dc2-9de271d0d0d9",
     "hasError": false,
     "id": "e99b0fc5-7ce9-427c-8ff0-ca12515ce649",
     "outputs": [
      {
       "name": "stdout",
       "output_type": "stream",
       "text": "/home/nicolasf/drives/auck_projects/END19101/Working/data/hindcasts/IRI/CFSv2/PRECIP\n"
      }
     ],
     "persistentId": "64299af6-b150-4d50-8b85-ad156a9214ec",
     "text": "print(opath)"
    },
    "executionTime": "2019-12-09T00:16:04.322Z"
   },
   {
    "cell": {
     "executionCount": 14,
     "executionEventId": "02f93a52-41d1-4fd3-9e94-d6ad821cbca0",
     "hasError": false,
     "id": "5e8e02f0-e35a-4f0f-8dda-4798fcd4c1fc",
     "outputs": [],
     "persistentId": "b916d575-b57b-44ad-942a-b493186446c9",
     "text": "if not opath.exists():\n    opath.mkdir(parents=True)"
    },
    "executionTime": "2019-12-09T00:16:05.740Z"
   },
   {
    "cell": {
     "executionCount": 15,
     "executionEventId": "24f22f00-0a31-48c9-8ced-d9f9f26fdbea",
     "hasError": false,
     "id": "e1f08571-77be-4d5b-aed6-03f3dacb77df",
     "outputs": [],
     "persistentId": "9a580435-128d-48c8-bfbc-52f2b6c01e2a",
     "text": "url = f'http://iridl.ldeo.columbia.edu/SOURCES/.Models/.NMME/.{GCM}/.{data_stream}/.PENTAD_SAMPLES/.MONTHLY/.{dict_variables[variable]}/dods'"
    },
    "executionTime": "2019-12-09T00:16:07.738Z"
   },
   {
    "cell": {
     "executionCount": 16,
     "executionEventId": "b298bcdb-6f33-4c34-ae88-62997fa7d1f7",
     "hasError": false,
     "id": "210ac9ee-98e1-425c-b739-506c6b682818",
     "outputs": [
      {
       "name": "stdout",
       "output_type": "stream",
       "text": "http://iridl.ldeo.columbia.edu/SOURCES/.Models/.NMME/.NCEP-CFSv2/.HINDCAST/.PENTAD_SAMPLES/.MONTHLY/.prec/dods\n"
      }
     ],
     "persistentId": "d13bb3fd-3c01-4232-88f5-7bb901aa6ffb",
     "text": "print(url)"
    },
    "executionTime": "2019-12-09T00:16:08.109Z"
   },
   {
    "cell": {
     "executionCount": 17,
     "executionEventId": "28537af6-4b67-40c0-b7d6-e542754ad151",
     "hasError": false,
     "id": "9f91946c-6064-4420-b5c5-50d34a6addce",
     "outputs": [],
     "persistentId": "37f58074-abca-4f3a-8f2d-f386574e9c50",
     "text": "dset = xr.open_dataset(url, decode_times=False)"
    },
    "executionTime": "2019-12-09T00:16:09.926Z"
   },
   {
    "cell": {
     "executionCount": 18,
     "executionEventId": "6b233ab9-9434-4992-8e06-2dc633038f99",
     "hasError": false,
     "id": "f2480df8-751a-4341-8b5b-f536f751f5de",
     "outputs": [],
     "persistentId": "87e9219e-a5bd-439f-bc92-669c6353b74d",
     "text": "dict_coords = {}\ndict_coords['L'] = 'step'\ndict_coords['M'] = 'member'\ndict_coords['S'] = 'time'\ndict_coords['X'] = 'lon'\ndict_coords['Y'] = 'lat'"
    },
    "executionTime": "2019-12-09T00:16:13.556Z"
   },
   {
    "cell": {
     "executionCount": 19,
     "executionEventId": "bba4c015-c349-4915-9895-8e5404b2d5e5",
     "hasError": false,
     "id": "9c07f9f3-0542-4f16-a0a9-1515fac874b1",
     "outputs": [],
     "persistentId": "d198fdc8-c8d2-4fc9-ba88-3a309ccc7c4c",
     "text": "dset = dset.rename(dict_coords)"
    },
    "executionTime": "2019-12-09T00:16:15.111Z"
   },
   {
    "cell": {
     "executionCount": 20,
     "executionEventId": "86a31b04-3e81-4f44-bf3b-8f3ead44d5f5",
     "hasError": false,
     "id": "3d5ae3c2-6410-4b16-826a-336089aec250",
     "outputs": [],
     "persistentId": "2785dac3-861c-42ce-a4ab-c3861ea23f4b",
     "text": "dset = dset.rename({dict_variables[variable]:variable})"
    },
    "executionTime": "2019-12-09T00:16:15.745Z"
   },
   {
    "cell": {
     "executionCount": 21,
     "executionEventId": "22bdbc61-2c61-43a3-8038-53ecff8805ba",
     "hasError": false,
     "id": "e75b8c60-a5fc-4596-87db-50da7167d08d",
     "outputs": [
      {
       "data": {
        "text/plain": "<xarray.Dataset>\nDimensions:  (lat: 181, lon: 360, member: 28, step: 10, time: 351)\nCoordinates:\n  * step     (step) float32 0.5 1.5 2.5 3.5 4.5 5.5 6.5 7.5 8.5 9.5\n  * lat      (lat) float32 -90.0 -89.0 -88.0 -87.0 -86.0 ... 87.0 88.0 89.0 90.0\n  * time     (time) float32 264.0 265.0 266.0 267.0 ... 611.0 612.0 613.0 614.0\n  * member   (member) float32 1.0 2.0 3.0 4.0 5.0 ... 24.0 25.0 26.0 27.0 28.0\n  * lon      (lon) float32 0.0 1.0 2.0 3.0 4.0 ... 355.0 356.0 357.0 358.0 359.0\nData variables:\n    PRECIP   (time, step, member, lat, lon) float32 ...\nAttributes:\n    Conventions:  IRIDL"
       },
       "execution_count": 21,
       "metadata": {},
       "output_type": "execute_result"
      }
     ],
     "persistentId": "a1823775-c96d-4597-956f-ec3e1f74bb27",
     "text": "dset"
    },
    "executionTime": "2019-12-09T00:16:16.504Z"
   },
   {
    "cell": {
     "executionCount": 22,
     "executionEventId": "77d976d7-5d1f-4420-aac3-b57c59e73fda",
     "hasError": false,
     "id": "9f91946c-6064-4420-b5c5-50d34a6addce",
     "outputs": [],
     "persistentId": "37f58074-abca-4f3a-8f2d-f386574e9c50",
     "text": "dset = xr.open_dataset(url, decode_times=False)"
    },
    "executionTime": "2019-12-09T00:16:30.026Z"
   },
   {
    "cell": {
     "executionCount": 23,
     "executionEventId": "60438af1-7b7a-4e66-83fa-1df4134def15",
     "hasError": false,
     "id": "f2480df8-751a-4341-8b5b-f536f751f5de",
     "outputs": [],
     "persistentId": "87e9219e-a5bd-439f-bc92-669c6353b74d",
     "text": "dict_coords = {}\ndict_coords['L'] = 'step'\ndict_coords['M'] = 'member'\ndict_coords['S'] = 'time'\ndict_coords['X'] = 'lon'\ndict_coords['Y'] = 'lat'"
    },
    "executionTime": "2019-12-09T00:16:30.172Z"
   },
   {
    "cell": {
     "executionCount": 24,
     "executionEventId": "2c4e9a12-a044-40eb-b24a-fcd203c854c6",
     "hasError": false,
     "id": "9c07f9f3-0542-4f16-a0a9-1515fac874b1",
     "outputs": [],
     "persistentId": "d198fdc8-c8d2-4fc9-ba88-3a309ccc7c4c",
     "text": "dset = dset.rename(dict_coords)"
    },
    "executionTime": "2019-12-09T00:16:30.550Z"
   },
   {
    "cell": {
     "executionCount": 25,
     "executionEventId": "c32ea8a7-1a3f-4702-af04-ae368610cb65",
     "hasError": false,
     "id": "3d5ae3c2-6410-4b16-826a-336089aec250",
     "outputs": [],
     "persistentId": "2785dac3-861c-42ce-a4ab-c3861ea23f4b",
     "text": "dset = dset.rename({dict_variables[variable]:variable.lower()})"
    },
    "executionTime": "2019-12-09T00:16:30.932Z"
   },
   {
    "cell": {
     "executionCount": 26,
     "executionEventId": "262f6276-baa2-4157-a781-31bc807b44c7",
     "hasError": false,
     "id": "e75b8c60-a5fc-4596-87db-50da7167d08d",
     "outputs": [
      {
       "data": {
        "text/plain": "<xarray.Dataset>\nDimensions:  (lat: 181, lon: 360, member: 28, step: 10, time: 351)\nCoordinates:\n  * step     (step) float32 0.5 1.5 2.5 3.5 4.5 5.5 6.5 7.5 8.5 9.5\n  * lat      (lat) float32 -90.0 -89.0 -88.0 -87.0 -86.0 ... 87.0 88.0 89.0 90.0\n  * time     (time) float32 264.0 265.0 266.0 267.0 ... 611.0 612.0 613.0 614.0\n  * member   (member) float32 1.0 2.0 3.0 4.0 5.0 ... 24.0 25.0 26.0 27.0 28.0\n  * lon      (lon) float32 0.0 1.0 2.0 3.0 4.0 ... 355.0 356.0 357.0 358.0 359.0\nData variables:\n    precip   (time, step, member, lat, lon) float32 ...\nAttributes:\n    Conventions:  IRIDL"
       },
       "execution_count": 26,
       "metadata": {},
       "output_type": "execute_result"
      }
     ],
     "persistentId": "a1823775-c96d-4597-956f-ec3e1f74bb27",
     "text": "dset"
    },
    "executionTime": "2019-12-09T00:16:31.498Z"
   },
   {
    "cell": {
     "executionCount": 27,
     "executionEventId": "56ee41f6-99ec-483d-8dea-456d325794e6",
     "hasError": false,
     "id": "b39b75ee-892c-454d-9e25-7f8eadcbd86d",
     "outputs": [],
     "persistentId": "633f736a-903a-46a2-a21c-86ca3996a1db",
     "text": "origin = datetime(1960,1,1)"
    },
    "executionTime": "2019-12-09T00:16:32.549Z"
   },
   {
    "cell": {
     "executionCount": 28,
     "executionEventId": "edca1dd6-4b77-417d-864d-b83f7fea634d",
     "hasError": false,
     "id": "9ff10b44-5971-4281-859c-897c22ee6e0e",
     "outputs": [],
     "persistentId": "63e0ff91-433e-428b-a5b0-45b5203aec2a",
     "text": "dates = [origin + relativedelta.relativedelta(months=x) for x in dset.time]"
    },
    "executionTime": "2019-12-09T00:16:33.008Z"
   },
   {
    "cell": {
     "executionCount": 29,
     "executionEventId": "1d0b62bb-ba56-4e6b-8d23-a561841b73d6",
     "hasError": false,
     "id": "1872584a-9c66-4c75-a9f6-e4ffc99070c3",
     "outputs": [],
     "persistentId": "cbed224a-7550-4691-b491-a05b6b9b9d45",
     "text": "dset['time'] = (('time'), dates)"
    },
    "executionTime": "2019-12-09T00:16:33.253Z"
   },
   {
    "cell": {
     "executionCount": 30,
     "executionEventId": "2b15d76b-32ab-40a9-b896-61355184e7fd",
     "hasError": false,
     "id": "ad87fc5b-da1b-43fe-8e1f-5050ff9651e3",
     "outputs": [
      {
       "data": {
        "text/plain": "<xarray.Dataset>\nDimensions:  (lat: 181, lon: 360, member: 28, step: 10, time: 351)\nCoordinates:\n  * step     (step) float32 0.5 1.5 2.5 3.5 4.5 5.5 6.5 7.5 8.5 9.5\n  * lat      (lat) float32 -90.0 -89.0 -88.0 -87.0 -86.0 ... 87.0 88.0 89.0 90.0\n  * time     (time) datetime64[ns] 1982-01-01 1982-02-01 ... 2011-03-01\n  * member   (member) float32 1.0 2.0 3.0 4.0 5.0 ... 24.0 25.0 26.0 27.0 28.0\n  * lon      (lon) float32 0.0 1.0 2.0 3.0 4.0 ... 355.0 356.0 357.0 358.0 359.0\nData variables:\n    precip   (time, step, member, lat, lon) float32 ...\nAttributes:\n    Conventions:  IRIDL"
       },
       "execution_count": 30,
       "metadata": {},
       "output_type": "execute_result"
      }
     ],
     "persistentId": "7b1d224f-5ef7-4216-a20c-b2be23aec2d6",
     "text": "dset"
    },
    "executionTime": "2019-12-09T00:16:33.579Z"
   },
   {
    "cell": {
     "executionCount": 31,
     "executionEventId": "f910f542-d030-4878-bcbc-d8269bf942ad",
     "hasError": true,
     "id": "2306e9a4-d2cc-45d6-add1-4a1210bb9ef0",
     "outputs": [
      {
       "ename": "NameError",
       "evalue": "name 'var' is not defined",
       "output_type": "error",
       "traceback": [
        "\u001b[0;31m---------------------------------------------------------------------------\u001b[0m",
        "\u001b[0;31mNameError\u001b[0m                                 Traceback (most recent call last)",
        "\u001b[0;32m<ipython-input-31-c0b3ab099b46>\u001b[0m in \u001b[0;36m<module>\u001b[0;34m\u001b[0m\n\u001b[1;32m      2\u001b[0m     \u001b[0msub\u001b[0m \u001b[0;34m=\u001b[0m \u001b[0mdset\u001b[0m\u001b[0;34m.\u001b[0m\u001b[0msel\u001b[0m\u001b[0;34m(\u001b[0m\u001b[0mtime\u001b[0m\u001b[0;34m=\u001b[0m\u001b[0mdate\u001b[0m\u001b[0;34m)\u001b[0m\u001b[0;34m\u001b[0m\u001b[0;34m\u001b[0m\u001b[0m\n\u001b[1;32m      3\u001b[0m     \u001b[0mdate\u001b[0m \u001b[0;34m=\u001b[0m \u001b[0mpd\u001b[0m\u001b[0;34m.\u001b[0m\u001b[0mto_datetime\u001b[0m\u001b[0;34m(\u001b[0m\u001b[0mdate\u001b[0m\u001b[0;34m.\u001b[0m\u001b[0mdata\u001b[0m\u001b[0;34m)\u001b[0m\u001b[0;34m\u001b[0m\u001b[0;34m\u001b[0m\u001b[0m\n\u001b[0;32m----> 4\u001b[0;31m     \u001b[0mprint\u001b[0m\u001b[0;34m(\u001b[0m\u001b[0;34m\"saving {} for {:%Y-%m}\"\u001b[0m\u001b[0;34m.\u001b[0m\u001b[0mformat\u001b[0m\u001b[0;34m(\u001b[0m\u001b[0mvar\u001b[0m\u001b[0;34m,\u001b[0m \u001b[0mdate\u001b[0m\u001b[0;34m)\u001b[0m\u001b[0;34m)\u001b[0m\u001b[0;34m\u001b[0m\u001b[0;34m\u001b[0m\u001b[0m\n\u001b[0m\u001b[1;32m      5\u001b[0m     \u001b[0msub\u001b[0m\u001b[0;34m.\u001b[0m\u001b[0mto_netcdf\u001b[0m\u001b[0;34m(\u001b[0m\u001b[0mopath\u001b[0m \u001b[0;34m/\u001b[0m \u001b[0;34mf'CFSv2_hindcasts_{var}_{date.year}_{date.month}.nc'\u001b[0m\u001b[0;34m)\u001b[0m\u001b[0;34m\u001b[0m\u001b[0;34m\u001b[0m\u001b[0m\n\u001b[1;32m      6\u001b[0m     \u001b[0msub\u001b[0m\u001b[0;34m.\u001b[0m\u001b[0mclose\u001b[0m\u001b[0;34m(\u001b[0m\u001b[0;34m)\u001b[0m\u001b[0;34m\u001b[0m\u001b[0;34m\u001b[0m\u001b[0m\n",
        "\u001b[0;31mNameError\u001b[0m: name 'var' is not defined"
       ]
      }
     ],
     "persistentId": "95a20e48-8044-4c90-a961-010e76244c5e",
     "text": "for date in dset.time: \n    sub = dset.sel(time=date)\n    date = pd.to_datetime(date.data)\n    print(\"saving {} for {:%Y-%m}\".format(var, date))\n    sub.to_netcdf(opath / f'CFSv2_hindcasts_{var}_{date.year}_{date.month}.nc')\n    sub.close() "
    },
    "executionTime": "2019-12-09T00:16:35.373Z"
   },
   {
    "cell": {
     "executionCount": 32,
     "executionEventId": "96d01be0-acad-4e65-8cfb-268fb13d7942",
     "hasError": true,
     "id": "2306e9a4-d2cc-45d6-add1-4a1210bb9ef0",
     "outputs": [
      {
       "ename": "NameError",
       "evalue": "name 'var' is not defined",
       "output_type": "error",
       "traceback": [
        "\u001b[0;31m---------------------------------------------------------------------------\u001b[0m",
        "\u001b[0;31mNameError\u001b[0m                                 Traceback (most recent call last)",
        "\u001b[0;32m<ipython-input-32-01f41b4e4edf>\u001b[0m in \u001b[0;36m<module>\u001b[0;34m\u001b[0m\n\u001b[1;32m      2\u001b[0m     \u001b[0msub\u001b[0m \u001b[0;34m=\u001b[0m \u001b[0mdset\u001b[0m\u001b[0;34m.\u001b[0m\u001b[0msel\u001b[0m\u001b[0;34m(\u001b[0m\u001b[0mtime\u001b[0m\u001b[0;34m=\u001b[0m\u001b[0mdate\u001b[0m\u001b[0;34m)\u001b[0m\u001b[0;34m\u001b[0m\u001b[0;34m\u001b[0m\u001b[0m\n\u001b[1;32m      3\u001b[0m     \u001b[0mdate\u001b[0m \u001b[0;34m=\u001b[0m \u001b[0mpd\u001b[0m\u001b[0;34m.\u001b[0m\u001b[0mto_datetime\u001b[0m\u001b[0;34m(\u001b[0m\u001b[0mdate\u001b[0m\u001b[0;34m.\u001b[0m\u001b[0mdata\u001b[0m\u001b[0;34m)\u001b[0m\u001b[0;34m\u001b[0m\u001b[0;34m\u001b[0m\u001b[0m\n\u001b[0;32m----> 4\u001b[0;31m     \u001b[0mprint\u001b[0m\u001b[0;34m(\u001b[0m\u001b[0;34m\"saving {} for {:%Y-%m}\"\u001b[0m\u001b[0;34m.\u001b[0m\u001b[0mformat\u001b[0m\u001b[0;34m(\u001b[0m\u001b[0mvar\u001b[0m\u001b[0;34m,\u001b[0m \u001b[0mdate\u001b[0m\u001b[0;34m)\u001b[0m\u001b[0;34m)\u001b[0m\u001b[0;34m\u001b[0m\u001b[0;34m\u001b[0m\u001b[0m\n\u001b[0m\u001b[1;32m      5\u001b[0m     \u001b[0msub\u001b[0m\u001b[0;34m.\u001b[0m\u001b[0mto_netcdf\u001b[0m\u001b[0;34m(\u001b[0m\u001b[0mopath\u001b[0m \u001b[0;34m/\u001b[0m \u001b[0;34mf'CFSv2_hindcasts_{variable}_{date.year}_{date.month}.nc'\u001b[0m\u001b[0;34m)\u001b[0m\u001b[0;34m\u001b[0m\u001b[0;34m\u001b[0m\u001b[0m\n\u001b[1;32m      6\u001b[0m     \u001b[0msub\u001b[0m\u001b[0;34m.\u001b[0m\u001b[0mclose\u001b[0m\u001b[0;34m(\u001b[0m\u001b[0;34m)\u001b[0m\u001b[0;34m\u001b[0m\u001b[0;34m\u001b[0m\u001b[0m\n",
        "\u001b[0;31mNameError\u001b[0m: name 'var' is not defined"
       ]
      }
     ],
     "persistentId": "95a20e48-8044-4c90-a961-010e76244c5e",
     "text": "for date in dset.time: \n    sub = dset.sel(time=date)\n    date = pd.to_datetime(date.data)\n    print(\"saving {} for {:%Y-%m}\".format(var, date))\n    sub.to_netcdf(opath / f'CFSv2_hindcasts_{variable}_{date.year}_{date.month}.nc')\n    sub.close() "
    },
    "executionTime": "2019-12-09T00:16:40.231Z"
   },
   {
    "cell": {
     "executionCount": 1,
     "executionEventId": "1b48d286-242e-4801-8046-9f359ca8ba43",
     "hasError": false,
     "id": "1654bb8f-54a7-47d5-8d11-974df671cb14",
     "outputs": [],
     "persistentId": "fd29e246-14ef-41bb-b3d1-21c385096522",
     "text": "%matplotlib inline\nfrom matplotlib import pyplot as plt"
    },
    "executionTime": "2019-12-09T00:34:00.091Z"
   },
   {
    "cell": {
     "executionCount": 2,
     "executionEventId": "669f2ceb-7b32-49c9-8ac8-645ea8f85a56",
     "hasError": false,
     "id": "98d427fe-98b5-4177-aa5f-8d719769ca1e",
     "outputs": [],
     "persistentId": "b548e22d-87af-4ea0-89f0-03d24013b895",
     "text": "import os \nimport sys \nimport pathlib"
    },
    "executionTime": "2019-12-09T00:34:00.094Z"
   },
   {
    "cell": {
     "executionCount": 3,
     "executionEventId": "ab310789-8533-49d5-a2ed-45ac3aea485c",
     "hasError": false,
     "id": "a15a15c7-f635-4a13-8f3c-ec85c768fb7b",
     "outputs": [],
     "persistentId": "21fa21be-dc9a-42a6-afc9-60a911d8394d",
     "text": "from datetime import datetime, timedelta\nimport calendar\nfrom dateutil import relativedelta"
    },
    "executionTime": "2019-12-09T00:34:00.242Z"
   },
   {
    "cell": {
     "executionCount": 4,
     "executionEventId": "338b247b-ec46-487c-b931-dd1aaa14b0e0",
     "hasError": false,
     "id": "6be31241-e0f0-4721-b5dd-b05dc5bb70ee",
     "outputs": [],
     "persistentId": "b77a4f79-bc6f-472a-9f47-349c86fc0da8",
     "text": "import numpy as np \nimport pandas as pd \nimport xarray as xr"
    },
    "executionTime": "2019-12-09T00:34:00.734Z"
   },
   {
    "cell": {
     "executionCount": 5,
     "executionEventId": "ffa87e61-4724-4f05-a921-ed8338630cb3",
     "hasError": false,
     "id": "0e0a8ecb-8a7a-41cc-8333-0d792b1f0da5",
     "outputs": [],
     "persistentId": "aa44e8fa-1969-4cc9-81ff-c16e51f00daa",
     "text": "CWD = pathlib.Path.cwd()"
    },
    "executionTime": "2019-12-09T00:34:00.737Z"
   },
   {
    "cell": {
     "executionCount": 6,
     "executionEventId": "aca05c6e-facc-4a7d-8dc5-58a59a4acc43",
     "hasError": false,
     "id": "24b26bec-9dde-487b-8faa-3c4b2e391864",
     "outputs": [],
     "persistentId": "f25bf7af-ae58-4cb1-8181-cfabedb0b5d7",
     "text": "HOME = pathlib.Path.home()"
    },
    "executionTime": "2019-12-09T00:34:00.747Z"
   },
   {
    "cell": {
     "executionCount": 7,
     "executionEventId": "36b72dc0-2734-441c-828a-6513172d1437",
     "hasError": false,
     "id": "6bf4f087-b757-4ce0-a3d2-039fc3ad8930",
     "outputs": [],
     "persistentId": "2556bfc4-3042-4823-95cc-1ec2416d7ec2",
     "text": "GCM = 'CanSIPSv2'"
    },
    "executionTime": "2019-12-09T00:34:01.222Z"
   },
   {
    "cell": {
     "executionCount": 8,
     "executionEventId": "d4daf967-ca41-4cd3-b40c-25718b5c59e9",
     "hasError": false,
     "id": "9254cbec-e045-4067-8833-d010c1b66bcb",
     "outputs": [],
     "persistentId": "48a44f83-0ee0-4474-90be-7af6584ac99a",
     "text": "data_stream = 'HINDCAST'"
    },
    "executionTime": "2019-12-09T00:34:01.557Z"
   },
   {
    "cell": {
     "executionCount": 9,
     "executionEventId": "eea113de-82e5-4443-871a-0d8db58f9bb1",
     "hasError": false,
     "id": "7eaf07b2-18d6-4f0a-8930-b573d5bd1fcc",
     "outputs": [],
     "persistentId": "0ab39c8a-be7b-4f56-b6c3-aa7ae0acd5d1",
     "text": "dict_variables = {}\ndict_variables['PRECIP'] = 'prec'\ndict_variables['T2M'] = 'tref'\ndict_variables['SST'] = 'sst'\ndict_variables['Z500'] = 'hgt'"
    },
    "executionTime": "2019-12-09T00:34:01.976Z"
   },
   {
    "cell": {
     "executionCount": 10,
     "executionEventId": "d55a1fc8-d6da-4185-b31c-a83caf09da24",
     "hasError": false,
     "id": "f6758bbf-2e88-4971-8027-af587cac4367",
     "outputs": [],
     "persistentId": "cc3b6012-d731-4822-b979-55e59e7ce7e0",
     "text": "dict_coords = {}\ndict_coords['L'] = 'step'\ndict_coords['M'] = 'member'\ndict_coords['S'] = 'time'\ndict_coords['X'] = 'lon'\ndict_coords['Y'] = 'lat'"
    },
    "executionTime": "2019-12-09T00:34:03.708Z"
   },
   {
    "cell": {
     "executionCount": 11,
     "executionEventId": "02a02210-01f9-45e2-a673-1fccc8eb6f3c",
     "hasError": false,
     "id": "1654bb8f-54a7-47d5-8d11-974df671cb14",
     "outputs": [],
     "persistentId": "fd29e246-14ef-41bb-b3d1-21c385096522",
     "text": "%matplotlib inline\nfrom matplotlib import pyplot as plt"
    },
    "executionTime": "2019-12-09T00:34:34.285Z"
   },
   {
    "cell": {
     "executionCount": 12,
     "executionEventId": "b2fd9a84-0bdf-47c8-a6bc-80992163aebe",
     "hasError": false,
     "id": "98d427fe-98b5-4177-aa5f-8d719769ca1e",
     "outputs": [],
     "persistentId": "b548e22d-87af-4ea0-89f0-03d24013b895",
     "text": "import os \nimport sys \nimport pathlib"
    },
    "executionTime": "2019-12-09T00:34:34.432Z"
   },
   {
    "cell": {
     "executionCount": 13,
     "executionEventId": "19776c83-54eb-4591-8c6f-5b3193b36a4b",
     "hasError": false,
     "id": "a15a15c7-f635-4a13-8f3c-ec85c768fb7b",
     "outputs": [],
     "persistentId": "21fa21be-dc9a-42a6-afc9-60a911d8394d",
     "text": "from datetime import datetime, timedelta\nimport calendar\nfrom dateutil import relativedelta"
    },
    "executionTime": "2019-12-09T00:34:34.642Z"
   },
   {
    "cell": {
     "executionCount": 14,
     "executionEventId": "45b7ee07-5f5c-4d1e-82b3-5c2b22d5f31b",
     "hasError": false,
     "id": "6be31241-e0f0-4721-b5dd-b05dc5bb70ee",
     "outputs": [],
     "persistentId": "b77a4f79-bc6f-472a-9f47-349c86fc0da8",
     "text": "import numpy as np \nimport pandas as pd \nimport xarray as xr"
    },
    "executionTime": "2019-12-09T00:34:34.777Z"
   },
   {
    "cell": {
     "executionCount": 15,
     "executionEventId": "f9a18f8a-49dc-46ca-9735-37a526f30522",
     "hasError": false,
     "id": "0e0a8ecb-8a7a-41cc-8333-0d792b1f0da5",
     "outputs": [],
     "persistentId": "aa44e8fa-1969-4cc9-81ff-c16e51f00daa",
     "text": "CWD = pathlib.Path.cwd()"
    },
    "executionTime": "2019-12-09T00:34:34.861Z"
   },
   {
    "cell": {
     "executionCount": 16,
     "executionEventId": "3c1cd5d5-6f32-4e5f-ac93-eb18dc473c12",
     "hasError": false,
     "id": "24b26bec-9dde-487b-8faa-3c4b2e391864",
     "outputs": [],
     "persistentId": "f25bf7af-ae58-4cb1-8181-cfabedb0b5d7",
     "text": "HOME = pathlib.Path.home()"
    },
    "executionTime": "2019-12-09T00:34:34.976Z"
   },
   {
    "cell": {
     "executionCount": 17,
     "executionEventId": "5e9480d5-9530-44ae-afa4-d2878cfcc4eb",
     "hasError": false,
     "id": "1654bb8f-54a7-47d5-8d11-974df671cb14",
     "outputs": [],
     "persistentId": "fd29e246-14ef-41bb-b3d1-21c385096522",
     "text": "%matplotlib inline\nfrom matplotlib import pyplot as plt"
    },
    "executionTime": "2019-12-09T00:34:44.461Z"
   },
   {
    "cell": {
     "executionCount": 18,
     "executionEventId": "3fcf090c-8e9e-4a75-bae2-c3636adf71d9",
     "hasError": false,
     "id": "98d427fe-98b5-4177-aa5f-8d719769ca1e",
     "outputs": [],
     "persistentId": "b548e22d-87af-4ea0-89f0-03d24013b895",
     "text": "import os \nimport sys \nimport pathlib"
    },
    "executionTime": "2019-12-09T00:34:44.611Z"
   },
   {
    "cell": {
     "executionCount": 19,
     "executionEventId": "39452adf-e10d-4c58-b053-1794778bdb13",
     "hasError": false,
     "id": "a15a15c7-f635-4a13-8f3c-ec85c768fb7b",
     "outputs": [],
     "persistentId": "21fa21be-dc9a-42a6-afc9-60a911d8394d",
     "text": "from datetime import datetime, timedelta\nimport calendar\nfrom dateutil import relativedelta"
    },
    "executionTime": "2019-12-09T00:34:44.790Z"
   },
   {
    "cell": {
     "executionCount": 20,
     "executionEventId": "fc84b14a-a8fe-40b9-99c3-789e390b7ef0",
     "hasError": false,
     "id": "6be31241-e0f0-4721-b5dd-b05dc5bb70ee",
     "outputs": [],
     "persistentId": "b77a4f79-bc6f-472a-9f47-349c86fc0da8",
     "text": "import numpy as np \nimport pandas as pd \nimport xarray as xr"
    },
    "executionTime": "2019-12-09T00:34:44.953Z"
   },
   {
    "cell": {
     "executionCount": 21,
     "executionEventId": "00291e85-83d3-45c8-91dc-a1dcf18492fa",
     "hasError": false,
     "id": "0e0a8ecb-8a7a-41cc-8333-0d792b1f0da5",
     "outputs": [],
     "persistentId": "aa44e8fa-1969-4cc9-81ff-c16e51f00daa",
     "text": "CWD = pathlib.Path.cwd()"
    },
    "executionTime": "2019-12-09T00:34:45.165Z"
   },
   {
    "cell": {
     "executionCount": 22,
     "executionEventId": "f029ac7a-2db9-4e03-b496-f9c3e6fe0882",
     "hasError": false,
     "id": "24b26bec-9dde-487b-8faa-3c4b2e391864",
     "outputs": [],
     "persistentId": "f25bf7af-ae58-4cb1-8181-cfabedb0b5d7",
     "text": "HOME = pathlib.Path.home()"
    },
    "executionTime": "2019-12-09T00:34:45.348Z"
   },
   {
    "cell": {
     "executionCount": 23,
     "executionEventId": "0082a703-e59d-4e55-a62d-205ebe51909d",
     "hasError": false,
     "id": "6bf4f087-b757-4ce0-a3d2-039fc3ad8930",
     "outputs": [],
     "persistentId": "2556bfc4-3042-4823-95cc-1ec2416d7ec2",
     "text": "GCM = 'CanSIPSv2'"
    },
    "executionTime": "2019-12-09T00:34:45.630Z"
   },
   {
    "cell": {
     "executionCount": 24,
     "executionEventId": "f37809f6-dea2-4d97-be91-62f2c5942f60",
     "hasError": false,
     "id": "9254cbec-e045-4067-8833-d010c1b66bcb",
     "outputs": [],
     "persistentId": "48a44f83-0ee0-4474-90be-7af6584ac99a",
     "text": "data_stream = 'HINDCAST'"
    },
    "executionTime": "2019-12-09T00:34:46.010Z"
   },
   {
    "cell": {
     "executionCount": 25,
     "executionEventId": "ccf2bc4b-c4ad-4563-af31-a6b14afc73c8",
     "hasError": false,
     "id": "7eaf07b2-18d6-4f0a-8930-b573d5bd1fcc",
     "outputs": [],
     "persistentId": "0ab39c8a-be7b-4f56-b6c3-aa7ae0acd5d1",
     "text": "dict_variables = {}\ndict_variables['PRECIP'] = 'prec'\ndict_variables['T2M'] = 'tref'\ndict_variables['SST'] = 'sst'\ndict_variables['Z500'] = 'hgt'"
    },
    "executionTime": "2019-12-09T00:34:46.120Z"
   },
   {
    "cell": {
     "executionCount": 26,
     "executionEventId": "63dc9f74-d13e-4e7c-aff5-4f08cfdb8ed3",
     "hasError": false,
     "id": "f6758bbf-2e88-4971-8027-af587cac4367",
     "outputs": [],
     "persistentId": "cc3b6012-d731-4822-b979-55e59e7ce7e0",
     "text": "dict_coords = {}\ndict_coords['L'] = 'step'\ndict_coords['M'] = 'member'\ndict_coords['S'] = 'time'\ndict_coords['X'] = 'lon'\ndict_coords['Y'] = 'lat'"
    },
    "executionTime": "2019-12-09T00:34:47.028Z"
   },
   {
    "cell": {
     "executionCount": 27,
     "executionEventId": "0f40254c-fef5-4d1a-923b-75c791117403",
     "hasError": true,
     "id": "8e070a6b-ea68-48f0-a0f2-71b1f1725942",
     "outputs": [
      {
       "ename": "NameError",
       "evalue": "name 'variable' is not defined",
       "output_type": "error",
       "traceback": [
        "\u001b[0;31m---------------------------------------------------------------------------\u001b[0m",
        "\u001b[0;31mNameError\u001b[0m                                 Traceback (most recent call last)",
        "\u001b[0;32m<ipython-input-27-631429c9cde4>\u001b[0m in \u001b[0;36m<module>\u001b[0;34m\u001b[0m\n\u001b[0;32m----> 1\u001b[0;31m \u001b[0murl\u001b[0m \u001b[0;34m=\u001b[0m \u001b[0;34mf'http://iridl.ldeo.columbia.edu/SOURCES/.Models/.NMME/.{GCM}/.{data_stream}/.MONTHLY/.{dict_variables[variable]}/dods'\u001b[0m\u001b[0;34m\u001b[0m\u001b[0;34m\u001b[0m\u001b[0m\n\u001b[0m",
        "\u001b[0;31mNameError\u001b[0m: name 'variable' is not defined"
       ]
      }
     ],
     "persistentId": "820e7938-76cb-4068-84b8-6d378b76ac82",
     "text": "url = f'http://iridl.ldeo.columbia.edu/SOURCES/.Models/.NMME/.{GCM}/.{data_stream}/.MONTHLY/.{dict_variables[variable]}/dods'"
    },
    "executionTime": "2019-12-09T00:35:26.080Z"
   },
   {
    "cell": {
     "executionCount": 28,
     "executionEventId": "2cc7c7f5-eac4-4e1d-8b02-980ecab189b6",
     "hasError": false,
     "id": "7ea0a28b-bf32-4472-816b-c43aec585b49",
     "outputs": [],
     "persistentId": "39f33daf-996a-4504-aecd-7f64325fd001",
     "text": "variable = 'Z500'"
    },
    "executionTime": "2019-12-09T00:35:46.256Z"
   },
   {
    "cell": {
     "executionCount": 29,
     "executionEventId": "2612925f-b85b-472d-8595-018691e56430",
     "hasError": false,
     "id": "8e070a6b-ea68-48f0-a0f2-71b1f1725942",
     "outputs": [],
     "persistentId": "820e7938-76cb-4068-84b8-6d378b76ac82",
     "text": "url = f'http://iridl.ldeo.columbia.edu/SOURCES/.Models/.NMME/.{GCM}/.{data_stream}/.MONTHLY/.{dict_variables[variable]}/dods'"
    },
    "executionTime": "2019-12-09T00:35:46.469Z"
   },
   {
    "cell": {
     "executionCount": 30,
     "executionEventId": "cfe83878-1310-4bbf-9345-231ef0cbd79c",
     "hasError": false,
     "id": "7eecbbd0-7d54-4eb2-8006-f99af4ebb7fd",
     "outputs": [
      {
       "data": {
        "text/plain": "'http://iridl.ldeo.columbia.edu/SOURCES/.Models/.NMME/.CanSIPSv2/.HINDCAST/.MONTHLY/.hgt/dods'"
       },
       "execution_count": 30,
       "metadata": {},
       "output_type": "execute_result"
      }
     ],
     "persistentId": "3573b551-47a1-45f0-b8b9-ed233db6cbc2",
     "text": "url"
    },
    "executionTime": "2019-12-09T00:35:48.249Z"
   },
   {
    "cell": {
     "executionCount": 31,
     "executionEventId": "33f13546-27ae-4618-88ca-f46632bf4834",
     "hasError": false,
     "id": "0816bbfb-97b9-4c92-a378-887c3d2e058b",
     "outputs": [],
     "persistentId": "44da61dc-12bf-4094-a0b9-0a2db95235ff",
     "text": "dset = xr.open_dataset(url, decode_times=False)"
    },
    "executionTime": "2019-12-09T00:35:59.580Z"
   },
   {
    "cell": {
     "executionCount": 32,
     "executionEventId": "352d7fb0-01b6-4eec-960f-56ba74a17dad",
     "hasError": false,
     "id": "7c81bfd2-369e-4c3b-b879-f96d7535e8c1",
     "outputs": [
      {
       "data": {
        "text/plain": "<xarray.Dataset>\nDimensions:  (L: 12, M: 20, P2: 2, S: 456, X: 360, Y: 181)\nCoordinates:\n  * S        (S) float32 252.0 253.0 254.0 255.0 ... 704.0 705.0 706.0 707.0\n  * X        (X) float32 0.0 1.0 2.0 3.0 4.0 ... 355.0 356.0 357.0 358.0 359.0\n  * L        (L) float32 0.5 1.5 2.5 3.5 4.5 5.5 6.5 7.5 8.5 9.5 10.5 11.5\n  * Y        (Y) float32 -90.0 -89.0 -88.0 -87.0 -86.0 ... 87.0 88.0 89.0 90.0\n  * P2       (P2) int32 500 200\n  * M        (M) float32 1.0 2.0 3.0 4.0 5.0 6.0 ... 16.0 17.0 18.0 19.0 20.0\nData variables:\n    hgt      (S, P2, M, L, Y, X) float32 ...\nAttributes:\n    Conventions:  IRIDL"
       },
       "execution_count": 32,
       "metadata": {},
       "output_type": "execute_result"
      }
     ],
     "persistentId": "5af80a8d-e0f4-4d6f-ba2b-a0d97d3c9f6e",
     "text": "dset"
    },
    "executionTime": "2019-12-09T00:36:01.288Z"
   },
   {
    "cell": {
     "executionCount": 33,
     "executionEventId": "19899e40-78ff-4151-b803-0b20a4a8e849",
     "hasError": false,
     "id": "7c81bfd2-369e-4c3b-b879-f96d7535e8c1",
     "outputs": [
      {
       "data": {
        "text/plain": "<xarray.Dataset>\nDimensions:  (L: 12, M: 20, S: 456, X: 360, Y: 181)\nCoordinates:\n  * S        (S) float32 252.0 253.0 254.0 255.0 ... 704.0 705.0 706.0 707.0\n  * X        (X) float32 0.0 1.0 2.0 3.0 4.0 ... 355.0 356.0 357.0 358.0 359.0\n  * L        (L) float32 0.5 1.5 2.5 3.5 4.5 5.5 6.5 7.5 8.5 9.5 10.5 11.5\n  * Y        (Y) float32 -90.0 -89.0 -88.0 -87.0 -86.0 ... 87.0 88.0 89.0 90.0\n    P2       int32 500\n  * M        (M) float32 1.0 2.0 3.0 4.0 5.0 6.0 ... 16.0 17.0 18.0 19.0 20.0\nData variables:\n    hgt      (S, M, L, Y, X) float32 ...\nAttributes:\n    Conventions:  IRIDL"
       },
       "execution_count": 33,
       "metadata": {},
       "output_type": "execute_result"
      }
     ],
     "persistentId": "5af80a8d-e0f4-4d6f-ba2b-a0d97d3c9f6e",
     "text": "dset.sel(P2=500)"
    },
    "executionTime": "2019-12-09T00:36:19.426Z"
   },
   {
    "cell": {
     "executionCount": 34,
     "executionEventId": "83af5309-82ba-4c88-9f0b-3d800b53e763",
     "hasError": false,
     "id": "7c81bfd2-369e-4c3b-b879-f96d7535e8c1",
     "outputs": [
      {
       "data": {
        "text/plain": "<xarray.Dataset>\nDimensions:  (L: 12, M: 20, S: 456, X: 360, Y: 181)\nCoordinates:\n  * S        (S) float32 252.0 253.0 254.0 255.0 ... 704.0 705.0 706.0 707.0\n  * X        (X) float32 0.0 1.0 2.0 3.0 4.0 ... 355.0 356.0 357.0 358.0 359.0\n  * L        (L) float32 0.5 1.5 2.5 3.5 4.5 5.5 6.5 7.5 8.5 9.5 10.5 11.5\n  * Y        (Y) float32 -90.0 -89.0 -88.0 -87.0 -86.0 ... 87.0 88.0 89.0 90.0\n    P2       int32 500\n  * M        (M) float32 1.0 2.0 3.0 4.0 5.0 6.0 ... 16.0 17.0 18.0 19.0 20.0\nData variables:\n    hgt      (S, M, L, Y, X) float32 ...\nAttributes:\n    Conventions:  IRIDL"
       },
       "execution_count": 34,
       "metadata": {},
       "output_type": "execute_result"
      }
     ],
     "persistentId": "5af80a8d-e0f4-4d6f-ba2b-a0d97d3c9f6e",
     "text": "dset.sel(P2=500).squeeze()"
    },
    "executionTime": "2019-12-09T00:36:30.561Z"
   },
   {
    "cell": {
     "executionCount": 35,
     "executionEventId": "49dd16dd-957c-4a86-87bd-b0f98964d0cc",
     "hasError": false,
     "id": "7c81bfd2-369e-4c3b-b879-f96d7535e8c1",
     "outputs": [
      {
       "data": {
        "text/plain": "<xarray.Dataset>\nDimensions:  (L: 12, M: 20, S: 456, X: 360, Y: 181)\nCoordinates:\n  * S        (S) float32 252.0 253.0 254.0 255.0 ... 704.0 705.0 706.0 707.0\n  * X        (X) float32 0.0 1.0 2.0 3.0 4.0 ... 355.0 356.0 357.0 358.0 359.0\n  * L        (L) float32 0.5 1.5 2.5 3.5 4.5 5.5 6.5 7.5 8.5 9.5 10.5 11.5\n  * Y        (Y) float32 -90.0 -89.0 -88.0 -87.0 -86.0 ... 87.0 88.0 89.0 90.0\n  * M        (M) float32 1.0 2.0 3.0 4.0 5.0 6.0 ... 16.0 17.0 18.0 19.0 20.0\nData variables:\n    hgt      (S, M, L, Y, X) float32 ...\nAttributes:\n    Conventions:  IRIDL"
       },
       "execution_count": 35,
       "metadata": {},
       "output_type": "execute_result"
      }
     ],
     "persistentId": "5af80a8d-e0f4-4d6f-ba2b-a0d97d3c9f6e",
     "text": "dset.sel(P2=500).drop('P2')"
    },
    "executionTime": "2019-12-09T00:36:40.887Z"
   },
   {
    "cell": {
     "executionCount": 36,
     "executionEventId": "0b228b78-089a-488c-a46e-3b1c123ca585",
     "hasError": false,
     "id": "1654bb8f-54a7-47d5-8d11-974df671cb14",
     "outputs": [],
     "persistentId": "fd29e246-14ef-41bb-b3d1-21c385096522",
     "text": "%matplotlib inline\nfrom matplotlib import pyplot as plt"
    },
    "executionTime": "2019-12-09T00:37:36.821Z"
   },
   {
    "cell": {
     "executionCount": 37,
     "executionEventId": "3dce839e-6b57-40d4-bb74-c0fea509bb9d",
     "hasError": false,
     "id": "98d427fe-98b5-4177-aa5f-8d719769ca1e",
     "outputs": [],
     "persistentId": "b548e22d-87af-4ea0-89f0-03d24013b895",
     "text": "import os \nimport sys \nimport pathlib"
    },
    "executionTime": "2019-12-09T00:37:36.927Z"
   },
   {
    "cell": {
     "executionCount": 38,
     "executionEventId": "6aca0308-77a3-49ba-968b-db096827f5b1",
     "hasError": false,
     "id": "a15a15c7-f635-4a13-8f3c-ec85c768fb7b",
     "outputs": [],
     "persistentId": "21fa21be-dc9a-42a6-afc9-60a911d8394d",
     "text": "from datetime import datetime, timedelta\nimport calendar\nfrom dateutil import relativedelta"
    },
    "executionTime": "2019-12-09T00:37:37.080Z"
   },
   {
    "cell": {
     "executionCount": 39,
     "executionEventId": "dacfc6d2-f9da-40ea-baa0-94ee357525a0",
     "hasError": false,
     "id": "6be31241-e0f0-4721-b5dd-b05dc5bb70ee",
     "outputs": [],
     "persistentId": "b77a4f79-bc6f-472a-9f47-349c86fc0da8",
     "text": "import numpy as np \nimport pandas as pd \nimport xarray as xr"
    },
    "executionTime": "2019-12-09T00:37:37.215Z"
   },
   {
    "cell": {
     "executionCount": 40,
     "executionEventId": "ac3c69d5-3828-434a-b3be-a5f2a5367e68",
     "hasError": false,
     "id": "0e0a8ecb-8a7a-41cc-8333-0d792b1f0da5",
     "outputs": [],
     "persistentId": "aa44e8fa-1969-4cc9-81ff-c16e51f00daa",
     "text": "CWD = pathlib.Path.cwd()"
    },
    "executionTime": "2019-12-09T00:37:37.397Z"
   },
   {
    "cell": {
     "executionCount": 41,
     "executionEventId": "92da769f-59db-4615-8cdb-ba049ba2bd89",
     "hasError": false,
     "id": "24b26bec-9dde-487b-8faa-3c4b2e391864",
     "outputs": [],
     "persistentId": "f25bf7af-ae58-4cb1-8181-cfabedb0b5d7",
     "text": "HOME = pathlib.Path.home()"
    },
    "executionTime": "2019-12-09T00:37:37.505Z"
   },
   {
    "cell": {
     "executionCount": 42,
     "executionEventId": "e36c9b81-0de5-42ea-98a4-0838e715ef68",
     "hasError": false,
     "id": "6bf4f087-b757-4ce0-a3d2-039fc3ad8930",
     "outputs": [],
     "persistentId": "2556bfc4-3042-4823-95cc-1ec2416d7ec2",
     "text": "GCM = 'CanSIPSv2'"
    },
    "executionTime": "2019-12-09T00:37:37.755Z"
   },
   {
    "cell": {
     "executionCount": 43,
     "executionEventId": "d95292a8-d783-4fff-9a86-1157fee1134c",
     "hasError": false,
     "id": "9254cbec-e045-4067-8833-d010c1b66bcb",
     "outputs": [],
     "persistentId": "48a44f83-0ee0-4474-90be-7af6584ac99a",
     "text": "data_stream = 'HINDCAST'"
    },
    "executionTime": "2019-12-09T00:37:37.951Z"
   },
   {
    "cell": {
     "executionCount": 44,
     "executionEventId": "0c931c72-9464-44d3-bdbb-a75738f176a9",
     "hasError": false,
     "id": "7eaf07b2-18d6-4f0a-8930-b573d5bd1fcc",
     "outputs": [],
     "persistentId": "0ab39c8a-be7b-4f56-b6c3-aa7ae0acd5d1",
     "text": "dict_variables = {}\ndict_variables['PRECIP'] = 'prec'\ndict_variables['T2M'] = 'tref'\ndict_variables['SST'] = 'sst'\ndict_variables['Z500'] = 'hgt'"
    },
    "executionTime": "2019-12-09T00:37:38.279Z"
   },
   {
    "cell": {
     "executionCount": 45,
     "executionEventId": "3f1ce94c-b984-4375-a0ac-272137bb3577",
     "hasError": false,
     "id": "f6758bbf-2e88-4971-8027-af587cac4367",
     "outputs": [],
     "persistentId": "cc3b6012-d731-4822-b979-55e59e7ce7e0",
     "text": "dict_coords = {}\ndict_coords['L'] = 'step'\ndict_coords['M'] = 'member'\ndict_coords['S'] = 'time'\ndict_coords['X'] = 'lon'\ndict_coords['Y'] = 'lat'"
    },
    "executionTime": "2019-12-09T00:37:38.784Z"
   },
   {
    "cell": {
     "executionCount": 46,
     "executionEventId": "e5c7bf51-5f92-442d-b7b4-8cd0d1b7e3cb",
     "hasError": true,
     "id": "3810000a-daf0-44c0-b693-5af42b61da57",
     "outputs": [
      {
       "ename": "SyntaxError",
       "evalue": "invalid syntax (<ipython-input-46-dca9bcea80c8>, line 1)",
       "output_type": "error",
       "traceback": [
        "\u001b[0;36m  File \u001b[0;32m\"<ipython-input-46-dca9bcea80c8>\"\u001b[0;36m, line \u001b[0;32m1\u001b[0m\n\u001b[0;31m    http://iridl.ldeo.columbia.edu/SOURCES/.Models/.NMME/.CanSIPSv2/.HINDCAST/.MONTHLY/.hgt/dods\u001b[0m\n\u001b[0m          ^\u001b[0m\n\u001b[0;31mSyntaxError\u001b[0m\u001b[0;31m:\u001b[0m invalid syntax\n"
       ]
      }
     ],
     "persistentId": "f1933180-0dd5-4799-ab4d-7c97ee2dd284",
     "text": "http://iridl.ldeo.columbia.edu/SOURCES/.Models/.NMME/.CanSIPSv2/.HINDCAST/.MONTHLY/.hgt/dods"
    },
    "executionTime": "2019-12-09T00:37:39.722Z"
   },
   {
    "cell": {
     "executionCount": 47,
     "executionEventId": "d2c02f3f-4786-4b27-98cd-8ca7fc7cedbd",
     "hasError": false,
     "id": "7ea0a28b-bf32-4472-816b-c43aec585b49",
     "outputs": [],
     "persistentId": "39f33daf-996a-4504-aecd-7f64325fd001",
     "text": "variable = 'Z500'"
    },
    "executionTime": "2019-12-09T00:37:42.504Z"
   },
   {
    "cell": {
     "executionCount": 48,
     "executionEventId": "7c933faf-95eb-4a40-949a-3c6a08037d0b",
     "hasError": false,
     "id": "1654bb8f-54a7-47d5-8d11-974df671cb14",
     "outputs": [],
     "persistentId": "fd29e246-14ef-41bb-b3d1-21c385096522",
     "text": "%matplotlib inline\nfrom matplotlib import pyplot as plt"
    },
    "executionTime": "2019-12-09T00:38:00.153Z"
   },
   {
    "cell": {
     "executionCount": 49,
     "executionEventId": "f57c8876-0c22-4932-95ea-822c85e999a3",
     "hasError": false,
     "id": "98d427fe-98b5-4177-aa5f-8d719769ca1e",
     "outputs": [],
     "persistentId": "b548e22d-87af-4ea0-89f0-03d24013b895",
     "text": "import os \nimport sys \nimport pathlib"
    },
    "executionTime": "2019-12-09T00:38:00.330Z"
   },
   {
    "cell": {
     "executionCount": 50,
     "executionEventId": "49642473-9197-4f9c-baaa-dce116eb1447",
     "hasError": false,
     "id": "a15a15c7-f635-4a13-8f3c-ec85c768fb7b",
     "outputs": [],
     "persistentId": "21fa21be-dc9a-42a6-afc9-60a911d8394d",
     "text": "from datetime import datetime, timedelta\nimport calendar\nfrom dateutil import relativedelta"
    },
    "executionTime": "2019-12-09T00:38:00.502Z"
   },
   {
    "cell": {
     "executionCount": 51,
     "executionEventId": "48a82768-e90f-4ae7-96db-2e335c003608",
     "hasError": false,
     "id": "6be31241-e0f0-4721-b5dd-b05dc5bb70ee",
     "outputs": [],
     "persistentId": "b77a4f79-bc6f-472a-9f47-349c86fc0da8",
     "text": "import numpy as np \nimport pandas as pd \nimport xarray as xr"
    },
    "executionTime": "2019-12-09T00:38:00.707Z"
   },
   {
    "cell": {
     "executionCount": 52,
     "executionEventId": "fdeced47-3870-4e19-a7c8-7da651e9adc6",
     "hasError": false,
     "id": "0e0a8ecb-8a7a-41cc-8333-0d792b1f0da5",
     "outputs": [],
     "persistentId": "aa44e8fa-1969-4cc9-81ff-c16e51f00daa",
     "text": "CWD = pathlib.Path.cwd()"
    },
    "executionTime": "2019-12-09T00:38:00.865Z"
   },
   {
    "cell": {
     "executionCount": 53,
     "executionEventId": "c060c40d-dc2c-47ff-9886-99d036a66f0d",
     "hasError": false,
     "id": "24b26bec-9dde-487b-8faa-3c4b2e391864",
     "outputs": [],
     "persistentId": "f25bf7af-ae58-4cb1-8181-cfabedb0b5d7",
     "text": "HOME = pathlib.Path.home()"
    },
    "executionTime": "2019-12-09T00:38:01.063Z"
   },
   {
    "cell": {
     "executionCount": 54,
     "executionEventId": "8c17e8b1-fd1e-4125-a27a-7a60dcaf0f71",
     "hasError": false,
     "id": "6bf4f087-b757-4ce0-a3d2-039fc3ad8930",
     "outputs": [],
     "persistentId": "2556bfc4-3042-4823-95cc-1ec2416d7ec2",
     "text": "GCM = 'CanSIPSv2'"
    },
    "executionTime": "2019-12-09T00:38:01.205Z"
   },
   {
    "cell": {
     "executionCount": 55,
     "executionEventId": "187a8324-e544-4dcb-9412-773c58231821",
     "hasError": false,
     "id": "9254cbec-e045-4067-8833-d010c1b66bcb",
     "outputs": [],
     "persistentId": "48a44f83-0ee0-4474-90be-7af6584ac99a",
     "text": "data_stream = 'HINDCAST'"
    },
    "executionTime": "2019-12-09T00:38:01.426Z"
   },
   {
    "cell": {
     "executionCount": 56,
     "executionEventId": "17dfccfa-4a4f-4020-a636-c47b36b465ab",
     "hasError": false,
     "id": "7eaf07b2-18d6-4f0a-8930-b573d5bd1fcc",
     "outputs": [],
     "persistentId": "0ab39c8a-be7b-4f56-b6c3-aa7ae0acd5d1",
     "text": "dict_variables = {}\ndict_variables['PRECIP'] = 'prec'\ndict_variables['T2M'] = 'tref'\ndict_variables['SST'] = 'sst'\ndict_variables['Z500'] = 'hgt'"
    },
    "executionTime": "2019-12-09T00:38:01.628Z"
   },
   {
    "cell": {
     "executionCount": 57,
     "executionEventId": "7aff29d9-6039-4ca8-913d-c43d96c473b4",
     "hasError": false,
     "id": "f6758bbf-2e88-4971-8027-af587cac4367",
     "outputs": [],
     "persistentId": "cc3b6012-d731-4822-b979-55e59e7ce7e0",
     "text": "dict_coords = {}\ndict_coords['L'] = 'step'\ndict_coords['M'] = 'member'\ndict_coords['S'] = 'time'\ndict_coords['X'] = 'lon'\ndict_coords['Y'] = 'lat'"
    },
    "executionTime": "2019-12-09T00:38:01.794Z"
   },
   {
    "cell": {
     "executionCount": 1,
     "executionEventId": "b3f72069-f671-4b75-93a6-bfffb968fe0b",
     "hasError": false,
     "id": "1654bb8f-54a7-47d5-8d11-974df671cb14",
     "outputs": [],
     "persistentId": "fd29e246-14ef-41bb-b3d1-21c385096522",
     "text": "%matplotlib inline\nfrom matplotlib import pyplot as plt"
    },
    "executionTime": "2019-12-09T00:43:20.737Z"
   },
   {
    "cell": {
     "executionCount": 2,
     "executionEventId": "2b740929-19ae-4829-9440-7cfa4e0a7eab",
     "hasError": false,
     "id": "98d427fe-98b5-4177-aa5f-8d719769ca1e",
     "outputs": [],
     "persistentId": "b548e22d-87af-4ea0-89f0-03d24013b895",
     "text": "import os \nimport sys \nimport pathlib"
    },
    "executionTime": "2019-12-09T00:43:20.744Z"
   },
   {
    "cell": {
     "executionCount": 3,
     "executionEventId": "6f14dc45-c00a-447c-bb4f-725173086a04",
     "hasError": false,
     "id": "a15a15c7-f635-4a13-8f3c-ec85c768fb7b",
     "outputs": [],
     "persistentId": "21fa21be-dc9a-42a6-afc9-60a911d8394d",
     "text": "from datetime import datetime, timedelta\nimport calendar\nfrom dateutil import relativedelta"
    },
    "executionTime": "2019-12-09T00:43:20.945Z"
   },
   {
    "cell": {
     "executionCount": 4,
     "executionEventId": "aef635c2-9336-4903-be27-f2c664da178c",
     "hasError": false,
     "id": "6be31241-e0f0-4721-b5dd-b05dc5bb70ee",
     "outputs": [],
     "persistentId": "b77a4f79-bc6f-472a-9f47-349c86fc0da8",
     "text": "import numpy as np \nimport pandas as pd \nimport xarray as xr"
    },
    "executionTime": "2019-12-09T00:43:21.473Z"
   },
   {
    "cell": {
     "executionCount": 5,
     "executionEventId": "9a61a5ee-34c2-4e24-b824-6a9dc78c28b5",
     "hasError": false,
     "id": "0e0a8ecb-8a7a-41cc-8333-0d792b1f0da5",
     "outputs": [],
     "persistentId": "aa44e8fa-1969-4cc9-81ff-c16e51f00daa",
     "text": "CWD = pathlib.Path.cwd()"
    },
    "executionTime": "2019-12-09T00:43:21.481Z"
   },
   {
    "cell": {
     "executionCount": 6,
     "executionEventId": "f895c11e-cb00-458b-b830-c44f837e3bc3",
     "hasError": false,
     "id": "24b26bec-9dde-487b-8faa-3c4b2e391864",
     "outputs": [],
     "persistentId": "f25bf7af-ae58-4cb1-8181-cfabedb0b5d7",
     "text": "HOME = pathlib.Path.home()"
    },
    "executionTime": "2019-12-09T00:43:21.488Z"
   },
   {
    "cell": {
     "executionCount": 7,
     "executionEventId": "4a42a210-38b9-4354-9f7c-76e2ba57e0c2",
     "hasError": false,
     "id": "6bf4f087-b757-4ce0-a3d2-039fc3ad8930",
     "outputs": [],
     "persistentId": "2556bfc4-3042-4823-95cc-1ec2416d7ec2",
     "text": "GCM = 'CanSIPSv2'"
    },
    "executionTime": "2019-12-09T00:43:21.653Z"
   },
   {
    "cell": {
     "executionCount": 8,
     "executionEventId": "d84f6c28-2a78-4b8d-b971-0d47d033671a",
     "hasError": false,
     "id": "9254cbec-e045-4067-8833-d010c1b66bcb",
     "outputs": [],
     "persistentId": "48a44f83-0ee0-4474-90be-7af6584ac99a",
     "text": "data_stream = 'HINDCAST'"
    },
    "executionTime": "2019-12-09T00:43:22.098Z"
   },
   {
    "cell": {
     "executionCount": 9,
     "executionEventId": "d8f63d63-8dd2-4b0b-a847-388b59d5d97d",
     "hasError": false,
     "id": "7eaf07b2-18d6-4f0a-8930-b573d5bd1fcc",
     "outputs": [],
     "persistentId": "0ab39c8a-be7b-4f56-b6c3-aa7ae0acd5d1",
     "text": "dict_variables = {}\ndict_variables['PRECIP'] = 'prec'\ndict_variables['T2M'] = 'tref'\ndict_variables['SST'] = 'sst'\ndict_variables['Z500'] = 'hgt'"
    },
    "executionTime": "2019-12-09T00:43:23.421Z"
   },
   {
    "cell": {
     "executionCount": 10,
     "executionEventId": "3577f1cd-dce0-4be2-899a-59526ca95412",
     "hasError": false,
     "id": "f6758bbf-2e88-4971-8027-af587cac4367",
     "outputs": [],
     "persistentId": "cc3b6012-d731-4822-b979-55e59e7ce7e0",
     "text": "dict_coords = {}\ndict_coords['L'] = 'step'\ndict_coords['M'] = 'member'\ndict_coords['S'] = 'time'\ndict_coords['X'] = 'lon'\ndict_coords['Y'] = 'lat'"
    },
    "executionTime": "2019-12-09T00:43:23.906Z"
   },
   {
    "cell": {
     "executionCount": 1,
     "executionEventId": "96f19e36-54f9-461c-80b6-fa9f0fc52b48",
     "hasError": false,
     "id": "61d54f18-8810-4719-9306-ae26bc74d88e",
     "outputs": [],
     "persistentId": "fd29e246-14ef-41bb-b3d1-21c385096522",
     "text": "%matplotlib inline\nfrom matplotlib import pyplot as plt"
    },
    "executionTime": "2019-12-09T00:47:00.700Z"
   },
   {
    "cell": {
     "executionCount": 2,
     "executionEventId": "71b414eb-1c32-4884-8b3c-e2af6f414488",
     "hasError": false,
     "id": "640bbfe0-0294-44b7-8930-baaa6cf716d6",
     "outputs": [],
     "persistentId": "b548e22d-87af-4ea0-89f0-03d24013b895",
     "text": "import os \nimport sys \nimport pathlib"
    },
    "executionTime": "2019-12-09T00:47:00.702Z"
   },
   {
    "cell": {
     "executionCount": 3,
     "executionEventId": "1096baf6-5180-426d-bff2-a39b5c72b636",
     "hasError": false,
     "id": "74d5d07a-2502-4089-a6a1-1e4a5514f9fb",
     "outputs": [],
     "persistentId": "21fa21be-dc9a-42a6-afc9-60a911d8394d",
     "text": "from datetime import datetime, timedelta\nimport calendar\nfrom dateutil import relativedelta"
    },
    "executionTime": "2019-12-09T00:47:00.703Z"
   },
   {
    "cell": {
     "executionCount": 4,
     "executionEventId": "cbc3c405-0ddc-4c35-b008-d5cd8e578d29",
     "hasError": false,
     "id": "92d9ee6e-ec7e-4b87-b162-63654713699e",
     "outputs": [],
     "persistentId": "b77a4f79-bc6f-472a-9f47-349c86fc0da8",
     "text": "import numpy as np \nimport pandas as pd \nimport xarray as xr"
    },
    "executionTime": "2019-12-09T00:47:01.001Z"
   },
   {
    "cell": {
     "executionCount": 5,
     "executionEventId": "9289b495-19f3-4442-b3e5-1d9ed9d81610",
     "hasError": false,
     "id": "5e43f6ff-9959-45a8-936a-f5a92e662513",
     "outputs": [],
     "persistentId": "aa44e8fa-1969-4cc9-81ff-c16e51f00daa",
     "text": "CWD = pathlib.Path.cwd()"
    },
    "executionTime": "2019-12-09T00:47:01.008Z"
   },
   {
    "cell": {
     "executionCount": 6,
     "executionEventId": "6c8b3404-7eb0-4a2a-93d9-d6a077b82ef2",
     "hasError": false,
     "id": "4a91eb0d-b25e-4baa-ad73-72f2c4dc4214",
     "outputs": [],
     "persistentId": "f25bf7af-ae58-4cb1-8181-cfabedb0b5d7",
     "text": "HOME = pathlib.Path.home()"
    },
    "executionTime": "2019-12-09T00:47:01.013Z"
   },
   {
    "cell": {
     "executionCount": 7,
     "executionEventId": "1920c279-f483-47e8-93a0-1f5b26ba4b50",
     "hasError": false,
     "id": "efdc05bb-485c-4ba7-9ff6-f198e7cd7c1e",
     "outputs": [],
     "persistentId": "2556bfc4-3042-4823-95cc-1ec2416d7ec2",
     "text": "GCM = 'CanSIPSv2'"
    },
    "executionTime": "2019-12-09T00:47:01.018Z"
   },
   {
    "cell": {
     "executionCount": 8,
     "executionEventId": "8d9a833d-6e6c-4b0e-bb7b-f10e6240a45e",
     "hasError": false,
     "id": "23cfaea8-16c1-4f0d-9511-51b128eeb05f",
     "outputs": [],
     "persistentId": "48a44f83-0ee0-4474-90be-7af6584ac99a",
     "text": "data_stream = 'HINDCAST'"
    },
    "executionTime": "2019-12-09T00:47:01.026Z"
   },
   {
    "cell": {
     "executionCount": 9,
     "executionEventId": "76c35591-10f0-4f87-a5e5-663f3c3f9a45",
     "hasError": false,
     "id": "6c5d1e06-334f-4528-80bd-583d5c6ab2b6",
     "outputs": [],
     "persistentId": "0ab39c8a-be7b-4f56-b6c3-aa7ae0acd5d1",
     "text": "dict_variables = {}\ndict_variables['PRECIP'] = 'prec'\ndict_variables['T2M'] = 'tref'\ndict_variables['SST'] = 'sst'\ndict_variables['Z500'] = 'hgt'"
    },
    "executionTime": "2019-12-09T00:47:01.154Z"
   },
   {
    "cell": {
     "executionCount": 10,
     "executionEventId": "dc742be3-84a6-4332-9951-45659c5c0370",
     "hasError": false,
     "id": "6cecd95d-166d-4ae5-9082-c32b9086bcc2",
     "outputs": [],
     "persistentId": "cc3b6012-d731-4822-b979-55e59e7ce7e0",
     "text": "dict_coords = {}\ndict_coords['L'] = 'step'\ndict_coords['M'] = 'member'\ndict_coords['S'] = 'time'\ndict_coords['X'] = 'lon'\ndict_coords['Y'] = 'lat'"
    },
    "executionTime": "2019-12-09T00:47:01.157Z"
   },
   {
    "cell": {
     "executionCount": 1,
     "executionEventId": "4a050bcf-1702-41d8-ba58-71adf0dda1b8",
     "hasError": false,
     "id": "61d54f18-8810-4719-9306-ae26bc74d88e",
     "outputs": [],
     "persistentId": "fd29e246-14ef-41bb-b3d1-21c385096522",
     "text": "%matplotlib inline\nfrom matplotlib import pyplot as plt"
    },
    "executionTime": "2019-12-09T20:50:39.333Z"
   },
   {
    "cell": {
     "executionCount": 2,
     "executionEventId": "9112ea74-f18d-4950-b881-497d8b8d19d5",
     "hasError": false,
     "id": "640bbfe0-0294-44b7-8930-baaa6cf716d6",
     "outputs": [],
     "persistentId": "b548e22d-87af-4ea0-89f0-03d24013b895",
     "text": "import os \nimport sys \nimport pathlib"
    },
    "executionTime": "2019-12-09T20:50:39.393Z"
   },
   {
    "cell": {
     "executionCount": 3,
     "executionEventId": "d9cd6078-aa42-45fc-bb6b-c08d065b8df4",
     "hasError": false,
     "id": "74d5d07a-2502-4089-a6a1-1e4a5514f9fb",
     "outputs": [],
     "persistentId": "21fa21be-dc9a-42a6-afc9-60a911d8394d",
     "text": "from datetime import datetime, timedelta\nimport calendar\nfrom dateutil import relativedelta"
    },
    "executionTime": "2019-12-09T20:50:39.885Z"
   },
   {
    "cell": {
     "executionCount": 4,
     "executionEventId": "a2983b87-8de6-49ac-b6b9-76adf43cae3e",
     "hasError": false,
     "id": "92d9ee6e-ec7e-4b87-b162-63654713699e",
     "outputs": [],
     "persistentId": "b77a4f79-bc6f-472a-9f47-349c86fc0da8",
     "text": "import numpy as np \nimport pandas as pd \nimport xarray as xr"
    },
    "executionTime": "2019-12-09T20:50:40.424Z"
   },
   {
    "cell": {
     "executionCount": 5,
     "executionEventId": "4ac74fc6-d2de-4b5a-81dd-55fd68d50fc2",
     "hasError": false,
     "id": "5e43f6ff-9959-45a8-936a-f5a92e662513",
     "outputs": [],
     "persistentId": "aa44e8fa-1969-4cc9-81ff-c16e51f00daa",
     "text": "CWD = pathlib.Path.cwd()"
    },
    "executionTime": "2019-12-09T20:50:40.428Z"
   },
   {
    "cell": {
     "executionCount": 6,
     "executionEventId": "43c8d7d9-672a-4c4c-9e5f-6930b22c1a63",
     "hasError": false,
     "id": "4a91eb0d-b25e-4baa-ad73-72f2c4dc4214",
     "outputs": [],
     "persistentId": "f25bf7af-ae58-4cb1-8181-cfabedb0b5d7",
     "text": "HOME = pathlib.Path.home()"
    },
    "executionTime": "2019-12-09T20:50:40.481Z"
   },
   {
    "cell": {
     "executionCount": 7,
     "executionEventId": "e82cbccf-d7eb-4a50-815f-38256d3550d8",
     "hasError": false,
     "id": "efdc05bb-485c-4ba7-9ff6-f198e7cd7c1e",
     "outputs": [],
     "persistentId": "2556bfc4-3042-4823-95cc-1ec2416d7ec2",
     "text": "GCM = 'CanSIPSv2'"
    },
    "executionTime": "2019-12-09T20:50:41.095Z"
   },
   {
    "cell": {
     "executionCount": 8,
     "executionEventId": "861ac3ca-baef-4b41-9daf-47f81ca471ed",
     "hasError": false,
     "id": "23cfaea8-16c1-4f0d-9511-51b128eeb05f",
     "outputs": [],
     "persistentId": "48a44f83-0ee0-4474-90be-7af6584ac99a",
     "text": "data_stream = 'HINDCAST'"
    },
    "executionTime": "2019-12-09T20:50:42.016Z"
   },
   {
    "cell": {
     "executionCount": 9,
     "executionEventId": "050267e6-f53c-486b-85d4-39ebb985e6a3",
     "hasError": false,
     "id": "6c5d1e06-334f-4528-80bd-583d5c6ab2b6",
     "outputs": [],
     "persistentId": "0ab39c8a-be7b-4f56-b6c3-aa7ae0acd5d1",
     "text": "dict_variables = {}\ndict_variables['PRECIP'] = 'prec'\ndict_variables['T2M'] = 'tref'\ndict_variables['SST'] = 'sst'\ndict_variables['Z500'] = 'hgt'"
    },
    "executionTime": "2019-12-09T20:50:42.790Z"
   },
   {
    "cell": {
     "executionCount": 10,
     "executionEventId": "eaf26018-6b81-4d9f-9c5d-afe56fdf5ef7",
     "hasError": false,
     "id": "6cecd95d-166d-4ae5-9082-c32b9086bcc2",
     "outputs": [],
     "persistentId": "cc3b6012-d731-4822-b979-55e59e7ce7e0",
     "text": "dict_coords = {}\ndict_coords['L'] = 'step'\ndict_coords['M'] = 'member'\ndict_coords['S'] = 'time'\ndict_coords['X'] = 'lon'\ndict_coords['Y'] = 'lat'"
    },
    "executionTime": "2019-12-09T20:50:44.291Z"
   },
   {
    "cell": {
     "executionCount": 11,
     "executionEventId": "471aafe1-6467-4189-bd30-f4105c86ce7e",
     "hasError": true,
     "id": "c941f0d3-6a1d-4a3e-bacf-4cfaa522b5f2",
     "outputs": [
      {
       "ename": "DateParseError",
       "evalue": "Unknown datetime string format, unable to parse: 1991-0.3-01",
       "output_type": "error",
       "traceback": [
        "\u001b[0;31m---------------------------------------------------------------------------\u001b[0m",
        "\u001b[0;31mValueError\u001b[0m                                Traceback (most recent call last)",
        "\u001b[0;32mpandas/_libs/tslibs/parsing.pyx\u001b[0m in \u001b[0;36mpandas._libs.tslibs.parsing.parse_datetime_string_with_reso\u001b[0;34m()\u001b[0m\n",
        "\u001b[0;32mpandas/_libs/tslibs/parsing.pyx\u001b[0m in \u001b[0;36mpandas._libs.tslibs.parsing.dateutil_parse\u001b[0;34m()\u001b[0m\n",
        "\u001b[0;31mValueError\u001b[0m: Unknown datetime string format, unable to parse: 1991-0.3-01",
        "\nDuring handling of the above exception, another exception occurred:\n",
        "\u001b[0;31mDateParseError\u001b[0m                            Traceback (most recent call last)",
        "\u001b[0;32m<ipython-input-11-2616d7e094da>\u001b[0m in \u001b[0;36m<module>\u001b[0;34m\u001b[0m\n\u001b[1;32m     22\u001b[0m \u001b[0;34m\u001b[0m\u001b[0m\n\u001b[1;32m     23\u001b[0m     \u001b[0;31m# here select the time period\u001b[0m\u001b[0;34m\u001b[0m\u001b[0;34m\u001b[0m\u001b[0;34m\u001b[0m\u001b[0m\n\u001b[0;32m---> 24\u001b[0;31m     \u001b[0mdset\u001b[0m \u001b[0;34m=\u001b[0m \u001b[0mdset\u001b[0m\u001b[0;34m.\u001b[0m\u001b[0msel\u001b[0m\u001b[0;34m(\u001b[0m\u001b[0mtime\u001b[0m\u001b[0;34m=\u001b[0m\u001b[0mslice\u001b[0m\u001b[0;34m(\u001b[0m\u001b[0;34m'1991-0.3-01'\u001b[0m\u001b[0;34m,\u001b[0m \u001b[0;32mNone\u001b[0m\u001b[0;34m)\u001b[0m\u001b[0;34m)\u001b[0m\u001b[0;34m\u001b[0m\u001b[0;34m\u001b[0m\u001b[0m\n\u001b[0m\u001b[1;32m     25\u001b[0m \u001b[0;34m\u001b[0m\u001b[0m\n\u001b[1;32m     26\u001b[0m     \u001b[0;32mfor\u001b[0m \u001b[0mdate\u001b[0m \u001b[0;32min\u001b[0m \u001b[0mdset\u001b[0m\u001b[0;34m.\u001b[0m\u001b[0mtime\u001b[0m\u001b[0;34m:\u001b[0m\u001b[0;34m\u001b[0m\u001b[0;34m\u001b[0m\u001b[0m\n",
        "\u001b[0;32m~/anaconda3/envs/pangeo/lib/python3.7/site-packages/xarray/core/dataset.py\u001b[0m in \u001b[0;36msel\u001b[0;34m(self, indexers, method, tolerance, drop, **indexers_kwargs)\u001b[0m\n\u001b[1;32m   1998\u001b[0m         \u001b[0mindexers\u001b[0m \u001b[0;34m=\u001b[0m \u001b[0meither_dict_or_kwargs\u001b[0m\u001b[0;34m(\u001b[0m\u001b[0mindexers\u001b[0m\u001b[0;34m,\u001b[0m \u001b[0mindexers_kwargs\u001b[0m\u001b[0;34m,\u001b[0m \u001b[0;34m\"sel\"\u001b[0m\u001b[0;34m)\u001b[0m\u001b[0;34m\u001b[0m\u001b[0;34m\u001b[0m\u001b[0m\n\u001b[1;32m   1999\u001b[0m         pos_indexers, new_indexes = remap_label_indexers(\n\u001b[0;32m-> 2000\u001b[0;31m             \u001b[0mself\u001b[0m\u001b[0;34m,\u001b[0m \u001b[0mindexers\u001b[0m\u001b[0;34m=\u001b[0m\u001b[0mindexers\u001b[0m\u001b[0;34m,\u001b[0m \u001b[0mmethod\u001b[0m\u001b[0;34m=\u001b[0m\u001b[0mmethod\u001b[0m\u001b[0;34m,\u001b[0m \u001b[0mtolerance\u001b[0m\u001b[0;34m=\u001b[0m\u001b[0mtolerance\u001b[0m\u001b[0;34m\u001b[0m\u001b[0;34m\u001b[0m\u001b[0m\n\u001b[0m\u001b[1;32m   2001\u001b[0m         )\n\u001b[1;32m   2002\u001b[0m         \u001b[0mresult\u001b[0m \u001b[0;34m=\u001b[0m \u001b[0mself\u001b[0m\u001b[0;34m.\u001b[0m\u001b[0misel\u001b[0m\u001b[0;34m(\u001b[0m\u001b[0mindexers\u001b[0m\u001b[0;34m=\u001b[0m\u001b[0mpos_indexers\u001b[0m\u001b[0;34m,\u001b[0m \u001b[0mdrop\u001b[0m\u001b[0;34m=\u001b[0m\u001b[0mdrop\u001b[0m\u001b[0;34m)\u001b[0m\u001b[0;34m\u001b[0m\u001b[0;34m\u001b[0m\u001b[0m\n",
        "\u001b[0;32m~/anaconda3/envs/pangeo/lib/python3.7/site-packages/xarray/core/coordinates.py\u001b[0m in \u001b[0;36mremap_label_indexers\u001b[0;34m(obj, indexers, method, tolerance, **indexers_kwargs)\u001b[0m\n\u001b[1;32m    390\u001b[0m \u001b[0;34m\u001b[0m\u001b[0m\n\u001b[1;32m    391\u001b[0m     pos_indexers, new_indexes = indexing.remap_label_indexers(\n\u001b[0;32m--> 392\u001b[0;31m         \u001b[0mobj\u001b[0m\u001b[0;34m,\u001b[0m \u001b[0mv_indexers\u001b[0m\u001b[0;34m,\u001b[0m \u001b[0mmethod\u001b[0m\u001b[0;34m=\u001b[0m\u001b[0mmethod\u001b[0m\u001b[0;34m,\u001b[0m \u001b[0mtolerance\u001b[0m\u001b[0;34m=\u001b[0m\u001b[0mtolerance\u001b[0m\u001b[0;34m\u001b[0m\u001b[0;34m\u001b[0m\u001b[0m\n\u001b[0m\u001b[1;32m    393\u001b[0m     )\n\u001b[1;32m    394\u001b[0m     \u001b[0;31m# attach indexer's coordinate to pos_indexers\u001b[0m\u001b[0;34m\u001b[0m\u001b[0;34m\u001b[0m\u001b[0;34m\u001b[0m\u001b[0m\n",
        "\u001b[0;32m~/anaconda3/envs/pangeo/lib/python3.7/site-packages/xarray/core/indexing.py\u001b[0m in \u001b[0;36mremap_label_indexers\u001b[0;34m(data_obj, indexers, method, tolerance)\u001b[0m\n\u001b[1;32m    259\u001b[0m             \u001b[0mcoords_dtype\u001b[0m \u001b[0;34m=\u001b[0m \u001b[0mdata_obj\u001b[0m\u001b[0;34m.\u001b[0m\u001b[0mcoords\u001b[0m\u001b[0;34m[\u001b[0m\u001b[0mdim\u001b[0m\u001b[0;34m]\u001b[0m\u001b[0;34m.\u001b[0m\u001b[0mdtype\u001b[0m\u001b[0;34m\u001b[0m\u001b[0;34m\u001b[0m\u001b[0m\n\u001b[1;32m    260\u001b[0m             \u001b[0mlabel\u001b[0m \u001b[0;34m=\u001b[0m \u001b[0mmaybe_cast_to_coords_dtype\u001b[0m\u001b[0;34m(\u001b[0m\u001b[0mlabel\u001b[0m\u001b[0;34m,\u001b[0m \u001b[0mcoords_dtype\u001b[0m\u001b[0;34m)\u001b[0m\u001b[0;34m\u001b[0m\u001b[0;34m\u001b[0m\u001b[0m\n\u001b[0;32m--> 261\u001b[0;31m             \u001b[0midxr\u001b[0m\u001b[0;34m,\u001b[0m \u001b[0mnew_idx\u001b[0m \u001b[0;34m=\u001b[0m \u001b[0mconvert_label_indexer\u001b[0m\u001b[0;34m(\u001b[0m\u001b[0mindex\u001b[0m\u001b[0;34m,\u001b[0m \u001b[0mlabel\u001b[0m\u001b[0;34m,\u001b[0m \u001b[0mdim\u001b[0m\u001b[0;34m,\u001b[0m \u001b[0mmethod\u001b[0m\u001b[0;34m,\u001b[0m \u001b[0mtolerance\u001b[0m\u001b[0;34m)\u001b[0m\u001b[0;34m\u001b[0m\u001b[0;34m\u001b[0m\u001b[0m\n\u001b[0m\u001b[1;32m    262\u001b[0m             \u001b[0mpos_indexers\u001b[0m\u001b[0;34m[\u001b[0m\u001b[0mdim\u001b[0m\u001b[0;34m]\u001b[0m \u001b[0;34m=\u001b[0m \u001b[0midxr\u001b[0m\u001b[0;34m\u001b[0m\u001b[0;34m\u001b[0m\u001b[0m\n\u001b[1;32m    263\u001b[0m             \u001b[0;32mif\u001b[0m \u001b[0mnew_idx\u001b[0m \u001b[0;32mis\u001b[0m \u001b[0;32mnot\u001b[0m \u001b[0;32mNone\u001b[0m\u001b[0;34m:\u001b[0m\u001b[0;34m\u001b[0m\u001b[0;34m\u001b[0m\u001b[0m\n",
        "\u001b[0;32m~/anaconda3/envs/pangeo/lib/python3.7/site-packages/xarray/core/indexing.py\u001b[0m in \u001b[0;36mconvert_label_indexer\u001b[0;34m(index, label, index_name, method, tolerance)\u001b[0m\n\u001b[1;32m    123\u001b[0m             \u001b[0m_sanitize_slice_element\u001b[0m\u001b[0;34m(\u001b[0m\u001b[0mlabel\u001b[0m\u001b[0;34m.\u001b[0m\u001b[0mstart\u001b[0m\u001b[0;34m)\u001b[0m\u001b[0;34m,\u001b[0m\u001b[0;34m\u001b[0m\u001b[0;34m\u001b[0m\u001b[0m\n\u001b[1;32m    124\u001b[0m             \u001b[0m_sanitize_slice_element\u001b[0m\u001b[0;34m(\u001b[0m\u001b[0mlabel\u001b[0m\u001b[0;34m.\u001b[0m\u001b[0mstop\u001b[0m\u001b[0;34m)\u001b[0m\u001b[0;34m,\u001b[0m\u001b[0;34m\u001b[0m\u001b[0;34m\u001b[0m\u001b[0m\n\u001b[0;32m--> 125\u001b[0;31m             \u001b[0m_sanitize_slice_element\u001b[0m\u001b[0;34m(\u001b[0m\u001b[0mlabel\u001b[0m\u001b[0;34m.\u001b[0m\u001b[0mstep\u001b[0m\u001b[0;34m)\u001b[0m\u001b[0;34m,\u001b[0m\u001b[0;34m\u001b[0m\u001b[0;34m\u001b[0m\u001b[0m\n\u001b[0m\u001b[1;32m    126\u001b[0m         )\n\u001b[1;32m    127\u001b[0m         \u001b[0;32mif\u001b[0m \u001b[0;32mnot\u001b[0m \u001b[0misinstance\u001b[0m\u001b[0;34m(\u001b[0m\u001b[0mindexer\u001b[0m\u001b[0;34m,\u001b[0m \u001b[0mslice\u001b[0m\u001b[0;34m)\u001b[0m\u001b[0;34m:\u001b[0m\u001b[0;34m\u001b[0m\u001b[0;34m\u001b[0m\u001b[0m\n",
        "\u001b[0;32m~/anaconda3/envs/pangeo/lib/python3.7/site-packages/pandas/core/indexes/datetimes.py\u001b[0m in \u001b[0;36mslice_indexer\u001b[0;34m(self, start, end, step, kind)\u001b[0m\n\u001b[1;32m   1149\u001b[0m \u001b[0;34m\u001b[0m\u001b[0m\n\u001b[1;32m   1150\u001b[0m         \u001b[0;32mtry\u001b[0m\u001b[0;34m:\u001b[0m\u001b[0;34m\u001b[0m\u001b[0;34m\u001b[0m\u001b[0m\n\u001b[0;32m-> 1151\u001b[0;31m             \u001b[0;32mreturn\u001b[0m \u001b[0mIndex\u001b[0m\u001b[0;34m.\u001b[0m\u001b[0mslice_indexer\u001b[0m\u001b[0;34m(\u001b[0m\u001b[0mself\u001b[0m\u001b[0;34m,\u001b[0m \u001b[0mstart\u001b[0m\u001b[0;34m,\u001b[0m \u001b[0mend\u001b[0m\u001b[0;34m,\u001b[0m \u001b[0mstep\u001b[0m\u001b[0;34m,\u001b[0m \u001b[0mkind\u001b[0m\u001b[0;34m=\u001b[0m\u001b[0mkind\u001b[0m\u001b[0;34m)\u001b[0m\u001b[0;34m\u001b[0m\u001b[0;34m\u001b[0m\u001b[0m\n\u001b[0m\u001b[1;32m   1152\u001b[0m         \u001b[0;32mexcept\u001b[0m \u001b[0mKeyError\u001b[0m\u001b[0;34m:\u001b[0m\u001b[0;34m\u001b[0m\u001b[0;34m\u001b[0m\u001b[0m\n\u001b[1;32m   1153\u001b[0m             \u001b[0;31m# For historical reasons DatetimeIndex by default supports\u001b[0m\u001b[0;34m\u001b[0m\u001b[0;34m\u001b[0m\u001b[0;34m\u001b[0m\u001b[0m\n",
        "\u001b[0;32m~/anaconda3/envs/pangeo/lib/python3.7/site-packages/pandas/core/indexes/base.py\u001b[0m in \u001b[0;36mslice_indexer\u001b[0;34m(self, start, end, step, kind)\u001b[0m\n\u001b[1;32m   5032\u001b[0m         \u001b[0mslice\u001b[0m\u001b[0;34m(\u001b[0m\u001b[0;36m1\u001b[0m\u001b[0;34m,\u001b[0m \u001b[0;36m3\u001b[0m\u001b[0;34m)\u001b[0m\u001b[0;34m\u001b[0m\u001b[0;34m\u001b[0m\u001b[0m\n\u001b[1;32m   5033\u001b[0m         \"\"\"\n\u001b[0;32m-> 5034\u001b[0;31m         \u001b[0mstart_slice\u001b[0m\u001b[0;34m,\u001b[0m \u001b[0mend_slice\u001b[0m \u001b[0;34m=\u001b[0m \u001b[0mself\u001b[0m\u001b[0;34m.\u001b[0m\u001b[0mslice_locs\u001b[0m\u001b[0;34m(\u001b[0m\u001b[0mstart\u001b[0m\u001b[0;34m,\u001b[0m \u001b[0mend\u001b[0m\u001b[0;34m,\u001b[0m \u001b[0mstep\u001b[0m\u001b[0;34m=\u001b[0m\u001b[0mstep\u001b[0m\u001b[0;34m,\u001b[0m \u001b[0mkind\u001b[0m\u001b[0;34m=\u001b[0m\u001b[0mkind\u001b[0m\u001b[0;34m)\u001b[0m\u001b[0;34m\u001b[0m\u001b[0;34m\u001b[0m\u001b[0m\n\u001b[0m\u001b[1;32m   5035\u001b[0m \u001b[0;34m\u001b[0m\u001b[0m\n\u001b[1;32m   5036\u001b[0m         \u001b[0;31m# return a slice\u001b[0m\u001b[0;34m\u001b[0m\u001b[0;34m\u001b[0m\u001b[0;34m\u001b[0m\u001b[0m\n",
        "\u001b[0;32m~/anaconda3/envs/pangeo/lib/python3.7/site-packages/pandas/core/indexes/base.py\u001b[0m in \u001b[0;36mslice_locs\u001b[0;34m(self, start, end, step, kind)\u001b[0m\n\u001b[1;32m   5246\u001b[0m         \u001b[0mstart_slice\u001b[0m \u001b[0;34m=\u001b[0m \u001b[0;32mNone\u001b[0m\u001b[0;34m\u001b[0m\u001b[0;34m\u001b[0m\u001b[0m\n\u001b[1;32m   5247\u001b[0m         \u001b[0;32mif\u001b[0m \u001b[0mstart\u001b[0m \u001b[0;32mis\u001b[0m \u001b[0;32mnot\u001b[0m \u001b[0;32mNone\u001b[0m\u001b[0;34m:\u001b[0m\u001b[0;34m\u001b[0m\u001b[0;34m\u001b[0m\u001b[0m\n\u001b[0;32m-> 5248\u001b[0;31m             \u001b[0mstart_slice\u001b[0m \u001b[0;34m=\u001b[0m \u001b[0mself\u001b[0m\u001b[0;34m.\u001b[0m\u001b[0mget_slice_bound\u001b[0m\u001b[0;34m(\u001b[0m\u001b[0mstart\u001b[0m\u001b[0;34m,\u001b[0m \u001b[0;34m\"left\"\u001b[0m\u001b[0;34m,\u001b[0m \u001b[0mkind\u001b[0m\u001b[0;34m)\u001b[0m\u001b[0;34m\u001b[0m\u001b[0;34m\u001b[0m\u001b[0m\n\u001b[0m\u001b[1;32m   5249\u001b[0m         \u001b[0;32mif\u001b[0m \u001b[0mstart_slice\u001b[0m \u001b[0;32mis\u001b[0m \u001b[0;32mNone\u001b[0m\u001b[0;34m:\u001b[0m\u001b[0;34m\u001b[0m\u001b[0;34m\u001b[0m\u001b[0m\n\u001b[1;32m   5250\u001b[0m             \u001b[0mstart_slice\u001b[0m \u001b[0;34m=\u001b[0m \u001b[0;36m0\u001b[0m\u001b[0;34m\u001b[0m\u001b[0;34m\u001b[0m\u001b[0m\n",
        "\u001b[0;32m~/anaconda3/envs/pangeo/lib/python3.7/site-packages/pandas/core/indexes/base.py\u001b[0m in \u001b[0;36mget_slice_bound\u001b[0;34m(self, label, side, kind)\u001b[0m\n\u001b[1;32m   5158\u001b[0m         \u001b[0;31m# For datetime indices label may be a string that has to be converted\u001b[0m\u001b[0;34m\u001b[0m\u001b[0;34m\u001b[0m\u001b[0;34m\u001b[0m\u001b[0m\n\u001b[1;32m   5159\u001b[0m         \u001b[0;31m# to datetime boundary according to its resolution.\u001b[0m\u001b[0;34m\u001b[0m\u001b[0;34m\u001b[0m\u001b[0;34m\u001b[0m\u001b[0m\n\u001b[0;32m-> 5160\u001b[0;31m         \u001b[0mlabel\u001b[0m \u001b[0;34m=\u001b[0m \u001b[0mself\u001b[0m\u001b[0;34m.\u001b[0m\u001b[0m_maybe_cast_slice_bound\u001b[0m\u001b[0;34m(\u001b[0m\u001b[0mlabel\u001b[0m\u001b[0;34m,\u001b[0m \u001b[0mside\u001b[0m\u001b[0;34m,\u001b[0m \u001b[0mkind\u001b[0m\u001b[0;34m)\u001b[0m\u001b[0;34m\u001b[0m\u001b[0;34m\u001b[0m\u001b[0m\n\u001b[0m\u001b[1;32m   5161\u001b[0m \u001b[0;34m\u001b[0m\u001b[0m\n\u001b[1;32m   5162\u001b[0m         \u001b[0;31m# we need to look up the label\u001b[0m\u001b[0;34m\u001b[0m\u001b[0;34m\u001b[0m\u001b[0;34m\u001b[0m\u001b[0m\n",
        "\u001b[0;32m~/anaconda3/envs/pangeo/lib/python3.7/site-packages/pandas/core/indexes/datetimes.py\u001b[0m in \u001b[0;36m_maybe_cast_slice_bound\u001b[0;34m(self, label, side, kind)\u001b[0m\n\u001b[1;32m   1103\u001b[0m         \u001b[0;32mif\u001b[0m \u001b[0misinstance\u001b[0m\u001b[0;34m(\u001b[0m\u001b[0mlabel\u001b[0m\u001b[0;34m,\u001b[0m \u001b[0mstr\u001b[0m\u001b[0;34m)\u001b[0m\u001b[0;34m:\u001b[0m\u001b[0;34m\u001b[0m\u001b[0;34m\u001b[0m\u001b[0m\n\u001b[1;32m   1104\u001b[0m             \u001b[0mfreq\u001b[0m \u001b[0;34m=\u001b[0m \u001b[0mgetattr\u001b[0m\u001b[0;34m(\u001b[0m\u001b[0mself\u001b[0m\u001b[0;34m,\u001b[0m \u001b[0;34m\"freqstr\"\u001b[0m\u001b[0;34m,\u001b[0m \u001b[0mgetattr\u001b[0m\u001b[0;34m(\u001b[0m\u001b[0mself\u001b[0m\u001b[0;34m,\u001b[0m \u001b[0;34m\"inferred_freq\"\u001b[0m\u001b[0;34m,\u001b[0m \u001b[0;32mNone\u001b[0m\u001b[0;34m)\u001b[0m\u001b[0;34m)\u001b[0m\u001b[0;34m\u001b[0m\u001b[0;34m\u001b[0m\u001b[0m\n\u001b[0;32m-> 1105\u001b[0;31m             \u001b[0m_\u001b[0m\u001b[0;34m,\u001b[0m \u001b[0mparsed\u001b[0m\u001b[0;34m,\u001b[0m \u001b[0mreso\u001b[0m \u001b[0;34m=\u001b[0m \u001b[0mparsing\u001b[0m\u001b[0;34m.\u001b[0m\u001b[0mparse_time_string\u001b[0m\u001b[0;34m(\u001b[0m\u001b[0mlabel\u001b[0m\u001b[0;34m,\u001b[0m \u001b[0mfreq\u001b[0m\u001b[0;34m)\u001b[0m\u001b[0;34m\u001b[0m\u001b[0;34m\u001b[0m\u001b[0m\n\u001b[0m\u001b[1;32m   1106\u001b[0m             \u001b[0mlower\u001b[0m\u001b[0;34m,\u001b[0m \u001b[0mupper\u001b[0m \u001b[0;34m=\u001b[0m \u001b[0mself\u001b[0m\u001b[0;34m.\u001b[0m\u001b[0m_parsed_string_to_bounds\u001b[0m\u001b[0;34m(\u001b[0m\u001b[0mreso\u001b[0m\u001b[0;34m,\u001b[0m \u001b[0mparsed\u001b[0m\u001b[0;34m)\u001b[0m\u001b[0;34m\u001b[0m\u001b[0;34m\u001b[0m\u001b[0m\n\u001b[1;32m   1107\u001b[0m             \u001b[0;31m# lower, upper form the half-open interval:\u001b[0m\u001b[0;34m\u001b[0m\u001b[0;34m\u001b[0m\u001b[0;34m\u001b[0m\u001b[0m\n",
        "\u001b[0;32mpandas/_libs/tslibs/parsing.pyx\u001b[0m in \u001b[0;36mpandas._libs.tslibs.parsing.parse_time_string\u001b[0;34m()\u001b[0m\n",
        "\u001b[0;32mpandas/_libs/tslibs/parsing.pyx\u001b[0m in \u001b[0;36mpandas._libs.tslibs.parsing.parse_datetime_string_with_reso\u001b[0;34m()\u001b[0m\n",
        "\u001b[0;31mDateParseError\u001b[0m: Unknown datetime string format, unable to parse: 1991-0.3-01"
       ]
      }
     ],
     "persistentId": "e859feff-158e-4ded-ada5-2ebf1a7cc89f",
     "text": "for variable in ['PRECIP']: \n#     for variable in ['PRECIP','T2M', 'SST', 'Z500']: \n    \n    opath = HOME / 'drives' / 'auck_projects' / 'END19101' / 'Working' / 'data' / 'hindcasts' / 'IRI' / GCM.replace('-','_') / variable\n    \n    if not opath.exists():\n        opath.mkdir(parents=True)\n    \n    url = f'http://iridl.ldeo.columbia.edu/SOURCES/.Models/.NMME/.{GCM}/.{data_stream}/.MONTHLY/.{dict_variables[variable]}/dods'\n    \n    dset = xr.open_dataset(url, decode_times=False)\n    \n    if variable == 'Z500': \n        dset = dset.sel(P2=500).drop('P2')\n    \n    dset = dset.rename(dict_coords)\n    dset = dset.rename({dict_variables[variable]:variable.lower()})\n    \n    origin = datetime(1960,1,1)\n    dates = [origin + relativedelta.relativedelta(months=x) for x in dset.time]\n    dset['time'] = (('time'), dates)\n    \n    # here select the time period \n    dset = dset.sel(time=slice('1991-0.3-01', None))\n    \n    for date in dset.time: \n        sub = dset.sel(time=date)\n        date = pd.to_datetime(date.data)\n        print(\"saving {} for {:%Y-%m}\".format(variable, date))\n        sub.to_netcdf(opath / f'CFSv2_hindcasts_{variable}_{date.year}_{date.month}.nc')\n        sub.close()\n        \n    dset.close() \n    "
    },
    "executionTime": "2019-12-09T20:50:53.762Z"
   },
   {
    "cell": {
     "executionCount": 12,
     "executionEventId": "7aaf147a-6f8b-415f-bbcd-9677345e4a8e",
     "hasError": false,
     "id": "c941f0d3-6a1d-4a3e-bacf-4cfaa522b5f2",
     "outputs": [
      {
       "name": "stdout",
       "output_type": "stream",
       "text": "saving PRECIP for 1991-03\nsaving PRECIP for 1991-04\nsaving PRECIP for 1991-05\nsaving PRECIP for 1991-06\nsaving PRECIP for 1991-07\nsaving PRECIP for 1991-08\nsaving PRECIP for 1991-09\nsaving PRECIP for 1991-10\nsaving PRECIP for 1991-11\nsaving PRECIP for 1991-12\nsaving PRECIP for 1992-01\nsaving PRECIP for 1992-02\nsaving PRECIP for 1992-03\nsaving PRECIP for 1992-04\nsaving PRECIP for 1992-05\nsaving PRECIP for 1992-06\nsaving PRECIP for 1992-07\nsaving PRECIP for 1992-08\nsaving PRECIP for 1992-09\nsaving PRECIP for 1992-10\nsaving PRECIP for 1992-11\nsaving PRECIP for 1992-12\nsaving PRECIP for 1993-01\nsaving PRECIP for 1993-02\nsaving PRECIP for 1993-03\nsaving PRECIP for 1993-04\nsaving PRECIP for 1993-05\nsaving PRECIP for 1993-06\nsaving PRECIP for 1993-07\nsaving PRECIP for 1993-08\nsaving PRECIP for 1993-09\nsaving PRECIP for 1993-10\nsaving PRECIP for 1993-11\nsaving PRECIP for 1993-12\nsaving PRECIP for 1994-01\nsaving PRECIP for 1994-02\nsaving PRECIP for 1994-03\nsaving PRECIP for 1994-04\nsaving PRECIP for 1994-05\nsaving PRECIP for 1994-06\nsaving PRECIP for 1994-07\nsaving PRECIP for 1994-08\nsaving PRECIP for 1994-09\nsaving PRECIP for 1994-10\nsaving PRECIP for 1994-11\nsaving PRECIP for 1994-12\nsaving PRECIP for 1995-01\nsaving PRECIP for 1995-02\nsaving PRECIP for 1995-03\nsaving PRECIP for 1995-04\nsaving PRECIP for 1995-05\nsaving PRECIP for 1995-06\nsaving PRECIP for 1995-07\nsaving PRECIP for 1995-08\nsaving PRECIP for 1995-09\nsaving PRECIP for 1995-10\nsaving PRECIP for 1995-11\nsaving PRECIP for 1995-12\nsaving PRECIP for 1996-01\nsaving PRECIP for 1996-02\nsaving PRECIP for 1996-03\nsaving PRECIP for 1996-04\nsaving PRECIP for 1996-05\nsaving PRECIP for 1996-06\nsaving PRECIP for 1996-07\nsaving PRECIP for 1996-08\nsaving PRECIP for 1996-09\nsaving PRECIP for 1996-10\nsaving PRECIP for 1996-11\nsaving PRECIP for 1996-12\nsaving PRECIP for 1997-01\nsaving PRECIP for 1997-02\nsaving PRECIP for 1997-03\nsaving PRECIP for 1997-04\nsaving PRECIP for 1997-05\nsaving PRECIP for 1997-06\nsaving PRECIP for 1997-07\nsaving PRECIP for 1997-08\nsaving PRECIP for 1997-09\nsaving PRECIP for 1997-10\nsaving PRECIP for 1997-11\nsaving PRECIP for 1997-12\nsaving PRECIP for 1998-01\nsaving PRECIP for 1998-02\nsaving PRECIP for 1998-03\nsaving PRECIP for 1998-04\nsaving PRECIP for 1998-05\nsaving PRECIP for 1998-06\nsaving PRECIP for 1998-07\nsaving PRECIP for 1998-08\nsaving PRECIP for 1998-09\nsaving PRECIP for 1998-10\nsaving PRECIP for 1998-11\nsaving PRECIP for 1998-12\nsaving PRECIP for 1999-01\nsaving PRECIP for 1999-02\nsaving PRECIP for 1999-03\nsaving PRECIP for 1999-04\nsaving PRECIP for 1999-05\nsaving PRECIP for 1999-06\nsaving PRECIP for 1999-07\nsaving PRECIP for 1999-08\nsaving PRECIP for 1999-09\nsaving PRECIP for 1999-10\nsaving PRECIP for 1999-11\nsaving PRECIP for 1999-12\nsaving PRECIP for 2000-01\nsaving PRECIP for 2000-02\nsaving PRECIP for 2000-03\nsaving PRECIP for 2000-04\nsaving PRECIP for 2000-05\nsaving PRECIP for 2000-06\nsaving PRECIP for 2000-07\nsaving PRECIP for 2000-08\nsaving PRECIP for 2000-09\nsaving PRECIP for 2000-10\nsaving PRECIP for 2000-11\nsaving PRECIP for 2000-12\nsaving PRECIP for 2001-01\nsaving PRECIP for 2001-02\nsaving PRECIP for 2001-03\nsaving PRECIP for 2001-04\nsaving PRECIP for 2001-05\nsaving PRECIP for 2001-06\nsaving PRECIP for 2001-07\nsaving PRECIP for 2001-08\nsaving PRECIP for 2001-09\nsaving PRECIP for 2001-10\nsaving PRECIP for 2001-11\nsaving PRECIP for 2001-12\nsaving PRECIP for 2002-01\nsaving PRECIP for 2002-02\nsaving PRECIP for 2002-03\nsaving PRECIP for 2002-04\nsaving PRECIP for 2002-05\nsaving PRECIP for 2002-06\nsaving PRECIP for 2002-07\nsaving PRECIP for 2002-08\nsaving PRECIP for 2002-09\nsaving PRECIP for 2002-10\nsaving PRECIP for 2002-11\nsaving PRECIP for 2002-12\nsaving PRECIP for 2003-01\nsaving PRECIP for 2003-02\nsaving PRECIP for 2003-03\nsaving PRECIP for 2003-04\nsaving PRECIP for 2003-05\nsaving PRECIP for 2003-06\nsaving PRECIP for 2003-07\nsaving PRECIP for 2003-08\nsaving PRECIP for 2003-09\nsaving PRECIP for 2003-10\nsaving PRECIP for 2003-11\nsaving PRECIP for 2003-12\nsaving PRECIP for 2004-01\nsaving PRECIP for 2004-02\nsaving PRECIP for 2004-03\nsaving PRECIP for 2004-04\nsaving PRECIP for 2004-05\nsaving PRECIP for 2004-06\nsaving PRECIP for 2004-07\nsaving PRECIP for 2004-08\nsaving PRECIP for 2004-09\nsaving PRECIP for 2004-10\nsaving PRECIP for 2004-11\nsaving PRECIP for 2004-12\nsaving PRECIP for 2005-01\nsaving PRECIP for 2005-02\nsaving PRECIP for 2005-03\nsaving PRECIP for 2005-04\nsaving PRECIP for 2005-05\nsaving PRECIP for 2005-06\nsaving PRECIP for 2005-07\nsaving PRECIP for 2005-08\nsaving PRECIP for 2005-09\nsaving PRECIP for 2005-10\nsaving PRECIP for 2005-11\nsaving PRECIP for 2005-12\nsaving PRECIP for 2006-01\nsaving PRECIP for 2006-02\nsaving PRECIP for 2006-03\nsaving PRECIP for 2006-04\nsaving PRECIP for 2006-05\nsaving PRECIP for 2006-06\nsaving PRECIP for 2006-07\nsaving PRECIP for 2006-08\nsaving PRECIP for 2006-09\nsaving PRECIP for 2006-10\nsaving PRECIP for 2006-11\nsaving PRECIP for 2006-12\nsaving PRECIP for 2007-01\nsaving PRECIP for 2007-02\nsaving PRECIP for 2007-03\nsaving PRECIP for 2007-04\nsaving PRECIP for 2007-05\nsaving PRECIP for 2007-06\nsaving PRECIP for 2007-07\nsaving PRECIP for 2007-08\nsaving PRECIP for 2007-09\nsaving PRECIP for 2007-10\nsaving PRECIP for 2007-11\nsaving PRECIP for 2007-12\nsaving PRECIP for 2008-01\nsaving PRECIP for 2008-02\nsaving PRECIP for 2008-03\nsaving PRECIP for 2008-04\nsaving PRECIP for 2008-05\nsaving PRECIP for 2008-06\nsaving PRECIP for 2008-07\nsaving PRECIP for 2008-08\nsaving PRECIP for 2008-09\nsaving PRECIP for 2008-10\nsaving PRECIP for 2008-11\nsaving PRECIP for 2008-12\nsaving PRECIP for 2009-01\nsaving PRECIP for 2009-02\nsaving PRECIP for 2009-03\nsaving PRECIP for 2009-04\nsaving PRECIP for 2009-05\nsaving PRECIP for 2009-06\nsaving PRECIP for 2009-07\nsaving PRECIP for 2009-08\nsaving PRECIP for 2009-09\nsaving PRECIP for 2009-10\nsaving PRECIP for 2009-11\nsaving PRECIP for 2009-12\nsaving PRECIP for 2010-01\nsaving PRECIP for 2010-02\nsaving PRECIP for 2010-03\nsaving PRECIP for 2010-04\nsaving PRECIP for 2010-05\nsaving PRECIP for 2010-06\nsaving PRECIP for 2010-07\nsaving PRECIP for 2010-08\nsaving PRECIP for 2010-09\nsaving PRECIP for 2010-10\nsaving PRECIP for 2010-11\nsaving PRECIP for 2010-12\nsaving PRECIP for 2011-01\nsaving PRECIP for 2011-02\nsaving PRECIP for 2011-03\nsaving PRECIP for 2011-04\nsaving PRECIP for 2011-05\nsaving PRECIP for 2011-06\nsaving PRECIP for 2011-07\nsaving PRECIP for 2011-08\nsaving PRECIP for 2011-09\nsaving PRECIP for 2011-10\nsaving PRECIP for 2011-11\nsaving PRECIP for 2011-12\nsaving PRECIP for 2012-01\nsaving PRECIP for 2012-02\nsaving PRECIP for 2012-03\nsaving PRECIP for 2012-04\nsaving PRECIP for 2012-05\nsaving PRECIP for 2012-06\nsaving PRECIP for 2012-07\nsaving PRECIP for 2012-08\nsaving PRECIP for 2012-09\nsaving PRECIP for 2012-10\nsaving PRECIP for 2012-11\nsaving PRECIP for 2012-12\nsaving PRECIP for 2013-01\nsaving PRECIP for 2013-02\nsaving PRECIP for 2013-03\nsaving PRECIP for 2013-04\nsaving PRECIP for 2013-05\nsaving PRECIP for 2013-06\nsaving PRECIP for 2013-07\nsaving PRECIP for 2013-08\nsaving PRECIP for 2013-09\nsaving PRECIP for 2013-10\nsaving PRECIP for 2013-11\nsaving PRECIP for 2013-12\nsaving PRECIP for 2014-01\nsaving PRECIP for 2014-02\nsaving PRECIP for 2014-03\nsaving PRECIP for 2014-04\nsaving PRECIP for 2014-05\nsaving PRECIP for 2014-06\nsaving PRECIP for 2014-07\nsaving PRECIP for 2014-08\nsaving PRECIP for 2014-09\nsaving PRECIP for 2014-10\nsaving PRECIP for 2014-11\nsaving PRECIP for 2014-12\nsaving PRECIP for 2015-01\nsaving PRECIP for 2015-02\nsaving PRECIP for 2015-03\nsaving PRECIP for 2015-04\nsaving PRECIP for 2015-05\nsaving PRECIP for 2015-06\nsaving PRECIP for 2015-07\nsaving PRECIP for 2015-08\nsaving PRECIP for 2015-09\nsaving PRECIP for 2015-10\nsaving PRECIP for 2015-11\nsaving PRECIP for 2015-12\nsaving PRECIP for 2016-01\nsaving PRECIP for 2016-02\nsaving PRECIP for 2016-03\nsaving PRECIP for 2016-04\nsaving PRECIP for 2016-05\nsaving PRECIP for 2016-06\nsaving PRECIP for 2016-07\nsaving PRECIP for 2016-08\nsaving PRECIP for 2016-09\nsaving PRECIP for 2016-10\nsaving PRECIP for 2016-11\nsaving PRECIP for 2016-12\nsaving PRECIP for 2017-01\nsaving PRECIP for 2017-02\nsaving PRECIP for 2017-03\nsaving PRECIP for 2017-04\nsaving PRECIP for 2017-05\nsaving PRECIP for 2017-06\nsaving PRECIP for 2017-07\nsaving PRECIP for 2017-08\nsaving PRECIP for 2017-09\nsaving PRECIP for 2017-10\nsaving PRECIP for 2017-11\nsaving PRECIP for 2017-12\nsaving PRECIP for 2018-01\nsaving PRECIP for 2018-02\nsaving PRECIP for 2018-03\nsaving PRECIP for 2018-04\nsaving PRECIP for 2018-05\nsaving PRECIP for 2018-06\nsaving PRECIP for 2018-07\nsaving PRECIP for 2018-08\nsaving PRECIP for 2018-09\nsaving PRECIP for 2018-10\nsaving PRECIP for 2018-11\nsaving PRECIP for 2018-12\n"
      }
     ],
     "persistentId": "e859feff-158e-4ded-ada5-2ebf1a7cc89f",
     "text": "for variable in ['PRECIP']: \n#     for variable in ['PRECIP','T2M', 'SST', 'Z500']: \n    \n    opath = HOME / 'drives' / 'auck_projects' / 'END19101' / 'Working' / 'data' / 'hindcasts' / 'IRI' / GCM.replace('-','_') / variable\n    \n    if not opath.exists():\n        opath.mkdir(parents=True)\n    \n    url = f'http://iridl.ldeo.columbia.edu/SOURCES/.Models/.NMME/.{GCM}/.{data_stream}/.MONTHLY/.{dict_variables[variable]}/dods'\n    \n    dset = xr.open_dataset(url, decode_times=False)\n    \n    if variable == 'Z500': \n        dset = dset.sel(P2=500).drop('P2')\n    \n    dset = dset.rename(dict_coords)\n    dset = dset.rename({dict_variables[variable]:variable.lower()})\n    \n    origin = datetime(1960,1,1)\n    dates = [origin + relativedelta.relativedelta(months=x) for x in dset.time]\n    dset['time'] = (('time'), dates)\n    \n    # here select the time period \n    dset = dset.sel(time=slice('1991-03-01', None))\n    \n    for date in dset.time: \n        sub = dset.sel(time=date)\n        date = pd.to_datetime(date.data)\n        print(\"saving {} for {:%Y-%m}\".format(variable, date))\n        sub.to_netcdf(opath / f'CFSv2_hindcasts_{variable}_{date.year}_{date.month}.nc')\n        sub.close()\n        \n    dset.close() \n    "
    },
    "executionTime": "2019-12-10T07:09:03.008Z"
   },
   {
    "cell": {
     "executionCount": 1,
     "executionEventId": "067a714b-833d-4485-8cb8-24f9b34b0eee",
     "hasError": false,
     "id": "61d54f18-8810-4719-9306-ae26bc74d88e",
     "outputs": [],
     "persistentId": "fd29e246-14ef-41bb-b3d1-21c385096522",
     "text": "%matplotlib inline\nfrom matplotlib import pyplot as plt"
    },
    "executionTime": "2019-12-10T21:00:26.852Z"
   },
   {
    "cell": {
     "executionCount": 2,
     "executionEventId": "9add34af-10c6-461e-90ca-1b32a0febc88",
     "hasError": false,
     "id": "640bbfe0-0294-44b7-8930-baaa6cf716d6",
     "outputs": [],
     "persistentId": "b548e22d-87af-4ea0-89f0-03d24013b895",
     "text": "import os \nimport sys \nimport pathlib"
    },
    "executionTime": "2019-12-10T21:00:26.853Z"
   },
   {
    "cell": {
     "executionCount": 3,
     "executionEventId": "0b2f7bb1-6a46-4e2f-8e13-92b015c6a485",
     "hasError": false,
     "id": "74d5d07a-2502-4089-a6a1-1e4a5514f9fb",
     "outputs": [],
     "persistentId": "21fa21be-dc9a-42a6-afc9-60a911d8394d",
     "text": "from datetime import datetime, timedelta\nimport calendar\nfrom dateutil import relativedelta"
    },
    "executionTime": "2019-12-10T21:00:26.855Z"
   },
   {
    "cell": {
     "executionCount": 4,
     "executionEventId": "20e17864-2a64-4e87-8ac4-268dacd37ea4",
     "hasError": false,
     "id": "92d9ee6e-ec7e-4b87-b162-63654713699e",
     "outputs": [],
     "persistentId": "b77a4f79-bc6f-472a-9f47-349c86fc0da8",
     "text": "import numpy as np \nimport pandas as pd \nimport xarray as xr"
    },
    "executionTime": "2019-12-10T21:00:27.146Z"
   },
   {
    "cell": {
     "executionCount": 5,
     "executionEventId": "3fad039d-0748-4c2a-a6ff-ddd8845f7b4c",
     "hasError": false,
     "id": "5e43f6ff-9959-45a8-936a-f5a92e662513",
     "outputs": [],
     "persistentId": "aa44e8fa-1969-4cc9-81ff-c16e51f00daa",
     "text": "CWD = pathlib.Path.cwd()"
    },
    "executionTime": "2019-12-10T21:00:27.155Z"
   },
   {
    "cell": {
     "executionCount": 6,
     "executionEventId": "f90c6df5-774c-4dbc-a821-85480c95c0c2",
     "hasError": false,
     "id": "4a91eb0d-b25e-4baa-ad73-72f2c4dc4214",
     "outputs": [],
     "persistentId": "f25bf7af-ae58-4cb1-8181-cfabedb0b5d7",
     "text": "HOME = pathlib.Path.home()"
    },
    "executionTime": "2019-12-10T21:00:27.160Z"
   },
   {
    "cell": {
     "executionCount": 7,
     "executionEventId": "82bae02e-a2ef-4bad-9675-706de79fc2c0",
     "hasError": false,
     "id": "efdc05bb-485c-4ba7-9ff6-f198e7cd7c1e",
     "outputs": [],
     "persistentId": "2556bfc4-3042-4823-95cc-1ec2416d7ec2",
     "text": "GCM = 'CanSIPSv2'"
    },
    "executionTime": "2019-12-10T21:00:27.169Z"
   },
   {
    "cell": {
     "executionCount": 8,
     "executionEventId": "aecb9800-e81f-499c-a4ef-c5608e3b2e26",
     "hasError": false,
     "id": "23cfaea8-16c1-4f0d-9511-51b128eeb05f",
     "outputs": [],
     "persistentId": "48a44f83-0ee0-4474-90be-7af6584ac99a",
     "text": "data_stream = 'HINDCAST'"
    },
    "executionTime": "2019-12-10T21:00:27.173Z"
   },
   {
    "cell": {
     "executionCount": 9,
     "executionEventId": "ed150b0b-a21a-4733-945e-b66e821d0023",
     "hasError": false,
     "id": "6c5d1e06-334f-4528-80bd-583d5c6ab2b6",
     "outputs": [],
     "persistentId": "0ab39c8a-be7b-4f56-b6c3-aa7ae0acd5d1",
     "text": "dict_variables = {}\ndict_variables['PRECIP'] = 'prec'\ndict_variables['T2M'] = 'tref'\ndict_variables['SST'] = 'sst'\ndict_variables['Z500'] = 'hgt'"
    },
    "executionTime": "2019-12-10T21:00:27.204Z"
   },
   {
    "cell": {
     "executionCount": 10,
     "executionEventId": "2efa9621-9343-4a63-815b-0e3bf1cb5e18",
     "hasError": false,
     "id": "6cecd95d-166d-4ae5-9082-c32b9086bcc2",
     "outputs": [],
     "persistentId": "cc3b6012-d731-4822-b979-55e59e7ce7e0",
     "text": "dict_coords = {}\ndict_coords['L'] = 'step'\ndict_coords['M'] = 'member'\ndict_coords['S'] = 'time'\ndict_coords['X'] = 'lon'\ndict_coords['Y'] = 'lat'"
    },
    "executionTime": "2019-12-10T21:00:27.235Z"
   },
   {
    "cell": {
     "executionCount": 1,
     "executionEventId": "e70499da-6d2c-45d8-b973-53513578113c",
     "hasError": false,
     "id": "d5a3ddfe-0e64-4771-add2-066f0482af86",
     "outputs": [],
     "persistentId": "fd29e246-14ef-41bb-b3d1-21c385096522",
     "text": "%matplotlib inline\nfrom matplotlib import pyplot as plt"
    },
    "executionTime": "2019-12-15T22:18:36.361Z"
   },
   {
    "cell": {
     "executionCount": 2,
     "executionEventId": "3194af38-bb38-43de-95f4-55226343fc45",
     "hasError": false,
     "id": "0ab61b55-b989-4fe8-8fd3-92c54b1ffa25",
     "outputs": [],
     "persistentId": "b548e22d-87af-4ea0-89f0-03d24013b895",
     "text": "import os \nimport sys \nimport pathlib"
    },
    "executionTime": "2019-12-15T22:18:36.429Z"
   },
   {
    "cell": {
     "executionCount": 3,
     "executionEventId": "e76a59ab-8756-44ce-982b-ba9ee0d8d49b",
     "hasError": false,
     "id": "60cce81d-8103-4964-b7fb-2eaf6e3de3c8",
     "outputs": [],
     "persistentId": "21fa21be-dc9a-42a6-afc9-60a911d8394d",
     "text": "from datetime import datetime, timedelta\nimport calendar\nfrom dateutil import relativedelta"
    },
    "executionTime": "2019-12-15T22:18:36.789Z"
   },
   {
    "cell": {
     "executionCount": 4,
     "executionEventId": "f8b5d984-ebe0-44dc-ad2a-32f2cb536495",
     "hasError": false,
     "id": "7687e844-a65c-4f83-8748-f72625665608",
     "outputs": [],
     "persistentId": "b77a4f79-bc6f-472a-9f47-349c86fc0da8",
     "text": "import numpy as np \nimport pandas as pd \nimport xarray as xr"
    },
    "executionTime": "2019-12-15T22:18:37.445Z"
   },
   {
    "cell": {
     "executionCount": 5,
     "executionEventId": "382432b0-6066-4edc-bb45-1a2fbc548d9b",
     "hasError": false,
     "id": "07416524-85d2-4d45-b266-2996932d396c",
     "outputs": [],
     "persistentId": "aa44e8fa-1969-4cc9-81ff-c16e51f00daa",
     "text": "CWD = pathlib.Path.cwd()"
    },
    "executionTime": "2019-12-15T22:18:37.477Z"
   },
   {
    "cell": {
     "executionCount": 6,
     "executionEventId": "6e15fa6d-bd9b-43f2-b1d9-a790d03ae68d",
     "hasError": false,
     "id": "a51e1d9e-8a8b-457d-8445-36712afeabb6",
     "outputs": [],
     "persistentId": "f25bf7af-ae58-4cb1-8181-cfabedb0b5d7",
     "text": "HOME = pathlib.Path.home()"
    },
    "executionTime": "2019-12-15T22:18:37.483Z"
   },
   {
    "cell": {
     "executionCount": 7,
     "executionEventId": "da5c7bb9-d378-4bed-b8d5-4d4c8eb43788",
     "hasError": false,
     "id": "594162ca-6181-40e3-a4b3-d6c0a0c255ee",
     "outputs": [],
     "persistentId": "2556bfc4-3042-4823-95cc-1ec2416d7ec2",
     "text": "GCM = 'CanSIPSv2'"
    },
    "executionTime": "2019-12-15T22:18:37.616Z"
   },
   {
    "cell": {
     "executionCount": 8,
     "executionEventId": "0f805aa4-d08b-410c-bf65-646eb6aa75e0",
     "hasError": false,
     "id": "0cd543a2-82cb-416f-a0e2-698f3470cda1",
     "outputs": [],
     "persistentId": "48a44f83-0ee0-4474-90be-7af6584ac99a",
     "text": "data_stream = 'HINDCAST'"
    },
    "executionTime": "2019-12-15T22:18:37.809Z"
   },
   {
    "cell": {
     "executionCount": 9,
     "executionEventId": "4d6a91ab-fcd8-4a38-adbf-7d761e0bba4e",
     "hasError": false,
     "id": "cc65b821-cbd6-4a3d-ae5b-10a4a51720df",
     "outputs": [],
     "persistentId": "0ab39c8a-be7b-4f56-b6c3-aa7ae0acd5d1",
     "text": "dict_variables = {}\ndict_variables['PRECIP'] = 'prec'\ndict_variables['T2M'] = 'tref'\ndict_variables['SST'] = 'sst'\ndict_variables['Z500'] = 'hgt'"
    },
    "executionTime": "2019-12-15T22:18:38.018Z"
   },
   {
    "cell": {
     "executionCount": 10,
     "executionEventId": "90bebf80-4ceb-476a-8e07-6096f59ef359",
     "hasError": false,
     "id": "762e3b11-eab0-4c68-97bf-c9388878ee68",
     "outputs": [],
     "persistentId": "cc3b6012-d731-4822-b979-55e59e7ce7e0",
     "text": "dict_coords = {}\ndict_coords['L'] = 'step'\ndict_coords['M'] = 'member'\ndict_coords['S'] = 'time'\ndict_coords['X'] = 'lon'\ndict_coords['Y'] = 'lat'"
    },
    "executionTime": "2019-12-15T22:18:38.223Z"
   },
   {
    "cell": {
     "executionCount": 11,
     "executionEventId": "f0ddfa92-379e-40d1-9dbc-d9eaa8ed43e8",
     "hasError": false,
     "id": "4f7c7f9e-360d-4809-b31b-fc9979381965",
     "outputs": [
      {
       "name": "stdout",
       "output_type": "stream",
       "text": "saving T2M for 1998-09\nsaving T2M for 1998-10\nsaving T2M for 1998-11\nsaving T2M for 1998-12\nsaving T2M for 1999-01\nsaving T2M for 1999-02\nsaving T2M for 1999-03\nsaving T2M for 1999-04\nsaving T2M for 1999-05\nsaving T2M for 1999-06\nsaving T2M for 1999-07\nsaving T2M for 1999-08\nsaving T2M for 1999-09\nsaving T2M for 1999-10\nsaving T2M for 1999-11\nsaving T2M for 1999-12\nsaving T2M for 2000-01\nsaving T2M for 2000-02\nsaving T2M for 2000-03\nsaving T2M for 2000-04\nsaving T2M for 2000-05\nsaving T2M for 2000-06\nsaving T2M for 2000-07\nsaving T2M for 2000-08\nsaving T2M for 2000-09\nsaving T2M for 2000-10\nsaving T2M for 2000-11\nsaving T2M for 2000-12\nsaving T2M for 2001-01\nsaving T2M for 2001-02\nsaving T2M for 2001-03\nsaving T2M for 2001-04\nsaving T2M for 2001-05\nsaving T2M for 2001-06\nsaving T2M for 2001-07\nsaving T2M for 2001-08\nsaving T2M for 2001-09\nsaving T2M for 2001-10\nsaving T2M for 2001-11\nsaving T2M for 2001-12\nsaving T2M for 2002-01\nsaving T2M for 2002-02\nsaving T2M for 2002-03\nsaving T2M for 2002-04\nsaving T2M for 2002-05\nsaving T2M for 2002-06\nsaving T2M for 2002-07\nsaving T2M for 2002-08\nsaving T2M for 2002-09\nsaving T2M for 2002-10\nsaving T2M for 2002-11\nsaving T2M for 2002-12\nsaving T2M for 2003-01\nsaving T2M for 2003-02\nsaving T2M for 2003-03\nsaving T2M for 2003-04\nsaving T2M for 2003-05\nsaving T2M for 2003-06\nsaving T2M for 2003-07\nsaving T2M for 2003-08\nsaving T2M for 2003-09\nsaving T2M for 2003-10\nsaving T2M for 2003-11\nsaving T2M for 2003-12\nsaving T2M for 2004-01\nsaving T2M for 2004-02\nsaving T2M for 2004-03\nsaving T2M for 2004-04\nsaving T2M for 2004-05\nsaving T2M for 2004-06\nsaving T2M for 2004-07\nsaving T2M for 2004-08\nsaving T2M for 2004-09\nsaving T2M for 2004-10\nsaving T2M for 2004-11\nsaving T2M for 2004-12\nsaving T2M for 2005-01\nsaving T2M for 2005-02\nsaving T2M for 2005-03\nsaving T2M for 2005-04\nsaving T2M for 2005-05\nsaving T2M for 2005-06\nsaving T2M for 2005-07\nsaving T2M for 2005-08\nsaving T2M for 2005-09\nsaving T2M for 2005-10\nsaving T2M for 2005-11\nsaving T2M for 2005-12\nsaving T2M for 2006-01\nsaving T2M for 2006-02\nsaving T2M for 2006-03\nsaving T2M for 2006-04\nsaving T2M for 2006-05\nsaving T2M for 2006-06\nsaving T2M for 2006-07\nsaving T2M for 2006-08\nsaving T2M for 2006-09\nsaving T2M for 2006-10\nsaving T2M for 2006-11\nsaving T2M for 2006-12\nsaving T2M for 2007-01\nsaving T2M for 2007-02\nsaving T2M for 2007-03\nsaving T2M for 2007-04\nsaving T2M for 2007-05\nsaving T2M for 2007-06\nsaving T2M for 2007-07\nsaving T2M for 2007-08\nsaving T2M for 2007-09\nsaving T2M for 2007-10\nsaving T2M for 2007-11\nsaving T2M for 2007-12\nsaving T2M for 2008-01\nsaving T2M for 2008-02\nsaving T2M for 2008-03\nsaving T2M for 2008-04\nsaving T2M for 2008-05\nsaving T2M for 2008-06\nsaving T2M for 2008-07\nsaving T2M for 2008-08\nsaving T2M for 2008-09\nsaving T2M for 2008-10\nsaving T2M for 2008-11\nsaving T2M for 2008-12\nsaving T2M for 2009-01\nsaving T2M for 2009-02\nsaving T2M for 2009-03\nsaving T2M for 2009-04\nsaving T2M for 2009-05\nsaving T2M for 2009-06\nsaving T2M for 2009-07\nsaving T2M for 2009-08\nsaving T2M for 2009-09\nsaving T2M for 2009-10\nsaving T2M for 2009-11\nsaving T2M for 2009-12\nsaving T2M for 2010-01\nsaving T2M for 2010-02\nsaving T2M for 2010-03\nsaving T2M for 2010-04\nsaving T2M for 2010-05\nsaving T2M for 2010-06\nsaving T2M for 2010-07\nsaving T2M for 2010-08\nsaving T2M for 2010-09\nsaving T2M for 2010-10\nsaving T2M for 2010-11\nsaving T2M for 2010-12\nsaving T2M for 2011-01\nsaving T2M for 2011-02\nsaving T2M for 2011-03\nsaving T2M for 2011-04\nsaving T2M for 2011-05\nsaving T2M for 2011-06\nsaving T2M for 2011-07\nsaving T2M for 2011-08\nsaving T2M for 2011-09\nsaving T2M for 2011-10\nsaving T2M for 2011-11\nsaving T2M for 2011-12\nsaving T2M for 2012-01\nsaving T2M for 2012-02\nsaving T2M for 2012-03\nsaving T2M for 2012-04\nsaving T2M for 2012-05\nsaving T2M for 2012-06\nsaving T2M for 2012-07\nsaving T2M for 2012-08\nsaving T2M for 2012-09\nsaving T2M for 2012-10\nsaving T2M for 2012-11\nsaving T2M for 2012-12\nsaving T2M for 2013-01\nsaving T2M for 2013-02\nsaving T2M for 2013-03\nsaving T2M for 2013-04\nsaving T2M for 2013-05\nsaving T2M for 2013-06\nsaving T2M for 2013-07\nsaving T2M for 2013-08\nsaving T2M for 2013-09\nsaving T2M for 2013-10\nsaving T2M for 2013-11\nsaving T2M for 2013-12\nsaving T2M for 2014-01\nsaving T2M for 2014-02\nsaving T2M for 2014-03\nsaving T2M for 2014-04\nsaving T2M for 2014-05\nsaving T2M for 2014-06\nsaving T2M for 2014-07\nsaving T2M for 2014-08\nsaving T2M for 2014-09\nsaving T2M for 2014-10\nsaving T2M for 2014-11\nsaving T2M for 2014-12\nsaving T2M for 2015-01\nsaving T2M for 2015-02\nsaving T2M for 2015-03\nsaving T2M for 2015-04\nsaving T2M for 2015-05\nsaving T2M for 2015-06\nsaving T2M for 2015-07\nsaving T2M for 2015-08\nsaving T2M for 2015-09\nsaving T2M for 2015-10\nsaving T2M for 2015-11\nsaving T2M for 2015-12\nsaving T2M for 2016-01\nsaving T2M for 2016-02\nsaving T2M for 2016-03\nsaving T2M for 2016-04\nsaving T2M for 2016-05\nsaving T2M for 2016-06\nsaving T2M for 2016-07\nsaving T2M for 2016-08\nsaving T2M for 2016-09\nsaving T2M for 2016-10\nsaving T2M for 2016-11\nsaving T2M for 2016-12\nsaving T2M for 2017-01\nsaving T2M for 2017-02\nsaving T2M for 2017-03\nsaving T2M for 2017-04\nsaving T2M for 2017-05\nsaving T2M for 2017-06\nsaving T2M for 2017-07\nsaving T2M for 2017-08\nsaving T2M for 2017-09\nsaving T2M for 2017-10\nsaving T2M for 2017-11\nsaving T2M for 2017-12\nsaving T2M for 2018-01\nsaving T2M for 2018-02\nsaving T2M for 2018-03\nsaving T2M for 2018-04\nsaving T2M for 2018-05\nsaving T2M for 2018-06\nsaving T2M for 2018-07\nsaving T2M for 2018-08\nsaving T2M for 2018-09\nsaving T2M for 2018-10\nsaving T2M for 2018-11\nsaving T2M for 2018-12\n"
      }
     ],
     "persistentId": "e859feff-158e-4ded-ada5-2ebf1a7cc89f",
     "text": "for variable in ['T2M']: \n#     for variable in ['PRECIP','T2M', 'SST', 'Z500']: \n    \n    opath = HOME / 'drives' / 'auck_projects' / 'END19101' / 'Working' / 'data' / 'hindcasts' / 'IRI' / GCM.replace('-','_') / variable\n    \n    if not opath.exists():\n        opath.mkdir(parents=True)\n    \n    url = f'http://iridl.ldeo.columbia.edu/SOURCES/.Models/.NMME/.{GCM}/.{data_stream}/.MONTHLY/.{dict_variables[variable]}/dods'\n    \n    dset = xr.open_dataset(url, decode_times=False)\n    \n    if variable == 'Z500': \n        dset = dset.sel(P2=500).drop('P2')\n    \n    dset = dset.rename(dict_coords)\n    dset = dset.rename({dict_variables[variable]:variable.lower()})\n    \n    origin = datetime(1960,1,1)\n    dates = [origin + relativedelta.relativedelta(months=x) for x in dset.time]\n    dset['time'] = (('time'), dates)\n    \n    # here select the time period \n    dset = dset.sel(time=slice('1998-09-01', None))\n    \n    for date in dset.time: \n        sub = dset.sel(time=date)\n        date = pd.to_datetime(date.data)\n        print(\"saving {} for {:%Y-%m}\".format(variable, date))\n        sub.to_netcdf(opath / f'{GCM}_hindcasts_{variable}_{date.year}_{date.month}.nc')\n        sub.close()\n        \n    dset.close() \n    "
    },
    "executionTime": "2019-12-16T06:00:16.151Z"
   }
  ],
  "kernelspec": {
   "display_name": "Python 3",
   "language": "python",
   "name": "python3"
  },
  "language_info": {
   "codemirror_mode": {
    "name": "ipython",
    "version": 3
   },
   "file_extension": ".py",
   "mimetype": "text/x-python",
   "name": "python",
   "nbconvert_exporter": "python",
   "pygments_lexer": "ipython3",
   "version": "3.7.5"
  },
  "uuid": "ce7a7362-e2bf-4ff0-a6e8-451014584d38"
 },
 "nbformat": 4,
 "nbformat_minor": 4
}
