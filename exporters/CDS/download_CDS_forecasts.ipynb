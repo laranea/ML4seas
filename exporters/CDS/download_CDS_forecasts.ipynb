{
 "cells": [
  {
   "cell_type": "code",
   "execution_count": 1,
   "metadata": {
    "hide_input": true,
    "inputHidden": true,
    "papermill": {
     "duration": 0.049453,
     "end_time": "2020-02-05T03:39:54.783100",
     "exception": false,
     "start_time": "2020-02-05T03:39:54.733647",
     "status": "completed"
    },
    "tags": []
   },
   "outputs": [
    {
     "data": {
      "text/html": [
       "<span style=\"color:red; font-family:Helvetica Neue, Helvetica, Arial, sans-serif; font-size:2em;\">An Exception was encountered at 'In [18]'.</span>\n"
      ],
      "text/plain": [
       "<IPython.core.display.HTML object>"
      ]
     },
     "metadata": {},
     "output_type": "display_data"
    }
   ],
   "source": [
    "%%html\n",
    "<span style=\"color:red; font-family:Helvetica Neue, Helvetica, Arial, sans-serif; font-size:2em;\">An Exception was encountered at 'In [18]'.</span>"
   ]
  },
  {
   "cell_type": "code",
   "execution_count": 2,
   "metadata": {
    "hide_input": true,
    "inputHidden": true,
    "papermill": {
     "duration": 0.016033,
     "end_time": "2020-02-05T03:39:54.808558",
     "exception": false,
     "start_time": "2020-02-05T03:39:54.792525",
     "status": "completed"
    },
    "tags": []
   },
   "outputs": [
    {
     "data": {
      "text/html": [
       "<span style=\"color:red; font-family:Helvetica Neue, Helvetica, Arial, sans-serif; font-size:2em;\">An Exception was encountered at 'In [17]'.</span>\n"
      ],
      "text/plain": [
       "<IPython.core.display.HTML object>"
      ]
     },
     "metadata": {},
     "output_type": "display_data"
    }
   ],
   "source": [
    "%%html\n",
    "<span style=\"color:red; font-family:Helvetica Neue, Helvetica, Arial, sans-serif; font-size:2em;\">An Exception was encountered at 'In [17]'.</span>"
   ]
  },
  {
   "cell_type": "code",
   "execution_count": 3,
   "metadata": {
    "hide_input": true,
    "inputHidden": true,
    "papermill": {
     "duration": 0.013657,
     "end_time": "2020-02-05T03:39:54.831511",
     "exception": false,
     "start_time": "2020-02-05T03:39:54.817854",
     "status": "completed"
    },
    "tags": []
   },
   "outputs": [
    {
     "data": {
      "text/html": [
       "<span style=\"color:red; font-family:Helvetica Neue, Helvetica, Arial, sans-serif; font-size:2em;\">An Exception was encountered at 'In [16]'.</span>\n"
      ],
      "text/plain": [
       "<IPython.core.display.HTML object>"
      ]
     },
     "metadata": {},
     "output_type": "display_data"
    }
   ],
   "source": [
    "%%html\n",
    "<span style=\"color:red; font-family:Helvetica Neue, Helvetica, Arial, sans-serif; font-size:2em;\">An Exception was encountered at 'In [16]'.</span>"
   ]
  },
  {
   "cell_type": "code",
   "execution_count": 4,
   "metadata": {
    "hide_input": true,
    "inputHidden": true,
    "papermill": {
     "duration": 0.0125,
     "end_time": "2020-02-05T03:39:54.851167",
     "exception": false,
     "start_time": "2020-02-05T03:39:54.838667",
     "status": "completed"
    },
    "tags": []
   },
   "outputs": [
    {
     "data": {
      "text/html": [
       "<span style=\"color:red; font-family:Helvetica Neue, Helvetica, Arial, sans-serif; font-size:2em;\">An Exception was encountered at 'In [15]'.</span>\n"
      ],
      "text/plain": [
       "<IPython.core.display.HTML object>"
      ]
     },
     "metadata": {},
     "output_type": "display_data"
    }
   ],
   "source": [
    "%%html\n",
    "<span style=\"color:red; font-family:Helvetica Neue, Helvetica, Arial, sans-serif; font-size:2em;\">An Exception was encountered at 'In [15]'.</span>"
   ]
  },
  {
   "cell_type": "code",
   "execution_count": 5,
   "metadata": {
    "hide_input": true,
    "inputHidden": true,
    "papermill": {
     "duration": 0.012742,
     "end_time": "2020-02-05T03:39:54.871194",
     "exception": false,
     "start_time": "2020-02-05T03:39:54.858452",
     "status": "completed"
    },
    "tags": []
   },
   "outputs": [
    {
     "data": {
      "text/html": [
       "<span style=\"color:red; font-family:Helvetica Neue, Helvetica, Arial, sans-serif; font-size:2em;\">An Exception was encountered at 'In [14]'.</span>\n"
      ],
      "text/plain": [
       "<IPython.core.display.HTML object>"
      ]
     },
     "metadata": {},
     "output_type": "display_data"
    }
   ],
   "source": [
    "%%html\n",
    "<span style=\"color:red; font-family:Helvetica Neue, Helvetica, Arial, sans-serif; font-size:2em;\">An Exception was encountered at 'In [14]'.</span>"
   ]
  },
  {
   "cell_type": "code",
   "execution_count": 6,
   "metadata": {
    "papermill": {
     "duration": 0.188893,
     "end_time": "2020-02-05T03:39:55.067660",
     "exception": false,
     "start_time": "2020-02-05T03:39:54.878767",
     "status": "completed"
    },
    "tags": []
   },
   "outputs": [],
   "source": [
    "%matplotlib inline"
   ]
  },
  {
   "cell_type": "code",
   "execution_count": 7,
   "metadata": {
    "papermill": {
     "duration": 0.084277,
     "end_time": "2020-02-05T03:39:55.159543",
     "exception": false,
     "start_time": "2020-02-05T03:39:55.075266",
     "status": "completed"
    },
    "tags": []
   },
   "outputs": [],
   "source": [
    "import cdsapi\n",
    "import os\n",
    "import urllib\n",
    "import pathlib"
   ]
  },
  {
   "cell_type": "code",
   "execution_count": 8,
   "metadata": {
    "papermill": {
     "duration": 0.013059,
     "end_time": "2020-02-05T03:39:55.181797",
     "exception": false,
     "start_time": "2020-02-05T03:39:55.168738",
     "status": "completed"
    },
    "tags": []
   },
   "outputs": [],
   "source": [
    "HOME = pathlib.Path.home()"
   ]
  },
  {
   "cell_type": "code",
   "execution_count": 9,
   "metadata": {
    "papermill": {
     "duration": 0.011696,
     "end_time": "2020-02-05T03:39:55.201135",
     "exception": false,
     "start_time": "2020-02-05T03:39:55.189439",
     "status": "completed"
    },
    "tags": []
   },
   "outputs": [],
   "source": [
    "provider = 'CDS'"
   ]
  },
  {
   "cell_type": "code",
   "execution_count": 10,
   "metadata": {
    "papermill": {
     "duration": 0.011373,
     "end_time": "2020-02-05T03:39:55.220434",
     "exception": false,
     "start_time": "2020-02-05T03:39:55.209061",
     "status": "completed"
    },
    "tags": []
   },
   "outputs": [],
   "source": [
    "# list of centres 'ecmwf', 'ukmo', 'meteo_france', 'dwd', 'cmcc'"
   ]
  },
  {
   "cell_type": "code",
   "execution_count": 11,
   "metadata": {
    "papermill": {
     "duration": 0.012091,
     "end_time": "2020-02-05T03:39:55.240044",
     "exception": false,
     "start_time": "2020-02-05T03:39:55.227953",
     "status": "completed"
    },
    "tags": [
     "injected-parameters"
    ]
   },
   "outputs": [],
   "source": [
    "# Parameters\n",
    "GCM = \"CMCC\"\n",
    "var_name = \"T2M\"\n",
    "year = 2019\n",
    "month = 11\n"
   ]
  },
  {
   "cell_type": "code",
   "execution_count": 12,
   "metadata": {
    "papermill": {
     "duration": 0.01167,
     "end_time": "2020-02-05T03:39:55.259217",
     "exception": false,
     "start_time": "2020-02-05T03:39:55.247547",
     "status": "completed"
    },
    "tags": []
   },
   "outputs": [],
   "source": [
    "opath = HOME  / 'drives' / 'auck_projects' / 'END19101' / 'Working' / 'data' / 'GCMs' / 'downloads' / 'forecasts' / provider / GCM / var_name "
   ]
  },
  {
   "cell_type": "code",
   "execution_count": 13,
   "metadata": {
    "papermill": {
     "duration": 0.012852,
     "end_time": "2020-02-05T03:39:55.279743",
     "exception": false,
     "start_time": "2020-02-05T03:39:55.266891",
     "status": "completed"
    },
    "tags": []
   },
   "outputs": [
    {
     "data": {
      "text/plain": [
       "PosixPath('/home/nicolasf/drives/auck_projects/END19101/Working/data/GCMs/downloads/forecasts/CDS/CMCC/T2M')"
      ]
     },
     "execution_count": 13,
     "metadata": {},
     "output_type": "execute_result"
    }
   ],
   "source": [
    "opath"
   ]
  },
  {
   "cell_type": "code",
   "execution_count": 14,
   "metadata": {
    "papermill": {
     "duration": 0.116717,
     "end_time": "2020-02-05T03:39:55.404185",
     "exception": false,
     "start_time": "2020-02-05T03:39:55.287468",
     "status": "completed"
    },
    "tags": []
   },
   "outputs": [],
   "source": [
    "if not opath.exists(): \n",
    "    opath.mkdir(parents=True)"
   ]
  },
  {
   "cell_type": "code",
   "execution_count": 15,
   "metadata": {
    "papermill": {
     "duration": 0.012423,
     "end_time": "2020-02-05T03:39:55.427150",
     "exception": false,
     "start_time": "2020-02-05T03:39:55.414727",
     "status": "completed"
    },
    "tags": []
   },
   "outputs": [],
   "source": [
    "# dictionnary mapping the variable name (to be used in the downloaded filename) to the variable name in the CDS datasets\n",
    "var_dict = {}\n",
    "var_dict['T2M'] = '2m_temperature'\n",
    "var_dict['PRECIP'] = 'total_precipitation'\n",
    "var_dict['SST'] = 'sea_surface_temperature'\n",
    "var_dict['Z850'] = 'geopotential'\n",
    "var_dict['Z500'] = 'geopotential'"
   ]
  },
  {
   "cell_type": "code",
   "execution_count": 16,
   "metadata": {
    "papermill": {
     "duration": 0.015882,
     "end_time": "2020-02-05T03:39:55.450860",
     "exception": false,
     "start_time": "2020-02-05T03:39:55.434978",
     "status": "completed"
    },
    "tags": []
   },
   "outputs": [],
   "source": [
    "def fetch_forecast(GCM, var_name, year, month, opath=None):\n",
    "\n",
    "    centre = GCM.lower()\n",
    "    \n",
    "    month = str(month).zfill(2)\n",
    "    year = str(year)\n",
    "    \n",
    "    if \"Z\" in var_name:\n",
    "        \n",
    "        level = var_name[-3:]\n",
    "\n",
    "        c = cdsapi.Client()\n",
    "        try:\n",
    "            data = c.retrieve(\n",
    "            'seasonal-monthly-pressure-levels',\n",
    "            {\n",
    "                'originating_centre':centre,\n",
    "                'variable':var_dict[var_name],\n",
    "                'pressure_level':level,\n",
    "                'product_type':'monthly_mean',\n",
    "                'year':year,\n",
    "                'month':month,\n",
    "                'leadtime_month':[\n",
    "                    '2','3','4',\n",
    "                    '5','6'\n",
    "                ],\n",
    "                'format':'grib'\n",
    "            },\n",
    "            f'{str(opath)}/{GCM}_{var_name}_{year}_{month}.grib')\n",
    "        except:\n",
    "            print(f\"unable to download {var_name} for {year}-{month} for GCM {GCM}\")\n",
    "            data = None\n",
    "\n",
    "    else:\n",
    "\n",
    "        c = cdsapi.Client()\n",
    "        try:\n",
    "            data = c.retrieve(\n",
    "                'seasonal-monthly-single-levels',\n",
    "                {\n",
    "                    'originating_centre':centre,\n",
    "                    'variable':var_dict[var_name],\n",
    "                    'product_type':'monthly_mean',\n",
    "                    'year':str(year),\n",
    "                    'month':str(month),\n",
    "                    'leadtime_month':[\n",
    "                        '2','3','4',\n",
    "                        '5','6'\n",
    "                    ],\n",
    "                    'format':'grib'\n",
    "                },\n",
    "                f'{str(opath)}/{GCM}_{var_name}_{year}_{month}.grib')\n",
    "        except:\n",
    "            print(f\"unable to download {var_name} for {year}-{month} for GCM {GCM}\")\n",
    "            data = None\n",
    "            \n",
    "    return data "
   ]
  },
  {
   "cell_type": "code",
   "execution_count": null,
   "metadata": {
    "papermill": {
     "duration": null,
     "end_time": null,
     "exception": false,
     "start_time": "2020-02-05T03:39:55.458357",
     "status": "running"
    },
    "tags": []
   },
   "outputs": [],
   "source": [
    "data = fetch_forecast(GCM, var_name, year, month, opath=opath)"
   ]
  },
  {
   "cell_type": "code",
   "execution_count": null,
   "metadata": {
    "papermill": {
     "duration": null,
     "end_time": null,
     "exception": null,
     "start_time": null,
     "status": "pending"
    },
    "tags": []
   },
   "outputs": [],
   "source": [
    "filename = pathlib.Path(opath, f'{str(opath)}/{GCM}_{var_name}_{str(year)}_{str(month).zfill(2)}.grib') "
   ]
  },
  {
   "cell_type": "code",
   "execution_count": null,
   "metadata": {
    "papermill": {
     "duration": null,
     "end_time": null,
     "exception": null,
     "start_time": null,
     "status": "pending"
    },
    "tags": []
   },
   "outputs": [],
   "source": [
    "if filename.exists():\n",
    "    print(f\"{filename} already downloaded\")\n",
    "    pass\n",
    "else:\n",
    "    print(f\"trying to download {GCM} monthly for year {year} and month {month}\")\n",
    "    data = fetch_forecast(GCM, var_name, year, month, opath=opath)\n",
    "    if filename.exists(): \n",
    "        data.delete()\n",
    "        print(f\"cleaning up data on the CDS at {data.location}\")\n",
    "    else: \n",
    "        try:\n",
    "            data.download(target=filename)\n",
    "        except: \n",
    "            print(f\"\\n\\n\\n\\nunable to download {filename} from {data.location}\\n\\n\\n\")"
   ]
  }
 ],
 "metadata": {
  "kernelspec": {
   "display_name": "Python 3",
   "language": "python",
   "name": "python3"
  },
  "language_info": {
   "codemirror_mode": {
    "name": "ipython",
    "version": 3
   },
   "file_extension": ".py",
   "mimetype": "text/x-python",
   "name": "python",
   "nbconvert_exporter": "python",
   "pygments_lexer": "ipython3",
   "version": "3.7.5"
  },
  "papermill": {
   "duration": null,
   "end_time": null,
   "environment_variables": {},
   "exception": null,
   "input_path": "./download_CDS_forecasts.ipynb",
   "output_path": "./download_CDS_forecasts.ipynb",
   "parameters": {
    "GCM": "CMCC",
    "month": 11,
    "var_name": "T2M",
    "year": 2019
   },
   "start_time": "2020-02-05T03:39:54.195440",
   "version": "1.2.1"
  }
 },
 "nbformat": 4,
 "nbformat_minor": 4
}