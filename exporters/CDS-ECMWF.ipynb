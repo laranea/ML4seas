{
 "cells": [
  {
   "cell_type": "markdown",
   "metadata": {},
   "source": [
    "## try the multiprocessing package"
   ]
  },
  {
   "cell_type": "code",
   "execution_count": 11,
   "metadata": {},
   "outputs": [
    {
     "name": "stdout",
     "output_type": "stream",
     "text": [
      "[1, 4, 9]\n"
     ]
    }
   ],
   "source": [
    "%timeit\n",
    "from multiprocessing import Pool\n",
    "\n",
    "def f(x):\n",
    "    return x*x\n",
    "\n",
    "with Pool(5) as p:\n",
    "    print(p.map(f, [1, 2, 3]))"
   ]
  },
  {
   "cell_type": "code",
   "execution_count": 14,
   "metadata": {},
   "outputs": [
    {
     "name": "stdout",
     "output_type": "stream",
     "text": [
      "1\n",
      "4\n",
      "9\n"
     ]
    }
   ],
   "source": [
    "for x in [1, 2, 3]:\n",
    "    print(f(x))"
   ]
  },
  {
   "cell_type": "code",
   "execution_count": 13,
   "metadata": {},
   "outputs": [
    {
     "data": {
      "text/plain": [
       "9"
      ]
     },
     "execution_count": 13,
     "metadata": {},
     "output_type": "execute_result"
    }
   ],
   "source": [
    "import glob\n",
    "import os\n",
    "import multiprocessing\n",
    "\n",
    "in_file_dir=\"/soge-home/projects/crop_yield/ESoWC_dummy/data/vhi/ftp.star.nesdis.noaa.gov/pub/corp/scsb/wguo/data/Blended_VH_4km/VH/\"\n",
    "\n",
    "out_file_dir=\"/soge-home/projects/crop_yield/ESoWC_dummy/data/vhi_chop\"\n",
    "\n",
    "def chop_nc_files(file):\n",
    "  \"\"\" merge all of the daily nc files in the directory into one file\"\"\"\n",
    "  output_dir = out_file_dir\n",
    "  year = file.split(\"_\")[-1].split(\".\")[0]\n",
    "\n",
    "  print(f\"** CHOPPING file: {file} - {year} **\")\n",
    "\n",
    "  os.system(f\"cdo sellonlatbox,26,56,-12,18 {file} {output_dir}/EA_{year}.nc\")\n",
    "  # os.system(f\"cdo sellonlatbox,35,46,5,15 {file} {output_dir}/awash/AWASH_{year}.nc\")\n",
    "  print(f\"** {file} - {year} CHOPPED **\")\n",
    "  return\n",
    "\n",
    "if __name__ == \"__main__\":\n",
    "\n",
    "  nc_files = glob.glob(in_file_dir+\"*VH.nc\")\n",
    "  os.system(f\"mkdir -p {out_file_dir}\")\n",
    "  # os.system(\"mkdir -p /scratch/chri4118/chirps/africa/awash\")\n",
    "\n",
    "  assert os.path.isdir(out_file_dir), f\"The output file {out_file_dir} does not exist!\"\n",
    "  pool = multiprocessing.Pool(processes=100)\n",
    "  pool.map(chop_nc_files, nc_files)"
   ]
  },
  {
   "cell_type": "code",
   "execution_count": null,
   "metadata": {},
   "outputs": [],
   "source": []
  }
 ],
 "metadata": {
  "kernelspec": {
   "display_name": "Python 3",
   "language": "python",
   "name": "python3"
  },
  "language_info": {
   "codemirror_mode": {
    "name": "ipython",
    "version": 3
   },
   "file_extension": ".py",
   "mimetype": "text/x-python",
   "name": "python",
   "nbconvert_exporter": "python",
   "pygments_lexer": "ipython3",
   "version": "3.6.7"
  }
 },
 "nbformat": 4,
 "nbformat_minor": 4
}
