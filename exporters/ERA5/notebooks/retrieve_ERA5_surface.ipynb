{
 "cells": [
  {
   "cell_type": "markdown",
   "metadata": {},
   "source": [
    "# download ERA 5 monthly reanalysis for single level variables (T2M, SST, PRECIP)"
   ]
  },
  {
   "cell_type": "code",
   "execution_count": 46,
   "metadata": {},
   "outputs": [],
   "source": [
    "%matplotlib inline"
   ]
  },
  {
   "cell_type": "code",
   "execution_count": 47,
   "metadata": {},
   "outputs": [],
   "source": [
    "import cdsapi\n",
    "import os\n",
    "import urllib\n",
    "import pathlib"
   ]
  },
  {
   "cell_type": "markdown",
   "metadata": {},
   "source": [
    "NOTE, area selection can be done in the retrieve function by adding this \n",
    "\n",
    "```\n",
    "'area':'90/-180/-90/179.75'\n",
    "```\n",
    "\n",
    "to the dictionnary \n",
    "    "
   ]
  },
  {
   "cell_type": "code",
   "execution_count": 48,
   "metadata": {},
   "outputs": [],
   "source": [
    "HOME = pathlib.Path.home()"
   ]
  },
  {
   "cell_type": "code",
   "execution_count": 49,
   "metadata": {},
   "outputs": [
    {
     "name": "stdout",
     "output_type": "stream",
     "text": [
      "/home/nicolasf\n"
     ]
    }
   ],
   "source": [
    "print(HOME)"
   ]
  },
  {
   "cell_type": "code",
   "execution_count": 50,
   "metadata": {},
   "outputs": [],
   "source": [
    "dict_variables = {}\n",
    "dict_variables['T2M'] = '2m_temperature'\n",
    "dict_variables['PRECIP'] = 'total_precipitation'\n",
    "dict_variables['SST'] = 'sea_surface_temperature'"
   ]
  },
  {
   "cell_type": "code",
   "execution_count": 51,
   "metadata": {},
   "outputs": [],
   "source": [
    "var_name = 'T2M'"
   ]
  },
  {
   "cell_type": "markdown",
   "metadata": {},
   "source": [
    "### define or create the output path "
   ]
  },
  {
   "cell_type": "code",
   "execution_count": 52,
   "metadata": {},
   "outputs": [],
   "source": [
    "# opath = HOME / 'research' / 'Smart_Ideas' / 'data' / 'REANALYSIS' / 'ERA5' / var_name"
   ]
  },
  {
   "cell_type": "code",
   "execution_count": 53,
   "metadata": {},
   "outputs": [],
   "source": [
    "opath = HOME / 'drives' / 'auck_projects' / 'END19101' / 'Working' / 'data' / 'REANALYSIS' / 'ERA5' / var_name"
   ]
  },
  {
   "cell_type": "code",
   "execution_count": 54,
   "metadata": {},
   "outputs": [],
   "source": [
    "if not opath.exists(): \n",
    "    opath.mkdir(parents=True)"
   ]
  },
  {
   "cell_type": "code",
   "execution_count": 55,
   "metadata": {},
   "outputs": [],
   "source": [
    "def retrieve_ERA5_surface(year, month, filename):\n",
    "    \n",
    "    data = c.retrieve(\n",
    "    'reanalysis-era5-single-levels-monthly-means',\n",
    "    {\n",
    "        'format':'netcdf',\n",
    "        'variable':dict_variables[var_name],\n",
    "        'year':str(year),\n",
    "        'month':str(month).zfill(2),\n",
    "        'time':'00:00',\n",
    "        'product_type': 'monthly_averaged_reanalysis'\n",
    "    },\n",
    "    filename)\n",
    "    return data"
   ]
  },
  {
   "cell_type": "code",
   "execution_count": 56,
   "metadata": {},
   "outputs": [],
   "source": [
    "c = cdsapi.Client()"
   ]
  },
  {
   "cell_type": "markdown",
   "metadata": {},
   "source": [
    "### delete the data on the CDS server (equivalent to using the \"Your Requests\" CDS interface and manually delete the file)"
   ]
  },
  {
   "cell_type": "code",
   "execution_count": null,
   "metadata": {},
   "outputs": [
    {
     "name": "stderr",
     "output_type": "stream",
     "text": [
      "2020-01-22 13:04:47,950 INFO Sending request to https://cds.climate.copernicus.eu/api/v2/resources/reanalysis-era5-single-levels-monthly-means\n"
     ]
    },
    {
     "name": "stdout",
     "output_type": "stream",
     "text": [
      "trying to download ERA5 monthly for year 1979 and month 1\n"
     ]
    },
    {
     "name": "stderr",
     "output_type": "stream",
     "text": [
      "2020-01-22 13:04:49,123 INFO Request is completed\n",
      "2020-01-22 13:04:49,125 INFO Downloading http://136.156.133.36/cache-compute-0010/cache/data9/adaptor.mars.internal-1579638483.8971696-24774-11-82a5e3cc-2908-48bb-b23f-ee75ac5d5b84.nc to /home/nicolasf/drives/auck_projects/END19101/Working/data/REANALYSIS/ERA5/T2M/ERA5_monthly_T2M_1979_01.nc (2M)\n",
      "2020-01-22 13:04:58,417 INFO Download rate 219.3K/s \n",
      "2020-01-22 13:04:58,841 INFO Sending request to https://cds.climate.copernicus.eu/api/v2/resources/reanalysis-era5-single-levels-monthly-means\n"
     ]
    },
    {
     "name": "stdout",
     "output_type": "stream",
     "text": [
      "cleaning up data on the CDS at http://136.156.133.36/cache-compute-0010/cache/data9/adaptor.mars.internal-1579638483.8971696-24774-11-82a5e3cc-2908-48bb-b23f-ee75ac5d5b84.nc\n",
      "trying to download ERA5 monthly for year 1979 and month 2\n"
     ]
    },
    {
     "name": "stderr",
     "output_type": "stream",
     "text": [
      "2020-01-22 13:04:59,926 INFO Downloading http://136.156.132.235/cache-compute-0006/cache/data3/adaptor.mars.internal-1579651356.0374494-14104-13-35491abc-603f-43c3-a5a0-951481f4c390.nc to /home/nicolasf/drives/auck_projects/END19101/Working/data/REANALYSIS/ERA5/T2M/ERA5_monthly_T2M_1979_02.nc (2M)\n",
      "2020-01-22 13:05:09,184 INFO Download rate 220.1K/s \n",
      "2020-01-22 13:05:09,652 INFO Sending request to https://cds.climate.copernicus.eu/api/v2/resources/reanalysis-era5-single-levels-monthly-means\n"
     ]
    },
    {
     "name": "stdout",
     "output_type": "stream",
     "text": [
      "cleaning up data on the CDS at http://136.156.132.235/cache-compute-0006/cache/data3/adaptor.mars.internal-1579651356.0374494-14104-13-35491abc-603f-43c3-a5a0-951481f4c390.nc\n",
      "trying to download ERA5 monthly for year 1979 and month 3\n"
     ]
    },
    {
     "name": "stderr",
     "output_type": "stream",
     "text": [
      "2020-01-22 13:05:10,034 INFO Downloading http://136.156.133.32/cache-compute-0009/cache/data1/adaptor.mars.internal-1579651369.4540725-26388-9-fb67e6ae-7314-47e5-95c5-ce147996c00c.nc to /home/nicolasf/drives/auck_projects/END19101/Working/data/REANALYSIS/ERA5/T2M/ERA5_monthly_T2M_1979_03.nc (2M)\n",
      "2020-01-22 13:05:19,301 INFO Download rate 219.9K/s \n",
      "2020-01-22 13:05:19,712 INFO Sending request to https://cds.climate.copernicus.eu/api/v2/resources/reanalysis-era5-single-levels-monthly-means\n"
     ]
    },
    {
     "name": "stdout",
     "output_type": "stream",
     "text": [
      "cleaning up data on the CDS at http://136.156.133.32/cache-compute-0009/cache/data1/adaptor.mars.internal-1579651369.4540725-26388-9-fb67e6ae-7314-47e5-95c5-ce147996c00c.nc\n",
      "trying to download ERA5 monthly for year 1979 and month 4\n"
     ]
    },
    {
     "name": "stderr",
     "output_type": "stream",
     "text": [
      "2020-01-22 13:05:20,021 INFO Downloading http://136.156.132.153/cache-compute-0002/cache/data2/adaptor.mars.internal-1579651383.0244238-10943-31-57d832cf-bf6b-4164-a21c-465a12d133fd.nc to /home/nicolasf/drives/auck_projects/END19101/Working/data/REANALYSIS/ERA5/T2M/ERA5_monthly_T2M_1979_04.nc (2M)\n",
      "2020-01-22 13:05:29,265 INFO Download rate 220.4K/s \n",
      "2020-01-22 13:05:29,725 INFO Sending request to https://cds.climate.copernicus.eu/api/v2/resources/reanalysis-era5-single-levels-monthly-means\n"
     ]
    },
    {
     "name": "stdout",
     "output_type": "stream",
     "text": [
      "cleaning up data on the CDS at http://136.156.132.153/cache-compute-0002/cache/data2/adaptor.mars.internal-1579651383.0244238-10943-31-57d832cf-bf6b-4164-a21c-465a12d133fd.nc\n",
      "trying to download ERA5 monthly for year 1979 and month 5\n"
     ]
    },
    {
     "name": "stderr",
     "output_type": "stream",
     "text": [
      "2020-01-22 13:05:30,065 INFO Downloading http://136.156.133.36/cache-compute-0010/cache/data4/adaptor.mars.internal-1579651399.0618956-18835-7-c3ba5631-cf72-4066-b131-4d71131b9c77.nc to /home/nicolasf/drives/auck_projects/END19101/Working/data/REANALYSIS/ERA5/T2M/ERA5_monthly_T2M_1979_05.nc (2M)\n",
      "2020-01-22 13:05:39,332 INFO Download rate 219.9K/s \n",
      "2020-01-22 13:05:39,828 INFO Sending request to https://cds.climate.copernicus.eu/api/v2/resources/reanalysis-era5-single-levels-monthly-means\n"
     ]
    },
    {
     "name": "stdout",
     "output_type": "stream",
     "text": [
      "cleaning up data on the CDS at http://136.156.133.36/cache-compute-0010/cache/data4/adaptor.mars.internal-1579651399.0618956-18835-7-c3ba5631-cf72-4066-b131-4d71131b9c77.nc\n",
      "trying to download ERA5 monthly for year 1979 and month 6\n"
     ]
    },
    {
     "name": "stderr",
     "output_type": "stream",
     "text": [
      "2020-01-22 13:05:40,200 INFO Request is queued\n",
      "2020-01-22 13:05:41,480 INFO Request is running\n",
      "2020-01-22 13:05:43,258 INFO Request is completed\n",
      "2020-01-22 13:05:43,260 INFO Downloading http://136.156.133.46/cache-compute-0015/cache/data8/adaptor.mars.internal-1579651540.7131205-32652-35-8e17eca4-6fba-4dec-9aaf-011348a14f4e.nc to /home/nicolasf/drives/auck_projects/END19101/Working/data/REANALYSIS/ERA5/T2M/ERA5_monthly_T2M_1979_06.nc (2M)\n",
      "2020-01-22 13:05:52,655 INFO Download rate 216.9K/s \n",
      "2020-01-22 13:05:53,074 INFO Sending request to https://cds.climate.copernicus.eu/api/v2/resources/reanalysis-era5-single-levels-monthly-means\n"
     ]
    },
    {
     "name": "stdout",
     "output_type": "stream",
     "text": [
      "cleaning up data on the CDS at http://136.156.133.46/cache-compute-0015/cache/data8/adaptor.mars.internal-1579651540.7131205-32652-35-8e17eca4-6fba-4dec-9aaf-011348a14f4e.nc\n",
      "trying to download ERA5 monthly for year 1979 and month 7\n"
     ]
    },
    {
     "name": "stderr",
     "output_type": "stream",
     "text": [
      "2020-01-22 13:05:53,624 INFO Request is queued\n",
      "2020-01-22 13:05:54,900 INFO Request is running\n",
      "2020-01-22 13:05:56,676 INFO Request is completed\n",
      "2020-01-22 13:05:56,678 INFO Downloading http://136.156.132.153/cache-compute-0002/cache/data9/adaptor.mars.internal-1579651553.700592-21723-1-add02567-ba5a-4370-8e56-e85c5741c368.nc to /home/nicolasf/drives/auck_projects/END19101/Working/data/REANALYSIS/ERA5/T2M/ERA5_monthly_T2M_1979_07.nc (2M)\n",
      "2020-01-22 13:06:05,956 INFO Download rate 219.6K/s \n",
      "2020-01-22 13:06:06,386 INFO Sending request to https://cds.climate.copernicus.eu/api/v2/resources/reanalysis-era5-single-levels-monthly-means\n"
     ]
    },
    {
     "name": "stdout",
     "output_type": "stream",
     "text": [
      "cleaning up data on the CDS at http://136.156.132.153/cache-compute-0002/cache/data9/adaptor.mars.internal-1579651553.700592-21723-1-add02567-ba5a-4370-8e56-e85c5741c368.nc\n",
      "trying to download ERA5 monthly for year 1979 and month 8\n"
     ]
    },
    {
     "name": "stderr",
     "output_type": "stream",
     "text": [
      "2020-01-22 13:06:07,167 INFO Request is queued\n",
      "2020-01-22 13:06:08,446 INFO Request is running\n",
      "2020-01-22 13:06:12,754 INFO Request is completed\n",
      "2020-01-22 13:06:12,756 INFO Downloading http://136.156.133.36/cache-compute-0010/cache/data5/adaptor.mars.internal-1579651567.2891338-20655-3-ad9d8cbe-77ee-42bb-b0d4-d23ee673ff1a.nc to /home/nicolasf/drives/auck_projects/END19101/Working/data/REANALYSIS/ERA5/T2M/ERA5_monthly_T2M_1979_08.nc (2M)\n",
      "2020-01-22 13:06:22,022 INFO Download rate 219.9K/s \n",
      "2020-01-22 13:06:22,477 INFO Sending request to https://cds.climate.copernicus.eu/api/v2/resources/reanalysis-era5-single-levels-monthly-means\n"
     ]
    },
    {
     "name": "stdout",
     "output_type": "stream",
     "text": [
      "cleaning up data on the CDS at http://136.156.133.36/cache-compute-0010/cache/data5/adaptor.mars.internal-1579651567.2891338-20655-3-ad9d8cbe-77ee-42bb-b0d4-d23ee673ff1a.nc\n",
      "trying to download ERA5 monthly for year 1979 and month 9\n"
     ]
    },
    {
     "name": "stderr",
     "output_type": "stream",
     "text": [
      "2020-01-22 13:06:22,839 INFO Request is queued\n",
      "2020-01-22 13:06:24,120 INFO Request is running\n",
      "2020-01-22 13:06:28,423 INFO Request is completed\n",
      "2020-01-22 13:06:28,424 INFO Downloading http://136.156.132.198/cache-compute-0003/cache/data6/adaptor.mars.internal-1579651582.9676306-30952-9-32d128bc-34b5-4ca7-bdad-a0ff667a9c68.nc to /home/nicolasf/drives/auck_projects/END19101/Working/data/REANALYSIS/ERA5/T2M/ERA5_monthly_T2M_1979_09.nc (2M)\n",
      "2020-01-22 13:06:37,820 INFO Download rate 216.8K/s \n",
      "2020-01-22 13:06:38,213 INFO Sending request to https://cds.climate.copernicus.eu/api/v2/resources/reanalysis-era5-single-levels-monthly-means\n"
     ]
    },
    {
     "name": "stdout",
     "output_type": "stream",
     "text": [
      "cleaning up data on the CDS at http://136.156.132.198/cache-compute-0003/cache/data6/adaptor.mars.internal-1579651582.9676306-30952-9-32d128bc-34b5-4ca7-bdad-a0ff667a9c68.nc\n",
      "trying to download ERA5 monthly for year 1979 and month 10\n"
     ]
    },
    {
     "name": "stderr",
     "output_type": "stream",
     "text": [
      "2020-01-22 13:06:38,589 INFO Request is queued\n",
      "2020-01-22 13:06:39,865 INFO Request is running\n",
      "2020-01-22 13:06:41,644 INFO Request is completed\n",
      "2020-01-22 13:06:41,645 INFO Downloading http://136.156.132.153/cache-compute-0002/cache/data3/adaptor.mars.internal-1579651598.596154-13097-15-20e07fea-770d-4188-bec6-e6004c8a1ecb.nc to /home/nicolasf/drives/auck_projects/END19101/Working/data/REANALYSIS/ERA5/T2M/ERA5_monthly_T2M_1979_10.nc (2M)\n",
      "2020-01-22 13:06:50,947 INFO Download rate 219.1K/s \n",
      "2020-01-22 13:06:51,330 INFO Sending request to https://cds.climate.copernicus.eu/api/v2/resources/reanalysis-era5-single-levels-monthly-means\n"
     ]
    },
    {
     "name": "stdout",
     "output_type": "stream",
     "text": [
      "cleaning up data on the CDS at http://136.156.132.153/cache-compute-0002/cache/data3/adaptor.mars.internal-1579651598.596154-13097-15-20e07fea-770d-4188-bec6-e6004c8a1ecb.nc\n",
      "trying to download ERA5 monthly for year 1979 and month 11\n"
     ]
    },
    {
     "name": "stderr",
     "output_type": "stream",
     "text": [
      "2020-01-22 13:06:51,696 INFO Request is queued\n",
      "2020-01-22 13:06:52,974 INFO Request is running\n",
      "2020-01-22 13:06:54,751 INFO Request is completed\n",
      "2020-01-22 13:06:54,752 INFO Downloading http://136.156.132.153/cache-compute-0002/cache/data2/adaptor.mars.internal-1579651611.706037-10770-37-8b0e158b-6acf-4af9-9393-9ec3a4cc7e28.nc to /home/nicolasf/drives/auck_projects/END19101/Working/data/REANALYSIS/ERA5/T2M/ERA5_monthly_T2M_1979_11.nc (2M)\n",
      "2020-01-22 13:07:04,001 INFO Download rate 220.3K/s \n",
      "2020-01-22 13:07:04,557 INFO Sending request to https://cds.climate.copernicus.eu/api/v2/resources/reanalysis-era5-single-levels-monthly-means\n"
     ]
    },
    {
     "name": "stdout",
     "output_type": "stream",
     "text": [
      "cleaning up data on the CDS at http://136.156.132.153/cache-compute-0002/cache/data2/adaptor.mars.internal-1579651611.706037-10770-37-8b0e158b-6acf-4af9-9393-9ec3a4cc7e28.nc\n",
      "trying to download ERA5 monthly for year 1979 and month 12\n"
     ]
    },
    {
     "name": "stderr",
     "output_type": "stream",
     "text": [
      "2020-01-22 13:07:04,942 INFO Request is queued\n",
      "2020-01-22 13:07:06,221 INFO Request is running\n",
      "2020-01-22 13:07:08,001 INFO Request is completed\n",
      "2020-01-22 13:07:08,003 INFO Downloading http://136.156.133.39/cache-compute-0012/cache/data1/adaptor.mars.internal-1579651624.9508278-7917-29-c3523bc6-e9bc-4e7d-a86f-4632195397c0.nc to /home/nicolasf/drives/auck_projects/END19101/Working/data/REANALYSIS/ERA5/T2M/ERA5_monthly_T2M_1979_12.nc (2M)\n",
      "2020-01-22 13:07:17,414 INFO Download rate 216.5K/s \n",
      "2020-01-22 13:07:17,813 INFO Sending request to https://cds.climate.copernicus.eu/api/v2/resources/reanalysis-era5-single-levels-monthly-means\n"
     ]
    },
    {
     "name": "stdout",
     "output_type": "stream",
     "text": [
      "cleaning up data on the CDS at http://136.156.133.39/cache-compute-0012/cache/data1/adaptor.mars.internal-1579651624.9508278-7917-29-c3523bc6-e9bc-4e7d-a86f-4632195397c0.nc\n",
      "trying to download ERA5 monthly for year 1980 and month 1\n"
     ]
    },
    {
     "name": "stderr",
     "output_type": "stream",
     "text": [
      "2020-01-22 13:07:18,287 INFO Request is queued\n",
      "2020-01-22 13:07:19,570 INFO Request is running\n",
      "2020-01-22 13:07:21,351 INFO Request is completed\n",
      "2020-01-22 13:07:21,353 INFO Downloading http://136.156.132.110/cache-compute-0001/cache/data6/adaptor.mars.internal-1579651638.3464448-8306-33-9306a178-1142-4c36-b912-3614105d0479.nc to /home/nicolasf/drives/auck_projects/END19101/Working/data/REANALYSIS/ERA5/T2M/ERA5_monthly_T2M_1980_01.nc (2M)\n",
      "2020-01-22 13:07:30,761 INFO Download rate 216.6K/s \n",
      "2020-01-22 13:07:31,193 INFO Sending request to https://cds.climate.copernicus.eu/api/v2/resources/reanalysis-era5-single-levels-monthly-means\n"
     ]
    },
    {
     "name": "stdout",
     "output_type": "stream",
     "text": [
      "cleaning up data on the CDS at http://136.156.132.110/cache-compute-0001/cache/data6/adaptor.mars.internal-1579651638.3464448-8306-33-9306a178-1142-4c36-b912-3614105d0479.nc\n",
      "trying to download ERA5 monthly for year 1980 and month 2\n"
     ]
    },
    {
     "name": "stderr",
     "output_type": "stream",
     "text": [
      "2020-01-22 13:07:31,537 INFO Request is queued\n",
      "2020-01-22 13:07:32,815 INFO Request is running\n",
      "2020-01-22 13:07:34,592 INFO Request is completed\n",
      "2020-01-22 13:07:34,595 INFO Downloading http://136.156.133.42/cache-compute-0014/cache/data4/adaptor.mars.internal-1579651651.574661-17103-5-bef822c8-31bf-4e94-8764-07b202bf496e.nc to /home/nicolasf/drives/auck_projects/END19101/Working/data/REANALYSIS/ERA5/T2M/ERA5_monthly_T2M_1980_02.nc (2M)\n",
      "2020-01-22 13:07:43,991 INFO Download rate 216.8K/s \n",
      "2020-01-22 13:07:44,470 INFO Sending request to https://cds.climate.copernicus.eu/api/v2/resources/reanalysis-era5-single-levels-monthly-means\n"
     ]
    },
    {
     "name": "stdout",
     "output_type": "stream",
     "text": [
      "cleaning up data on the CDS at http://136.156.133.42/cache-compute-0014/cache/data4/adaptor.mars.internal-1579651651.574661-17103-5-bef822c8-31bf-4e94-8764-07b202bf496e.nc\n",
      "trying to download ERA5 monthly for year 1980 and month 3\n"
     ]
    },
    {
     "name": "stderr",
     "output_type": "stream",
     "text": [
      "2020-01-22 13:07:44,942 INFO Request is queued\n",
      "2020-01-22 13:07:46,334 INFO Request is running\n",
      "2020-01-22 13:07:50,675 INFO Request is completed\n",
      "2020-01-22 13:07:50,675 INFO Downloading http://136.156.132.110/cache-compute-0001/cache/data6/adaptor.mars.internal-1579651664.8478181-8957-29-fd238f52-f6eb-4a37-8b27-579280e1aef5.nc to /home/nicolasf/drives/auck_projects/END19101/Working/data/REANALYSIS/ERA5/T2M/ERA5_monthly_T2M_1980_03.nc (2M)\n",
      "2020-01-22 13:08:00,075 INFO Download rate 216.7K/s \n",
      "2020-01-22 13:08:00,671 INFO Sending request to https://cds.climate.copernicus.eu/api/v2/resources/reanalysis-era5-single-levels-monthly-means\n"
     ]
    },
    {
     "name": "stdout",
     "output_type": "stream",
     "text": [
      "cleaning up data on the CDS at http://136.156.132.110/cache-compute-0001/cache/data6/adaptor.mars.internal-1579651664.8478181-8957-29-fd238f52-f6eb-4a37-8b27-579280e1aef5.nc\n",
      "trying to download ERA5 monthly for year 1980 and month 4\n"
     ]
    },
    {
     "name": "stderr",
     "output_type": "stream",
     "text": [
      "2020-01-22 13:08:01,403 INFO Request is queued\n",
      "2020-01-22 13:08:02,682 INFO Request is running\n",
      "2020-01-22 13:08:04,460 INFO Request is completed\n",
      "2020-01-22 13:08:04,461 INFO Downloading http://136.156.133.39/cache-compute-0012/cache/data8/adaptor.mars.internal-1579651681.5864255-21463-1-7ba7fa49-d057-456b-ae4e-34e5df59b825.nc to /home/nicolasf/drives/auck_projects/END19101/Working/data/REANALYSIS/ERA5/T2M/ERA5_monthly_T2M_1980_04.nc (2M)\n",
      "2020-01-22 13:08:13,984 INFO Download rate 213.9K/s \n",
      "2020-01-22 13:08:14,579 INFO Sending request to https://cds.climate.copernicus.eu/api/v2/resources/reanalysis-era5-single-levels-monthly-means\n"
     ]
    },
    {
     "name": "stdout",
     "output_type": "stream",
     "text": [
      "cleaning up data on the CDS at http://136.156.133.39/cache-compute-0012/cache/data8/adaptor.mars.internal-1579651681.5864255-21463-1-7ba7fa49-d057-456b-ae4e-34e5df59b825.nc\n",
      "trying to download ERA5 monthly for year 1980 and month 5\n"
     ]
    },
    {
     "name": "stderr",
     "output_type": "stream",
     "text": [
      "2020-01-22 13:08:15,206 INFO Request is queued\n",
      "2020-01-22 13:08:16,486 INFO Request is running\n",
      "2020-01-22 13:08:18,266 INFO Request is completed\n",
      "2020-01-22 13:08:18,268 INFO Downloading http://136.156.132.210/cache-compute-0005/cache/data3/adaptor.mars.internal-1579651695.2230594-12325-25-0f8822a2-f84c-4cf3-ae56-fec83c204f3c.nc to /home/nicolasf/drives/auck_projects/END19101/Working/data/REANALYSIS/ERA5/T2M/ERA5_monthly_T2M_1980_05.nc (2M)\n",
      "2020-01-22 13:08:27,677 INFO Download rate 216.6K/s \n",
      "2020-01-22 13:08:28,350 INFO Sending request to https://cds.climate.copernicus.eu/api/v2/resources/reanalysis-era5-single-levels-monthly-means\n"
     ]
    },
    {
     "name": "stdout",
     "output_type": "stream",
     "text": [
      "cleaning up data on the CDS at http://136.156.132.210/cache-compute-0005/cache/data3/adaptor.mars.internal-1579651695.2230594-12325-25-0f8822a2-f84c-4cf3-ae56-fec83c204f3c.nc\n",
      "trying to download ERA5 monthly for year 1980 and month 6\n"
     ]
    },
    {
     "name": "stderr",
     "output_type": "stream",
     "text": [
      "2020-01-22 13:08:28,962 INFO Request is queued\n",
      "2020-01-22 13:08:30,241 INFO Request is running\n",
      "2020-01-22 13:08:34,548 INFO Request is completed\n",
      "2020-01-22 13:08:34,549 INFO Downloading http://136.156.133.36/cache-compute-0010/cache/data7/adaptor.mars.internal-1579651709.767092-3883-29-c3e31347-4418-4a49-b83e-178f7358fad0.nc to /home/nicolasf/drives/auck_projects/END19101/Working/data/REANALYSIS/ERA5/T2M/ERA5_monthly_T2M_1980_06.nc (2M)\n",
      "2020-01-22 13:08:43,730 INFO Download rate 221.9K/s \n",
      "2020-01-22 13:08:44,182 INFO Sending request to https://cds.climate.copernicus.eu/api/v2/resources/reanalysis-era5-single-levels-monthly-means\n"
     ]
    },
    {
     "name": "stdout",
     "output_type": "stream",
     "text": [
      "cleaning up data on the CDS at http://136.156.133.36/cache-compute-0010/cache/data7/adaptor.mars.internal-1579651709.767092-3883-29-c3e31347-4418-4a49-b83e-178f7358fad0.nc\n",
      "trying to download ERA5 monthly for year 1980 and month 7\n"
     ]
    },
    {
     "name": "stderr",
     "output_type": "stream",
     "text": [
      "2020-01-22 13:08:44,530 INFO Request is queued\n",
      "2020-01-22 13:08:45,802 INFO Request is running\n",
      "2020-01-22 13:08:50,099 INFO Request is completed\n",
      "2020-01-22 13:08:50,100 INFO Downloading http://136.156.133.32/cache-compute-0009/cache/data1/adaptor.mars.internal-1579651724.6993778-20115-31-b735755c-e389-4474-b6b6-fd8b327eb054.nc to /home/nicolasf/drives/auck_projects/END19101/Working/data/REANALYSIS/ERA5/T2M/ERA5_monthly_T2M_1980_07.nc (2M)\n",
      "2020-01-22 13:08:59,343 INFO Download rate 220.4K/s \n",
      "2020-01-22 13:08:59,760 INFO Sending request to https://cds.climate.copernicus.eu/api/v2/resources/reanalysis-era5-single-levels-monthly-means\n"
     ]
    },
    {
     "name": "stdout",
     "output_type": "stream",
     "text": [
      "cleaning up data on the CDS at http://136.156.133.32/cache-compute-0009/cache/data1/adaptor.mars.internal-1579651724.6993778-20115-31-b735755c-e389-4474-b6b6-fd8b327eb054.nc\n",
      "trying to download ERA5 monthly for year 1980 and month 8\n"
     ]
    },
    {
     "name": "stderr",
     "output_type": "stream",
     "text": [
      "2020-01-22 13:09:00,134 INFO Request is queued\n",
      "2020-01-22 13:09:01,412 INFO Request is running\n",
      "2020-01-22 13:09:05,715 INFO Request is completed\n",
      "2020-01-22 13:09:05,717 INFO Downloading http://136.156.132.105/cache-compute-0000/cache/data9/adaptor.mars.internal-1579651740.453368-9194-1-b5beab0e-ba71-4e77-8dc7-cb1c1c22d19e.nc to /home/nicolasf/drives/auck_projects/END19101/Working/data/REANALYSIS/ERA5/T2M/ERA5_monthly_T2M_1980_08.nc (2M)\n",
      "2020-01-22 13:09:15,101 INFO Download rate 217.2K/s \n",
      "2020-01-22 13:09:15,914 INFO Sending request to https://cds.climate.copernicus.eu/api/v2/resources/reanalysis-era5-single-levels-monthly-means\n"
     ]
    },
    {
     "name": "stdout",
     "output_type": "stream",
     "text": [
      "cleaning up data on the CDS at http://136.156.132.105/cache-compute-0000/cache/data9/adaptor.mars.internal-1579651740.453368-9194-1-b5beab0e-ba71-4e77-8dc7-cb1c1c22d19e.nc\n",
      "trying to download ERA5 monthly for year 1980 and month 9\n"
     ]
    },
    {
     "name": "stderr",
     "output_type": "stream",
     "text": [
      "2020-01-22 13:09:16,449 INFO Request is queued\n",
      "2020-01-22 13:09:17,727 INFO Request is running\n",
      "2020-01-22 13:09:19,511 INFO Request is completed\n",
      "2020-01-22 13:09:19,513 INFO Downloading http://136.156.132.236/cache-compute-0007/cache/data2/adaptor.mars.internal-1579651756.513186-3361-15-10ae2007-001e-4be4-b6d9-cf255ee83861.nc to /home/nicolasf/drives/auck_projects/END19101/Working/data/REANALYSIS/ERA5/T2M/ERA5_monthly_T2M_1980_09.nc (2M)\n"
     ]
    }
   ],
   "source": [
    "for year in range(1979, 2016 + 1): \n",
    "    for month in range(1, 12 + 1): \n",
    "        filename = pathlib.Path(opath / f\"ERA5_monthly_{var_name}_{year}_{str(month).zfill(2)}.nc\")\n",
    "        if filename.exists():\n",
    "            print(f\"{filename} already downloaded\")\n",
    "            pass\n",
    "        else:\n",
    "            print(f\"trying to download ERA5 monthly for year {year} and month {month}\")\n",
    "            data = retrieve_ERA5_surface(year, month, filename)\n",
    "            if filename.exists(): \n",
    "                data.delete()\n",
    "                print(f\"cleaning up data on the CDS at {data.location}\")\n",
    "            else: \n",
    "                try:\n",
    "                    data.download(target=filename)\n",
    "                except: \n",
    "                    print(f\"unable to download {filename} from {data.location}\")"
   ]
  },
  {
   "cell_type": "code",
   "execution_count": null,
   "metadata": {},
   "outputs": [],
   "source": []
  }
 ],
 "metadata": {
  "kernelspec": {
   "display_name": "Python 3",
   "language": "python",
   "name": "python3"
  },
  "language_info": {
   "codemirror_mode": {
    "name": "ipython",
    "version": 3
   },
   "file_extension": ".py",
   "mimetype": "text/x-python",
   "name": "python",
   "nbconvert_exporter": "python",
   "pygments_lexer": "ipython3",
   "version": "3.7.5"
  }
 },
 "nbformat": 4,
 "nbformat_minor": 4
}
