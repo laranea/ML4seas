{
 "cells": [
  {
   "cell_type": "code",
   "execution_count": 1,
   "metadata": {},
   "outputs": [],
   "source": [
    "%matplotlib inline\n",
    "import matplotlib.pyplot as plt"
   ]
  },
  {
   "cell_type": "code",
   "execution_count": 2,
   "metadata": {},
   "outputs": [],
   "source": [
    "from datetime import datetime, timedelta"
   ]
  },
  {
   "cell_type": "code",
   "execution_count": 3,
   "metadata": {},
   "outputs": [],
   "source": [
    "import numpy as np\n",
    "import pandas as pd"
   ]
  },
  {
   "cell_type": "code",
   "execution_count": 4,
   "metadata": {},
   "outputs": [
    {
     "name": "stdout",
     "output_type": "stream",
     "text": [
      "0.14.1\n"
     ]
    }
   ],
   "source": [
    "import xarray as xr; print(xr.__version__)"
   ]
  },
  {
   "cell_type": "code",
   "execution_count": 5,
   "metadata": {},
   "outputs": [],
   "source": [
    "import dask"
   ]
  },
  {
   "cell_type": "code",
   "execution_count": 6,
   "metadata": {},
   "outputs": [
    {
     "name": "stderr",
     "output_type": "stream",
     "text": [
      "/home/nicolasf/anaconda3/envs/climlab/lib/python3.7/site-packages/distributed/dashboard/core.py:72: UserWarning: \n",
      "Port 8787 is already in use. \n",
      "Perhaps you already have a cluster running?\n",
      "Hosting the diagnostics dashboard on a random port instead.\n",
      "  warnings.warn(\"\\n\" + msg)\n"
     ]
    }
   ],
   "source": [
    "client = dask.distributed.Client()"
   ]
  },
  {
   "cell_type": "code",
   "execution_count": 7,
   "metadata": {},
   "outputs": [],
   "source": [
    "from dask.diagnostics import ProgressBar"
   ]
  },
  {
   "cell_type": "code",
   "execution_count": 8,
   "metadata": {},
   "outputs": [
    {
     "data": {
      "text/html": [
       "<table style=\"border: 2px solid white;\">\n",
       "<tr>\n",
       "<td style=\"vertical-align: top; border: 0px solid white\">\n",
       "<h3 style=\"text-align: left;\">Client</h3>\n",
       "<ul style=\"text-align: left; list-style: none; margin: 0; padding: 0;\">\n",
       "  <li><b>Scheduler: </b>tcp://127.0.0.1:35885</li>\n",
       "  <li><b>Dashboard: </b><a href='http://127.0.0.1:41449/status' target='_blank'>http://127.0.0.1:41449/status</a>\n",
       "</ul>\n",
       "</td>\n",
       "<td style=\"vertical-align: top; border: 0px solid white\">\n",
       "<h3 style=\"text-align: left;\">Cluster</h3>\n",
       "<ul style=\"text-align: left; list-style:none; margin: 0; padding: 0;\">\n",
       "  <li><b>Workers: </b>4</li>\n",
       "  <li><b>Cores: </b>12</li>\n",
       "  <li><b>Memory: </b>134.95 GB</li>\n",
       "</ul>\n",
       "</td>\n",
       "</tr>\n",
       "</table>"
      ],
      "text/plain": [
       "<Client: 'tcp://127.0.0.1:35885' processes=4 threads=12, memory=134.95 GB>"
      ]
     },
     "execution_count": 8,
     "metadata": {},
     "output_type": "execute_result"
    }
   ],
   "source": [
    "client"
   ]
  },
  {
   "cell_type": "code",
   "execution_count": 9,
   "metadata": {},
   "outputs": [],
   "source": [
    "import pathlib"
   ]
  },
  {
   "cell_type": "code",
   "execution_count": 10,
   "metadata": {},
   "outputs": [],
   "source": [
    "from datetime import datetime, timedelta\n",
    "from dateutil.relativedelta import relativedelta"
   ]
  },
  {
   "cell_type": "code",
   "execution_count": 11,
   "metadata": {},
   "outputs": [],
   "source": [
    "HOME = pathlib.Path.home()"
   ]
  },
  {
   "cell_type": "code",
   "execution_count": 12,
   "metadata": {},
   "outputs": [],
   "source": [
    "provider = 'JMA'"
   ]
  },
  {
   "cell_type": "code",
   "execution_count": 13,
   "metadata": {},
   "outputs": [],
   "source": [
    "var_name = 'SST'"
   ]
  },
  {
   "cell_type": "code",
   "execution_count": 14,
   "metadata": {},
   "outputs": [],
   "source": [
    "GCM = 'JMA'"
   ]
  },
  {
   "cell_type": "code",
   "execution_count": 15,
   "metadata": {},
   "outputs": [],
   "source": [
    "dpath = HOME / 'research' / 'Smart_Ideas' / 'data' / 'GCMs' / 'NC' / GCM / var_name"
   ]
  },
  {
   "cell_type": "code",
   "execution_count": 16,
   "metadata": {},
   "outputs": [
    {
     "data": {
      "text/plain": [
       "PosixPath('/home/nicolasf/research/Smart_Ideas/data/GCMs/NC/JMA/SST')"
      ]
     },
     "execution_count": 16,
     "metadata": {},
     "output_type": "execute_result"
    }
   ],
   "source": [
    "dpath"
   ]
  },
  {
   "cell_type": "code",
   "execution_count": 17,
   "metadata": {},
   "outputs": [],
   "source": [
    "lfiles = list(dpath.glob(\"*seasonal.nc\"))"
   ]
  },
  {
   "cell_type": "code",
   "execution_count": 18,
   "metadata": {},
   "outputs": [],
   "source": [
    "lfiles.sort()"
   ]
  },
  {
   "cell_type": "code",
   "execution_count": 19,
   "metadata": {},
   "outputs": [
    {
     "data": {
      "text/plain": [
       "[PosixPath('/home/nicolasf/research/Smart_Ideas/data/GCMs/NC/JMA/SST/SST_hindcasts_1979_JMA_seasonal.nc'),\n",
       " PosixPath('/home/nicolasf/research/Smart_Ideas/data/GCMs/NC/JMA/SST/SST_hindcasts_1980_JMA_seasonal.nc'),\n",
       " PosixPath('/home/nicolasf/research/Smart_Ideas/data/GCMs/NC/JMA/SST/SST_hindcasts_1981_JMA_seasonal.nc'),\n",
       " PosixPath('/home/nicolasf/research/Smart_Ideas/data/GCMs/NC/JMA/SST/SST_hindcasts_1982_JMA_seasonal.nc'),\n",
       " PosixPath('/home/nicolasf/research/Smart_Ideas/data/GCMs/NC/JMA/SST/SST_hindcasts_1983_JMA_seasonal.nc'),\n",
       " PosixPath('/home/nicolasf/research/Smart_Ideas/data/GCMs/NC/JMA/SST/SST_hindcasts_1984_JMA_seasonal.nc'),\n",
       " PosixPath('/home/nicolasf/research/Smart_Ideas/data/GCMs/NC/JMA/SST/SST_hindcasts_1985_JMA_seasonal.nc'),\n",
       " PosixPath('/home/nicolasf/research/Smart_Ideas/data/GCMs/NC/JMA/SST/SST_hindcasts_1986_JMA_seasonal.nc'),\n",
       " PosixPath('/home/nicolasf/research/Smart_Ideas/data/GCMs/NC/JMA/SST/SST_hindcasts_1987_JMA_seasonal.nc'),\n",
       " PosixPath('/home/nicolasf/research/Smart_Ideas/data/GCMs/NC/JMA/SST/SST_hindcasts_1988_JMA_seasonal.nc'),\n",
       " PosixPath('/home/nicolasf/research/Smart_Ideas/data/GCMs/NC/JMA/SST/SST_hindcasts_1989_JMA_seasonal.nc'),\n",
       " PosixPath('/home/nicolasf/research/Smart_Ideas/data/GCMs/NC/JMA/SST/SST_hindcasts_1990_JMA_seasonal.nc'),\n",
       " PosixPath('/home/nicolasf/research/Smart_Ideas/data/GCMs/NC/JMA/SST/SST_hindcasts_1991_JMA_seasonal.nc'),\n",
       " PosixPath('/home/nicolasf/research/Smart_Ideas/data/GCMs/NC/JMA/SST/SST_hindcasts_1992_JMA_seasonal.nc'),\n",
       " PosixPath('/home/nicolasf/research/Smart_Ideas/data/GCMs/NC/JMA/SST/SST_hindcasts_1993_JMA_seasonal.nc'),\n",
       " PosixPath('/home/nicolasf/research/Smart_Ideas/data/GCMs/NC/JMA/SST/SST_hindcasts_1994_JMA_seasonal.nc'),\n",
       " PosixPath('/home/nicolasf/research/Smart_Ideas/data/GCMs/NC/JMA/SST/SST_hindcasts_1995_JMA_seasonal.nc'),\n",
       " PosixPath('/home/nicolasf/research/Smart_Ideas/data/GCMs/NC/JMA/SST/SST_hindcasts_1996_JMA_seasonal.nc'),\n",
       " PosixPath('/home/nicolasf/research/Smart_Ideas/data/GCMs/NC/JMA/SST/SST_hindcasts_1997_JMA_seasonal.nc'),\n",
       " PosixPath('/home/nicolasf/research/Smart_Ideas/data/GCMs/NC/JMA/SST/SST_hindcasts_1998_JMA_seasonal.nc'),\n",
       " PosixPath('/home/nicolasf/research/Smart_Ideas/data/GCMs/NC/JMA/SST/SST_hindcasts_1999_JMA_seasonal.nc'),\n",
       " PosixPath('/home/nicolasf/research/Smart_Ideas/data/GCMs/NC/JMA/SST/SST_hindcasts_2000_JMA_seasonal.nc'),\n",
       " PosixPath('/home/nicolasf/research/Smart_Ideas/data/GCMs/NC/JMA/SST/SST_hindcasts_2001_JMA_seasonal.nc'),\n",
       " PosixPath('/home/nicolasf/research/Smart_Ideas/data/GCMs/NC/JMA/SST/SST_hindcasts_2002_JMA_seasonal.nc'),\n",
       " PosixPath('/home/nicolasf/research/Smart_Ideas/data/GCMs/NC/JMA/SST/SST_hindcasts_2003_JMA_seasonal.nc'),\n",
       " PosixPath('/home/nicolasf/research/Smart_Ideas/data/GCMs/NC/JMA/SST/SST_hindcasts_2004_JMA_seasonal.nc'),\n",
       " PosixPath('/home/nicolasf/research/Smart_Ideas/data/GCMs/NC/JMA/SST/SST_hindcasts_2005_JMA_seasonal.nc'),\n",
       " PosixPath('/home/nicolasf/research/Smart_Ideas/data/GCMs/NC/JMA/SST/SST_hindcasts_2006_JMA_seasonal.nc'),\n",
       " PosixPath('/home/nicolasf/research/Smart_Ideas/data/GCMs/NC/JMA/SST/SST_hindcasts_2007_JMA_seasonal.nc'),\n",
       " PosixPath('/home/nicolasf/research/Smart_Ideas/data/GCMs/NC/JMA/SST/SST_hindcasts_2008_JMA_seasonal.nc'),\n",
       " PosixPath('/home/nicolasf/research/Smart_Ideas/data/GCMs/NC/JMA/SST/SST_hindcasts_2009_JMA_seasonal.nc'),\n",
       " PosixPath('/home/nicolasf/research/Smart_Ideas/data/GCMs/NC/JMA/SST/SST_hindcasts_2010_JMA_seasonal.nc'),\n",
       " PosixPath('/home/nicolasf/research/Smart_Ideas/data/GCMs/NC/JMA/SST/SST_hindcasts_2011_JMA_seasonal.nc'),\n",
       " PosixPath('/home/nicolasf/research/Smart_Ideas/data/GCMs/NC/JMA/SST/SST_hindcasts_2012_JMA_seasonal.nc'),\n",
       " PosixPath('/home/nicolasf/research/Smart_Ideas/data/GCMs/NC/JMA/SST/SST_hindcasts_2013_JMA_seasonal.nc'),\n",
       " PosixPath('/home/nicolasf/research/Smart_Ideas/data/GCMs/NC/JMA/SST/SST_hindcasts_2014_JMA_seasonal.nc')]"
      ]
     },
     "execution_count": 19,
     "metadata": {},
     "output_type": "execute_result"
    }
   ],
   "source": [
    "lfiles"
   ]
  },
  {
   "cell_type": "code",
   "execution_count": 20,
   "metadata": {},
   "outputs": [
    {
     "data": {
      "text/plain": [
       "PosixPath('/home/nicolasf/research/Smart_Ideas/data/GCMs/NC/JMA/SST/SST_hindcasts_1979_JMA_seasonal.nc')"
      ]
     },
     "execution_count": 20,
     "metadata": {},
     "output_type": "execute_result"
    }
   ],
   "source": [
    "lfiles[0]"
   ]
  },
  {
   "cell_type": "code",
   "execution_count": 21,
   "metadata": {},
   "outputs": [
    {
     "data": {
      "text/plain": [
       "PosixPath('/home/nicolasf/research/Smart_Ideas/data/GCMs/NC/JMA/SST/SST_hindcasts_2014_JMA_seasonal.nc')"
      ]
     },
     "execution_count": 21,
     "metadata": {},
     "output_type": "execute_result"
    }
   ],
   "source": [
    "lfiles[-1]"
   ]
  },
  {
   "cell_type": "code",
   "execution_count": 22,
   "metadata": {},
   "outputs": [],
   "source": [
    "dset = xr.open_mfdataset(lfiles, combine='by_coords')"
   ]
  },
  {
   "cell_type": "code",
   "execution_count": 23,
   "metadata": {},
   "outputs": [
    {
     "data": {
      "text/html": [
       "<pre>&lt;xarray.Dataset&gt;\n",
       "Dimensions:              (lat: 73, lon: 144, member: 5, step: 5, time: 432)\n",
       "Coordinates:\n",
       "  * step                 (step) int64 3 4 5 6 7\n",
       "  * lat                  (lat) float64 -90.0 -87.5 -85.0 ... 85.0 87.5 90.0\n",
       "  * member               (member) int64 0 1 2 3 4\n",
       "  * lon                  (lon) float64 0.0 2.5 5.0 7.5 ... 352.5 355.0 357.5\n",
       "  * time                 (time) datetime64[ns] 1979-01-01 ... 2014-12-01\n",
       "Data variables:\n",
       "    sst                  (time, step, member, lat, lon) float64 dask.array&lt;chunksize=(12, 5, 5, 73, 144), meta=np.ndarray&gt;\n",
       "    init_dates_JMA       (time) datetime64[ns] dask.array&lt;chunksize=(12,), meta=np.ndarray&gt;\n",
       "    forecast_valid_time  (time, step) datetime64[ns] dask.array&lt;chunksize=(12, 5), meta=np.ndarray&gt;\n",
       "Attributes:\n",
       "    history:  Mon Nov 25 14:36:02 2019: ncrename -d longitude,lon -d latitude...\n",
       "    NCO:      netCDF Operators version 4.8.1 (Homepage = http://nco.sf.net, C...</pre>"
      ],
      "text/plain": [
       "<xarray.Dataset>\n",
       "Dimensions:              (lat: 73, lon: 144, member: 5, step: 5, time: 432)\n",
       "Coordinates:\n",
       "  * step                 (step) int64 3 4 5 6 7\n",
       "  * lat                  (lat) float64 -90.0 -87.5 -85.0 ... 85.0 87.5 90.0\n",
       "  * member               (member) int64 0 1 2 3 4\n",
       "  * lon                  (lon) float64 0.0 2.5 5.0 7.5 ... 352.5 355.0 357.5\n",
       "  * time                 (time) datetime64[ns] 1979-01-01 ... 2014-12-01\n",
       "Data variables:\n",
       "    sst                  (time, step, member, lat, lon) float64 dask.array<chunksize=(12, 5, 5, 73, 144), meta=np.ndarray>\n",
       "    init_dates_JMA       (time) datetime64[ns] dask.array<chunksize=(12,), meta=np.ndarray>\n",
       "    forecast_valid_time  (time, step) datetime64[ns] dask.array<chunksize=(12, 5), meta=np.ndarray>\n",
       "Attributes:\n",
       "    history:  Mon Nov 25 14:36:02 2019: ncrename -d longitude,lon -d latitude...\n",
       "    NCO:      netCDF Operators version 4.8.1 (Homepage = http://nco.sf.net, C..."
      ]
     },
     "execution_count": 23,
     "metadata": {},
     "output_type": "execute_result"
    }
   ],
   "source": [
    "dset"
   ]
  },
  {
   "cell_type": "code",
   "execution_count": 24,
   "metadata": {},
   "outputs": [],
   "source": [
    "dpath_update = HOME / 'research' /'Smart_Ideas' / 'data' / 'GCMs' / 'NC' / GCM / '2015_2019' / var_name"
   ]
  },
  {
   "cell_type": "code",
   "execution_count": 25,
   "metadata": {},
   "outputs": [
    {
     "data": {
      "text/html": [
       "<pre>&lt;xarray.DataArray &#x27;time&#x27; ()&gt;\n",
       "array(&#x27;2014-12-01T00:00:00.000000000&#x27;, dtype=&#x27;datetime64[ns]&#x27;)\n",
       "Coordinates:\n",
       "    time     datetime64[ns] 2014-12-01</pre>"
      ],
      "text/plain": [
       "<xarray.DataArray 'time' ()>\n",
       "array('2014-12-01T00:00:00.000000000', dtype='datetime64[ns]')\n",
       "Coordinates:\n",
       "    time     datetime64[ns] 2014-12-01"
      ]
     },
     "execution_count": 25,
     "metadata": {},
     "output_type": "execute_result"
    }
   ],
   "source": [
    "dset.time[-1]"
   ]
  },
  {
   "cell_type": "code",
   "execution_count": 26,
   "metadata": {},
   "outputs": [],
   "source": [
    "lfiles_updates = list(dpath_update.glob(\"*.nc\"))"
   ]
  },
  {
   "cell_type": "code",
   "execution_count": 27,
   "metadata": {},
   "outputs": [],
   "source": [
    "lfiles_updates.sort()"
   ]
  },
  {
   "cell_type": "code",
   "execution_count": 28,
   "metadata": {},
   "outputs": [
    {
     "data": {
      "text/plain": [
       "[PosixPath('/home/nicolasf/research/Smart_Ideas/data/GCMs/NC/JMA/2015_2019/SST/JMA_SST_2015.nc'),\n",
       " PosixPath('/home/nicolasf/research/Smart_Ideas/data/GCMs/NC/JMA/2015_2019/SST/JMA_SST_2016.nc'),\n",
       " PosixPath('/home/nicolasf/research/Smart_Ideas/data/GCMs/NC/JMA/2015_2019/SST/JMA_SST_2017.nc'),\n",
       " PosixPath('/home/nicolasf/research/Smart_Ideas/data/GCMs/NC/JMA/2015_2019/SST/JMA_SST_2018.nc'),\n",
       " PosixPath('/home/nicolasf/research/Smart_Ideas/data/GCMs/NC/JMA/2015_2019/SST/JMA_SST_2019.nc')]"
      ]
     },
     "execution_count": 28,
     "metadata": {},
     "output_type": "execute_result"
    }
   ],
   "source": [
    "lfiles_updates"
   ]
  },
  {
   "cell_type": "code",
   "execution_count": 31,
   "metadata": {},
   "outputs": [],
   "source": [
    "dset_update = xr.open_mfdataset(lfiles_updates, combine='by_coords')"
   ]
  },
  {
   "cell_type": "code",
   "execution_count": 32,
   "metadata": {},
   "outputs": [
    {
     "data": {
      "text/html": [
       "<pre>&lt;xarray.Dataset&gt;\n",
       "Dimensions:  (lat: 73, lon: 144, step: 3, time: 59)\n",
       "Coordinates:\n",
       "  * lat      (lat) float64 -90.0 -87.5 -85.0 -82.5 -80.0 ... 82.5 85.0 87.5 90.0\n",
       "  * step     (step) int64 1 2 3\n",
       "  * lon      (lon) float64 0.0 2.5 5.0 7.5 10.0 ... 350.0 352.5 355.0 357.5\n",
       "  * time     (time) datetime64[ns] 2015-01-01 2015-02-01 ... 2019-11-01\n",
       "Data variables:\n",
       "    SST      (time, step, lat, lon) float64 dask.array&lt;chunksize=(12, 3, 73, 144), meta=np.ndarray&gt;</pre>"
      ],
      "text/plain": [
       "<xarray.Dataset>\n",
       "Dimensions:  (lat: 73, lon: 144, step: 3, time: 59)\n",
       "Coordinates:\n",
       "  * lat      (lat) float64 -90.0 -87.5 -85.0 -82.5 -80.0 ... 82.5 85.0 87.5 90.0\n",
       "  * step     (step) int64 1 2 3\n",
       "  * lon      (lon) float64 0.0 2.5 5.0 7.5 10.0 ... 350.0 352.5 355.0 357.5\n",
       "  * time     (time) datetime64[ns] 2015-01-01 2015-02-01 ... 2019-11-01\n",
       "Data variables:\n",
       "    SST      (time, step, lat, lon) float64 dask.array<chunksize=(12, 3, 73, 144), meta=np.ndarray>"
      ]
     },
     "execution_count": 32,
     "metadata": {},
     "output_type": "execute_result"
    }
   ],
   "source": [
    "dset_update"
   ]
  },
  {
   "cell_type": "code",
   "execution_count": null,
   "metadata": {},
   "outputs": [],
   "source": []
  },
  {
   "cell_type": "code",
   "execution_count": 33,
   "metadata": {},
   "outputs": [
    {
     "data": {
      "text/plain": [
       "<matplotlib.collections.QuadMesh at 0x7f2766d8de90>"
      ]
     },
     "execution_count": 33,
     "metadata": {},
     "output_type": "execute_result"
    },
    {
     "data": {
      "image/png": "[encoded data removed]",
      "text/plain": [
       "<Figure size 432x288 with 2 Axes>"
      ]
     },
     "metadata": {
      "needs_background": "light"
     },
     "output_type": "display_data"
    }
   ],
   "source": [
    "dset_update['SST'][0,0,:,:].plot()"
   ]
  },
  {
   "cell_type": "code",
   "execution_count": 34,
   "metadata": {},
   "outputs": [
    {
     "data": {
      "text/html": [
       "<pre>&lt;xarray.DataArray &#x27;SST&#x27; ()&gt;\n",
       "array(9999.)</pre>"
      ],
      "text/plain": [
       "<xarray.DataArray 'SST' ()>\n",
       "array(9999.)"
      ]
     },
     "execution_count": 34,
     "metadata": {},
     "output_type": "execute_result"
    }
   ],
   "source": [
    "dset_update['SST'].max().compute()"
   ]
  },
  {
   "cell_type": "code",
   "execution_count": 35,
   "metadata": {},
   "outputs": [],
   "source": [
    "dset_update['SST'] = xr.where((dset_update['SST'] == 9999.), np.NaN, dset_update['SST'])"
   ]
  },
  {
   "cell_type": "code",
   "execution_count": 36,
   "metadata": {},
   "outputs": [
    {
     "data": {
      "text/plain": [
       "<matplotlib.collections.QuadMesh at 0x7f2766c84190>"
      ]
     },
     "execution_count": 36,
     "metadata": {},
     "output_type": "execute_result"
    },
    {
     "data": {
      "image/png": "[encoded data removed]",
      "text/plain": [
       "<Figure size 432x288 with 2 Axes>"
      ]
     },
     "metadata": {
      "needs_background": "light"
     },
     "output_type": "display_data"
    }
   ],
   "source": [
    "dset_update['SST'][0,0,:,:].plot()"
   ]
  },
  {
   "cell_type": "code",
   "execution_count": 37,
   "metadata": {},
   "outputs": [],
   "source": [
    "dset_update = dset_update.mean('step', keep_attrs=True)"
   ]
  },
  {
   "cell_type": "code",
   "execution_count": 38,
   "metadata": {},
   "outputs": [
    {
     "data": {
      "text/html": [
       "<pre>&lt;xarray.Dataset&gt;\n",
       "Dimensions:  (lat: 73, lon: 144, time: 59)\n",
       "Coordinates:\n",
       "  * lat      (lat) float64 -90.0 -87.5 -85.0 -82.5 -80.0 ... 82.5 85.0 87.5 90.0\n",
       "  * lon      (lon) float64 0.0 2.5 5.0 7.5 10.0 ... 350.0 352.5 355.0 357.5\n",
       "  * time     (time) datetime64[ns] 2015-01-01 2015-02-01 ... 2019-11-01\n",
       "Data variables:\n",
       "    SST      (time, lat, lon) float64 dask.array&lt;chunksize=(12, 73, 144), meta=np.ndarray&gt;</pre>"
      ],
      "text/plain": [
       "<xarray.Dataset>\n",
       "Dimensions:  (lat: 73, lon: 144, time: 59)\n",
       "Coordinates:\n",
       "  * lat      (lat) float64 -90.0 -87.5 -85.0 -82.5 -80.0 ... 82.5 85.0 87.5 90.0\n",
       "  * lon      (lon) float64 0.0 2.5 5.0 7.5 10.0 ... 350.0 352.5 355.0 357.5\n",
       "  * time     (time) datetime64[ns] 2015-01-01 2015-02-01 ... 2019-11-01\n",
       "Data variables:\n",
       "    SST      (time, lat, lon) float64 dask.array<chunksize=(12, 73, 144), meta=np.ndarray>"
      ]
     },
     "execution_count": 38,
     "metadata": {},
     "output_type": "execute_result"
    }
   ],
   "source": [
    "dset_update"
   ]
  },
  {
   "cell_type": "code",
   "execution_count": 39,
   "metadata": {},
   "outputs": [],
   "source": [
    "# dset_update['step']  = (('step'), [3])"
   ]
  },
  {
   "cell_type": "code",
   "execution_count": 40,
   "metadata": {},
   "outputs": [],
   "source": [
    "dset = dset.mean('member')"
   ]
  },
  {
   "cell_type": "code",
   "execution_count": 41,
   "metadata": {},
   "outputs": [],
   "source": [
    "dset_update = dset_update.rename({var_name: var_name.lower()})"
   ]
  },
  {
   "cell_type": "code",
   "execution_count": 42,
   "metadata": {},
   "outputs": [
    {
     "data": {
      "text/html": [
       "<pre>&lt;xarray.Dataset&gt;\n",
       "Dimensions:  (lat: 73, lon: 144, time: 59)\n",
       "Coordinates:\n",
       "  * lat      (lat) float64 -90.0 -87.5 -85.0 -82.5 -80.0 ... 82.5 85.0 87.5 90.0\n",
       "  * lon      (lon) float64 0.0 2.5 5.0 7.5 10.0 ... 350.0 352.5 355.0 357.5\n",
       "  * time     (time) datetime64[ns] 2015-01-01 2015-02-01 ... 2019-11-01\n",
       "Data variables:\n",
       "    sst      (time, lat, lon) float64 dask.array&lt;chunksize=(12, 73, 144), meta=np.ndarray&gt;</pre>"
      ],
      "text/plain": [
       "<xarray.Dataset>\n",
       "Dimensions:  (lat: 73, lon: 144, time: 59)\n",
       "Coordinates:\n",
       "  * lat      (lat) float64 -90.0 -87.5 -85.0 -82.5 -80.0 ... 82.5 85.0 87.5 90.0\n",
       "  * lon      (lon) float64 0.0 2.5 5.0 7.5 10.0 ... 350.0 352.5 355.0 357.5\n",
       "  * time     (time) datetime64[ns] 2015-01-01 2015-02-01 ... 2019-11-01\n",
       "Data variables:\n",
       "    sst      (time, lat, lon) float64 dask.array<chunksize=(12, 73, 144), meta=np.ndarray>"
      ]
     },
     "execution_count": 42,
     "metadata": {},
     "output_type": "execute_result"
    }
   ],
   "source": [
    "dset_update"
   ]
  },
  {
   "cell_type": "code",
   "execution_count": 43,
   "metadata": {},
   "outputs": [],
   "source": [
    "shape = dset_update[var_name.lower()].shape"
   ]
  },
  {
   "cell_type": "code",
   "execution_count": 44,
   "metadata": {},
   "outputs": [
    {
     "data": {
      "text/plain": [
       "(59, 73, 144)"
      ]
     },
     "execution_count": 44,
     "metadata": {},
     "output_type": "execute_result"
    }
   ],
   "source": [
    "shape"
   ]
  },
  {
   "cell_type": "code",
   "execution_count": 45,
   "metadata": {},
   "outputs": [],
   "source": [
    "dset = dset.sel(step=3)"
   ]
  },
  {
   "cell_type": "code",
   "execution_count": 46,
   "metadata": {},
   "outputs": [],
   "source": [
    "dset = dset.drop('step')"
   ]
  },
  {
   "cell_type": "code",
   "execution_count": 47,
   "metadata": {},
   "outputs": [
    {
     "data": {
      "text/html": [
       "<pre>&lt;xarray.Dataset&gt;\n",
       "Dimensions:  (lat: 73, lon: 144, time: 59)\n",
       "Coordinates:\n",
       "  * lat      (lat) float64 -90.0 -87.5 -85.0 -82.5 -80.0 ... 82.5 85.0 87.5 90.0\n",
       "  * lon      (lon) float64 0.0 2.5 5.0 7.5 10.0 ... 350.0 352.5 355.0 357.5\n",
       "  * time     (time) datetime64[ns] 2015-01-01 2015-02-01 ... 2019-11-01\n",
       "Data variables:\n",
       "    sst      (time, lat, lon) float64 dask.array&lt;chunksize=(12, 73, 144), meta=np.ndarray&gt;</pre>"
      ],
      "text/plain": [
       "<xarray.Dataset>\n",
       "Dimensions:  (lat: 73, lon: 144, time: 59)\n",
       "Coordinates:\n",
       "  * lat      (lat) float64 -90.0 -87.5 -85.0 -82.5 -80.0 ... 82.5 85.0 87.5 90.0\n",
       "  * lon      (lon) float64 0.0 2.5 5.0 7.5 10.0 ... 350.0 352.5 355.0 357.5\n",
       "  * time     (time) datetime64[ns] 2015-01-01 2015-02-01 ... 2019-11-01\n",
       "Data variables:\n",
       "    sst      (time, lat, lon) float64 dask.array<chunksize=(12, 73, 144), meta=np.ndarray>"
      ]
     },
     "execution_count": 47,
     "metadata": {},
     "output_type": "execute_result"
    }
   ],
   "source": [
    "dset_update"
   ]
  },
  {
   "cell_type": "code",
   "execution_count": 48,
   "metadata": {},
   "outputs": [],
   "source": [
    "dset_concat = xr.concat([dset, dset_update], dim='time')"
   ]
  },
  {
   "cell_type": "code",
   "execution_count": 49,
   "metadata": {},
   "outputs": [
    {
     "data": {
      "text/html": [
       "<pre>&lt;xarray.DataArray &#x27;time&#x27; ()&gt;\n",
       "array(&#x27;1979-01-01T00:00:00.000000000&#x27;, dtype=&#x27;datetime64[ns]&#x27;)\n",
       "Coordinates:\n",
       "    time     datetime64[ns] 1979-01-01</pre>"
      ],
      "text/plain": [
       "<xarray.DataArray 'time' ()>\n",
       "array('1979-01-01T00:00:00.000000000', dtype='datetime64[ns]')\n",
       "Coordinates:\n",
       "    time     datetime64[ns] 1979-01-01"
      ]
     },
     "execution_count": 49,
     "metadata": {},
     "output_type": "execute_result"
    }
   ],
   "source": [
    "dset_concat.time[0]"
   ]
  },
  {
   "cell_type": "code",
   "execution_count": 50,
   "metadata": {},
   "outputs": [
    {
     "data": {
      "text/html": [
       "<pre>&lt;xarray.DataArray &#x27;time&#x27; ()&gt;\n",
       "array(&#x27;2019-11-01T00:00:00.000000000&#x27;, dtype=&#x27;datetime64[ns]&#x27;)\n",
       "Coordinates:\n",
       "    time     datetime64[ns] 2019-11-01</pre>"
      ],
      "text/plain": [
       "<xarray.DataArray 'time' ()>\n",
       "array('2019-11-01T00:00:00.000000000', dtype='datetime64[ns]')\n",
       "Coordinates:\n",
       "    time     datetime64[ns] 2019-11-01"
      ]
     },
     "execution_count": 50,
     "metadata": {},
     "output_type": "execute_result"
    }
   ],
   "source": [
    "dset_concat.time[-1]"
   ]
  },
  {
   "cell_type": "code",
   "execution_count": 51,
   "metadata": {},
   "outputs": [
    {
     "data": {
      "text/plain": [
       "<matplotlib.collections.QuadMesh at 0x7f2766a97cd0>"
      ]
     },
     "execution_count": 51,
     "metadata": {},
     "output_type": "execute_result"
    },
    {
     "data": {
      "image/png": "[encoded data removed]",
      "text/plain": [
       "<Figure size 432x288 with 2 Axes>"
      ]
     },
     "metadata": {
      "needs_background": "light"
     },
     "output_type": "display_data"
    }
   ],
   "source": [
    "dset_concat[var_name.lower()][0,:,:].plot()"
   ]
  },
  {
   "cell_type": "code",
   "execution_count": 52,
   "metadata": {},
   "outputs": [
    {
     "data": {
      "text/plain": [
       "<matplotlib.collections.QuadMesh at 0x7f2766993c50>"
      ]
     },
     "execution_count": 52,
     "metadata": {},
     "output_type": "execute_result"
    },
    {
     "data": {
      "image/png": "[encoded data removed]",
      "text/plain": [
       "<Figure size 432x288 with 2 Axes>"
      ]
     },
     "metadata": {
      "needs_background": "light"
     },
     "output_type": "display_data"
    }
   ],
   "source": [
    "dset_concat[var_name.lower()][-1,:,:].plot()"
   ]
  },
  {
   "cell_type": "markdown",
   "metadata": {},
   "source": [
    "### calculates the climatology "
   ]
  },
  {
   "cell_type": "code",
   "execution_count": 53,
   "metadata": {},
   "outputs": [],
   "source": [
    "clim = dset_concat.sel(time=slice('1993','2016'))"
   ]
  },
  {
   "cell_type": "code",
   "execution_count": 54,
   "metadata": {},
   "outputs": [
    {
     "data": {
      "text/plain": [
       "288"
      ]
     },
     "execution_count": 54,
     "metadata": {},
     "output_type": "execute_result"
    }
   ],
   "source": [
    "len(clim.time)"
   ]
  },
  {
   "cell_type": "code",
   "execution_count": 55,
   "metadata": {},
   "outputs": [
    {
     "data": {
      "text/plain": [
       "288"
      ]
     },
     "execution_count": 55,
     "metadata": {},
     "output_type": "execute_result"
    }
   ],
   "source": [
    "(2016 - 1993 + 1) * 12"
   ]
  },
  {
   "cell_type": "code",
   "execution_count": 56,
   "metadata": {},
   "outputs": [],
   "source": [
    "clim = clim.groupby(clim.time.dt.month).mean()"
   ]
  },
  {
   "cell_type": "code",
   "execution_count": 57,
   "metadata": {},
   "outputs": [
    {
     "data": {
      "text/html": [
       "<pre>&lt;xarray.Dataset&gt;\n",
       "Dimensions:  (lat: 73, lon: 144, month: 12)\n",
       "Coordinates:\n",
       "  * lat      (lat) float64 -90.0 -87.5 -85.0 -82.5 -80.0 ... 82.5 85.0 87.5 90.0\n",
       "  * lon      (lon) float64 0.0 2.5 5.0 7.5 10.0 ... 350.0 352.5 355.0 357.5\n",
       "  * month    (month) int64 1 2 3 4 5 6 7 8 9 10 11 12\n",
       "Data variables:\n",
       "    sst      (month, lat, lon) float64 dask.array&lt;chunksize=(1, 73, 144), meta=np.ndarray&gt;</pre>"
      ],
      "text/plain": [
       "<xarray.Dataset>\n",
       "Dimensions:  (lat: 73, lon: 144, month: 12)\n",
       "Coordinates:\n",
       "  * lat      (lat) float64 -90.0 -87.5 -85.0 -82.5 -80.0 ... 82.5 85.0 87.5 90.0\n",
       "  * lon      (lon) float64 0.0 2.5 5.0 7.5 10.0 ... 350.0 352.5 355.0 357.5\n",
       "  * month    (month) int64 1 2 3 4 5 6 7 8 9 10 11 12\n",
       "Data variables:\n",
       "    sst      (month, lat, lon) float64 dask.array<chunksize=(1, 73, 144), meta=np.ndarray>"
      ]
     },
     "execution_count": 57,
     "metadata": {},
     "output_type": "execute_result"
    }
   ],
   "source": [
    "clim"
   ]
  },
  {
   "cell_type": "code",
   "execution_count": 58,
   "metadata": {},
   "outputs": [],
   "source": [
    "clim_path = dpath / 'CLIMATOLOGY'"
   ]
  },
  {
   "cell_type": "code",
   "execution_count": 59,
   "metadata": {},
   "outputs": [],
   "source": [
    "if not clim_path.exists(): \n",
    "    clim_path.mkdir(parents=True)"
   ]
  },
  {
   "cell_type": "code",
   "execution_count": 60,
   "metadata": {},
   "outputs": [],
   "source": [
    "clim.to_netcdf(clim_path / f\"CLIMATOLOGY_{var_name}_{GCM}_1993_2016.nc\")"
   ]
  },
  {
   "cell_type": "markdown",
   "metadata": {},
   "source": [
    "### calculates the anomalies "
   ]
  },
  {
   "cell_type": "code",
   "execution_count": 61,
   "metadata": {},
   "outputs": [
    {
     "data": {
      "text/html": [
       "<pre>&lt;xarray.Dataset&gt;\n",
       "Dimensions:  (lat: 73, lon: 144, time: 491)\n",
       "Coordinates:\n",
       "  * lat      (lat) float64 -90.0 -87.5 -85.0 -82.5 -80.0 ... 82.5 85.0 87.5 90.0\n",
       "  * lon      (lon) float64 0.0 2.5 5.0 7.5 10.0 ... 350.0 352.5 355.0 357.5\n",
       "  * time     (time) datetime64[ns] 1979-01-01 1979-02-01 ... 2019-11-01\n",
       "Data variables:\n",
       "    sst      (time, lat, lon) float64 dask.array&lt;chunksize=(12, 73, 144), meta=np.ndarray&gt;</pre>"
      ],
      "text/plain": [
       "<xarray.Dataset>\n",
       "Dimensions:  (lat: 73, lon: 144, time: 491)\n",
       "Coordinates:\n",
       "  * lat      (lat) float64 -90.0 -87.5 -85.0 -82.5 -80.0 ... 82.5 85.0 87.5 90.0\n",
       "  * lon      (lon) float64 0.0 2.5 5.0 7.5 10.0 ... 350.0 352.5 355.0 357.5\n",
       "  * time     (time) datetime64[ns] 1979-01-01 1979-02-01 ... 2019-11-01\n",
       "Data variables:\n",
       "    sst      (time, lat, lon) float64 dask.array<chunksize=(12, 73, 144), meta=np.ndarray>"
      ]
     },
     "execution_count": 61,
     "metadata": {},
     "output_type": "execute_result"
    }
   ],
   "source": [
    "dset_concat"
   ]
  },
  {
   "cell_type": "code",
   "execution_count": 62,
   "metadata": {},
   "outputs": [],
   "source": [
    "anoms = dset_concat.groupby(dset_concat.time.dt.month) - clim"
   ]
  },
  {
   "cell_type": "code",
   "execution_count": 63,
   "metadata": {},
   "outputs": [
    {
     "data": {
      "text/html": [
       "<pre>&lt;xarray.Dataset&gt;\n",
       "Dimensions:  (lat: 73, lon: 144, time: 491)\n",
       "Coordinates:\n",
       "  * lat      (lat) float64 -90.0 -87.5 -85.0 -82.5 -80.0 ... 82.5 85.0 87.5 90.0\n",
       "  * lon      (lon) float64 0.0 2.5 5.0 7.5 10.0 ... 350.0 352.5 355.0 357.5\n",
       "  * time     (time) datetime64[ns] 1979-01-01 1979-02-01 ... 2019-11-01\n",
       "    month    (time) int64 1 2 3 4 5 6 7 8 9 10 11 12 ... 1 2 3 4 5 6 7 8 9 10 11\n",
       "Data variables:\n",
       "    sst      (time, lat, lon) float64 dask.array&lt;chunksize=(1, 73, 144), meta=np.ndarray&gt;</pre>"
      ],
      "text/plain": [
       "<xarray.Dataset>\n",
       "Dimensions:  (lat: 73, lon: 144, time: 491)\n",
       "Coordinates:\n",
       "  * lat      (lat) float64 -90.0 -87.5 -85.0 -82.5 -80.0 ... 82.5 85.0 87.5 90.0\n",
       "  * lon      (lon) float64 0.0 2.5 5.0 7.5 10.0 ... 350.0 352.5 355.0 357.5\n",
       "  * time     (time) datetime64[ns] 1979-01-01 1979-02-01 ... 2019-11-01\n",
       "    month    (time) int64 1 2 3 4 5 6 7 8 9 10 11 12 ... 1 2 3 4 5 6 7 8 9 10 11\n",
       "Data variables:\n",
       "    sst      (time, lat, lon) float64 dask.array<chunksize=(1, 73, 144), meta=np.ndarray>"
      ]
     },
     "execution_count": 63,
     "metadata": {},
     "output_type": "execute_result"
    }
   ],
   "source": [
    "anoms"
   ]
  },
  {
   "cell_type": "code",
   "execution_count": 64,
   "metadata": {},
   "outputs": [],
   "source": [
    "from dateutil.relativedelta import relativedelta"
   ]
  },
  {
   "cell_type": "code",
   "execution_count": 65,
   "metadata": {},
   "outputs": [],
   "source": [
    "time = anoms.time.to_series()"
   ]
  },
  {
   "cell_type": "code",
   "execution_count": 66,
   "metadata": {},
   "outputs": [],
   "source": [
    "forecast_valid_time = [x + relativedelta(months=3) for x in time]"
   ]
  },
  {
   "cell_type": "code",
   "execution_count": 67,
   "metadata": {},
   "outputs": [],
   "source": [
    "forecast_valid_time = np.array(forecast_valid_time)"
   ]
  },
  {
   "cell_type": "code",
   "execution_count": 68,
   "metadata": {},
   "outputs": [
    {
     "data": {
      "text/plain": [
       "(491, 1)"
      ]
     },
     "execution_count": 68,
     "metadata": {},
     "output_type": "execute_result"
    }
   ],
   "source": [
    "forecast_valid_time.reshape(-1,1).shape"
   ]
  },
  {
   "cell_type": "code",
   "execution_count": 69,
   "metadata": {},
   "outputs": [],
   "source": [
    "anoms['step'] = (('step'), [3])"
   ]
  },
  {
   "cell_type": "code",
   "execution_count": 70,
   "metadata": {},
   "outputs": [],
   "source": [
    "anoms['forecast_valid_time'] = (('time','step'), forecast_valid_time.reshape(-1,1))"
   ]
  },
  {
   "cell_type": "code",
   "execution_count": 71,
   "metadata": {},
   "outputs": [
    {
     "data": {
      "text/html": [
       "<pre>&lt;xarray.Dataset&gt;\n",
       "Dimensions:              (lat: 73, lon: 144, step: 1, time: 491)\n",
       "Coordinates:\n",
       "  * lat                  (lat) float64 -90.0 -87.5 -85.0 ... 85.0 87.5 90.0\n",
       "  * lon                  (lon) float64 0.0 2.5 5.0 7.5 ... 352.5 355.0 357.5\n",
       "  * time                 (time) datetime64[ns] 1979-01-01 ... 2019-11-01\n",
       "    month                (time) int64 1 2 3 4 5 6 7 8 9 ... 3 4 5 6 7 8 9 10 11\n",
       "  * step                 (step) int64 3\n",
       "Data variables:\n",
       "    sst                  (time, lat, lon) float64 dask.array&lt;chunksize=(1, 73, 144), meta=np.ndarray&gt;\n",
       "    forecast_valid_time  (time, step) datetime64[ns] 1979-04-01 ... 2020-02-01</pre>"
      ],
      "text/plain": [
       "<xarray.Dataset>\n",
       "Dimensions:              (lat: 73, lon: 144, step: 1, time: 491)\n",
       "Coordinates:\n",
       "  * lat                  (lat) float64 -90.0 -87.5 -85.0 ... 85.0 87.5 90.0\n",
       "  * lon                  (lon) float64 0.0 2.5 5.0 7.5 ... 352.5 355.0 357.5\n",
       "  * time                 (time) datetime64[ns] 1979-01-01 ... 2019-11-01\n",
       "    month                (time) int64 1 2 3 4 5 6 7 8 9 ... 3 4 5 6 7 8 9 10 11\n",
       "  * step                 (step) int64 3\n",
       "Data variables:\n",
       "    sst                  (time, lat, lon) float64 dask.array<chunksize=(1, 73, 144), meta=np.ndarray>\n",
       "    forecast_valid_time  (time, step) datetime64[ns] 1979-04-01 ... 2020-02-01"
      ]
     },
     "execution_count": 71,
     "metadata": {},
     "output_type": "execute_result"
    }
   ],
   "source": [
    "anoms"
   ]
  },
  {
   "cell_type": "code",
   "execution_count": 72,
   "metadata": {},
   "outputs": [
    {
     "data": {
      "text/plain": [
       "(491, 73, 144)"
      ]
     },
     "execution_count": 72,
     "metadata": {},
     "output_type": "execute_result"
    }
   ],
   "source": [
    "anoms[var_name.lower()].data.shape"
   ]
  },
  {
   "cell_type": "code",
   "execution_count": 73,
   "metadata": {},
   "outputs": [],
   "source": [
    "shape = anoms[var_name.lower()].data.shape"
   ]
  },
  {
   "cell_type": "code",
   "execution_count": 74,
   "metadata": {},
   "outputs": [],
   "source": [
    "anoms[var_name.lower()] = (('time','step','lat','lon'), anoms[var_name.lower()].data.reshape(shape[0], 1, *shape[1:]))"
   ]
  },
  {
   "cell_type": "code",
   "execution_count": 75,
   "metadata": {},
   "outputs": [
    {
     "data": {
      "text/html": [
       "<pre>&lt;xarray.Dataset&gt;\n",
       "Dimensions:              (lat: 73, lon: 144, step: 1, time: 491)\n",
       "Coordinates:\n",
       "  * lat                  (lat) float64 -90.0 -87.5 -85.0 ... 85.0 87.5 90.0\n",
       "  * lon                  (lon) float64 0.0 2.5 5.0 7.5 ... 352.5 355.0 357.5\n",
       "  * time                 (time) datetime64[ns] 1979-01-01 ... 2019-11-01\n",
       "    month                (time) int64 1 2 3 4 5 6 7 8 9 ... 3 4 5 6 7 8 9 10 11\n",
       "  * step                 (step) int64 3\n",
       "Data variables:\n",
       "    sst                  (time, step, lat, lon) float64 dask.array&lt;chunksize=(1, 1, 73, 144), meta=np.ndarray&gt;\n",
       "    forecast_valid_time  (time, step) datetime64[ns] 1979-04-01 ... 2020-02-01</pre>"
      ],
      "text/plain": [
       "<xarray.Dataset>\n",
       "Dimensions:              (lat: 73, lon: 144, step: 1, time: 491)\n",
       "Coordinates:\n",
       "  * lat                  (lat) float64 -90.0 -87.5 -85.0 ... 85.0 87.5 90.0\n",
       "  * lon                  (lon) float64 0.0 2.5 5.0 7.5 ... 352.5 355.0 357.5\n",
       "  * time                 (time) datetime64[ns] 1979-01-01 ... 2019-11-01\n",
       "    month                (time) int64 1 2 3 4 5 6 7 8 9 ... 3 4 5 6 7 8 9 10 11\n",
       "  * step                 (step) int64 3\n",
       "Data variables:\n",
       "    sst                  (time, step, lat, lon) float64 dask.array<chunksize=(1, 1, 73, 144), meta=np.ndarray>\n",
       "    forecast_valid_time  (time, step) datetime64[ns] 1979-04-01 ... 2020-02-01"
      ]
     },
     "execution_count": 75,
     "metadata": {},
     "output_type": "execute_result"
    }
   ],
   "source": [
    "anoms"
   ]
  },
  {
   "cell_type": "markdown",
   "metadata": {},
   "source": [
    "## saves in netcdf with pattern: \n",
    "    \n",
    "```\n",
    "{var_name}_hindcasts_YYYY_M~GCM~_seasonal_interp.nc\n",
    "```"
   ]
  },
  {
   "cell_type": "code",
   "execution_count": 76,
   "metadata": {},
   "outputs": [
    {
     "data": {
      "text/plain": [
       "PosixPath('/home/nicolasf/research/Smart_Ideas/data/GCMs/NC/JMA/SST')"
      ]
     },
     "execution_count": 76,
     "metadata": {},
     "output_type": "execute_result"
    }
   ],
   "source": [
    "dpath"
   ]
  },
  {
   "cell_type": "code",
   "execution_count": 77,
   "metadata": {},
   "outputs": [
    {
     "name": "stdout",
     "output_type": "stream",
     "text": [
      "SST_hindcasts_1979_1_JMA_seasonal_anomalies_interp.nc\n",
      "SST_hindcasts_1979_2_JMA_seasonal_anomalies_interp.nc\n",
      "SST_hindcasts_1979_3_JMA_seasonal_anomalies_interp.nc\n",
      "SST_hindcasts_1979_4_JMA_seasonal_anomalies_interp.nc\n",
      "SST_hindcasts_1979_5_JMA_seasonal_anomalies_interp.nc\n",
      "SST_hindcasts_1979_6_JMA_seasonal_anomalies_interp.nc\n",
      "SST_hindcasts_1979_7_JMA_seasonal_anomalies_interp.nc\n",
      "SST_hindcasts_1979_8_JMA_seasonal_anomalies_interp.nc\n",
      "SST_hindcasts_1979_9_JMA_seasonal_anomalies_interp.nc\n",
      "SST_hindcasts_1979_10_JMA_seasonal_anomalies_interp.nc\n",
      "SST_hindcasts_1979_11_JMA_seasonal_anomalies_interp.nc\n",
      "SST_hindcasts_1979_12_JMA_seasonal_anomalies_interp.nc\n",
      "SST_hindcasts_1980_1_JMA_seasonal_anomalies_interp.nc\n",
      "SST_hindcasts_1980_2_JMA_seasonal_anomalies_interp.nc\n",
      "SST_hindcasts_1980_3_JMA_seasonal_anomalies_interp.nc\n",
      "SST_hindcasts_1980_4_JMA_seasonal_anomalies_interp.nc\n",
      "SST_hindcasts_1980_5_JMA_seasonal_anomalies_interp.nc\n",
      "SST_hindcasts_1980_6_JMA_seasonal_anomalies_interp.nc\n",
      "SST_hindcasts_1980_7_JMA_seasonal_anomalies_interp.nc\n",
      "SST_hindcasts_1980_8_JMA_seasonal_anomalies_interp.nc\n",
      "SST_hindcasts_1980_9_JMA_seasonal_anomalies_interp.nc\n",
      "SST_hindcasts_1980_10_JMA_seasonal_anomalies_interp.nc\n",
      "SST_hindcasts_1980_11_JMA_seasonal_anomalies_interp.nc\n",
      "SST_hindcasts_1980_12_JMA_seasonal_anomalies_interp.nc\n",
      "SST_hindcasts_1981_1_JMA_seasonal_anomalies_interp.nc\n",
      "SST_hindcasts_1981_2_JMA_seasonal_anomalies_interp.nc\n",
      "SST_hindcasts_1981_3_JMA_seasonal_anomalies_interp.nc\n",
      "SST_hindcasts_1981_4_JMA_seasonal_anomalies_interp.nc\n",
      "SST_hindcasts_1981_5_JMA_seasonal_anomalies_interp.nc\n",
      "SST_hindcasts_1981_6_JMA_seasonal_anomalies_interp.nc\n",
      "SST_hindcasts_1981_7_JMA_seasonal_anomalies_interp.nc\n",
      "SST_hindcasts_1981_8_JMA_seasonal_anomalies_interp.nc\n",
      "SST_hindcasts_1981_9_JMA_seasonal_anomalies_interp.nc\n",
      "SST_hindcasts_1981_10_JMA_seasonal_anomalies_interp.nc\n",
      "SST_hindcasts_1981_11_JMA_seasonal_anomalies_interp.nc\n",
      "SST_hindcasts_1981_12_JMA_seasonal_anomalies_interp.nc\n",
      "SST_hindcasts_1982_1_JMA_seasonal_anomalies_interp.nc\n",
      "SST_hindcasts_1982_2_JMA_seasonal_anomalies_interp.nc\n",
      "SST_hindcasts_1982_3_JMA_seasonal_anomalies_interp.nc\n",
      "SST_hindcasts_1982_4_JMA_seasonal_anomalies_interp.nc\n",
      "SST_hindcasts_1982_5_JMA_seasonal_anomalies_interp.nc\n",
      "SST_hindcasts_1982_6_JMA_seasonal_anomalies_interp.nc\n",
      "SST_hindcasts_1982_7_JMA_seasonal_anomalies_interp.nc\n",
      "SST_hindcasts_1982_8_JMA_seasonal_anomalies_interp.nc\n",
      "SST_hindcasts_1982_9_JMA_seasonal_anomalies_interp.nc\n",
      "SST_hindcasts_1982_10_JMA_seasonal_anomalies_interp.nc\n",
      "SST_hindcasts_1982_11_JMA_seasonal_anomalies_interp.nc\n",
      "SST_hindcasts_1982_12_JMA_seasonal_anomalies_interp.nc\n",
      "SST_hindcasts_1983_1_JMA_seasonal_anomalies_interp.nc\n",
      "SST_hindcasts_1983_2_JMA_seasonal_anomalies_interp.nc\n",
      "SST_hindcasts_1983_3_JMA_seasonal_anomalies_interp.nc\n",
      "SST_hindcasts_1983_4_JMA_seasonal_anomalies_interp.nc\n",
      "SST_hindcasts_1983_5_JMA_seasonal_anomalies_interp.nc\n",
      "SST_hindcasts_1983_6_JMA_seasonal_anomalies_interp.nc\n",
      "SST_hindcasts_1983_7_JMA_seasonal_anomalies_interp.nc\n",
      "SST_hindcasts_1983_8_JMA_seasonal_anomalies_interp.nc\n",
      "SST_hindcasts_1983_9_JMA_seasonal_anomalies_interp.nc\n",
      "SST_hindcasts_1983_10_JMA_seasonal_anomalies_interp.nc\n",
      "SST_hindcasts_1983_11_JMA_seasonal_anomalies_interp.nc\n",
      "SST_hindcasts_1983_12_JMA_seasonal_anomalies_interp.nc\n",
      "SST_hindcasts_1984_1_JMA_seasonal_anomalies_interp.nc\n",
      "SST_hindcasts_1984_2_JMA_seasonal_anomalies_interp.nc\n",
      "SST_hindcasts_1984_3_JMA_seasonal_anomalies_interp.nc\n",
      "SST_hindcasts_1984_4_JMA_seasonal_anomalies_interp.nc\n",
      "SST_hindcasts_1984_5_JMA_seasonal_anomalies_interp.nc\n",
      "SST_hindcasts_1984_6_JMA_seasonal_anomalies_interp.nc\n",
      "SST_hindcasts_1984_7_JMA_seasonal_anomalies_interp.nc\n",
      "SST_hindcasts_1984_8_JMA_seasonal_anomalies_interp.nc\n",
      "SST_hindcasts_1984_9_JMA_seasonal_anomalies_interp.nc\n",
      "SST_hindcasts_1984_10_JMA_seasonal_anomalies_interp.nc\n",
      "SST_hindcasts_1984_11_JMA_seasonal_anomalies_interp.nc\n",
      "SST_hindcasts_1984_12_JMA_seasonal_anomalies_interp.nc\n",
      "SST_hindcasts_1985_1_JMA_seasonal_anomalies_interp.nc\n",
      "SST_hindcasts_1985_2_JMA_seasonal_anomalies_interp.nc\n",
      "SST_hindcasts_1985_3_JMA_seasonal_anomalies_interp.nc\n",
      "SST_hindcasts_1985_4_JMA_seasonal_anomalies_interp.nc\n",
      "SST_hindcasts_1985_5_JMA_seasonal_anomalies_interp.nc\n",
      "SST_hindcasts_1985_6_JMA_seasonal_anomalies_interp.nc\n",
      "SST_hindcasts_1985_7_JMA_seasonal_anomalies_interp.nc\n",
      "SST_hindcasts_1985_8_JMA_seasonal_anomalies_interp.nc\n",
      "SST_hindcasts_1985_9_JMA_seasonal_anomalies_interp.nc\n",
      "SST_hindcasts_1985_10_JMA_seasonal_anomalies_interp.nc\n",
      "SST_hindcasts_1985_11_JMA_seasonal_anomalies_interp.nc\n",
      "SST_hindcasts_1985_12_JMA_seasonal_anomalies_interp.nc\n",
      "SST_hindcasts_1986_1_JMA_seasonal_anomalies_interp.nc\n",
      "SST_hindcasts_1986_2_JMA_seasonal_anomalies_interp.nc\n",
      "SST_hindcasts_1986_3_JMA_seasonal_anomalies_interp.nc\n",
      "SST_hindcasts_1986_4_JMA_seasonal_anomalies_interp.nc\n",
      "SST_hindcasts_1986_5_JMA_seasonal_anomalies_interp.nc\n",
      "SST_hindcasts_1986_6_JMA_seasonal_anomalies_interp.nc\n",
      "SST_hindcasts_1986_7_JMA_seasonal_anomalies_interp.nc\n",
      "SST_hindcasts_1986_8_JMA_seasonal_anomalies_interp.nc\n",
      "SST_hindcasts_1986_9_JMA_seasonal_anomalies_interp.nc\n",
      "SST_hindcasts_1986_10_JMA_seasonal_anomalies_interp.nc\n",
      "SST_hindcasts_1986_11_JMA_seasonal_anomalies_interp.nc\n",
      "SST_hindcasts_1986_12_JMA_seasonal_anomalies_interp.nc\n",
      "SST_hindcasts_1987_1_JMA_seasonal_anomalies_interp.nc\n",
      "SST_hindcasts_1987_2_JMA_seasonal_anomalies_interp.nc\n",
      "SST_hindcasts_1987_3_JMA_seasonal_anomalies_interp.nc\n",
      "SST_hindcasts_1987_4_JMA_seasonal_anomalies_interp.nc\n",
      "SST_hindcasts_1987_5_JMA_seasonal_anomalies_interp.nc\n",
      "SST_hindcasts_1987_6_JMA_seasonal_anomalies_interp.nc\n",
      "SST_hindcasts_1987_7_JMA_seasonal_anomalies_interp.nc\n",
      "SST_hindcasts_1987_8_JMA_seasonal_anomalies_interp.nc\n",
      "SST_hindcasts_1987_9_JMA_seasonal_anomalies_interp.nc\n",
      "SST_hindcasts_1987_10_JMA_seasonal_anomalies_interp.nc\n",
      "SST_hindcasts_1987_11_JMA_seasonal_anomalies_interp.nc\n",
      "SST_hindcasts_1987_12_JMA_seasonal_anomalies_interp.nc\n",
      "SST_hindcasts_1988_1_JMA_seasonal_anomalies_interp.nc\n",
      "SST_hindcasts_1988_2_JMA_seasonal_anomalies_interp.nc\n",
      "SST_hindcasts_1988_3_JMA_seasonal_anomalies_interp.nc\n",
      "SST_hindcasts_1988_4_JMA_seasonal_anomalies_interp.nc\n",
      "SST_hindcasts_1988_5_JMA_seasonal_anomalies_interp.nc\n",
      "SST_hindcasts_1988_6_JMA_seasonal_anomalies_interp.nc\n",
      "SST_hindcasts_1988_7_JMA_seasonal_anomalies_interp.nc\n",
      "SST_hindcasts_1988_8_JMA_seasonal_anomalies_interp.nc\n",
      "SST_hindcasts_1988_9_JMA_seasonal_anomalies_interp.nc\n",
      "SST_hindcasts_1988_10_JMA_seasonal_anomalies_interp.nc\n",
      "SST_hindcasts_1988_11_JMA_seasonal_anomalies_interp.nc\n",
      "SST_hindcasts_1988_12_JMA_seasonal_anomalies_interp.nc\n",
      "SST_hindcasts_1989_1_JMA_seasonal_anomalies_interp.nc\n",
      "SST_hindcasts_1989_2_JMA_seasonal_anomalies_interp.nc\n",
      "SST_hindcasts_1989_3_JMA_seasonal_anomalies_interp.nc\n",
      "SST_hindcasts_1989_4_JMA_seasonal_anomalies_interp.nc\n",
      "SST_hindcasts_1989_5_JMA_seasonal_anomalies_interp.nc\n",
      "SST_hindcasts_1989_6_JMA_seasonal_anomalies_interp.nc\n",
      "SST_hindcasts_1989_7_JMA_seasonal_anomalies_interp.nc\n",
      "SST_hindcasts_1989_8_JMA_seasonal_anomalies_interp.nc\n",
      "SST_hindcasts_1989_9_JMA_seasonal_anomalies_interp.nc\n",
      "SST_hindcasts_1989_10_JMA_seasonal_anomalies_interp.nc\n",
      "SST_hindcasts_1989_11_JMA_seasonal_anomalies_interp.nc\n",
      "SST_hindcasts_1989_12_JMA_seasonal_anomalies_interp.nc\n",
      "SST_hindcasts_1990_1_JMA_seasonal_anomalies_interp.nc\n",
      "SST_hindcasts_1990_2_JMA_seasonal_anomalies_interp.nc\n",
      "SST_hindcasts_1990_3_JMA_seasonal_anomalies_interp.nc\n",
      "SST_hindcasts_1990_4_JMA_seasonal_anomalies_interp.nc\n",
      "SST_hindcasts_1990_5_JMA_seasonal_anomalies_interp.nc\n",
      "SST_hindcasts_1990_6_JMA_seasonal_anomalies_interp.nc\n",
      "SST_hindcasts_1990_7_JMA_seasonal_anomalies_interp.nc\n",
      "SST_hindcasts_1990_8_JMA_seasonal_anomalies_interp.nc\n",
      "SST_hindcasts_1990_9_JMA_seasonal_anomalies_interp.nc\n",
      "SST_hindcasts_1990_10_JMA_seasonal_anomalies_interp.nc\n",
      "SST_hindcasts_1990_11_JMA_seasonal_anomalies_interp.nc\n",
      "SST_hindcasts_1990_12_JMA_seasonal_anomalies_interp.nc\n",
      "SST_hindcasts_1991_1_JMA_seasonal_anomalies_interp.nc\n",
      "SST_hindcasts_1991_2_JMA_seasonal_anomalies_interp.nc\n",
      "SST_hindcasts_1991_3_JMA_seasonal_anomalies_interp.nc\n",
      "SST_hindcasts_1991_4_JMA_seasonal_anomalies_interp.nc\n",
      "SST_hindcasts_1991_5_JMA_seasonal_anomalies_interp.nc\n",
      "SST_hindcasts_1991_6_JMA_seasonal_anomalies_interp.nc\n",
      "SST_hindcasts_1991_7_JMA_seasonal_anomalies_interp.nc\n",
      "SST_hindcasts_1991_8_JMA_seasonal_anomalies_interp.nc\n",
      "SST_hindcasts_1991_9_JMA_seasonal_anomalies_interp.nc\n",
      "SST_hindcasts_1991_10_JMA_seasonal_anomalies_interp.nc\n",
      "SST_hindcasts_1991_11_JMA_seasonal_anomalies_interp.nc\n",
      "SST_hindcasts_1991_12_JMA_seasonal_anomalies_interp.nc\n",
      "SST_hindcasts_1992_1_JMA_seasonal_anomalies_interp.nc\n",
      "SST_hindcasts_1992_2_JMA_seasonal_anomalies_interp.nc\n",
      "SST_hindcasts_1992_3_JMA_seasonal_anomalies_interp.nc\n",
      "SST_hindcasts_1992_4_JMA_seasonal_anomalies_interp.nc\n",
      "SST_hindcasts_1992_5_JMA_seasonal_anomalies_interp.nc\n",
      "SST_hindcasts_1992_6_JMA_seasonal_anomalies_interp.nc\n",
      "SST_hindcasts_1992_7_JMA_seasonal_anomalies_interp.nc\n",
      "SST_hindcasts_1992_8_JMA_seasonal_anomalies_interp.nc\n",
      "SST_hindcasts_1992_9_JMA_seasonal_anomalies_interp.nc\n",
      "SST_hindcasts_1992_10_JMA_seasonal_anomalies_interp.nc\n",
      "SST_hindcasts_1992_11_JMA_seasonal_anomalies_interp.nc\n",
      "SST_hindcasts_1992_12_JMA_seasonal_anomalies_interp.nc\n",
      "SST_hindcasts_1993_1_JMA_seasonal_anomalies_interp.nc\n",
      "SST_hindcasts_1993_2_JMA_seasonal_anomalies_interp.nc\n",
      "SST_hindcasts_1993_3_JMA_seasonal_anomalies_interp.nc\n",
      "SST_hindcasts_1993_4_JMA_seasonal_anomalies_interp.nc\n",
      "SST_hindcasts_1993_5_JMA_seasonal_anomalies_interp.nc\n",
      "SST_hindcasts_1993_6_JMA_seasonal_anomalies_interp.nc\n",
      "SST_hindcasts_1993_7_JMA_seasonal_anomalies_interp.nc\n",
      "SST_hindcasts_1993_8_JMA_seasonal_anomalies_interp.nc\n",
      "SST_hindcasts_1993_9_JMA_seasonal_anomalies_interp.nc\n",
      "SST_hindcasts_1993_10_JMA_seasonal_anomalies_interp.nc\n",
      "SST_hindcasts_1993_11_JMA_seasonal_anomalies_interp.nc\n",
      "SST_hindcasts_1993_12_JMA_seasonal_anomalies_interp.nc\n",
      "SST_hindcasts_1994_1_JMA_seasonal_anomalies_interp.nc\n",
      "SST_hindcasts_1994_2_JMA_seasonal_anomalies_interp.nc\n",
      "SST_hindcasts_1994_3_JMA_seasonal_anomalies_interp.nc\n",
      "SST_hindcasts_1994_4_JMA_seasonal_anomalies_interp.nc\n",
      "SST_hindcasts_1994_5_JMA_seasonal_anomalies_interp.nc\n",
      "SST_hindcasts_1994_6_JMA_seasonal_anomalies_interp.nc\n",
      "SST_hindcasts_1994_7_JMA_seasonal_anomalies_interp.nc\n",
      "SST_hindcasts_1994_8_JMA_seasonal_anomalies_interp.nc\n",
      "SST_hindcasts_1994_9_JMA_seasonal_anomalies_interp.nc\n",
      "SST_hindcasts_1994_10_JMA_seasonal_anomalies_interp.nc\n",
      "SST_hindcasts_1994_11_JMA_seasonal_anomalies_interp.nc\n",
      "SST_hindcasts_1994_12_JMA_seasonal_anomalies_interp.nc\n",
      "SST_hindcasts_1995_1_JMA_seasonal_anomalies_interp.nc\n",
      "SST_hindcasts_1995_2_JMA_seasonal_anomalies_interp.nc\n",
      "SST_hindcasts_1995_3_JMA_seasonal_anomalies_interp.nc\n",
      "SST_hindcasts_1995_4_JMA_seasonal_anomalies_interp.nc\n",
      "SST_hindcasts_1995_5_JMA_seasonal_anomalies_interp.nc\n",
      "SST_hindcasts_1995_6_JMA_seasonal_anomalies_interp.nc\n",
      "SST_hindcasts_1995_7_JMA_seasonal_anomalies_interp.nc\n",
      "SST_hindcasts_1995_8_JMA_seasonal_anomalies_interp.nc\n",
      "SST_hindcasts_1995_9_JMA_seasonal_anomalies_interp.nc\n",
      "SST_hindcasts_1995_10_JMA_seasonal_anomalies_interp.nc\n",
      "SST_hindcasts_1995_11_JMA_seasonal_anomalies_interp.nc\n",
      "SST_hindcasts_1995_12_JMA_seasonal_anomalies_interp.nc\n",
      "SST_hindcasts_1996_1_JMA_seasonal_anomalies_interp.nc\n",
      "SST_hindcasts_1996_2_JMA_seasonal_anomalies_interp.nc\n",
      "SST_hindcasts_1996_3_JMA_seasonal_anomalies_interp.nc\n",
      "SST_hindcasts_1996_4_JMA_seasonal_anomalies_interp.nc\n",
      "SST_hindcasts_1996_5_JMA_seasonal_anomalies_interp.nc\n",
      "SST_hindcasts_1996_6_JMA_seasonal_anomalies_interp.nc\n",
      "SST_hindcasts_1996_7_JMA_seasonal_anomalies_interp.nc\n",
      "SST_hindcasts_1996_8_JMA_seasonal_anomalies_interp.nc\n",
      "SST_hindcasts_1996_9_JMA_seasonal_anomalies_interp.nc\n",
      "SST_hindcasts_1996_10_JMA_seasonal_anomalies_interp.nc\n",
      "SST_hindcasts_1996_11_JMA_seasonal_anomalies_interp.nc\n",
      "SST_hindcasts_1996_12_JMA_seasonal_anomalies_interp.nc\n",
      "SST_hindcasts_1997_1_JMA_seasonal_anomalies_interp.nc\n",
      "SST_hindcasts_1997_2_JMA_seasonal_anomalies_interp.nc\n",
      "SST_hindcasts_1997_3_JMA_seasonal_anomalies_interp.nc\n",
      "SST_hindcasts_1997_4_JMA_seasonal_anomalies_interp.nc\n",
      "SST_hindcasts_1997_5_JMA_seasonal_anomalies_interp.nc\n",
      "SST_hindcasts_1997_6_JMA_seasonal_anomalies_interp.nc\n",
      "SST_hindcasts_1997_7_JMA_seasonal_anomalies_interp.nc\n",
      "SST_hindcasts_1997_8_JMA_seasonal_anomalies_interp.nc\n",
      "SST_hindcasts_1997_9_JMA_seasonal_anomalies_interp.nc\n",
      "SST_hindcasts_1997_10_JMA_seasonal_anomalies_interp.nc\n",
      "SST_hindcasts_1997_11_JMA_seasonal_anomalies_interp.nc\n",
      "SST_hindcasts_1997_12_JMA_seasonal_anomalies_interp.nc\n",
      "SST_hindcasts_1998_1_JMA_seasonal_anomalies_interp.nc\n",
      "SST_hindcasts_1998_2_JMA_seasonal_anomalies_interp.nc\n",
      "SST_hindcasts_1998_3_JMA_seasonal_anomalies_interp.nc\n",
      "SST_hindcasts_1998_4_JMA_seasonal_anomalies_interp.nc\n",
      "SST_hindcasts_1998_5_JMA_seasonal_anomalies_interp.nc\n",
      "SST_hindcasts_1998_6_JMA_seasonal_anomalies_interp.nc\n",
      "SST_hindcasts_1998_7_JMA_seasonal_anomalies_interp.nc\n",
      "SST_hindcasts_1998_8_JMA_seasonal_anomalies_interp.nc\n",
      "SST_hindcasts_1998_9_JMA_seasonal_anomalies_interp.nc\n",
      "SST_hindcasts_1998_10_JMA_seasonal_anomalies_interp.nc\n",
      "SST_hindcasts_1998_11_JMA_seasonal_anomalies_interp.nc\n",
      "SST_hindcasts_1998_12_JMA_seasonal_anomalies_interp.nc\n",
      "SST_hindcasts_1999_1_JMA_seasonal_anomalies_interp.nc\n",
      "SST_hindcasts_1999_2_JMA_seasonal_anomalies_interp.nc\n",
      "SST_hindcasts_1999_3_JMA_seasonal_anomalies_interp.nc\n",
      "SST_hindcasts_1999_4_JMA_seasonal_anomalies_interp.nc\n",
      "SST_hindcasts_1999_5_JMA_seasonal_anomalies_interp.nc\n",
      "SST_hindcasts_1999_6_JMA_seasonal_anomalies_interp.nc\n",
      "SST_hindcasts_1999_7_JMA_seasonal_anomalies_interp.nc\n",
      "SST_hindcasts_1999_8_JMA_seasonal_anomalies_interp.nc\n",
      "SST_hindcasts_1999_9_JMA_seasonal_anomalies_interp.nc\n",
      "SST_hindcasts_1999_10_JMA_seasonal_anomalies_interp.nc\n",
      "SST_hindcasts_1999_11_JMA_seasonal_anomalies_interp.nc\n",
      "SST_hindcasts_1999_12_JMA_seasonal_anomalies_interp.nc\n",
      "SST_hindcasts_2000_1_JMA_seasonal_anomalies_interp.nc\n",
      "SST_hindcasts_2000_2_JMA_seasonal_anomalies_interp.nc\n",
      "SST_hindcasts_2000_3_JMA_seasonal_anomalies_interp.nc\n",
      "SST_hindcasts_2000_4_JMA_seasonal_anomalies_interp.nc\n",
      "SST_hindcasts_2000_5_JMA_seasonal_anomalies_interp.nc\n",
      "SST_hindcasts_2000_6_JMA_seasonal_anomalies_interp.nc\n",
      "SST_hindcasts_2000_7_JMA_seasonal_anomalies_interp.nc\n",
      "SST_hindcasts_2000_8_JMA_seasonal_anomalies_interp.nc\n",
      "SST_hindcasts_2000_9_JMA_seasonal_anomalies_interp.nc\n",
      "SST_hindcasts_2000_10_JMA_seasonal_anomalies_interp.nc\n",
      "SST_hindcasts_2000_11_JMA_seasonal_anomalies_interp.nc\n",
      "SST_hindcasts_2000_12_JMA_seasonal_anomalies_interp.nc\n",
      "SST_hindcasts_2001_1_JMA_seasonal_anomalies_interp.nc\n",
      "SST_hindcasts_2001_2_JMA_seasonal_anomalies_interp.nc\n",
      "SST_hindcasts_2001_3_JMA_seasonal_anomalies_interp.nc\n",
      "SST_hindcasts_2001_4_JMA_seasonal_anomalies_interp.nc\n",
      "SST_hindcasts_2001_5_JMA_seasonal_anomalies_interp.nc\n",
      "SST_hindcasts_2001_6_JMA_seasonal_anomalies_interp.nc\n",
      "SST_hindcasts_2001_7_JMA_seasonal_anomalies_interp.nc\n",
      "SST_hindcasts_2001_8_JMA_seasonal_anomalies_interp.nc\n",
      "SST_hindcasts_2001_9_JMA_seasonal_anomalies_interp.nc\n",
      "SST_hindcasts_2001_10_JMA_seasonal_anomalies_interp.nc\n",
      "SST_hindcasts_2001_11_JMA_seasonal_anomalies_interp.nc\n",
      "SST_hindcasts_2001_12_JMA_seasonal_anomalies_interp.nc\n",
      "SST_hindcasts_2002_1_JMA_seasonal_anomalies_interp.nc\n",
      "SST_hindcasts_2002_2_JMA_seasonal_anomalies_interp.nc\n",
      "SST_hindcasts_2002_3_JMA_seasonal_anomalies_interp.nc\n",
      "SST_hindcasts_2002_4_JMA_seasonal_anomalies_interp.nc\n",
      "SST_hindcasts_2002_5_JMA_seasonal_anomalies_interp.nc\n",
      "SST_hindcasts_2002_6_JMA_seasonal_anomalies_interp.nc\n",
      "SST_hindcasts_2002_7_JMA_seasonal_anomalies_interp.nc\n",
      "SST_hindcasts_2002_8_JMA_seasonal_anomalies_interp.nc\n",
      "SST_hindcasts_2002_9_JMA_seasonal_anomalies_interp.nc\n",
      "SST_hindcasts_2002_10_JMA_seasonal_anomalies_interp.nc\n",
      "SST_hindcasts_2002_11_JMA_seasonal_anomalies_interp.nc\n",
      "SST_hindcasts_2002_12_JMA_seasonal_anomalies_interp.nc\n",
      "SST_hindcasts_2003_1_JMA_seasonal_anomalies_interp.nc\n",
      "SST_hindcasts_2003_2_JMA_seasonal_anomalies_interp.nc\n",
      "SST_hindcasts_2003_3_JMA_seasonal_anomalies_interp.nc\n",
      "SST_hindcasts_2003_4_JMA_seasonal_anomalies_interp.nc\n",
      "SST_hindcasts_2003_5_JMA_seasonal_anomalies_interp.nc\n",
      "SST_hindcasts_2003_6_JMA_seasonal_anomalies_interp.nc\n",
      "SST_hindcasts_2003_7_JMA_seasonal_anomalies_interp.nc\n",
      "SST_hindcasts_2003_8_JMA_seasonal_anomalies_interp.nc\n",
      "SST_hindcasts_2003_9_JMA_seasonal_anomalies_interp.nc\n",
      "SST_hindcasts_2003_10_JMA_seasonal_anomalies_interp.nc\n",
      "SST_hindcasts_2003_11_JMA_seasonal_anomalies_interp.nc\n",
      "SST_hindcasts_2003_12_JMA_seasonal_anomalies_interp.nc\n",
      "SST_hindcasts_2004_1_JMA_seasonal_anomalies_interp.nc\n",
      "SST_hindcasts_2004_2_JMA_seasonal_anomalies_interp.nc\n",
      "SST_hindcasts_2004_3_JMA_seasonal_anomalies_interp.nc\n",
      "SST_hindcasts_2004_4_JMA_seasonal_anomalies_interp.nc\n",
      "SST_hindcasts_2004_5_JMA_seasonal_anomalies_interp.nc\n",
      "SST_hindcasts_2004_6_JMA_seasonal_anomalies_interp.nc\n",
      "SST_hindcasts_2004_7_JMA_seasonal_anomalies_interp.nc\n",
      "SST_hindcasts_2004_8_JMA_seasonal_anomalies_interp.nc\n",
      "SST_hindcasts_2004_9_JMA_seasonal_anomalies_interp.nc\n",
      "SST_hindcasts_2004_10_JMA_seasonal_anomalies_interp.nc\n",
      "SST_hindcasts_2004_11_JMA_seasonal_anomalies_interp.nc\n",
      "SST_hindcasts_2004_12_JMA_seasonal_anomalies_interp.nc\n",
      "SST_hindcasts_2005_1_JMA_seasonal_anomalies_interp.nc\n",
      "SST_hindcasts_2005_2_JMA_seasonal_anomalies_interp.nc\n",
      "SST_hindcasts_2005_3_JMA_seasonal_anomalies_interp.nc\n",
      "SST_hindcasts_2005_4_JMA_seasonal_anomalies_interp.nc\n",
      "SST_hindcasts_2005_5_JMA_seasonal_anomalies_interp.nc\n",
      "SST_hindcasts_2005_6_JMA_seasonal_anomalies_interp.nc\n",
      "SST_hindcasts_2005_7_JMA_seasonal_anomalies_interp.nc\n",
      "SST_hindcasts_2005_8_JMA_seasonal_anomalies_interp.nc\n",
      "SST_hindcasts_2005_9_JMA_seasonal_anomalies_interp.nc\n",
      "SST_hindcasts_2005_10_JMA_seasonal_anomalies_interp.nc\n",
      "SST_hindcasts_2005_11_JMA_seasonal_anomalies_interp.nc\n",
      "SST_hindcasts_2005_12_JMA_seasonal_anomalies_interp.nc\n",
      "SST_hindcasts_2006_1_JMA_seasonal_anomalies_interp.nc\n",
      "SST_hindcasts_2006_2_JMA_seasonal_anomalies_interp.nc\n",
      "SST_hindcasts_2006_3_JMA_seasonal_anomalies_interp.nc\n",
      "SST_hindcasts_2006_4_JMA_seasonal_anomalies_interp.nc\n",
      "SST_hindcasts_2006_5_JMA_seasonal_anomalies_interp.nc\n",
      "SST_hindcasts_2006_6_JMA_seasonal_anomalies_interp.nc\n",
      "SST_hindcasts_2006_7_JMA_seasonal_anomalies_interp.nc\n",
      "SST_hindcasts_2006_8_JMA_seasonal_anomalies_interp.nc\n",
      "SST_hindcasts_2006_9_JMA_seasonal_anomalies_interp.nc\n",
      "SST_hindcasts_2006_10_JMA_seasonal_anomalies_interp.nc\n",
      "SST_hindcasts_2006_11_JMA_seasonal_anomalies_interp.nc\n",
      "SST_hindcasts_2006_12_JMA_seasonal_anomalies_interp.nc\n",
      "SST_hindcasts_2007_1_JMA_seasonal_anomalies_interp.nc\n",
      "SST_hindcasts_2007_2_JMA_seasonal_anomalies_interp.nc\n",
      "SST_hindcasts_2007_3_JMA_seasonal_anomalies_interp.nc\n",
      "SST_hindcasts_2007_4_JMA_seasonal_anomalies_interp.nc\n",
      "SST_hindcasts_2007_5_JMA_seasonal_anomalies_interp.nc\n",
      "SST_hindcasts_2007_6_JMA_seasonal_anomalies_interp.nc\n",
      "SST_hindcasts_2007_7_JMA_seasonal_anomalies_interp.nc\n",
      "SST_hindcasts_2007_8_JMA_seasonal_anomalies_interp.nc\n",
      "SST_hindcasts_2007_9_JMA_seasonal_anomalies_interp.nc\n",
      "SST_hindcasts_2007_10_JMA_seasonal_anomalies_interp.nc\n",
      "SST_hindcasts_2007_11_JMA_seasonal_anomalies_interp.nc\n",
      "SST_hindcasts_2007_12_JMA_seasonal_anomalies_interp.nc\n",
      "SST_hindcasts_2008_1_JMA_seasonal_anomalies_interp.nc\n",
      "SST_hindcasts_2008_2_JMA_seasonal_anomalies_interp.nc\n",
      "SST_hindcasts_2008_3_JMA_seasonal_anomalies_interp.nc\n",
      "SST_hindcasts_2008_4_JMA_seasonal_anomalies_interp.nc\n",
      "SST_hindcasts_2008_5_JMA_seasonal_anomalies_interp.nc\n",
      "SST_hindcasts_2008_6_JMA_seasonal_anomalies_interp.nc\n",
      "SST_hindcasts_2008_7_JMA_seasonal_anomalies_interp.nc\n",
      "SST_hindcasts_2008_8_JMA_seasonal_anomalies_interp.nc\n",
      "SST_hindcasts_2008_9_JMA_seasonal_anomalies_interp.nc\n",
      "SST_hindcasts_2008_10_JMA_seasonal_anomalies_interp.nc\n",
      "SST_hindcasts_2008_11_JMA_seasonal_anomalies_interp.nc\n",
      "SST_hindcasts_2008_12_JMA_seasonal_anomalies_interp.nc\n",
      "SST_hindcasts_2009_1_JMA_seasonal_anomalies_interp.nc\n",
      "SST_hindcasts_2009_2_JMA_seasonal_anomalies_interp.nc\n",
      "SST_hindcasts_2009_3_JMA_seasonal_anomalies_interp.nc\n",
      "SST_hindcasts_2009_4_JMA_seasonal_anomalies_interp.nc\n",
      "SST_hindcasts_2009_5_JMA_seasonal_anomalies_interp.nc\n",
      "SST_hindcasts_2009_6_JMA_seasonal_anomalies_interp.nc\n",
      "SST_hindcasts_2009_7_JMA_seasonal_anomalies_interp.nc\n",
      "SST_hindcasts_2009_8_JMA_seasonal_anomalies_interp.nc\n",
      "SST_hindcasts_2009_9_JMA_seasonal_anomalies_interp.nc\n",
      "SST_hindcasts_2009_10_JMA_seasonal_anomalies_interp.nc\n",
      "SST_hindcasts_2009_11_JMA_seasonal_anomalies_interp.nc\n",
      "SST_hindcasts_2009_12_JMA_seasonal_anomalies_interp.nc\n",
      "SST_hindcasts_2010_1_JMA_seasonal_anomalies_interp.nc\n",
      "SST_hindcasts_2010_2_JMA_seasonal_anomalies_interp.nc\n",
      "SST_hindcasts_2010_3_JMA_seasonal_anomalies_interp.nc\n",
      "SST_hindcasts_2010_4_JMA_seasonal_anomalies_interp.nc\n",
      "SST_hindcasts_2010_5_JMA_seasonal_anomalies_interp.nc\n",
      "SST_hindcasts_2010_6_JMA_seasonal_anomalies_interp.nc\n",
      "SST_hindcasts_2010_7_JMA_seasonal_anomalies_interp.nc\n",
      "SST_hindcasts_2010_8_JMA_seasonal_anomalies_interp.nc\n",
      "SST_hindcasts_2010_9_JMA_seasonal_anomalies_interp.nc\n",
      "SST_hindcasts_2010_10_JMA_seasonal_anomalies_interp.nc\n",
      "SST_hindcasts_2010_11_JMA_seasonal_anomalies_interp.nc\n",
      "SST_hindcasts_2010_12_JMA_seasonal_anomalies_interp.nc\n",
      "SST_hindcasts_2011_1_JMA_seasonal_anomalies_interp.nc\n",
      "SST_hindcasts_2011_2_JMA_seasonal_anomalies_interp.nc\n",
      "SST_hindcasts_2011_3_JMA_seasonal_anomalies_interp.nc\n",
      "SST_hindcasts_2011_4_JMA_seasonal_anomalies_interp.nc\n",
      "SST_hindcasts_2011_5_JMA_seasonal_anomalies_interp.nc\n",
      "SST_hindcasts_2011_6_JMA_seasonal_anomalies_interp.nc\n",
      "SST_hindcasts_2011_7_JMA_seasonal_anomalies_interp.nc\n",
      "SST_hindcasts_2011_8_JMA_seasonal_anomalies_interp.nc\n",
      "SST_hindcasts_2011_9_JMA_seasonal_anomalies_interp.nc\n",
      "SST_hindcasts_2011_10_JMA_seasonal_anomalies_interp.nc\n",
      "SST_hindcasts_2011_11_JMA_seasonal_anomalies_interp.nc\n",
      "SST_hindcasts_2011_12_JMA_seasonal_anomalies_interp.nc\n",
      "SST_hindcasts_2012_1_JMA_seasonal_anomalies_interp.nc\n",
      "SST_hindcasts_2012_2_JMA_seasonal_anomalies_interp.nc\n",
      "SST_hindcasts_2012_3_JMA_seasonal_anomalies_interp.nc\n",
      "SST_hindcasts_2012_4_JMA_seasonal_anomalies_interp.nc\n",
      "SST_hindcasts_2012_5_JMA_seasonal_anomalies_interp.nc\n",
      "SST_hindcasts_2012_6_JMA_seasonal_anomalies_interp.nc\n",
      "SST_hindcasts_2012_7_JMA_seasonal_anomalies_interp.nc\n",
      "SST_hindcasts_2012_8_JMA_seasonal_anomalies_interp.nc\n",
      "SST_hindcasts_2012_9_JMA_seasonal_anomalies_interp.nc\n",
      "SST_hindcasts_2012_10_JMA_seasonal_anomalies_interp.nc\n",
      "SST_hindcasts_2012_11_JMA_seasonal_anomalies_interp.nc\n",
      "SST_hindcasts_2012_12_JMA_seasonal_anomalies_interp.nc\n",
      "SST_hindcasts_2013_1_JMA_seasonal_anomalies_interp.nc\n",
      "SST_hindcasts_2013_2_JMA_seasonal_anomalies_interp.nc\n",
      "SST_hindcasts_2013_3_JMA_seasonal_anomalies_interp.nc\n",
      "SST_hindcasts_2013_4_JMA_seasonal_anomalies_interp.nc\n",
      "SST_hindcasts_2013_5_JMA_seasonal_anomalies_interp.nc\n",
      "SST_hindcasts_2013_6_JMA_seasonal_anomalies_interp.nc\n",
      "SST_hindcasts_2013_7_JMA_seasonal_anomalies_interp.nc\n",
      "SST_hindcasts_2013_8_JMA_seasonal_anomalies_interp.nc\n",
      "SST_hindcasts_2013_9_JMA_seasonal_anomalies_interp.nc\n",
      "SST_hindcasts_2013_10_JMA_seasonal_anomalies_interp.nc\n",
      "SST_hindcasts_2013_11_JMA_seasonal_anomalies_interp.nc\n",
      "SST_hindcasts_2013_12_JMA_seasonal_anomalies_interp.nc\n",
      "SST_hindcasts_2014_1_JMA_seasonal_anomalies_interp.nc\n",
      "SST_hindcasts_2014_2_JMA_seasonal_anomalies_interp.nc\n",
      "SST_hindcasts_2014_3_JMA_seasonal_anomalies_interp.nc\n",
      "SST_hindcasts_2014_4_JMA_seasonal_anomalies_interp.nc\n",
      "SST_hindcasts_2014_5_JMA_seasonal_anomalies_interp.nc\n",
      "SST_hindcasts_2014_6_JMA_seasonal_anomalies_interp.nc\n",
      "SST_hindcasts_2014_7_JMA_seasonal_anomalies_interp.nc\n",
      "SST_hindcasts_2014_8_JMA_seasonal_anomalies_interp.nc\n",
      "SST_hindcasts_2014_9_JMA_seasonal_anomalies_interp.nc\n",
      "SST_hindcasts_2014_10_JMA_seasonal_anomalies_interp.nc\n",
      "SST_hindcasts_2014_11_JMA_seasonal_anomalies_interp.nc\n",
      "SST_hindcasts_2014_12_JMA_seasonal_anomalies_interp.nc\n",
      "SST_hindcasts_2015_1_JMA_seasonal_anomalies_interp.nc\n",
      "SST_hindcasts_2015_2_JMA_seasonal_anomalies_interp.nc\n",
      "SST_hindcasts_2015_3_JMA_seasonal_anomalies_interp.nc\n",
      "SST_hindcasts_2015_4_JMA_seasonal_anomalies_interp.nc\n",
      "SST_hindcasts_2015_5_JMA_seasonal_anomalies_interp.nc\n",
      "SST_hindcasts_2015_6_JMA_seasonal_anomalies_interp.nc\n",
      "SST_hindcasts_2015_7_JMA_seasonal_anomalies_interp.nc\n",
      "SST_hindcasts_2015_8_JMA_seasonal_anomalies_interp.nc\n",
      "SST_hindcasts_2015_9_JMA_seasonal_anomalies_interp.nc\n",
      "SST_hindcasts_2015_10_JMA_seasonal_anomalies_interp.nc\n",
      "SST_hindcasts_2015_11_JMA_seasonal_anomalies_interp.nc\n",
      "SST_hindcasts_2015_12_JMA_seasonal_anomalies_interp.nc\n",
      "SST_hindcasts_2016_1_JMA_seasonal_anomalies_interp.nc\n",
      "SST_hindcasts_2016_2_JMA_seasonal_anomalies_interp.nc\n",
      "SST_hindcasts_2016_3_JMA_seasonal_anomalies_interp.nc\n",
      "SST_hindcasts_2016_4_JMA_seasonal_anomalies_interp.nc\n",
      "SST_hindcasts_2016_5_JMA_seasonal_anomalies_interp.nc\n",
      "SST_hindcasts_2016_6_JMA_seasonal_anomalies_interp.nc\n",
      "SST_hindcasts_2016_7_JMA_seasonal_anomalies_interp.nc\n",
      "SST_hindcasts_2016_8_JMA_seasonal_anomalies_interp.nc\n",
      "SST_hindcasts_2016_9_JMA_seasonal_anomalies_interp.nc\n",
      "SST_hindcasts_2016_10_JMA_seasonal_anomalies_interp.nc\n",
      "SST_hindcasts_2016_11_JMA_seasonal_anomalies_interp.nc\n",
      "SST_hindcasts_2016_12_JMA_seasonal_anomalies_interp.nc\n",
      "SST_hindcasts_2017_1_JMA_seasonal_anomalies_interp.nc\n",
      "SST_hindcasts_2017_2_JMA_seasonal_anomalies_interp.nc\n",
      "SST_hindcasts_2017_3_JMA_seasonal_anomalies_interp.nc\n",
      "SST_hindcasts_2017_4_JMA_seasonal_anomalies_interp.nc\n",
      "SST_hindcasts_2017_5_JMA_seasonal_anomalies_interp.nc\n",
      "SST_hindcasts_2017_6_JMA_seasonal_anomalies_interp.nc\n",
      "SST_hindcasts_2017_7_JMA_seasonal_anomalies_interp.nc\n",
      "SST_hindcasts_2017_8_JMA_seasonal_anomalies_interp.nc\n",
      "SST_hindcasts_2017_9_JMA_seasonal_anomalies_interp.nc\n",
      "SST_hindcasts_2017_10_JMA_seasonal_anomalies_interp.nc\n",
      "SST_hindcasts_2017_11_JMA_seasonal_anomalies_interp.nc\n",
      "SST_hindcasts_2017_12_JMA_seasonal_anomalies_interp.nc\n",
      "SST_hindcasts_2018_1_JMA_seasonal_anomalies_interp.nc\n",
      "SST_hindcasts_2018_2_JMA_seasonal_anomalies_interp.nc\n",
      "SST_hindcasts_2018_3_JMA_seasonal_anomalies_interp.nc\n",
      "SST_hindcasts_2018_4_JMA_seasonal_anomalies_interp.nc\n",
      "SST_hindcasts_2018_5_JMA_seasonal_anomalies_interp.nc\n",
      "SST_hindcasts_2018_6_JMA_seasonal_anomalies_interp.nc\n",
      "SST_hindcasts_2018_7_JMA_seasonal_anomalies_interp.nc\n",
      "SST_hindcasts_2018_8_JMA_seasonal_anomalies_interp.nc\n",
      "SST_hindcasts_2018_9_JMA_seasonal_anomalies_interp.nc\n",
      "SST_hindcasts_2018_10_JMA_seasonal_anomalies_interp.nc\n",
      "SST_hindcasts_2018_11_JMA_seasonal_anomalies_interp.nc\n",
      "SST_hindcasts_2018_12_JMA_seasonal_anomalies_interp.nc\n",
      "SST_hindcasts_2019_1_JMA_seasonal_anomalies_interp.nc\n",
      "SST_hindcasts_2019_2_JMA_seasonal_anomalies_interp.nc\n",
      "SST_hindcasts_2019_3_JMA_seasonal_anomalies_interp.nc\n",
      "SST_hindcasts_2019_4_JMA_seasonal_anomalies_interp.nc\n",
      "SST_hindcasts_2019_5_JMA_seasonal_anomalies_interp.nc\n",
      "SST_hindcasts_2019_6_JMA_seasonal_anomalies_interp.nc\n",
      "SST_hindcasts_2019_7_JMA_seasonal_anomalies_interp.nc\n",
      "SST_hindcasts_2019_8_JMA_seasonal_anomalies_interp.nc\n",
      "SST_hindcasts_2019_9_JMA_seasonal_anomalies_interp.nc\n",
      "SST_hindcasts_2019_10_JMA_seasonal_anomalies_interp.nc\n",
      "SST_hindcasts_2019_11_JMA_seasonal_anomalies_interp.nc\n"
     ]
    }
   ],
   "source": [
    "for t in range(len(anoms.time)): \n",
    "    sub = anoms.isel(time=t)\n",
    "    year = sub.time.dt.year.data.flatten()[0]\n",
    "    month = sub.time.dt.month.data.flatten()[0]\n",
    "    print(f\"{var_name}_hindcasts_{year}_{month}_{GCM}_seasonal_anomalies_interp.nc\") \n",
    "    sub.to_netcdf(dpath / f\"{var_name}_hindcasts_{year}_{month}_{GCM}_seasonal_anomalies_interp.nc\")\n",
    "    sub.close()"
   ]
  },
  {
   "cell_type": "code",
   "execution_count": null,
   "metadata": {},
   "outputs": [],
   "source": []
  },
  {
   "cell_type": "code",
   "execution_count": null,
   "metadata": {},
   "outputs": [],
   "source": []
  },
  {
   "cell_type": "code",
   "execution_count": null,
   "metadata": {},
   "outputs": [],
   "source": []
  },
  {
   "cell_type": "code",
   "execution_count": null,
   "metadata": {},
   "outputs": [],
   "source": []
  }
 ],
 "metadata": {
  "kernelspec": {
   "display_name": "Python 3",
   "language": "python",
   "name": "python3"
  },
  "language_info": {
   "codemirror_mode": {
    "name": "ipython",
    "version": 3
   },
   "file_extension": ".py",
   "mimetype": "text/x-python",
   "name": "python",
   "nbconvert_exporter": "python",
   "pygments_lexer": "ipython3",
   "version": "3.7.5"
  }
 },
 "nbformat": 4,
 "nbformat_minor": 4
}
