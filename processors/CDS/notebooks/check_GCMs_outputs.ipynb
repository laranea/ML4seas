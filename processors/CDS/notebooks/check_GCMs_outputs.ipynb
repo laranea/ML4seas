{
 "cells": [
  {
   "cell_type": "code",
   "execution_count": 2,
   "metadata": {
    "execution_event_id": "96b336ee-4b00-4011-9fdd-067f3830e509",
    "last_executed_text": "%matplotlib inline\nfrom matplotlib import pyplot as plt ",
    "persistent_id": "e9de4bce-a93b-4302-873f-b7e3e022e2af"
   },
   "outputs": [],
   "source": [
    "%matplotlib inline\n",
    "from matplotlib import pyplot as plt "
   ]
  },
  {
   "cell_type": "code",
   "execution_count": 32,
   "metadata": {
    "execution_event_id": "fa6560f9-b93b-4559-bfd0-f0d742c486d7",
    "last_executed_text": "import xarray as xr",
    "persistent_id": "b61970a5-db79-4142-bf9b-32b7e5a31851"
   },
   "outputs": [],
   "source": [
    "import xarray as xr"
   ]
  },
  {
   "cell_type": "code",
   "execution_count": 4,
   "metadata": {
    "execution_event_id": "5010899e-7b9c-454e-9092-7057b4e02e48",
    "last_executed_text": "import cartopy.crs as ccrs",
    "persistent_id": "6fd94f96-7415-4443-b824-180dfc1648c0"
   },
   "outputs": [],
   "source": [
    "import cartopy.crs as ccrs"
   ]
  },
  {
   "cell_type": "code",
   "execution_count": 5,
   "metadata": {
    "execution_event_id": "f1326f13-893a-4e01-9ae3-9c9c436d6dce",
    "last_executed_text": "import pathlib",
    "persistent_id": "f20f275c-8271-4851-871b-794ae8e6c02c"
   },
   "outputs": [],
   "source": [
    "import pathlib"
   ]
  },
  {
   "cell_type": "code",
   "execution_count": 6,
   "metadata": {
    "execution_event_id": "8c72cee2-b057-469e-a414-5b4db773100e",
    "last_executed_text": "HOME = pathlib.Path().home()",
    "persistent_id": "e20e334b-8106-4868-a1f2-3f9a3d9d91e9"
   },
   "outputs": [],
   "source": [
    "HOME = pathlib.Path().home()"
   ]
  },
  {
   "cell_type": "code",
   "execution_count": 7,
   "metadata": {
    "execution_event_id": "73371629-cbd3-4113-864c-d81b4a9b847b",
    "last_executed_text": "HOME",
    "persistent_id": "d8164222-974d-46f3-9f60-fcdb20ef3d13"
   },
   "outputs": [
    {
     "data": {
      "text/plain": [
       "PosixPath('/home/nicolasf')"
      ]
     },
     "execution_count": 7,
     "metadata": {},
     "output_type": "execute_result"
    }
   ],
   "source": [
    "HOME"
   ]
  },
  {
   "cell_type": "code",
   "execution_count": 84,
   "metadata": {
    "execution_event_id": "b33f3aac-2c62-4ae6-9d4e-c9e6cc7bf0a6",
    "last_executed_text": "GCM = 'METEO_FRANcE'",
    "persistent_id": "8f44f40e-831d-40c5-99d4-c24eb5522bcb"
   },
   "outputs": [],
   "source": [
    "GCM = 'METEO_FRANcE'"
   ]
  },
  {
   "cell_type": "code",
   "execution_count": 77,
   "metadata": {
    "execution_event_id": "97f48a73-e0fb-4ce0-be0c-76f63682092e",
    "last_executed_text": "var_name = 'Z850'",
    "persistent_id": "c34d5d8a-150f-43ae-ba5d-abd92234ee07"
   },
   "outputs": [],
   "source": [
    "var_name = 'Z850'"
   ]
  },
  {
   "cell_type": "code",
   "execution_count": 78,
   "metadata": {
    "execution_event_id": "10b8735f-7a8d-40d6-9175-02863d0beee0",
    "last_executed_text": "dpath = HOME / 'research' / 'Smart_Ideas' / 'data' / 'GCMs' / 'NC' / GCM / var_name",
    "persistent_id": "72a28aa3-e883-4149-a8e2-05845e5753d9"
   },
   "outputs": [],
   "source": [
    "dpath = HOME / 'research' / 'Smart_Ideas' / 'data' / 'GCMs' / 'NC' / GCM / var_name"
   ]
  },
  {
   "cell_type": "code",
   "execution_count": 79,
   "metadata": {
    "execution_event_id": "5ff91ca7-b849-4128-a2cd-3c38244995cc",
    "last_executed_text": "lfiles = list(dpath.rglob(\"*_seasonal_anomalies.nc\"))",
    "persistent_id": "85905907-ef5a-4439-954c-c83b8518e9c4"
   },
   "outputs": [],
   "source": [
    "lfiles = list(dpath.rglob(\"*_seasonal_anomalies.nc\"))"
   ]
  },
  {
   "cell_type": "code",
   "execution_count": 80,
   "metadata": {
    "execution_event_id": "b26b1b30-f739-41c9-856c-617aa605d19b",
    "last_executed_text": "lfiles.sort()",
    "persistent_id": "fb474e4d-997a-40f5-921d-364c28457c9c"
   },
   "outputs": [],
   "source": [
    "lfiles.sort()"
   ]
  },
  {
   "cell_type": "code",
   "execution_count": 81,
   "metadata": {
    "execution_event_id": "aa2f9be3-a05f-45ba-90e2-6e92df8dc366",
    "last_executed_text": "lfiles",
    "persistent_id": "9da569ca-1523-4a3f-be48-e85139a8d601"
   },
   "outputs": [
    {
     "data": {
      "text/plain": [
       "[PosixPath('/home/nicolasf/research/Smart_Ideas/data/GCMs/NC/ECMWF/Z850/Z850_hindcasts_1993_ECMWF_seasonal_anomalies.nc'),\n",
       " PosixPath('/home/nicolasf/research/Smart_Ideas/data/GCMs/NC/ECMWF/Z850/Z850_hindcasts_1994_ECMWF_seasonal_anomalies.nc'),\n",
       " PosixPath('/home/nicolasf/research/Smart_Ideas/data/GCMs/NC/ECMWF/Z850/Z850_hindcasts_1995_ECMWF_seasonal_anomalies.nc'),\n",
       " PosixPath('/home/nicolasf/research/Smart_Ideas/data/GCMs/NC/ECMWF/Z850/Z850_hindcasts_1996_ECMWF_seasonal_anomalies.nc'),\n",
       " PosixPath('/home/nicolasf/research/Smart_Ideas/data/GCMs/NC/ECMWF/Z850/Z850_hindcasts_1997_ECMWF_seasonal_anomalies.nc'),\n",
       " PosixPath('/home/nicolasf/research/Smart_Ideas/data/GCMs/NC/ECMWF/Z850/Z850_hindcasts_1998_ECMWF_seasonal_anomalies.nc'),\n",
       " PosixPath('/home/nicolasf/research/Smart_Ideas/data/GCMs/NC/ECMWF/Z850/Z850_hindcasts_1999_ECMWF_seasonal_anomalies.nc'),\n",
       " PosixPath('/home/nicolasf/research/Smart_Ideas/data/GCMs/NC/ECMWF/Z850/Z850_hindcasts_2000_ECMWF_seasonal_anomalies.nc'),\n",
       " PosixPath('/home/nicolasf/research/Smart_Ideas/data/GCMs/NC/ECMWF/Z850/Z850_hindcasts_2001_ECMWF_seasonal_anomalies.nc'),\n",
       " PosixPath('/home/nicolasf/research/Smart_Ideas/data/GCMs/NC/ECMWF/Z850/Z850_hindcasts_2002_ECMWF_seasonal_anomalies.nc'),\n",
       " PosixPath('/home/nicolasf/research/Smart_Ideas/data/GCMs/NC/ECMWF/Z850/Z850_hindcasts_2003_ECMWF_seasonal_anomalies.nc'),\n",
       " PosixPath('/home/nicolasf/research/Smart_Ideas/data/GCMs/NC/ECMWF/Z850/Z850_hindcasts_2004_ECMWF_seasonal_anomalies.nc'),\n",
       " PosixPath('/home/nicolasf/research/Smart_Ideas/data/GCMs/NC/ECMWF/Z850/Z850_hindcasts_2005_ECMWF_seasonal_anomalies.nc'),\n",
       " PosixPath('/home/nicolasf/research/Smart_Ideas/data/GCMs/NC/ECMWF/Z850/Z850_hindcasts_2006_ECMWF_seasonal_anomalies.nc'),\n",
       " PosixPath('/home/nicolasf/research/Smart_Ideas/data/GCMs/NC/ECMWF/Z850/Z850_hindcasts_2007_ECMWF_seasonal_anomalies.nc'),\n",
       " PosixPath('/home/nicolasf/research/Smart_Ideas/data/GCMs/NC/ECMWF/Z850/Z850_hindcasts_2008_ECMWF_seasonal_anomalies.nc'),\n",
       " PosixPath('/home/nicolasf/research/Smart_Ideas/data/GCMs/NC/ECMWF/Z850/Z850_hindcasts_2009_ECMWF_seasonal_anomalies.nc'),\n",
       " PosixPath('/home/nicolasf/research/Smart_Ideas/data/GCMs/NC/ECMWF/Z850/Z850_hindcasts_2010_ECMWF_seasonal_anomalies.nc'),\n",
       " PosixPath('/home/nicolasf/research/Smart_Ideas/data/GCMs/NC/ECMWF/Z850/Z850_hindcasts_2011_ECMWF_seasonal_anomalies.nc'),\n",
       " PosixPath('/home/nicolasf/research/Smart_Ideas/data/GCMs/NC/ECMWF/Z850/Z850_hindcasts_2012_ECMWF_seasonal_anomalies.nc'),\n",
       " PosixPath('/home/nicolasf/research/Smart_Ideas/data/GCMs/NC/ECMWF/Z850/Z850_hindcasts_2013_ECMWF_seasonal_anomalies.nc'),\n",
       " PosixPath('/home/nicolasf/research/Smart_Ideas/data/GCMs/NC/ECMWF/Z850/Z850_hindcasts_2014_ECMWF_seasonal_anomalies.nc'),\n",
       " PosixPath('/home/nicolasf/research/Smart_Ideas/data/GCMs/NC/ECMWF/Z850/Z850_hindcasts_2015_ECMWF_seasonal_anomalies.nc'),\n",
       " PosixPath('/home/nicolasf/research/Smart_Ideas/data/GCMs/NC/ECMWF/Z850/Z850_hindcasts_2016_ECMWF_seasonal_anomalies.nc')]"
      ]
     },
     "execution_count": 81,
     "metadata": {},
     "output_type": "execute_result"
    }
   ],
   "source": [
    "lfiles"
   ]
  },
  {
   "cell_type": "code",
   "execution_count": 82,
   "metadata": {
    "execution_event_id": "a181f12e-a1df-47a0-b7e5-c670d8698ea2",
    "last_executed_text": "for fname in lfiles: \n    dset = xr.open_dataset(fname)\n    print(f\"{fname.name}: {dict(dset.dims)}\")\n    dset.close()",
    "persistent_id": "d521ff46-8313-4d26-a448-50aaf20e1097"
   },
   "outputs": [
    {
     "name": "stdout",
     "output_type": "stream",
     "text": [
      "Z850_hindcasts_1993_ECMWF_seasonal_anomalies.nc: {'lat': 181, 'lon': 360, 'member': 25, 'step': 3, 'time': 12}\n",
      "Z850_hindcasts_1994_ECMWF_seasonal_anomalies.nc: {'lat': 181, 'lon': 360, 'member': 25, 'step': 3, 'time': 12}\n",
      "Z850_hindcasts_1995_ECMWF_seasonal_anomalies.nc: {'lat': 181, 'lon': 360, 'member': 25, 'step': 3, 'time': 12}\n",
      "Z850_hindcasts_1996_ECMWF_seasonal_anomalies.nc: {'lat': 181, 'lon': 360, 'member': 25, 'step': 3, 'time': 12}\n",
      "Z850_hindcasts_1997_ECMWF_seasonal_anomalies.nc: {'lat': 181, 'lon': 360, 'member': 25, 'step': 3, 'time': 12}\n",
      "Z850_hindcasts_1998_ECMWF_seasonal_anomalies.nc: {'lat': 181, 'lon': 360, 'member': 25, 'step': 3, 'time': 12}\n",
      "Z850_hindcasts_1999_ECMWF_seasonal_anomalies.nc: {'lat': 181, 'lon': 360, 'member': 25, 'step': 3, 'time': 12}\n",
      "Z850_hindcasts_2000_ECMWF_seasonal_anomalies.nc: {'lat': 181, 'lon': 360, 'member': 25, 'step': 3, 'time': 12}\n",
      "Z850_hindcasts_2001_ECMWF_seasonal_anomalies.nc: {'lat': 181, 'lon': 360, 'member': 25, 'step': 3, 'time': 12}\n",
      "Z850_hindcasts_2002_ECMWF_seasonal_anomalies.nc: {'lat': 181, 'lon': 360, 'member': 25, 'step': 3, 'time': 12}\n",
      "Z850_hindcasts_2003_ECMWF_seasonal_anomalies.nc: {'lat': 181, 'lon': 360, 'member': 25, 'step': 3, 'time': 12}\n",
      "Z850_hindcasts_2004_ECMWF_seasonal_anomalies.nc: {'lat': 181, 'lon': 360, 'member': 25, 'step': 3, 'time': 12}\n",
      "Z850_hindcasts_2005_ECMWF_seasonal_anomalies.nc: {'lat': 181, 'lon': 360, 'member': 25, 'step': 3, 'time': 12}\n",
      "Z850_hindcasts_2006_ECMWF_seasonal_anomalies.nc: {'lat': 181, 'lon': 360, 'member': 25, 'step': 3, 'time': 12}\n",
      "Z850_hindcasts_2007_ECMWF_seasonal_anomalies.nc: {'lat': 181, 'lon': 360, 'member': 25, 'step': 3, 'time': 12}\n",
      "Z850_hindcasts_2008_ECMWF_seasonal_anomalies.nc: {'lat': 181, 'lon': 360, 'member': 25, 'step': 3, 'time': 12}\n",
      "Z850_hindcasts_2009_ECMWF_seasonal_anomalies.nc: {'lat': 181, 'lon': 360, 'member': 25, 'step': 3, 'time': 12}\n",
      "Z850_hindcasts_2010_ECMWF_seasonal_anomalies.nc: {'lat': 181, 'lon': 360, 'member': 25, 'step': 3, 'time': 12}\n",
      "Z850_hindcasts_2011_ECMWF_seasonal_anomalies.nc: {'lat': 181, 'lon': 360, 'member': 25, 'step': 3, 'time': 12}\n",
      "Z850_hindcasts_2012_ECMWF_seasonal_anomalies.nc: {'lat': 181, 'lon': 360, 'member': 25, 'step': 3, 'time': 12}\n",
      "Z850_hindcasts_2013_ECMWF_seasonal_anomalies.nc: {'lat': 181, 'lon': 360, 'member': 25, 'step': 3, 'time': 12}\n",
      "Z850_hindcasts_2014_ECMWF_seasonal_anomalies.nc: {'lat': 181, 'lon': 360, 'member': 25, 'step': 3, 'time': 12}\n",
      "Z850_hindcasts_2015_ECMWF_seasonal_anomalies.nc: {'lat': 181, 'lon': 360, 'member': 25, 'step': 3, 'time': 12}\n",
      "Z850_hindcasts_2016_ECMWF_seasonal_anomalies.nc: {'lat': 181, 'lon': 360, 'member': 25, 'step': 3, 'time': 12}\n"
     ]
    }
   ],
   "source": [
    "for fname in lfiles: \n",
    "    dset = xr.open_dataset(fname)\n",
    "    print(f\"{fname.name}: {dict(dset.dims)}\")\n",
    "    dset.close()"
   ]
  },
  {
   "cell_type": "code",
   "execution_count": 68,
   "metadata": {
    "execution_event_id": "be72de10-0dd5-47e3-9119-f53bfa0f8692",
    "last_executed_text": "dset.data_vars",
    "persistent_id": "9a87d325-974d-402a-92f0-8224baa60fff"
   },
   "outputs": [
    {
     "data": {
      "text/plain": [
       "Data variables:\n",
       "    t2m                  (time, step, member, lat, lon) float32 ...\n",
       "    month                (time) int64 ...\n",
       "    forecast_valid_time  (time, step) datetime64[ns] ..."
      ]
     },
     "execution_count": 68,
     "metadata": {},
     "output_type": "execute_result"
    }
   ],
   "source": [
    "dset.data_vars"
   ]
  },
  {
   "cell_type": "code",
   "execution_count": null,
   "metadata": {},
   "outputs": [],
   "source": []
  }
 ],
 "metadata": {
  "history": [
   {
    "cell": {
     "executionCount": 1,
     "executionEventId": "c1d29e25-a108-4442-9c07-186ea832a826",
     "hasError": false,
     "id": "cebe917f-0b55-441e-bc2d-5e1681b514b1",
     "outputs": [],
     "persistentId": "e9de4bce-a93b-4302-873f-b7e3e022e2af",
     "text": "%matplotlib inline"
    },
    "executionTime": "2019-12-12T22:06:43.726Z"
   },
   {
    "cell": {
     "executionCount": 2,
     "executionEventId": "96b336ee-4b00-4011-9fdd-067f3830e509",
     "hasError": false,
     "id": "cebe917f-0b55-441e-bc2d-5e1681b514b1",
     "outputs": [],
     "persistentId": "e9de4bce-a93b-4302-873f-b7e3e022e2af",
     "text": "%matplotlib inline\nfrom matplotlib import pyplot as plt "
    },
    "executionTime": "2019-12-12T22:07:00.919Z"
   },
   {
    "cell": {
     "executionCount": 3,
     "executionEventId": "6d2915d3-b305-42c1-84ee-7a3992c247be",
     "hasError": false,
     "id": "d6c99f4a-cf83-4212-9594-e08feff15922",
     "outputs": [],
     "persistentId": "b61970a5-db79-4142-bf9b-32b7e5a31851",
     "text": "import xarray"
    },
    "executionTime": "2019-12-12T22:07:03.091Z"
   },
   {
    "cell": {
     "executionCount": 4,
     "executionEventId": "5010899e-7b9c-454e-9092-7057b4e02e48",
     "hasError": false,
     "id": "8f9087c9-4234-4cf5-956b-9d49de5dd4ae",
     "outputs": [],
     "persistentId": "6fd94f96-7415-4443-b824-180dfc1648c0",
     "text": "import cartopy.crs as ccrs"
    },
    "executionTime": "2019-12-12T22:07:13.621Z"
   },
   {
    "cell": {
     "executionCount": 5,
     "executionEventId": "f1326f13-893a-4e01-9ae3-9c9c436d6dce",
     "hasError": false,
     "id": "f6c24013-4830-4c36-99ab-b27b453fc89a",
     "outputs": [],
     "persistentId": "f20f275c-8271-4851-871b-794ae8e6c02c",
     "text": "import pathlib"
    },
    "executionTime": "2019-12-12T22:07:19.328Z"
   },
   {
    "cell": {
     "executionCount": 6,
     "executionEventId": "8c72cee2-b057-469e-a414-5b4db773100e",
     "hasError": false,
     "id": "19c3ebf2-55de-4c74-ab92-3228ed5e8d39",
     "outputs": [],
     "persistentId": "e20e334b-8106-4868-a1f2-3f9a3d9d91e9",
     "text": "HOME = pathlib.Path().home()"
    },
    "executionTime": "2019-12-12T22:07:26.044Z"
   },
   {
    "cell": {
     "executionCount": 7,
     "executionEventId": "73371629-cbd3-4113-864c-d81b4a9b847b",
     "hasError": false,
     "id": "a9633a14-11a1-4bfa-89e6-29f018f9689a",
     "outputs": [
      {
       "data": {
        "text/plain": "PosixPath('/home/nicolasf')"
       },
       "execution_count": 7,
       "metadata": {},
       "output_type": "execute_result"
      }
     ],
     "persistentId": "d8164222-974d-46f3-9f60-fcdb20ef3d13",
     "text": "HOME"
    },
    "executionTime": "2019-12-12T22:07:29.118Z"
   },
   {
    "cell": {
     "executionCount": 8,
     "executionEventId": "49c2f8da-f3bd-44c8-9935-a1d67f8c0574",
     "hasError": false,
     "id": "5e82ce1f-fdf8-4e3d-bd05-550df2d2da4c",
     "outputs": [],
     "persistentId": "8f44f40e-831d-40c5-99d4-c24eb5522bcb",
     "text": "GCM = 'ECMWF'"
    },
    "executionTime": "2019-12-12T22:07:41.819Z"
   },
   {
    "cell": {
     "executionCount": 9,
     "executionEventId": "5a5fa14b-f6ad-4811-be31-6ad9bd187c2a",
     "hasError": false,
     "id": "5e82ce1f-fdf8-4e3d-bd05-550df2d2da4c",
     "outputs": [],
     "persistentId": "8f44f40e-831d-40c5-99d4-c24eb5522bcb",
     "text": "GCM = 'ECMWF'"
    },
    "executionTime": "2019-12-12T22:08:33.644Z"
   },
   {
    "cell": {
     "executionCount": 10,
     "executionEventId": "b093f7a5-9719-4490-b039-e3eb8698b834",
     "hasError": false,
     "id": "dff3e9b1-8e8e-4b07-aa16-dd1e0c457d8f",
     "outputs": [],
     "persistentId": "72a28aa3-e883-4149-a8e2-05845e5753d9",
     "text": "dpath = HOME / 'research' / 'Smart_Ideas' / 'data' / 'GCMs' / 'NC' / GCM"
    },
    "executionTime": "2019-12-12T22:08:33.880Z"
   },
   {
    "cell": {
     "executionCount": 11,
     "executionEventId": "f6067726-b094-468a-85a2-0d5f9665fb47",
     "hasError": false,
     "id": "b8d40a49-05fb-46e5-a6d9-cb25aabbf235",
     "outputs": [
      {
       "data": {
        "text/plain": "<generator object Path.rglob at 0x7f782aeaed50>"
       },
       "execution_count": 11,
       "metadata": {},
       "output_type": "execute_result"
      }
     ],
     "persistentId": "85905907-ef5a-4439-954c-c83b8518e9c4",
     "text": "dpath.rglob(\"*/*.nc\")"
    },
    "executionTime": "2019-12-12T22:08:49.235Z"
   },
   {
    "cell": {
     "executionCount": 12,
     "executionEventId": "3195347b-c2c9-4676-9858-7a111cebb3f9",
     "hasError": false,
     "id": "b8d40a49-05fb-46e5-a6d9-cb25aabbf235",
     "outputs": [],
     "persistentId": "85905907-ef5a-4439-954c-c83b8518e9c4",
     "text": "lfiles = list(dpath.rglob(\"*/*.nc\"))"
    },
    "executionTime": "2019-12-12T22:08:56.848Z"
   },
   {
    "cell": {
     "executionCount": 13,
     "executionEventId": "4eaa81fb-0085-4a40-b587-982364706769",
     "hasError": false,
     "id": "39c7ccf6-7046-4592-8305-a29458ce8e58",
     "outputs": [
      {
       "data": {
        "text/plain": "[PosixPath('/home/nicolasf/research/Smart_Ideas/data/GCMs/NC/ECMWF/PRECIP/PRECIP_hindcasts_2003_ECMWF_seasonal_anomalies.nc'),\n PosixPath('/home/nicolasf/research/Smart_Ideas/data/GCMs/NC/ECMWF/PRECIP/PRECIP_hindcasts_1995_ECMWF_seasonal_anomalies.nc'),\n PosixPath('/home/nicolasf/research/Smart_Ideas/data/GCMs/NC/ECMWF/PRECIP/PRECIP_hindcasts_2014_ECMWF_seasonal_anomalies.nc'),\n PosixPath('/home/nicolasf/research/Smart_Ideas/data/GCMs/NC/ECMWF/PRECIP/PRECIP_hindcasts_2015_ECMWF_seasonal_anomalies.nc'),\n PosixPath('/home/nicolasf/research/Smart_Ideas/data/GCMs/NC/ECMWF/PRECIP/PRECIP_hindcasts_2004_ECMWF_seasonal.nc'),\n PosixPath('/home/nicolasf/research/Smart_Ideas/data/GCMs/NC/ECMWF/PRECIP/PRECIP_hindcasts_2015_ECMWF_seasonal.nc'),\n PosixPath('/home/nicolasf/research/Smart_Ideas/data/GCMs/NC/ECMWF/PRECIP/PRECIP_hindcasts_2008_ECMWF_seasonal_anomalies.nc'),\n PosixPath('/home/nicolasf/research/Smart_Ideas/data/GCMs/NC/ECMWF/PRECIP/PRECIP_hindcasts_2007_ECMWF_seasonal_anomalies.nc'),\n PosixPath('/home/nicolasf/research/Smart_Ideas/data/GCMs/NC/ECMWF/PRECIP/PRECIP_hindcasts_2016_ECMWF_seasonal_anomalies.nc'),\n PosixPath('/home/nicolasf/research/Smart_Ideas/data/GCMs/NC/ECMWF/PRECIP/PRECIP_hindcasts_2008_ECMWF_seasonal.nc'),\n PosixPath('/home/nicolasf/research/Smart_Ideas/data/GCMs/NC/ECMWF/PRECIP/PRECIP_hindcasts_1994_ECMWF_seasonal_anomalies.nc'),\n PosixPath('/home/nicolasf/research/Smart_Ideas/data/GCMs/NC/ECMWF/PRECIP/PRECIP_hindcasts_2010_ECMWF_seasonal_anomalies.nc'),\n PosixPath('/home/nicolasf/research/Smart_Ideas/data/GCMs/NC/ECMWF/PRECIP/PRECIP_hindcasts_1995_ECMWF_seasonal.nc'),\n PosixPath('/home/nicolasf/research/Smart_Ideas/data/GCMs/NC/ECMWF/PRECIP/PRECIP_hindcasts_2014_ECMWF_seasonal.nc'),\n PosixPath('/home/nicolasf/research/Smart_Ideas/data/GCMs/NC/ECMWF/PRECIP/PRECIP_hindcasts_2013_ECMWF_seasonal_anomalies.nc'),\n PosixPath('/home/nicolasf/research/Smart_Ideas/data/GCMs/NC/ECMWF/PRECIP/PRECIP_hindcasts_2009_ECMWF_seasonal_anomalies.nc'),\n PosixPath('/home/nicolasf/research/Smart_Ideas/data/GCMs/NC/ECMWF/PRECIP/PRECIP_hindcasts_1993_ECMWF_seasonal_anomalies.nc'),\n PosixPath('/home/nicolasf/research/Smart_Ideas/data/GCMs/NC/ECMWF/PRECIP/PRECIP_hindcasts_2011_ECMWF_seasonal_anomalies.nc'),\n PosixPath('/home/nicolasf/research/Smart_Ideas/data/GCMs/NC/ECMWF/PRECIP/PRECIP_hindcasts_1996_ECMWF_seasonal_anomalies.nc'),\n PosixPath('/home/nicolasf/research/Smart_Ideas/data/GCMs/NC/ECMWF/PRECIP/PRECIP_hindcasts_2012_ECMWF_seasonal.nc'),\n PosixPath('/home/nicolasf/research/Smart_Ideas/data/GCMs/NC/ECMWF/PRECIP/PRECIP_hindcasts_1994_ECMWF_seasonal.nc'),\n PosixPath('/home/nicolasf/research/Smart_Ideas/data/GCMs/NC/ECMWF/PRECIP/PRECIP_hindcasts_2009_ECMWF_seasonal.nc'),\n PosixPath('/home/nicolasf/research/Smart_Ideas/data/GCMs/NC/ECMWF/PRECIP/PRECIP_hindcasts_1999_ECMWF_seasonal.nc'),\n PosixPath('/home/nicolasf/research/Smart_Ideas/data/GCMs/NC/ECMWF/PRECIP/PRECIP_hindcasts_2013_ECMWF_seasonal.nc'),\n PosixPath('/home/nicolasf/research/Smart_Ideas/data/GCMs/NC/ECMWF/PRECIP/PRECIP_hindcasts_1997_ECMWF_seasonal_anomalies.nc'),\n PosixPath('/home/nicolasf/research/Smart_Ideas/data/GCMs/NC/ECMWF/PRECIP/PRECIP_hindcasts_2002_ECMWF_seasonal.nc'),\n PosixPath('/home/nicolasf/research/Smart_Ideas/data/GCMs/NC/ECMWF/PRECIP/PRECIP_hindcasts_2000_ECMWF_seasonal.nc'),\n PosixPath('/home/nicolasf/research/Smart_Ideas/data/GCMs/NC/ECMWF/PRECIP/PRECIP_hindcasts_2001_ECMWF_seasonal.nc'),\n PosixPath('/home/nicolasf/research/Smart_Ideas/data/GCMs/NC/ECMWF/PRECIP/PRECIP_hindcasts_2004_ECMWF_seasonal_anomalies.nc'),\n PosixPath('/home/nicolasf/research/Smart_Ideas/data/GCMs/NC/ECMWF/PRECIP/PRECIP_hindcasts_1997_ECMWF_seasonal.nc'),\n PosixPath('/home/nicolasf/research/Smart_Ideas/data/GCMs/NC/ECMWF/PRECIP/PRECIP_hindcasts_2016_ECMWF_seasonal.nc'),\n PosixPath('/home/nicolasf/research/Smart_Ideas/data/GCMs/NC/ECMWF/PRECIP/PRECIP_hindcasts_2002_ECMWF_seasonal_anomalies.nc'),\n PosixPath('/home/nicolasf/research/Smart_Ideas/data/GCMs/NC/ECMWF/PRECIP/PRECIP_hindcasts_1998_ECMWF_seasonal_anomalies.nc'),\n PosixPath('/home/nicolasf/research/Smart_Ideas/data/GCMs/NC/ECMWF/PRECIP/PRECIP_hindcasts_2006_ECMWF_seasonal_anomalies.nc'),\n PosixPath('/home/nicolasf/research/Smart_Ideas/data/GCMs/NC/ECMWF/PRECIP/PRECIP_hindcasts_1996_ECMWF_seasonal.nc'),\n PosixPath('/home/nicolasf/research/Smart_Ideas/data/GCMs/NC/ECMWF/PRECIP/PRECIP_hindcasts_1998_ECMWF_seasonal.nc'),\n PosixPath('/home/nicolasf/research/Smart_Ideas/data/GCMs/NC/ECMWF/PRECIP/PRECIP_hindcasts_2011_ECMWF_seasonal.nc'),\n PosixPath('/home/nicolasf/research/Smart_Ideas/data/GCMs/NC/ECMWF/PRECIP/PRECIP_hindcasts_2007_ECMWF_seasonal.nc'),\n PosixPath('/home/nicolasf/research/Smart_Ideas/data/GCMs/NC/ECMWF/PRECIP/PRECIP_hindcasts_1999_ECMWF_seasonal_anomalies.nc'),\n PosixPath('/home/nicolasf/research/Smart_Ideas/data/GCMs/NC/ECMWF/PRECIP/PRECIP_hindcasts_1993_ECMWF_seasonal.nc'),\n PosixPath('/home/nicolasf/research/Smart_Ideas/data/GCMs/NC/ECMWF/PRECIP/PRECIP_hindcasts_2001_ECMWF_seasonal_anomalies.nc'),\n PosixPath('/home/nicolasf/research/Smart_Ideas/data/GCMs/NC/ECMWF/PRECIP/PRECIP_hindcasts_2005_ECMWF_seasonal.nc'),\n PosixPath('/home/nicolasf/research/Smart_Ideas/data/GCMs/NC/ECMWF/PRECIP/PRECIP_hindcasts_2000_ECMWF_seasonal_anomalies.nc'),\n PosixPath('/home/nicolasf/research/Smart_Ideas/data/GCMs/NC/ECMWF/PRECIP/PRECIP_hindcasts_2012_ECMWF_seasonal_anomalies.nc'),\n PosixPath('/home/nicolasf/research/Smart_Ideas/data/GCMs/NC/ECMWF/PRECIP/PRECIP_hindcasts_2003_ECMWF_seasonal.nc'),\n PosixPath('/home/nicolasf/research/Smart_Ideas/data/GCMs/NC/ECMWF/PRECIP/PRECIP_hindcasts_2006_ECMWF_seasonal.nc'),\n PosixPath('/home/nicolasf/research/Smart_Ideas/data/GCMs/NC/ECMWF/PRECIP/PRECIP_hindcasts_2005_ECMWF_seasonal_anomalies.nc'),\n PosixPath('/home/nicolasf/research/Smart_Ideas/data/GCMs/NC/ECMWF/PRECIP/PRECIP_hindcasts_2010_ECMWF_seasonal.nc'),\n PosixPath('/home/nicolasf/research/Smart_Ideas/data/GCMs/NC/ECMWF/T2M/T2M_hindcasts_2016_ECMWF_seasonal.nc'),\n PosixPath('/home/nicolasf/research/Smart_Ideas/data/GCMs/NC/ECMWF/T2M/T2M_hindcasts_1997_ECMWF_seasonal_anomalies.nc'),\n PosixPath('/home/nicolasf/research/Smart_Ideas/data/GCMs/NC/ECMWF/T2M/T2M_hindcasts_2013_ECMWF_seasonal.nc'),\n PosixPath('/home/nicolasf/research/Smart_Ideas/data/GCMs/NC/ECMWF/T2M/T2M_hindcasts_2002_ECMWF_seasonal.nc'),\n PosixPath('/home/nicolasf/research/Smart_Ideas/data/GCMs/NC/ECMWF/T2M/T2M_hindcasts_2013_ECMWF_seasonal_anomalies.nc'),\n PosixPath('/home/nicolasf/research/Smart_Ideas/data/GCMs/NC/ECMWF/T2M/T2M_hindcasts_2008_ECMWF_seasonal.nc'),\n PosixPath('/home/nicolasf/research/Smart_Ideas/data/GCMs/NC/ECMWF/T2M/T2M_hindcasts_1993_ECMWF_seasonal.nc'),\n PosixPath('/home/nicolasf/research/Smart_Ideas/data/GCMs/NC/ECMWF/T2M/T2M_hindcasts_1995_ECMWF_seasonal_anomalies.nc'),\n PosixPath('/home/nicolasf/research/Smart_Ideas/data/GCMs/NC/ECMWF/T2M/T2M_hindcasts_2004_ECMWF_seasonal_anomalies.nc'),\n PosixPath('/home/nicolasf/research/Smart_Ideas/data/GCMs/NC/ECMWF/T2M/T2M_hindcasts_2012_ECMWF_seasonal_anomalies.nc'),\n PosixPath('/home/nicolasf/research/Smart_Ideas/data/GCMs/NC/ECMWF/T2M/T2M_hindcasts_1994_ECMWF_seasonal.nc'),\n PosixPath('/home/nicolasf/research/Smart_Ideas/data/GCMs/NC/ECMWF/T2M/T2M_hindcasts_2014_ECMWF_seasonal.nc'),\n PosixPath('/home/nicolasf/research/Smart_Ideas/data/GCMs/NC/ECMWF/T2M/T2M_hindcasts_2000_ECMWF_seasonal.nc'),\n PosixPath('/home/nicolasf/research/Smart_Ideas/data/GCMs/NC/ECMWF/T2M/T2M_hindcasts_2001_ECMWF_seasonal.nc'),\n PosixPath('/home/nicolasf/research/Smart_Ideas/data/GCMs/NC/ECMWF/T2M/T2M_hindcasts_2011_ECMWF_seasonal.nc'),\n PosixPath('/home/nicolasf/research/Smart_Ideas/data/GCMs/NC/ECMWF/T2M/T2M_hindcasts_2005_ECMWF_seasonal_anomalies.nc'),\n PosixPath('/home/nicolasf/research/Smart_Ideas/data/GCMs/NC/ECMWF/T2M/T2M_hindcasts_1994_ECMWF_seasonal_anomalies.nc'),\n PosixPath('/home/nicolasf/research/Smart_Ideas/data/GCMs/NC/ECMWF/T2M/T2M_hindcasts_2016_ECMWF_seasonal_anomalies.nc'),\n PosixPath('/home/nicolasf/research/Smart_Ideas/data/GCMs/NC/ECMWF/T2M/T2M_hindcasts_2002_ECMWF_seasonal_anomalies.nc'),\n PosixPath('/home/nicolasf/research/Smart_Ideas/data/GCMs/NC/ECMWF/T2M/T2M_hindcasts_1996_ECMWF_seasonal.nc'),\n PosixPath('/home/nicolasf/research/Smart_Ideas/data/GCMs/NC/ECMWF/T2M/T2M_hindcasts_2009_ECMWF_seasonal.nc'),\n PosixPath('/home/nicolasf/research/Smart_Ideas/data/GCMs/NC/ECMWF/T2M/T2M_hindcasts_2009_ECMWF_seasonal_anomalies.nc'),\n PosixPath('/home/nicolasf/research/Smart_Ideas/data/GCMs/NC/ECMWF/T2M/T2M_hindcasts_2012_ECMWF_seasonal.nc'),\n PosixPath('/home/nicolasf/research/Smart_Ideas/data/GCMs/NC/ECMWF/T2M/T2M_hindcasts_1998_ECMWF_seasonal_anomalies.nc'),\n PosixPath('/home/nicolasf/research/Smart_Ideas/data/GCMs/NC/ECMWF/T2M/T2M_hindcasts_1996_ECMWF_seasonal_anomalies.nc'),\n PosixPath('/home/nicolasf/research/Smart_Ideas/data/GCMs/NC/ECMWF/T2M/T2M_hindcasts_2014_ECMWF_seasonal_anomalies.nc'),\n PosixPath('/home/nicolasf/research/Smart_Ideas/data/GCMs/NC/ECMWF/T2M/T2M_hindcasts_1997_ECMWF_seasonal.nc'),\n PosixPath('/home/nicolasf/research/Smart_Ideas/data/GCMs/NC/ECMWF/T2M/T2M_hindcasts_2005_ECMWF_seasonal.nc'),\n PosixPath('/home/nicolasf/research/Smart_Ideas/data/GCMs/NC/ECMWF/T2M/T2M_hindcasts_1993_ECMWF_seasonal_anomalies.nc'),\n PosixPath('/home/nicolasf/research/Smart_Ideas/data/GCMs/NC/ECMWF/T2M/T2M_hindcasts_1995_ECMWF_seasonal.nc'),\n PosixPath('/home/nicolasf/research/Smart_Ideas/data/GCMs/NC/ECMWF/T2M/T2M_hindcasts_2007_ECMWF_seasonal.nc'),\n PosixPath('/home/nicolasf/research/Smart_Ideas/data/GCMs/NC/ECMWF/T2M/T2M_hindcasts_2011_ECMWF_seasonal_anomalies.nc'),\n PosixPath('/home/nicolasf/research/Smart_Ideas/data/GCMs/NC/ECMWF/T2M/T2M_hindcasts_2004_ECMWF_seasonal.nc'),\n PosixPath('/home/nicolasf/research/Smart_Ideas/data/GCMs/NC/ECMWF/T2M/T2M_hindcasts_2006_ECMWF_seasonal.nc'),\n PosixPath('/home/nicolasf/research/Smart_Ideas/data/GCMs/NC/ECMWF/T2M/T2M_hindcasts_1999_ECMWF_seasonal.nc'),\n PosixPath('/home/nicolasf/research/Smart_Ideas/data/GCMs/NC/ECMWF/T2M/T2M_hindcasts_2003_ECMWF_seasonal_anomalies.nc'),\n PosixPath('/home/nicolasf/research/Smart_Ideas/data/GCMs/NC/ECMWF/T2M/T2M_hindcasts_2001_ECMWF_seasonal_anomalies.nc'),\n PosixPath('/home/nicolasf/research/Smart_Ideas/data/GCMs/NC/ECMWF/T2M/T2M_hindcasts_1999_ECMWF_seasonal_anomalies.nc'),\n PosixPath('/home/nicolasf/research/Smart_Ideas/data/GCMs/NC/ECMWF/T2M/T2M_hindcasts_2007_ECMWF_seasonal_anomalies.nc'),\n PosixPath('/home/nicolasf/research/Smart_Ideas/data/GCMs/NC/ECMWF/T2M/T2M_hindcasts_2003_ECMWF_seasonal.nc'),\n PosixPath('/home/nicolasf/research/Smart_Ideas/data/GCMs/NC/ECMWF/T2M/T2M_hindcasts_2010_ECMWF_seasonal_anomalies.nc'),\n PosixPath('/home/nicolasf/research/Smart_Ideas/data/GCMs/NC/ECMWF/T2M/T2M_hindcasts_2015_ECMWF_seasonal.nc'),\n PosixPath('/home/nicolasf/research/Smart_Ideas/data/GCMs/NC/ECMWF/T2M/T2M_hindcasts_2008_ECMWF_seasonal_anomalies.nc'),\n PosixPath('/home/nicolasf/research/Smart_Ideas/data/GCMs/NC/ECMWF/T2M/T2M_hindcasts_2015_ECMWF_seasonal_anomalies.nc'),\n PosixPath('/home/nicolasf/research/Smart_Ideas/data/GCMs/NC/ECMWF/T2M/T2M_hindcasts_2006_ECMWF_seasonal_anomalies.nc'),\n PosixPath('/home/nicolasf/research/Smart_Ideas/data/GCMs/NC/ECMWF/T2M/T2M_hindcasts_2000_ECMWF_seasonal_anomalies.nc'),\n PosixPath('/home/nicolasf/research/Smart_Ideas/data/GCMs/NC/ECMWF/T2M/T2M_hindcasts_2010_ECMWF_seasonal.nc'),\n PosixPath('/home/nicolasf/research/Smart_Ideas/data/GCMs/NC/ECMWF/T2M/T2M_hindcasts_1998_ECMWF_seasonal.nc'),\n PosixPath('/home/nicolasf/research/Smart_Ideas/data/GCMs/NC/ECMWF/Z850/Z850_hindcasts_2012_ECMWF_seasonal_anomalies.nc'),\n PosixPath('/home/nicolasf/research/Smart_Ideas/data/GCMs/NC/ECMWF/Z850/Z850_hindcasts_1993_ECMWF_seasonal_anomalies.nc'),\n PosixPath('/home/nicolasf/research/Smart_Ideas/data/GCMs/NC/ECMWF/Z850/Z850_hindcasts_2011_ECMWF_seasonal_anomalies.nc'),\n PosixPath('/home/nicolasf/research/Smart_Ideas/data/GCMs/NC/ECMWF/Z850/Z850_hindcasts_2002_ECMWF_seasonal.nc'),\n PosixPath('/home/nicolasf/research/Smart_Ideas/data/GCMs/NC/ECMWF/Z850/Z850_hindcasts_2013_ECMWF_seasonal.nc'),\n PosixPath('/home/nicolasf/research/Smart_Ideas/data/GCMs/NC/ECMWF/Z850/Z850_hindcasts_2004_ECMWF_seasonal_anomalies.nc'),\n PosixPath('/home/nicolasf/research/Smart_Ideas/data/GCMs/NC/ECMWF/Z850/Z850_hindcasts_1997_ECMWF_seasonal_anomalies.nc'),\n PosixPath('/home/nicolasf/research/Smart_Ideas/data/GCMs/NC/ECMWF/Z850/Z850_hindcasts_1998_ECMWF_seasonal_anomalies.nc'),\n PosixPath('/home/nicolasf/research/Smart_Ideas/data/GCMs/NC/ECMWF/Z850/Z850_hindcasts_1996_ECMWF_seasonal.nc'),\n PosixPath('/home/nicolasf/research/Smart_Ideas/data/GCMs/NC/ECMWF/Z850/Z850_hindcasts_1993_ECMWF_seasonal.nc'),\n PosixPath('/home/nicolasf/research/Smart_Ideas/data/GCMs/NC/ECMWF/Z850/Z850_hindcasts_2000_ECMWF_seasonal.nc'),\n PosixPath('/home/nicolasf/research/Smart_Ideas/data/GCMs/NC/ECMWF/Z850/Z850_hindcasts_2013_ECMWF_seasonal_anomalies.nc'),\n PosixPath('/home/nicolasf/research/Smart_Ideas/data/GCMs/NC/ECMWF/Z850/Z850_hindcasts_2007_ECMWF_seasonal.nc'),\n PosixPath('/home/nicolasf/research/Smart_Ideas/data/GCMs/NC/ECMWF/Z850/Z850_hindcasts_2009_ECMWF_seasonal.nc'),\n PosixPath('/home/nicolasf/research/Smart_Ideas/data/GCMs/NC/ECMWF/Z850/Z850_hindcasts_2014_ECMWF_seasonal.nc'),\n PosixPath('/home/nicolasf/research/Smart_Ideas/data/GCMs/NC/ECMWF/Z850/Z850_hindcasts_2004_ECMWF_seasonal.nc'),\n PosixPath('/home/nicolasf/research/Smart_Ideas/data/GCMs/NC/ECMWF/Z850/Z850_hindcasts_2005_ECMWF_seasonal_anomalies.nc'),\n PosixPath('/home/nicolasf/research/Smart_Ideas/data/GCMs/NC/ECMWF/Z850/Z850_hindcasts_2001_ECMWF_seasonal.nc'),\n PosixPath('/home/nicolasf/research/Smart_Ideas/data/GCMs/NC/ECMWF/Z850/Z850_hindcasts_2009_ECMWF_seasonal_anomalies.nc'),\n PosixPath('/home/nicolasf/research/Smart_Ideas/data/GCMs/NC/ECMWF/Z850/Z850_hindcasts_2008_ECMWF_seasonal.nc'),\n PosixPath('/home/nicolasf/research/Smart_Ideas/data/GCMs/NC/ECMWF/Z850/Z850_hindcasts_2005_ECMWF_seasonal.nc'),\n PosixPath('/home/nicolasf/research/Smart_Ideas/data/GCMs/NC/ECMWF/Z850/Z850_hindcasts_2011_ECMWF_seasonal.nc'),\n PosixPath('/home/nicolasf/research/Smart_Ideas/data/GCMs/NC/ECMWF/Z850/Z850_hindcasts_1999_ECMWF_seasonal.nc'),\n PosixPath('/home/nicolasf/research/Smart_Ideas/data/GCMs/NC/ECMWF/Z850/Z850_hindcasts_2014_ECMWF_seasonal_anomalies.nc'),\n PosixPath('/home/nicolasf/research/Smart_Ideas/data/GCMs/NC/ECMWF/Z850/Z850_hindcasts_1996_ECMWF_seasonal_anomalies.nc'),\n PosixPath('/home/nicolasf/research/Smart_Ideas/data/GCMs/NC/ECMWF/Z850/Z850_hindcasts_2006_ECMWF_seasonal.nc'),\n PosixPath('/home/nicolasf/research/Smart_Ideas/data/GCMs/NC/ECMWF/Z850/Z850_hindcasts_2015_ECMWF_seasonal_anomalies.nc'),\n PosixPath('/home/nicolasf/research/Smart_Ideas/data/GCMs/NC/ECMWF/Z850/Z850_hindcasts_1994_ECMWF_seasonal_anomalies.nc'),\n PosixPath('/home/nicolasf/research/Smart_Ideas/data/GCMs/NC/ECMWF/Z850/Z850_hindcasts_2006_ECMWF_seasonal_anomalies.nc'),\n PosixPath('/home/nicolasf/research/Smart_Ideas/data/GCMs/NC/ECMWF/Z850/Z850_hindcasts_2008_ECMWF_seasonal_anomalies.nc'),\n PosixPath('/home/nicolasf/research/Smart_Ideas/data/GCMs/NC/ECMWF/Z850/Z850_hindcasts_2003_ECMWF_seasonal.nc'),\n PosixPath('/home/nicolasf/research/Smart_Ideas/data/GCMs/NC/ECMWF/Z850/Z850_hindcasts_2012_ECMWF_seasonal.nc'),\n PosixPath('/home/nicolasf/research/Smart_Ideas/data/GCMs/NC/ECMWF/Z850/Z850_hindcasts_2001_ECMWF_seasonal_anomalies.nc'),\n PosixPath('/home/nicolasf/research/Smart_Ideas/data/GCMs/NC/ECMWF/Z850/Z850_hindcasts_1994_ECMWF_seasonal.nc'),\n PosixPath('/home/nicolasf/research/Smart_Ideas/data/GCMs/NC/ECMWF/Z850/Z850_hindcasts_1997_ECMWF_seasonal.nc'),\n PosixPath('/home/nicolasf/research/Smart_Ideas/data/GCMs/NC/ECMWF/Z850/Z850_hindcasts_2015_ECMWF_seasonal.nc'),\n PosixPath('/home/nicolasf/research/Smart_Ideas/data/GCMs/NC/ECMWF/Z850/Z850_hindcasts_1998_ECMWF_seasonal.nc'),\n PosixPath('/home/nicolasf/research/Smart_Ideas/data/GCMs/NC/ECMWF/Z850/Z850_hindcasts_2003_ECMWF_seasonal_anomalies.nc'),\n PosixPath('/home/nicolasf/research/Smart_Ideas/data/GCMs/NC/ECMWF/Z850/Z850_hindcasts_2010_ECMWF_seasonal_anomalies.nc'),\n PosixPath('/home/nicolasf/research/Smart_Ideas/data/GCMs/NC/ECMWF/Z850/Z850_hindcasts_1999_ECMWF_seasonal_anomalies.nc'),\n PosixPath('/home/nicolasf/research/Smart_Ideas/data/GCMs/NC/ECMWF/Z850/Z850_hindcasts_1995_ECMWF_seasonal.nc'),\n PosixPath('/home/nicolasf/research/Smart_Ideas/data/GCMs/NC/ECMWF/Z850/Z850_hindcasts_2010_ECMWF_seasonal.nc'),\n PosixPath('/home/nicolasf/research/Smart_Ideas/data/GCMs/NC/ECMWF/Z850/Z850_hindcasts_1995_ECMWF_seasonal_anomalies.nc'),\n PosixPath('/home/nicolasf/research/Smart_Ideas/data/GCMs/NC/ECMWF/Z850/Z850_hindcasts_2016_ECMWF_seasonal.nc'),\n PosixPath('/home/nicolasf/research/Smart_Ideas/data/GCMs/NC/ECMWF/Z850/Z850_hindcasts_2002_ECMWF_seasonal_anomalies.nc'),\n PosixPath('/home/nicolasf/research/Smart_Ideas/data/GCMs/NC/ECMWF/Z850/Z850_hindcasts_2016_ECMWF_seasonal_anomalies.nc'),\n PosixPath('/home/nicolasf/research/Smart_Ideas/data/GCMs/NC/ECMWF/Z850/Z850_hindcasts_2000_ECMWF_seasonal_anomalies.nc'),\n PosixPath('/home/nicolasf/research/Smart_Ideas/data/GCMs/NC/ECMWF/Z850/Z850_hindcasts_2007_ECMWF_seasonal_anomalies.nc'),\n PosixPath('/home/nicolasf/research/Smart_Ideas/data/GCMs/NC/ECMWF/SST/SST_hindcasts_2011_ECMWF_seasonal_anomalies.nc'),\n PosixPath('/home/nicolasf/research/Smart_Ideas/data/GCMs/NC/ECMWF/SST/SST_hindcasts_2009_ECMWF_seasonal_anomalies.nc'),\n PosixPath('/home/nicolasf/research/Smart_Ideas/data/GCMs/NC/ECMWF/SST/SST_hindcasts_2000_ECMWF_seasonal.nc'),\n PosixPath('/home/nicolasf/research/Smart_Ideas/data/GCMs/NC/ECMWF/SST/SST_hindcasts_2011_ECMWF_seasonal.nc'),\n PosixPath('/home/nicolasf/research/Smart_Ideas/data/GCMs/NC/ECMWF/SST/SST_hindcasts_1999_ECMWF_seasonal_anomalies.nc'),\n PosixPath('/home/nicolasf/research/Smart_Ideas/data/GCMs/NC/ECMWF/SST/SST_hindcasts_2008_ECMWF_seasonal_anomalies.nc'),\n PosixPath('/home/nicolasf/research/Smart_Ideas/data/GCMs/NC/ECMWF/SST/SST_hindcasts_2014_ECMWF_seasonal.nc'),\n PosixPath('/home/nicolasf/research/Smart_Ideas/data/GCMs/NC/ECMWF/SST/SST_hindcasts_2015_ECMWF_seasonal_anomalies.nc'),\n PosixPath('/home/nicolasf/research/Smart_Ideas/data/GCMs/NC/ECMWF/SST/SST_hindcasts_1998_ECMWF_seasonal.nc'),\n PosixPath('/home/nicolasf/research/Smart_Ideas/data/GCMs/NC/ECMWF/SST/SST_hindcasts_1995_ECMWF_seasonal_anomalies.nc'),\n PosixPath('/home/nicolasf/research/Smart_Ideas/data/GCMs/NC/ECMWF/SST/SST_hindcasts_2002_ECMWF_seasonal.nc'),\n PosixPath('/home/nicolasf/research/Smart_Ideas/data/GCMs/NC/ECMWF/SST/SST_hindcasts_1998_ECMWF_seasonal_anomalies.nc'),\n PosixPath('/home/nicolasf/research/Smart_Ideas/data/GCMs/NC/ECMWF/SST/SST_hindcasts_2014_ECMWF_seasonal_anomalies.nc'),\n PosixPath('/home/nicolasf/research/Smart_Ideas/data/GCMs/NC/ECMWF/SST/SST_hindcasts_2003_ECMWF_seasonal_anomalies.nc'),\n PosixPath('/home/nicolasf/research/Smart_Ideas/data/GCMs/NC/ECMWF/SST/SST_hindcasts_1993_ECMWF_seasonal_anomalies.nc'),\n PosixPath('/home/nicolasf/research/Smart_Ideas/data/GCMs/NC/ECMWF/SST/SST_hindcasts_2001_ECMWF_seasonal_anomalies.nc'),\n PosixPath('/home/nicolasf/research/Smart_Ideas/data/GCMs/NC/ECMWF/SST/SST_hindcasts_1999_ECMWF_seasonal.nc'),\n PosixPath('/home/nicolasf/research/Smart_Ideas/data/GCMs/NC/ECMWF/SST/SST_hindcasts_1994_ECMWF_seasonal.nc'),\n PosixPath('/home/nicolasf/research/Smart_Ideas/data/GCMs/NC/ECMWF/SST/SST_hindcasts_2003_ECMWF_seasonal.nc'),\n PosixPath('/home/nicolasf/research/Smart_Ideas/data/GCMs/NC/ECMWF/SST/SST_hindcasts_2013_ECMWF_seasonal_anomalies.nc'),\n PosixPath('/home/nicolasf/research/Smart_Ideas/data/GCMs/NC/ECMWF/SST/SST_hindcasts_1996_ECMWF_seasonal_anomalies.nc'),\n PosixPath('/home/nicolasf/research/Smart_Ideas/data/GCMs/NC/ECMWF/SST/SST_hindcasts_2010_ECMWF_seasonal_anomalies.nc'),\n PosixPath('/home/nicolasf/research/Smart_Ideas/data/GCMs/NC/ECMWF/SST/SST_hindcasts_2001_ECMWF_seasonal.nc'),\n PosixPath('/home/nicolasf/research/Smart_Ideas/data/GCMs/NC/ECMWF/SST/SST_hindcasts_2006_ECMWF_seasonal_anomalies.nc'),\n PosixPath('/home/nicolasf/research/Smart_Ideas/data/GCMs/NC/ECMWF/SST/SST_hindcasts_2004_ECMWF_seasonal.nc'),\n PosixPath('/home/nicolasf/research/Smart_Ideas/data/GCMs/NC/ECMWF/SST/SST_hindcasts_2000_ECMWF_seasonal_anomalies.nc'),\n PosixPath('/home/nicolasf/research/Smart_Ideas/data/GCMs/NC/ECMWF/SST/SST_hindcasts_2004_ECMWF_seasonal_anomalies.nc'),\n PosixPath('/home/nicolasf/research/Smart_Ideas/data/GCMs/NC/ECMWF/SST/SST_hindcasts_2009_ECMWF_seasonal.nc'),\n PosixPath('/home/nicolasf/research/Smart_Ideas/data/GCMs/NC/ECMWF/SST/SST_hindcasts_1997_ECMWF_seasonal_anomalies.nc'),\n PosixPath('/home/nicolasf/research/Smart_Ideas/data/GCMs/NC/ECMWF/SST/SST_hindcasts_1994_ECMWF_seasonal_anomalies.nc'),\n PosixPath('/home/nicolasf/research/Smart_Ideas/data/GCMs/NC/ECMWF/SST/SST_hindcasts_2006_ECMWF_seasonal.nc'),\n PosixPath('/home/nicolasf/research/Smart_Ideas/data/GCMs/NC/ECMWF/SST/SST_hindcasts_2005_ECMWF_seasonal.nc'),\n PosixPath('/home/nicolasf/research/Smart_Ideas/data/GCMs/NC/ECMWF/SST/SST_hindcasts_2007_ECMWF_seasonal_anomalies.nc'),\n PosixPath('/home/nicolasf/research/Smart_Ideas/data/GCMs/NC/ECMWF/SST/SST_hindcasts_2010_ECMWF_seasonal.nc'),\n PosixPath('/home/nicolasf/research/Smart_Ideas/data/GCMs/NC/ECMWF/SST/SST_hindcasts_2012_ECMWF_seasonal.nc'),\n PosixPath('/home/nicolasf/research/Smart_Ideas/data/GCMs/NC/ECMWF/SST/SST_hindcasts_2005_ECMWF_seasonal_anomalies.nc'),\n PosixPath('/home/nicolasf/research/Smart_Ideas/data/GCMs/NC/ECMWF/SST/SST_hindcasts_2007_ECMWF_seasonal.nc'),\n PosixPath('/home/nicolasf/research/Smart_Ideas/data/GCMs/NC/ECMWF/SST/SST_hindcasts_2016_ECMWF_seasonal_anomalies.nc'),\n PosixPath('/home/nicolasf/research/Smart_Ideas/data/GCMs/NC/ECMWF/SST/SST_hindcasts_1993_ECMWF_seasonal.nc'),\n PosixPath('/home/nicolasf/research/Smart_Ideas/data/GCMs/NC/ECMWF/SST/SST_hindcasts_2015_ECMWF_seasonal.nc'),\n PosixPath('/home/nicolasf/research/Smart_Ideas/data/GCMs/NC/ECMWF/SST/SST_hindcasts_2013_ECMWF_seasonal.nc'),\n PosixPath('/home/nicolasf/research/Smart_Ideas/data/GCMs/NC/ECMWF/SST/SST_hindcasts_2012_ECMWF_seasonal_anomalies.nc'),\n PosixPath('/home/nicolasf/research/Smart_Ideas/data/GCMs/NC/ECMWF/SST/SST_hindcasts_2016_ECMWF_seasonal.nc'),\n PosixPath('/home/nicolasf/research/Smart_Ideas/data/GCMs/NC/ECMWF/SST/SST_hindcasts_2002_ECMWF_seasonal_anomalies.nc'),\n PosixPath('/home/nicolasf/research/Smart_Ideas/data/GCMs/NC/ECMWF/SST/SST_hindcasts_1997_ECMWF_seasonal.nc'),\n PosixPath('/home/nicolasf/research/Smart_Ideas/data/GCMs/NC/ECMWF/SST/SST_hindcasts_1996_ECMWF_seasonal.nc'),\n PosixPath('/home/nicolasf/research/Smart_Ideas/data/GCMs/NC/ECMWF/SST/SST_hindcasts_2008_ECMWF_seasonal.nc'),\n PosixPath('/home/nicolasf/research/Smart_Ideas/data/GCMs/NC/ECMWF/SST/SST_hindcasts_1995_ECMWF_seasonal.nc'),\n PosixPath('/home/nicolasf/research/Smart_Ideas/data/GCMs/NC/ECMWF/PRECIP/CLIMATOLOGY/CLIMATOLOGY_ECMWF_PRECIP_1993_2016.nc'),\n PosixPath('/home/nicolasf/research/Smart_Ideas/data/GCMs/NC/ECMWF/T2M/CLIMATOLOGY/CLIMATOLOGY_ECMWF_T2M_1993_2016.nc'),\n PosixPath('/home/nicolasf/research/Smart_Ideas/data/GCMs/NC/ECMWF/Z850/CLIMATOLOGY/CLIMATOLOGY_ECMWF_Z850_1993_2016.nc'),\n PosixPath('/home/nicolasf/research/Smart_Ideas/data/GCMs/NC/ECMWF/SST/CLIMATOLOGY/CLIMATOLOGY_ECMWF_SST_1993_2016.nc')]"
       },
       "execution_count": 13,
       "metadata": {},
       "output_type": "execute_result"
      }
     ],
     "persistentId": "fb474e4d-997a-40f5-921d-364c28457c9c",
     "text": "lfiles"
    },
    "executionTime": "2019-12-12T22:08:59.896Z"
   },
   {
    "cell": {
     "executionCount": 14,
     "executionEventId": "13c182d0-8b16-43be-832d-2a4c683b7dc5",
     "hasError": false,
     "id": "39c7ccf6-7046-4592-8305-a29458ce8e58",
     "outputs": [],
     "persistentId": "fb474e4d-997a-40f5-921d-364c28457c9c",
     "text": "lfiles.sort()"
    },
    "executionTime": "2019-12-12T22:09:11.689Z"
   },
   {
    "cell": {
     "executionCount": 15,
     "executionEventId": "d9f668e7-52fb-4a3f-9552-5dbf5147f30b",
     "hasError": false,
     "id": "981856e8-2eda-41a9-b084-52473891325f",
     "outputs": [
      {
       "data": {
        "text/plain": "[PosixPath('/home/nicolasf/research/Smart_Ideas/data/GCMs/NC/ECMWF/PRECIP/CLIMATOLOGY/CLIMATOLOGY_ECMWF_PRECIP_1993_2016.nc'),\n PosixPath('/home/nicolasf/research/Smart_Ideas/data/GCMs/NC/ECMWF/PRECIP/PRECIP_hindcasts_1993_ECMWF_seasonal.nc'),\n PosixPath('/home/nicolasf/research/Smart_Ideas/data/GCMs/NC/ECMWF/PRECIP/PRECIP_hindcasts_1993_ECMWF_seasonal_anomalies.nc'),\n PosixPath('/home/nicolasf/research/Smart_Ideas/data/GCMs/NC/ECMWF/PRECIP/PRECIP_hindcasts_1994_ECMWF_seasonal.nc'),\n PosixPath('/home/nicolasf/research/Smart_Ideas/data/GCMs/NC/ECMWF/PRECIP/PRECIP_hindcasts_1994_ECMWF_seasonal_anomalies.nc'),\n PosixPath('/home/nicolasf/research/Smart_Ideas/data/GCMs/NC/ECMWF/PRECIP/PRECIP_hindcasts_1995_ECMWF_seasonal.nc'),\n PosixPath('/home/nicolasf/research/Smart_Ideas/data/GCMs/NC/ECMWF/PRECIP/PRECIP_hindcasts_1995_ECMWF_seasonal_anomalies.nc'),\n PosixPath('/home/nicolasf/research/Smart_Ideas/data/GCMs/NC/ECMWF/PRECIP/PRECIP_hindcasts_1996_ECMWF_seasonal.nc'),\n PosixPath('/home/nicolasf/research/Smart_Ideas/data/GCMs/NC/ECMWF/PRECIP/PRECIP_hindcasts_1996_ECMWF_seasonal_anomalies.nc'),\n PosixPath('/home/nicolasf/research/Smart_Ideas/data/GCMs/NC/ECMWF/PRECIP/PRECIP_hindcasts_1997_ECMWF_seasonal.nc'),\n PosixPath('/home/nicolasf/research/Smart_Ideas/data/GCMs/NC/ECMWF/PRECIP/PRECIP_hindcasts_1997_ECMWF_seasonal_anomalies.nc'),\n PosixPath('/home/nicolasf/research/Smart_Ideas/data/GCMs/NC/ECMWF/PRECIP/PRECIP_hindcasts_1998_ECMWF_seasonal.nc'),\n PosixPath('/home/nicolasf/research/Smart_Ideas/data/GCMs/NC/ECMWF/PRECIP/PRECIP_hindcasts_1998_ECMWF_seasonal_anomalies.nc'),\n PosixPath('/home/nicolasf/research/Smart_Ideas/data/GCMs/NC/ECMWF/PRECIP/PRECIP_hindcasts_1999_ECMWF_seasonal.nc'),\n PosixPath('/home/nicolasf/research/Smart_Ideas/data/GCMs/NC/ECMWF/PRECIP/PRECIP_hindcasts_1999_ECMWF_seasonal_anomalies.nc'),\n PosixPath('/home/nicolasf/research/Smart_Ideas/data/GCMs/NC/ECMWF/PRECIP/PRECIP_hindcasts_2000_ECMWF_seasonal.nc'),\n PosixPath('/home/nicolasf/research/Smart_Ideas/data/GCMs/NC/ECMWF/PRECIP/PRECIP_hindcasts_2000_ECMWF_seasonal_anomalies.nc'),\n PosixPath('/home/nicolasf/research/Smart_Ideas/data/GCMs/NC/ECMWF/PRECIP/PRECIP_hindcasts_2001_ECMWF_seasonal.nc'),\n PosixPath('/home/nicolasf/research/Smart_Ideas/data/GCMs/NC/ECMWF/PRECIP/PRECIP_hindcasts_2001_ECMWF_seasonal_anomalies.nc'),\n PosixPath('/home/nicolasf/research/Smart_Ideas/data/GCMs/NC/ECMWF/PRECIP/PRECIP_hindcasts_2002_ECMWF_seasonal.nc'),\n PosixPath('/home/nicolasf/research/Smart_Ideas/data/GCMs/NC/ECMWF/PRECIP/PRECIP_hindcasts_2002_ECMWF_seasonal_anomalies.nc'),\n PosixPath('/home/nicolasf/research/Smart_Ideas/data/GCMs/NC/ECMWF/PRECIP/PRECIP_hindcasts_2003_ECMWF_seasonal.nc'),\n PosixPath('/home/nicolasf/research/Smart_Ideas/data/GCMs/NC/ECMWF/PRECIP/PRECIP_hindcasts_2003_ECMWF_seasonal_anomalies.nc'),\n PosixPath('/home/nicolasf/research/Smart_Ideas/data/GCMs/NC/ECMWF/PRECIP/PRECIP_hindcasts_2004_ECMWF_seasonal.nc'),\n PosixPath('/home/nicolasf/research/Smart_Ideas/data/GCMs/NC/ECMWF/PRECIP/PRECIP_hindcasts_2004_ECMWF_seasonal_anomalies.nc'),\n PosixPath('/home/nicolasf/research/Smart_Ideas/data/GCMs/NC/ECMWF/PRECIP/PRECIP_hindcasts_2005_ECMWF_seasonal.nc'),\n PosixPath('/home/nicolasf/research/Smart_Ideas/data/GCMs/NC/ECMWF/PRECIP/PRECIP_hindcasts_2005_ECMWF_seasonal_anomalies.nc'),\n PosixPath('/home/nicolasf/research/Smart_Ideas/data/GCMs/NC/ECMWF/PRECIP/PRECIP_hindcasts_2006_ECMWF_seasonal.nc'),\n PosixPath('/home/nicolasf/research/Smart_Ideas/data/GCMs/NC/ECMWF/PRECIP/PRECIP_hindcasts_2006_ECMWF_seasonal_anomalies.nc'),\n PosixPath('/home/nicolasf/research/Smart_Ideas/data/GCMs/NC/ECMWF/PRECIP/PRECIP_hindcasts_2007_ECMWF_seasonal.nc'),\n PosixPath('/home/nicolasf/research/Smart_Ideas/data/GCMs/NC/ECMWF/PRECIP/PRECIP_hindcasts_2007_ECMWF_seasonal_anomalies.nc'),\n PosixPath('/home/nicolasf/research/Smart_Ideas/data/GCMs/NC/ECMWF/PRECIP/PRECIP_hindcasts_2008_ECMWF_seasonal.nc'),\n PosixPath('/home/nicolasf/research/Smart_Ideas/data/GCMs/NC/ECMWF/PRECIP/PRECIP_hindcasts_2008_ECMWF_seasonal_anomalies.nc'),\n PosixPath('/home/nicolasf/research/Smart_Ideas/data/GCMs/NC/ECMWF/PRECIP/PRECIP_hindcasts_2009_ECMWF_seasonal.nc'),\n PosixPath('/home/nicolasf/research/Smart_Ideas/data/GCMs/NC/ECMWF/PRECIP/PRECIP_hindcasts_2009_ECMWF_seasonal_anomalies.nc'),\n PosixPath('/home/nicolasf/research/Smart_Ideas/data/GCMs/NC/ECMWF/PRECIP/PRECIP_hindcasts_2010_ECMWF_seasonal.nc'),\n PosixPath('/home/nicolasf/research/Smart_Ideas/data/GCMs/NC/ECMWF/PRECIP/PRECIP_hindcasts_2010_ECMWF_seasonal_anomalies.nc'),\n PosixPath('/home/nicolasf/research/Smart_Ideas/data/GCMs/NC/ECMWF/PRECIP/PRECIP_hindcasts_2011_ECMWF_seasonal.nc'),\n PosixPath('/home/nicolasf/research/Smart_Ideas/data/GCMs/NC/ECMWF/PRECIP/PRECIP_hindcasts_2011_ECMWF_seasonal_anomalies.nc'),\n PosixPath('/home/nicolasf/research/Smart_Ideas/data/GCMs/NC/ECMWF/PRECIP/PRECIP_hindcasts_2012_ECMWF_seasonal.nc'),\n PosixPath('/home/nicolasf/research/Smart_Ideas/data/GCMs/NC/ECMWF/PRECIP/PRECIP_hindcasts_2012_ECMWF_seasonal_anomalies.nc'),\n PosixPath('/home/nicolasf/research/Smart_Ideas/data/GCMs/NC/ECMWF/PRECIP/PRECIP_hindcasts_2013_ECMWF_seasonal.nc'),\n PosixPath('/home/nicolasf/research/Smart_Ideas/data/GCMs/NC/ECMWF/PRECIP/PRECIP_hindcasts_2013_ECMWF_seasonal_anomalies.nc'),\n PosixPath('/home/nicolasf/research/Smart_Ideas/data/GCMs/NC/ECMWF/PRECIP/PRECIP_hindcasts_2014_ECMWF_seasonal.nc'),\n PosixPath('/home/nicolasf/research/Smart_Ideas/data/GCMs/NC/ECMWF/PRECIP/PRECIP_hindcasts_2014_ECMWF_seasonal_anomalies.nc'),\n PosixPath('/home/nicolasf/research/Smart_Ideas/data/GCMs/NC/ECMWF/PRECIP/PRECIP_hindcasts_2015_ECMWF_seasonal.nc'),\n PosixPath('/home/nicolasf/research/Smart_Ideas/data/GCMs/NC/ECMWF/PRECIP/PRECIP_hindcasts_2015_ECMWF_seasonal_anomalies.nc'),\n PosixPath('/home/nicolasf/research/Smart_Ideas/data/GCMs/NC/ECMWF/PRECIP/PRECIP_hindcasts_2016_ECMWF_seasonal.nc'),\n PosixPath('/home/nicolasf/research/Smart_Ideas/data/GCMs/NC/ECMWF/PRECIP/PRECIP_hindcasts_2016_ECMWF_seasonal_anomalies.nc'),\n PosixPath('/home/nicolasf/research/Smart_Ideas/data/GCMs/NC/ECMWF/SST/CLIMATOLOGY/CLIMATOLOGY_ECMWF_SST_1993_2016.nc'),\n PosixPath('/home/nicolasf/research/Smart_Ideas/data/GCMs/NC/ECMWF/SST/SST_hindcasts_1993_ECMWF_seasonal.nc'),\n PosixPath('/home/nicolasf/research/Smart_Ideas/data/GCMs/NC/ECMWF/SST/SST_hindcasts_1993_ECMWF_seasonal_anomalies.nc'),\n PosixPath('/home/nicolasf/research/Smart_Ideas/data/GCMs/NC/ECMWF/SST/SST_hindcasts_1994_ECMWF_seasonal.nc'),\n PosixPath('/home/nicolasf/research/Smart_Ideas/data/GCMs/NC/ECMWF/SST/SST_hindcasts_1994_ECMWF_seasonal_anomalies.nc'),\n PosixPath('/home/nicolasf/research/Smart_Ideas/data/GCMs/NC/ECMWF/SST/SST_hindcasts_1995_ECMWF_seasonal.nc'),\n PosixPath('/home/nicolasf/research/Smart_Ideas/data/GCMs/NC/ECMWF/SST/SST_hindcasts_1995_ECMWF_seasonal_anomalies.nc'),\n PosixPath('/home/nicolasf/research/Smart_Ideas/data/GCMs/NC/ECMWF/SST/SST_hindcasts_1996_ECMWF_seasonal.nc'),\n PosixPath('/home/nicolasf/research/Smart_Ideas/data/GCMs/NC/ECMWF/SST/SST_hindcasts_1996_ECMWF_seasonal_anomalies.nc'),\n PosixPath('/home/nicolasf/research/Smart_Ideas/data/GCMs/NC/ECMWF/SST/SST_hindcasts_1997_ECMWF_seasonal.nc'),\n PosixPath('/home/nicolasf/research/Smart_Ideas/data/GCMs/NC/ECMWF/SST/SST_hindcasts_1997_ECMWF_seasonal_anomalies.nc'),\n PosixPath('/home/nicolasf/research/Smart_Ideas/data/GCMs/NC/ECMWF/SST/SST_hindcasts_1998_ECMWF_seasonal.nc'),\n PosixPath('/home/nicolasf/research/Smart_Ideas/data/GCMs/NC/ECMWF/SST/SST_hindcasts_1998_ECMWF_seasonal_anomalies.nc'),\n PosixPath('/home/nicolasf/research/Smart_Ideas/data/GCMs/NC/ECMWF/SST/SST_hindcasts_1999_ECMWF_seasonal.nc'),\n PosixPath('/home/nicolasf/research/Smart_Ideas/data/GCMs/NC/ECMWF/SST/SST_hindcasts_1999_ECMWF_seasonal_anomalies.nc'),\n PosixPath('/home/nicolasf/research/Smart_Ideas/data/GCMs/NC/ECMWF/SST/SST_hindcasts_2000_ECMWF_seasonal.nc'),\n PosixPath('/home/nicolasf/research/Smart_Ideas/data/GCMs/NC/ECMWF/SST/SST_hindcasts_2000_ECMWF_seasonal_anomalies.nc'),\n PosixPath('/home/nicolasf/research/Smart_Ideas/data/GCMs/NC/ECMWF/SST/SST_hindcasts_2001_ECMWF_seasonal.nc'),\n PosixPath('/home/nicolasf/research/Smart_Ideas/data/GCMs/NC/ECMWF/SST/SST_hindcasts_2001_ECMWF_seasonal_anomalies.nc'),\n PosixPath('/home/nicolasf/research/Smart_Ideas/data/GCMs/NC/ECMWF/SST/SST_hindcasts_2002_ECMWF_seasonal.nc'),\n PosixPath('/home/nicolasf/research/Smart_Ideas/data/GCMs/NC/ECMWF/SST/SST_hindcasts_2002_ECMWF_seasonal_anomalies.nc'),\n PosixPath('/home/nicolasf/research/Smart_Ideas/data/GCMs/NC/ECMWF/SST/SST_hindcasts_2003_ECMWF_seasonal.nc'),\n PosixPath('/home/nicolasf/research/Smart_Ideas/data/GCMs/NC/ECMWF/SST/SST_hindcasts_2003_ECMWF_seasonal_anomalies.nc'),\n PosixPath('/home/nicolasf/research/Smart_Ideas/data/GCMs/NC/ECMWF/SST/SST_hindcasts_2004_ECMWF_seasonal.nc'),\n PosixPath('/home/nicolasf/research/Smart_Ideas/data/GCMs/NC/ECMWF/SST/SST_hindcasts_2004_ECMWF_seasonal_anomalies.nc'),\n PosixPath('/home/nicolasf/research/Smart_Ideas/data/GCMs/NC/ECMWF/SST/SST_hindcasts_2005_ECMWF_seasonal.nc'),\n PosixPath('/home/nicolasf/research/Smart_Ideas/data/GCMs/NC/ECMWF/SST/SST_hindcasts_2005_ECMWF_seasonal_anomalies.nc'),\n PosixPath('/home/nicolasf/research/Smart_Ideas/data/GCMs/NC/ECMWF/SST/SST_hindcasts_2006_ECMWF_seasonal.nc'),\n PosixPath('/home/nicolasf/research/Smart_Ideas/data/GCMs/NC/ECMWF/SST/SST_hindcasts_2006_ECMWF_seasonal_anomalies.nc'),\n PosixPath('/home/nicolasf/research/Smart_Ideas/data/GCMs/NC/ECMWF/SST/SST_hindcasts_2007_ECMWF_seasonal.nc'),\n PosixPath('/home/nicolasf/research/Smart_Ideas/data/GCMs/NC/ECMWF/SST/SST_hindcasts_2007_ECMWF_seasonal_anomalies.nc'),\n PosixPath('/home/nicolasf/research/Smart_Ideas/data/GCMs/NC/ECMWF/SST/SST_hindcasts_2008_ECMWF_seasonal.nc'),\n PosixPath('/home/nicolasf/research/Smart_Ideas/data/GCMs/NC/ECMWF/SST/SST_hindcasts_2008_ECMWF_seasonal_anomalies.nc'),\n PosixPath('/home/nicolasf/research/Smart_Ideas/data/GCMs/NC/ECMWF/SST/SST_hindcasts_2009_ECMWF_seasonal.nc'),\n PosixPath('/home/nicolasf/research/Smart_Ideas/data/GCMs/NC/ECMWF/SST/SST_hindcasts_2009_ECMWF_seasonal_anomalies.nc'),\n PosixPath('/home/nicolasf/research/Smart_Ideas/data/GCMs/NC/ECMWF/SST/SST_hindcasts_2010_ECMWF_seasonal.nc'),\n PosixPath('/home/nicolasf/research/Smart_Ideas/data/GCMs/NC/ECMWF/SST/SST_hindcasts_2010_ECMWF_seasonal_anomalies.nc'),\n PosixPath('/home/nicolasf/research/Smart_Ideas/data/GCMs/NC/ECMWF/SST/SST_hindcasts_2011_ECMWF_seasonal.nc'),\n PosixPath('/home/nicolasf/research/Smart_Ideas/data/GCMs/NC/ECMWF/SST/SST_hindcasts_2011_ECMWF_seasonal_anomalies.nc'),\n PosixPath('/home/nicolasf/research/Smart_Ideas/data/GCMs/NC/ECMWF/SST/SST_hindcasts_2012_ECMWF_seasonal.nc'),\n PosixPath('/home/nicolasf/research/Smart_Ideas/data/GCMs/NC/ECMWF/SST/SST_hindcasts_2012_ECMWF_seasonal_anomalies.nc'),\n PosixPath('/home/nicolasf/research/Smart_Ideas/data/GCMs/NC/ECMWF/SST/SST_hindcasts_2013_ECMWF_seasonal.nc'),\n PosixPath('/home/nicolasf/research/Smart_Ideas/data/GCMs/NC/ECMWF/SST/SST_hindcasts_2013_ECMWF_seasonal_anomalies.nc'),\n PosixPath('/home/nicolasf/research/Smart_Ideas/data/GCMs/NC/ECMWF/SST/SST_hindcasts_2014_ECMWF_seasonal.nc'),\n PosixPath('/home/nicolasf/research/Smart_Ideas/data/GCMs/NC/ECMWF/SST/SST_hindcasts_2014_ECMWF_seasonal_anomalies.nc'),\n PosixPath('/home/nicolasf/research/Smart_Ideas/data/GCMs/NC/ECMWF/SST/SST_hindcasts_2015_ECMWF_seasonal.nc'),\n PosixPath('/home/nicolasf/research/Smart_Ideas/data/GCMs/NC/ECMWF/SST/SST_hindcasts_2015_ECMWF_seasonal_anomalies.nc'),\n PosixPath('/home/nicolasf/research/Smart_Ideas/data/GCMs/NC/ECMWF/SST/SST_hindcasts_2016_ECMWF_seasonal.nc'),\n PosixPath('/home/nicolasf/research/Smart_Ideas/data/GCMs/NC/ECMWF/SST/SST_hindcasts_2016_ECMWF_seasonal_anomalies.nc'),\n PosixPath('/home/nicolasf/research/Smart_Ideas/data/GCMs/NC/ECMWF/T2M/CLIMATOLOGY/CLIMATOLOGY_ECMWF_T2M_1993_2016.nc'),\n PosixPath('/home/nicolasf/research/Smart_Ideas/data/GCMs/NC/ECMWF/T2M/T2M_hindcasts_1993_ECMWF_seasonal.nc'),\n PosixPath('/home/nicolasf/research/Smart_Ideas/data/GCMs/NC/ECMWF/T2M/T2M_hindcasts_1993_ECMWF_seasonal_anomalies.nc'),\n PosixPath('/home/nicolasf/research/Smart_Ideas/data/GCMs/NC/ECMWF/T2M/T2M_hindcasts_1994_ECMWF_seasonal.nc'),\n PosixPath('/home/nicolasf/research/Smart_Ideas/data/GCMs/NC/ECMWF/T2M/T2M_hindcasts_1994_ECMWF_seasonal_anomalies.nc'),\n PosixPath('/home/nicolasf/research/Smart_Ideas/data/GCMs/NC/ECMWF/T2M/T2M_hindcasts_1995_ECMWF_seasonal.nc'),\n PosixPath('/home/nicolasf/research/Smart_Ideas/data/GCMs/NC/ECMWF/T2M/T2M_hindcasts_1995_ECMWF_seasonal_anomalies.nc'),\n PosixPath('/home/nicolasf/research/Smart_Ideas/data/GCMs/NC/ECMWF/T2M/T2M_hindcasts_1996_ECMWF_seasonal.nc'),\n PosixPath('/home/nicolasf/research/Smart_Ideas/data/GCMs/NC/ECMWF/T2M/T2M_hindcasts_1996_ECMWF_seasonal_anomalies.nc'),\n PosixPath('/home/nicolasf/research/Smart_Ideas/data/GCMs/NC/ECMWF/T2M/T2M_hindcasts_1997_ECMWF_seasonal.nc'),\n PosixPath('/home/nicolasf/research/Smart_Ideas/data/GCMs/NC/ECMWF/T2M/T2M_hindcasts_1997_ECMWF_seasonal_anomalies.nc'),\n PosixPath('/home/nicolasf/research/Smart_Ideas/data/GCMs/NC/ECMWF/T2M/T2M_hindcasts_1998_ECMWF_seasonal.nc'),\n PosixPath('/home/nicolasf/research/Smart_Ideas/data/GCMs/NC/ECMWF/T2M/T2M_hindcasts_1998_ECMWF_seasonal_anomalies.nc'),\n PosixPath('/home/nicolasf/research/Smart_Ideas/data/GCMs/NC/ECMWF/T2M/T2M_hindcasts_1999_ECMWF_seasonal.nc'),\n PosixPath('/home/nicolasf/research/Smart_Ideas/data/GCMs/NC/ECMWF/T2M/T2M_hindcasts_1999_ECMWF_seasonal_anomalies.nc'),\n PosixPath('/home/nicolasf/research/Smart_Ideas/data/GCMs/NC/ECMWF/T2M/T2M_hindcasts_2000_ECMWF_seasonal.nc'),\n PosixPath('/home/nicolasf/research/Smart_Ideas/data/GCMs/NC/ECMWF/T2M/T2M_hindcasts_2000_ECMWF_seasonal_anomalies.nc'),\n PosixPath('/home/nicolasf/research/Smart_Ideas/data/GCMs/NC/ECMWF/T2M/T2M_hindcasts_2001_ECMWF_seasonal.nc'),\n PosixPath('/home/nicolasf/research/Smart_Ideas/data/GCMs/NC/ECMWF/T2M/T2M_hindcasts_2001_ECMWF_seasonal_anomalies.nc'),\n PosixPath('/home/nicolasf/research/Smart_Ideas/data/GCMs/NC/ECMWF/T2M/T2M_hindcasts_2002_ECMWF_seasonal.nc'),\n PosixPath('/home/nicolasf/research/Smart_Ideas/data/GCMs/NC/ECMWF/T2M/T2M_hindcasts_2002_ECMWF_seasonal_anomalies.nc'),\n PosixPath('/home/nicolasf/research/Smart_Ideas/data/GCMs/NC/ECMWF/T2M/T2M_hindcasts_2003_ECMWF_seasonal.nc'),\n PosixPath('/home/nicolasf/research/Smart_Ideas/data/GCMs/NC/ECMWF/T2M/T2M_hindcasts_2003_ECMWF_seasonal_anomalies.nc'),\n PosixPath('/home/nicolasf/research/Smart_Ideas/data/GCMs/NC/ECMWF/T2M/T2M_hindcasts_2004_ECMWF_seasonal.nc'),\n PosixPath('/home/nicolasf/research/Smart_Ideas/data/GCMs/NC/ECMWF/T2M/T2M_hindcasts_2004_ECMWF_seasonal_anomalies.nc'),\n PosixPath('/home/nicolasf/research/Smart_Ideas/data/GCMs/NC/ECMWF/T2M/T2M_hindcasts_2005_ECMWF_seasonal.nc'),\n PosixPath('/home/nicolasf/research/Smart_Ideas/data/GCMs/NC/ECMWF/T2M/T2M_hindcasts_2005_ECMWF_seasonal_anomalies.nc'),\n PosixPath('/home/nicolasf/research/Smart_Ideas/data/GCMs/NC/ECMWF/T2M/T2M_hindcasts_2006_ECMWF_seasonal.nc'),\n PosixPath('/home/nicolasf/research/Smart_Ideas/data/GCMs/NC/ECMWF/T2M/T2M_hindcasts_2006_ECMWF_seasonal_anomalies.nc'),\n PosixPath('/home/nicolasf/research/Smart_Ideas/data/GCMs/NC/ECMWF/T2M/T2M_hindcasts_2007_ECMWF_seasonal.nc'),\n PosixPath('/home/nicolasf/research/Smart_Ideas/data/GCMs/NC/ECMWF/T2M/T2M_hindcasts_2007_ECMWF_seasonal_anomalies.nc'),\n PosixPath('/home/nicolasf/research/Smart_Ideas/data/GCMs/NC/ECMWF/T2M/T2M_hindcasts_2008_ECMWF_seasonal.nc'),\n PosixPath('/home/nicolasf/research/Smart_Ideas/data/GCMs/NC/ECMWF/T2M/T2M_hindcasts_2008_ECMWF_seasonal_anomalies.nc'),\n PosixPath('/home/nicolasf/research/Smart_Ideas/data/GCMs/NC/ECMWF/T2M/T2M_hindcasts_2009_ECMWF_seasonal.nc'),\n PosixPath('/home/nicolasf/research/Smart_Ideas/data/GCMs/NC/ECMWF/T2M/T2M_hindcasts_2009_ECMWF_seasonal_anomalies.nc'),\n PosixPath('/home/nicolasf/research/Smart_Ideas/data/GCMs/NC/ECMWF/T2M/T2M_hindcasts_2010_ECMWF_seasonal.nc'),\n PosixPath('/home/nicolasf/research/Smart_Ideas/data/GCMs/NC/ECMWF/T2M/T2M_hindcasts_2010_ECMWF_seasonal_anomalies.nc'),\n PosixPath('/home/nicolasf/research/Smart_Ideas/data/GCMs/NC/ECMWF/T2M/T2M_hindcasts_2011_ECMWF_seasonal.nc'),\n PosixPath('/home/nicolasf/research/Smart_Ideas/data/GCMs/NC/ECMWF/T2M/T2M_hindcasts_2011_ECMWF_seasonal_anomalies.nc'),\n PosixPath('/home/nicolasf/research/Smart_Ideas/data/GCMs/NC/ECMWF/T2M/T2M_hindcasts_2012_ECMWF_seasonal.nc'),\n PosixPath('/home/nicolasf/research/Smart_Ideas/data/GCMs/NC/ECMWF/T2M/T2M_hindcasts_2012_ECMWF_seasonal_anomalies.nc'),\n PosixPath('/home/nicolasf/research/Smart_Ideas/data/GCMs/NC/ECMWF/T2M/T2M_hindcasts_2013_ECMWF_seasonal.nc'),\n PosixPath('/home/nicolasf/research/Smart_Ideas/data/GCMs/NC/ECMWF/T2M/T2M_hindcasts_2013_ECMWF_seasonal_anomalies.nc'),\n PosixPath('/home/nicolasf/research/Smart_Ideas/data/GCMs/NC/ECMWF/T2M/T2M_hindcasts_2014_ECMWF_seasonal.nc'),\n PosixPath('/home/nicolasf/research/Smart_Ideas/data/GCMs/NC/ECMWF/T2M/T2M_hindcasts_2014_ECMWF_seasonal_anomalies.nc'),\n PosixPath('/home/nicolasf/research/Smart_Ideas/data/GCMs/NC/ECMWF/T2M/T2M_hindcasts_2015_ECMWF_seasonal.nc'),\n PosixPath('/home/nicolasf/research/Smart_Ideas/data/GCMs/NC/ECMWF/T2M/T2M_hindcasts_2015_ECMWF_seasonal_anomalies.nc'),\n PosixPath('/home/nicolasf/research/Smart_Ideas/data/GCMs/NC/ECMWF/T2M/T2M_hindcasts_2016_ECMWF_seasonal.nc'),\n PosixPath('/home/nicolasf/research/Smart_Ideas/data/GCMs/NC/ECMWF/T2M/T2M_hindcasts_2016_ECMWF_seasonal_anomalies.nc'),\n PosixPath('/home/nicolasf/research/Smart_Ideas/data/GCMs/NC/ECMWF/Z850/CLIMATOLOGY/CLIMATOLOGY_ECMWF_Z850_1993_2016.nc'),\n PosixPath('/home/nicolasf/research/Smart_Ideas/data/GCMs/NC/ECMWF/Z850/Z850_hindcasts_1993_ECMWF_seasonal.nc'),\n PosixPath('/home/nicolasf/research/Smart_Ideas/data/GCMs/NC/ECMWF/Z850/Z850_hindcasts_1993_ECMWF_seasonal_anomalies.nc'),\n PosixPath('/home/nicolasf/research/Smart_Ideas/data/GCMs/NC/ECMWF/Z850/Z850_hindcasts_1994_ECMWF_seasonal.nc'),\n PosixPath('/home/nicolasf/research/Smart_Ideas/data/GCMs/NC/ECMWF/Z850/Z850_hindcasts_1994_ECMWF_seasonal_anomalies.nc'),\n PosixPath('/home/nicolasf/research/Smart_Ideas/data/GCMs/NC/ECMWF/Z850/Z850_hindcasts_1995_ECMWF_seasonal.nc'),\n PosixPath('/home/nicolasf/research/Smart_Ideas/data/GCMs/NC/ECMWF/Z850/Z850_hindcasts_1995_ECMWF_seasonal_anomalies.nc'),\n PosixPath('/home/nicolasf/research/Smart_Ideas/data/GCMs/NC/ECMWF/Z850/Z850_hindcasts_1996_ECMWF_seasonal.nc'),\n PosixPath('/home/nicolasf/research/Smart_Ideas/data/GCMs/NC/ECMWF/Z850/Z850_hindcasts_1996_ECMWF_seasonal_anomalies.nc'),\n PosixPath('/home/nicolasf/research/Smart_Ideas/data/GCMs/NC/ECMWF/Z850/Z850_hindcasts_1997_ECMWF_seasonal.nc'),\n PosixPath('/home/nicolasf/research/Smart_Ideas/data/GCMs/NC/ECMWF/Z850/Z850_hindcasts_1997_ECMWF_seasonal_anomalies.nc'),\n PosixPath('/home/nicolasf/research/Smart_Ideas/data/GCMs/NC/ECMWF/Z850/Z850_hindcasts_1998_ECMWF_seasonal.nc'),\n PosixPath('/home/nicolasf/research/Smart_Ideas/data/GCMs/NC/ECMWF/Z850/Z850_hindcasts_1998_ECMWF_seasonal_anomalies.nc'),\n PosixPath('/home/nicolasf/research/Smart_Ideas/data/GCMs/NC/ECMWF/Z850/Z850_hindcasts_1999_ECMWF_seasonal.nc'),\n PosixPath('/home/nicolasf/research/Smart_Ideas/data/GCMs/NC/ECMWF/Z850/Z850_hindcasts_1999_ECMWF_seasonal_anomalies.nc'),\n PosixPath('/home/nicolasf/research/Smart_Ideas/data/GCMs/NC/ECMWF/Z850/Z850_hindcasts_2000_ECMWF_seasonal.nc'),\n PosixPath('/home/nicolasf/research/Smart_Ideas/data/GCMs/NC/ECMWF/Z850/Z850_hindcasts_2000_ECMWF_seasonal_anomalies.nc'),\n PosixPath('/home/nicolasf/research/Smart_Ideas/data/GCMs/NC/ECMWF/Z850/Z850_hindcasts_2001_ECMWF_seasonal.nc'),\n PosixPath('/home/nicolasf/research/Smart_Ideas/data/GCMs/NC/ECMWF/Z850/Z850_hindcasts_2001_ECMWF_seasonal_anomalies.nc'),\n PosixPath('/home/nicolasf/research/Smart_Ideas/data/GCMs/NC/ECMWF/Z850/Z850_hindcasts_2002_ECMWF_seasonal.nc'),\n PosixPath('/home/nicolasf/research/Smart_Ideas/data/GCMs/NC/ECMWF/Z850/Z850_hindcasts_2002_ECMWF_seasonal_anomalies.nc'),\n PosixPath('/home/nicolasf/research/Smart_Ideas/data/GCMs/NC/ECMWF/Z850/Z850_hindcasts_2003_ECMWF_seasonal.nc'),\n PosixPath('/home/nicolasf/research/Smart_Ideas/data/GCMs/NC/ECMWF/Z850/Z850_hindcasts_2003_ECMWF_seasonal_anomalies.nc'),\n PosixPath('/home/nicolasf/research/Smart_Ideas/data/GCMs/NC/ECMWF/Z850/Z850_hindcasts_2004_ECMWF_seasonal.nc'),\n PosixPath('/home/nicolasf/research/Smart_Ideas/data/GCMs/NC/ECMWF/Z850/Z850_hindcasts_2004_ECMWF_seasonal_anomalies.nc'),\n PosixPath('/home/nicolasf/research/Smart_Ideas/data/GCMs/NC/ECMWF/Z850/Z850_hindcasts_2005_ECMWF_seasonal.nc'),\n PosixPath('/home/nicolasf/research/Smart_Ideas/data/GCMs/NC/ECMWF/Z850/Z850_hindcasts_2005_ECMWF_seasonal_anomalies.nc'),\n PosixPath('/home/nicolasf/research/Smart_Ideas/data/GCMs/NC/ECMWF/Z850/Z850_hindcasts_2006_ECMWF_seasonal.nc'),\n PosixPath('/home/nicolasf/research/Smart_Ideas/data/GCMs/NC/ECMWF/Z850/Z850_hindcasts_2006_ECMWF_seasonal_anomalies.nc'),\n PosixPath('/home/nicolasf/research/Smart_Ideas/data/GCMs/NC/ECMWF/Z850/Z850_hindcasts_2007_ECMWF_seasonal.nc'),\n PosixPath('/home/nicolasf/research/Smart_Ideas/data/GCMs/NC/ECMWF/Z850/Z850_hindcasts_2007_ECMWF_seasonal_anomalies.nc'),\n PosixPath('/home/nicolasf/research/Smart_Ideas/data/GCMs/NC/ECMWF/Z850/Z850_hindcasts_2008_ECMWF_seasonal.nc'),\n PosixPath('/home/nicolasf/research/Smart_Ideas/data/GCMs/NC/ECMWF/Z850/Z850_hindcasts_2008_ECMWF_seasonal_anomalies.nc'),\n PosixPath('/home/nicolasf/research/Smart_Ideas/data/GCMs/NC/ECMWF/Z850/Z850_hindcasts_2009_ECMWF_seasonal.nc'),\n PosixPath('/home/nicolasf/research/Smart_Ideas/data/GCMs/NC/ECMWF/Z850/Z850_hindcasts_2009_ECMWF_seasonal_anomalies.nc'),\n PosixPath('/home/nicolasf/research/Smart_Ideas/data/GCMs/NC/ECMWF/Z850/Z850_hindcasts_2010_ECMWF_seasonal.nc'),\n PosixPath('/home/nicolasf/research/Smart_Ideas/data/GCMs/NC/ECMWF/Z850/Z850_hindcasts_2010_ECMWF_seasonal_anomalies.nc'),\n PosixPath('/home/nicolasf/research/Smart_Ideas/data/GCMs/NC/ECMWF/Z850/Z850_hindcasts_2011_ECMWF_seasonal.nc'),\n PosixPath('/home/nicolasf/research/Smart_Ideas/data/GCMs/NC/ECMWF/Z850/Z850_hindcasts_2011_ECMWF_seasonal_anomalies.nc'),\n PosixPath('/home/nicolasf/research/Smart_Ideas/data/GCMs/NC/ECMWF/Z850/Z850_hindcasts_2012_ECMWF_seasonal.nc'),\n PosixPath('/home/nicolasf/research/Smart_Ideas/data/GCMs/NC/ECMWF/Z850/Z850_hindcasts_2012_ECMWF_seasonal_anomalies.nc'),\n PosixPath('/home/nicolasf/research/Smart_Ideas/data/GCMs/NC/ECMWF/Z850/Z850_hindcasts_2013_ECMWF_seasonal.nc'),\n PosixPath('/home/nicolasf/research/Smart_Ideas/data/GCMs/NC/ECMWF/Z850/Z850_hindcasts_2013_ECMWF_seasonal_anomalies.nc'),\n PosixPath('/home/nicolasf/research/Smart_Ideas/data/GCMs/NC/ECMWF/Z850/Z850_hindcasts_2014_ECMWF_seasonal.nc'),\n PosixPath('/home/nicolasf/research/Smart_Ideas/data/GCMs/NC/ECMWF/Z850/Z850_hindcasts_2014_ECMWF_seasonal_anomalies.nc'),\n PosixPath('/home/nicolasf/research/Smart_Ideas/data/GCMs/NC/ECMWF/Z850/Z850_hindcasts_2015_ECMWF_seasonal.nc'),\n PosixPath('/home/nicolasf/research/Smart_Ideas/data/GCMs/NC/ECMWF/Z850/Z850_hindcasts_2015_ECMWF_seasonal_anomalies.nc'),\n PosixPath('/home/nicolasf/research/Smart_Ideas/data/GCMs/NC/ECMWF/Z850/Z850_hindcasts_2016_ECMWF_seasonal.nc'),\n PosixPath('/home/nicolasf/research/Smart_Ideas/data/GCMs/NC/ECMWF/Z850/Z850_hindcasts_2016_ECMWF_seasonal_anomalies.nc')]"
       },
       "execution_count": 15,
       "metadata": {},
       "output_type": "execute_result"
      }
     ],
     "persistentId": "9da569ca-1523-4a3f-be48-e85139a8d601",
     "text": "lfiles"
    },
    "executionTime": "2019-12-12T22:09:13.396Z"
   },
   {
    "cell": {
     "executionCount": 16,
     "executionEventId": "440a7886-15b7-4922-aaba-dd43fbfbedb6",
     "hasError": false,
     "id": "b8d40a49-05fb-46e5-a6d9-cb25aabbf235",
     "outputs": [],
     "persistentId": "85905907-ef5a-4439-954c-c83b8518e9c4",
     "text": "lfiles = list(dpath.rglob(\"*/*_seasonal_anomalies.nc\"))"
    },
    "executionTime": "2019-12-12T22:10:12.131Z"
   },
   {
    "cell": {
     "executionCount": 17,
     "executionEventId": "2909a00d-aab2-473a-9f55-1f64d6ab5d9a",
     "hasError": false,
     "id": "39c7ccf6-7046-4592-8305-a29458ce8e58",
     "outputs": [],
     "persistentId": "fb474e4d-997a-40f5-921d-364c28457c9c",
     "text": "lfiles.sort()"
    },
    "executionTime": "2019-12-12T22:10:12.461Z"
   },
   {
    "cell": {
     "executionCount": 18,
     "executionEventId": "d1930f10-7fc1-43d1-89cc-4583e9835e11",
     "hasError": false,
     "id": "981856e8-2eda-41a9-b084-52473891325f",
     "outputs": [
      {
       "data": {
        "text/plain": "[PosixPath('/home/nicolasf/research/Smart_Ideas/data/GCMs/NC/ECMWF/PRECIP/PRECIP_hindcasts_1993_ECMWF_seasonal_anomalies.nc'),\n PosixPath('/home/nicolasf/research/Smart_Ideas/data/GCMs/NC/ECMWF/PRECIP/PRECIP_hindcasts_1994_ECMWF_seasonal_anomalies.nc'),\n PosixPath('/home/nicolasf/research/Smart_Ideas/data/GCMs/NC/ECMWF/PRECIP/PRECIP_hindcasts_1995_ECMWF_seasonal_anomalies.nc'),\n PosixPath('/home/nicolasf/research/Smart_Ideas/data/GCMs/NC/ECMWF/PRECIP/PRECIP_hindcasts_1996_ECMWF_seasonal_anomalies.nc'),\n PosixPath('/home/nicolasf/research/Smart_Ideas/data/GCMs/NC/ECMWF/PRECIP/PRECIP_hindcasts_1997_ECMWF_seasonal_anomalies.nc'),\n PosixPath('/home/nicolasf/research/Smart_Ideas/data/GCMs/NC/ECMWF/PRECIP/PRECIP_hindcasts_1998_ECMWF_seasonal_anomalies.nc'),\n PosixPath('/home/nicolasf/research/Smart_Ideas/data/GCMs/NC/ECMWF/PRECIP/PRECIP_hindcasts_1999_ECMWF_seasonal_anomalies.nc'),\n PosixPath('/home/nicolasf/research/Smart_Ideas/data/GCMs/NC/ECMWF/PRECIP/PRECIP_hindcasts_2000_ECMWF_seasonal_anomalies.nc'),\n PosixPath('/home/nicolasf/research/Smart_Ideas/data/GCMs/NC/ECMWF/PRECIP/PRECIP_hindcasts_2001_ECMWF_seasonal_anomalies.nc'),\n PosixPath('/home/nicolasf/research/Smart_Ideas/data/GCMs/NC/ECMWF/PRECIP/PRECIP_hindcasts_2002_ECMWF_seasonal_anomalies.nc'),\n PosixPath('/home/nicolasf/research/Smart_Ideas/data/GCMs/NC/ECMWF/PRECIP/PRECIP_hindcasts_2003_ECMWF_seasonal_anomalies.nc'),\n PosixPath('/home/nicolasf/research/Smart_Ideas/data/GCMs/NC/ECMWF/PRECIP/PRECIP_hindcasts_2004_ECMWF_seasonal_anomalies.nc'),\n PosixPath('/home/nicolasf/research/Smart_Ideas/data/GCMs/NC/ECMWF/PRECIP/PRECIP_hindcasts_2005_ECMWF_seasonal_anomalies.nc'),\n PosixPath('/home/nicolasf/research/Smart_Ideas/data/GCMs/NC/ECMWF/PRECIP/PRECIP_hindcasts_2006_ECMWF_seasonal_anomalies.nc'),\n PosixPath('/home/nicolasf/research/Smart_Ideas/data/GCMs/NC/ECMWF/PRECIP/PRECIP_hindcasts_2007_ECMWF_seasonal_anomalies.nc'),\n PosixPath('/home/nicolasf/research/Smart_Ideas/data/GCMs/NC/ECMWF/PRECIP/PRECIP_hindcasts_2008_ECMWF_seasonal_anomalies.nc'),\n PosixPath('/home/nicolasf/research/Smart_Ideas/data/GCMs/NC/ECMWF/PRECIP/PRECIP_hindcasts_2009_ECMWF_seasonal_anomalies.nc'),\n PosixPath('/home/nicolasf/research/Smart_Ideas/data/GCMs/NC/ECMWF/PRECIP/PRECIP_hindcasts_2010_ECMWF_seasonal_anomalies.nc'),\n PosixPath('/home/nicolasf/research/Smart_Ideas/data/GCMs/NC/ECMWF/PRECIP/PRECIP_hindcasts_2011_ECMWF_seasonal_anomalies.nc'),\n PosixPath('/home/nicolasf/research/Smart_Ideas/data/GCMs/NC/ECMWF/PRECIP/PRECIP_hindcasts_2012_ECMWF_seasonal_anomalies.nc'),\n PosixPath('/home/nicolasf/research/Smart_Ideas/data/GCMs/NC/ECMWF/PRECIP/PRECIP_hindcasts_2013_ECMWF_seasonal_anomalies.nc'),\n PosixPath('/home/nicolasf/research/Smart_Ideas/data/GCMs/NC/ECMWF/PRECIP/PRECIP_hindcasts_2014_ECMWF_seasonal_anomalies.nc'),\n PosixPath('/home/nicolasf/research/Smart_Ideas/data/GCMs/NC/ECMWF/PRECIP/PRECIP_hindcasts_2015_ECMWF_seasonal_anomalies.nc'),\n PosixPath('/home/nicolasf/research/Smart_Ideas/data/GCMs/NC/ECMWF/PRECIP/PRECIP_hindcasts_2016_ECMWF_seasonal_anomalies.nc'),\n PosixPath('/home/nicolasf/research/Smart_Ideas/data/GCMs/NC/ECMWF/SST/SST_hindcasts_1993_ECMWF_seasonal_anomalies.nc'),\n PosixPath('/home/nicolasf/research/Smart_Ideas/data/GCMs/NC/ECMWF/SST/SST_hindcasts_1994_ECMWF_seasonal_anomalies.nc'),\n PosixPath('/home/nicolasf/research/Smart_Ideas/data/GCMs/NC/ECMWF/SST/SST_hindcasts_1995_ECMWF_seasonal_anomalies.nc'),\n PosixPath('/home/nicolasf/research/Smart_Ideas/data/GCMs/NC/ECMWF/SST/SST_hindcasts_1996_ECMWF_seasonal_anomalies.nc'),\n PosixPath('/home/nicolasf/research/Smart_Ideas/data/GCMs/NC/ECMWF/SST/SST_hindcasts_1997_ECMWF_seasonal_anomalies.nc'),\n PosixPath('/home/nicolasf/research/Smart_Ideas/data/GCMs/NC/ECMWF/SST/SST_hindcasts_1998_ECMWF_seasonal_anomalies.nc'),\n PosixPath('/home/nicolasf/research/Smart_Ideas/data/GCMs/NC/ECMWF/SST/SST_hindcasts_1999_ECMWF_seasonal_anomalies.nc'),\n PosixPath('/home/nicolasf/research/Smart_Ideas/data/GCMs/NC/ECMWF/SST/SST_hindcasts_2000_ECMWF_seasonal_anomalies.nc'),\n PosixPath('/home/nicolasf/research/Smart_Ideas/data/GCMs/NC/ECMWF/SST/SST_hindcasts_2001_ECMWF_seasonal_anomalies.nc'),\n PosixPath('/home/nicolasf/research/Smart_Ideas/data/GCMs/NC/ECMWF/SST/SST_hindcasts_2002_ECMWF_seasonal_anomalies.nc'),\n PosixPath('/home/nicolasf/research/Smart_Ideas/data/GCMs/NC/ECMWF/SST/SST_hindcasts_2003_ECMWF_seasonal_anomalies.nc'),\n PosixPath('/home/nicolasf/research/Smart_Ideas/data/GCMs/NC/ECMWF/SST/SST_hindcasts_2004_ECMWF_seasonal_anomalies.nc'),\n PosixPath('/home/nicolasf/research/Smart_Ideas/data/GCMs/NC/ECMWF/SST/SST_hindcasts_2005_ECMWF_seasonal_anomalies.nc'),\n PosixPath('/home/nicolasf/research/Smart_Ideas/data/GCMs/NC/ECMWF/SST/SST_hindcasts_2006_ECMWF_seasonal_anomalies.nc'),\n PosixPath('/home/nicolasf/research/Smart_Ideas/data/GCMs/NC/ECMWF/SST/SST_hindcasts_2007_ECMWF_seasonal_anomalies.nc'),\n PosixPath('/home/nicolasf/research/Smart_Ideas/data/GCMs/NC/ECMWF/SST/SST_hindcasts_2008_ECMWF_seasonal_anomalies.nc'),\n PosixPath('/home/nicolasf/research/Smart_Ideas/data/GCMs/NC/ECMWF/SST/SST_hindcasts_2009_ECMWF_seasonal_anomalies.nc'),\n PosixPath('/home/nicolasf/research/Smart_Ideas/data/GCMs/NC/ECMWF/SST/SST_hindcasts_2010_ECMWF_seasonal_anomalies.nc'),\n PosixPath('/home/nicolasf/research/Smart_Ideas/data/GCMs/NC/ECMWF/SST/SST_hindcasts_2011_ECMWF_seasonal_anomalies.nc'),\n PosixPath('/home/nicolasf/research/Smart_Ideas/data/GCMs/NC/ECMWF/SST/SST_hindcasts_2012_ECMWF_seasonal_anomalies.nc'),\n PosixPath('/home/nicolasf/research/Smart_Ideas/data/GCMs/NC/ECMWF/SST/SST_hindcasts_2013_ECMWF_seasonal_anomalies.nc'),\n PosixPath('/home/nicolasf/research/Smart_Ideas/data/GCMs/NC/ECMWF/SST/SST_hindcasts_2014_ECMWF_seasonal_anomalies.nc'),\n PosixPath('/home/nicolasf/research/Smart_Ideas/data/GCMs/NC/ECMWF/SST/SST_hindcasts_2015_ECMWF_seasonal_anomalies.nc'),\n PosixPath('/home/nicolasf/research/Smart_Ideas/data/GCMs/NC/ECMWF/SST/SST_hindcasts_2016_ECMWF_seasonal_anomalies.nc'),\n PosixPath('/home/nicolasf/research/Smart_Ideas/data/GCMs/NC/ECMWF/T2M/T2M_hindcasts_1993_ECMWF_seasonal_anomalies.nc'),\n PosixPath('/home/nicolasf/research/Smart_Ideas/data/GCMs/NC/ECMWF/T2M/T2M_hindcasts_1994_ECMWF_seasonal_anomalies.nc'),\n PosixPath('/home/nicolasf/research/Smart_Ideas/data/GCMs/NC/ECMWF/T2M/T2M_hindcasts_1995_ECMWF_seasonal_anomalies.nc'),\n PosixPath('/home/nicolasf/research/Smart_Ideas/data/GCMs/NC/ECMWF/T2M/T2M_hindcasts_1996_ECMWF_seasonal_anomalies.nc'),\n PosixPath('/home/nicolasf/research/Smart_Ideas/data/GCMs/NC/ECMWF/T2M/T2M_hindcasts_1997_ECMWF_seasonal_anomalies.nc'),\n PosixPath('/home/nicolasf/research/Smart_Ideas/data/GCMs/NC/ECMWF/T2M/T2M_hindcasts_1998_ECMWF_seasonal_anomalies.nc'),\n PosixPath('/home/nicolasf/research/Smart_Ideas/data/GCMs/NC/ECMWF/T2M/T2M_hindcasts_1999_ECMWF_seasonal_anomalies.nc'),\n PosixPath('/home/nicolasf/research/Smart_Ideas/data/GCMs/NC/ECMWF/T2M/T2M_hindcasts_2000_ECMWF_seasonal_anomalies.nc'),\n PosixPath('/home/nicolasf/research/Smart_Ideas/data/GCMs/NC/ECMWF/T2M/T2M_hindcasts_2001_ECMWF_seasonal_anomalies.nc'),\n PosixPath('/home/nicolasf/research/Smart_Ideas/data/GCMs/NC/ECMWF/T2M/T2M_hindcasts_2002_ECMWF_seasonal_anomalies.nc'),\n PosixPath('/home/nicolasf/research/Smart_Ideas/data/GCMs/NC/ECMWF/T2M/T2M_hindcasts_2003_ECMWF_seasonal_anomalies.nc'),\n PosixPath('/home/nicolasf/research/Smart_Ideas/data/GCMs/NC/ECMWF/T2M/T2M_hindcasts_2004_ECMWF_seasonal_anomalies.nc'),\n PosixPath('/home/nicolasf/research/Smart_Ideas/data/GCMs/NC/ECMWF/T2M/T2M_hindcasts_2005_ECMWF_seasonal_anomalies.nc'),\n PosixPath('/home/nicolasf/research/Smart_Ideas/data/GCMs/NC/ECMWF/T2M/T2M_hindcasts_2006_ECMWF_seasonal_anomalies.nc'),\n PosixPath('/home/nicolasf/research/Smart_Ideas/data/GCMs/NC/ECMWF/T2M/T2M_hindcasts_2007_ECMWF_seasonal_anomalies.nc'),\n PosixPath('/home/nicolasf/research/Smart_Ideas/data/GCMs/NC/ECMWF/T2M/T2M_hindcasts_2008_ECMWF_seasonal_anomalies.nc'),\n PosixPath('/home/nicolasf/research/Smart_Ideas/data/GCMs/NC/ECMWF/T2M/T2M_hindcasts_2009_ECMWF_seasonal_anomalies.nc'),\n PosixPath('/home/nicolasf/research/Smart_Ideas/data/GCMs/NC/ECMWF/T2M/T2M_hindcasts_2010_ECMWF_seasonal_anomalies.nc'),\n PosixPath('/home/nicolasf/research/Smart_Ideas/data/GCMs/NC/ECMWF/T2M/T2M_hindcasts_2011_ECMWF_seasonal_anomalies.nc'),\n PosixPath('/home/nicolasf/research/Smart_Ideas/data/GCMs/NC/ECMWF/T2M/T2M_hindcasts_2012_ECMWF_seasonal_anomalies.nc'),\n PosixPath('/home/nicolasf/research/Smart_Ideas/data/GCMs/NC/ECMWF/T2M/T2M_hindcasts_2013_ECMWF_seasonal_anomalies.nc'),\n PosixPath('/home/nicolasf/research/Smart_Ideas/data/GCMs/NC/ECMWF/T2M/T2M_hindcasts_2014_ECMWF_seasonal_anomalies.nc'),\n PosixPath('/home/nicolasf/research/Smart_Ideas/data/GCMs/NC/ECMWF/T2M/T2M_hindcasts_2015_ECMWF_seasonal_anomalies.nc'),\n PosixPath('/home/nicolasf/research/Smart_Ideas/data/GCMs/NC/ECMWF/T2M/T2M_hindcasts_2016_ECMWF_seasonal_anomalies.nc'),\n PosixPath('/home/nicolasf/research/Smart_Ideas/data/GCMs/NC/ECMWF/Z850/Z850_hindcasts_1993_ECMWF_seasonal_anomalies.nc'),\n PosixPath('/home/nicolasf/research/Smart_Ideas/data/GCMs/NC/ECMWF/Z850/Z850_hindcasts_1994_ECMWF_seasonal_anomalies.nc'),\n PosixPath('/home/nicolasf/research/Smart_Ideas/data/GCMs/NC/ECMWF/Z850/Z850_hindcasts_1995_ECMWF_seasonal_anomalies.nc'),\n PosixPath('/home/nicolasf/research/Smart_Ideas/data/GCMs/NC/ECMWF/Z850/Z850_hindcasts_1996_ECMWF_seasonal_anomalies.nc'),\n PosixPath('/home/nicolasf/research/Smart_Ideas/data/GCMs/NC/ECMWF/Z850/Z850_hindcasts_1997_ECMWF_seasonal_anomalies.nc'),\n PosixPath('/home/nicolasf/research/Smart_Ideas/data/GCMs/NC/ECMWF/Z850/Z850_hindcasts_1998_ECMWF_seasonal_anomalies.nc'),\n PosixPath('/home/nicolasf/research/Smart_Ideas/data/GCMs/NC/ECMWF/Z850/Z850_hindcasts_1999_ECMWF_seasonal_anomalies.nc'),\n PosixPath('/home/nicolasf/research/Smart_Ideas/data/GCMs/NC/ECMWF/Z850/Z850_hindcasts_2000_ECMWF_seasonal_anomalies.nc'),\n PosixPath('/home/nicolasf/research/Smart_Ideas/data/GCMs/NC/ECMWF/Z850/Z850_hindcasts_2001_ECMWF_seasonal_anomalies.nc'),\n PosixPath('/home/nicolasf/research/Smart_Ideas/data/GCMs/NC/ECMWF/Z850/Z850_hindcasts_2002_ECMWF_seasonal_anomalies.nc'),\n PosixPath('/home/nicolasf/research/Smart_Ideas/data/GCMs/NC/ECMWF/Z850/Z850_hindcasts_2003_ECMWF_seasonal_anomalies.nc'),\n PosixPath('/home/nicolasf/research/Smart_Ideas/data/GCMs/NC/ECMWF/Z850/Z850_hindcasts_2004_ECMWF_seasonal_anomalies.nc'),\n PosixPath('/home/nicolasf/research/Smart_Ideas/data/GCMs/NC/ECMWF/Z850/Z850_hindcasts_2005_ECMWF_seasonal_anomalies.nc'),\n PosixPath('/home/nicolasf/research/Smart_Ideas/data/GCMs/NC/ECMWF/Z850/Z850_hindcasts_2006_ECMWF_seasonal_anomalies.nc'),\n PosixPath('/home/nicolasf/research/Smart_Ideas/data/GCMs/NC/ECMWF/Z850/Z850_hindcasts_2007_ECMWF_seasonal_anomalies.nc'),\n PosixPath('/home/nicolasf/research/Smart_Ideas/data/GCMs/NC/ECMWF/Z850/Z850_hindcasts_2008_ECMWF_seasonal_anomalies.nc'),\n PosixPath('/home/nicolasf/research/Smart_Ideas/data/GCMs/NC/ECMWF/Z850/Z850_hindcasts_2009_ECMWF_seasonal_anomalies.nc'),\n PosixPath('/home/nicolasf/research/Smart_Ideas/data/GCMs/NC/ECMWF/Z850/Z850_hindcasts_2010_ECMWF_seasonal_anomalies.nc'),\n PosixPath('/home/nicolasf/research/Smart_Ideas/data/GCMs/NC/ECMWF/Z850/Z850_hindcasts_2011_ECMWF_seasonal_anomalies.nc'),\n PosixPath('/home/nicolasf/research/Smart_Ideas/data/GCMs/NC/ECMWF/Z850/Z850_hindcasts_2012_ECMWF_seasonal_anomalies.nc'),\n PosixPath('/home/nicolasf/research/Smart_Ideas/data/GCMs/NC/ECMWF/Z850/Z850_hindcasts_2013_ECMWF_seasonal_anomalies.nc'),\n PosixPath('/home/nicolasf/research/Smart_Ideas/data/GCMs/NC/ECMWF/Z850/Z850_hindcasts_2014_ECMWF_seasonal_anomalies.nc'),\n PosixPath('/home/nicolasf/research/Smart_Ideas/data/GCMs/NC/ECMWF/Z850/Z850_hindcasts_2015_ECMWF_seasonal_anomalies.nc'),\n PosixPath('/home/nicolasf/research/Smart_Ideas/data/GCMs/NC/ECMWF/Z850/Z850_hindcasts_2016_ECMWF_seasonal_anomalies.nc')]"
       },
       "execution_count": 18,
       "metadata": {},
       "output_type": "execute_result"
      }
     ],
     "persistentId": "9da569ca-1523-4a3f-be48-e85139a8d601",
     "text": "lfiles"
    },
    "executionTime": "2019-12-12T22:10:12.849Z"
   },
   {
    "cell": {
     "executionCount": 19,
     "executionEventId": "3afbe595-390b-4060-9195-66d21bcb0dfa",
     "hasError": false,
     "id": "c2ffe35c-c0c5-42f3-875e-613d06ecc59a",
     "outputs": [],
     "persistentId": "c34d5d8a-150f-43ae-ba5d-abd92234ee07",
     "text": "var_name = 'PRECIP'"
    },
    "executionTime": "2019-12-12T22:10:33.004Z"
   },
   {
    "cell": {
     "executionCount": 20,
     "executionEventId": "49388e11-f0d9-45c7-a3cd-a378a935d1a9",
     "hasError": false,
     "id": "5e82ce1f-fdf8-4e3d-bd05-550df2d2da4c",
     "outputs": [],
     "persistentId": "8f44f40e-831d-40c5-99d4-c24eb5522bcb",
     "text": "GCM = 'ECMWF'"
    },
    "executionTime": "2019-12-12T22:10:39.341Z"
   },
   {
    "cell": {
     "executionCount": 21,
     "executionEventId": "595a62f9-4477-46b0-8e3f-934b101badc1",
     "hasError": false,
     "id": "c2ffe35c-c0c5-42f3-875e-613d06ecc59a",
     "outputs": [],
     "persistentId": "c34d5d8a-150f-43ae-ba5d-abd92234ee07",
     "text": "var_name = 'PRECIP'"
    },
    "executionTime": "2019-12-12T22:10:39.548Z"
   },
   {
    "cell": {
     "executionCount": 22,
     "executionEventId": "83f562f6-cabc-4d1c-9404-43b8f683b4d3",
     "hasError": false,
     "id": "dff3e9b1-8e8e-4b07-aa16-dd1e0c457d8f",
     "outputs": [],
     "persistentId": "72a28aa3-e883-4149-a8e2-05845e5753d9",
     "text": "dpath = HOME / 'research' / 'Smart_Ideas' / 'data' / 'GCMs' / 'NC' / GCM / var_name"
    },
    "executionTime": "2019-12-12T22:10:39.736Z"
   },
   {
    "cell": {
     "executionCount": 23,
     "executionEventId": "76e74e2e-ea16-45da-bafc-c9492853c121",
     "hasError": false,
     "id": "b8d40a49-05fb-46e5-a6d9-cb25aabbf235",
     "outputs": [],
     "persistentId": "85905907-ef5a-4439-954c-c83b8518e9c4",
     "text": "lfiles = list(dpath.rglob(\"*/*_seasonal_anomalies.nc\"))"
    },
    "executionTime": "2019-12-12T22:10:39.938Z"
   },
   {
    "cell": {
     "executionCount": 24,
     "executionEventId": "dddac334-5a46-4a9a-8f32-8650d8aacf60",
     "hasError": false,
     "id": "39c7ccf6-7046-4592-8305-a29458ce8e58",
     "outputs": [],
     "persistentId": "fb474e4d-997a-40f5-921d-364c28457c9c",
     "text": "lfiles.sort()"
    },
    "executionTime": "2019-12-12T22:10:40.267Z"
   },
   {
    "cell": {
     "executionCount": 25,
     "executionEventId": "8efc4ffd-bcbe-409e-bbb2-102c4b5780aa",
     "hasError": false,
     "id": "981856e8-2eda-41a9-b084-52473891325f",
     "outputs": [
      {
       "data": {
        "text/plain": "[]"
       },
       "execution_count": 25,
       "metadata": {},
       "output_type": "execute_result"
      }
     ],
     "persistentId": "9da569ca-1523-4a3f-be48-e85139a8d601",
     "text": "lfiles"
    },
    "executionTime": "2019-12-12T22:10:40.624Z"
   },
   {
    "cell": {
     "executionCount": 26,
     "executionEventId": "9c0f37cb-0376-4d05-94ad-66bf8f38131b",
     "hasError": false,
     "id": "5e82ce1f-fdf8-4e3d-bd05-550df2d2da4c",
     "outputs": [],
     "persistentId": "8f44f40e-831d-40c5-99d4-c24eb5522bcb",
     "text": "GCM = 'ECMWF'"
    },
    "executionTime": "2019-12-12T22:11:04.388Z"
   },
   {
    "cell": {
     "executionCount": 27,
     "executionEventId": "ed9b8cb4-6f7f-4720-acaa-f42889e44b4d",
     "hasError": false,
     "id": "c2ffe35c-c0c5-42f3-875e-613d06ecc59a",
     "outputs": [],
     "persistentId": "c34d5d8a-150f-43ae-ba5d-abd92234ee07",
     "text": "var_name = 'PRECIP'"
    },
    "executionTime": "2019-12-12T22:11:04.790Z"
   },
   {
    "cell": {
     "executionCount": 28,
     "executionEventId": "ce81031f-eee7-48c0-a361-b67c74c0c8ca",
     "hasError": false,
     "id": "dff3e9b1-8e8e-4b07-aa16-dd1e0c457d8f",
     "outputs": [],
     "persistentId": "72a28aa3-e883-4149-a8e2-05845e5753d9",
     "text": "dpath = HOME / 'research' / 'Smart_Ideas' / 'data' / 'GCMs' / 'NC' / GCM / var_name"
    },
    "executionTime": "2019-12-12T22:11:05.867Z"
   },
   {
    "cell": {
     "executionCount": 29,
     "executionEventId": "546255c1-ae95-4722-9446-52d90c9b048c",
     "hasError": false,
     "id": "b8d40a49-05fb-46e5-a6d9-cb25aabbf235",
     "outputs": [],
     "persistentId": "85905907-ef5a-4439-954c-c83b8518e9c4",
     "text": "lfiles = list(dpath.rglob(\"*_seasonal_anomalies.nc\"))"
    },
    "executionTime": "2019-12-12T22:11:12.729Z"
   },
   {
    "cell": {
     "executionCount": 30,
     "executionEventId": "b71bccf0-f0d7-4a69-8147-a2726ddb4aa3",
     "hasError": false,
     "id": "39c7ccf6-7046-4592-8305-a29458ce8e58",
     "outputs": [],
     "persistentId": "fb474e4d-997a-40f5-921d-364c28457c9c",
     "text": "lfiles.sort()"
    },
    "executionTime": "2019-12-12T22:11:13.157Z"
   },
   {
    "cell": {
     "executionCount": 31,
     "executionEventId": "e02feefc-36df-494b-94b7-34d2246e3646",
     "hasError": false,
     "id": "981856e8-2eda-41a9-b084-52473891325f",
     "outputs": [
      {
       "data": {
        "text/plain": "[PosixPath('/home/nicolasf/research/Smart_Ideas/data/GCMs/NC/ECMWF/PRECIP/PRECIP_hindcasts_1993_ECMWF_seasonal_anomalies.nc'),\n PosixPath('/home/nicolasf/research/Smart_Ideas/data/GCMs/NC/ECMWF/PRECIP/PRECIP_hindcasts_1994_ECMWF_seasonal_anomalies.nc'),\n PosixPath('/home/nicolasf/research/Smart_Ideas/data/GCMs/NC/ECMWF/PRECIP/PRECIP_hindcasts_1995_ECMWF_seasonal_anomalies.nc'),\n PosixPath('/home/nicolasf/research/Smart_Ideas/data/GCMs/NC/ECMWF/PRECIP/PRECIP_hindcasts_1996_ECMWF_seasonal_anomalies.nc'),\n PosixPath('/home/nicolasf/research/Smart_Ideas/data/GCMs/NC/ECMWF/PRECIP/PRECIP_hindcasts_1997_ECMWF_seasonal_anomalies.nc'),\n PosixPath('/home/nicolasf/research/Smart_Ideas/data/GCMs/NC/ECMWF/PRECIP/PRECIP_hindcasts_1998_ECMWF_seasonal_anomalies.nc'),\n PosixPath('/home/nicolasf/research/Smart_Ideas/data/GCMs/NC/ECMWF/PRECIP/PRECIP_hindcasts_1999_ECMWF_seasonal_anomalies.nc'),\n PosixPath('/home/nicolasf/research/Smart_Ideas/data/GCMs/NC/ECMWF/PRECIP/PRECIP_hindcasts_2000_ECMWF_seasonal_anomalies.nc'),\n PosixPath('/home/nicolasf/research/Smart_Ideas/data/GCMs/NC/ECMWF/PRECIP/PRECIP_hindcasts_2001_ECMWF_seasonal_anomalies.nc'),\n PosixPath('/home/nicolasf/research/Smart_Ideas/data/GCMs/NC/ECMWF/PRECIP/PRECIP_hindcasts_2002_ECMWF_seasonal_anomalies.nc'),\n PosixPath('/home/nicolasf/research/Smart_Ideas/data/GCMs/NC/ECMWF/PRECIP/PRECIP_hindcasts_2003_ECMWF_seasonal_anomalies.nc'),\n PosixPath('/home/nicolasf/research/Smart_Ideas/data/GCMs/NC/ECMWF/PRECIP/PRECIP_hindcasts_2004_ECMWF_seasonal_anomalies.nc'),\n PosixPath('/home/nicolasf/research/Smart_Ideas/data/GCMs/NC/ECMWF/PRECIP/PRECIP_hindcasts_2005_ECMWF_seasonal_anomalies.nc'),\n PosixPath('/home/nicolasf/research/Smart_Ideas/data/GCMs/NC/ECMWF/PRECIP/PRECIP_hindcasts_2006_ECMWF_seasonal_anomalies.nc'),\n PosixPath('/home/nicolasf/research/Smart_Ideas/data/GCMs/NC/ECMWF/PRECIP/PRECIP_hindcasts_2007_ECMWF_seasonal_anomalies.nc'),\n PosixPath('/home/nicolasf/research/Smart_Ideas/data/GCMs/NC/ECMWF/PRECIP/PRECIP_hindcasts_2008_ECMWF_seasonal_anomalies.nc'),\n PosixPath('/home/nicolasf/research/Smart_Ideas/data/GCMs/NC/ECMWF/PRECIP/PRECIP_hindcasts_2009_ECMWF_seasonal_anomalies.nc'),\n PosixPath('/home/nicolasf/research/Smart_Ideas/data/GCMs/NC/ECMWF/PRECIP/PRECIP_hindcasts_2010_ECMWF_seasonal_anomalies.nc'),\n PosixPath('/home/nicolasf/research/Smart_Ideas/data/GCMs/NC/ECMWF/PRECIP/PRECIP_hindcasts_2011_ECMWF_seasonal_anomalies.nc'),\n PosixPath('/home/nicolasf/research/Smart_Ideas/data/GCMs/NC/ECMWF/PRECIP/PRECIP_hindcasts_2012_ECMWF_seasonal_anomalies.nc'),\n PosixPath('/home/nicolasf/research/Smart_Ideas/data/GCMs/NC/ECMWF/PRECIP/PRECIP_hindcasts_2013_ECMWF_seasonal_anomalies.nc'),\n PosixPath('/home/nicolasf/research/Smart_Ideas/data/GCMs/NC/ECMWF/PRECIP/PRECIP_hindcasts_2014_ECMWF_seasonal_anomalies.nc'),\n PosixPath('/home/nicolasf/research/Smart_Ideas/data/GCMs/NC/ECMWF/PRECIP/PRECIP_hindcasts_2015_ECMWF_seasonal_anomalies.nc'),\n PosixPath('/home/nicolasf/research/Smart_Ideas/data/GCMs/NC/ECMWF/PRECIP/PRECIP_hindcasts_2016_ECMWF_seasonal_anomalies.nc')]"
       },
       "execution_count": 31,
       "metadata": {},
       "output_type": "execute_result"
      }
     ],
     "persistentId": "9da569ca-1523-4a3f-be48-e85139a8d601",
     "text": "lfiles"
    },
    "executionTime": "2019-12-12T22:11:13.630Z"
   },
   {
    "cell": {
     "executionCount": 32,
     "executionEventId": "fa6560f9-b93b-4559-bfd0-f0d742c486d7",
     "hasError": false,
     "id": "d6c99f4a-cf83-4212-9594-e08feff15922",
     "outputs": [],
     "persistentId": "b61970a5-db79-4142-bf9b-32b7e5a31851",
     "text": "import xarray as xr"
    },
    "executionTime": "2019-12-12T22:11:29.402Z"
   },
   {
    "cell": {
     "executionCount": 33,
     "executionEventId": "18a25a73-d572-4cfc-9ae3-0540d92b75ca",
     "hasError": false,
     "id": "a0bd95b2-d654-4cb5-a332-41f4819c4fde",
     "outputs": [],
     "persistentId": "befc9eb6-54ec-4851-9182-ebcb1bf52a0f",
     "text": "dset = xr.open_dataset(lfiles[0])"
    },
    "executionTime": "2019-12-12T22:11:37.213Z"
   },
   {
    "cell": {
     "executionCount": 34,
     "executionEventId": "900718a4-1a06-4e3b-a562-4bcf5bdcc0bf",
     "hasError": false,
     "id": "387527fa-c819-437f-a93e-5d415c905635",
     "outputs": [
      {
       "data": {
        "text/plain": "<xarray.Dataset>\nDimensions:              (lat: 181, lon: 360, member: 25, step: 3, time: 12)\nCoordinates:\n    surface              int64 ...\n  * step                 (step) int64 3 4 5\n  * time                 (time) datetime64[ns] 1993-01-01 ... 1993-12-01\n  * lon                  (lon) float64 0.0 1.0 2.0 3.0 ... 357.0 358.0 359.0\n  * lat                  (lat) float64 -90.0 -89.0 -88.0 ... 88.0 89.0 90.0\n  * member               (member) int64 0 1 2 3 4 5 6 7 ... 18 19 20 21 22 23 24\nData variables:\n    month                (time) int64 ...\n    forecast_valid_time  (time, step) datetime64[ns] ...\n    precip               (time, step, member, lat, lon) float32 ...\nAttributes:\n    history:  Mon Nov 25 14:44:21 2019: ncrename -v tprate,precip PRECIP_hind...\n    NCO:      netCDF Operators version 4.8.1 (Homepage = http://nco.sf.net, C..."
       },
       "execution_count": 34,
       "metadata": {},
       "output_type": "execute_result"
      }
     ],
     "persistentId": "b4048eda-1bfb-43d4-872d-979373ce65ca",
     "text": "dset"
    },
    "executionTime": "2019-12-12T22:11:39.411Z"
   },
   {
    "cell": {
     "executionCount": 35,
     "executionEventId": "c0cbaae6-55f4-44f4-acb8-b0ce8a948b53",
     "hasError": true,
     "id": "a0bd95b2-d654-4cb5-a332-41f4819c4fde",
     "outputs": [
      {
       "ename": "SyntaxError",
       "evalue": "invalid syntax (<ipython-input-35-2e1704b8d834>, line 1)",
       "output_type": "error",
       "traceback": [
        "\u001b[0;36m  File \u001b[0;32m\"<ipython-input-35-2e1704b8d834>\"\u001b[0;36m, line \u001b[0;32m1\u001b[0m\n\u001b[0;31m    dset = xr.open_dataset(lfiles[-])\u001b[0m\n\u001b[0m                                   ^\u001b[0m\n\u001b[0;31mSyntaxError\u001b[0m\u001b[0;31m:\u001b[0m invalid syntax\n"
       ]
      }
     ],
     "persistentId": "befc9eb6-54ec-4851-9182-ebcb1bf52a0f",
     "text": "dset = xr.open_dataset(lfiles[-])"
    },
    "executionTime": "2019-12-12T22:13:31.972Z"
   },
   {
    "cell": {
     "executionCount": 36,
     "executionEventId": "bb020a50-73dc-438f-a2e2-aab08b2523fe",
     "hasError": false,
     "id": "a0bd95b2-d654-4cb5-a332-41f4819c4fde",
     "outputs": [],
     "persistentId": "befc9eb6-54ec-4851-9182-ebcb1bf52a0f",
     "text": "dset = xr.open_dataset(lfiles[-1])"
    },
    "executionTime": "2019-12-12T22:13:36.197Z"
   },
   {
    "cell": {
     "executionCount": 37,
     "executionEventId": "ecf12807-632f-47b3-9c13-81ea42512c49",
     "hasError": false,
     "id": "387527fa-c819-437f-a93e-5d415c905635",
     "outputs": [
      {
       "data": {
        "text/plain": "<xarray.Dataset>\nDimensions:              (lat: 181, lon: 360, member: 25, step: 3, time: 12)\nCoordinates:\n    surface              int64 ...\n  * step                 (step) int64 3 4 5\n  * time                 (time) datetime64[ns] 2016-01-01 ... 2016-12-01\n  * lon                  (lon) float64 0.0 1.0 2.0 3.0 ... 357.0 358.0 359.0\n  * lat                  (lat) float64 -90.0 -89.0 -88.0 ... 88.0 89.0 90.0\n  * member               (member) int64 0 1 2 3 4 5 6 7 ... 18 19 20 21 22 23 24\nData variables:\n    month                (time) int64 ...\n    forecast_valid_time  (time, step) datetime64[ns] ...\n    precip               (time, step, member, lat, lon) float32 ...\nAttributes:\n    history:  Mon Nov 25 14:44:21 2019: ncrename -v tprate,precip PRECIP_hind...\n    NCO:      netCDF Operators version 4.8.1 (Homepage = http://nco.sf.net, C..."
       },
       "execution_count": 37,
       "metadata": {},
       "output_type": "execute_result"
      }
     ],
     "persistentId": "b4048eda-1bfb-43d4-872d-979373ce65ca",
     "text": "dset"
    },
    "executionTime": "2019-12-12T22:13:36.430Z"
   },
   {
    "cell": {
     "executionCount": 38,
     "executionEventId": "c69823e8-4e1d-4161-82ae-a67d78c66060",
     "hasError": false,
     "id": "387527fa-c819-437f-a93e-5d415c905635",
     "outputs": [
      {
       "data": {
        "text/plain": "Frozen(SortedKeysDict({'step': 3, 'time': 12, 'lon': 360, 'lat': 181, 'member': 25}))"
       },
       "execution_count": 38,
       "metadata": {},
       "output_type": "execute_result"
      }
     ],
     "persistentId": "b4048eda-1bfb-43d4-872d-979373ce65ca",
     "text": "dset.dims"
    },
    "executionTime": "2019-12-12T22:13:44.656Z"
   },
   {
    "cell": {
     "executionCount": 39,
     "executionEventId": "a4db5238-1b9e-45d3-8603-6c7d54bf7898",
     "hasError": false,
     "id": "387527fa-c819-437f-a93e-5d415c905635",
     "outputs": [
      {
       "data": {
        "text/plain": "<bound method Mapping.values of Frozen(SortedKeysDict({'step': 3, 'time': 12, 'lon': 360, 'lat': 181, 'member': 25}))>"
       },
       "execution_count": 39,
       "metadata": {},
       "output_type": "execute_result"
      }
     ],
     "persistentId": "b4048eda-1bfb-43d4-872d-979373ce65ca",
     "text": "dset.dims.values"
    },
    "executionTime": "2019-12-12T22:13:51.400Z"
   },
   {
    "cell": {
     "executionCount": 40,
     "executionEventId": "c2aab928-623f-4ca9-9580-6c6709f0279d",
     "hasError": false,
     "id": "387527fa-c819-437f-a93e-5d415c905635",
     "outputs": [
      {
       "data": {
        "text/plain": "ValuesView(Frozen(SortedKeysDict({'step': 3, 'time': 12, 'lon': 360, 'lat': 181, 'member': 25})))"
       },
       "execution_count": 40,
       "metadata": {},
       "output_type": "execute_result"
      }
     ],
     "persistentId": "b4048eda-1bfb-43d4-872d-979373ce65ca",
     "text": "dset.dims.values()"
    },
    "executionTime": "2019-12-12T22:13:53.917Z"
   },
   {
    "cell": {
     "executionCount": 41,
     "executionEventId": "af2d810c-5c4c-4937-abec-ea152c748e79",
     "hasError": false,
     "id": "387527fa-c819-437f-a93e-5d415c905635",
     "outputs": [
      {
       "data": {
        "text/plain": "Frozen(SortedKeysDict({'step': 3, 'time': 12, 'lon': 360, 'lat': 181, 'member': 25}))"
       },
       "execution_count": 41,
       "metadata": {},
       "output_type": "execute_result"
      }
     ],
     "persistentId": "b4048eda-1bfb-43d4-872d-979373ce65ca",
     "text": "dset.dims"
    },
    "executionTime": "2019-12-12T22:13:57.437Z"
   },
   {
    "cell": {
     "executionCount": 42,
     "executionEventId": "4954eb93-1098-42f6-96fd-cbcde97c25f9",
     "hasError": false,
     "id": "387527fa-c819-437f-a93e-5d415c905635",
     "outputs": [
      {
       "data": {
        "text/plain": "{'lat': 181, 'lon': 360, 'member': 25, 'step': 3, 'time': 12}"
       },
       "execution_count": 42,
       "metadata": {},
       "output_type": "execute_result"
      }
     ],
     "persistentId": "b4048eda-1bfb-43d4-872d-979373ce65ca",
     "text": "dict(dset.dims)"
    },
    "executionTime": "2019-12-12T22:14:03.679Z"
   },
   {
    "cell": {
     "executionCount": 43,
     "executionEventId": "ae9122f7-bedb-4b0c-b8d4-ed4cf237696c",
     "hasError": false,
     "id": "387527fa-c819-437f-a93e-5d415c905635",
     "outputs": [
      {
       "name": "stdout",
       "output_type": "stream",
       "text": "{'lat': 181, 'lon': 360, 'member': 25, 'step': 3, 'time': 12}\n"
      }
     ],
     "persistentId": "b4048eda-1bfb-43d4-872d-979373ce65ca",
     "text": "print(dict(dset.dims))"
    },
    "executionTime": "2019-12-12T22:14:43.105Z"
   },
   {
    "cell": {
     "executionCount": 44,
     "executionEventId": "71082ce6-5dde-4681-b437-833af5001e95",
     "hasError": false,
     "id": "387527fa-c819-437f-a93e-5d415c905635",
     "outputs": [
      {
       "name": "stdout",
       "output_type": "stream",
       "text": "{'lat': 181, 'lon': 360, 'member': 25, 'step': 3, 'time': 12}\n"
      }
     ],
     "persistentId": "b4048eda-1bfb-43d4-872d-979373ce65ca",
     "text": "print(f\"{dict(dset.dims)}\")"
    },
    "executionTime": "2019-12-12T22:14:52.471Z"
   },
   {
    "cell": {
     "executionCount": 45,
     "executionEventId": "f8f7de14-a892-4edc-88ac-8cc80b99bb90",
     "hasError": true,
     "id": "387527fa-c819-437f-a93e-5d415c905635",
     "outputs": [
      {
       "ename": "NameError",
       "evalue": "name 'fname' is not defined",
       "output_type": "error",
       "traceback": [
        "\u001b[0;31m---------------------------------------------------------------------------\u001b[0m",
        "\u001b[0;31mNameError\u001b[0m                                 Traceback (most recent call last)",
        "\u001b[0;32m<ipython-input-45-de9ad2b73587>\u001b[0m in \u001b[0;36m<module>\u001b[0;34m\u001b[0m\n\u001b[0;32m----> 1\u001b[0;31m \u001b[0mprint\u001b[0m\u001b[0;34m(\u001b[0m\u001b[0;34mf\"{fname}: {dict(dset.dims)}\"\u001b[0m\u001b[0;34m)\u001b[0m\u001b[0;34m\u001b[0m\u001b[0;34m\u001b[0m\u001b[0m\n\u001b[0m",
        "\u001b[0;31mNameError\u001b[0m: name 'fname' is not defined"
       ]
      }
     ],
     "persistentId": "b4048eda-1bfb-43d4-872d-979373ce65ca",
     "text": "print(f\"{fname}: {dict(dset.dims)}\")"
    },
    "executionTime": "2019-12-12T22:15:05.291Z"
   },
   {
    "cell": {
     "executionCount": 46,
     "executionEventId": "28346f6b-8e89-4ec8-949e-2b51adefb0c0",
     "hasError": false,
     "id": "8548d3a6-c785-4db7-849d-9676a0e24337",
     "outputs": [
      {
       "name": "stdout",
       "output_type": "stream",
       "text": "/home/nicolasf/research/Smart_Ideas/data/GCMs/NC/ECMWF/PRECIP/PRECIP_hindcasts_1993_ECMWF_seasonal_anomalies.nc: {'lat': 181, 'lon': 360, 'member': 25, 'step': 3, 'time': 12}\n/home/nicolasf/research/Smart_Ideas/data/GCMs/NC/ECMWF/PRECIP/PRECIP_hindcasts_1994_ECMWF_seasonal_anomalies.nc: {'lat': 181, 'lon': 360, 'member': 25, 'step': 3, 'time': 12}\n/home/nicolasf/research/Smart_Ideas/data/GCMs/NC/ECMWF/PRECIP/PRECIP_hindcasts_1995_ECMWF_seasonal_anomalies.nc: {'lat': 181, 'lon': 360, 'member': 25, 'step': 3, 'time': 12}\n/home/nicolasf/research/Smart_Ideas/data/GCMs/NC/ECMWF/PRECIP/PRECIP_hindcasts_1996_ECMWF_seasonal_anomalies.nc: {'lat': 181, 'lon': 360, 'member': 25, 'step': 3, 'time': 12}\n/home/nicolasf/research/Smart_Ideas/data/GCMs/NC/ECMWF/PRECIP/PRECIP_hindcasts_1997_ECMWF_seasonal_anomalies.nc: {'lat': 181, 'lon': 360, 'member': 25, 'step': 3, 'time': 12}\n/home/nicolasf/research/Smart_Ideas/data/GCMs/NC/ECMWF/PRECIP/PRECIP_hindcasts_1998_ECMWF_seasonal_anomalies.nc: {'lat': 181, 'lon': 360, 'member': 25, 'step': 3, 'time': 12}\n/home/nicolasf/research/Smart_Ideas/data/GCMs/NC/ECMWF/PRECIP/PRECIP_hindcasts_1999_ECMWF_seasonal_anomalies.nc: {'lat': 181, 'lon': 360, 'member': 25, 'step': 3, 'time': 12}\n/home/nicolasf/research/Smart_Ideas/data/GCMs/NC/ECMWF/PRECIP/PRECIP_hindcasts_2000_ECMWF_seasonal_anomalies.nc: {'lat': 181, 'lon': 360, 'member': 25, 'step': 3, 'time': 12}\n/home/nicolasf/research/Smart_Ideas/data/GCMs/NC/ECMWF/PRECIP/PRECIP_hindcasts_2001_ECMWF_seasonal_anomalies.nc: {'lat': 181, 'lon': 360, 'member': 25, 'step': 3, 'time': 12}\n/home/nicolasf/research/Smart_Ideas/data/GCMs/NC/ECMWF/PRECIP/PRECIP_hindcasts_2002_ECMWF_seasonal_anomalies.nc: {'lat': 181, 'lon': 360, 'member': 25, 'step': 3, 'time': 12}\n/home/nicolasf/research/Smart_Ideas/data/GCMs/NC/ECMWF/PRECIP/PRECIP_hindcasts_2003_ECMWF_seasonal_anomalies.nc: {'lat': 181, 'lon': 360, 'member': 25, 'step': 3, 'time': 12}\n/home/nicolasf/research/Smart_Ideas/data/GCMs/NC/ECMWF/PRECIP/PRECIP_hindcasts_2004_ECMWF_seasonal_anomalies.nc: {'lat': 181, 'lon': 360, 'member': 25, 'step': 3, 'time': 12}\n/home/nicolasf/research/Smart_Ideas/data/GCMs/NC/ECMWF/PRECIP/PRECIP_hindcasts_2005_ECMWF_seasonal_anomalies.nc: {'lat': 181, 'lon': 360, 'member': 25, 'step': 3, 'time': 12}\n/home/nicolasf/research/Smart_Ideas/data/GCMs/NC/ECMWF/PRECIP/PRECIP_hindcasts_2006_ECMWF_seasonal_anomalies.nc: {'lat': 181, 'lon': 360, 'member': 25, 'step': 3, 'time': 12}\n/home/nicolasf/research/Smart_Ideas/data/GCMs/NC/ECMWF/PRECIP/PRECIP_hindcasts_2007_ECMWF_seasonal_anomalies.nc: {'lat': 181, 'lon': 360, 'member': 25, 'step': 3, 'time': 12}\n/home/nicolasf/research/Smart_Ideas/data/GCMs/NC/ECMWF/PRECIP/PRECIP_hindcasts_2008_ECMWF_seasonal_anomalies.nc: {'lat': 181, 'lon': 360, 'member': 25, 'step': 3, 'time': 12}\n/home/nicolasf/research/Smart_Ideas/data/GCMs/NC/ECMWF/PRECIP/PRECIP_hindcasts_2009_ECMWF_seasonal_anomalies.nc: {'lat': 181, 'lon': 360, 'member': 25, 'step': 3, 'time': 12}\n/home/nicolasf/research/Smart_Ideas/data/GCMs/NC/ECMWF/PRECIP/PRECIP_hindcasts_2010_ECMWF_seasonal_anomalies.nc: {'lat': 181, 'lon': 360, 'member': 25, 'step': 3, 'time': 12}\n/home/nicolasf/research/Smart_Ideas/data/GCMs/NC/ECMWF/PRECIP/PRECIP_hindcasts_2011_ECMWF_seasonal_anomalies.nc: {'lat': 181, 'lon': 360, 'member': 25, 'step': 3, 'time': 12}\n/home/nicolasf/research/Smart_Ideas/data/GCMs/NC/ECMWF/PRECIP/PRECIP_hindcasts_2012_ECMWF_seasonal_anomalies.nc: {'lat': 181, 'lon': 360, 'member': 25, 'step': 3, 'time': 12}\n/home/nicolasf/research/Smart_Ideas/data/GCMs/NC/ECMWF/PRECIP/PRECIP_hindcasts_2013_ECMWF_seasonal_anomalies.nc: {'lat': 181, 'lon': 360, 'member': 25, 'step': 3, 'time': 12}\n/home/nicolasf/research/Smart_Ideas/data/GCMs/NC/ECMWF/PRECIP/PRECIP_hindcasts_2014_ECMWF_seasonal_anomalies.nc: {'lat': 181, 'lon': 360, 'member': 25, 'step': 3, 'time': 12}\n/home/nicolasf/research/Smart_Ideas/data/GCMs/NC/ECMWF/PRECIP/PRECIP_hindcasts_2015_ECMWF_seasonal_anomalies.nc: {'lat': 181, 'lon': 360, 'member': 25, 'step': 3, 'time': 12}\n/home/nicolasf/research/Smart_Ideas/data/GCMs/NC/ECMWF/PRECIP/PRECIP_hindcasts_2016_ECMWF_seasonal_anomalies.nc: {'lat': 181, 'lon': 360, 'member': 25, 'step': 3, 'time': 12}\n"
      }
     ],
     "persistentId": "d521ff46-8313-4d26-a448-50aaf20e1097",
     "text": "for fname in lfiles: \n    dset = xr.open_dataset(fname)\n    print(f\"{fname}: {dict(dset.dims)}\")\n    dset.close()"
    },
    "executionTime": "2019-12-12T22:15:19.525Z"
   },
   {
    "cell": {
     "executionCount": 47,
     "executionEventId": "931b73f1-1eb6-447e-8608-f9b00390b3e4",
     "hasError": false,
     "id": "8548d3a6-c785-4db7-849d-9676a0e24337",
     "outputs": [
      {
       "name": "stdout",
       "output_type": "stream",
       "text": "PRECIP_hindcasts_1993_ECMWF_seasonal_anomalies.nc: {'lat': 181, 'lon': 360, 'member': 25, 'step': 3, 'time': 12}\nPRECIP_hindcasts_1994_ECMWF_seasonal_anomalies.nc: {'lat': 181, 'lon': 360, 'member': 25, 'step': 3, 'time': 12}\nPRECIP_hindcasts_1995_ECMWF_seasonal_anomalies.nc: {'lat': 181, 'lon': 360, 'member': 25, 'step': 3, 'time': 12}\nPRECIP_hindcasts_1996_ECMWF_seasonal_anomalies.nc: {'lat': 181, 'lon': 360, 'member': 25, 'step': 3, 'time': 12}\nPRECIP_hindcasts_1997_ECMWF_seasonal_anomalies.nc: {'lat': 181, 'lon': 360, 'member': 25, 'step': 3, 'time': 12}\nPRECIP_hindcasts_1998_ECMWF_seasonal_anomalies.nc: {'lat': 181, 'lon': 360, 'member': 25, 'step': 3, 'time': 12}\nPRECIP_hindcasts_1999_ECMWF_seasonal_anomalies.nc: {'lat': 181, 'lon': 360, 'member': 25, 'step': 3, 'time': 12}\nPRECIP_hindcasts_2000_ECMWF_seasonal_anomalies.nc: {'lat': 181, 'lon': 360, 'member': 25, 'step': 3, 'time': 12}\nPRECIP_hindcasts_2001_ECMWF_seasonal_anomalies.nc: {'lat': 181, 'lon': 360, 'member': 25, 'step': 3, 'time': 12}\nPRECIP_hindcasts_2002_ECMWF_seasonal_anomalies.nc: {'lat': 181, 'lon': 360, 'member': 25, 'step': 3, 'time': 12}\nPRECIP_hindcasts_2003_ECMWF_seasonal_anomalies.nc: {'lat': 181, 'lon': 360, 'member': 25, 'step': 3, 'time': 12}\nPRECIP_hindcasts_2004_ECMWF_seasonal_anomalies.nc: {'lat': 181, 'lon': 360, 'member': 25, 'step': 3, 'time': 12}\nPRECIP_hindcasts_2005_ECMWF_seasonal_anomalies.nc: {'lat': 181, 'lon': 360, 'member': 25, 'step': 3, 'time': 12}\nPRECIP_hindcasts_2006_ECMWF_seasonal_anomalies.nc: {'lat': 181, 'lon': 360, 'member': 25, 'step': 3, 'time': 12}\nPRECIP_hindcasts_2007_ECMWF_seasonal_anomalies.nc: {'lat': 181, 'lon': 360, 'member': 25, 'step': 3, 'time': 12}\nPRECIP_hindcasts_2008_ECMWF_seasonal_anomalies.nc: {'lat': 181, 'lon': 360, 'member': 25, 'step': 3, 'time': 12}\nPRECIP_hindcasts_2009_ECMWF_seasonal_anomalies.nc: {'lat': 181, 'lon': 360, 'member': 25, 'step': 3, 'time': 12}\nPRECIP_hindcasts_2010_ECMWF_seasonal_anomalies.nc: {'lat': 181, 'lon': 360, 'member': 25, 'step': 3, 'time': 12}\nPRECIP_hindcasts_2011_ECMWF_seasonal_anomalies.nc: {'lat': 181, 'lon': 360, 'member': 25, 'step': 3, 'time': 12}\nPRECIP_hindcasts_2012_ECMWF_seasonal_anomalies.nc: {'lat': 181, 'lon': 360, 'member': 25, 'step': 3, 'time': 12}\nPRECIP_hindcasts_2013_ECMWF_seasonal_anomalies.nc: {'lat': 181, 'lon': 360, 'member': 25, 'step': 3, 'time': 12}\nPRECIP_hindcasts_2014_ECMWF_seasonal_anomalies.nc: {'lat': 181, 'lon': 360, 'member': 25, 'step': 3, 'time': 12}\nPRECIP_hindcasts_2015_ECMWF_seasonal_anomalies.nc: {'lat': 181, 'lon': 360, 'member': 25, 'step': 3, 'time': 12}\nPRECIP_hindcasts_2016_ECMWF_seasonal_anomalies.nc: {'lat': 181, 'lon': 360, 'member': 25, 'step': 3, 'time': 12}\n"
      }
     ],
     "persistentId": "d521ff46-8313-4d26-a448-50aaf20e1097",
     "text": "for fname in lfiles: \n    dset = xr.open_dataset(fname)\n    print(f\"{fname.name}: {dict(dset.dims)}\")\n    dset.close()"
    },
    "executionTime": "2019-12-12T22:15:27.623Z"
   },
   {
    "cell": {
     "executionCount": 48,
     "executionEventId": "8f3af95d-eca6-48f4-8e67-33f72836e6c3",
     "hasError": false,
     "id": "5e82ce1f-fdf8-4e3d-bd05-550df2d2da4c",
     "outputs": [],
     "persistentId": "8f44f40e-831d-40c5-99d4-c24eb5522bcb",
     "text": "GCM = 'T2M'"
    },
    "executionTime": "2019-12-12T22:15:49.070Z"
   },
   {
    "cell": {
     "executionCount": 49,
     "executionEventId": "577ec000-b66e-4cb3-ac48-57ab3debe83b",
     "hasError": false,
     "id": "c2ffe35c-c0c5-42f3-875e-613d06ecc59a",
     "outputs": [],
     "persistentId": "c34d5d8a-150f-43ae-ba5d-abd92234ee07",
     "text": "var_name = 'PRECIP'"
    },
    "executionTime": "2019-12-12T22:15:49.289Z"
   },
   {
    "cell": {
     "executionCount": 50,
     "executionEventId": "41407635-e185-40ce-90e1-9eb04021f5be",
     "hasError": false,
     "id": "dff3e9b1-8e8e-4b07-aa16-dd1e0c457d8f",
     "outputs": [],
     "persistentId": "72a28aa3-e883-4149-a8e2-05845e5753d9",
     "text": "dpath = HOME / 'research' / 'Smart_Ideas' / 'data' / 'GCMs' / 'NC' / GCM / var_name"
    },
    "executionTime": "2019-12-12T22:15:49.548Z"
   },
   {
    "cell": {
     "executionCount": 51,
     "executionEventId": "4f8bc1a9-f78b-4445-ad7c-c56071f0bcb2",
     "hasError": false,
     "id": "b8d40a49-05fb-46e5-a6d9-cb25aabbf235",
     "outputs": [],
     "persistentId": "85905907-ef5a-4439-954c-c83b8518e9c4",
     "text": "lfiles = list(dpath.rglob(\"*_seasonal_anomalies.nc\"))"
    },
    "executionTime": "2019-12-12T22:15:49.745Z"
   },
   {
    "cell": {
     "executionCount": 52,
     "executionEventId": "3ad5c71b-f6a5-4300-aba1-4cc2612b6f0d",
     "hasError": false,
     "id": "39c7ccf6-7046-4592-8305-a29458ce8e58",
     "outputs": [],
     "persistentId": "fb474e4d-997a-40f5-921d-364c28457c9c",
     "text": "lfiles.sort()"
    },
    "executionTime": "2019-12-12T22:15:49.796Z"
   },
   {
    "cell": {
     "executionCount": 53,
     "executionEventId": "0a2d3439-1706-4a13-ba23-25f9844f0639",
     "hasError": false,
     "id": "981856e8-2eda-41a9-b084-52473891325f",
     "outputs": [
      {
       "data": {
        "text/plain": "[]"
       },
       "execution_count": 53,
       "metadata": {},
       "output_type": "execute_result"
      }
     ],
     "persistentId": "9da569ca-1523-4a3f-be48-e85139a8d601",
     "text": "lfiles"
    },
    "executionTime": "2019-12-12T22:15:50.005Z"
   },
   {
    "cell": {
     "executionCount": 54,
     "executionEventId": "55c7d220-ebfb-4ff7-9402-643431467d4e",
     "hasError": false,
     "id": "8548d3a6-c785-4db7-849d-9676a0e24337",
     "outputs": [],
     "persistentId": "d521ff46-8313-4d26-a448-50aaf20e1097",
     "text": "for fname in lfiles: \n    dset = xr.open_dataset(fname)\n    print(f\"{fname.name}: {dict(dset.dims)}\")\n    dset.close()"
    },
    "executionTime": "2019-12-12T22:15:50.399Z"
   },
   {
    "cell": {
     "executionCount": 55,
     "executionEventId": "b2d48019-27b9-46a1-8ec5-da7afa49526a",
     "hasError": false,
     "id": "c2ffe35c-c0c5-42f3-875e-613d06ecc59a",
     "outputs": [],
     "persistentId": "c34d5d8a-150f-43ae-ba5d-abd92234ee07",
     "text": "var_name = 'T2M'"
    },
    "executionTime": "2019-12-12T22:16:03.041Z"
   },
   {
    "cell": {
     "executionCount": 56,
     "executionEventId": "54107f79-11af-4a50-ac56-3b6c4ef254a8",
     "hasError": false,
     "id": "dff3e9b1-8e8e-4b07-aa16-dd1e0c457d8f",
     "outputs": [],
     "persistentId": "72a28aa3-e883-4149-a8e2-05845e5753d9",
     "text": "dpath = HOME / 'research' / 'Smart_Ideas' / 'data' / 'GCMs' / 'NC' / GCM / var_name"
    },
    "executionTime": "2019-12-12T22:16:03.210Z"
   },
   {
    "cell": {
     "executionCount": 57,
     "executionEventId": "eebc93cf-ea9f-45c7-8227-0fee5955433a",
     "hasError": false,
     "id": "b8d40a49-05fb-46e5-a6d9-cb25aabbf235",
     "outputs": [],
     "persistentId": "85905907-ef5a-4439-954c-c83b8518e9c4",
     "text": "lfiles = list(dpath.rglob(\"*_seasonal_anomalies.nc\"))"
    },
    "executionTime": "2019-12-12T22:16:03.342Z"
   },
   {
    "cell": {
     "executionCount": 58,
     "executionEventId": "a6c109c7-35fa-45c3-8e85-a3c6d1663171",
     "hasError": false,
     "id": "39c7ccf6-7046-4592-8305-a29458ce8e58",
     "outputs": [],
     "persistentId": "fb474e4d-997a-40f5-921d-364c28457c9c",
     "text": "lfiles.sort()"
    },
    "executionTime": "2019-12-12T22:16:03.509Z"
   },
   {
    "cell": {
     "executionCount": 59,
     "executionEventId": "da6fc73a-d818-48ac-b734-dc05b00dbad0",
     "hasError": false,
     "id": "981856e8-2eda-41a9-b084-52473891325f",
     "outputs": [
      {
       "data": {
        "text/plain": "[]"
       },
       "execution_count": 59,
       "metadata": {},
       "output_type": "execute_result"
      }
     ],
     "persistentId": "9da569ca-1523-4a3f-be48-e85139a8d601",
     "text": "lfiles"
    },
    "executionTime": "2019-12-12T22:16:04.020Z"
   },
   {
    "cell": {
     "executionCount": 60,
     "executionEventId": "dd82f119-2031-4a59-a43c-0eac1555a8e2",
     "hasError": false,
     "id": "5e82ce1f-fdf8-4e3d-bd05-550df2d2da4c",
     "outputs": [],
     "persistentId": "8f44f40e-831d-40c5-99d4-c24eb5522bcb",
     "text": "GCM = 'ECMWF'"
    },
    "executionTime": "2019-12-12T22:16:25.324Z"
   },
   {
    "cell": {
     "executionCount": 61,
     "executionEventId": "c9b4bcd7-0670-41e6-8f87-fe4029947ce2",
     "hasError": false,
     "id": "c2ffe35c-c0c5-42f3-875e-613d06ecc59a",
     "outputs": [],
     "persistentId": "c34d5d8a-150f-43ae-ba5d-abd92234ee07",
     "text": "var_name = 'T2M'"
    },
    "executionTime": "2019-12-12T22:16:25.837Z"
   },
   {
    "cell": {
     "executionCount": 62,
     "executionEventId": "dd776752-325f-4f5f-9bbb-76bc9d448e6d",
     "hasError": false,
     "id": "dff3e9b1-8e8e-4b07-aa16-dd1e0c457d8f",
     "outputs": [],
     "persistentId": "72a28aa3-e883-4149-a8e2-05845e5753d9",
     "text": "dpath = HOME / 'research' / 'Smart_Ideas' / 'data' / 'GCMs' / 'NC' / GCM / var_name"
    },
    "executionTime": "2019-12-12T22:16:28.223Z"
   },
   {
    "cell": {
     "executionCount": 63,
     "executionEventId": "36d58b60-5645-43c4-acc4-625c3e0c9905",
     "hasError": false,
     "id": "b8d40a49-05fb-46e5-a6d9-cb25aabbf235",
     "outputs": [],
     "persistentId": "85905907-ef5a-4439-954c-c83b8518e9c4",
     "text": "lfiles = list(dpath.rglob(\"*_seasonal_anomalies.nc\"))"
    },
    "executionTime": "2019-12-12T22:16:29.532Z"
   },
   {
    "cell": {
     "executionCount": 64,
     "executionEventId": "e1cf38ba-1fff-48bc-802d-a5a1ce7c17cd",
     "hasError": false,
     "id": "39c7ccf6-7046-4592-8305-a29458ce8e58",
     "outputs": [],
     "persistentId": "fb474e4d-997a-40f5-921d-364c28457c9c",
     "text": "lfiles.sort()"
    },
    "executionTime": "2019-12-12T22:16:29.952Z"
   },
   {
    "cell": {
     "executionCount": 65,
     "executionEventId": "90a18ca2-f32e-45f9-802f-de7db1f76ee1",
     "hasError": false,
     "id": "981856e8-2eda-41a9-b084-52473891325f",
     "outputs": [
      {
       "data": {
        "text/plain": "[PosixPath('/home/nicolasf/research/Smart_Ideas/data/GCMs/NC/ECMWF/T2M/T2M_hindcasts_1993_ECMWF_seasonal_anomalies.nc'),\n PosixPath('/home/nicolasf/research/Smart_Ideas/data/GCMs/NC/ECMWF/T2M/T2M_hindcasts_1994_ECMWF_seasonal_anomalies.nc'),\n PosixPath('/home/nicolasf/research/Smart_Ideas/data/GCMs/NC/ECMWF/T2M/T2M_hindcasts_1995_ECMWF_seasonal_anomalies.nc'),\n PosixPath('/home/nicolasf/research/Smart_Ideas/data/GCMs/NC/ECMWF/T2M/T2M_hindcasts_1996_ECMWF_seasonal_anomalies.nc'),\n PosixPath('/home/nicolasf/research/Smart_Ideas/data/GCMs/NC/ECMWF/T2M/T2M_hindcasts_1997_ECMWF_seasonal_anomalies.nc'),\n PosixPath('/home/nicolasf/research/Smart_Ideas/data/GCMs/NC/ECMWF/T2M/T2M_hindcasts_1998_ECMWF_seasonal_anomalies.nc'),\n PosixPath('/home/nicolasf/research/Smart_Ideas/data/GCMs/NC/ECMWF/T2M/T2M_hindcasts_1999_ECMWF_seasonal_anomalies.nc'),\n PosixPath('/home/nicolasf/research/Smart_Ideas/data/GCMs/NC/ECMWF/T2M/T2M_hindcasts_2000_ECMWF_seasonal_anomalies.nc'),\n PosixPath('/home/nicolasf/research/Smart_Ideas/data/GCMs/NC/ECMWF/T2M/T2M_hindcasts_2001_ECMWF_seasonal_anomalies.nc'),\n PosixPath('/home/nicolasf/research/Smart_Ideas/data/GCMs/NC/ECMWF/T2M/T2M_hindcasts_2002_ECMWF_seasonal_anomalies.nc'),\n PosixPath('/home/nicolasf/research/Smart_Ideas/data/GCMs/NC/ECMWF/T2M/T2M_hindcasts_2003_ECMWF_seasonal_anomalies.nc'),\n PosixPath('/home/nicolasf/research/Smart_Ideas/data/GCMs/NC/ECMWF/T2M/T2M_hindcasts_2004_ECMWF_seasonal_anomalies.nc'),\n PosixPath('/home/nicolasf/research/Smart_Ideas/data/GCMs/NC/ECMWF/T2M/T2M_hindcasts_2005_ECMWF_seasonal_anomalies.nc'),\n PosixPath('/home/nicolasf/research/Smart_Ideas/data/GCMs/NC/ECMWF/T2M/T2M_hindcasts_2006_ECMWF_seasonal_anomalies.nc'),\n PosixPath('/home/nicolasf/research/Smart_Ideas/data/GCMs/NC/ECMWF/T2M/T2M_hindcasts_2007_ECMWF_seasonal_anomalies.nc'),\n PosixPath('/home/nicolasf/research/Smart_Ideas/data/GCMs/NC/ECMWF/T2M/T2M_hindcasts_2008_ECMWF_seasonal_anomalies.nc'),\n PosixPath('/home/nicolasf/research/Smart_Ideas/data/GCMs/NC/ECMWF/T2M/T2M_hindcasts_2009_ECMWF_seasonal_anomalies.nc'),\n PosixPath('/home/nicolasf/research/Smart_Ideas/data/GCMs/NC/ECMWF/T2M/T2M_hindcasts_2010_ECMWF_seasonal_anomalies.nc'),\n PosixPath('/home/nicolasf/research/Smart_Ideas/data/GCMs/NC/ECMWF/T2M/T2M_hindcasts_2011_ECMWF_seasonal_anomalies.nc'),\n PosixPath('/home/nicolasf/research/Smart_Ideas/data/GCMs/NC/ECMWF/T2M/T2M_hindcasts_2012_ECMWF_seasonal_anomalies.nc'),\n PosixPath('/home/nicolasf/research/Smart_Ideas/data/GCMs/NC/ECMWF/T2M/T2M_hindcasts_2013_ECMWF_seasonal_anomalies.nc'),\n PosixPath('/home/nicolasf/research/Smart_Ideas/data/GCMs/NC/ECMWF/T2M/T2M_hindcasts_2014_ECMWF_seasonal_anomalies.nc'),\n PosixPath('/home/nicolasf/research/Smart_Ideas/data/GCMs/NC/ECMWF/T2M/T2M_hindcasts_2015_ECMWF_seasonal_anomalies.nc'),\n PosixPath('/home/nicolasf/research/Smart_Ideas/data/GCMs/NC/ECMWF/T2M/T2M_hindcasts_2016_ECMWF_seasonal_anomalies.nc')]"
       },
       "execution_count": 65,
       "metadata": {},
       "output_type": "execute_result"
      }
     ],
     "persistentId": "9da569ca-1523-4a3f-be48-e85139a8d601",
     "text": "lfiles"
    },
    "executionTime": "2019-12-12T22:16:30.284Z"
   },
   {
    "cell": {
     "executionCount": 66,
     "executionEventId": "ea7d1c4f-8f34-43b7-bc00-7b9d30a93314",
     "hasError": false,
     "id": "8548d3a6-c785-4db7-849d-9676a0e24337",
     "outputs": [
      {
       "name": "stdout",
       "output_type": "stream",
       "text": "T2M_hindcasts_1993_ECMWF_seasonal_anomalies.nc: {'lat': 181, 'lon': 360, 'member': 25, 'step': 3, 'time': 12}\nT2M_hindcasts_1994_ECMWF_seasonal_anomalies.nc: {'lat': 181, 'lon': 360, 'member': 25, 'step': 3, 'time': 12}\nT2M_hindcasts_1995_ECMWF_seasonal_anomalies.nc: {'lat': 181, 'lon': 360, 'member': 25, 'step': 3, 'time': 12}\nT2M_hindcasts_1996_ECMWF_seasonal_anomalies.nc: {'lat': 181, 'lon': 360, 'member': 25, 'step': 3, 'time': 12}\nT2M_hindcasts_1997_ECMWF_seasonal_anomalies.nc: {'lat': 181, 'lon': 360, 'member': 25, 'step': 3, 'time': 12}\nT2M_hindcasts_1998_ECMWF_seasonal_anomalies.nc: {'lat': 181, 'lon': 360, 'member': 25, 'step': 3, 'time': 12}\nT2M_hindcasts_1999_ECMWF_seasonal_anomalies.nc: {'lat': 181, 'lon': 360, 'member': 25, 'step': 3, 'time': 12}\nT2M_hindcasts_2000_ECMWF_seasonal_anomalies.nc: {'lat': 181, 'lon': 360, 'member': 25, 'step': 3, 'time': 12}\nT2M_hindcasts_2001_ECMWF_seasonal_anomalies.nc: {'lat': 181, 'lon': 360, 'member': 25, 'step': 3, 'time': 12}\nT2M_hindcasts_2002_ECMWF_seasonal_anomalies.nc: {'lat': 181, 'lon': 360, 'member': 25, 'step': 3, 'time': 12}\nT2M_hindcasts_2003_ECMWF_seasonal_anomalies.nc: {'lat': 181, 'lon': 360, 'member': 25, 'step': 3, 'time': 12}\nT2M_hindcasts_2004_ECMWF_seasonal_anomalies.nc: {'lat': 181, 'lon': 360, 'member': 25, 'step': 3, 'time': 12}\nT2M_hindcasts_2005_ECMWF_seasonal_anomalies.nc: {'lat': 181, 'lon': 360, 'member': 25, 'step': 3, 'time': 12}\nT2M_hindcasts_2006_ECMWF_seasonal_anomalies.nc: {'lat': 181, 'lon': 360, 'member': 25, 'step': 3, 'time': 12}\nT2M_hindcasts_2007_ECMWF_seasonal_anomalies.nc: {'lat': 181, 'lon': 360, 'member': 25, 'step': 3, 'time': 12}\nT2M_hindcasts_2008_ECMWF_seasonal_anomalies.nc: {'lat': 181, 'lon': 360, 'member': 25, 'step': 3, 'time': 12}\nT2M_hindcasts_2009_ECMWF_seasonal_anomalies.nc: {'lat': 181, 'lon': 360, 'member': 25, 'step': 3, 'time': 12}\nT2M_hindcasts_2010_ECMWF_seasonal_anomalies.nc: {'lat': 181, 'lon': 360, 'member': 25, 'step': 3, 'time': 12}\nT2M_hindcasts_2011_ECMWF_seasonal_anomalies.nc: {'lat': 181, 'lon': 360, 'member': 25, 'step': 3, 'time': 12}\nT2M_hindcasts_2012_ECMWF_seasonal_anomalies.nc: {'lat': 181, 'lon': 360, 'member': 25, 'step': 3, 'time': 12}\nT2M_hindcasts_2013_ECMWF_seasonal_anomalies.nc: {'lat': 181, 'lon': 360, 'member': 25, 'step': 3, 'time': 12}\nT2M_hindcasts_2014_ECMWF_seasonal_anomalies.nc: {'lat': 181, 'lon': 360, 'member': 25, 'step': 3, 'time': 12}\nT2M_hindcasts_2015_ECMWF_seasonal_anomalies.nc: {'lat': 181, 'lon': 360, 'member': 25, 'step': 3, 'time': 12}\nT2M_hindcasts_2016_ECMWF_seasonal_anomalies.nc: {'lat': 181, 'lon': 360, 'member': 25, 'step': 3, 'time': 12}\n"
      }
     ],
     "persistentId": "d521ff46-8313-4d26-a448-50aaf20e1097",
     "text": "for fname in lfiles: \n    dset = xr.open_dataset(fname)\n    print(f\"{fname.name}: {dict(dset.dims)}\")\n    dset.close()"
    },
    "executionTime": "2019-12-12T22:16:36.680Z"
   },
   {
    "cell": {
     "executionCount": 67,
     "executionEventId": "6b18f6e1-0788-4114-9b15-e4061cfc4f4f",
     "hasError": false,
     "id": "09eee3f3-07b0-4b3e-bd6f-99b2861a3474",
     "outputs": [
      {
       "data": {
        "text/plain": "<xarray.Dataset>\nDimensions:              (lat: 181, lon: 360, member: 25, step: 3, time: 12)\nCoordinates:\n    surface              int64 ...\n  * step                 (step) int64 3 4 5\n  * time                 (time) datetime64[ns] 2016-01-01 ... 2016-12-01\n  * lon                  (lon) float64 0.0 1.0 2.0 3.0 ... 357.0 358.0 359.0\n  * lat                  (lat) float64 -90.0 -89.0 -88.0 ... 88.0 89.0 90.0\n  * member               (member) int64 0 1 2 3 4 5 6 7 ... 18 19 20 21 22 23 24\nData variables:\n    t2m                  (time, step, member, lat, lon) float32 ...\n    month                (time) int64 ...\n    forecast_valid_time  (time, step) datetime64[ns] ...\nAttributes:\n    history:  Mon Nov 25 14:37:54 2019: ncrename -d longitude,lon -d latitude...\n    NCO:      netCDF Operators version 4.8.1 (Homepage = http://nco.sf.net, C..."
       },
       "execution_count": 67,
       "metadata": {},
       "output_type": "execute_result"
      }
     ],
     "persistentId": "9a87d325-974d-402a-92f0-8224baa60fff",
     "text": "dset"
    },
    "executionTime": "2019-12-12T22:16:42.071Z"
   },
   {
    "cell": {
     "executionCount": 68,
     "executionEventId": "be72de10-0dd5-47e3-9119-f53bfa0f8692",
     "hasError": false,
     "id": "09eee3f3-07b0-4b3e-bd6f-99b2861a3474",
     "outputs": [
      {
       "data": {
        "text/plain": "Data variables:\n    t2m                  (time, step, member, lat, lon) float32 ...\n    month                (time) int64 ...\n    forecast_valid_time  (time, step) datetime64[ns] ..."
       },
       "execution_count": 68,
       "metadata": {},
       "output_type": "execute_result"
      }
     ],
     "persistentId": "9a87d325-974d-402a-92f0-8224baa60fff",
     "text": "dset.data_vars"
    },
    "executionTime": "2019-12-12T22:16:49.151Z"
   },
   {
    "cell": {
     "executionCount": 69,
     "executionEventId": "fc8e13a6-cb94-4b13-ac35-2f5fa53419c5",
     "hasError": false,
     "id": "c2ffe35c-c0c5-42f3-875e-613d06ecc59a",
     "outputs": [],
     "persistentId": "c34d5d8a-150f-43ae-ba5d-abd92234ee07",
     "text": "var_name = 'SST'"
    },
    "executionTime": "2019-12-12T22:37:27.934Z"
   },
   {
    "cell": {
     "executionCount": 70,
     "executionEventId": "7c6cd3a0-bdb9-4d94-8e09-64d916ad2612",
     "hasError": false,
     "id": "5e82ce1f-fdf8-4e3d-bd05-550df2d2da4c",
     "outputs": [],
     "persistentId": "8f44f40e-831d-40c5-99d4-c24eb5522bcb",
     "text": "GCM = 'ECMWF'"
    },
    "executionTime": "2019-12-12T22:37:29.225Z"
   },
   {
    "cell": {
     "executionCount": 71,
     "executionEventId": "cbb59ec0-81b3-477e-b14f-b630eeab57e9",
     "hasError": false,
     "id": "c2ffe35c-c0c5-42f3-875e-613d06ecc59a",
     "outputs": [],
     "persistentId": "c34d5d8a-150f-43ae-ba5d-abd92234ee07",
     "text": "var_name = 'SST'"
    },
    "executionTime": "2019-12-12T22:37:29.389Z"
   },
   {
    "cell": {
     "executionCount": 72,
     "executionEventId": "526d5975-bb9a-432b-8c13-ab2c06437294",
     "hasError": false,
     "id": "dff3e9b1-8e8e-4b07-aa16-dd1e0c457d8f",
     "outputs": [],
     "persistentId": "72a28aa3-e883-4149-a8e2-05845e5753d9",
     "text": "dpath = HOME / 'research' / 'Smart_Ideas' / 'data' / 'GCMs' / 'NC' / GCM / var_name"
    },
    "executionTime": "2019-12-12T22:37:29.518Z"
   },
   {
    "cell": {
     "executionCount": 73,
     "executionEventId": "107fa629-8779-4548-b9f1-fce9187187b3",
     "hasError": false,
     "id": "b8d40a49-05fb-46e5-a6d9-cb25aabbf235",
     "outputs": [],
     "persistentId": "85905907-ef5a-4439-954c-c83b8518e9c4",
     "text": "lfiles = list(dpath.rglob(\"*_seasonal_anomalies.nc\"))"
    },
    "executionTime": "2019-12-12T22:37:29.732Z"
   },
   {
    "cell": {
     "executionCount": 74,
     "executionEventId": "9e9ee3d5-8d27-4d7f-bbfb-aec6f28ba8c9",
     "hasError": false,
     "id": "39c7ccf6-7046-4592-8305-a29458ce8e58",
     "outputs": [],
     "persistentId": "fb474e4d-997a-40f5-921d-364c28457c9c",
     "text": "lfiles.sort()"
    },
    "executionTime": "2019-12-12T22:37:29.882Z"
   },
   {
    "cell": {
     "executionCount": 75,
     "executionEventId": "e1e5177d-b4aa-4d04-a95d-9d7eba1f7ef7",
     "hasError": false,
     "id": "981856e8-2eda-41a9-b084-52473891325f",
     "outputs": [
      {
       "data": {
        "text/plain": "[PosixPath('/home/nicolasf/research/Smart_Ideas/data/GCMs/NC/ECMWF/SST/SST_hindcasts_1993_ECMWF_seasonal_anomalies.nc'),\n PosixPath('/home/nicolasf/research/Smart_Ideas/data/GCMs/NC/ECMWF/SST/SST_hindcasts_1994_ECMWF_seasonal_anomalies.nc'),\n PosixPath('/home/nicolasf/research/Smart_Ideas/data/GCMs/NC/ECMWF/SST/SST_hindcasts_1995_ECMWF_seasonal_anomalies.nc'),\n PosixPath('/home/nicolasf/research/Smart_Ideas/data/GCMs/NC/ECMWF/SST/SST_hindcasts_1996_ECMWF_seasonal_anomalies.nc'),\n PosixPath('/home/nicolasf/research/Smart_Ideas/data/GCMs/NC/ECMWF/SST/SST_hindcasts_1997_ECMWF_seasonal_anomalies.nc'),\n PosixPath('/home/nicolasf/research/Smart_Ideas/data/GCMs/NC/ECMWF/SST/SST_hindcasts_1998_ECMWF_seasonal_anomalies.nc'),\n PosixPath('/home/nicolasf/research/Smart_Ideas/data/GCMs/NC/ECMWF/SST/SST_hindcasts_1999_ECMWF_seasonal_anomalies.nc'),\n PosixPath('/home/nicolasf/research/Smart_Ideas/data/GCMs/NC/ECMWF/SST/SST_hindcasts_2000_ECMWF_seasonal_anomalies.nc'),\n PosixPath('/home/nicolasf/research/Smart_Ideas/data/GCMs/NC/ECMWF/SST/SST_hindcasts_2001_ECMWF_seasonal_anomalies.nc'),\n PosixPath('/home/nicolasf/research/Smart_Ideas/data/GCMs/NC/ECMWF/SST/SST_hindcasts_2002_ECMWF_seasonal_anomalies.nc'),\n PosixPath('/home/nicolasf/research/Smart_Ideas/data/GCMs/NC/ECMWF/SST/SST_hindcasts_2003_ECMWF_seasonal_anomalies.nc'),\n PosixPath('/home/nicolasf/research/Smart_Ideas/data/GCMs/NC/ECMWF/SST/SST_hindcasts_2004_ECMWF_seasonal_anomalies.nc'),\n PosixPath('/home/nicolasf/research/Smart_Ideas/data/GCMs/NC/ECMWF/SST/SST_hindcasts_2005_ECMWF_seasonal_anomalies.nc'),\n PosixPath('/home/nicolasf/research/Smart_Ideas/data/GCMs/NC/ECMWF/SST/SST_hindcasts_2006_ECMWF_seasonal_anomalies.nc'),\n PosixPath('/home/nicolasf/research/Smart_Ideas/data/GCMs/NC/ECMWF/SST/SST_hindcasts_2007_ECMWF_seasonal_anomalies.nc'),\n PosixPath('/home/nicolasf/research/Smart_Ideas/data/GCMs/NC/ECMWF/SST/SST_hindcasts_2008_ECMWF_seasonal_anomalies.nc'),\n PosixPath('/home/nicolasf/research/Smart_Ideas/data/GCMs/NC/ECMWF/SST/SST_hindcasts_2009_ECMWF_seasonal_anomalies.nc'),\n PosixPath('/home/nicolasf/research/Smart_Ideas/data/GCMs/NC/ECMWF/SST/SST_hindcasts_2010_ECMWF_seasonal_anomalies.nc'),\n PosixPath('/home/nicolasf/research/Smart_Ideas/data/GCMs/NC/ECMWF/SST/SST_hindcasts_2011_ECMWF_seasonal_anomalies.nc'),\n PosixPath('/home/nicolasf/research/Smart_Ideas/data/GCMs/NC/ECMWF/SST/SST_hindcasts_2012_ECMWF_seasonal_anomalies.nc'),\n PosixPath('/home/nicolasf/research/Smart_Ideas/data/GCMs/NC/ECMWF/SST/SST_hindcasts_2013_ECMWF_seasonal_anomalies.nc'),\n PosixPath('/home/nicolasf/research/Smart_Ideas/data/GCMs/NC/ECMWF/SST/SST_hindcasts_2014_ECMWF_seasonal_anomalies.nc'),\n PosixPath('/home/nicolasf/research/Smart_Ideas/data/GCMs/NC/ECMWF/SST/SST_hindcasts_2015_ECMWF_seasonal_anomalies.nc'),\n PosixPath('/home/nicolasf/research/Smart_Ideas/data/GCMs/NC/ECMWF/SST/SST_hindcasts_2016_ECMWF_seasonal_anomalies.nc')]"
       },
       "execution_count": 75,
       "metadata": {},
       "output_type": "execute_result"
      }
     ],
     "persistentId": "9da569ca-1523-4a3f-be48-e85139a8d601",
     "text": "lfiles"
    },
    "executionTime": "2019-12-12T22:37:30.095Z"
   },
   {
    "cell": {
     "executionCount": 76,
     "executionEventId": "61ae4ce8-5a0b-42d2-b2a3-f644de664c1d",
     "hasError": false,
     "id": "8548d3a6-c785-4db7-849d-9676a0e24337",
     "outputs": [
      {
       "name": "stdout",
       "output_type": "stream",
       "text": "SST_hindcasts_1993_ECMWF_seasonal_anomalies.nc: {'lat': 181, 'lon': 360, 'member': 25, 'step': 3, 'time': 12}\nSST_hindcasts_1994_ECMWF_seasonal_anomalies.nc: {'lat': 181, 'lon': 360, 'member': 25, 'step': 3, 'time': 12}\nSST_hindcasts_1995_ECMWF_seasonal_anomalies.nc: {'lat': 181, 'lon': 360, 'member': 25, 'step': 3, 'time': 12}\nSST_hindcasts_1996_ECMWF_seasonal_anomalies.nc: {'lat': 181, 'lon': 360, 'member': 25, 'step': 3, 'time': 12}\nSST_hindcasts_1997_ECMWF_seasonal_anomalies.nc: {'lat': 181, 'lon': 360, 'member': 25, 'step': 3, 'time': 12}\nSST_hindcasts_1998_ECMWF_seasonal_anomalies.nc: {'lat': 181, 'lon': 360, 'member': 25, 'step': 3, 'time': 12}\nSST_hindcasts_1999_ECMWF_seasonal_anomalies.nc: {'lat': 181, 'lon': 360, 'member': 25, 'step': 3, 'time': 12}\nSST_hindcasts_2000_ECMWF_seasonal_anomalies.nc: {'lat': 181, 'lon': 360, 'member': 25, 'step': 3, 'time': 12}\nSST_hindcasts_2001_ECMWF_seasonal_anomalies.nc: {'lat': 181, 'lon': 360, 'member': 25, 'step': 3, 'time': 12}\nSST_hindcasts_2002_ECMWF_seasonal_anomalies.nc: {'lat': 181, 'lon': 360, 'member': 25, 'step': 3, 'time': 12}\nSST_hindcasts_2003_ECMWF_seasonal_anomalies.nc: {'lat': 181, 'lon': 360, 'member': 25, 'step': 3, 'time': 12}\nSST_hindcasts_2004_ECMWF_seasonal_anomalies.nc: {'lat': 181, 'lon': 360, 'member': 25, 'step': 3, 'time': 12}\nSST_hindcasts_2005_ECMWF_seasonal_anomalies.nc: {'lat': 181, 'lon': 360, 'member': 25, 'step': 3, 'time': 12}\nSST_hindcasts_2006_ECMWF_seasonal_anomalies.nc: {'lat': 181, 'lon': 360, 'member': 25, 'step': 3, 'time': 12}\nSST_hindcasts_2007_ECMWF_seasonal_anomalies.nc: {'lat': 181, 'lon': 360, 'member': 25, 'step': 3, 'time': 12}\nSST_hindcasts_2008_ECMWF_seasonal_anomalies.nc: {'lat': 181, 'lon': 360, 'member': 25, 'step': 3, 'time': 12}\nSST_hindcasts_2009_ECMWF_seasonal_anomalies.nc: {'lat': 181, 'lon': 360, 'member': 25, 'step': 3, 'time': 12}\nSST_hindcasts_2010_ECMWF_seasonal_anomalies.nc: {'lat': 181, 'lon': 360, 'member': 25, 'step': 3, 'time': 12}\nSST_hindcasts_2011_ECMWF_seasonal_anomalies.nc: {'lat': 181, 'lon': 360, 'member': 25, 'step': 3, 'time': 12}\nSST_hindcasts_2012_ECMWF_seasonal_anomalies.nc: {'lat': 181, 'lon': 360, 'member': 25, 'step': 3, 'time': 12}\nSST_hindcasts_2013_ECMWF_seasonal_anomalies.nc: {'lat': 181, 'lon': 360, 'member': 25, 'step': 3, 'time': 12}\nSST_hindcasts_2014_ECMWF_seasonal_anomalies.nc: {'lat': 181, 'lon': 360, 'member': 25, 'step': 3, 'time': 12}\nSST_hindcasts_2015_ECMWF_seasonal_anomalies.nc: {'lat': 181, 'lon': 360, 'member': 25, 'step': 3, 'time': 12}\nSST_hindcasts_2016_ECMWF_seasonal_anomalies.nc: {'lat': 181, 'lon': 360, 'member': 25, 'step': 3, 'time': 12}\n"
      }
     ],
     "persistentId": "d521ff46-8313-4d26-a448-50aaf20e1097",
     "text": "for fname in lfiles: \n    dset = xr.open_dataset(fname)\n    print(f\"{fname.name}: {dict(dset.dims)}\")\n    dset.close()"
    },
    "executionTime": "2019-12-12T22:37:30.576Z"
   },
   {
    "cell": {
     "executionCount": 77,
     "executionEventId": "97f48a73-e0fb-4ce0-be0c-76f63682092e",
     "hasError": false,
     "id": "c2ffe35c-c0c5-42f3-875e-613d06ecc59a",
     "outputs": [],
     "persistentId": "c34d5d8a-150f-43ae-ba5d-abd92234ee07",
     "text": "var_name = 'Z850'"
    },
    "executionTime": "2019-12-12T22:37:43.271Z"
   },
   {
    "cell": {
     "executionCount": 78,
     "executionEventId": "10b8735f-7a8d-40d6-9175-02863d0beee0",
     "hasError": false,
     "id": "dff3e9b1-8e8e-4b07-aa16-dd1e0c457d8f",
     "outputs": [],
     "persistentId": "72a28aa3-e883-4149-a8e2-05845e5753d9",
     "text": "dpath = HOME / 'research' / 'Smart_Ideas' / 'data' / 'GCMs' / 'NC' / GCM / var_name"
    },
    "executionTime": "2019-12-12T22:37:43.476Z"
   },
   {
    "cell": {
     "executionCount": 79,
     "executionEventId": "5ff91ca7-b849-4128-a2cd-3c38244995cc",
     "hasError": false,
     "id": "b8d40a49-05fb-46e5-a6d9-cb25aabbf235",
     "outputs": [],
     "persistentId": "85905907-ef5a-4439-954c-c83b8518e9c4",
     "text": "lfiles = list(dpath.rglob(\"*_seasonal_anomalies.nc\"))"
    },
    "executionTime": "2019-12-12T22:37:43.626Z"
   },
   {
    "cell": {
     "executionCount": 80,
     "executionEventId": "b26b1b30-f739-41c9-856c-617aa605d19b",
     "hasError": false,
     "id": "39c7ccf6-7046-4592-8305-a29458ce8e58",
     "outputs": [],
     "persistentId": "fb474e4d-997a-40f5-921d-364c28457c9c",
     "text": "lfiles.sort()"
    },
    "executionTime": "2019-12-12T22:37:43.799Z"
   },
   {
    "cell": {
     "executionCount": 81,
     "executionEventId": "aa2f9be3-a05f-45ba-90e2-6e92df8dc366",
     "hasError": false,
     "id": "981856e8-2eda-41a9-b084-52473891325f",
     "outputs": [
      {
       "data": {
        "text/plain": "[PosixPath('/home/nicolasf/research/Smart_Ideas/data/GCMs/NC/ECMWF/Z850/Z850_hindcasts_1993_ECMWF_seasonal_anomalies.nc'),\n PosixPath('/home/nicolasf/research/Smart_Ideas/data/GCMs/NC/ECMWF/Z850/Z850_hindcasts_1994_ECMWF_seasonal_anomalies.nc'),\n PosixPath('/home/nicolasf/research/Smart_Ideas/data/GCMs/NC/ECMWF/Z850/Z850_hindcasts_1995_ECMWF_seasonal_anomalies.nc'),\n PosixPath('/home/nicolasf/research/Smart_Ideas/data/GCMs/NC/ECMWF/Z850/Z850_hindcasts_1996_ECMWF_seasonal_anomalies.nc'),\n PosixPath('/home/nicolasf/research/Smart_Ideas/data/GCMs/NC/ECMWF/Z850/Z850_hindcasts_1997_ECMWF_seasonal_anomalies.nc'),\n PosixPath('/home/nicolasf/research/Smart_Ideas/data/GCMs/NC/ECMWF/Z850/Z850_hindcasts_1998_ECMWF_seasonal_anomalies.nc'),\n PosixPath('/home/nicolasf/research/Smart_Ideas/data/GCMs/NC/ECMWF/Z850/Z850_hindcasts_1999_ECMWF_seasonal_anomalies.nc'),\n PosixPath('/home/nicolasf/research/Smart_Ideas/data/GCMs/NC/ECMWF/Z850/Z850_hindcasts_2000_ECMWF_seasonal_anomalies.nc'),\n PosixPath('/home/nicolasf/research/Smart_Ideas/data/GCMs/NC/ECMWF/Z850/Z850_hindcasts_2001_ECMWF_seasonal_anomalies.nc'),\n PosixPath('/home/nicolasf/research/Smart_Ideas/data/GCMs/NC/ECMWF/Z850/Z850_hindcasts_2002_ECMWF_seasonal_anomalies.nc'),\n PosixPath('/home/nicolasf/research/Smart_Ideas/data/GCMs/NC/ECMWF/Z850/Z850_hindcasts_2003_ECMWF_seasonal_anomalies.nc'),\n PosixPath('/home/nicolasf/research/Smart_Ideas/data/GCMs/NC/ECMWF/Z850/Z850_hindcasts_2004_ECMWF_seasonal_anomalies.nc'),\n PosixPath('/home/nicolasf/research/Smart_Ideas/data/GCMs/NC/ECMWF/Z850/Z850_hindcasts_2005_ECMWF_seasonal_anomalies.nc'),\n PosixPath('/home/nicolasf/research/Smart_Ideas/data/GCMs/NC/ECMWF/Z850/Z850_hindcasts_2006_ECMWF_seasonal_anomalies.nc'),\n PosixPath('/home/nicolasf/research/Smart_Ideas/data/GCMs/NC/ECMWF/Z850/Z850_hindcasts_2007_ECMWF_seasonal_anomalies.nc'),\n PosixPath('/home/nicolasf/research/Smart_Ideas/data/GCMs/NC/ECMWF/Z850/Z850_hindcasts_2008_ECMWF_seasonal_anomalies.nc'),\n PosixPath('/home/nicolasf/research/Smart_Ideas/data/GCMs/NC/ECMWF/Z850/Z850_hindcasts_2009_ECMWF_seasonal_anomalies.nc'),\n PosixPath('/home/nicolasf/research/Smart_Ideas/data/GCMs/NC/ECMWF/Z850/Z850_hindcasts_2010_ECMWF_seasonal_anomalies.nc'),\n PosixPath('/home/nicolasf/research/Smart_Ideas/data/GCMs/NC/ECMWF/Z850/Z850_hindcasts_2011_ECMWF_seasonal_anomalies.nc'),\n PosixPath('/home/nicolasf/research/Smart_Ideas/data/GCMs/NC/ECMWF/Z850/Z850_hindcasts_2012_ECMWF_seasonal_anomalies.nc'),\n PosixPath('/home/nicolasf/research/Smart_Ideas/data/GCMs/NC/ECMWF/Z850/Z850_hindcasts_2013_ECMWF_seasonal_anomalies.nc'),\n PosixPath('/home/nicolasf/research/Smart_Ideas/data/GCMs/NC/ECMWF/Z850/Z850_hindcasts_2014_ECMWF_seasonal_anomalies.nc'),\n PosixPath('/home/nicolasf/research/Smart_Ideas/data/GCMs/NC/ECMWF/Z850/Z850_hindcasts_2015_ECMWF_seasonal_anomalies.nc'),\n PosixPath('/home/nicolasf/research/Smart_Ideas/data/GCMs/NC/ECMWF/Z850/Z850_hindcasts_2016_ECMWF_seasonal_anomalies.nc')]"
       },
       "execution_count": 81,
       "metadata": {},
       "output_type": "execute_result"
      }
     ],
     "persistentId": "9da569ca-1523-4a3f-be48-e85139a8d601",
     "text": "lfiles"
    },
    "executionTime": "2019-12-12T22:37:43.974Z"
   },
   {
    "cell": {
     "executionCount": 82,
     "executionEventId": "a181f12e-a1df-47a0-b7e5-c670d8698ea2",
     "hasError": false,
     "id": "8548d3a6-c785-4db7-849d-9676a0e24337",
     "outputs": [
      {
       "name": "stdout",
       "output_type": "stream",
       "text": "Z850_hindcasts_1993_ECMWF_seasonal_anomalies.nc: {'lat': 181, 'lon': 360, 'member': 25, 'step': 3, 'time': 12}\nZ850_hindcasts_1994_ECMWF_seasonal_anomalies.nc: {'lat': 181, 'lon': 360, 'member': 25, 'step': 3, 'time': 12}\nZ850_hindcasts_1995_ECMWF_seasonal_anomalies.nc: {'lat': 181, 'lon': 360, 'member': 25, 'step': 3, 'time': 12}\nZ850_hindcasts_1996_ECMWF_seasonal_anomalies.nc: {'lat': 181, 'lon': 360, 'member': 25, 'step': 3, 'time': 12}\nZ850_hindcasts_1997_ECMWF_seasonal_anomalies.nc: {'lat': 181, 'lon': 360, 'member': 25, 'step': 3, 'time': 12}\nZ850_hindcasts_1998_ECMWF_seasonal_anomalies.nc: {'lat': 181, 'lon': 360, 'member': 25, 'step': 3, 'time': 12}\nZ850_hindcasts_1999_ECMWF_seasonal_anomalies.nc: {'lat': 181, 'lon': 360, 'member': 25, 'step': 3, 'time': 12}\nZ850_hindcasts_2000_ECMWF_seasonal_anomalies.nc: {'lat': 181, 'lon': 360, 'member': 25, 'step': 3, 'time': 12}\nZ850_hindcasts_2001_ECMWF_seasonal_anomalies.nc: {'lat': 181, 'lon': 360, 'member': 25, 'step': 3, 'time': 12}\nZ850_hindcasts_2002_ECMWF_seasonal_anomalies.nc: {'lat': 181, 'lon': 360, 'member': 25, 'step': 3, 'time': 12}\nZ850_hindcasts_2003_ECMWF_seasonal_anomalies.nc: {'lat': 181, 'lon': 360, 'member': 25, 'step': 3, 'time': 12}\nZ850_hindcasts_2004_ECMWF_seasonal_anomalies.nc: {'lat': 181, 'lon': 360, 'member': 25, 'step': 3, 'time': 12}\nZ850_hindcasts_2005_ECMWF_seasonal_anomalies.nc: {'lat': 181, 'lon': 360, 'member': 25, 'step': 3, 'time': 12}\nZ850_hindcasts_2006_ECMWF_seasonal_anomalies.nc: {'lat': 181, 'lon': 360, 'member': 25, 'step': 3, 'time': 12}\nZ850_hindcasts_2007_ECMWF_seasonal_anomalies.nc: {'lat': 181, 'lon': 360, 'member': 25, 'step': 3, 'time': 12}\nZ850_hindcasts_2008_ECMWF_seasonal_anomalies.nc: {'lat': 181, 'lon': 360, 'member': 25, 'step': 3, 'time': 12}\nZ850_hindcasts_2009_ECMWF_seasonal_anomalies.nc: {'lat': 181, 'lon': 360, 'member': 25, 'step': 3, 'time': 12}\nZ850_hindcasts_2010_ECMWF_seasonal_anomalies.nc: {'lat': 181, 'lon': 360, 'member': 25, 'step': 3, 'time': 12}\nZ850_hindcasts_2011_ECMWF_seasonal_anomalies.nc: {'lat': 181, 'lon': 360, 'member': 25, 'step': 3, 'time': 12}\nZ850_hindcasts_2012_ECMWF_seasonal_anomalies.nc: {'lat': 181, 'lon': 360, 'member': 25, 'step': 3, 'time': 12}\nZ850_hindcasts_2013_ECMWF_seasonal_anomalies.nc: {'lat': 181, 'lon': 360, 'member': 25, 'step': 3, 'time': 12}\nZ850_hindcasts_2014_ECMWF_seasonal_anomalies.nc: {'lat': 181, 'lon': 360, 'member': 25, 'step': 3, 'time': 12}\nZ850_hindcasts_2015_ECMWF_seasonal_anomalies.nc: {'lat': 181, 'lon': 360, 'member': 25, 'step': 3, 'time': 12}\nZ850_hindcasts_2016_ECMWF_seasonal_anomalies.nc: {'lat': 181, 'lon': 360, 'member': 25, 'step': 3, 'time': 12}\n"
      }
     ],
     "persistentId": "d521ff46-8313-4d26-a448-50aaf20e1097",
     "text": "for fname in lfiles: \n    dset = xr.open_dataset(fname)\n    print(f\"{fname.name}: {dict(dset.dims)}\")\n    dset.close()"
    },
    "executionTime": "2019-12-12T22:37:44.655Z"
   },
   {
    "cell": {
     "executionCount": 83,
     "executionEventId": "d7ed0bdf-cb6e-4487-8707-3f2536c2392d",
     "hasError": false,
     "id": "5e82ce1f-fdf8-4e3d-bd05-550df2d2da4c",
     "outputs": [],
     "persistentId": "8f44f40e-831d-40c5-99d4-c24eb5522bcb",
     "text": "GCM = 'METEO_FRANE'"
    },
    "executionTime": "2019-12-12T22:37:56.412Z"
   },
   {
    "cell": {
     "executionCount": 84,
     "executionEventId": "b33f3aac-2c62-4ae6-9d4e-c9e6cc7bf0a6",
     "hasError": false,
     "id": "5e82ce1f-fdf8-4e3d-bd05-550df2d2da4c",
     "outputs": [],
     "persistentId": "8f44f40e-831d-40c5-99d4-c24eb5522bcb",
     "text": "GCM = 'METEO_FRANcE'"
    },
    "executionTime": "2019-12-12T22:37:59.389Z"
   }
  ],
  "kernelspec": {
   "display_name": "Python 3",
   "language": "python",
   "name": "python3"
  },
  "language_info": {
   "codemirror_mode": {
    "name": "ipython",
    "version": 3
   },
   "file_extension": ".py",
   "mimetype": "text/x-python",
   "name": "python",
   "nbconvert_exporter": "python",
   "pygments_lexer": "ipython3",
   "version": "3.7.5"
  },
  "uuid": "9058ddd3-6f16-42b4-b05f-7623002925a4"
 },
 "nbformat": 4,
 "nbformat_minor": 4
}
