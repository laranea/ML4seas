{
 "cells": [
  {
   "cell_type": "code",
   "execution_count": 2,
   "metadata": {
    "execution_event_id": "a71bcbe6-dca8-4489-a955-8caefc26b13d",
    "last_executed_text": "%matplotlib inline",
    "persistent_id": "7224f3fa-2d5a-4c09-8406-c2823b8751d5"
   },
   "outputs": [],
   "source": [
    "%matplotlib inline"
   ]
  },
  {
   "cell_type": "code",
   "execution_count": 3,
   "metadata": {
    "execution_event_id": "230f5492-3c55-46b9-a06c-caee5d3bddda",
    "last_executed_text": "import pathlib",
    "persistent_id": "52672d9a-14e1-4906-87ea-c450d7c0e982"
   },
   "outputs": [],
   "source": [
    "import pathlib"
   ]
  },
  {
   "cell_type": "code",
   "execution_count": 3,
   "metadata": {
    "execution_event_id": "8bd9b4e2-ff8c-4d45-adc9-d9b29d4f62c5",
    "last_executed_text": "from matplotlib import pyplot as plt",
    "persistent_id": "439b52eb-e337-4e8c-978d-75a1067addd5"
   },
   "outputs": [],
   "source": [
    "from matplotlib import pyplot as plt"
   ]
  },
  {
   "cell_type": "code",
   "execution_count": 4,
   "metadata": {
    "execution_event_id": "e2b24985-a84d-479f-b3c5-0e8672c21011",
    "last_executed_text": "import xarray as xr\nfrom cartopy import crs as ccrs",
    "persistent_id": "791d8368-8dd6-47a0-9da3-ed1017636985"
   },
   "outputs": [],
   "source": [
    "import xarray as xr\n",
    "from cartopy import crs as ccrs"
   ]
  },
  {
   "cell_type": "code",
   "execution_count": 78,
   "metadata": {},
   "outputs": [
    {
     "data": {
      "text/plain": [
       "<xarray.core.options.set_options at 0x7f6f45ea5750>"
      ]
     },
     "execution_count": 78,
     "metadata": {},
     "output_type": "execute_result"
    }
   ],
   "source": [
    "xr.set_options(display_style=\"html\")"
   ]
  },
  {
   "cell_type": "code",
   "execution_count": 5,
   "metadata": {
    "execution_event_id": "bc6295a9-63e7-443c-a951-3976d1872295",
    "last_executed_text": "HOME = pathlib.Path.home()",
    "persistent_id": "a1619992-4f28-4982-b5fb-3f6ef4012a1b"
   },
   "outputs": [],
   "source": [
    "HOME = pathlib.Path.home()"
   ]
  },
  {
   "cell_type": "code",
   "execution_count": 6,
   "metadata": {
    "execution_event_id": "d56f7f6c-f3d1-4bd2-96bb-6e517efebf6a",
    "last_executed_text": "HOME",
    "persistent_id": "5bc9fad8-87a1-4e5e-9016-d184deec18e9"
   },
   "outputs": [
    {
     "data": {
      "text/plain": [
       "PosixPath('/home/nicolasf')"
      ]
     },
     "execution_count": 6,
     "metadata": {},
     "output_type": "execute_result"
    }
   ],
   "source": [
    "HOME"
   ]
  },
  {
   "cell_type": "code",
   "execution_count": 7,
   "metadata": {
    "execution_event_id": "d008eccd-119d-4d7e-bbbc-2c4834439a43",
    "last_executed_text": "GCM = 'ECMWF'",
    "persistent_id": "99557e5d-cbb5-45f9-a663-c7d76bbb92b8"
   },
   "outputs": [],
   "source": [
    "GCM = 'ECMWF'"
   ]
  },
  {
   "cell_type": "code",
   "execution_count": 8,
   "metadata": {
    "execution_event_id": "c1e39199-038a-4fc5-bdb2-1030356db644",
    "last_executed_text": "var_name = 'PRECIP'",
    "persistent_id": "bd486529-a036-4a8f-a98b-5606267f8cbd"
   },
   "outputs": [],
   "source": [
    "var_name = 'PRECIP'"
   ]
  },
  {
   "cell_type": "code",
   "execution_count": 9,
   "metadata": {
    "execution_event_id": "59723d67-1dc3-4ca1-85e7-46aa938e63fe",
    "last_executed_text": "dpath = HOME / 'research' / 'Smart_Ideas' / 'data' / 'GCMs' / 'NC' / GCM / var_name",
    "persistent_id": "a12fbd5a-67cb-43b0-a805-a75bf3ea1bb6"
   },
   "outputs": [],
   "source": [
    "dpath = HOME / 'research' / 'Smart_Ideas' / 'data' / 'GCMs' / 'NC' / GCM / var_name"
   ]
  },
  {
   "cell_type": "code",
   "execution_count": null,
   "metadata": {},
   "outputs": [],
   "source": []
  }
 ],
 "metadata": {
  "kernelspec": {
   "display_name": "Python 3",
   "language": "python",
   "name": "python3"
  },
  "language_info": {
   "codemirror_mode": {
    "name": "ipython",
    "version": 3
   },
   "file_extension": ".py",
   "mimetype": "text/x-python",
   "name": "python",
   "nbconvert_exporter": "python",
   "pygments_lexer": "ipython3",
   "version": "3.7.5"
  }
 },
 "nbformat": 4,
 "nbformat_minor": 4
}
