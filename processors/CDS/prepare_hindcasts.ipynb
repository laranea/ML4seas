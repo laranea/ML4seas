{
 "cells": [
  {
   "cell_type": "code",
   "execution_count": 35,
   "metadata": {},
   "outputs": [],
   "source": [
    "%matplotlib inline\n",
    "from matplotlib import pyplot as plt"
   ]
  },
  {
   "cell_type": "code",
   "execution_count": 36,
   "metadata": {},
   "outputs": [],
   "source": [
    "import os \n",
    "import sys \n",
    "import pathlib"
   ]
  },
  {
   "cell_type": "code",
   "execution_count": 37,
   "metadata": {},
   "outputs": [],
   "source": [
    "import numpy as np\n",
    "import pandas as pd\n",
    "import xarray as xr"
   ]
  },
  {
   "cell_type": "code",
   "execution_count": 38,
   "metadata": {},
   "outputs": [],
   "source": [
    "HOME = pathlib.Path.home()"
   ]
  },
  {
   "cell_type": "code",
   "execution_count": 39,
   "metadata": {},
   "outputs": [
    {
     "name": "stdout",
     "output_type": "stream",
     "text": [
      "/home/nicolasf/drives/auck_projects/END19101/Working/data/hindcasts/cmcc/SST/SST_hindcasts_1993_2016_cmcc.grib\n"
     ]
    },
    {
     "name": "stderr",
     "output_type": "stream",
     "text": [
      "/home/nicolasf/anaconda3/envs/pangeo/lib/python3.6/site-packages/xarray/core/nanops.py:159: RuntimeWarning: Mean of empty slice\n",
      "  return np.nanmean(a, axis=axis, dtype=dtype)\n"
     ]
    }
   ],
   "source": [
    "for model in ['cmcc']: \n",
    "    for varcode in ['SST']: \n",
    "        dpath = HOME / 'drives' / 'auck_projects' / 'END19101' / 'Working' / 'data' / 'hindcasts' / model / varcode\n",
    "        fname = list(dpath.glob(\"{}*_1993_2016*.grib\".format(varcode)))\n",
    "        fname = fname[0]\n",
    "        print(fname)\n",
    "        fout = os.path.basename(fname).replace('.grib','.nc')\n",
    "        dset = xr.open_dataset(fname, engine='cfgrib', backend_kwargs={'indexpath':''})\n",
    "        step1 = dset.sel(step=slice('58 days','63 days')).mean('step')\n",
    "        step2 = dset.sel(step=slice('88 days','93 days')).mean('step')\n",
    "        step3 = dset.sel(step=slice('119 days','124 days')).mean('step')\n",
    "        step4 = dset.sel(step=slice('149 days','154 days')).mean('step')\n",
    "        step5 = dset.sel(step=slice('180 days','185 days')).mean('step')\n",
    "\n",
    "        all_steps = xr.concat([step1, step2, step3, step4, step5], dim='step')\n",
    "        \n",
    "        all_steps['step'] = (('step'), range(1, 6))\n",
    "        \n",
    "        all_steps.to_netcdf(dpath / fout)\n",
    "        \n",
    "        dset.close() \n",
    "        all_steps.close()"
   ]
  },
  {
   "cell_type": "code",
   "execution_count": null,
   "metadata": {},
   "outputs": [],
   "source": []
  },
  {
   "cell_type": "code",
   "execution_count": 29,
   "metadata": {},
   "outputs": [
    {
     "name": "stdout",
     "output_type": "stream",
     "text": [
      "/home/nicolasf/drives/auck_projects/END19101/Working/data/hindcasts/ukmo/SST/SST_hindcasts_1993_2016_ukmo.grib\n"
     ]
    },
    {
     "name": "stderr",
     "output_type": "stream",
     "text": [
      "/home/nicolasf/anaconda3/envs/pangeo/lib/python3.6/site-packages/xarray/core/nanops.py:159: RuntimeWarning: Mean of empty slice\n",
      "  return np.nanmean(a, axis=axis, dtype=dtype)\n"
     ]
    },
    {
     "name": "stdout",
     "output_type": "stream",
     "text": [
      "/home/nicolasf/drives/auck_projects/END19101/Working/data/hindcasts/ukmo/Z850/Z850_hindcasts_1993_2016_ukmo.grib\n"
     ]
    },
    {
     "name": "stderr",
     "output_type": "stream",
     "text": [
      "/home/nicolasf/anaconda3/envs/pangeo/lib/python3.6/site-packages/xarray/core/nanops.py:159: RuntimeWarning: Mean of empty slice\n",
      "  return np.nanmean(a, axis=axis, dtype=dtype)\n"
     ]
    },
    {
     "name": "stdout",
     "output_type": "stream",
     "text": [
      "/home/nicolasf/drives/auck_projects/END19101/Working/data/hindcasts/ukmo/T2M/T2M_hindcasts_1993_2016_ukmo.grib\n",
      "/home/nicolasf/drives/auck_projects/END19101/Working/data/hindcasts/ukmo/PRECIP/PRECIP_hindcasts_1993_2016_ukmo.grib\n",
      "/home/nicolasf/drives/auck_projects/END19101/Working/data/hindcasts/meteo_france/SST/SST_hindcasts_1993_2016_Meteo-France.grib\n"
     ]
    },
    {
     "name": "stderr",
     "output_type": "stream",
     "text": [
      "/home/nicolasf/anaconda3/envs/pangeo/lib/python3.6/site-packages/xarray/core/nanops.py:159: RuntimeWarning: Mean of empty slice\n",
      "  return np.nanmean(a, axis=axis, dtype=dtype)\n"
     ]
    },
    {
     "name": "stdout",
     "output_type": "stream",
     "text": [
      "/home/nicolasf/drives/auck_projects/END19101/Working/data/hindcasts/meteo_france/Z850/Z850_hindcasts_1993_2016_Meteo-France.grib\n"
     ]
    },
    {
     "name": "stderr",
     "output_type": "stream",
     "text": [
      "/home/nicolasf/anaconda3/envs/pangeo/lib/python3.6/site-packages/xarray/core/nanops.py:159: RuntimeWarning: Mean of empty slice\n",
      "  return np.nanmean(a, axis=axis, dtype=dtype)\n"
     ]
    },
    {
     "name": "stdout",
     "output_type": "stream",
     "text": [
      "/home/nicolasf/drives/auck_projects/END19101/Working/data/hindcasts/meteo_france/T2M/T2M_hindcasts_1993_2016_Meteo-France.grib\n",
      "/home/nicolasf/drives/auck_projects/END19101/Working/data/hindcasts/meteo_france/PRECIP/PRECIP_hindcasts_1993_2016_Meteo-France.grib\n",
      "/home/nicolasf/drives/auck_projects/END19101/Working/data/hindcasts/cmcc/SST/SST_hindcasts_1993_2016_cmcc.grib\n"
     ]
    },
    {
     "name": "stderr",
     "output_type": "stream",
     "text": [
      "skipping corrupted Message\n",
      "Traceback (most recent call last):\n",
      "  File \"/home/nicolasf/anaconda3/envs/pangeo/lib/python3.6/site-packages/cfgrib/messages.py\", line 229, in __iter__\n",
      "    yield self.message_from_file(file, errors=self.errors)\n",
      "  File \"/home/nicolasf/anaconda3/envs/pangeo/lib/python3.6/site-packages/cfgrib/messages.py\", line 244, in message_from_file\n",
      "    return self.message_class.from_file(file=file, offset=offset, **kwargs)\n",
      "  File \"/home/nicolasf/anaconda3/envs/pangeo/lib/python3.6/site-packages/cfgrib/messages.py\", line 67, in from_file\n",
      "    codes_id = bindings.codes_handle_new_from_file(file, product_kind)\n",
      "  File \"/home/nicolasf/anaconda3/envs/pangeo/lib/python3.6/site-packages/cfgrib/bindings.py\", line 166, in codes_handle_new_from_file\n",
      "    retval = check_last(lib.codes_handle_new_from_file)(context, fileobj, product_kind)\n",
      "  File \"/home/nicolasf/anaconda3/envs/pangeo/lib/python3.6/site-packages/cfgrib/bindings.py\", line 136, in wrapper\n",
      "    raise EcCodesError(code[0])\n",
      "cfgrib.bindings.EcCodesError: ('End of resource reached when reading message (-45).', -45)\n",
      "/home/nicolasf/anaconda3/envs/pangeo/lib/python3.6/site-packages/xarray/core/nanops.py:159: RuntimeWarning: Mean of empty slice\n",
      "  return np.nanmean(a, axis=axis, dtype=dtype)\n"
     ]
    },
    {
     "name": "stdout",
     "output_type": "stream",
     "text": [
      "/home/nicolasf/drives/auck_projects/END19101/Working/data/hindcasts/cmcc/Z850/Z850_hindcasts_1993_2016_cmcc.grib\n"
     ]
    },
    {
     "name": "stderr",
     "output_type": "stream",
     "text": [
      "/home/nicolasf/anaconda3/envs/pangeo/lib/python3.6/site-packages/xarray/core/nanops.py:159: RuntimeWarning: Mean of empty slice\n",
      "  return np.nanmean(a, axis=axis, dtype=dtype)\n"
     ]
    },
    {
     "name": "stdout",
     "output_type": "stream",
     "text": [
      "/home/nicolasf/drives/auck_projects/END19101/Working/data/hindcasts/cmcc/T2M/T2M_hindcasts_1993_2016_cmcc.grib\n",
      "/home/nicolasf/drives/auck_projects/END19101/Working/data/hindcasts/cmcc/PRECIP/PRECIP_hindcasts_1993_2016_cmcc.grib\n",
      "/home/nicolasf/drives/auck_projects/END19101/Working/data/hindcasts/dwd/SST/SST_seas_hindcasts_1993_2016_dwd.grib\n"
     ]
    },
    {
     "name": "stderr",
     "output_type": "stream",
     "text": [
      "/home/nicolasf/anaconda3/envs/pangeo/lib/python3.6/site-packages/xarray/core/nanops.py:159: RuntimeWarning: Mean of empty slice\n",
      "  return np.nanmean(a, axis=axis, dtype=dtype)\n"
     ]
    },
    {
     "name": "stdout",
     "output_type": "stream",
     "text": [
      "/home/nicolasf/drives/auck_projects/END19101/Working/data/hindcasts/dwd/Z850/Z850_seas_hindcasts_1993_2016_dwd.grib\n"
     ]
    },
    {
     "name": "stderr",
     "output_type": "stream",
     "text": [
      "/home/nicolasf/anaconda3/envs/pangeo/lib/python3.6/site-packages/xarray/core/nanops.py:159: RuntimeWarning: Mean of empty slice\n",
      "  return np.nanmean(a, axis=axis, dtype=dtype)\n"
     ]
    },
    {
     "name": "stdout",
     "output_type": "stream",
     "text": [
      "/home/nicolasf/drives/auck_projects/END19101/Working/data/hindcasts/dwd/T2M/T2M_seas_hindcasts_1993_2016_dwd.grib\n",
      "/home/nicolasf/drives/auck_projects/END19101/Working/data/hindcasts/dwd/PRECIP/PRECIP_seas_hindcasts_1993_2016_dwd.grib\n"
     ]
    }
   ],
   "source": [
    "# for model in ['ukmo','meteo_france','cmcc','dwd']: \n",
    "#     for varcode in ['SST','Z850','T2M','PRECIP']: \n",
    "#         dpath = HOME / 'drives' / 'auck_projects' / 'END19101' / 'Working' / 'data' / 'hindcasts' / model / varcode\n",
    "#         fname = list(dpath.glob(\"{}*_1993_2016*.grib\".format(varcode)))\n",
    "#         fname = fname[0]\n",
    "#         print(fname)\n",
    "#         fout = os.path.basename(fname).replace('.grib','.nc')\n",
    "#         dset = xr.open_dataset(fname, engine='cfgrib', backend_kwargs={'indexpath':''})\n",
    "#         step1 = dset.sel(step=slice('58 days','63 days')).mean('step')\n",
    "#         step2 = dset.sel(step=slice('88 days','93 days')).mean('step')\n",
    "#         step3 = dset.sel(step=slice('119 days','124 days')).mean('step')\n",
    "#         step4 = dset.sel(step=slice('149 days','154 days')).mean('step')\n",
    "#         step5 = dset.sel(step=slice('180 days','185 days')).mean('step')\n",
    "\n",
    "#         all_steps = xr.concat([step1, step2, step3, step4, step5], dim='step')\n",
    "        \n",
    "#         all_steps['step'] = (('step'), range(1, 6))\n",
    "        \n",
    "#         all_steps.to_netcdf(dpath / fout)\n",
    "        \n",
    "#         dset.close() \n",
    "#         all_steps.close()"
   ]
  },
  {
   "cell_type": "code",
   "execution_count": null,
   "metadata": {},
   "outputs": [],
   "source": []
  },
  {
   "cell_type": "code",
   "execution_count": null,
   "metadata": {},
   "outputs": [],
   "source": []
  }
 ],
 "metadata": {
  "kernelspec": {
   "display_name": "Python 3",
   "language": "python",
   "name": "python3"
  },
  "language_info": {
   "codemirror_mode": {
    "name": "ipython",
    "version": 3
   },
   "file_extension": ".py",
   "mimetype": "text/x-python",
   "name": "python",
   "nbconvert_exporter": "python",
   "pygments_lexer": "ipython3",
   "version": "3.7.5"
  }
 },
 "nbformat": 4,
 "nbformat_minor": 4
}
