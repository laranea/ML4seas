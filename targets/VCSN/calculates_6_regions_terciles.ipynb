{
 "cells": [
  {
   "cell_type": "code",
   "execution_count": 1,
   "metadata": {},
   "outputs": [],
   "source": [
    "import os\n",
    "import sys"
   ]
  },
  {
   "cell_type": "code",
   "execution_count": 2,
   "metadata": {
    "collapsed": false
   },
   "outputs": [],
   "source": [
    "%matplotlib inline\n",
    "from matplotlib import pyplot as plt\n",
    "\n",
    "import numpy as np\n",
    "import pandas as pd\n",
    "from scipy.spatial import cKDTree\n",
    "from itertools import product"
   ]
  },
  {
   "cell_type": "code",
   "execution_count": 3,
   "metadata": {},
   "outputs": [],
   "source": [
    "import seaborn as sns\n",
    "sns.set_context('talk')"
   ]
  },
  {
   "cell_type": "code",
   "execution_count": 4,
   "metadata": {
    "collapsed": false
   },
   "outputs": [],
   "source": [
    "import xarray as xr"
   ]
  },
  {
   "cell_type": "code",
   "execution_count": 5,
   "metadata": {
    "collapsed": true
   },
   "outputs": [],
   "source": [
    "from glob import glob"
   ]
  },
  {
   "cell_type": "code",
   "execution_count": 6,
   "metadata": {
    "collapsed": false
   },
   "outputs": [],
   "source": [
    "def demean(x): \n",
    "    return x - x.loc['1981':'2010',].mean()"
   ]
  },
  {
   "cell_type": "code",
   "execution_count": 7,
   "metadata": {},
   "outputs": [],
   "source": [
    "# def make_categories(x): \n",
    "#     def qcut(x): \n",
    "#         clim = x.loc['1981':'2010',:]\n",
    "# #         quantiles = [clim.quantile(q=q) for q in [0.2,0.4,0.6,0.8]]\n",
    "#         quantiles = [clim.quantile(q=q) for q in [0.33333,0.66666]]\n",
    "#         quantiles.insert(0, -np.inf)\n",
    "#         quantiles.append(np.inf)\n",
    "#         return pd.cut(x.values.flatten(), quantiles, labels=[-1,0,1]).to_dense().flatten()\n",
    "#     quantiles_seasons = x.groupby([x.index.month]).apply(qcut)\n",
    "#     dummy = x.values.flatten() * np.nan\n",
    "#     for month in range(1,13): \n",
    "#         dummy[np.where(x.index.month == month)] = quantiles_seasons[month]\n",
    "#     return dummy"
   ]
  },
  {
   "cell_type": "code",
   "execution_count": 8,
   "metadata": {},
   "outputs": [],
   "source": [
    "def get_clim_quantiles(x, kind='terciles'): \n",
    "    clim = x.loc['1981':'2010',]\n",
    "    def get_quantiles(clim):\n",
    "        if kind == 'terciles': \n",
    "            quantiles = [clim.quantile(q=q) for q in [0.33333,0.66666]]\n",
    "            return pd.Series(np.array(quantiles), index = ['T1','T2'])\n",
    "        elif kind == 'quintiles':\n",
    "            quantiles = [clim.quantile(q=q) for q in [0.2, 0.4, 0.6, 0.8]]\n",
    "            return pd.Series(np.array(quantiles), index = ['Q1','Q2','Q3','Q4'])\n",
    "    return clim.groupby(clim.index.month).apply(get_quantiles)"
   ]
  },
  {
   "cell_type": "code",
   "execution_count": 9,
   "metadata": {
    "collapsed": true
   },
   "outputs": [],
   "source": [
    "def make_categories(x, kind='terciles'): \n",
    "    def qcut(x, kind='terciles'): \n",
    "        clim = x.loc['1981':'2010',:]\n",
    "        if kind == 'terciles': \n",
    "            quantiles = [clim.quantile(q=q) for q in [0.33333,0.66666]]\n",
    "            quantiles.insert(0, -np.inf)\n",
    "            quantiles.append(np.inf)\n",
    "            return pd.cut(x.values.flatten(), quantiles, labels=[-1,0,1]).to_dense().flatten()\n",
    "        elif kind == 'quintiles':\n",
    "            quantiles = [clim.quantile(q=q) for q in [0.2,0.4,0.6,0.8]]\n",
    "            quantiles.insert(0, -np.inf)\n",
    "            quantiles.append(np.inf)\n",
    "            return pd.cut(x.values.flatten(), quantiles, labels=[-2, -1, 0 , 1, 2]).to_dense().flatten()        \n",
    "    quantiles_seasons = x.groupby([x.index.month]).apply(qcut, **{'kind':kind})\n",
    "    dummy = x.values.flatten() * np.nan\n",
    "    for month in range(1,13): \n",
    "        dummy[np.where(x.index.month == month)] = quantiles_seasons[month]\n",
    "    return dummy"
   ]
  },
  {
   "cell_type": "code",
   "execution_count": 10,
   "metadata": {},
   "outputs": [],
   "source": [
    "dpath = '/home/nicolasf/operational/VCSN/outputs/'"
   ]
  },
  {
   "cell_type": "code",
   "execution_count": 11,
   "metadata": {},
   "outputs": [],
   "source": [
    "variable = 'TMean'"
   ]
  },
  {
   "cell_type": "code",
   "execution_count": 12,
   "metadata": {},
   "outputs": [],
   "source": [
    "lfiles = glob(os.path.join(dpath, variable, 'VCSN_monthly_{}_????_nogrid.nc'.format(variable)))"
   ]
  },
  {
   "cell_type": "code",
   "execution_count": 13,
   "metadata": {},
   "outputs": [],
   "source": [
    "lfiles.sort()"
   ]
  },
  {
   "cell_type": "code",
   "execution_count": 14,
   "metadata": {},
   "outputs": [
    {
     "data": {
      "text/plain": [
       "['/home/nicolasf/operational/VCSN/outputs/TMean/VCSN_monthly_TMean_1972_nogrid.nc',\n",
       " '/home/nicolasf/operational/VCSN/outputs/TMean/VCSN_monthly_TMean_1973_nogrid.nc',\n",
       " '/home/nicolasf/operational/VCSN/outputs/TMean/VCSN_monthly_TMean_1974_nogrid.nc',\n",
       " '/home/nicolasf/operational/VCSN/outputs/TMean/VCSN_monthly_TMean_1975_nogrid.nc',\n",
       " '/home/nicolasf/operational/VCSN/outputs/TMean/VCSN_monthly_TMean_1976_nogrid.nc',\n",
       " '/home/nicolasf/operational/VCSN/outputs/TMean/VCSN_monthly_TMean_1977_nogrid.nc',\n",
       " '/home/nicolasf/operational/VCSN/outputs/TMean/VCSN_monthly_TMean_1978_nogrid.nc',\n",
       " '/home/nicolasf/operational/VCSN/outputs/TMean/VCSN_monthly_TMean_1979_nogrid.nc',\n",
       " '/home/nicolasf/operational/VCSN/outputs/TMean/VCSN_monthly_TMean_1980_nogrid.nc',\n",
       " '/home/nicolasf/operational/VCSN/outputs/TMean/VCSN_monthly_TMean_1981_nogrid.nc',\n",
       " '/home/nicolasf/operational/VCSN/outputs/TMean/VCSN_monthly_TMean_1982_nogrid.nc',\n",
       " '/home/nicolasf/operational/VCSN/outputs/TMean/VCSN_monthly_TMean_1983_nogrid.nc',\n",
       " '/home/nicolasf/operational/VCSN/outputs/TMean/VCSN_monthly_TMean_1984_nogrid.nc',\n",
       " '/home/nicolasf/operational/VCSN/outputs/TMean/VCSN_monthly_TMean_1985_nogrid.nc',\n",
       " '/home/nicolasf/operational/VCSN/outputs/TMean/VCSN_monthly_TMean_1986_nogrid.nc',\n",
       " '/home/nicolasf/operational/VCSN/outputs/TMean/VCSN_monthly_TMean_1987_nogrid.nc',\n",
       " '/home/nicolasf/operational/VCSN/outputs/TMean/VCSN_monthly_TMean_1988_nogrid.nc',\n",
       " '/home/nicolasf/operational/VCSN/outputs/TMean/VCSN_monthly_TMean_1989_nogrid.nc',\n",
       " '/home/nicolasf/operational/VCSN/outputs/TMean/VCSN_monthly_TMean_1990_nogrid.nc',\n",
       " '/home/nicolasf/operational/VCSN/outputs/TMean/VCSN_monthly_TMean_1991_nogrid.nc',\n",
       " '/home/nicolasf/operational/VCSN/outputs/TMean/VCSN_monthly_TMean_1992_nogrid.nc',\n",
       " '/home/nicolasf/operational/VCSN/outputs/TMean/VCSN_monthly_TMean_1993_nogrid.nc',\n",
       " '/home/nicolasf/operational/VCSN/outputs/TMean/VCSN_monthly_TMean_1994_nogrid.nc',\n",
       " '/home/nicolasf/operational/VCSN/outputs/TMean/VCSN_monthly_TMean_1995_nogrid.nc',\n",
       " '/home/nicolasf/operational/VCSN/outputs/TMean/VCSN_monthly_TMean_1996_nogrid.nc',\n",
       " '/home/nicolasf/operational/VCSN/outputs/TMean/VCSN_monthly_TMean_1997_nogrid.nc',\n",
       " '/home/nicolasf/operational/VCSN/outputs/TMean/VCSN_monthly_TMean_1998_nogrid.nc',\n",
       " '/home/nicolasf/operational/VCSN/outputs/TMean/VCSN_monthly_TMean_1999_nogrid.nc',\n",
       " '/home/nicolasf/operational/VCSN/outputs/TMean/VCSN_monthly_TMean_2000_nogrid.nc',\n",
       " '/home/nicolasf/operational/VCSN/outputs/TMean/VCSN_monthly_TMean_2001_nogrid.nc',\n",
       " '/home/nicolasf/operational/VCSN/outputs/TMean/VCSN_monthly_TMean_2002_nogrid.nc',\n",
       " '/home/nicolasf/operational/VCSN/outputs/TMean/VCSN_monthly_TMean_2003_nogrid.nc',\n",
       " '/home/nicolasf/operational/VCSN/outputs/TMean/VCSN_monthly_TMean_2004_nogrid.nc',\n",
       " '/home/nicolasf/operational/VCSN/outputs/TMean/VCSN_monthly_TMean_2005_nogrid.nc',\n",
       " '/home/nicolasf/operational/VCSN/outputs/TMean/VCSN_monthly_TMean_2006_nogrid.nc',\n",
       " '/home/nicolasf/operational/VCSN/outputs/TMean/VCSN_monthly_TMean_2007_nogrid.nc',\n",
       " '/home/nicolasf/operational/VCSN/outputs/TMean/VCSN_monthly_TMean_2008_nogrid.nc',\n",
       " '/home/nicolasf/operational/VCSN/outputs/TMean/VCSN_monthly_TMean_2009_nogrid.nc',\n",
       " '/home/nicolasf/operational/VCSN/outputs/TMean/VCSN_monthly_TMean_2010_nogrid.nc',\n",
       " '/home/nicolasf/operational/VCSN/outputs/TMean/VCSN_monthly_TMean_2011_nogrid.nc',\n",
       " '/home/nicolasf/operational/VCSN/outputs/TMean/VCSN_monthly_TMean_2012_nogrid.nc',\n",
       " '/home/nicolasf/operational/VCSN/outputs/TMean/VCSN_monthly_TMean_2013_nogrid.nc',\n",
       " '/home/nicolasf/operational/VCSN/outputs/TMean/VCSN_monthly_TMean_2014_nogrid.nc',\n",
       " '/home/nicolasf/operational/VCSN/outputs/TMean/VCSN_monthly_TMean_2015_nogrid.nc',\n",
       " '/home/nicolasf/operational/VCSN/outputs/TMean/VCSN_monthly_TMean_2016_nogrid.nc',\n",
       " '/home/nicolasf/operational/VCSN/outputs/TMean/VCSN_monthly_TMean_2017_nogrid.nc']"
      ]
     },
     "execution_count": 14,
     "metadata": {},
     "output_type": "execute_result"
    }
   ],
   "source": [
    "lfiles"
   ]
  },
  {
   "cell_type": "code",
   "execution_count": 15,
   "metadata": {
    "collapsed": false
   },
   "outputs": [],
   "source": [
    "dset = xr.open_mfdataset(lfiles)"
   ]
  },
  {
   "cell_type": "code",
   "execution_count": 16,
   "metadata": {},
   "outputs": [
    {
     "data": {
      "text/plain": [
       "<xarray.Dataset>\n",
       "Dimensions:     (agent: 11491, time: 552)\n",
       "Coordinates:\n",
       "  * agent       (agent) int64 3027 3106 3380 4782 ... 31177 31178 31179 31180\n",
       "  * time        (time) datetime64[ns] 1972-01-31 1972-02-29 ... 2017-12-31\n",
       "Data variables:\n",
       "    latitudes   (time, agent) float64 dask.array<shape=(552, 11491), chunksize=(12, 11491)>\n",
       "    longitudes  (time, agent) float64 dask.array<shape=(552, 11491), chunksize=(12, 11491)>\n",
       "    TMean       (time, agent) float64 dask.array<shape=(552, 11491), chunksize=(12, 11491)>"
      ]
     },
     "execution_count": 16,
     "metadata": {},
     "output_type": "execute_result"
    }
   ],
   "source": [
    "dset"
   ]
  },
  {
   "cell_type": "code",
   "execution_count": 17,
   "metadata": {
    "collapsed": true
   },
   "outputs": [],
   "source": [
    "regions = pd.read_csv('../../data/VCSN/VCSN_join_regions.csv')"
   ]
  },
  {
   "cell_type": "code",
   "execution_count": 18,
   "metadata": {
    "collapsed": true
   },
   "outputs": [],
   "source": [
    "dict_region_ID = dict(zip(range(1,7),['NNI','WNI','ENI','NSI','WSI','ESI']))"
   ]
  },
  {
   "cell_type": "code",
   "execution_count": 19,
   "metadata": {
    "collapsed": false
   },
   "outputs": [
    {
     "data": {
      "text/plain": [
       "{1: 'NNI', 2: 'WNI', 3: 'ENI', 4: 'NSI', 5: 'WSI', 6: 'ESI'}"
      ]
     },
     "execution_count": 19,
     "metadata": {},
     "output_type": "execute_result"
    }
   ],
   "source": [
    "dict_region_ID"
   ]
  },
  {
   "cell_type": "code",
   "execution_count": 20,
   "metadata": {},
   "outputs": [
    {
     "data": {
      "image/png": "[encoded data removed]",
      "text/plain": [
       "<Figure size 432x288 with 1 Axes>"
      ]
     },
     "metadata": {
      "needs_background": "light"
     },
     "output_type": "display_data"
    },
    {
     "data": {
      "image/png": "[encoded data removed]",
      "text/plain": [
       "<Figure size 432x288 with 1 Axes>"
      ]
     },
     "metadata": {
      "needs_background": "light"
     },
     "output_type": "display_data"
    },
    {
     "data": {
      "image/png": "[encoded data removed]",
      "text/plain": [
       "<Figure size 432x288 with 1 Axes>"
      ]
     },
     "metadata": {
      "needs_background": "light"
     },
     "output_type": "display_data"
    },
    {
     "data": {
      "image/png": "[encoded data removed]",
      "text/plain": [
       "<Figure size 432x288 with 1 Axes>"
      ]
     },
     "metadata": {
      "needs_background": "light"
     },
     "output_type": "display_data"
    },
    {
     "data": {
      "image/png": "[encoded data removed]",
      "text/plain": [
       "<Figure size 432x288 with 1 Axes>"
      ]
     },
     "metadata": {
      "needs_background": "light"
     },
     "output_type": "display_data"
    },
    {
     "data": {
      "image/png": "[encoded data removed]",
      "text/plain": [
       "<Figure size 432x288 with 1 Axes>"
      ]
     },
     "metadata": {
      "needs_background": "light"
     },
     "output_type": "display_data"
    }
   ],
   "source": [
    "for region_ID in [1,2,3,4,5,6]: \n",
    "    region = regions.query('Region_ID == {}'.format(region_ID))\n",
    "    region_nc = dset.sel(agent=region['AGENT_NO'].values)\n",
    "    lons = region_nc.longitudes[0,:].data\n",
    "    lats = region_nc.latitudes[0,:].data\n",
    "    vals = region_nc[variable][0,:].data\n",
    "    latlons = region_nc.sel(time='1972-01-31').to_dataframe().sort_index()[['longitudes','latitudes']] \n",
    "    region_nc_agents = region_nc.to_dataframe()[variable].unstack().T \n",
    "    if variable == 'Rain': \n",
    "        region_nc_agents_r3 =  region_nc_agents.rolling(window=3, min_periods=3).sum()\n",
    "    else: \n",
    "        region_nc_agents_r3 =  region_nc_agents.rolling(window=3, min_periods=3).mean()\n",
    "    region_nc_agents_r3.dropna(inplace=True) \n",
    "    ave_region_nc_agents_r3 = region_nc_agents_r3.mean(axis=1) \n",
    "    ave_region_nc_agents_r3 = ave_region_nc_agents_r3.to_frame() \n",
    "    ave_region_nc_agents_r3.columns = ['R3']\n",
    "    ave_region_nc_agents_r3.loc[:,'cat3'] = make_categories(ave_region_nc_agents_r3, kind='terciles')\n",
    "    ave_region_nc_agents_r3.loc[:,'cat5'] = make_categories(ave_region_nc_agents_r3.loc[:,['R3']], kind='quintiles')\n",
    "    ave_region_nc_agents_r3.loc[:,'anomalies'] = \\\n",
    "    ave_region_nc_agents_r3[['R3']].groupby(ave_region_nc_agents_r3.index.month).apply(demean)\n",
    "    ave_region_nc_agents_r3.loc[:,'region'] = dict_region_ID[region_ID]\n",
    "    ave_region_nc_agents_r3.to_csv('../../outputs/VCSN/{}_{}_regional_ave_time_series.csv'.format(variable, dict_region_ID[region_ID]))\n",
    "        \n",
    "    ### climatological quantiles\n",
    "    clim = ave_region_nc_agents_r3.loc['1981':'2010','R3']\n",
    "    clim_stats = clim.groupby(clim.index.month).describe(percentiles=[0.1, 0.2, 0.4, 0.6, 0.8, 0.9, 0.33, 0.66])\n",
    "    clim_stats.columns.name = variable\n",
    "    clim_stats.to_csv('../../outputs/VCSN/quantiles_clim_{}_{}.csv'.format(variable, dict_region_ID[region_ID]))\n",
    "    \n",
    "    f, ax = plt.subplots()\n",
    "    ax.plot(latlons.longitudes, latlons.latitudes, 'rs')\n",
    "    ax.set_title(dict_region_ID[region_ID])\n",
    "    ax.grid(ls=':')\n",
    "    f.savefig('../../figures/VCSN/region_agents_{}.png'.format(dict_region_ID[region_ID]), dpi=200)"
   ]
  },
  {
   "cell_type": "code",
   "execution_count": 21,
   "metadata": {},
   "outputs": [
    {
     "data": {
      "text/html": [
       "<div>\n",
       "<style scoped>\n",
       "    .dataframe tbody tr th:only-of-type {\n",
       "        vertical-align: middle;\n",
       "    }\n",
       "\n",
       "    .dataframe tbody tr th {\n",
       "        vertical-align: top;\n",
       "    }\n",
       "\n",
       "    .dataframe thead th {\n",
       "        text-align: right;\n",
       "    }\n",
       "</style>\n",
       "<table border=\"1\" class=\"dataframe\">\n",
       "  <thead>\n",
       "    <tr style=\"text-align: right;\">\n",
       "      <th></th>\n",
       "      <th>R3</th>\n",
       "      <th>cat3</th>\n",
       "      <th>cat5</th>\n",
       "      <th>anomalies</th>\n",
       "      <th>region</th>\n",
       "    </tr>\n",
       "    <tr>\n",
       "      <th>time</th>\n",
       "      <th></th>\n",
       "      <th></th>\n",
       "      <th></th>\n",
       "      <th></th>\n",
       "      <th></th>\n",
       "    </tr>\n",
       "  </thead>\n",
       "  <tbody>\n",
       "    <tr>\n",
       "      <th>1972-03-31</th>\n",
       "      <td>13.617023</td>\n",
       "      <td>-1.0</td>\n",
       "      <td>-2.0</td>\n",
       "      <td>-0.789410</td>\n",
       "      <td>ESI</td>\n",
       "    </tr>\n",
       "    <tr>\n",
       "      <th>1972-04-30</th>\n",
       "      <td>12.637581</td>\n",
       "      <td>0.0</td>\n",
       "      <td>0.0</td>\n",
       "      <td>-0.080909</td>\n",
       "      <td>ESI</td>\n",
       "    </tr>\n",
       "    <tr>\n",
       "      <th>1972-05-31</th>\n",
       "      <td>10.188330</td>\n",
       "      <td>0.0</td>\n",
       "      <td>0.0</td>\n",
       "      <td>-0.002035</td>\n",
       "      <td>ESI</td>\n",
       "    </tr>\n",
       "    <tr>\n",
       "      <th>1972-06-30</th>\n",
       "      <td>6.546628</td>\n",
       "      <td>-1.0</td>\n",
       "      <td>-2.0</td>\n",
       "      <td>-0.853778</td>\n",
       "      <td>ESI</td>\n",
       "    </tr>\n",
       "    <tr>\n",
       "      <th>1972-07-31</th>\n",
       "      <td>4.204802</td>\n",
       "      <td>-1.0</td>\n",
       "      <td>-2.0</td>\n",
       "      <td>-1.092198</td>\n",
       "      <td>ESI</td>\n",
       "    </tr>\n",
       "  </tbody>\n",
       "</table>\n",
       "</div>"
      ],
      "text/plain": [
       "                   R3  cat3  cat5  anomalies region\n",
       "time                                               \n",
       "1972-03-31  13.617023  -1.0  -2.0  -0.789410    ESI\n",
       "1972-04-30  12.637581   0.0   0.0  -0.080909    ESI\n",
       "1972-05-31  10.188330   0.0   0.0  -0.002035    ESI\n",
       "1972-06-30   6.546628  -1.0  -2.0  -0.853778    ESI\n",
       "1972-07-31   4.204802  -1.0  -2.0  -1.092198    ESI"
      ]
     },
     "execution_count": 21,
     "metadata": {},
     "output_type": "execute_result"
    }
   ],
   "source": [
    "ave_region_nc_agents_r3.head()"
   ]
  },
  {
   "cell_type": "code",
   "execution_count": null,
   "metadata": {},
   "outputs": [],
   "source": []
  }
 ],
 "metadata": {
  "kernelspec": {
   "display_name": "Python 3",
   "language": "python",
   "name": "python3"
  },
  "language_info": {
   "codemirror_mode": {
    "name": "ipython",
    "version": 3
   },
   "file_extension": ".py",
   "mimetype": "text/x-python",
   "name": "python",
   "nbconvert_exporter": "python",
   "pygments_lexer": "ipython3",
   "version": "3.6.6"
  },
  "latex_envs": {
   "bibliofile": "biblio.bib",
   "cite_by": "apalike",
   "current_citInitial": 1,
   "eqLabelWithNumbers": true,
   "eqNumInitial": 0
  }
 },
 "nbformat": 4,
 "nbformat_minor": 2
}
