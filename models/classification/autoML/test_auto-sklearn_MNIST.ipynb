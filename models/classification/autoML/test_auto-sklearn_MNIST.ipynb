{
 "cells": [
  {
   "cell_type": "code",
   "execution_count": 5,
   "metadata": {
    "execution_event_id": "a3728c69-62b3-47d6-a3c1-aee1fe3705e1",
    "last_executed_text": "import autosklearn.classification\n\nimport sklearn.model_selection\n\nimport sklearn.datasets\n\nimport sklearn.metrics",
    "persistent_id": "1a037022-dc9a-4482-b62b-a4a671de5285"
   },
   "outputs": [],
   "source": [
    "import autosklearn.classification\n",
    "\n",
    "import sklearn.model_selection\n",
    "\n",
    "import sklearn.datasets\n",
    "\n",
    "import sklearn.metrics"
   ]
  },
  {
   "cell_type": "code",
   "execution_count": 6,
   "metadata": {
    "execution_event_id": "b288d2c5-5278-48f1-a494-d32bf2420632",
    "last_executed_text": "X, y = sklearn.datasets.load_digits(return_X_y=True)",
    "persistent_id": "fd295733-7753-447a-b876-b732b6a158dd"
   },
   "outputs": [],
   "source": [
    "X, y = sklearn.datasets.load_digits(return_X_y=True)"
   ]
  },
  {
   "cell_type": "code",
   "execution_count": 7,
   "metadata": {
    "execution_event_id": "6d7a6fdc-2035-4e20-bb03-e650459b01be",
    "last_executed_text": "X_train, X_test, y_train, y_test = \\\n        sklearn.model_selection.train_test_split(X, y, random_state=1)",
    "persistent_id": "85ef2f1c-1734-400c-a1ae-0009cfa503f5"
   },
   "outputs": [],
   "source": [
    "X_train, X_test, y_train, y_test = \\\n",
    "        sklearn.model_selection.train_test_split(X, y, random_state=1)"
   ]
  },
  {
   "cell_type": "code",
   "execution_count": 8,
   "metadata": {
    "execution_event_id": "622da7e1-7839-435e-bbd0-505d07b0f33d",
    "last_executed_text": "automl = autosklearn.classification.AutoSklearnClassifier()",
    "persistent_id": "5ebb027a-bd89-4244-aa27-8160d63a9e88"
   },
   "outputs": [],
   "source": [
    "automl = autosklearn.classification.AutoSklearnClassifier()"
   ]
  },
  {
   "cell_type": "code",
   "execution_count": null,
   "metadata": {
    "persistent_id": "c26c0e67-dba8-4596-a13f-3ca4eda974eb"
   },
   "outputs": [
    {
     "name": "stdout",
     "output_type": "stream",
     "text": [
      "[WARNING] [2020-01-10 14:27:39,037:EnsembleBuilder(1):d74860caaa557f473ce23908ff7ba369] No models better than random - using Dummy Score!\n",
      "[WARNING] [2020-01-10 14:27:39,041:EnsembleBuilder(1):d74860caaa557f473ce23908ff7ba369] No models better than random - using Dummy Score!\n"
     ]
    }
   ],
   "source": [
    "automl.fit(X_train, y_train)\n"
   ]
  },
  {
   "cell_type": "code",
   "execution_count": null,
   "metadata": {
    "persistent_id": "83dc387f-176e-49d6-888d-e27be2071948"
   },
   "outputs": [],
   "source": [
    "y_hat = automl.predict(X_test)\n",
    "\n",
    "print(\"Accuracy score\", sklearn.metrics.accuracy_score(y_test, y_hat))"
   ]
  },
  {
   "cell_type": "code",
   "execution_count": null,
   "metadata": {},
   "outputs": [],
   "source": []
  }
 ],
 "metadata": {
  "history": [
   {
    "cell": {
     "executionCount": 1,
     "executionEventId": "ce37a985-8b95-4867-9ba4-0ed1546d4d60",
     "hasError": false,
     "id": "7b27fb1c-1fda-4283-87d1-5b6ab1898284",
     "outputs": [
      {
       "name": "stderr",
       "output_type": "stream",
       "text": "/home/nicolasf/anaconda3/envs/ML/lib/python3.7/site-packages/pyparsing.py:3174: FutureWarning: Possible set intersection at position 3\n  self.re = re.compile(self.reString)\n"
      }
     ],
     "persistentId": "1a037022-dc9a-4482-b62b-a4a671de5285",
     "text": "import autosklearn.classification\n\nimport sklearn.model_selection\n\nimport sklearn.datasets\n\nimport sklearn.metrics"
    },
    "executionTime": "2020-01-10T01:26:47.203Z"
   },
   {
    "cell": {
     "executionCount": 2,
     "executionEventId": "d416e5d2-057d-431c-b404-25e7f52128a6",
     "hasError": false,
     "id": "f7b09b96-8bcb-4f2a-a3f7-fddfc8a7d804",
     "outputs": [],
     "persistentId": "fd295733-7753-447a-b876-b732b6a158dd",
     "text": "X, y = sklearn.datasets.load_digits(return_X_y=True)"
    },
    "executionTime": "2020-01-10T01:26:56.767Z"
   },
   {
    "cell": {
     "executionCount": 3,
     "executionEventId": "44102aab-3396-4ee4-af1b-bccedaa00d5e",
     "hasError": false,
     "id": "5f5fb1e5-cba6-4d30-b2f2-4ce038e3aa3d",
     "outputs": [],
     "persistentId": "85ef2f1c-1734-400c-a1ae-0009cfa503f5",
     "text": "X_train, X_test, y_train, y_test = \\\n        sklearn.model_selection.train_test_split(X, y, random_state=1)"
    },
    "executionTime": "2020-01-10T01:27:13.817Z"
   },
   {
    "cell": {
     "executionCount": 4,
     "executionEventId": "fbbdf0ce-4461-4027-acfa-0946a9575c9c",
     "hasError": false,
     "id": "20bd181e-3726-49f2-a6e3-fa7c3137bef9",
     "outputs": [],
     "persistentId": "5ebb027a-bd89-4244-aa27-8160d63a9e88",
     "text": "automl = autosklearn.classification.AutoSklearnClassifier()"
    },
    "executionTime": "2020-01-10T01:27:24.515Z"
   },
   {
    "cell": {
     "executionCount": 5,
     "executionEventId": "a3728c69-62b3-47d6-a3c1-aee1fe3705e1",
     "hasError": false,
     "id": "7b27fb1c-1fda-4283-87d1-5b6ab1898284",
     "outputs": [],
     "persistentId": "1a037022-dc9a-4482-b62b-a4a671de5285",
     "text": "import autosklearn.classification\n\nimport sklearn.model_selection\n\nimport sklearn.datasets\n\nimport sklearn.metrics"
    },
    "executionTime": "2020-01-10T01:27:38.208Z"
   },
   {
    "cell": {
     "executionCount": 6,
     "executionEventId": "b288d2c5-5278-48f1-a494-d32bf2420632",
     "hasError": false,
     "id": "f7b09b96-8bcb-4f2a-a3f7-fddfc8a7d804",
     "outputs": [],
     "persistentId": "fd295733-7753-447a-b876-b732b6a158dd",
     "text": "X, y = sklearn.datasets.load_digits(return_X_y=True)"
    },
    "executionTime": "2020-01-10T01:27:38.409Z"
   },
   {
    "cell": {
     "executionCount": 7,
     "executionEventId": "6d7a6fdc-2035-4e20-bb03-e650459b01be",
     "hasError": false,
     "id": "5f5fb1e5-cba6-4d30-b2f2-4ce038e3aa3d",
     "outputs": [],
     "persistentId": "85ef2f1c-1734-400c-a1ae-0009cfa503f5",
     "text": "X_train, X_test, y_train, y_test = \\\n        sklearn.model_selection.train_test_split(X, y, random_state=1)"
    },
    "executionTime": "2020-01-10T01:27:38.520Z"
   },
   {
    "cell": {
     "executionCount": 8,
     "executionEventId": "622da7e1-7839-435e-bbd0-505d07b0f33d",
     "hasError": false,
     "id": "20bd181e-3726-49f2-a6e3-fa7c3137bef9",
     "outputs": [],
     "persistentId": "5ebb027a-bd89-4244-aa27-8160d63a9e88",
     "text": "automl = autosklearn.classification.AutoSklearnClassifier()"
    },
    "executionTime": "2020-01-10T01:27:38.693Z"
   }
  ],
  "kernelspec": {
   "display_name": "Python 3",
   "language": "python",
   "name": "python3"
  },
  "language_info": {
   "codemirror_mode": {
    "name": "ipython",
    "version": 3
   },
   "file_extension": ".py",
   "mimetype": "text/x-python",
   "name": "python",
   "nbconvert_exporter": "python",
   "pygments_lexer": "ipython3",
   "version": "3.7.5"
  },
  "uuid": "69328ce7-8269-4ae6-96ae-fae456f87378"
 },
 "nbformat": 4,
 "nbformat_minor": 4
}
