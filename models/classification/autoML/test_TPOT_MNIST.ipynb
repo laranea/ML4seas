{
 "cells": [
  {
   "cell_type": "code",
   "execution_count": 5,
   "metadata": {
    "execution_event_id": "a3728c69-62b3-47d6-a3c1-aee1fe3705e1",
    "last_executed_text": "import autosklearn.classification\n\nimport sklearn.model_selection\n\nimport sklearn.datasets\n\nimport sklearn.metrics",
    "persistent_id": "1a037022-dc9a-4482-b62b-a4a671de5285"
   },
   "outputs": [],
   "source": [
    "import autosklearn.classification\n",
    "\n",
    "import sklearn.model_selection\n",
    "\n",
    "import sklearn.datasets\n",
    "\n",
    "import sklearn.metrics"
   ]
  },
  {
   "cell_type": "code",
   "execution_count": 6,
   "metadata": {
    "execution_event_id": "b288d2c5-5278-48f1-a494-d32bf2420632",
    "last_executed_text": "X, y = sklearn.datasets.load_digits(return_X_y=True)",
    "persistent_id": "fd295733-7753-447a-b876-b732b6a158dd"
   },
   "outputs": [],
   "source": [
    "X, y = sklearn.datasets.load_digits(return_X_y=True)"
   ]
  },
  {
   "cell_type": "code",
   "execution_count": 7,
   "metadata": {
    "execution_event_id": "6d7a6fdc-2035-4e20-bb03-e650459b01be",
    "last_executed_text": "X_train, X_test, y_train, y_test = \\\n        sklearn.model_selection.train_test_split(X, y, random_state=1)",
    "persistent_id": "85ef2f1c-1734-400c-a1ae-0009cfa503f5"
   },
   "outputs": [],
   "source": [
    "X_train, X_test, y_train, y_test = \\\n",
    "        sklearn.model_selection.train_test_split(X, y, random_state=1)"
   ]
  },
  {
   "cell_type": "code",
   "execution_count": 8,
   "metadata": {
    "execution_event_id": "622da7e1-7839-435e-bbd0-505d07b0f33d",
    "last_executed_text": "automl = autosklearn.classification.AutoSklearnClassifier()",
    "persistent_id": "5ebb027a-bd89-4244-aa27-8160d63a9e88"
   },
   "outputs": [],
   "source": [
    "automl = autosklearn.classification.AutoSklearnClassifier()"
   ]
  },
  {
   "cell_type": "code",
   "execution_count": 9,
   "metadata": {
    "execution_event_id": "5778196b-e12d-4280-9b20-31ac8ba89f26",
    "last_executed_text": "automl.fit(X_train, y_train)\n",
    "persistent_id": "c26c0e67-dba8-4596-a13f-3ca4eda974eb"
   },
   "outputs": [
    {
     "name": "stdout",
     "output_type": "stream",
     "text": [
      "[WARNING] [2020-01-10 14:27:39,037:EnsembleBuilder(1):d74860caaa557f473ce23908ff7ba369] No models better than random - using Dummy Score!\n",
      "[WARNING] [2020-01-10 14:27:39,041:EnsembleBuilder(1):d74860caaa557f473ce23908ff7ba369] No models better than random - using Dummy Score!\n"
     ]
    },
    {
     "data": {
      "text/plain": [
       "AutoSklearnClassifier(delete_output_folder_after_terminate=True,\n",
       "                      delete_tmp_folder_after_terminate=True,\n",
       "                      disable_evaluator_output=False,\n",
       "                      ensemble_memory_limit=1024, ensemble_nbest=50,\n",
       "                      ensemble_size=50, exclude_estimators=None,\n",
       "                      exclude_preprocessors=None, get_smac_object_callback=None,\n",
       "                      include_estimators=None, include_preprocessors=None,\n",
       "                      initial_configurations_via_metalearning=25,\n",
       "                      logging_config=None, metadata_directory=None,\n",
       "                      ml_memory_limit=3072, n_jobs=None, output_folder=None,\n",
       "                      per_run_time_limit=360, resampling_strategy='holdout',\n",
       "                      resampling_strategy_arguments=None, seed=1,\n",
       "                      shared_mode=False, smac_scenario_args=None,\n",
       "                      time_left_for_this_task=3600, tmp_folder=None)"
      ]
     },
     "execution_count": 9,
     "metadata": {},
     "output_type": "execute_result"
    }
   ],
   "source": [
    "automl.fit(X_train, y_train)\n"
   ]
  },
  {
   "cell_type": "code",
   "execution_count": 10,
   "metadata": {
    "execution_event_id": "2ad2e4ac-e5bd-4c2f-a0f6-ef8bfdeac97a",
    "last_executed_text": "y_hat = automl.predict(X_test)\n\nprint(\"Accuracy score\", sklearn.metrics.accuracy_score(y_test, y_hat))",
    "persistent_id": "83dc387f-176e-49d6-888d-e27be2071948"
   },
   "outputs": [
    {
     "name": "stdout",
     "output_type": "stream",
     "text": [
      "Accuracy score 0.9911111111111112\n"
     ]
    }
   ],
   "source": [
    "y_hat = automl.predict(X_test)\n",
    "\n",
    "print(\"Accuracy score\", sklearn.metrics.accuracy_score(y_test, y_hat))"
   ]
  },
  {
   "cell_type": "code",
   "execution_count": 11,
   "metadata": {
    "execution_event_id": "4f670993-c034-4ae5-aa2c-e082fe71e1a9",
    "last_executed_text": "!pwd",
    "persistent_id": "918038c0-456f-4b3d-8bea-01e21c765ed1"
   },
   "outputs": [
    {
     "name": "stdout",
     "output_type": "stream",
     "text": [
      "/home/nicolasf/research/Smart_Ideas/code/models/classification/autoML\n"
     ]
    }
   ],
   "source": [
    "!pwd"
   ]
  },
  {
   "cell_type": "code",
   "execution_count": 13,
   "metadata": {
    "execution_event_id": "418caa18-bdaf-4dab-9ee5-9c6b3f525014",
    "last_executed_text": "y_hat.shape",
    "persistent_id": "4be8e0f6-0510-4fd8-8011-30f6fdbbd037"
   },
   "outputs": [
    {
     "data": {
      "text/plain": [
       "(450,)"
      ]
     },
     "execution_count": 13,
     "metadata": {},
     "output_type": "execute_result"
    }
   ],
   "source": [
    "y_hat.shape"
   ]
  },
  {
   "cell_type": "code",
   "execution_count": 14,
   "metadata": {
    "execution_event_id": "16698645-1b6d-4aed-9de5-bedea0f2ccf8",
    "last_executed_text": "y_test.shape",
    "persistent_id": "f8d8a5d2-0054-4c2b-ae1c-570f03379358"
   },
   "outputs": [
    {
     "data": {
      "text/plain": [
       "(450,)"
      ]
     },
     "execution_count": 14,
     "metadata": {},
     "output_type": "execute_result"
    }
   ],
   "source": [
    "y_test.shape"
   ]
  },
  {
   "cell_type": "code",
   "execution_count": 16,
   "metadata": {
    "execution_event_id": "f5c3da99-c512-4af4-aaf2-3b596775efc1",
    "last_executed_text": "X_test.shape",
    "persistent_id": "0948000c-b466-42a5-a283-692014e558f8"
   },
   "outputs": [
    {
     "data": {
      "text/plain": [
       "(450, 64)"
      ]
     },
     "execution_count": 16,
     "metadata": {},
     "output_type": "execute_result"
    }
   ],
   "source": [
    "X_test.shape"
   ]
  },
  {
   "cell_type": "code",
   "execution_count": 17,
   "metadata": {
    "execution_event_id": "69a93d7a-a504-46b4-afaa-c018fcb86d97",
    "last_executed_text": "X_train.shape",
    "persistent_id": "5f4b022c-b9b5-4bc0-8e68-950a12a459c8"
   },
   "outputs": [
    {
     "data": {
      "text/plain": [
       "(1347, 64)"
      ]
     },
     "execution_count": 17,
     "metadata": {},
     "output_type": "execute_result"
    }
   ],
   "source": [
    "X_train.shape"
   ]
  },
  {
   "cell_type": "code",
   "execution_count": 20,
   "metadata": {
    "execution_event_id": "3bcdd890-575b-4450-9dbc-cf0eaeb89d5f",
    "last_executed_text": "import numpy as np",
    "persistent_id": "42560e5c-0d00-468b-9775-b8d1a747f4bc"
   },
   "outputs": [],
   "source": [
    "import numpy as np"
   ]
  },
  {
   "cell_type": "code",
   "execution_count": 21,
   "metadata": {
    "execution_event_id": "e8d9ee11-7063-4ffd-8796-7f824ce9418a",
    "last_executed_text": "np.sqrt(64)",
    "persistent_id": "6533cac4-629d-41af-a183-89981181eea0"
   },
   "outputs": [
    {
     "data": {
      "text/plain": [
       "8.0"
      ]
     },
     "execution_count": 21,
     "metadata": {},
     "output_type": "execute_result"
    }
   ],
   "source": [
    "np.sqrt(64)"
   ]
  },
  {
   "cell_type": "code",
   "execution_count": 22,
   "metadata": {
    "execution_event_id": "23a561ac-a1e0-432b-b0d6-8a8ca0e8e090",
    "last_executed_text": "X_test_recons = X_test.reshape((X_test.shape[0],8,8))",
    "persistent_id": "8b3e65a6-3bab-4fca-bf15-19eaa8da5ac3"
   },
   "outputs": [],
   "source": [
    "X_test_recons = X_test.reshape((X_test.shape[0],8,8))"
   ]
  },
  {
   "cell_type": "code",
   "execution_count": 23,
   "metadata": {
    "execution_event_id": "ff9d5fe6-c5e7-421d-8581-337cb8a4c290",
    "last_executed_text": "%matplotlib inline",
    "persistent_id": "0c7e8e9e-1ae2-4986-a8a0-2e56015128f3"
   },
   "outputs": [],
   "source": [
    "%matplotlib inline"
   ]
  },
  {
   "cell_type": "code",
   "execution_count": 24,
   "metadata": {
    "execution_event_id": "0dc91c13-d5fb-442e-869c-00246a523fff",
    "last_executed_text": "import matplotlib.pyplot as plt",
    "persistent_id": "9ffa0715-86cc-4f13-a0c0-c2a2fdd3b718"
   },
   "outputs": [],
   "source": [
    "import matplotlib.pyplot as plt"
   ]
  },
  {
   "cell_type": "code",
   "execution_count": 29,
   "metadata": {
    "execution_event_id": "731df684-3ccd-4be3-93db-17cf34c1a13a",
    "last_executed_text": "plt.imshow(X_test_recons[18,:,:], cmap=plt.cm.binary)",
    "persistent_id": "e4d44cc6-cfa1-45a9-9716-1a4f401259f3"
   },
   "outputs": [
    {
     "data": {
      "text/plain": [
       "<matplotlib.image.AxesImage at 0x7f8918f7a510>"
      ]
     },
     "execution_count": 29,
     "metadata": {},
     "output_type": "execute_result"
    },
    {
     "data": {
      "image/png": "[encoded data removed]",
      "text/plain": [
       "<Figure size 432x288 with 1 Axes>"
      ]
     },
     "metadata": {
      "needs_background": "light"
     },
     "output_type": "display_data"
    }
   ],
   "source": [
    "plt.imshow(X_test_recons[18,:,:], cmap=plt.cm.binary)"
   ]
  },
  {
   "cell_type": "code",
   "execution_count": 30,
   "metadata": {
    "execution_event_id": "e317e737-8d9d-4d90-b44c-8810b2fa08dd",
    "last_executed_text": "automl",
    "persistent_id": "4b6558d4-83bf-41df-b8d4-a4b71934464c"
   },
   "outputs": [
    {
     "data": {
      "text/plain": [
       "AutoSklearnClassifier(delete_output_folder_after_terminate=True,\n",
       "                      delete_tmp_folder_after_terminate=True,\n",
       "                      disable_evaluator_output=False,\n",
       "                      ensemble_memory_limit=1024, ensemble_nbest=50,\n",
       "                      ensemble_size=50, exclude_estimators=None,\n",
       "                      exclude_preprocessors=None, get_smac_object_callback=None,\n",
       "                      include_estimators=None, include_preprocessors=None,\n",
       "                      initial_configurations_via_metalearning=25,\n",
       "                      logging_config=None, metadata_directory=None,\n",
       "                      ml_memory_limit=3072, n_jobs=None, output_folder=None,\n",
       "                      per_run_time_limit=360, resampling_strategy='holdout',\n",
       "                      resampling_strategy_arguments=None, seed=1,\n",
       "                      shared_mode=False, smac_scenario_args=None,\n",
       "                      time_left_for_this_task=3600, tmp_folder=None)"
      ]
     },
     "execution_count": 30,
     "metadata": {},
     "output_type": "execute_result"
    }
   ],
   "source": [
    "automl"
   ]
  },
  {
   "cell_type": "code",
   "execution_count": null,
   "metadata": {},
   "outputs": [],
   "source": []
  }
 ],
 "metadata": {
  "history": [
   {
    "cell": {
     "executionCount": 1,
     "executionEventId": "ce37a985-8b95-4867-9ba4-0ed1546d4d60",
     "hasError": false,
     "id": "7b27fb1c-1fda-4283-87d1-5b6ab1898284",
     "outputs": [
      {
       "name": "stderr",
       "output_type": "stream",
       "text": "/home/nicolasf/anaconda3/envs/ML/lib/python3.7/site-packages/pyparsing.py:3174: FutureWarning: Possible set intersection at position 3\n  self.re = re.compile(self.reString)\n"
      }
     ],
     "persistentId": "1a037022-dc9a-4482-b62b-a4a671de5285",
     "text": "import autosklearn.classification\n\nimport sklearn.model_selection\n\nimport sklearn.datasets\n\nimport sklearn.metrics"
    },
    "executionTime": "2020-01-10T01:26:47.203Z"
   },
   {
    "cell": {
     "executionCount": 2,
     "executionEventId": "d416e5d2-057d-431c-b404-25e7f52128a6",
     "hasError": false,
     "id": "f7b09b96-8bcb-4f2a-a3f7-fddfc8a7d804",
     "outputs": [],
     "persistentId": "fd295733-7753-447a-b876-b732b6a158dd",
     "text": "X, y = sklearn.datasets.load_digits(return_X_y=True)"
    },
    "executionTime": "2020-01-10T01:26:56.767Z"
   },
   {
    "cell": {
     "executionCount": 3,
     "executionEventId": "44102aab-3396-4ee4-af1b-bccedaa00d5e",
     "hasError": false,
     "id": "5f5fb1e5-cba6-4d30-b2f2-4ce038e3aa3d",
     "outputs": [],
     "persistentId": "85ef2f1c-1734-400c-a1ae-0009cfa503f5",
     "text": "X_train, X_test, y_train, y_test = \\\n        sklearn.model_selection.train_test_split(X, y, random_state=1)"
    },
    "executionTime": "2020-01-10T01:27:13.817Z"
   },
   {
    "cell": {
     "executionCount": 4,
     "executionEventId": "fbbdf0ce-4461-4027-acfa-0946a9575c9c",
     "hasError": false,
     "id": "20bd181e-3726-49f2-a6e3-fa7c3137bef9",
     "outputs": [],
     "persistentId": "5ebb027a-bd89-4244-aa27-8160d63a9e88",
     "text": "automl = autosklearn.classification.AutoSklearnClassifier()"
    },
    "executionTime": "2020-01-10T01:27:24.515Z"
   },
   {
    "cell": {
     "executionCount": 5,
     "executionEventId": "a3728c69-62b3-47d6-a3c1-aee1fe3705e1",
     "hasError": false,
     "id": "7b27fb1c-1fda-4283-87d1-5b6ab1898284",
     "outputs": [],
     "persistentId": "1a037022-dc9a-4482-b62b-a4a671de5285",
     "text": "import autosklearn.classification\n\nimport sklearn.model_selection\n\nimport sklearn.datasets\n\nimport sklearn.metrics"
    },
    "executionTime": "2020-01-10T01:27:38.208Z"
   },
   {
    "cell": {
     "executionCount": 6,
     "executionEventId": "b288d2c5-5278-48f1-a494-d32bf2420632",
     "hasError": false,
     "id": "f7b09b96-8bcb-4f2a-a3f7-fddfc8a7d804",
     "outputs": [],
     "persistentId": "fd295733-7753-447a-b876-b732b6a158dd",
     "text": "X, y = sklearn.datasets.load_digits(return_X_y=True)"
    },
    "executionTime": "2020-01-10T01:27:38.409Z"
   },
   {
    "cell": {
     "executionCount": 7,
     "executionEventId": "6d7a6fdc-2035-4e20-bb03-e650459b01be",
     "hasError": false,
     "id": "5f5fb1e5-cba6-4d30-b2f2-4ce038e3aa3d",
     "outputs": [],
     "persistentId": "85ef2f1c-1734-400c-a1ae-0009cfa503f5",
     "text": "X_train, X_test, y_train, y_test = \\\n        sklearn.model_selection.train_test_split(X, y, random_state=1)"
    },
    "executionTime": "2020-01-10T01:27:38.520Z"
   },
   {
    "cell": {
     "executionCount": 8,
     "executionEventId": "622da7e1-7839-435e-bbd0-505d07b0f33d",
     "hasError": false,
     "id": "20bd181e-3726-49f2-a6e3-fa7c3137bef9",
     "outputs": [],
     "persistentId": "5ebb027a-bd89-4244-aa27-8160d63a9e88",
     "text": "automl = autosklearn.classification.AutoSklearnClassifier()"
    },
    "executionTime": "2020-01-10T01:27:38.693Z"
   },
   {
    "cell": {
     "executionCount": 9,
     "executionEventId": "5778196b-e12d-4280-9b20-31ac8ba89f26",
     "hasError": false,
     "id": "e30e5ac3-3bb5-42ef-8b44-b6985c2525d0",
     "outputs": [
      {
       "name": "stdout",
       "output_type": "stream",
       "text": "[WARNING] [2020-01-10 14:27:39,037:EnsembleBuilder(1):d74860caaa557f473ce23908ff7ba369] No models better than random - using Dummy Score!\n[WARNING] [2020-01-10 14:27:39,041:EnsembleBuilder(1):d74860caaa557f473ce23908ff7ba369] No models better than random - using Dummy Score!\n"
      },
      {
       "data": {
        "text/plain": "AutoSklearnClassifier(delete_output_folder_after_terminate=True,\n                      delete_tmp_folder_after_terminate=True,\n                      disable_evaluator_output=False,\n                      ensemble_memory_limit=1024, ensemble_nbest=50,\n                      ensemble_size=50, exclude_estimators=None,\n                      exclude_preprocessors=None, get_smac_object_callback=None,\n                      include_estimators=None, include_preprocessors=None,\n                      initial_configurations_via_metalearning=25,\n                      logging_config=None, metadata_directory=None,\n                      ml_memory_limit=3072, n_jobs=None, output_folder=None,\n                      per_run_time_limit=360, resampling_strategy='holdout',\n                      resampling_strategy_arguments=None, seed=1,\n                      shared_mode=False, smac_scenario_args=None,\n                      time_left_for_this_task=3600, tmp_folder=None)"
       },
       "execution_count": 9,
       "metadata": {},
       "output_type": "execute_result"
      }
     ],
     "persistentId": "c26c0e67-dba8-4596-a13f-3ca4eda974eb",
     "text": "automl.fit(X_train, y_train)\n"
    },
    "executionTime": "2020-01-10T02:27:35.588Z"
   },
   {
    "cell": {
     "executionCount": 10,
     "executionEventId": "2ad2e4ac-e5bd-4c2f-a0f6-ef8bfdeac97a",
     "hasError": false,
     "id": "3153cde7-db78-4a35-b95c-f696294fb091",
     "outputs": [
      {
       "name": "stdout",
       "output_type": "stream",
       "text": "Accuracy score 0.9911111111111112\n"
      }
     ],
     "persistentId": "83dc387f-176e-49d6-888d-e27be2071948",
     "text": "y_hat = automl.predict(X_test)\n\nprint(\"Accuracy score\", sklearn.metrics.accuracy_score(y_test, y_hat))"
    },
    "executionTime": "2020-01-10T02:28:04.475Z"
   },
   {
    "cell": {
     "executionCount": 11,
     "executionEventId": "4f670993-c034-4ae5-aa2c-e082fe71e1a9",
     "hasError": false,
     "id": "8dbe244f-872b-42bb-91e1-d0b617acbf5c",
     "outputs": [
      {
       "name": "stdout",
       "output_type": "stream",
       "text": "/home/nicolasf/research/Smart_Ideas/code/models/classification/autoML\n"
      }
     ],
     "persistentId": "918038c0-456f-4b3d-8bea-01e21c765ed1",
     "text": "!pwd"
    },
    "executionTime": "2020-01-10T02:30:25.149Z"
   },
   {
    "cell": {
     "executionCount": 12,
     "executionEventId": "0d2cd1b0-f7f0-4915-b672-0f75fb388649",
     "hasError": false,
     "id": "505b5b3b-ec83-41e9-a03a-ddcfb2e7f1ed",
     "outputs": [
      {
       "data": {
        "text/plain": "array([1, 5, 0, 7, 1, 0, 6, 1, 5, 4, 9, 2, 7, 8, 4, 6, 9, 3, 7, 4, 7, 1,\n       8, 6, 0, 9, 6, 1, 3, 7, 5, 9, 8, 3, 2, 8, 8, 1, 1, 0, 7, 9, 0, 0,\n       8, 7, 2, 7, 4, 3, 4, 3, 4, 0, 4, 7, 0, 5, 5, 5, 2, 1, 7, 0, 5, 1,\n       8, 3, 3, 4, 0, 3, 7, 4, 3, 4, 2, 9, 7, 3, 2, 5, 3, 4, 1, 5, 5, 2,\n       5, 2, 2, 2, 2, 7, 0, 8, 1, 7, 4, 2, 3, 8, 2, 3, 3, 0, 2, 9, 5, 2,\n       3, 2, 8, 1, 1, 9, 1, 2, 0, 4, 8, 5, 4, 4, 7, 6, 7, 6, 6, 1, 7, 5,\n       6, 3, 8, 3, 7, 1, 8, 5, 3, 4, 7, 8, 5, 0, 6, 0, 6, 3, 7, 6, 5, 6,\n       2, 2, 2, 3, 0, 7, 6, 5, 6, 4, 1, 0, 6, 0, 6, 4, 0, 9, 3, 5, 1, 2,\n       3, 1, 9, 0, 7, 6, 2, 9, 3, 5, 3, 4, 6, 3, 3, 7, 4, 9, 2, 7, 6, 1,\n       6, 8, 4, 0, 3, 1, 0, 9, 9, 9, 0, 1, 8, 6, 8, 0, 9, 5, 9, 8, 2, 3,\n       5, 3, 0, 8, 7, 4, 0, 3, 3, 3, 6, 3, 3, 2, 9, 1, 6, 9, 0, 4, 2, 2,\n       7, 9, 1, 6, 7, 6, 3, 9, 1, 9, 3, 4, 0, 6, 4, 8, 5, 3, 6, 3, 1, 4,\n       0, 4, 4, 8, 7, 9, 1, 5, 2, 7, 0, 9, 0, 4, 4, 0, 1, 0, 6, 4, 2, 8,\n       5, 0, 2, 6, 0, 1, 8, 2, 0, 9, 5, 6, 2, 0, 5, 0, 9, 1, 4, 7, 1, 7,\n       0, 6, 6, 8, 0, 2, 2, 6, 9, 9, 7, 5, 1, 7, 6, 4, 6, 1, 9, 4, 7, 1,\n       3, 7, 8, 1, 6, 9, 8, 3, 2, 4, 8, 7, 5, 5, 6, 9, 9, 8, 5, 0, 0, 4,\n       9, 3, 0, 4, 9, 4, 2, 5, 4, 9, 6, 4, 2, 6, 0, 0, 5, 6, 7, 1, 9, 2,\n       5, 1, 5, 9, 8, 7, 7, 0, 6, 9, 3, 1, 9, 3, 9, 8, 7, 0, 2, 3, 9, 9,\n       2, 8, 1, 9, 3, 3, 0, 0, 7, 3, 8, 7, 9, 9, 7, 1, 0, 4, 5, 4, 1, 7,\n       3, 6, 5, 4, 9, 0, 5, 9, 1, 4, 5, 0, 4, 3, 4, 2, 3, 9, 0, 8, 7, 8,\n       6, 9, 4, 5, 7, 8, 3, 7, 8, 3])"
       },
       "execution_count": 12,
       "metadata": {},
       "output_type": "execute_result"
      }
     ],
     "persistentId": "4be8e0f6-0510-4fd8-8011-30f6fdbbd037",
     "text": "y_hat"
    },
    "executionTime": "2020-01-10T02:32:35.700Z"
   },
   {
    "cell": {
     "executionCount": 13,
     "executionEventId": "418caa18-bdaf-4dab-9ee5-9c6b3f525014",
     "hasError": false,
     "id": "505b5b3b-ec83-41e9-a03a-ddcfb2e7f1ed",
     "outputs": [
      {
       "data": {
        "text/plain": "(450,)"
       },
       "execution_count": 13,
       "metadata": {},
       "output_type": "execute_result"
      }
     ],
     "persistentId": "4be8e0f6-0510-4fd8-8011-30f6fdbbd037",
     "text": "y_hat.shape"
    },
    "executionTime": "2020-01-10T02:32:38.506Z"
   },
   {
    "cell": {
     "executionCount": 14,
     "executionEventId": "16698645-1b6d-4aed-9de5-bedea0f2ccf8",
     "hasError": false,
     "id": "48a39d33-c8d1-4294-a740-767ccf5cbbf2",
     "outputs": [
      {
       "data": {
        "text/plain": "(450,)"
       },
       "execution_count": 14,
       "metadata": {},
       "output_type": "execute_result"
      }
     ],
     "persistentId": "f8d8a5d2-0054-4c2b-ae1c-570f03379358",
     "text": "y_test.shape"
    },
    "executionTime": "2020-01-10T02:32:48.084Z"
   },
   {
    "cell": {
     "executionCount": 15,
     "executionEventId": "d67445e0-ad2c-4afe-87a6-c1ba8672f3f2",
     "hasError": false,
     "id": "df3e0665-e551-4d93-8942-b658d9f6fcd2",
     "outputs": [
      {
       "data": {
        "text/plain": "array([1, 5, 0, 7, 1, 0, 6, 1, 5, 4, 9, 2, 7, 8, 4, 6, 9, 3, 7, 4, 7, 1,\n       8, 6, 0, 9, 6, 1, 3, 7, 5, 9, 8, 3, 2, 8, 8, 1, 1, 0, 7, 9, 0, 0,\n       8, 7, 2, 7, 4, 3, 4, 3, 4, 0, 4, 7, 0, 5, 5, 5, 2, 1, 7, 0, 5, 1,\n       8, 3, 3, 4, 0, 3, 7, 4, 3, 4, 2, 9, 7, 3, 2, 5, 3, 4, 1, 5, 5, 2,\n       5, 2, 2, 2, 2, 7, 0, 8, 1, 7, 4, 2, 3, 8, 2, 3, 3, 0, 2, 9, 9, 2,\n       3, 2, 8, 1, 1, 9, 1, 2, 0, 4, 8, 5, 4, 4, 7, 6, 7, 6, 6, 1, 7, 5,\n       6, 3, 8, 3, 7, 1, 8, 5, 3, 4, 7, 8, 5, 0, 6, 0, 6, 3, 7, 6, 5, 6,\n       2, 2, 2, 3, 0, 7, 6, 5, 6, 4, 1, 0, 6, 0, 6, 4, 0, 9, 3, 8, 1, 2,\n       3, 1, 9, 0, 7, 6, 2, 9, 3, 5, 3, 4, 6, 3, 3, 7, 4, 9, 2, 7, 6, 1,\n       6, 8, 4, 0, 3, 1, 0, 9, 9, 9, 0, 1, 8, 6, 8, 0, 9, 5, 9, 8, 2, 3,\n       5, 3, 0, 8, 7, 4, 0, 3, 3, 3, 6, 3, 3, 2, 9, 1, 6, 9, 0, 4, 2, 2,\n       7, 9, 1, 6, 7, 6, 3, 7, 1, 9, 3, 4, 0, 6, 4, 8, 5, 3, 6, 3, 1, 4,\n       0, 4, 4, 8, 7, 9, 1, 5, 2, 7, 0, 9, 0, 4, 4, 0, 1, 0, 6, 4, 2, 8,\n       5, 0, 2, 6, 0, 1, 8, 2, 0, 9, 5, 6, 2, 0, 5, 0, 9, 1, 4, 7, 1, 7,\n       0, 6, 6, 8, 0, 2, 2, 6, 9, 9, 7, 5, 1, 7, 6, 4, 6, 1, 9, 4, 7, 1,\n       3, 7, 8, 1, 6, 9, 8, 3, 2, 4, 8, 7, 5, 5, 6, 9, 9, 8, 5, 0, 0, 4,\n       9, 3, 0, 4, 9, 4, 2, 5, 4, 9, 6, 4, 2, 6, 0, 0, 5, 6, 7, 1, 9, 2,\n       5, 1, 5, 9, 8, 7, 7, 0, 6, 9, 3, 1, 9, 3, 9, 8, 7, 0, 2, 3, 5, 9,\n       2, 8, 1, 9, 3, 3, 0, 0, 7, 3, 8, 7, 9, 9, 7, 1, 0, 4, 5, 4, 1, 7,\n       3, 6, 5, 4, 9, 0, 5, 9, 1, 4, 5, 0, 4, 3, 4, 2, 3, 9, 0, 8, 7, 8,\n       6, 9, 4, 5, 7, 8, 3, 7, 8, 3])"
       },
       "execution_count": 15,
       "metadata": {},
       "output_type": "execute_result"
      }
     ],
     "persistentId": "0948000c-b466-42a5-a283-692014e558f8",
     "text": "y_test"
    },
    "executionTime": "2020-01-10T02:32:59.627Z"
   },
   {
    "cell": {
     "executionCount": 16,
     "executionEventId": "f5c3da99-c512-4af4-aaf2-3b596775efc1",
     "hasError": false,
     "id": "df3e0665-e551-4d93-8942-b658d9f6fcd2",
     "outputs": [
      {
       "data": {
        "text/plain": "(450, 64)"
       },
       "execution_count": 16,
       "metadata": {},
       "output_type": "execute_result"
      }
     ],
     "persistentId": "0948000c-b466-42a5-a283-692014e558f8",
     "text": "X_test.shape"
    },
    "executionTime": "2020-01-10T02:38:27.403Z"
   },
   {
    "cell": {
     "executionCount": 17,
     "executionEventId": "69a93d7a-a504-46b4-afaa-c018fcb86d97",
     "hasError": false,
     "id": "8971db0f-abd9-4f9b-b221-ecd6353b7813",
     "outputs": [
      {
       "data": {
        "text/plain": "(1347, 64)"
       },
       "execution_count": 17,
       "metadata": {},
       "output_type": "execute_result"
      }
     ],
     "persistentId": "5f4b022c-b9b5-4bc0-8e68-950a12a459c8",
     "text": "X_train.shape"
    },
    "executionTime": "2020-01-10T02:38:31.759Z"
   },
   {
    "cell": {
     "executionCount": 18,
     "executionEventId": "dd0cd1d4-26ff-4fab-8742-1418cbb6a0e3",
     "hasError": true,
     "id": "0480f513-b72c-4407-a10a-ae7a7e494595",
     "outputs": [
      {
       "ename": "NameError",
       "evalue": "name 'sqrt' is not defined",
       "output_type": "error",
       "traceback": [
        "\u001b[0;31m---------------------------------------------------------------------------\u001b[0m",
        "\u001b[0;31mNameError\u001b[0m                                 Traceback (most recent call last)",
        "\u001b[0;32m<ipython-input-18-f1604fe136c2>\u001b[0m in \u001b[0;36m<module>\u001b[0;34m\u001b[0m\n\u001b[0;32m----> 1\u001b[0;31m \u001b[0msqrt\u001b[0m\u001b[0;34m(\u001b[0m\u001b[0;36m64\u001b[0m\u001b[0;34m)\u001b[0m\u001b[0;34m\u001b[0m\u001b[0;34m\u001b[0m\u001b[0m\n\u001b[0m",
        "\u001b[0;31mNameError\u001b[0m: name 'sqrt' is not defined"
       ]
      }
     ],
     "persistentId": "6533cac4-629d-41af-a183-89981181eea0",
     "text": "sqrt(64)"
    },
    "executionTime": "2020-01-10T02:39:49.677Z"
   },
   {
    "cell": {
     "executionCount": 19,
     "executionEventId": "fca7f5dd-82a7-4f1b-a7dd-4bbd29e3d81c",
     "hasError": true,
     "id": "0480f513-b72c-4407-a10a-ae7a7e494595",
     "outputs": [
      {
       "ename": "NameError",
       "evalue": "name 'np' is not defined",
       "output_type": "error",
       "traceback": [
        "\u001b[0;31m---------------------------------------------------------------------------\u001b[0m",
        "\u001b[0;31mNameError\u001b[0m                                 Traceback (most recent call last)",
        "\u001b[0;32m<ipython-input-19-518d50967095>\u001b[0m in \u001b[0;36m<module>\u001b[0;34m\u001b[0m\n\u001b[0;32m----> 1\u001b[0;31m \u001b[0mnp\u001b[0m\u001b[0;34m.\u001b[0m\u001b[0msqrt\u001b[0m\u001b[0;34m(\u001b[0m\u001b[0;36m64\u001b[0m\u001b[0;34m)\u001b[0m\u001b[0;34m\u001b[0m\u001b[0;34m\u001b[0m\u001b[0m\n\u001b[0m",
        "\u001b[0;31mNameError\u001b[0m: name 'np' is not defined"
       ]
      }
     ],
     "persistentId": "6533cac4-629d-41af-a183-89981181eea0",
     "text": "np.sqrt(64)"
    },
    "executionTime": "2020-01-10T02:39:54.319Z"
   },
   {
    "cell": {
     "executionCount": 20,
     "executionEventId": "3bcdd890-575b-4450-9dbc-cf0eaeb89d5f",
     "hasError": false,
     "id": "966c67ac-636d-481f-a77e-713eb47fecec",
     "outputs": [],
     "persistentId": "42560e5c-0d00-468b-9775-b8d1a747f4bc",
     "text": "import numpy as np"
    },
    "executionTime": "2020-01-10T02:40:01.968Z"
   },
   {
    "cell": {
     "executionCount": 21,
     "executionEventId": "e8d9ee11-7063-4ffd-8796-7f824ce9418a",
     "hasError": false,
     "id": "0480f513-b72c-4407-a10a-ae7a7e494595",
     "outputs": [
      {
       "data": {
        "text/plain": "8.0"
       },
       "execution_count": 21,
       "metadata": {},
       "output_type": "execute_result"
      }
     ],
     "persistentId": "6533cac4-629d-41af-a183-89981181eea0",
     "text": "np.sqrt(64)"
    },
    "executionTime": "2020-01-10T02:40:02.072Z"
   },
   {
    "cell": {
     "executionCount": 22,
     "executionEventId": "23a561ac-a1e0-432b-b0d6-8a8ca0e8e090",
     "hasError": false,
     "id": "4dac6cc5-60e9-4974-aa41-94a90531d569",
     "outputs": [],
     "persistentId": "8b3e65a6-3bab-4fca-bf15-19eaa8da5ac3",
     "text": "X_test_recons = X_test.reshape((X_test.shape[0],8,8))"
    },
    "executionTime": "2020-01-10T02:40:40.877Z"
   },
   {
    "cell": {
     "executionCount": 23,
     "executionEventId": "ff9d5fe6-c5e7-421d-8581-337cb8a4c290",
     "hasError": false,
     "id": "9f23e7d7-fcd5-4faa-8486-561553447ed1",
     "outputs": [],
     "persistentId": "0c7e8e9e-1ae2-4986-a8a0-2e56015128f3",
     "text": "%matplotlib inline"
    },
    "executionTime": "2020-01-10T02:41:19.722Z"
   },
   {
    "cell": {
     "executionCount": 24,
     "executionEventId": "0dc91c13-d5fb-442e-869c-00246a523fff",
     "hasError": false,
     "id": "e1caa974-865a-416f-8588-636cd0428d0b",
     "outputs": [],
     "persistentId": "9ffa0715-86cc-4f13-a0c0-c2a2fdd3b718",
     "text": "import matplotlib.pyplot as plt"
    },
    "executionTime": "2020-01-10T02:41:27.742Z"
   },
   {
    "cell": {
     "executionCount": 25,
     "executionEventId": "ab173d70-664a-4acd-a6e9-4b464b2772da",
     "hasError": false,
     "id": "74b978af-c22b-469b-b08e-850270818da2",
     "outputs": [
      {
       "data": {
        "text/plain": "<matplotlib.image.AxesImage at 0x7f891a86a950>"
       },
       "execution_count": 25,
       "metadata": {},
       "output_type": "execute_result"
      },
      {
       "data": {
        "image/png": "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\n",
        "text/plain": "<Figure size 432x288 with 1 Axes>"
       },
       "metadata": {
        "needs_background": "light"
       },
       "output_type": "display_data"
      }
     ],
     "persistentId": "e4d44cc6-cfa1-45a9-9716-1a4f401259f3",
     "text": "plt.imshow(X_test_recons[0,:,:])"
    },
    "executionTime": "2020-01-10T02:41:38.194Z"
   },
   {
    "cell": {
     "executionCount": 26,
     "executionEventId": "c20dcecd-1f87-4353-be9b-4e27a90dd836",
     "hasError": false,
     "id": "74b978af-c22b-469b-b08e-850270818da2",
     "outputs": [
      {
       "data": {
        "text/plain": "<matplotlib.image.AxesImage at 0x7f89198e1d90>"
       },
       "execution_count": 26,
       "metadata": {},
       "output_type": "execute_result"
      },
      {
       "data": {
        "image/png": "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\n",
        "text/plain": "<Figure size 432x288 with 1 Axes>"
       },
       "metadata": {
        "needs_background": "light"
       },
       "output_type": "display_data"
      }
     ],
     "persistentId": "e4d44cc6-cfa1-45a9-9716-1a4f401259f3",
     "text": "plt.imshow(X_test_recons[0,:,:], cmap=plt.cm.binary)"
    },
    "executionTime": "2020-01-10T02:41:49.162Z"
   },
   {
    "cell": {
     "executionCount": 27,
     "executionEventId": "ffa7513d-d2e8-41fa-adb4-61d36a6daec7",
     "hasError": false,
     "id": "74b978af-c22b-469b-b08e-850270818da2",
     "outputs": [
      {
       "data": {
        "text/plain": "<matplotlib.image.AxesImage at 0x7f8918f09390>"
       },
       "execution_count": 27,
       "metadata": {},
       "output_type": "execute_result"
      },
      {
       "data": {
        "image/png": "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\n",
        "text/plain": "<Figure size 432x288 with 1 Axes>"
       },
       "metadata": {
        "needs_background": "light"
       },
       "output_type": "display_data"
      }
     ],
     "persistentId": "e4d44cc6-cfa1-45a9-9716-1a4f401259f3",
     "text": "plt.imshow(X_test_recons[110,:,:], cmap=plt.cm.binary)"
    },
    "executionTime": "2020-01-10T02:41:53.997Z"
   },
   {
    "cell": {
     "executionCount": 28,
     "executionEventId": "c7613f75-a495-488a-a2db-791ca0914709",
     "hasError": false,
     "id": "74b978af-c22b-469b-b08e-850270818da2",
     "outputs": [
      {
       "data": {
        "text/plain": "<matplotlib.image.AxesImage at 0x7f8918f15390>"
       },
       "execution_count": 28,
       "metadata": {},
       "output_type": "execute_result"
      },
      {
       "data": {
        "image/png": "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\n",
        "text/plain": "<Figure size 432x288 with 1 Axes>"
       },
       "metadata": {
        "needs_background": "light"
       },
       "output_type": "display_data"
      }
     ],
     "persistentId": "e4d44cc6-cfa1-45a9-9716-1a4f401259f3",
     "text": "plt.imshow(X_test_recons[50,:,:], cmap=plt.cm.binary)"
    },
    "executionTime": "2020-01-10T02:42:01.575Z"
   },
   {
    "cell": {
     "executionCount": 29,
     "executionEventId": "731df684-3ccd-4be3-93db-17cf34c1a13a",
     "hasError": false,
     "id": "74b978af-c22b-469b-b08e-850270818da2",
     "outputs": [
      {
       "data": {
        "text/plain": "<matplotlib.image.AxesImage at 0x7f8918f7a510>"
       },
       "execution_count": 29,
       "metadata": {},
       "output_type": "execute_result"
      },
      {
       "data": {
        "image/png": "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\n",
        "text/plain": "<Figure size 432x288 with 1 Axes>"
       },
       "metadata": {
        "needs_background": "light"
       },
       "output_type": "display_data"
      }
     ],
     "persistentId": "e4d44cc6-cfa1-45a9-9716-1a4f401259f3",
     "text": "plt.imshow(X_test_recons[18,:,:], cmap=plt.cm.binary)"
    },
    "executionTime": "2020-01-10T02:42:06.004Z"
   },
   {
    "cell": {
     "executionCount": 30,
     "executionEventId": "e317e737-8d9d-4d90-b44c-8810b2fa08dd",
     "hasError": false,
     "id": "7b615b62-21ea-4a3d-8029-3d0cf0fcd6c3",
     "outputs": [
      {
       "data": {
        "text/plain": "AutoSklearnClassifier(delete_output_folder_after_terminate=True,\n                      delete_tmp_folder_after_terminate=True,\n                      disable_evaluator_output=False,\n                      ensemble_memory_limit=1024, ensemble_nbest=50,\n                      ensemble_size=50, exclude_estimators=None,\n                      exclude_preprocessors=None, get_smac_object_callback=None,\n                      include_estimators=None, include_preprocessors=None,\n                      initial_configurations_via_metalearning=25,\n                      logging_config=None, metadata_directory=None,\n                      ml_memory_limit=3072, n_jobs=None, output_folder=None,\n                      per_run_time_limit=360, resampling_strategy='holdout',\n                      resampling_strategy_arguments=None, seed=1,\n                      shared_mode=False, smac_scenario_args=None,\n                      time_left_for_this_task=3600, tmp_folder=None)"
       },
       "execution_count": 30,
       "metadata": {},
       "output_type": "execute_result"
      }
     ],
     "persistentId": "4b6558d4-83bf-41df-b8d4-a4b71934464c",
     "text": "automl"
    },
    "executionTime": "2020-01-10T02:45:11.636Z"
   }
  ],
  "kernelspec": {
   "display_name": "Python 3",
   "language": "python",
   "name": "python3"
  },
  "language_info": {
   "codemirror_mode": {
    "name": "ipython",
    "version": 3
   },
   "file_extension": ".py",
   "mimetype": "text/x-python",
   "name": "python",
   "nbconvert_exporter": "python",
   "pygments_lexer": "ipython3",
   "version": "3.7.5"
  },
  "uuid": "69328ce7-8269-4ae6-96ae-fae456f87378"
 },
 "nbformat": 4,
 "nbformat_minor": 4
}
